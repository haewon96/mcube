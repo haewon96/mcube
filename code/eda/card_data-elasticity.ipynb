{
 "cells": [
  {
   "cell_type": "code",
   "execution_count": 1,
   "metadata": {},
   "outputs": [],
   "source": [
    "import dateutil.relativedelta as relativedelta\n",
    "import dateutil.rrule as rrule\n",
    "import datetime\n",
    "\n",
    "import numpy as np\n",
    "import pandas as pd\n",
    "import pandas_profiling\n",
    "\n",
    "import matplotlib.pyplot as plt\n",
    "import seaborn as sns\n",
    "import plotly.express as px"
   ]
  },
  {
   "cell_type": "code",
   "execution_count": 2,
   "metadata": {},
   "outputs": [],
   "source": [
    "rs_card_data = pd.read_csv('../../data/bigcontest/02_카드매출데이터(신한카드)/CARD_SPENDING_RESIDENT/CARD_SPENDING_RESIDENT.txt', sep='\\t')\n",
    "fr_card_data = pd.read_csv('../../data/bigcontest/02_카드매출데이터(신한카드)/CARD_SPENDING_FOREIGNER/CARD_SPENDING_FOREIGNER.txt', sep='\\t', engine='python')"
   ]
  },
  {
   "cell_type": "code",
   "execution_count": 71,
   "metadata": {},
   "outputs": [],
   "source": [
    "covid_confirmed = pd.read_csv('../../data/covid19/covid19_confirmed.csv').drop('Unnamed: 0',axis=1)"
   ]
  },
  {
   "cell_type": "code",
   "execution_count": 72,
   "metadata": {},
   "outputs": [],
   "source": [
    "covid_confirmed['month'] = [int(str(cnt).split('.')[0]) for cnt in covid_confirmed.date]\n",
    "covid_confirmed['day'] = [int(str(cnt).split('.')[1]) for cnt in covid_confirmed.date]"
   ]
  },
  {
   "cell_type": "code",
   "execution_count": 73,
   "metadata": {},
   "outputs": [],
   "source": [
    "covid_confirmed = covid_confirmed.melt(id_vars=['date','month','day'],  var_name='city', value_name='covid19')"
   ]
  },
  {
   "cell_type": "code",
   "execution_count": 74,
   "metadata": {},
   "outputs": [
    {
     "data": {
      "text/html": [
       "<div>\n",
       "<style scoped>\n",
       "    .dataframe tbody tr th:only-of-type {\n",
       "        vertical-align: middle;\n",
       "    }\n",
       "\n",
       "    .dataframe tbody tr th {\n",
       "        vertical-align: top;\n",
       "    }\n",
       "\n",
       "    .dataframe thead th {\n",
       "        text-align: right;\n",
       "    }\n",
       "</style>\n",
       "<table border=\"1\" class=\"dataframe\">\n",
       "  <thead>\n",
       "    <tr style=\"text-align: right;\">\n",
       "      <th></th>\n",
       "      <th>date</th>\n",
       "      <th>month</th>\n",
       "      <th>day</th>\n",
       "      <th>city</th>\n",
       "      <th>covid19</th>\n",
       "    </tr>\n",
       "  </thead>\n",
       "  <tbody>\n",
       "    <tr>\n",
       "      <th>0</th>\n",
       "      <td>2.18</td>\n",
       "      <td>2</td>\n",
       "      <td>18</td>\n",
       "      <td>seoul</td>\n",
       "      <td>0</td>\n",
       "    </tr>\n",
       "    <tr>\n",
       "      <th>1</th>\n",
       "      <td>2.19</td>\n",
       "      <td>2</td>\n",
       "      <td>19</td>\n",
       "      <td>seoul</td>\n",
       "      <td>1</td>\n",
       "    </tr>\n",
       "    <tr>\n",
       "      <th>2</th>\n",
       "      <td>2.20</td>\n",
       "      <td>2</td>\n",
       "      <td>2</td>\n",
       "      <td>seoul</td>\n",
       "      <td>7</td>\n",
       "    </tr>\n",
       "    <tr>\n",
       "      <th>3</th>\n",
       "      <td>2.21</td>\n",
       "      <td>2</td>\n",
       "      <td>21</td>\n",
       "      <td>seoul</td>\n",
       "      <td>5</td>\n",
       "    </tr>\n",
       "    <tr>\n",
       "      <th>4</th>\n",
       "      <td>2.22</td>\n",
       "      <td>2</td>\n",
       "      <td>22</td>\n",
       "      <td>seoul</td>\n",
       "      <td>3</td>\n",
       "    </tr>\n",
       "  </tbody>\n",
       "</table>\n",
       "</div>"
      ],
      "text/plain": [
       "   date  month  day   city  covid19\n",
       "0  2.18      2   18  seoul        0\n",
       "1  2.19      2   19  seoul        1\n",
       "2  2.20      2    2  seoul        7\n",
       "3  2.21      2   21  seoul        5\n",
       "4  2.22      2   22  seoul        3"
      ]
     },
     "execution_count": 74,
     "metadata": {},
     "output_type": "execute_result"
    }
   ],
   "source": [
    "covid_confirmed.head()"
   ]
  },
  {
   "cell_type": "markdown",
   "metadata": {},
   "source": [
    "# 전처리\n",
    "## mct_cat_cd 한글로 변환"
   ]
  },
  {
   "cell_type": "code",
   "execution_count": 7,
   "metadata": {},
   "outputs": [],
   "source": [
    "mct_dict = { 10:'숙박', 20:'레저용품', 21:'레저업소', 22:'문화취미',\n",
    " 30:'가구', 31:'전기', 32:'주방용구', 33:'연료판매',\n",
    " 34:'광학제품', 35:'가전', 40:'유통업', 42:'의복',\n",
    " 43:'직물', 44:'신변잡화', 50:'서적문구', 52:'사무통신',\n",
    " 60:'자동차판매', 62:'자동차정비', 70:'의료기관', 71:'보건위생',\n",
    " 80:'요식업소', 81:'음료식품', 92:'수리서비스' }"
   ]
  },
  {
   "cell_type": "code",
   "execution_count": 8,
   "metadata": {},
   "outputs": [],
   "source": [
    "rs_card_data.MCT_CAT_CD = [mct_dict[cnt] for cnt in rs_card_data.MCT_CAT_CD]"
   ]
  },
  {
   "cell_type": "markdown",
   "metadata": {},
   "source": [
    "## x축"
   ]
  },
  {
   "cell_type": "code",
   "execution_count": 9,
   "metadata": {},
   "outputs": [],
   "source": [
    "# x tics\n",
    "year =2020\n",
    "before =datetime.datetime(year,1,1)\n",
    "after =datetime.datetime(year,12,31)\n",
    "rr = rrule.rrule(rrule.WEEKLY,byweekday=relativedelta.SU,dtstart=before)\n",
    "\n",
    "test = pd.DataFrame(rr.between(before,after,inc=True))  + datetime.timedelta(days=-13) # 월요일 기준\n",
    "\n",
    "test2 = list(map(lambda x : str(pd.to_datetime(x[0]).month)+'/'+ str(pd.to_datetime(x[0]).day)\n",
    "         , list(test.values)))"
   ]
  },
  {
   "cell_type": "markdown",
   "metadata": {},
   "source": [
    "## rs_card_data 시간 분할"
   ]
  },
  {
   "cell_type": "code",
   "execution_count": 10,
   "metadata": {},
   "outputs": [],
   "source": [
    "rs_card_data.STD_DD = pd.to_datetime(rs_card_data.STD_DD,format='%Y%m%d')\n",
    "\n",
    "rs_card_data.SEX_CD = rs_card_data.SEX_CD.astype('category')"
   ]
  },
  {
   "cell_type": "code",
   "execution_count": 11,
   "metadata": {},
   "outputs": [],
   "source": [
    "rs_card_data['year'] = rs_card_data.STD_DD.dt.year\n",
    "rs_card_data['month'] = rs_card_data.STD_DD.dt.month\n",
    "rs_card_data['day'] = rs_card_data.STD_DD.dt.day\n",
    "rs_card_data['week'] = rs_card_data.STD_DD.dt.weekofyear "
   ]
  },
  {
   "cell_type": "markdown",
   "metadata": {},
   "source": [
    "## 서울 대구 분리"
   ]
  },
  {
   "cell_type": "code",
   "execution_count": 12,
   "metadata": {},
   "outputs": [
    {
     "data": {
      "text/html": [
       "<div>\n",
       "<style scoped>\n",
       "    .dataframe tbody tr th:only-of-type {\n",
       "        vertical-align: middle;\n",
       "    }\n",
       "\n",
       "    .dataframe tbody tr th {\n",
       "        vertical-align: top;\n",
       "    }\n",
       "\n",
       "    .dataframe thead th {\n",
       "        text-align: right;\n",
       "    }\n",
       "</style>\n",
       "<table border=\"1\" class=\"dataframe\">\n",
       "  <thead>\n",
       "    <tr style=\"text-align: right;\">\n",
       "      <th></th>\n",
       "      <th>STD_DD</th>\n",
       "      <th>GU_CD</th>\n",
       "      <th>DONG_CD</th>\n",
       "      <th>MCT_CAT_CD</th>\n",
       "      <th>SEX_CD</th>\n",
       "      <th>AGE_CD</th>\n",
       "      <th>USE_CNT</th>\n",
       "      <th>USE_AMT</th>\n",
       "      <th>year</th>\n",
       "      <th>month</th>\n",
       "      <th>day</th>\n",
       "      <th>week</th>\n",
       "    </tr>\n",
       "  </thead>\n",
       "  <tbody>\n",
       "    <tr>\n",
       "      <th>0</th>\n",
       "      <td>2019-02-01</td>\n",
       "      <td>110</td>\n",
       "      <td>517</td>\n",
       "      <td>숙박</td>\n",
       "      <td>F</td>\n",
       "      <td>25</td>\n",
       "      <td>11</td>\n",
       "      <td>595</td>\n",
       "      <td>2019</td>\n",
       "      <td>2</td>\n",
       "      <td>1</td>\n",
       "      <td>5</td>\n",
       "    </tr>\n",
       "    <tr>\n",
       "      <th>1</th>\n",
       "      <td>2019-02-01</td>\n",
       "      <td>110</td>\n",
       "      <td>517</td>\n",
       "      <td>숙박</td>\n",
       "      <td>F</td>\n",
       "      <td>50</td>\n",
       "      <td>5</td>\n",
       "      <td>243</td>\n",
       "      <td>2019</td>\n",
       "      <td>2</td>\n",
       "      <td>1</td>\n",
       "      <td>5</td>\n",
       "    </tr>\n",
       "    <tr>\n",
       "      <th>2</th>\n",
       "      <td>2019-02-01</td>\n",
       "      <td>110</td>\n",
       "      <td>517</td>\n",
       "      <td>숙박</td>\n",
       "      <td>F</td>\n",
       "      <td>55</td>\n",
       "      <td>5</td>\n",
       "      <td>27</td>\n",
       "      <td>2019</td>\n",
       "      <td>2</td>\n",
       "      <td>1</td>\n",
       "      <td>5</td>\n",
       "    </tr>\n",
       "    <tr>\n",
       "      <th>3</th>\n",
       "      <td>2019-02-01</td>\n",
       "      <td>110</td>\n",
       "      <td>517</td>\n",
       "      <td>숙박</td>\n",
       "      <td>M</td>\n",
       "      <td>20</td>\n",
       "      <td>11</td>\n",
       "      <td>243</td>\n",
       "      <td>2019</td>\n",
       "      <td>2</td>\n",
       "      <td>1</td>\n",
       "      <td>5</td>\n",
       "    </tr>\n",
       "    <tr>\n",
       "      <th>4</th>\n",
       "      <td>2019-02-01</td>\n",
       "      <td>110</td>\n",
       "      <td>517</td>\n",
       "      <td>숙박</td>\n",
       "      <td>M</td>\n",
       "      <td>25</td>\n",
       "      <td>11</td>\n",
       "      <td>433</td>\n",
       "      <td>2019</td>\n",
       "      <td>2</td>\n",
       "      <td>1</td>\n",
       "      <td>5</td>\n",
       "    </tr>\n",
       "    <tr>\n",
       "      <th>...</th>\n",
       "      <td>...</td>\n",
       "      <td>...</td>\n",
       "      <td>...</td>\n",
       "      <td>...</td>\n",
       "      <td>...</td>\n",
       "      <td>...</td>\n",
       "      <td>...</td>\n",
       "      <td>...</td>\n",
       "      <td>...</td>\n",
       "      <td>...</td>\n",
       "      <td>...</td>\n",
       "      <td>...</td>\n",
       "    </tr>\n",
       "    <tr>\n",
       "      <th>2537748</th>\n",
       "      <td>2020-05-31</td>\n",
       "      <td>350</td>\n",
       "      <td>720</td>\n",
       "      <td>음료식품</td>\n",
       "      <td>M</td>\n",
       "      <td>45</td>\n",
       "      <td>19</td>\n",
       "      <td>127</td>\n",
       "      <td>2020</td>\n",
       "      <td>5</td>\n",
       "      <td>31</td>\n",
       "      <td>22</td>\n",
       "    </tr>\n",
       "    <tr>\n",
       "      <th>2537749</th>\n",
       "      <td>2020-05-31</td>\n",
       "      <td>350</td>\n",
       "      <td>720</td>\n",
       "      <td>음료식품</td>\n",
       "      <td>M</td>\n",
       "      <td>50</td>\n",
       "      <td>33</td>\n",
       "      <td>211</td>\n",
       "      <td>2020</td>\n",
       "      <td>5</td>\n",
       "      <td>31</td>\n",
       "      <td>22</td>\n",
       "    </tr>\n",
       "    <tr>\n",
       "      <th>2537750</th>\n",
       "      <td>2020-05-31</td>\n",
       "      <td>350</td>\n",
       "      <td>720</td>\n",
       "      <td>음료식품</td>\n",
       "      <td>M</td>\n",
       "      <td>55</td>\n",
       "      <td>9</td>\n",
       "      <td>61</td>\n",
       "      <td>2020</td>\n",
       "      <td>5</td>\n",
       "      <td>31</td>\n",
       "      <td>22</td>\n",
       "    </tr>\n",
       "    <tr>\n",
       "      <th>2537751</th>\n",
       "      <td>2020-05-31</td>\n",
       "      <td>350</td>\n",
       "      <td>720</td>\n",
       "      <td>음료식품</td>\n",
       "      <td>M</td>\n",
       "      <td>60</td>\n",
       "      <td>19</td>\n",
       "      <td>194</td>\n",
       "      <td>2020</td>\n",
       "      <td>5</td>\n",
       "      <td>31</td>\n",
       "      <td>22</td>\n",
       "    </tr>\n",
       "    <tr>\n",
       "      <th>2537752</th>\n",
       "      <td>2020-05-31</td>\n",
       "      <td>350</td>\n",
       "      <td>720</td>\n",
       "      <td>음료식품</td>\n",
       "      <td>M</td>\n",
       "      <td>65</td>\n",
       "      <td>5</td>\n",
       "      <td>29</td>\n",
       "      <td>2020</td>\n",
       "      <td>5</td>\n",
       "      <td>31</td>\n",
       "      <td>22</td>\n",
       "    </tr>\n",
       "  </tbody>\n",
       "</table>\n",
       "<p>2537753 rows × 12 columns</p>\n",
       "</div>"
      ],
      "text/plain": [
       "            STD_DD  GU_CD  DONG_CD MCT_CAT_CD SEX_CD  AGE_CD  USE_CNT  \\\n",
       "0       2019-02-01    110      517         숙박      F      25       11   \n",
       "1       2019-02-01    110      517         숙박      F      50        5   \n",
       "2       2019-02-01    110      517         숙박      F      55        5   \n",
       "3       2019-02-01    110      517         숙박      M      20       11   \n",
       "4       2019-02-01    110      517         숙박      M      25       11   \n",
       "...            ...    ...      ...        ...    ...     ...      ...   \n",
       "2537748 2020-05-31    350      720       음료식품      M      45       19   \n",
       "2537749 2020-05-31    350      720       음료식품      M      50       33   \n",
       "2537750 2020-05-31    350      720       음료식품      M      55        9   \n",
       "2537751 2020-05-31    350      720       음료식품      M      60       19   \n",
       "2537752 2020-05-31    350      720       음료식품      M      65        5   \n",
       "\n",
       "         USE_AMT  year  month  day  week  \n",
       "0            595  2019      2    1     5  \n",
       "1            243  2019      2    1     5  \n",
       "2             27  2019      2    1     5  \n",
       "3            243  2019      2    1     5  \n",
       "4            433  2019      2    1     5  \n",
       "...          ...   ...    ...  ...   ...  \n",
       "2537748      127  2020      5   31    22  \n",
       "2537749      211  2020      5   31    22  \n",
       "2537750       61  2020      5   31    22  \n",
       "2537751      194  2020      5   31    22  \n",
       "2537752       29  2020      5   31    22  \n",
       "\n",
       "[2537753 rows x 12 columns]"
      ]
     },
     "execution_count": 12,
     "metadata": {},
     "output_type": "execute_result"
    }
   ],
   "source": [
    "rs_card_data"
   ]
  },
  {
   "cell_type": "code",
   "execution_count": 13,
   "metadata": {},
   "outputs": [],
   "source": [
    "gu_dict = { 140:'seoul', 350:'seoul', 260:'daegu', 110:'daegu' }"
   ]
  },
  {
   "cell_type": "code",
   "execution_count": 14,
   "metadata": {},
   "outputs": [],
   "source": [
    "rs_card_data.GU_CD = [gu_dict[cnt] for cnt in rs_card_data.GU_CD]"
   ]
  },
  {
   "cell_type": "code",
   "execution_count": 15,
   "metadata": {},
   "outputs": [],
   "source": [
    "rs_card_data.columns = ['STD_DD', 'city', 'DONG_CD', 'MCT_CAT_CD', 'SEX_CD', 'AGE_CD',\n",
    "       'USE_CNT', 'USE_AMT', 'year', 'month', 'day', 'week']"
   ]
  },
  {
   "cell_type": "code",
   "execution_count": 16,
   "metadata": {},
   "outputs": [
    {
     "data": {
      "text/html": [
       "<div>\n",
       "<style scoped>\n",
       "    .dataframe tbody tr th:only-of-type {\n",
       "        vertical-align: middle;\n",
       "    }\n",
       "\n",
       "    .dataframe tbody tr th {\n",
       "        vertical-align: top;\n",
       "    }\n",
       "\n",
       "    .dataframe thead th {\n",
       "        text-align: right;\n",
       "    }\n",
       "</style>\n",
       "<table border=\"1\" class=\"dataframe\">\n",
       "  <thead>\n",
       "    <tr style=\"text-align: right;\">\n",
       "      <th></th>\n",
       "      <th>STD_DD</th>\n",
       "      <th>city</th>\n",
       "      <th>DONG_CD</th>\n",
       "      <th>MCT_CAT_CD</th>\n",
       "      <th>SEX_CD</th>\n",
       "      <th>AGE_CD</th>\n",
       "      <th>USE_CNT</th>\n",
       "      <th>USE_AMT</th>\n",
       "      <th>year</th>\n",
       "      <th>month</th>\n",
       "      <th>day</th>\n",
       "      <th>week</th>\n",
       "    </tr>\n",
       "  </thead>\n",
       "  <tbody>\n",
       "    <tr>\n",
       "      <th>0</th>\n",
       "      <td>2019-02-01</td>\n",
       "      <td>daegu</td>\n",
       "      <td>517</td>\n",
       "      <td>숙박</td>\n",
       "      <td>F</td>\n",
       "      <td>25</td>\n",
       "      <td>11</td>\n",
       "      <td>595</td>\n",
       "      <td>2019</td>\n",
       "      <td>2</td>\n",
       "      <td>1</td>\n",
       "      <td>5</td>\n",
       "    </tr>\n",
       "    <tr>\n",
       "      <th>1</th>\n",
       "      <td>2019-02-01</td>\n",
       "      <td>daegu</td>\n",
       "      <td>517</td>\n",
       "      <td>숙박</td>\n",
       "      <td>F</td>\n",
       "      <td>50</td>\n",
       "      <td>5</td>\n",
       "      <td>243</td>\n",
       "      <td>2019</td>\n",
       "      <td>2</td>\n",
       "      <td>1</td>\n",
       "      <td>5</td>\n",
       "    </tr>\n",
       "    <tr>\n",
       "      <th>2</th>\n",
       "      <td>2019-02-01</td>\n",
       "      <td>daegu</td>\n",
       "      <td>517</td>\n",
       "      <td>숙박</td>\n",
       "      <td>F</td>\n",
       "      <td>55</td>\n",
       "      <td>5</td>\n",
       "      <td>27</td>\n",
       "      <td>2019</td>\n",
       "      <td>2</td>\n",
       "      <td>1</td>\n",
       "      <td>5</td>\n",
       "    </tr>\n",
       "    <tr>\n",
       "      <th>3</th>\n",
       "      <td>2019-02-01</td>\n",
       "      <td>daegu</td>\n",
       "      <td>517</td>\n",
       "      <td>숙박</td>\n",
       "      <td>M</td>\n",
       "      <td>20</td>\n",
       "      <td>11</td>\n",
       "      <td>243</td>\n",
       "      <td>2019</td>\n",
       "      <td>2</td>\n",
       "      <td>1</td>\n",
       "      <td>5</td>\n",
       "    </tr>\n",
       "    <tr>\n",
       "      <th>4</th>\n",
       "      <td>2019-02-01</td>\n",
       "      <td>daegu</td>\n",
       "      <td>517</td>\n",
       "      <td>숙박</td>\n",
       "      <td>M</td>\n",
       "      <td>25</td>\n",
       "      <td>11</td>\n",
       "      <td>433</td>\n",
       "      <td>2019</td>\n",
       "      <td>2</td>\n",
       "      <td>1</td>\n",
       "      <td>5</td>\n",
       "    </tr>\n",
       "  </tbody>\n",
       "</table>\n",
       "</div>"
      ],
      "text/plain": [
       "      STD_DD   city  DONG_CD MCT_CAT_CD SEX_CD  AGE_CD  USE_CNT  USE_AMT  \\\n",
       "0 2019-02-01  daegu      517         숙박      F      25       11      595   \n",
       "1 2019-02-01  daegu      517         숙박      F      50        5      243   \n",
       "2 2019-02-01  daegu      517         숙박      F      55        5       27   \n",
       "3 2019-02-01  daegu      517         숙박      M      20       11      243   \n",
       "4 2019-02-01  daegu      517         숙박      M      25       11      433   \n",
       "\n",
       "   year  month  day  week  \n",
       "0  2019      2    1     5  \n",
       "1  2019      2    1     5  \n",
       "2  2019      2    1     5  \n",
       "3  2019      2    1     5  \n",
       "4  2019      2    1     5  "
      ]
     },
     "execution_count": 16,
     "metadata": {},
     "output_type": "execute_result"
    }
   ],
   "source": [
    "rs_card_data.head()"
   ]
  },
  {
   "cell_type": "markdown",
   "metadata": {},
   "source": [
    "# 시작"
   ]
  },
  {
   "cell_type": "code",
   "execution_count": 82,
   "metadata": {},
   "outputs": [],
   "source": [
    "table = rs_card_data.pivot_table(values=['USE_CNT', 'USE_AMT'],\n",
    "                                 index=['month', 'day', 'week',\n",
    "                                        'MCT_CAT_CD', 'city', 'year'],\n",
    "                                 aggfunc='sum').reset_index()"
   ]
  },
  {
   "cell_type": "code",
   "execution_count": 83,
   "metadata": {
    "scrolled": true
   },
   "outputs": [],
   "source": [
    "covid_table = pd.merge(table, covid_confirmed,on=['month','day', 'city'], how='left').fillna('0')"
   ]
  },
  {
   "cell_type": "code",
   "execution_count": 141,
   "metadata": {},
   "outputs": [],
   "source": [
    "covid_table['covid19'] = covid_table['covid19'].astype('int')"
   ]
  },
  {
   "cell_type": "code",
   "execution_count": 142,
   "metadata": {},
   "outputs": [],
   "source": [
    "covid_table2020 = covid_table[covid_table['year']==2020].drop('year',axis=1)"
   ]
  },
  {
   "cell_type": "code",
   "execution_count": 143,
   "metadata": {},
   "outputs": [],
   "source": [
    "seoul_covid_table2020 = covid_table2020[covid_table2020['city']=='seoul'].drop('city',axis=1)\n",
    "daegu_covid_table2020 = covid_table2020[covid_table2020['city']=='daegu'].drop('city',axis=1)"
   ]
  },
  {
   "cell_type": "code",
   "execution_count": 146,
   "metadata": {
    "scrolled": true
   },
   "outputs": [
    {
     "data": {
      "text/html": [
       "<div>\n",
       "<style scoped>\n",
       "    .dataframe tbody tr th:only-of-type {\n",
       "        vertical-align: middle;\n",
       "    }\n",
       "\n",
       "    .dataframe tbody tr th {\n",
       "        vertical-align: top;\n",
       "    }\n",
       "\n",
       "    .dataframe thead th {\n",
       "        text-align: right;\n",
       "    }\n",
       "</style>\n",
       "<table border=\"1\" class=\"dataframe\">\n",
       "  <thead>\n",
       "    <tr style=\"text-align: right;\">\n",
       "      <th></th>\n",
       "      <th>week</th>\n",
       "      <th>MCT_CAT_CD</th>\n",
       "      <th>USE_AMT</th>\n",
       "      <th>covid19</th>\n",
       "    </tr>\n",
       "  </thead>\n",
       "  <tbody>\n",
       "    <tr>\n",
       "      <th>0</th>\n",
       "      <td>5</td>\n",
       "      <td>가구</td>\n",
       "      <td>123278</td>\n",
       "      <td>7</td>\n",
       "    </tr>\n",
       "    <tr>\n",
       "      <th>1</th>\n",
       "      <td>5</td>\n",
       "      <td>가전</td>\n",
       "      <td>447355</td>\n",
       "      <td>7</td>\n",
       "    </tr>\n",
       "    <tr>\n",
       "      <th>2</th>\n",
       "      <td>5</td>\n",
       "      <td>광학제품</td>\n",
       "      <td>60630</td>\n",
       "      <td>7</td>\n",
       "    </tr>\n",
       "    <tr>\n",
       "      <th>3</th>\n",
       "      <td>5</td>\n",
       "      <td>레저업소</td>\n",
       "      <td>596608</td>\n",
       "      <td>7</td>\n",
       "    </tr>\n",
       "    <tr>\n",
       "      <th>4</th>\n",
       "      <td>5</td>\n",
       "      <td>레저용품</td>\n",
       "      <td>1385754</td>\n",
       "      <td>7</td>\n",
       "    </tr>\n",
       "    <tr>\n",
       "      <th>...</th>\n",
       "      <td>...</td>\n",
       "      <td>...</td>\n",
       "      <td>...</td>\n",
       "      <td>...</td>\n",
       "    </tr>\n",
       "    <tr>\n",
       "      <th>409</th>\n",
       "      <td>22</td>\n",
       "      <td>자동차정비</td>\n",
       "      <td>1366926</td>\n",
       "      <td>84</td>\n",
       "    </tr>\n",
       "    <tr>\n",
       "      <th>410</th>\n",
       "      <td>22</td>\n",
       "      <td>자동차판매</td>\n",
       "      <td>177114</td>\n",
       "      <td>84</td>\n",
       "    </tr>\n",
       "    <tr>\n",
       "      <th>411</th>\n",
       "      <td>22</td>\n",
       "      <td>전기</td>\n",
       "      <td>36289</td>\n",
       "      <td>84</td>\n",
       "    </tr>\n",
       "    <tr>\n",
       "      <th>412</th>\n",
       "      <td>22</td>\n",
       "      <td>주방용구</td>\n",
       "      <td>698136</td>\n",
       "      <td>84</td>\n",
       "    </tr>\n",
       "    <tr>\n",
       "      <th>413</th>\n",
       "      <td>22</td>\n",
       "      <td>직물</td>\n",
       "      <td>541113</td>\n",
       "      <td>84</td>\n",
       "    </tr>\n",
       "  </tbody>\n",
       "</table>\n",
       "<p>414 rows × 4 columns</p>\n",
       "</div>"
      ],
      "text/plain": [
       "     week MCT_CAT_CD  USE_AMT  covid19\n",
       "0       5         가구   123278        7\n",
       "1       5         가전   447355        7\n",
       "2       5       광학제품    60630        7\n",
       "3       5       레저업소   596608        7\n",
       "4       5       레저용품  1385754        7\n",
       "..    ...        ...      ...      ...\n",
       "409    22      자동차정비  1366926       84\n",
       "410    22      자동차판매   177114       84\n",
       "411    22         전기    36289       84\n",
       "412    22       주방용구   698136       84\n",
       "413    22         직물   541113       84\n",
       "\n",
       "[414 rows x 4 columns]"
      ]
     },
     "execution_count": 146,
     "metadata": {},
     "output_type": "execute_result"
    }
   ],
   "source": [
    "seoul_covid_table2020.pivot_table(values=['covid19','USE_AMT'],\n",
    "                         index=['week', 'MCT_CAT_CD'],\n",
    "                         aggfunc='sum').reset_index()"
   ]
  },
  {
   "cell_type": "code",
   "execution_count": 187,
   "metadata": {},
   "outputs": [],
   "source": [
    "def elastic(data, week):\n",
    "    data = data.set_index('MCT_CAT_CD')\n",
    "    last_week = data[data['week']==week-1][['week','USE_AMT','covid19']]\n",
    "    this_week = data[data['week']==week][['week','USE_AMT','covid19']]\n",
    "    return ( (this_week.USE_AMT - last_week.USE_AMT)/ last_week.USE_AMT ) / ( (this_week.covid19 - last_week.covid19)/ last_week.covid19 )"
   ]
  },
  {
   "cell_type": "code",
   "execution_count": 198,
   "metadata": {},
   "outputs": [],
   "source": [
    "data = seoul_covid_table2020\n",
    "week = 11\n",
    "\n"
   ]
  },
  {
   "cell_type": "code",
   "execution_count": 199,
   "metadata": {},
   "outputs": [],
   "source": [
    "data = data.set_index('MCT_CAT_CD')\n",
    "last_week = data[data['week']==week-1][['week','USE_AMT','covid19']].drop_duplicates()\n",
    "this_week = data[data['week']==week][['week','USE_AMT','covid19']].drop_duplicates()"
   ]
  },
  {
   "cell_type": "code",
   "execution_count": 203,
   "metadata": {},
   "outputs": [
    {
     "data": {
      "text/html": [
       "<div>\n",
       "<style scoped>\n",
       "    .dataframe tbody tr th:only-of-type {\n",
       "        vertical-align: middle;\n",
       "    }\n",
       "\n",
       "    .dataframe tbody tr th {\n",
       "        vertical-align: top;\n",
       "    }\n",
       "\n",
       "    .dataframe thead th {\n",
       "        text-align: right;\n",
       "    }\n",
       "</style>\n",
       "<table border=\"1\" class=\"dataframe\">\n",
       "  <thead>\n",
       "    <tr style=\"text-align: right;\">\n",
       "      <th></th>\n",
       "      <th>week</th>\n",
       "      <th>USE_AMT</th>\n",
       "      <th>covid19</th>\n",
       "    </tr>\n",
       "    <tr>\n",
       "      <th>MCT_CAT_CD</th>\n",
       "      <th></th>\n",
       "      <th></th>\n",
       "      <th></th>\n",
       "    </tr>\n",
       "  </thead>\n",
       "  <tbody>\n",
       "    <tr>\n",
       "      <th>가구</th>\n",
       "      <td>11</td>\n",
       "      <td>63286</td>\n",
       "      <td>10</td>\n",
       "    </tr>\n",
       "    <tr>\n",
       "      <th>가전</th>\n",
       "      <td>11</td>\n",
       "      <td>165605</td>\n",
       "      <td>10</td>\n",
       "    </tr>\n",
       "    <tr>\n",
       "      <th>광학제품</th>\n",
       "      <td>11</td>\n",
       "      <td>30488</td>\n",
       "      <td>10</td>\n",
       "    </tr>\n",
       "    <tr>\n",
       "      <th>레저업소</th>\n",
       "      <td>11</td>\n",
       "      <td>217882</td>\n",
       "      <td>10</td>\n",
       "    </tr>\n",
       "    <tr>\n",
       "      <th>레저용품</th>\n",
       "      <td>11</td>\n",
       "      <td>332676</td>\n",
       "      <td>10</td>\n",
       "    </tr>\n",
       "    <tr>\n",
       "      <th>...</th>\n",
       "      <td>...</td>\n",
       "      <td>...</td>\n",
       "      <td>...</td>\n",
       "    </tr>\n",
       "    <tr>\n",
       "      <th>의복</th>\n",
       "      <td>11</td>\n",
       "      <td>145505</td>\n",
       "      <td>9</td>\n",
       "    </tr>\n",
       "    <tr>\n",
       "      <th>자동차정비</th>\n",
       "      <td>11</td>\n",
       "      <td>28033</td>\n",
       "      <td>9</td>\n",
       "    </tr>\n",
       "    <tr>\n",
       "      <th>자동차판매</th>\n",
       "      <td>11</td>\n",
       "      <td>6901</td>\n",
       "      <td>9</td>\n",
       "    </tr>\n",
       "    <tr>\n",
       "      <th>주방용구</th>\n",
       "      <td>11</td>\n",
       "      <td>13997</td>\n",
       "      <td>9</td>\n",
       "    </tr>\n",
       "    <tr>\n",
       "      <th>직물</th>\n",
       "      <td>11</td>\n",
       "      <td>9044</td>\n",
       "      <td>9</td>\n",
       "    </tr>\n",
       "  </tbody>\n",
       "</table>\n",
       "<p>160 rows × 3 columns</p>\n",
       "</div>"
      ],
      "text/plain": [
       "            week  USE_AMT  covid19\n",
       "MCT_CAT_CD                        \n",
       "가구            11    63286       10\n",
       "가전            11   165605       10\n",
       "광학제품          11    30488       10\n",
       "레저업소          11   217882       10\n",
       "레저용품          11   332676       10\n",
       "...          ...      ...      ...\n",
       "의복            11   145505        9\n",
       "자동차정비         11    28033        9\n",
       "자동차판매         11     6901        9\n",
       "주방용구          11    13997        9\n",
       "직물            11     9044        9\n",
       "\n",
       "[160 rows x 3 columns]"
      ]
     },
     "execution_count": 203,
     "metadata": {},
     "output_type": "execute_result"
    }
   ],
   "source": [
    "this_week"
   ]
  },
  {
   "cell_type": "code",
   "execution_count": 204,
   "metadata": {},
   "outputs": [
    {
     "data": {
      "text/html": [
       "<div>\n",
       "<style scoped>\n",
       "    .dataframe tbody tr th:only-of-type {\n",
       "        vertical-align: middle;\n",
       "    }\n",
       "\n",
       "    .dataframe tbody tr th {\n",
       "        vertical-align: top;\n",
       "    }\n",
       "\n",
       "    .dataframe thead th {\n",
       "        text-align: right;\n",
       "    }\n",
       "</style>\n",
       "<table border=\"1\" class=\"dataframe\">\n",
       "  <thead>\n",
       "    <tr style=\"text-align: right;\">\n",
       "      <th></th>\n",
       "      <th>week</th>\n",
       "      <th>USE_AMT</th>\n",
       "      <th>covid19</th>\n",
       "    </tr>\n",
       "    <tr>\n",
       "      <th>MCT_CAT_CD</th>\n",
       "      <th></th>\n",
       "      <th></th>\n",
       "      <th></th>\n",
       "    </tr>\n",
       "  </thead>\n",
       "  <tbody>\n",
       "    <tr>\n",
       "      <th>가구</th>\n",
       "      <td>10</td>\n",
       "      <td>40496</td>\n",
       "      <td>4</td>\n",
       "    </tr>\n",
       "    <tr>\n",
       "      <th>가구</th>\n",
       "      <td>10</td>\n",
       "      <td>40496</td>\n",
       "      <td>17</td>\n",
       "    </tr>\n",
       "    <tr>\n",
       "      <th>가전</th>\n",
       "      <td>10</td>\n",
       "      <td>262791</td>\n",
       "      <td>4</td>\n",
       "    </tr>\n",
       "    <tr>\n",
       "      <th>가전</th>\n",
       "      <td>10</td>\n",
       "      <td>262791</td>\n",
       "      <td>17</td>\n",
       "    </tr>\n",
       "    <tr>\n",
       "      <th>광학제품</th>\n",
       "      <td>10</td>\n",
       "      <td>62269</td>\n",
       "      <td>4</td>\n",
       "    </tr>\n",
       "    <tr>\n",
       "      <th>...</th>\n",
       "      <td>...</td>\n",
       "      <td>...</td>\n",
       "      <td>...</td>\n",
       "    </tr>\n",
       "    <tr>\n",
       "      <th>자동차정비</th>\n",
       "      <td>10</td>\n",
       "      <td>33967</td>\n",
       "      <td>12</td>\n",
       "    </tr>\n",
       "    <tr>\n",
       "      <th>자동차판매</th>\n",
       "      <td>10</td>\n",
       "      <td>16571</td>\n",
       "      <td>12</td>\n",
       "    </tr>\n",
       "    <tr>\n",
       "      <th>전기</th>\n",
       "      <td>10</td>\n",
       "      <td>4540</td>\n",
       "      <td>12</td>\n",
       "    </tr>\n",
       "    <tr>\n",
       "      <th>주방용구</th>\n",
       "      <td>10</td>\n",
       "      <td>18754</td>\n",
       "      <td>12</td>\n",
       "    </tr>\n",
       "    <tr>\n",
       "      <th>직물</th>\n",
       "      <td>10</td>\n",
       "      <td>4426</td>\n",
       "      <td>12</td>\n",
       "    </tr>\n",
       "  </tbody>\n",
       "</table>\n",
       "<p>207 rows × 3 columns</p>\n",
       "</div>"
      ],
      "text/plain": [
       "            week  USE_AMT  covid19\n",
       "MCT_CAT_CD                        \n",
       "가구            10    40496        4\n",
       "가구            10    40496       17\n",
       "가전            10   262791        4\n",
       "가전            10   262791       17\n",
       "광학제품          10    62269        4\n",
       "...          ...      ...      ...\n",
       "자동차정비         10    33967       12\n",
       "자동차판매         10    16571       12\n",
       "전기            10     4540       12\n",
       "주방용구          10    18754       12\n",
       "직물            10     4426       12\n",
       "\n",
       "[207 rows x 3 columns]"
      ]
     },
     "execution_count": 204,
     "metadata": {},
     "output_type": "execute_result"
    }
   ],
   "source": [
    "last_week"
   ]
  },
  {
   "cell_type": "code",
   "execution_count": 201,
   "metadata": {},
   "outputs": [
    {
     "data": {
      "text/plain": [
       "MCT_CAT_CD\n",
       "가구    22790\n",
       "가구    22790\n",
       "가구    46266\n",
       "가구    46266\n",
       "가구    39420\n",
       "      ...  \n",
       "직물    -9473\n",
       "직물   -24731\n",
       "직물   -21188\n",
       "직물   -12138\n",
       "직물     4618\n",
       "Name: USE_AMT, Length: 1440, dtype: int64"
      ]
     },
     "execution_count": 201,
     "metadata": {},
     "output_type": "execute_result"
    }
   ],
   "source": [
    "this_week.USE_AMT - last_week.USE_AMT"
   ]
  },
  {
   "cell_type": "code",
   "execution_count": 200,
   "metadata": {},
   "outputs": [
    {
     "data": {
      "text/plain": [
       "MCT_CAT_CD\n",
       "가구    0.375181\n",
       "가구    1.594520\n",
       "가구    1.562182\n",
       "가구    3.570701\n",
       "가구    0.159152\n",
       "        ...   \n",
       "직물   -0.083131\n",
       "직물   -0.182304\n",
       "직물   -0.101835\n",
       "직물   -0.218015\n",
       "직물   -4.173520\n",
       "Length: 12960, dtype: float64"
      ]
     },
     "execution_count": 200,
     "metadata": {},
     "output_type": "execute_result"
    }
   ],
   "source": [
    "((this_week.USE_AMT - last_week.USE_AMT)/ last_week.USE_AMT ) / ( (this_week.covid19 - last_week.covid19)/ last_week.covid19 )"
   ]
  },
  {
   "cell_type": "code",
   "execution_count": 197,
   "metadata": {},
   "outputs": [
    {
     "data": {
      "text/plain": [
       "MCT_CAT_CD\n",
       "가구        40496\n",
       "가구        40496\n",
       "가전       262791\n",
       "가전       262791\n",
       "광학제품      62269\n",
       "          ...  \n",
       "자동차정비     33967\n",
       "자동차판매     16571\n",
       "전기         4540\n",
       "주방용구      18754\n",
       "직물         4426\n",
       "Name: USE_AMT, Length: 207, dtype: int64"
      ]
     },
     "execution_count": 197,
     "metadata": {},
     "output_type": "execute_result"
    }
   ],
   "source": [
    "last_week.USE_AMT"
   ]
  },
  {
   "cell_type": "code",
   "execution_count": 188,
   "metadata": {},
   "outputs": [
    {
     "data": {
      "text/plain": [
       "MCT_CAT_CD\n",
       "가구    0.375181\n",
       "가구    1.594520\n",
       "가구    1.562182\n",
       "가구    3.570701\n",
       "가구    0.159152\n",
       "        ...   \n",
       "직물   -0.083131\n",
       "직물   -0.182304\n",
       "직물   -0.101835\n",
       "직물   -0.218015\n",
       "직물   -4.173520\n",
       "Length: 12960, dtype: float64"
      ]
     },
     "execution_count": 188,
     "metadata": {},
     "output_type": "execute_result"
    }
   ],
   "source": [
    "elastic(data=seoul_covid_table2020, week=11)"
   ]
  },
  {
   "cell_type": "code",
   "execution_count": 184,
   "metadata": {
    "scrolled": true
   },
   "outputs": [],
   "source": []
  },
  {
   "cell_type": "code",
   "execution_count": 185,
   "metadata": {},
   "outputs": [],
   "source": []
  },
  {
   "cell_type": "code",
   "execution_count": 186,
   "metadata": {},
   "outputs": [
    {
     "data": {
      "text/plain": [
       "MCT_CAT_CD\n",
       "가구    0.375181\n",
       "가구    1.594520\n",
       "가구    1.562182\n",
       "가구    3.570701\n",
       "가구    0.159152\n",
       "        ...   \n",
       "직물   -0.083131\n",
       "직물   -0.182304\n",
       "직물   -0.101835\n",
       "직물   -0.218015\n",
       "직물   -4.173520\n",
       "Length: 12960, dtype: float64"
      ]
     },
     "execution_count": 186,
     "metadata": {},
     "output_type": "execute_result"
    }
   ],
   "source": []
  },
  {
   "cell_type": "code",
   "execution_count": 176,
   "metadata": {},
   "outputs": [
    {
     "data": {
      "text/html": [
       "<div>\n",
       "<style scoped>\n",
       "    .dataframe tbody tr th:only-of-type {\n",
       "        vertical-align: middle;\n",
       "    }\n",
       "\n",
       "    .dataframe tbody tr th {\n",
       "        vertical-align: top;\n",
       "    }\n",
       "\n",
       "    .dataframe thead th {\n",
       "        text-align: right;\n",
       "    }\n",
       "</style>\n",
       "<table border=\"1\" class=\"dataframe\">\n",
       "  <thead>\n",
       "    <tr style=\"text-align: right;\">\n",
       "      <th></th>\n",
       "      <th>week</th>\n",
       "      <th>USE_AMT</th>\n",
       "      <th>covid19</th>\n",
       "    </tr>\n",
       "    <tr>\n",
       "      <th>MCT_CAT_CD</th>\n",
       "      <th></th>\n",
       "      <th></th>\n",
       "      <th></th>\n",
       "    </tr>\n",
       "  </thead>\n",
       "  <tbody>\n",
       "    <tr>\n",
       "      <th>가구</th>\n",
       "      <td>7</td>\n",
       "      <td>27442</td>\n",
       "      <td>0</td>\n",
       "    </tr>\n",
       "    <tr>\n",
       "      <th>가전</th>\n",
       "      <td>7</td>\n",
       "      <td>132893</td>\n",
       "      <td>0</td>\n",
       "    </tr>\n",
       "    <tr>\n",
       "      <th>광학제품</th>\n",
       "      <td>7</td>\n",
       "      <td>29119</td>\n",
       "      <td>0</td>\n",
       "    </tr>\n",
       "    <tr>\n",
       "      <th>레저업소</th>\n",
       "      <td>7</td>\n",
       "      <td>344975</td>\n",
       "      <td>0</td>\n",
       "    </tr>\n",
       "    <tr>\n",
       "      <th>레저용품</th>\n",
       "      <td>7</td>\n",
       "      <td>451269</td>\n",
       "      <td>0</td>\n",
       "    </tr>\n",
       "    <tr>\n",
       "      <th>...</th>\n",
       "      <td>...</td>\n",
       "      <td>...</td>\n",
       "      <td>...</td>\n",
       "    </tr>\n",
       "    <tr>\n",
       "      <th>자동차정비</th>\n",
       "      <td>7</td>\n",
       "      <td>31520</td>\n",
       "      <td>0</td>\n",
       "    </tr>\n",
       "    <tr>\n",
       "      <th>자동차판매</th>\n",
       "      <td>7</td>\n",
       "      <td>12774</td>\n",
       "      <td>0</td>\n",
       "    </tr>\n",
       "    <tr>\n",
       "      <th>전기</th>\n",
       "      <td>7</td>\n",
       "      <td>88</td>\n",
       "      <td>0</td>\n",
       "    </tr>\n",
       "    <tr>\n",
       "      <th>주방용구</th>\n",
       "      <td>7</td>\n",
       "      <td>10489</td>\n",
       "      <td>0</td>\n",
       "    </tr>\n",
       "    <tr>\n",
       "      <th>직물</th>\n",
       "      <td>7</td>\n",
       "      <td>11884</td>\n",
       "      <td>0</td>\n",
       "    </tr>\n",
       "  </tbody>\n",
       "</table>\n",
       "<p>161 rows × 3 columns</p>\n",
       "</div>"
      ],
      "text/plain": [
       "            week  USE_AMT  covid19\n",
       "MCT_CAT_CD                        \n",
       "가구             7    27442        0\n",
       "가전             7   132893        0\n",
       "광학제품           7    29119        0\n",
       "레저업소           7   344975        0\n",
       "레저용품           7   451269        0\n",
       "...          ...      ...      ...\n",
       "자동차정비          7    31520        0\n",
       "자동차판매          7    12774        0\n",
       "전기             7       88        0\n",
       "주방용구           7    10489        0\n",
       "직물             7    11884        0\n",
       "\n",
       "[161 rows x 3 columns]"
      ]
     },
     "execution_count": 176,
     "metadata": {},
     "output_type": "execute_result"
    }
   ],
   "source": [
    "this_week"
   ]
  },
  {
   "cell_type": "code",
   "execution_count": 173,
   "metadata": {},
   "outputs": [
    {
     "data": {
      "text/html": [
       "<div>\n",
       "<style scoped>\n",
       "    .dataframe tbody tr th:only-of-type {\n",
       "        vertical-align: middle;\n",
       "    }\n",
       "\n",
       "    .dataframe tbody tr th {\n",
       "        vertical-align: top;\n",
       "    }\n",
       "\n",
       "    .dataframe thead th {\n",
       "        text-align: right;\n",
       "    }\n",
       "</style>\n",
       "<table border=\"1\" class=\"dataframe\">\n",
       "  <thead>\n",
       "    <tr style=\"text-align: right;\">\n",
       "      <th></th>\n",
       "      <th>week</th>\n",
       "      <th>USE_AMT</th>\n",
       "      <th>covid19</th>\n",
       "    </tr>\n",
       "    <tr>\n",
       "      <th>MCT_CAT_CD</th>\n",
       "      <th></th>\n",
       "      <th></th>\n",
       "      <th></th>\n",
       "    </tr>\n",
       "  </thead>\n",
       "  <tbody>\n",
       "    <tr>\n",
       "      <th>가구</th>\n",
       "      <td>7</td>\n",
       "      <td>27442</td>\n",
       "      <td>0</td>\n",
       "    </tr>\n",
       "    <tr>\n",
       "      <th>가전</th>\n",
       "      <td>7</td>\n",
       "      <td>132893</td>\n",
       "      <td>0</td>\n",
       "    </tr>\n",
       "    <tr>\n",
       "      <th>광학제품</th>\n",
       "      <td>7</td>\n",
       "      <td>29119</td>\n",
       "      <td>0</td>\n",
       "    </tr>\n",
       "    <tr>\n",
       "      <th>레저업소</th>\n",
       "      <td>7</td>\n",
       "      <td>344975</td>\n",
       "      <td>0</td>\n",
       "    </tr>\n",
       "    <tr>\n",
       "      <th>레저용품</th>\n",
       "      <td>7</td>\n",
       "      <td>451269</td>\n",
       "      <td>0</td>\n",
       "    </tr>\n",
       "    <tr>\n",
       "      <th>...</th>\n",
       "      <td>...</td>\n",
       "      <td>...</td>\n",
       "      <td>...</td>\n",
       "    </tr>\n",
       "    <tr>\n",
       "      <th>자동차정비</th>\n",
       "      <td>7</td>\n",
       "      <td>31520</td>\n",
       "      <td>0</td>\n",
       "    </tr>\n",
       "    <tr>\n",
       "      <th>자동차판매</th>\n",
       "      <td>7</td>\n",
       "      <td>12774</td>\n",
       "      <td>0</td>\n",
       "    </tr>\n",
       "    <tr>\n",
       "      <th>전기</th>\n",
       "      <td>7</td>\n",
       "      <td>88</td>\n",
       "      <td>0</td>\n",
       "    </tr>\n",
       "    <tr>\n",
       "      <th>주방용구</th>\n",
       "      <td>7</td>\n",
       "      <td>10489</td>\n",
       "      <td>0</td>\n",
       "    </tr>\n",
       "    <tr>\n",
       "      <th>직물</th>\n",
       "      <td>7</td>\n",
       "      <td>11884</td>\n",
       "      <td>0</td>\n",
       "    </tr>\n",
       "  </tbody>\n",
       "</table>\n",
       "<p>161 rows × 3 columns</p>\n",
       "</div>"
      ],
      "text/plain": [
       "            week  USE_AMT  covid19\n",
       "MCT_CAT_CD                        \n",
       "가구             7    27442        0\n",
       "가전             7   132893        0\n",
       "광학제품           7    29119        0\n",
       "레저업소           7   344975        0\n",
       "레저용품           7   451269        0\n",
       "...          ...      ...      ...\n",
       "자동차정비          7    31520        0\n",
       "자동차판매          7    12774        0\n",
       "전기             7       88        0\n",
       "주방용구           7    10489        0\n",
       "직물             7    11884        0\n",
       "\n",
       "[161 rows x 3 columns]"
      ]
     },
     "execution_count": 173,
     "metadata": {},
     "output_type": "execute_result"
    }
   ],
   "source": [
    "this_week"
   ]
  },
  {
   "cell_type": "code",
   "execution_count": 103,
   "metadata": {
    "scrolled": true
   },
   "outputs": [
    {
     "data": {
      "text/html": [
       "<div>\n",
       "<style scoped>\n",
       "    .dataframe tbody tr th:only-of-type {\n",
       "        vertical-align: middle;\n",
       "    }\n",
       "\n",
       "    .dataframe tbody tr th {\n",
       "        vertical-align: top;\n",
       "    }\n",
       "\n",
       "    .dataframe thead th {\n",
       "        text-align: right;\n",
       "    }\n",
       "</style>\n",
       "<table border=\"1\" class=\"dataframe\">\n",
       "  <thead>\n",
       "    <tr style=\"text-align: right;\">\n",
       "      <th></th>\n",
       "      <th>month</th>\n",
       "      <th>day</th>\n",
       "      <th>week</th>\n",
       "      <th>MCT_CAT_CD</th>\n",
       "      <th>USE_AMT</th>\n",
       "      <th>USE_CNT</th>\n",
       "      <th>date</th>\n",
       "      <th>covid19</th>\n",
       "    </tr>\n",
       "  </thead>\n",
       "  <tbody>\n",
       "    <tr>\n",
       "      <th>3</th>\n",
       "      <td>2</td>\n",
       "      <td>1</td>\n",
       "      <td>5</td>\n",
       "      <td>가구</td>\n",
       "      <td>61331</td>\n",
       "      <td>117</td>\n",
       "      <td>0</td>\n",
       "      <td>0</td>\n",
       "    </tr>\n",
       "    <tr>\n",
       "      <th>7</th>\n",
       "      <td>2</td>\n",
       "      <td>1</td>\n",
       "      <td>5</td>\n",
       "      <td>가전</td>\n",
       "      <td>258731</td>\n",
       "      <td>569</td>\n",
       "      <td>0</td>\n",
       "      <td>0</td>\n",
       "    </tr>\n",
       "    <tr>\n",
       "      <th>11</th>\n",
       "      <td>2</td>\n",
       "      <td>1</td>\n",
       "      <td>5</td>\n",
       "      <td>광학제품</td>\n",
       "      <td>46706</td>\n",
       "      <td>307</td>\n",
       "      <td>0</td>\n",
       "      <td>0</td>\n",
       "    </tr>\n",
       "    <tr>\n",
       "      <th>15</th>\n",
       "      <td>2</td>\n",
       "      <td>1</td>\n",
       "      <td>5</td>\n",
       "      <td>레저업소</td>\n",
       "      <td>332995</td>\n",
       "      <td>21906</td>\n",
       "      <td>0</td>\n",
       "      <td>0</td>\n",
       "    </tr>\n",
       "    <tr>\n",
       "      <th>19</th>\n",
       "      <td>2</td>\n",
       "      <td>1</td>\n",
       "      <td>5</td>\n",
       "      <td>레저용품</td>\n",
       "      <td>712649</td>\n",
       "      <td>8886</td>\n",
       "      <td>0</td>\n",
       "      <td>0</td>\n",
       "    </tr>\n",
       "    <tr>\n",
       "      <th>...</th>\n",
       "      <td>...</td>\n",
       "      <td>...</td>\n",
       "      <td>...</td>\n",
       "      <td>...</td>\n",
       "      <td>...</td>\n",
       "      <td>...</td>\n",
       "      <td>...</td>\n",
       "      <td>...</td>\n",
       "    </tr>\n",
       "    <tr>\n",
       "      <th>11833</th>\n",
       "      <td>5</td>\n",
       "      <td>31</td>\n",
       "      <td>22</td>\n",
       "      <td>자동차정비</td>\n",
       "      <td>72164</td>\n",
       "      <td>6846</td>\n",
       "      <td>5.31</td>\n",
       "      <td>6</td>\n",
       "    </tr>\n",
       "    <tr>\n",
       "      <th>11837</th>\n",
       "      <td>5</td>\n",
       "      <td>31</td>\n",
       "      <td>22</td>\n",
       "      <td>자동차판매</td>\n",
       "      <td>70</td>\n",
       "      <td>5</td>\n",
       "      <td>5.31</td>\n",
       "      <td>6</td>\n",
       "    </tr>\n",
       "    <tr>\n",
       "      <th>11840</th>\n",
       "      <td>5</td>\n",
       "      <td>31</td>\n",
       "      <td>22</td>\n",
       "      <td>전기</td>\n",
       "      <td>482</td>\n",
       "      <td>10</td>\n",
       "      <td>5.31</td>\n",
       "      <td>6</td>\n",
       "    </tr>\n",
       "    <tr>\n",
       "      <th>11844</th>\n",
       "      <td>5</td>\n",
       "      <td>31</td>\n",
       "      <td>22</td>\n",
       "      <td>주방용구</td>\n",
       "      <td>17444</td>\n",
       "      <td>252</td>\n",
       "      <td>5.31</td>\n",
       "      <td>6</td>\n",
       "    </tr>\n",
       "    <tr>\n",
       "      <th>11848</th>\n",
       "      <td>5</td>\n",
       "      <td>31</td>\n",
       "      <td>22</td>\n",
       "      <td>직물</td>\n",
       "      <td>34780</td>\n",
       "      <td>260</td>\n",
       "      <td>5.31</td>\n",
       "      <td>6</td>\n",
       "    </tr>\n",
       "  </tbody>\n",
       "</table>\n",
       "<p>2980 rows × 8 columns</p>\n",
       "</div>"
      ],
      "text/plain": [
       "       month  day  week MCT_CAT_CD  USE_AMT  USE_CNT  date covid19\n",
       "3          2    1     5         가구    61331      117     0       0\n",
       "7          2    1     5         가전   258731      569     0       0\n",
       "11         2    1     5       광학제품    46706      307     0       0\n",
       "15         2    1     5       레저업소   332995    21906     0       0\n",
       "19         2    1     5       레저용품   712649     8886     0       0\n",
       "...      ...  ...   ...        ...      ...      ...   ...     ...\n",
       "11833      5   31    22      자동차정비    72164     6846  5.31       6\n",
       "11837      5   31    22      자동차판매       70        5  5.31       6\n",
       "11840      5   31    22         전기      482       10  5.31       6\n",
       "11844      5   31    22       주방용구    17444      252  5.31       6\n",
       "11848      5   31    22         직물    34780      260  5.31       6\n",
       "\n",
       "[2980 rows x 8 columns]"
      ]
     },
     "execution_count": 103,
     "metadata": {},
     "output_type": "execute_result"
    }
   ],
   "source": [
    "seoul_covid_table2020"
   ]
  },
  {
   "cell_type": "code",
   "execution_count": 60,
   "metadata": {},
   "outputs": [
    {
     "data": {
      "text/html": [
       "<div>\n",
       "<style scoped>\n",
       "    .dataframe tbody tr th:only-of-type {\n",
       "        vertical-align: middle;\n",
       "    }\n",
       "\n",
       "    .dataframe tbody tr th {\n",
       "        vertical-align: top;\n",
       "    }\n",
       "\n",
       "    .dataframe thead tr th {\n",
       "        text-align: left;\n",
       "    }\n",
       "</style>\n",
       "<table border=\"1\" class=\"dataframe\">\n",
       "  <thead>\n",
       "    <tr>\n",
       "      <th></th>\n",
       "      <th>month</th>\n",
       "      <th>day</th>\n",
       "      <th>MCT_CAT_CD</th>\n",
       "      <th>city</th>\n",
       "      <th colspan=\"2\" halign=\"left\">USE_AMT</th>\n",
       "      <th colspan=\"2\" halign=\"left\">USE_CNT</th>\n",
       "    </tr>\n",
       "    <tr>\n",
       "      <th>year</th>\n",
       "      <th></th>\n",
       "      <th></th>\n",
       "      <th></th>\n",
       "      <th></th>\n",
       "      <th>2019</th>\n",
       "      <th>2020</th>\n",
       "      <th>2019</th>\n",
       "      <th>2020</th>\n",
       "    </tr>\n",
       "  </thead>\n",
       "  <tbody>\n",
       "    <tr>\n",
       "      <th>0</th>\n",
       "      <td>2</td>\n",
       "      <td>1</td>\n",
       "      <td>가구</td>\n",
       "      <td>daegu</td>\n",
       "      <td>9538.0</td>\n",
       "      <td>60086.0</td>\n",
       "      <td>35.0</td>\n",
       "      <td>70.0</td>\n",
       "    </tr>\n",
       "    <tr>\n",
       "      <th>1</th>\n",
       "      <td>2</td>\n",
       "      <td>1</td>\n",
       "      <td>가구</td>\n",
       "      <td>seoul</td>\n",
       "      <td>10706.0</td>\n",
       "      <td>61331.0</td>\n",
       "      <td>59.0</td>\n",
       "      <td>117.0</td>\n",
       "    </tr>\n",
       "    <tr>\n",
       "      <th>2</th>\n",
       "      <td>2</td>\n",
       "      <td>1</td>\n",
       "      <td>가전</td>\n",
       "      <td>daegu</td>\n",
       "      <td>63797.0</td>\n",
       "      <td>24895.0</td>\n",
       "      <td>283.0</td>\n",
       "      <td>123.0</td>\n",
       "    </tr>\n",
       "    <tr>\n",
       "      <th>3</th>\n",
       "      <td>2</td>\n",
       "      <td>1</td>\n",
       "      <td>가전</td>\n",
       "      <td>seoul</td>\n",
       "      <td>177931.0</td>\n",
       "      <td>258731.0</td>\n",
       "      <td>997.0</td>\n",
       "      <td>569.0</td>\n",
       "    </tr>\n",
       "    <tr>\n",
       "      <th>4</th>\n",
       "      <td>2</td>\n",
       "      <td>1</td>\n",
       "      <td>광학제품</td>\n",
       "      <td>daegu</td>\n",
       "      <td>14321.0</td>\n",
       "      <td>49697.0</td>\n",
       "      <td>275.0</td>\n",
       "      <td>465.0</td>\n",
       "    </tr>\n",
       "    <tr>\n",
       "      <th>...</th>\n",
       "      <td>...</td>\n",
       "      <td>...</td>\n",
       "      <td>...</td>\n",
       "      <td>...</td>\n",
       "      <td>...</td>\n",
       "      <td>...</td>\n",
       "      <td>...</td>\n",
       "      <td>...</td>\n",
       "    </tr>\n",
       "    <tr>\n",
       "      <th>5559</th>\n",
       "      <td>5</td>\n",
       "      <td>31</td>\n",
       "      <td>전기</td>\n",
       "      <td>seoul</td>\n",
       "      <td>2736.0</td>\n",
       "      <td>482.0</td>\n",
       "      <td>16.0</td>\n",
       "      <td>10.0</td>\n",
       "    </tr>\n",
       "    <tr>\n",
       "      <th>5560</th>\n",
       "      <td>5</td>\n",
       "      <td>31</td>\n",
       "      <td>주방용구</td>\n",
       "      <td>daegu</td>\n",
       "      <td>35512.0</td>\n",
       "      <td>13257.0</td>\n",
       "      <td>148.0</td>\n",
       "      <td>215.0</td>\n",
       "    </tr>\n",
       "    <tr>\n",
       "      <th>5561</th>\n",
       "      <td>5</td>\n",
       "      <td>31</td>\n",
       "      <td>주방용구</td>\n",
       "      <td>seoul</td>\n",
       "      <td>44599.0</td>\n",
       "      <td>17444.0</td>\n",
       "      <td>308.0</td>\n",
       "      <td>252.0</td>\n",
       "    </tr>\n",
       "    <tr>\n",
       "      <th>5562</th>\n",
       "      <td>5</td>\n",
       "      <td>31</td>\n",
       "      <td>직물</td>\n",
       "      <td>daegu</td>\n",
       "      <td>26565.0</td>\n",
       "      <td>38595.0</td>\n",
       "      <td>276.0</td>\n",
       "      <td>461.0</td>\n",
       "    </tr>\n",
       "    <tr>\n",
       "      <th>5563</th>\n",
       "      <td>5</td>\n",
       "      <td>31</td>\n",
       "      <td>직물</td>\n",
       "      <td>seoul</td>\n",
       "      <td>139386.0</td>\n",
       "      <td>34780.0</td>\n",
       "      <td>304.0</td>\n",
       "      <td>260.0</td>\n",
       "    </tr>\n",
       "  </tbody>\n",
       "</table>\n",
       "<p>5564 rows × 8 columns</p>\n",
       "</div>"
      ],
      "text/plain": [
       "     month day MCT_CAT_CD   city   USE_AMT           USE_CNT       \n",
       "year                                  2019      2020    2019   2020\n",
       "0        2   1         가구  daegu    9538.0   60086.0    35.0   70.0\n",
       "1        2   1         가구  seoul   10706.0   61331.0    59.0  117.0\n",
       "2        2   1         가전  daegu   63797.0   24895.0   283.0  123.0\n",
       "3        2   1         가전  seoul  177931.0  258731.0   997.0  569.0\n",
       "4        2   1       광학제품  daegu   14321.0   49697.0   275.0  465.0\n",
       "...    ...  ..        ...    ...       ...       ...     ...    ...\n",
       "5559     5  31         전기  seoul    2736.0     482.0    16.0   10.0\n",
       "5560     5  31       주방용구  daegu   35512.0   13257.0   148.0  215.0\n",
       "5561     5  31       주방용구  seoul   44599.0   17444.0   308.0  252.0\n",
       "5562     5  31         직물  daegu   26565.0   38595.0   276.0  461.0\n",
       "5563     5  31         직물  seoul  139386.0   34780.0   304.0  260.0\n",
       "\n",
       "[5564 rows x 8 columns]"
      ]
     },
     "execution_count": 60,
     "metadata": {},
     "output_type": "execute_result"
    }
   ],
   "source": [
    "table"
   ]
  },
  {
   "cell_type": "code",
   "execution_count": 61,
   "metadata": {},
   "outputs": [
    {
     "name": "stderr",
     "output_type": "stream",
     "text": [
      "C:\\Users\\User\\anaconda3\\lib\\site-packages\\pandas\\core\\reshape\\merge.py:618: UserWarning: merging between different levels can give an unintended result (2 levels on the left, 1 on the right)\n",
      "  warnings.warn(msg, UserWarning)\n"
     ]
    },
    {
     "ename": "ValueError",
     "evalue": "You are trying to merge on int64 and object columns. If you wish to proceed you should use pd.concat",
     "output_type": "error",
     "traceback": [
      "\u001b[1;31m---------------------------------------------------------------------------\u001b[0m",
      "\u001b[1;31mValueError\u001b[0m                                Traceback (most recent call last)",
      "\u001b[1;32m<ipython-input-61-e238b60904f7>\u001b[0m in \u001b[0;36m<module>\u001b[1;34m\u001b[0m\n\u001b[1;32m----> 1\u001b[1;33m \u001b[0mtable\u001b[0m\u001b[1;33m.\u001b[0m\u001b[0mmerge\u001b[0m\u001b[1;33m(\u001b[0m\u001b[0mcovid_confirmed\u001b[0m\u001b[1;33m,\u001b[0m\u001b[0mon\u001b[0m\u001b[1;33m=\u001b[0m\u001b[1;33m[\u001b[0m\u001b[1;34m'month'\u001b[0m\u001b[1;33m,\u001b[0m\u001b[1;34m'day'\u001b[0m\u001b[1;33m,\u001b[0m \u001b[1;34m'city'\u001b[0m\u001b[1;33m]\u001b[0m\u001b[1;33m)\u001b[0m\u001b[1;33m\u001b[0m\u001b[1;33m\u001b[0m\u001b[0m\n\u001b[0m",
      "\u001b[1;32mC:\\Users\\User\\anaconda3\\lib\\site-packages\\pandas\\core\\frame.py\u001b[0m in \u001b[0;36mmerge\u001b[1;34m(self, right, how, on, left_on, right_on, left_index, right_index, sort, suffixes, copy, indicator, validate)\u001b[0m\n\u001b[0;32m   7295\u001b[0m             \u001b[0mcopy\u001b[0m\u001b[1;33m=\u001b[0m\u001b[0mcopy\u001b[0m\u001b[1;33m,\u001b[0m\u001b[1;33m\u001b[0m\u001b[1;33m\u001b[0m\u001b[0m\n\u001b[0;32m   7296\u001b[0m             \u001b[0mindicator\u001b[0m\u001b[1;33m=\u001b[0m\u001b[0mindicator\u001b[0m\u001b[1;33m,\u001b[0m\u001b[1;33m\u001b[0m\u001b[1;33m\u001b[0m\u001b[0m\n\u001b[1;32m-> 7297\u001b[1;33m             \u001b[0mvalidate\u001b[0m\u001b[1;33m=\u001b[0m\u001b[0mvalidate\u001b[0m\u001b[1;33m,\u001b[0m\u001b[1;33m\u001b[0m\u001b[1;33m\u001b[0m\u001b[0m\n\u001b[0m\u001b[0;32m   7298\u001b[0m         )\n\u001b[0;32m   7299\u001b[0m \u001b[1;33m\u001b[0m\u001b[0m\n",
      "\u001b[1;32mC:\\Users\\User\\anaconda3\\lib\\site-packages\\pandas\\core\\reshape\\merge.py\u001b[0m in \u001b[0;36mmerge\u001b[1;34m(left, right, how, on, left_on, right_on, left_index, right_index, sort, suffixes, copy, indicator, validate)\u001b[0m\n\u001b[0;32m     84\u001b[0m         \u001b[0mcopy\u001b[0m\u001b[1;33m=\u001b[0m\u001b[0mcopy\u001b[0m\u001b[1;33m,\u001b[0m\u001b[1;33m\u001b[0m\u001b[1;33m\u001b[0m\u001b[0m\n\u001b[0;32m     85\u001b[0m         \u001b[0mindicator\u001b[0m\u001b[1;33m=\u001b[0m\u001b[0mindicator\u001b[0m\u001b[1;33m,\u001b[0m\u001b[1;33m\u001b[0m\u001b[1;33m\u001b[0m\u001b[0m\n\u001b[1;32m---> 86\u001b[1;33m         \u001b[0mvalidate\u001b[0m\u001b[1;33m=\u001b[0m\u001b[0mvalidate\u001b[0m\u001b[1;33m,\u001b[0m\u001b[1;33m\u001b[0m\u001b[1;33m\u001b[0m\u001b[0m\n\u001b[0m\u001b[0;32m     87\u001b[0m     )\n\u001b[0;32m     88\u001b[0m     \u001b[1;32mreturn\u001b[0m \u001b[0mop\u001b[0m\u001b[1;33m.\u001b[0m\u001b[0mget_result\u001b[0m\u001b[1;33m(\u001b[0m\u001b[1;33m)\u001b[0m\u001b[1;33m\u001b[0m\u001b[1;33m\u001b[0m\u001b[0m\n",
      "\u001b[1;32mC:\\Users\\User\\anaconda3\\lib\\site-packages\\pandas\\core\\reshape\\merge.py\u001b[0m in \u001b[0;36m__init__\u001b[1;34m(self, left, right, how, on, left_on, right_on, axis, left_index, right_index, sort, suffixes, copy, indicator, validate)\u001b[0m\n\u001b[0;32m    629\u001b[0m         \u001b[1;31m# validate the merge keys dtypes. We may need to coerce\u001b[0m\u001b[1;33m\u001b[0m\u001b[1;33m\u001b[0m\u001b[1;33m\u001b[0m\u001b[0m\n\u001b[0;32m    630\u001b[0m         \u001b[1;31m# to avoid incompat dtypes\u001b[0m\u001b[1;33m\u001b[0m\u001b[1;33m\u001b[0m\u001b[1;33m\u001b[0m\u001b[0m\n\u001b[1;32m--> 631\u001b[1;33m         \u001b[0mself\u001b[0m\u001b[1;33m.\u001b[0m\u001b[0m_maybe_coerce_merge_keys\u001b[0m\u001b[1;33m(\u001b[0m\u001b[1;33m)\u001b[0m\u001b[1;33m\u001b[0m\u001b[1;33m\u001b[0m\u001b[0m\n\u001b[0m\u001b[0;32m    632\u001b[0m \u001b[1;33m\u001b[0m\u001b[0m\n\u001b[0;32m    633\u001b[0m         \u001b[1;31m# If argument passed to validate,\u001b[0m\u001b[1;33m\u001b[0m\u001b[1;33m\u001b[0m\u001b[1;33m\u001b[0m\u001b[0m\n",
      "\u001b[1;32mC:\\Users\\User\\anaconda3\\lib\\site-packages\\pandas\\core\\reshape\\merge.py\u001b[0m in \u001b[0;36m_maybe_coerce_merge_keys\u001b[1;34m(self)\u001b[0m\n\u001b[0;32m   1144\u001b[0m                     \u001b[0minferred_right\u001b[0m \u001b[1;32min\u001b[0m \u001b[0mstring_types\u001b[0m \u001b[1;32mand\u001b[0m \u001b[0minferred_left\u001b[0m \u001b[1;32mnot\u001b[0m \u001b[1;32min\u001b[0m \u001b[0mstring_types\u001b[0m\u001b[1;33m\u001b[0m\u001b[1;33m\u001b[0m\u001b[0m\n\u001b[0;32m   1145\u001b[0m                 ):\n\u001b[1;32m-> 1146\u001b[1;33m                     \u001b[1;32mraise\u001b[0m \u001b[0mValueError\u001b[0m\u001b[1;33m(\u001b[0m\u001b[0mmsg\u001b[0m\u001b[1;33m)\u001b[0m\u001b[1;33m\u001b[0m\u001b[1;33m\u001b[0m\u001b[0m\n\u001b[0m\u001b[0;32m   1147\u001b[0m \u001b[1;33m\u001b[0m\u001b[0m\n\u001b[0;32m   1148\u001b[0m             \u001b[1;31m# datetimelikes must match exactly\u001b[0m\u001b[1;33m\u001b[0m\u001b[1;33m\u001b[0m\u001b[1;33m\u001b[0m\u001b[0m\n",
      "\u001b[1;31mValueError\u001b[0m: You are trying to merge on int64 and object columns. If you wish to proceed you should use pd.concat"
     ]
    }
   ],
   "source": [
    "table.merge(covid_confirmed,on=['month','day', 'city'])"
   ]
  },
  {
   "cell_type": "code",
   "execution_count": 15,
   "metadata": {},
   "outputs": [
    {
     "data": {
      "text/plain": [
       "MultiIndex([('USE_AMT', 2019),\n",
       "            ('USE_AMT', 2020),\n",
       "            ('USE_CNT', 2019),\n",
       "            ('USE_CNT', 2020)],\n",
       "           names=[None, 'year'])"
      ]
     },
     "execution_count": 15,
     "metadata": {},
     "output_type": "execute_result"
    }
   ],
   "source": [
    "table.columns\n",
    "\n",
    "# 20년도 - 19년도 : 즉 증감수치"
   ]
  },
  {
   "cell_type": "code",
   "execution_count": 51,
   "metadata": {},
   "outputs": [],
   "source": [
    "# 전체 이용금액 차이\n",
    "total_diff = (table.iloc[:,1] - table.iloc[:,0])\n",
    "\n",
    "# 건당 이용금액 차이\n",
    "cnt_diff = (table.iloc[:,1] / table.iloc[:,3] - table.iloc[:,0] / table.iloc[:,2])"
   ]
  },
  {
   "cell_type": "code",
   "execution_count": 58,
   "metadata": {},
   "outputs": [],
   "source": [
    "# plt.figure(figsize=(30, 10))\n",
    "# sns.lineplot(data=total_diff.unstack('MCT_CAT_CD'), dashes=False)\n",
    "# plt.legend(bbox_to_anchor=(1.05, 1.0), loc='upper left')\n",
    "# plt.xticks(ticks=(np.arange(0, len(test2))), labels=test2)\n",
    "# plt.show()"
   ]
  },
  {
   "cell_type": "code",
   "execution_count": 59,
   "metadata": {},
   "outputs": [],
   "source": [
    "# plt.figure(figsize=(30, 10))\n",
    "# sns.lineplot(data=cnt_diff.unstack('MCT_CAT_CD'), dashes=False)\n",
    "# plt.legend(bbox_to_anchor=(1.05, 1.0), loc='upper left')\n",
    "# plt.xticks(ticks=(np.arange(0, len(test2))), labels=test2)\n",
    "# plt.show()"
   ]
  },
  {
   "cell_type": "code",
   "execution_count": 60,
   "metadata": {},
   "outputs": [],
   "source": [
    "total_diff2 = total_diff.reset_index()\n",
    "cnt_diff2 = cnt_diff.reset_index()\n",
    "\n",
    "total_diff2.columns = ['week', 'MCT_CAT_CD', 'diff']\n",
    "cnt_diff2.columns = ['week', 'MCT_CAT_CD', 'diff']"
   ]
  },
  {
   "cell_type": "code",
   "execution_count": 61,
   "metadata": {
    "scrolled": true
   },
   "outputs": [
    {
     "data": {
      "application/vnd.plotly.v1+json": {
       "config": {
        "plotlyServerURL": "https://plot.ly"
       },
       "data": [
        {
         "hovertemplate": "MCT_CAT_CD=가구<br>week=%{x}<br>diff=%{y}<extra></extra>",
         "legendgroup": "가구",
         "line": {
          "color": "#636efa",
          "dash": "solid"
         },
         "mode": "lines",
         "name": "가구",
         "orientation": "v",
         "showlegend": true,
         "type": "scatter",
         "x": [
          5,
          6,
          7,
          8,
          9,
          10,
          11,
          12,
          13,
          14,
          15,
          16,
          17,
          18,
          19,
          20,
          21,
          22
         ],
         "xaxis": "x",
         "y": [
          94818,
          318817,
          442526,
          514788,
          493037,
          421192,
          532628,
          518703,
          425849,
          272015,
          460046,
          395994,
          436872,
          471195,
          538530,
          401929,
          506617,
          224628
         ],
         "yaxis": "y"
        },
        {
         "hovertemplate": "MCT_CAT_CD=가전<br>week=%{x}<br>diff=%{y}<extra></extra>",
         "legendgroup": "가전",
         "line": {
          "color": "#EF553B",
          "dash": "solid"
         },
         "mode": "lines",
         "name": "가전",
         "orientation": "v",
         "showlegend": true,
         "type": "scatter",
         "x": [
          5,
          6,
          7,
          8,
          9,
          10,
          11,
          12,
          13,
          14,
          15,
          16,
          17,
          18,
          19,
          20,
          21,
          22
         ],
         "xaxis": "x",
         "y": [
          820559,
          1414781,
          1805969,
          1833042,
          2100793,
          2356541,
          2063588,
          2063368,
          1911915,
          1857655,
          2207342,
          2047624,
          1832310,
          2125046,
          1874391,
          1784392,
          1910454,
          1347533
         ],
         "yaxis": "y"
        },
        {
         "hovertemplate": "MCT_CAT_CD=광학제품<br>week=%{x}<br>diff=%{y}<extra></extra>",
         "legendgroup": "광학제품",
         "line": {
          "color": "#00cc96",
          "dash": "solid"
         },
         "mode": "lines",
         "name": "광학제품",
         "orientation": "v",
         "showlegend": true,
         "type": "scatter",
         "x": [
          5,
          6,
          7,
          8,
          9,
          10,
          11,
          12,
          13,
          14,
          15,
          16,
          17,
          18,
          19,
          20,
          21,
          22
         ],
         "xaxis": "x",
         "y": [
          129704,
          409163,
          513699,
          531172,
          634932,
          611676,
          460624,
          395604,
          621545,
          405304,
          405294,
          323052,
          629322,
          475487,
          358767,
          341536,
          556080,
          380899
         ],
         "yaxis": "y"
        },
        {
         "hovertemplate": "MCT_CAT_CD=레저업소<br>week=%{x}<br>diff=%{y}<extra></extra>",
         "legendgroup": "레저업소",
         "line": {
          "color": "#ab63fa",
          "dash": "solid"
         },
         "mode": "lines",
         "name": "레저업소",
         "orientation": "v",
         "showlegend": true,
         "type": "scatter",
         "x": [
          5,
          6,
          7,
          8,
          9,
          10,
          11,
          12,
          13,
          14,
          15,
          16,
          17,
          18,
          19,
          20,
          21,
          22
         ],
         "xaxis": "x",
         "y": [
          1384626,
          2651993,
          3385898,
          3414560,
          3579196,
          3538050,
          3147727,
          3186741,
          3433210,
          3531039,
          3058617,
          3262203,
          3332663,
          3608379,
          2954127,
          2923165,
          3326940,
          2460385
         ],
         "yaxis": "y"
        },
        {
         "hovertemplate": "MCT_CAT_CD=레저용품<br>week=%{x}<br>diff=%{y}<extra></extra>",
         "legendgroup": "레저용품",
         "line": {
          "color": "#FFA15A",
          "dash": "solid"
         },
         "mode": "lines",
         "name": "레저용품",
         "orientation": "v",
         "showlegend": true,
         "type": "scatter",
         "x": [
          5,
          6,
          7,
          8,
          9,
          10,
          11,
          12,
          13,
          14,
          15,
          16,
          17,
          18,
          19,
          20,
          21,
          22
         ],
         "xaxis": "x",
         "y": [
          3116078,
          6260220,
          5224893,
          5510324,
          7640745,
          5822624,
          5417418,
          5213225,
          5427349,
          5505395,
          5460803,
          6070918,
          6091490,
          7492455,
          7337031,
          5798467,
          6046303,
          3197595
         ],
         "yaxis": "y"
        },
        {
         "hovertemplate": "MCT_CAT_CD=문화취미<br>week=%{x}<br>diff=%{y}<extra></extra>",
         "legendgroup": "문화취미",
         "line": {
          "color": "#19d3f3",
          "dash": "solid"
         },
         "mode": "lines",
         "name": "문화취미",
         "orientation": "v",
         "showlegend": true,
         "type": "scatter",
         "x": [
          5,
          6,
          7,
          8,
          9,
          10,
          11,
          12,
          13,
          14,
          15,
          16,
          17,
          18,
          19,
          20,
          21,
          22
         ],
         "xaxis": "x",
         "y": [
          758704,
          1492353,
          1485827,
          1366679,
          1449272,
          1326098,
          1282600,
          1136847,
          1225111,
          1144348,
          1161248,
          1151569,
          1547767,
          1599151,
          1732241,
          1353719,
          1264444,
          947718
         ],
         "yaxis": "y"
        },
        {
         "hovertemplate": "MCT_CAT_CD=보건위생<br>week=%{x}<br>diff=%{y}<extra></extra>",
         "legendgroup": "보건위생",
         "line": {
          "color": "#FF6692",
          "dash": "solid"
         },
         "mode": "lines",
         "name": "보건위생",
         "orientation": "v",
         "showlegend": true,
         "type": "scatter",
         "x": [
          5,
          6,
          7,
          8,
          9,
          10,
          11,
          12,
          13,
          14,
          15,
          16,
          17,
          18,
          19,
          20,
          21,
          22
         ],
         "xaxis": "x",
         "y": [
          3026790,
          5286098,
          6607980,
          6538967,
          7868533,
          6544336,
          6336661,
          6202041,
          7229809,
          6225823,
          6327700,
          6361197,
          6375550,
          7270726,
          6751709,
          6559966,
          6186618,
          5225168
         ],
         "yaxis": "y"
        },
        {
         "hovertemplate": "MCT_CAT_CD=사무통신<br>week=%{x}<br>diff=%{y}<extra></extra>",
         "legendgroup": "사무통신",
         "line": {
          "color": "#B6E880",
          "dash": "solid"
         },
         "mode": "lines",
         "name": "사무통신",
         "orientation": "v",
         "showlegend": true,
         "type": "scatter",
         "x": [
          5,
          6,
          7,
          8,
          9,
          10,
          11,
          12,
          13,
          14,
          15,
          16,
          17,
          18,
          19,
          20,
          21,
          22
         ],
         "xaxis": "x",
         "y": [
          1956213,
          3509672,
          3943680,
          4052632,
          4564366,
          4159495,
          3938268,
          3862646,
          4328835,
          4108149,
          5720163,
          5998477,
          6427952,
          6731106,
          6349702,
          6376297,
          6364837,
          4972753
         ],
         "yaxis": "y"
        },
        {
         "hovertemplate": "MCT_CAT_CD=서적문구<br>week=%{x}<br>diff=%{y}<extra></extra>",
         "legendgroup": "서적문구",
         "line": {
          "color": "#FF97FF",
          "dash": "solid"
         },
         "mode": "lines",
         "name": "서적문구",
         "orientation": "v",
         "showlegend": true,
         "type": "scatter",
         "x": [
          5,
          6,
          7,
          8,
          9,
          10,
          11,
          12,
          13,
          14,
          15,
          16,
          17,
          18,
          19,
          20,
          21,
          22
         ],
         "xaxis": "x",
         "y": [
          776505,
          1249679,
          1837380,
          1813285,
          2431166,
          3597729,
          2533037,
          2002132,
          2089694,
          2010119,
          1613593,
          1669508,
          1413005,
          1890268,
          1592004,
          1449651,
          1511499,
          1299197
         ],
         "yaxis": "y"
        },
        {
         "hovertemplate": "MCT_CAT_CD=수리서비스<br>week=%{x}<br>diff=%{y}<extra></extra>",
         "legendgroup": "수리서비스",
         "line": {
          "color": "#FECB52",
          "dash": "solid"
         },
         "mode": "lines",
         "name": "수리서비스",
         "orientation": "v",
         "showlegend": true,
         "type": "scatter",
         "x": [
          5,
          6,
          7,
          8,
          9,
          10,
          11,
          12,
          13,
          14,
          15,
          16,
          17,
          18,
          19,
          20,
          21,
          22
         ],
         "xaxis": "x",
         "y": [
          128320,
          202548,
          393469,
          415862,
          389311,
          624882,
          459906,
          486064,
          460940,
          437714,
          473316,
          476495,
          649061,
          524158,
          554720,
          602737,
          582314,
          466805
         ],
         "yaxis": "y"
        },
        {
         "hovertemplate": "MCT_CAT_CD=숙박<br>week=%{x}<br>diff=%{y}<extra></extra>",
         "legendgroup": "숙박",
         "line": {
          "color": "#636efa",
          "dash": "solid"
         },
         "mode": "lines",
         "name": "숙박",
         "orientation": "v",
         "showlegend": true,
         "type": "scatter",
         "x": [
          5,
          6,
          7,
          8,
          9,
          10,
          11,
          12,
          13,
          14,
          15,
          16,
          17,
          18,
          19,
          20,
          21,
          22
         ],
         "xaxis": "x",
         "y": [
          1550921,
          3569474,
          3963919,
          4243182,
          4033211,
          3242615,
          3076013,
          2946201,
          3493957,
          3439995,
          3134079,
          3508831,
          4229704,
          3491270,
          4004648,
          3590877,
          4903386,
          3516874
         ],
         "yaxis": "y"
        },
        {
         "hovertemplate": "MCT_CAT_CD=신변잡화<br>week=%{x}<br>diff=%{y}<extra></extra>",
         "legendgroup": "신변잡화",
         "line": {
          "color": "#EF553B",
          "dash": "solid"
         },
         "mode": "lines",
         "name": "신변잡화",
         "orientation": "v",
         "showlegend": true,
         "type": "scatter",
         "x": [
          5,
          6,
          7,
          8,
          9,
          10,
          11,
          12,
          13,
          14,
          15,
          16,
          17,
          18,
          19,
          20,
          21,
          22
         ],
         "xaxis": "x",
         "y": [
          686329,
          1308765,
          1477899,
          1880231,
          1791262,
          1802635,
          1871133,
          1606900,
          1777692,
          1704353,
          1537843,
          1755643,
          1751507,
          2053988,
          1760960,
          1666101,
          1940098,
          1461343
         ],
         "yaxis": "y"
        },
        {
         "hovertemplate": "MCT_CAT_CD=연료판매<br>week=%{x}<br>diff=%{y}<extra></extra>",
         "legendgroup": "연료판매",
         "line": {
          "color": "#00cc96",
          "dash": "solid"
         },
         "mode": "lines",
         "name": "연료판매",
         "orientation": "v",
         "showlegend": true,
         "type": "scatter",
         "x": [
          5,
          6,
          7,
          8,
          9,
          10,
          11,
          12,
          13,
          14,
          15,
          16,
          17,
          18,
          19,
          20,
          21,
          22
         ],
         "xaxis": "x",
         "y": [
          3832129,
          7446472,
          8316385,
          8504790,
          8472696,
          7637408,
          8130656,
          7999085,
          8201169,
          8302608,
          8051375,
          8420844,
          8096883,
          8963472,
          8556304,
          8057565,
          8603939,
          6499663
         ],
         "yaxis": "y"
        },
        {
         "hovertemplate": "MCT_CAT_CD=요식업소<br>week=%{x}<br>diff=%{y}<extra></extra>",
         "legendgroup": "요식업소",
         "line": {
          "color": "#ab63fa",
          "dash": "solid"
         },
         "mode": "lines",
         "name": "요식업소",
         "orientation": "v",
         "showlegend": true,
         "type": "scatter",
         "x": [
          5,
          6,
          7,
          8,
          9,
          10,
          11,
          12,
          13,
          14,
          15,
          16,
          17,
          18,
          19,
          20,
          21,
          22
         ],
         "xaxis": "x",
         "y": [
          24759069,
          46360195,
          53707613,
          55223767,
          56687281,
          53179961,
          53165640,
          54048528,
          54014527,
          52845007,
          53284784,
          54347507,
          54315114,
          57796256,
          55139115,
          53358760,
          54305495,
          36127442
         ],
         "yaxis": "y"
        },
        {
         "hovertemplate": "MCT_CAT_CD=유통업<br>week=%{x}<br>diff=%{y}<extra></extra>",
         "legendgroup": "유통업",
         "line": {
          "color": "#FFA15A",
          "dash": "solid"
         },
         "mode": "lines",
         "name": "유통업",
         "orientation": "v",
         "showlegend": true,
         "type": "scatter",
         "x": [
          5,
          6,
          7,
          8,
          9,
          10,
          11,
          12,
          13,
          14,
          15,
          16,
          17,
          18,
          19,
          20,
          21,
          22
         ],
         "xaxis": "x",
         "y": [
          36674024,
          61021713,
          64181379,
          61742738,
          69067430,
          66711755,
          67422553,
          65030737,
          67081742,
          68717351,
          63937003,
          69215274,
          63508402,
          72399011,
          67868683,
          70811392,
          64396161,
          40185462
         ],
         "yaxis": "y"
        },
        {
         "hovertemplate": "MCT_CAT_CD=음료식품<br>week=%{x}<br>diff=%{y}<extra></extra>",
         "legendgroup": "음료식품",
         "line": {
          "color": "#19d3f3",
          "dash": "solid"
         },
         "mode": "lines",
         "name": "음료식품",
         "orientation": "v",
         "showlegend": true,
         "type": "scatter",
         "x": [
          5,
          6,
          7,
          8,
          9,
          10,
          11,
          12,
          13,
          14,
          15,
          16,
          17,
          18,
          19,
          20,
          21,
          22
         ],
         "xaxis": "x",
         "y": [
          4369969,
          3740381,
          4220340,
          4326587,
          4810616,
          4510664,
          4716425,
          4386971,
          5116656,
          4706169,
          4613517,
          4732435,
          4949480,
          5231502,
          4581830,
          4543867,
          4463628,
          3835343
         ],
         "yaxis": "y"
        },
        {
         "hovertemplate": "MCT_CAT_CD=의료기관<br>week=%{x}<br>diff=%{y}<extra></extra>",
         "legendgroup": "의료기관",
         "line": {
          "color": "#FF6692",
          "dash": "solid"
         },
         "mode": "lines",
         "name": "의료기관",
         "orientation": "v",
         "showlegend": true,
         "type": "scatter",
         "x": [
          5,
          6,
          7,
          8,
          9,
          10,
          11,
          12,
          13,
          14,
          15,
          16,
          17,
          18,
          19,
          20,
          21,
          22
         ],
         "xaxis": "x",
         "y": [
          11536406,
          18187826,
          32502824,
          34666632,
          40349407,
          30502652,
          31498354,
          32301665,
          44115342,
          30343886,
          31041013,
          33233143,
          40250509,
          34606357,
          27939462,
          31777789,
          34046386,
          38427420
         ],
         "yaxis": "y"
        },
        {
         "hovertemplate": "MCT_CAT_CD=의복<br>week=%{x}<br>diff=%{y}<extra></extra>",
         "legendgroup": "의복",
         "line": {
          "color": "#B6E880",
          "dash": "solid"
         },
         "mode": "lines",
         "name": "의복",
         "orientation": "v",
         "showlegend": true,
         "type": "scatter",
         "x": [
          5,
          6,
          7,
          8,
          9,
          10,
          11,
          12,
          13,
          14,
          15,
          16,
          17,
          18,
          19,
          20,
          21,
          22
         ],
         "xaxis": "x",
         "y": [
          2902365,
          5042228,
          5732065,
          5814266,
          7110219,
          6455936,
          6122058,
          5856015,
          5937202,
          5918944,
          6081015,
          6612779,
          6331432,
          7532639,
          7171825,
          6679666,
          6793536,
          3887432
         ],
         "yaxis": "y"
        },
        {
         "hovertemplate": "MCT_CAT_CD=자동차정비<br>week=%{x}<br>diff=%{y}<extra></extra>",
         "legendgroup": "자동차정비",
         "line": {
          "color": "#FF97FF",
          "dash": "solid"
         },
         "mode": "lines",
         "name": "자동차정비",
         "orientation": "v",
         "showlegend": true,
         "type": "scatter",
         "x": [
          5,
          6,
          7,
          8,
          9,
          10,
          11,
          12,
          13,
          14,
          15,
          16,
          17,
          18,
          19,
          20,
          21,
          22
         ],
         "xaxis": "x",
         "y": [
          1086015,
          1450615,
          2296143,
          2403925,
          2418353,
          2336613,
          2114198,
          2342015,
          2289580,
          2470545,
          2083695,
          2315790,
          2385364,
          2683880,
          2213985,
          2320336,
          2329349,
          1971042
         ],
         "yaxis": "y"
        },
        {
         "hovertemplate": "MCT_CAT_CD=자동차판매<br>week=%{x}<br>diff=%{y}<extra></extra>",
         "legendgroup": "자동차판매",
         "line": {
          "color": "#FECB52",
          "dash": "solid"
         },
         "mode": "lines",
         "name": "자동차판매",
         "orientation": "v",
         "showlegend": true,
         "type": "scatter",
         "x": [
          5,
          6,
          7,
          8,
          9,
          10,
          11,
          12,
          13,
          14,
          15,
          16,
          17,
          18,
          19,
          20,
          21,
          22
         ],
         "xaxis": "x",
         "y": [
          109944,
          328478,
          459758,
          701165,
          1018459,
          560756,
          549996,
          926870,
          1094572,
          796252,
          695435,
          883267,
          831807,
          783611,
          737058,
          682690,
          624456,
          538584
         ],
         "yaxis": "y"
        },
        {
         "hovertemplate": "MCT_CAT_CD=전기<br>week=%{x}<br>diff=%{y}<extra></extra>",
         "legendgroup": "전기",
         "line": {
          "color": "#636efa",
          "dash": "solid"
         },
         "mode": "lines",
         "name": "전기",
         "orientation": "v",
         "showlegend": true,
         "type": "scatter",
         "x": [
          5,
          6,
          7,
          8,
          9,
          10,
          11,
          12,
          13,
          14,
          15,
          16,
          17,
          18,
          19,
          20,
          21,
          22
         ],
         "xaxis": "x",
         "y": [
          28084,
          44022,
          100440,
          81376,
          38853,
          56343,
          55056,
          90291,
          49443,
          49339,
          56870,
          42993,
          52494,
          76976,
          67225,
          51707,
          68924,
          40665
         ],
         "yaxis": "y"
        },
        {
         "hovertemplate": "MCT_CAT_CD=주방용구<br>week=%{x}<br>diff=%{y}<extra></extra>",
         "legendgroup": "주방용구",
         "line": {
          "color": "#EF553B",
          "dash": "solid"
         },
         "mode": "lines",
         "name": "주방용구",
         "orientation": "v",
         "showlegend": true,
         "type": "scatter",
         "x": [
          5,
          6,
          7,
          8,
          9,
          10,
          11,
          12,
          13,
          14,
          15,
          16,
          17,
          18,
          19,
          20,
          21,
          22
         ],
         "xaxis": "x",
         "y": [
          162525,
          317708,
          495460,
          653712,
          548664,
          625307,
          455974,
          548669,
          710361,
          620877,
          659994,
          504752,
          481755,
          617804,
          533099,
          694673,
          545007,
          466752
         ],
         "yaxis": "y"
        },
        {
         "hovertemplate": "MCT_CAT_CD=직물<br>week=%{x}<br>diff=%{y}<extra></extra>",
         "legendgroup": "직물",
         "line": {
          "color": "#00cc96",
          "dash": "solid"
         },
         "mode": "lines",
         "name": "직물",
         "orientation": "v",
         "showlegend": true,
         "type": "scatter",
         "x": [
          5,
          6,
          7,
          8,
          9,
          10,
          11,
          12,
          13,
          14,
          15,
          16,
          17,
          18,
          19,
          20,
          21,
          22
         ],
         "xaxis": "x",
         "y": [
          147754,
          234201,
          439089,
          444850,
          545251,
          537652,
          490539,
          512261,
          601003,
          504632,
          552750,
          491559,
          397199,
          676267,
          533542,
          436376,
          519505,
          416783
         ],
         "yaxis": "y"
        }
       ],
       "layout": {
        "legend": {
         "title": {
          "text": "MCT_CAT_CD"
         },
         "tracegroupgap": 0
        },
        "margin": {
         "t": 60
        },
        "template": {
         "data": {
          "bar": [
           {
            "error_x": {
             "color": "#2a3f5f"
            },
            "error_y": {
             "color": "#2a3f5f"
            },
            "marker": {
             "line": {
              "color": "#E5ECF6",
              "width": 0.5
             }
            },
            "type": "bar"
           }
          ],
          "barpolar": [
           {
            "marker": {
             "line": {
              "color": "#E5ECF6",
              "width": 0.5
             }
            },
            "type": "barpolar"
           }
          ],
          "carpet": [
           {
            "aaxis": {
             "endlinecolor": "#2a3f5f",
             "gridcolor": "white",
             "linecolor": "white",
             "minorgridcolor": "white",
             "startlinecolor": "#2a3f5f"
            },
            "baxis": {
             "endlinecolor": "#2a3f5f",
             "gridcolor": "white",
             "linecolor": "white",
             "minorgridcolor": "white",
             "startlinecolor": "#2a3f5f"
            },
            "type": "carpet"
           }
          ],
          "choropleth": [
           {
            "colorbar": {
             "outlinewidth": 0,
             "ticks": ""
            },
            "type": "choropleth"
           }
          ],
          "contour": [
           {
            "colorbar": {
             "outlinewidth": 0,
             "ticks": ""
            },
            "colorscale": [
             [
              0,
              "#0d0887"
             ],
             [
              0.1111111111111111,
              "#46039f"
             ],
             [
              0.2222222222222222,
              "#7201a8"
             ],
             [
              0.3333333333333333,
              "#9c179e"
             ],
             [
              0.4444444444444444,
              "#bd3786"
             ],
             [
              0.5555555555555556,
              "#d8576b"
             ],
             [
              0.6666666666666666,
              "#ed7953"
             ],
             [
              0.7777777777777778,
              "#fb9f3a"
             ],
             [
              0.8888888888888888,
              "#fdca26"
             ],
             [
              1,
              "#f0f921"
             ]
            ],
            "type": "contour"
           }
          ],
          "contourcarpet": [
           {
            "colorbar": {
             "outlinewidth": 0,
             "ticks": ""
            },
            "type": "contourcarpet"
           }
          ],
          "heatmap": [
           {
            "colorbar": {
             "outlinewidth": 0,
             "ticks": ""
            },
            "colorscale": [
             [
              0,
              "#0d0887"
             ],
             [
              0.1111111111111111,
              "#46039f"
             ],
             [
              0.2222222222222222,
              "#7201a8"
             ],
             [
              0.3333333333333333,
              "#9c179e"
             ],
             [
              0.4444444444444444,
              "#bd3786"
             ],
             [
              0.5555555555555556,
              "#d8576b"
             ],
             [
              0.6666666666666666,
              "#ed7953"
             ],
             [
              0.7777777777777778,
              "#fb9f3a"
             ],
             [
              0.8888888888888888,
              "#fdca26"
             ],
             [
              1,
              "#f0f921"
             ]
            ],
            "type": "heatmap"
           }
          ],
          "heatmapgl": [
           {
            "colorbar": {
             "outlinewidth": 0,
             "ticks": ""
            },
            "colorscale": [
             [
              0,
              "#0d0887"
             ],
             [
              0.1111111111111111,
              "#46039f"
             ],
             [
              0.2222222222222222,
              "#7201a8"
             ],
             [
              0.3333333333333333,
              "#9c179e"
             ],
             [
              0.4444444444444444,
              "#bd3786"
             ],
             [
              0.5555555555555556,
              "#d8576b"
             ],
             [
              0.6666666666666666,
              "#ed7953"
             ],
             [
              0.7777777777777778,
              "#fb9f3a"
             ],
             [
              0.8888888888888888,
              "#fdca26"
             ],
             [
              1,
              "#f0f921"
             ]
            ],
            "type": "heatmapgl"
           }
          ],
          "histogram": [
           {
            "marker": {
             "colorbar": {
              "outlinewidth": 0,
              "ticks": ""
             }
            },
            "type": "histogram"
           }
          ],
          "histogram2d": [
           {
            "colorbar": {
             "outlinewidth": 0,
             "ticks": ""
            },
            "colorscale": [
             [
              0,
              "#0d0887"
             ],
             [
              0.1111111111111111,
              "#46039f"
             ],
             [
              0.2222222222222222,
              "#7201a8"
             ],
             [
              0.3333333333333333,
              "#9c179e"
             ],
             [
              0.4444444444444444,
              "#bd3786"
             ],
             [
              0.5555555555555556,
              "#d8576b"
             ],
             [
              0.6666666666666666,
              "#ed7953"
             ],
             [
              0.7777777777777778,
              "#fb9f3a"
             ],
             [
              0.8888888888888888,
              "#fdca26"
             ],
             [
              1,
              "#f0f921"
             ]
            ],
            "type": "histogram2d"
           }
          ],
          "histogram2dcontour": [
           {
            "colorbar": {
             "outlinewidth": 0,
             "ticks": ""
            },
            "colorscale": [
             [
              0,
              "#0d0887"
             ],
             [
              0.1111111111111111,
              "#46039f"
             ],
             [
              0.2222222222222222,
              "#7201a8"
             ],
             [
              0.3333333333333333,
              "#9c179e"
             ],
             [
              0.4444444444444444,
              "#bd3786"
             ],
             [
              0.5555555555555556,
              "#d8576b"
             ],
             [
              0.6666666666666666,
              "#ed7953"
             ],
             [
              0.7777777777777778,
              "#fb9f3a"
             ],
             [
              0.8888888888888888,
              "#fdca26"
             ],
             [
              1,
              "#f0f921"
             ]
            ],
            "type": "histogram2dcontour"
           }
          ],
          "mesh3d": [
           {
            "colorbar": {
             "outlinewidth": 0,
             "ticks": ""
            },
            "type": "mesh3d"
           }
          ],
          "parcoords": [
           {
            "line": {
             "colorbar": {
              "outlinewidth": 0,
              "ticks": ""
             }
            },
            "type": "parcoords"
           }
          ],
          "pie": [
           {
            "automargin": true,
            "type": "pie"
           }
          ],
          "scatter": [
           {
            "marker": {
             "colorbar": {
              "outlinewidth": 0,
              "ticks": ""
             }
            },
            "type": "scatter"
           }
          ],
          "scatter3d": [
           {
            "line": {
             "colorbar": {
              "outlinewidth": 0,
              "ticks": ""
             }
            },
            "marker": {
             "colorbar": {
              "outlinewidth": 0,
              "ticks": ""
             }
            },
            "type": "scatter3d"
           }
          ],
          "scattercarpet": [
           {
            "marker": {
             "colorbar": {
              "outlinewidth": 0,
              "ticks": ""
             }
            },
            "type": "scattercarpet"
           }
          ],
          "scattergeo": [
           {
            "marker": {
             "colorbar": {
              "outlinewidth": 0,
              "ticks": ""
             }
            },
            "type": "scattergeo"
           }
          ],
          "scattergl": [
           {
            "marker": {
             "colorbar": {
              "outlinewidth": 0,
              "ticks": ""
             }
            },
            "type": "scattergl"
           }
          ],
          "scattermapbox": [
           {
            "marker": {
             "colorbar": {
              "outlinewidth": 0,
              "ticks": ""
             }
            },
            "type": "scattermapbox"
           }
          ],
          "scatterpolar": [
           {
            "marker": {
             "colorbar": {
              "outlinewidth": 0,
              "ticks": ""
             }
            },
            "type": "scatterpolar"
           }
          ],
          "scatterpolargl": [
           {
            "marker": {
             "colorbar": {
              "outlinewidth": 0,
              "ticks": ""
             }
            },
            "type": "scatterpolargl"
           }
          ],
          "scatterternary": [
           {
            "marker": {
             "colorbar": {
              "outlinewidth": 0,
              "ticks": ""
             }
            },
            "type": "scatterternary"
           }
          ],
          "surface": [
           {
            "colorbar": {
             "outlinewidth": 0,
             "ticks": ""
            },
            "colorscale": [
             [
              0,
              "#0d0887"
             ],
             [
              0.1111111111111111,
              "#46039f"
             ],
             [
              0.2222222222222222,
              "#7201a8"
             ],
             [
              0.3333333333333333,
              "#9c179e"
             ],
             [
              0.4444444444444444,
              "#bd3786"
             ],
             [
              0.5555555555555556,
              "#d8576b"
             ],
             [
              0.6666666666666666,
              "#ed7953"
             ],
             [
              0.7777777777777778,
              "#fb9f3a"
             ],
             [
              0.8888888888888888,
              "#fdca26"
             ],
             [
              1,
              "#f0f921"
             ]
            ],
            "type": "surface"
           }
          ],
          "table": [
           {
            "cells": {
             "fill": {
              "color": "#EBF0F8"
             },
             "line": {
              "color": "white"
             }
            },
            "header": {
             "fill": {
              "color": "#C8D4E3"
             },
             "line": {
              "color": "white"
             }
            },
            "type": "table"
           }
          ]
         },
         "layout": {
          "annotationdefaults": {
           "arrowcolor": "#2a3f5f",
           "arrowhead": 0,
           "arrowwidth": 1
          },
          "coloraxis": {
           "colorbar": {
            "outlinewidth": 0,
            "ticks": ""
           }
          },
          "colorscale": {
           "diverging": [
            [
             0,
             "#8e0152"
            ],
            [
             0.1,
             "#c51b7d"
            ],
            [
             0.2,
             "#de77ae"
            ],
            [
             0.3,
             "#f1b6da"
            ],
            [
             0.4,
             "#fde0ef"
            ],
            [
             0.5,
             "#f7f7f7"
            ],
            [
             0.6,
             "#e6f5d0"
            ],
            [
             0.7,
             "#b8e186"
            ],
            [
             0.8,
             "#7fbc41"
            ],
            [
             0.9,
             "#4d9221"
            ],
            [
             1,
             "#276419"
            ]
           ],
           "sequential": [
            [
             0,
             "#0d0887"
            ],
            [
             0.1111111111111111,
             "#46039f"
            ],
            [
             0.2222222222222222,
             "#7201a8"
            ],
            [
             0.3333333333333333,
             "#9c179e"
            ],
            [
             0.4444444444444444,
             "#bd3786"
            ],
            [
             0.5555555555555556,
             "#d8576b"
            ],
            [
             0.6666666666666666,
             "#ed7953"
            ],
            [
             0.7777777777777778,
             "#fb9f3a"
            ],
            [
             0.8888888888888888,
             "#fdca26"
            ],
            [
             1,
             "#f0f921"
            ]
           ],
           "sequentialminus": [
            [
             0,
             "#0d0887"
            ],
            [
             0.1111111111111111,
             "#46039f"
            ],
            [
             0.2222222222222222,
             "#7201a8"
            ],
            [
             0.3333333333333333,
             "#9c179e"
            ],
            [
             0.4444444444444444,
             "#bd3786"
            ],
            [
             0.5555555555555556,
             "#d8576b"
            ],
            [
             0.6666666666666666,
             "#ed7953"
            ],
            [
             0.7777777777777778,
             "#fb9f3a"
            ],
            [
             0.8888888888888888,
             "#fdca26"
            ],
            [
             1,
             "#f0f921"
            ]
           ]
          },
          "colorway": [
           "#636efa",
           "#EF553B",
           "#00cc96",
           "#ab63fa",
           "#FFA15A",
           "#19d3f3",
           "#FF6692",
           "#B6E880",
           "#FF97FF",
           "#FECB52"
          ],
          "font": {
           "color": "#2a3f5f"
          },
          "geo": {
           "bgcolor": "white",
           "lakecolor": "white",
           "landcolor": "#E5ECF6",
           "showlakes": true,
           "showland": true,
           "subunitcolor": "white"
          },
          "hoverlabel": {
           "align": "left"
          },
          "hovermode": "closest",
          "mapbox": {
           "style": "light"
          },
          "paper_bgcolor": "white",
          "plot_bgcolor": "#E5ECF6",
          "polar": {
           "angularaxis": {
            "gridcolor": "white",
            "linecolor": "white",
            "ticks": ""
           },
           "bgcolor": "#E5ECF6",
           "radialaxis": {
            "gridcolor": "white",
            "linecolor": "white",
            "ticks": ""
           }
          },
          "scene": {
           "xaxis": {
            "backgroundcolor": "#E5ECF6",
            "gridcolor": "white",
            "gridwidth": 2,
            "linecolor": "white",
            "showbackground": true,
            "ticks": "",
            "zerolinecolor": "white"
           },
           "yaxis": {
            "backgroundcolor": "#E5ECF6",
            "gridcolor": "white",
            "gridwidth": 2,
            "linecolor": "white",
            "showbackground": true,
            "ticks": "",
            "zerolinecolor": "white"
           },
           "zaxis": {
            "backgroundcolor": "#E5ECF6",
            "gridcolor": "white",
            "gridwidth": 2,
            "linecolor": "white",
            "showbackground": true,
            "ticks": "",
            "zerolinecolor": "white"
           }
          },
          "shapedefaults": {
           "line": {
            "color": "#2a3f5f"
           }
          },
          "ternary": {
           "aaxis": {
            "gridcolor": "white",
            "linecolor": "white",
            "ticks": ""
           },
           "baxis": {
            "gridcolor": "white",
            "linecolor": "white",
            "ticks": ""
           },
           "bgcolor": "#E5ECF6",
           "caxis": {
            "gridcolor": "white",
            "linecolor": "white",
            "ticks": ""
           }
          },
          "title": {
           "x": 0.05
          },
          "xaxis": {
           "automargin": true,
           "gridcolor": "white",
           "linecolor": "white",
           "ticks": "",
           "title": {
            "standoff": 15
           },
           "zerolinecolor": "white",
           "zerolinewidth": 2
          },
          "yaxis": {
           "automargin": true,
           "gridcolor": "white",
           "linecolor": "white",
           "ticks": "",
           "title": {
            "standoff": 15
           },
           "zerolinecolor": "white",
           "zerolinewidth": 2
          }
         }
        },
        "xaxis": {
         "anchor": "y",
         "domain": [
          0,
          1
         ],
         "tickmode": "array",
         "ticktext": [
          "12/23",
          "12/30",
          "1/6",
          "1/13",
          "1/20",
          "1/27",
          "2/3",
          "2/10",
          "2/17",
          "2/24",
          "3/2",
          "3/9",
          "3/16",
          "3/23",
          "3/30",
          "4/6",
          "4/13",
          "4/20",
          "4/27",
          "5/4",
          "5/11",
          "5/18",
          "5/25",
          "6/1",
          "6/8",
          "6/15",
          "6/22",
          "6/29",
          "7/6",
          "7/13",
          "7/20",
          "7/27",
          "8/3",
          "8/10",
          "8/17",
          "8/24",
          "8/31",
          "9/7",
          "9/14",
          "9/21",
          "9/28",
          "10/5",
          "10/12",
          "10/19",
          "10/26",
          "11/2",
          "11/9",
          "11/16",
          "11/23",
          "11/30",
          "12/7",
          "12/14"
         ],
         "tickvals": [
          0,
          1,
          2,
          3,
          4,
          5,
          6,
          7,
          8,
          9,
          10,
          11,
          12,
          13,
          14,
          15,
          16,
          17,
          18,
          19,
          20,
          21,
          22,
          23,
          24,
          25,
          26,
          27,
          28,
          29,
          30,
          31,
          32,
          33,
          34,
          35,
          36,
          37,
          38,
          39,
          40,
          41,
          42,
          43,
          44,
          45,
          46,
          47,
          48,
          49,
          50,
          51
         ],
         "title": {
          "text": "week"
         }
        },
        "yaxis": {
         "anchor": "x",
         "domain": [
          0,
          1
         ],
         "title": {
          "text": "diff"
         }
        }
       }
      },
      "text/html": [
       "<div>\n",
       "        \n",
       "        \n",
       "            <div id=\"57061843-4440-4fc1-86e7-46f4b8c612d7\" class=\"plotly-graph-div\" style=\"height:525px; width:100%;\"></div>\n",
       "            <script type=\"text/javascript\">\n",
       "                require([\"plotly\"], function(Plotly) {\n",
       "                    window.PLOTLYENV=window.PLOTLYENV || {};\n",
       "                    \n",
       "                if (document.getElementById(\"57061843-4440-4fc1-86e7-46f4b8c612d7\")) {\n",
       "                    Plotly.newPlot(\n",
       "                        '57061843-4440-4fc1-86e7-46f4b8c612d7',\n",
       "                        [{\"hovertemplate\": \"MCT_CAT_CD=\\uac00\\uad6c<br>week=%{x}<br>diff=%{y}<extra></extra>\", \"legendgroup\": \"\\uac00\\uad6c\", \"line\": {\"color\": \"#636efa\", \"dash\": \"solid\"}, \"mode\": \"lines\", \"name\": \"\\uac00\\uad6c\", \"orientation\": \"v\", \"showlegend\": true, \"type\": \"scatter\", \"x\": [5, 6, 7, 8, 9, 10, 11, 12, 13, 14, 15, 16, 17, 18, 19, 20, 21, 22], \"xaxis\": \"x\", \"y\": [94818, 318817, 442526, 514788, 493037, 421192, 532628, 518703, 425849, 272015, 460046, 395994, 436872, 471195, 538530, 401929, 506617, 224628], \"yaxis\": \"y\"}, {\"hovertemplate\": \"MCT_CAT_CD=\\uac00\\uc804<br>week=%{x}<br>diff=%{y}<extra></extra>\", \"legendgroup\": \"\\uac00\\uc804\", \"line\": {\"color\": \"#EF553B\", \"dash\": \"solid\"}, \"mode\": \"lines\", \"name\": \"\\uac00\\uc804\", \"orientation\": \"v\", \"showlegend\": true, \"type\": \"scatter\", \"x\": [5, 6, 7, 8, 9, 10, 11, 12, 13, 14, 15, 16, 17, 18, 19, 20, 21, 22], \"xaxis\": \"x\", \"y\": [820559, 1414781, 1805969, 1833042, 2100793, 2356541, 2063588, 2063368, 1911915, 1857655, 2207342, 2047624, 1832310, 2125046, 1874391, 1784392, 1910454, 1347533], \"yaxis\": \"y\"}, {\"hovertemplate\": \"MCT_CAT_CD=\\uad11\\ud559\\uc81c\\ud488<br>week=%{x}<br>diff=%{y}<extra></extra>\", \"legendgroup\": \"\\uad11\\ud559\\uc81c\\ud488\", \"line\": {\"color\": \"#00cc96\", \"dash\": \"solid\"}, \"mode\": \"lines\", \"name\": \"\\uad11\\ud559\\uc81c\\ud488\", \"orientation\": \"v\", \"showlegend\": true, \"type\": \"scatter\", \"x\": [5, 6, 7, 8, 9, 10, 11, 12, 13, 14, 15, 16, 17, 18, 19, 20, 21, 22], \"xaxis\": \"x\", \"y\": [129704, 409163, 513699, 531172, 634932, 611676, 460624, 395604, 621545, 405304, 405294, 323052, 629322, 475487, 358767, 341536, 556080, 380899], \"yaxis\": \"y\"}, {\"hovertemplate\": \"MCT_CAT_CD=\\ub808\\uc800\\uc5c5\\uc18c<br>week=%{x}<br>diff=%{y}<extra></extra>\", \"legendgroup\": \"\\ub808\\uc800\\uc5c5\\uc18c\", \"line\": {\"color\": \"#ab63fa\", \"dash\": \"solid\"}, \"mode\": \"lines\", \"name\": \"\\ub808\\uc800\\uc5c5\\uc18c\", \"orientation\": \"v\", \"showlegend\": true, \"type\": \"scatter\", \"x\": [5, 6, 7, 8, 9, 10, 11, 12, 13, 14, 15, 16, 17, 18, 19, 20, 21, 22], \"xaxis\": \"x\", \"y\": [1384626, 2651993, 3385898, 3414560, 3579196, 3538050, 3147727, 3186741, 3433210, 3531039, 3058617, 3262203, 3332663, 3608379, 2954127, 2923165, 3326940, 2460385], \"yaxis\": \"y\"}, {\"hovertemplate\": \"MCT_CAT_CD=\\ub808\\uc800\\uc6a9\\ud488<br>week=%{x}<br>diff=%{y}<extra></extra>\", \"legendgroup\": \"\\ub808\\uc800\\uc6a9\\ud488\", \"line\": {\"color\": \"#FFA15A\", \"dash\": \"solid\"}, \"mode\": \"lines\", \"name\": \"\\ub808\\uc800\\uc6a9\\ud488\", \"orientation\": \"v\", \"showlegend\": true, \"type\": \"scatter\", \"x\": [5, 6, 7, 8, 9, 10, 11, 12, 13, 14, 15, 16, 17, 18, 19, 20, 21, 22], \"xaxis\": \"x\", \"y\": [3116078, 6260220, 5224893, 5510324, 7640745, 5822624, 5417418, 5213225, 5427349, 5505395, 5460803, 6070918, 6091490, 7492455, 7337031, 5798467, 6046303, 3197595], \"yaxis\": \"y\"}, {\"hovertemplate\": \"MCT_CAT_CD=\\ubb38\\ud654\\ucde8\\ubbf8<br>week=%{x}<br>diff=%{y}<extra></extra>\", \"legendgroup\": \"\\ubb38\\ud654\\ucde8\\ubbf8\", \"line\": {\"color\": \"#19d3f3\", \"dash\": \"solid\"}, \"mode\": \"lines\", \"name\": \"\\ubb38\\ud654\\ucde8\\ubbf8\", \"orientation\": \"v\", \"showlegend\": true, \"type\": \"scatter\", \"x\": [5, 6, 7, 8, 9, 10, 11, 12, 13, 14, 15, 16, 17, 18, 19, 20, 21, 22], \"xaxis\": \"x\", \"y\": [758704, 1492353, 1485827, 1366679, 1449272, 1326098, 1282600, 1136847, 1225111, 1144348, 1161248, 1151569, 1547767, 1599151, 1732241, 1353719, 1264444, 947718], \"yaxis\": \"y\"}, {\"hovertemplate\": \"MCT_CAT_CD=\\ubcf4\\uac74\\uc704\\uc0dd<br>week=%{x}<br>diff=%{y}<extra></extra>\", \"legendgroup\": \"\\ubcf4\\uac74\\uc704\\uc0dd\", \"line\": {\"color\": \"#FF6692\", \"dash\": \"solid\"}, \"mode\": \"lines\", \"name\": \"\\ubcf4\\uac74\\uc704\\uc0dd\", \"orientation\": \"v\", \"showlegend\": true, \"type\": \"scatter\", \"x\": [5, 6, 7, 8, 9, 10, 11, 12, 13, 14, 15, 16, 17, 18, 19, 20, 21, 22], \"xaxis\": \"x\", \"y\": [3026790, 5286098, 6607980, 6538967, 7868533, 6544336, 6336661, 6202041, 7229809, 6225823, 6327700, 6361197, 6375550, 7270726, 6751709, 6559966, 6186618, 5225168], \"yaxis\": \"y\"}, {\"hovertemplate\": \"MCT_CAT_CD=\\uc0ac\\ubb34\\ud1b5\\uc2e0<br>week=%{x}<br>diff=%{y}<extra></extra>\", \"legendgroup\": \"\\uc0ac\\ubb34\\ud1b5\\uc2e0\", \"line\": {\"color\": \"#B6E880\", \"dash\": \"solid\"}, \"mode\": \"lines\", \"name\": \"\\uc0ac\\ubb34\\ud1b5\\uc2e0\", \"orientation\": \"v\", \"showlegend\": true, \"type\": \"scatter\", \"x\": [5, 6, 7, 8, 9, 10, 11, 12, 13, 14, 15, 16, 17, 18, 19, 20, 21, 22], \"xaxis\": \"x\", \"y\": [1956213, 3509672, 3943680, 4052632, 4564366, 4159495, 3938268, 3862646, 4328835, 4108149, 5720163, 5998477, 6427952, 6731106, 6349702, 6376297, 6364837, 4972753], \"yaxis\": \"y\"}, {\"hovertemplate\": \"MCT_CAT_CD=\\uc11c\\uc801\\ubb38\\uad6c<br>week=%{x}<br>diff=%{y}<extra></extra>\", \"legendgroup\": \"\\uc11c\\uc801\\ubb38\\uad6c\", \"line\": {\"color\": \"#FF97FF\", \"dash\": \"solid\"}, \"mode\": \"lines\", \"name\": \"\\uc11c\\uc801\\ubb38\\uad6c\", \"orientation\": \"v\", \"showlegend\": true, \"type\": \"scatter\", \"x\": [5, 6, 7, 8, 9, 10, 11, 12, 13, 14, 15, 16, 17, 18, 19, 20, 21, 22], \"xaxis\": \"x\", \"y\": [776505, 1249679, 1837380, 1813285, 2431166, 3597729, 2533037, 2002132, 2089694, 2010119, 1613593, 1669508, 1413005, 1890268, 1592004, 1449651, 1511499, 1299197], \"yaxis\": \"y\"}, {\"hovertemplate\": \"MCT_CAT_CD=\\uc218\\ub9ac\\uc11c\\ube44\\uc2a4<br>week=%{x}<br>diff=%{y}<extra></extra>\", \"legendgroup\": \"\\uc218\\ub9ac\\uc11c\\ube44\\uc2a4\", \"line\": {\"color\": \"#FECB52\", \"dash\": \"solid\"}, \"mode\": \"lines\", \"name\": \"\\uc218\\ub9ac\\uc11c\\ube44\\uc2a4\", \"orientation\": \"v\", \"showlegend\": true, \"type\": \"scatter\", \"x\": [5, 6, 7, 8, 9, 10, 11, 12, 13, 14, 15, 16, 17, 18, 19, 20, 21, 22], \"xaxis\": \"x\", \"y\": [128320, 202548, 393469, 415862, 389311, 624882, 459906, 486064, 460940, 437714, 473316, 476495, 649061, 524158, 554720, 602737, 582314, 466805], \"yaxis\": \"y\"}, {\"hovertemplate\": \"MCT_CAT_CD=\\uc219\\ubc15<br>week=%{x}<br>diff=%{y}<extra></extra>\", \"legendgroup\": \"\\uc219\\ubc15\", \"line\": {\"color\": \"#636efa\", \"dash\": \"solid\"}, \"mode\": \"lines\", \"name\": \"\\uc219\\ubc15\", \"orientation\": \"v\", \"showlegend\": true, \"type\": \"scatter\", \"x\": [5, 6, 7, 8, 9, 10, 11, 12, 13, 14, 15, 16, 17, 18, 19, 20, 21, 22], \"xaxis\": \"x\", \"y\": [1550921, 3569474, 3963919, 4243182, 4033211, 3242615, 3076013, 2946201, 3493957, 3439995, 3134079, 3508831, 4229704, 3491270, 4004648, 3590877, 4903386, 3516874], \"yaxis\": \"y\"}, {\"hovertemplate\": \"MCT_CAT_CD=\\uc2e0\\ubcc0\\uc7a1\\ud654<br>week=%{x}<br>diff=%{y}<extra></extra>\", \"legendgroup\": \"\\uc2e0\\ubcc0\\uc7a1\\ud654\", \"line\": {\"color\": \"#EF553B\", \"dash\": \"solid\"}, \"mode\": \"lines\", \"name\": \"\\uc2e0\\ubcc0\\uc7a1\\ud654\", \"orientation\": \"v\", \"showlegend\": true, \"type\": \"scatter\", \"x\": [5, 6, 7, 8, 9, 10, 11, 12, 13, 14, 15, 16, 17, 18, 19, 20, 21, 22], \"xaxis\": \"x\", \"y\": [686329, 1308765, 1477899, 1880231, 1791262, 1802635, 1871133, 1606900, 1777692, 1704353, 1537843, 1755643, 1751507, 2053988, 1760960, 1666101, 1940098, 1461343], \"yaxis\": \"y\"}, {\"hovertemplate\": \"MCT_CAT_CD=\\uc5f0\\ub8cc\\ud310\\ub9e4<br>week=%{x}<br>diff=%{y}<extra></extra>\", \"legendgroup\": \"\\uc5f0\\ub8cc\\ud310\\ub9e4\", \"line\": {\"color\": \"#00cc96\", \"dash\": \"solid\"}, \"mode\": \"lines\", \"name\": \"\\uc5f0\\ub8cc\\ud310\\ub9e4\", \"orientation\": \"v\", \"showlegend\": true, \"type\": \"scatter\", \"x\": [5, 6, 7, 8, 9, 10, 11, 12, 13, 14, 15, 16, 17, 18, 19, 20, 21, 22], \"xaxis\": \"x\", \"y\": [3832129, 7446472, 8316385, 8504790, 8472696, 7637408, 8130656, 7999085, 8201169, 8302608, 8051375, 8420844, 8096883, 8963472, 8556304, 8057565, 8603939, 6499663], \"yaxis\": \"y\"}, {\"hovertemplate\": \"MCT_CAT_CD=\\uc694\\uc2dd\\uc5c5\\uc18c<br>week=%{x}<br>diff=%{y}<extra></extra>\", \"legendgroup\": \"\\uc694\\uc2dd\\uc5c5\\uc18c\", \"line\": {\"color\": \"#ab63fa\", \"dash\": \"solid\"}, \"mode\": \"lines\", \"name\": \"\\uc694\\uc2dd\\uc5c5\\uc18c\", \"orientation\": \"v\", \"showlegend\": true, \"type\": \"scatter\", \"x\": [5, 6, 7, 8, 9, 10, 11, 12, 13, 14, 15, 16, 17, 18, 19, 20, 21, 22], \"xaxis\": \"x\", \"y\": [24759069, 46360195, 53707613, 55223767, 56687281, 53179961, 53165640, 54048528, 54014527, 52845007, 53284784, 54347507, 54315114, 57796256, 55139115, 53358760, 54305495, 36127442], \"yaxis\": \"y\"}, {\"hovertemplate\": \"MCT_CAT_CD=\\uc720\\ud1b5\\uc5c5<br>week=%{x}<br>diff=%{y}<extra></extra>\", \"legendgroup\": \"\\uc720\\ud1b5\\uc5c5\", \"line\": {\"color\": \"#FFA15A\", \"dash\": \"solid\"}, \"mode\": \"lines\", \"name\": \"\\uc720\\ud1b5\\uc5c5\", \"orientation\": \"v\", \"showlegend\": true, \"type\": \"scatter\", \"x\": [5, 6, 7, 8, 9, 10, 11, 12, 13, 14, 15, 16, 17, 18, 19, 20, 21, 22], \"xaxis\": \"x\", \"y\": [36674024, 61021713, 64181379, 61742738, 69067430, 66711755, 67422553, 65030737, 67081742, 68717351, 63937003, 69215274, 63508402, 72399011, 67868683, 70811392, 64396161, 40185462], \"yaxis\": \"y\"}, {\"hovertemplate\": \"MCT_CAT_CD=\\uc74c\\ub8cc\\uc2dd\\ud488<br>week=%{x}<br>diff=%{y}<extra></extra>\", \"legendgroup\": \"\\uc74c\\ub8cc\\uc2dd\\ud488\", \"line\": {\"color\": \"#19d3f3\", \"dash\": \"solid\"}, \"mode\": \"lines\", \"name\": \"\\uc74c\\ub8cc\\uc2dd\\ud488\", \"orientation\": \"v\", \"showlegend\": true, \"type\": \"scatter\", \"x\": [5, 6, 7, 8, 9, 10, 11, 12, 13, 14, 15, 16, 17, 18, 19, 20, 21, 22], \"xaxis\": \"x\", \"y\": [4369969, 3740381, 4220340, 4326587, 4810616, 4510664, 4716425, 4386971, 5116656, 4706169, 4613517, 4732435, 4949480, 5231502, 4581830, 4543867, 4463628, 3835343], \"yaxis\": \"y\"}, {\"hovertemplate\": \"MCT_CAT_CD=\\uc758\\ub8cc\\uae30\\uad00<br>week=%{x}<br>diff=%{y}<extra></extra>\", \"legendgroup\": \"\\uc758\\ub8cc\\uae30\\uad00\", \"line\": {\"color\": \"#FF6692\", \"dash\": \"solid\"}, \"mode\": \"lines\", \"name\": \"\\uc758\\ub8cc\\uae30\\uad00\", \"orientation\": \"v\", \"showlegend\": true, \"type\": \"scatter\", \"x\": [5, 6, 7, 8, 9, 10, 11, 12, 13, 14, 15, 16, 17, 18, 19, 20, 21, 22], \"xaxis\": \"x\", \"y\": [11536406, 18187826, 32502824, 34666632, 40349407, 30502652, 31498354, 32301665, 44115342, 30343886, 31041013, 33233143, 40250509, 34606357, 27939462, 31777789, 34046386, 38427420], \"yaxis\": \"y\"}, {\"hovertemplate\": \"MCT_CAT_CD=\\uc758\\ubcf5<br>week=%{x}<br>diff=%{y}<extra></extra>\", \"legendgroup\": \"\\uc758\\ubcf5\", \"line\": {\"color\": \"#B6E880\", \"dash\": \"solid\"}, \"mode\": \"lines\", \"name\": \"\\uc758\\ubcf5\", \"orientation\": \"v\", \"showlegend\": true, \"type\": \"scatter\", \"x\": [5, 6, 7, 8, 9, 10, 11, 12, 13, 14, 15, 16, 17, 18, 19, 20, 21, 22], \"xaxis\": \"x\", \"y\": [2902365, 5042228, 5732065, 5814266, 7110219, 6455936, 6122058, 5856015, 5937202, 5918944, 6081015, 6612779, 6331432, 7532639, 7171825, 6679666, 6793536, 3887432], \"yaxis\": \"y\"}, {\"hovertemplate\": \"MCT_CAT_CD=\\uc790\\ub3d9\\ucc28\\uc815\\ube44<br>week=%{x}<br>diff=%{y}<extra></extra>\", \"legendgroup\": \"\\uc790\\ub3d9\\ucc28\\uc815\\ube44\", \"line\": {\"color\": \"#FF97FF\", \"dash\": \"solid\"}, \"mode\": \"lines\", \"name\": \"\\uc790\\ub3d9\\ucc28\\uc815\\ube44\", \"orientation\": \"v\", \"showlegend\": true, \"type\": \"scatter\", \"x\": [5, 6, 7, 8, 9, 10, 11, 12, 13, 14, 15, 16, 17, 18, 19, 20, 21, 22], \"xaxis\": \"x\", \"y\": [1086015, 1450615, 2296143, 2403925, 2418353, 2336613, 2114198, 2342015, 2289580, 2470545, 2083695, 2315790, 2385364, 2683880, 2213985, 2320336, 2329349, 1971042], \"yaxis\": \"y\"}, {\"hovertemplate\": \"MCT_CAT_CD=\\uc790\\ub3d9\\ucc28\\ud310\\ub9e4<br>week=%{x}<br>diff=%{y}<extra></extra>\", \"legendgroup\": \"\\uc790\\ub3d9\\ucc28\\ud310\\ub9e4\", \"line\": {\"color\": \"#FECB52\", \"dash\": \"solid\"}, \"mode\": \"lines\", \"name\": \"\\uc790\\ub3d9\\ucc28\\ud310\\ub9e4\", \"orientation\": \"v\", \"showlegend\": true, \"type\": \"scatter\", \"x\": [5, 6, 7, 8, 9, 10, 11, 12, 13, 14, 15, 16, 17, 18, 19, 20, 21, 22], \"xaxis\": \"x\", \"y\": [109944, 328478, 459758, 701165, 1018459, 560756, 549996, 926870, 1094572, 796252, 695435, 883267, 831807, 783611, 737058, 682690, 624456, 538584], \"yaxis\": \"y\"}, {\"hovertemplate\": \"MCT_CAT_CD=\\uc804\\uae30<br>week=%{x}<br>diff=%{y}<extra></extra>\", \"legendgroup\": \"\\uc804\\uae30\", \"line\": {\"color\": \"#636efa\", \"dash\": \"solid\"}, \"mode\": \"lines\", \"name\": \"\\uc804\\uae30\", \"orientation\": \"v\", \"showlegend\": true, \"type\": \"scatter\", \"x\": [5, 6, 7, 8, 9, 10, 11, 12, 13, 14, 15, 16, 17, 18, 19, 20, 21, 22], \"xaxis\": \"x\", \"y\": [28084, 44022, 100440, 81376, 38853, 56343, 55056, 90291, 49443, 49339, 56870, 42993, 52494, 76976, 67225, 51707, 68924, 40665], \"yaxis\": \"y\"}, {\"hovertemplate\": \"MCT_CAT_CD=\\uc8fc\\ubc29\\uc6a9\\uad6c<br>week=%{x}<br>diff=%{y}<extra></extra>\", \"legendgroup\": \"\\uc8fc\\ubc29\\uc6a9\\uad6c\", \"line\": {\"color\": \"#EF553B\", \"dash\": \"solid\"}, \"mode\": \"lines\", \"name\": \"\\uc8fc\\ubc29\\uc6a9\\uad6c\", \"orientation\": \"v\", \"showlegend\": true, \"type\": \"scatter\", \"x\": [5, 6, 7, 8, 9, 10, 11, 12, 13, 14, 15, 16, 17, 18, 19, 20, 21, 22], \"xaxis\": \"x\", \"y\": [162525, 317708, 495460, 653712, 548664, 625307, 455974, 548669, 710361, 620877, 659994, 504752, 481755, 617804, 533099, 694673, 545007, 466752], \"yaxis\": \"y\"}, {\"hovertemplate\": \"MCT_CAT_CD=\\uc9c1\\ubb3c<br>week=%{x}<br>diff=%{y}<extra></extra>\", \"legendgroup\": \"\\uc9c1\\ubb3c\", \"line\": {\"color\": \"#00cc96\", \"dash\": \"solid\"}, \"mode\": \"lines\", \"name\": \"\\uc9c1\\ubb3c\", \"orientation\": \"v\", \"showlegend\": true, \"type\": \"scatter\", \"x\": [5, 6, 7, 8, 9, 10, 11, 12, 13, 14, 15, 16, 17, 18, 19, 20, 21, 22], \"xaxis\": \"x\", \"y\": [147754, 234201, 439089, 444850, 545251, 537652, 490539, 512261, 601003, 504632, 552750, 491559, 397199, 676267, 533542, 436376, 519505, 416783], \"yaxis\": \"y\"}],\n",
       "                        {\"legend\": {\"title\": {\"text\": \"MCT_CAT_CD\"}, \"tracegroupgap\": 0}, \"margin\": {\"t\": 60}, \"template\": {\"data\": {\"bar\": [{\"error_x\": {\"color\": \"#2a3f5f\"}, \"error_y\": {\"color\": \"#2a3f5f\"}, \"marker\": {\"line\": {\"color\": \"#E5ECF6\", \"width\": 0.5}}, \"type\": \"bar\"}], \"barpolar\": [{\"marker\": {\"line\": {\"color\": \"#E5ECF6\", \"width\": 0.5}}, \"type\": \"barpolar\"}], \"carpet\": [{\"aaxis\": {\"endlinecolor\": \"#2a3f5f\", \"gridcolor\": \"white\", \"linecolor\": \"white\", \"minorgridcolor\": \"white\", \"startlinecolor\": \"#2a3f5f\"}, \"baxis\": {\"endlinecolor\": \"#2a3f5f\", \"gridcolor\": \"white\", \"linecolor\": \"white\", \"minorgridcolor\": \"white\", \"startlinecolor\": \"#2a3f5f\"}, \"type\": \"carpet\"}], \"choropleth\": [{\"colorbar\": {\"outlinewidth\": 0, \"ticks\": \"\"}, \"type\": \"choropleth\"}], \"contour\": [{\"colorbar\": {\"outlinewidth\": 0, \"ticks\": \"\"}, \"colorscale\": [[0.0, \"#0d0887\"], [0.1111111111111111, \"#46039f\"], [0.2222222222222222, \"#7201a8\"], [0.3333333333333333, \"#9c179e\"], [0.4444444444444444, \"#bd3786\"], [0.5555555555555556, \"#d8576b\"], [0.6666666666666666, \"#ed7953\"], [0.7777777777777778, \"#fb9f3a\"], [0.8888888888888888, \"#fdca26\"], [1.0, \"#f0f921\"]], \"type\": \"contour\"}], \"contourcarpet\": [{\"colorbar\": {\"outlinewidth\": 0, \"ticks\": \"\"}, \"type\": \"contourcarpet\"}], \"heatmap\": [{\"colorbar\": {\"outlinewidth\": 0, \"ticks\": \"\"}, \"colorscale\": [[0.0, \"#0d0887\"], [0.1111111111111111, \"#46039f\"], [0.2222222222222222, \"#7201a8\"], [0.3333333333333333, \"#9c179e\"], [0.4444444444444444, \"#bd3786\"], [0.5555555555555556, \"#d8576b\"], [0.6666666666666666, \"#ed7953\"], [0.7777777777777778, \"#fb9f3a\"], [0.8888888888888888, \"#fdca26\"], [1.0, \"#f0f921\"]], \"type\": \"heatmap\"}], \"heatmapgl\": [{\"colorbar\": {\"outlinewidth\": 0, \"ticks\": \"\"}, \"colorscale\": [[0.0, \"#0d0887\"], [0.1111111111111111, \"#46039f\"], [0.2222222222222222, \"#7201a8\"], [0.3333333333333333, \"#9c179e\"], [0.4444444444444444, \"#bd3786\"], [0.5555555555555556, \"#d8576b\"], [0.6666666666666666, \"#ed7953\"], [0.7777777777777778, \"#fb9f3a\"], [0.8888888888888888, \"#fdca26\"], [1.0, \"#f0f921\"]], \"type\": \"heatmapgl\"}], \"histogram\": [{\"marker\": {\"colorbar\": {\"outlinewidth\": 0, \"ticks\": \"\"}}, \"type\": \"histogram\"}], \"histogram2d\": [{\"colorbar\": {\"outlinewidth\": 0, \"ticks\": \"\"}, \"colorscale\": [[0.0, \"#0d0887\"], [0.1111111111111111, \"#46039f\"], [0.2222222222222222, \"#7201a8\"], [0.3333333333333333, \"#9c179e\"], [0.4444444444444444, \"#bd3786\"], [0.5555555555555556, \"#d8576b\"], [0.6666666666666666, \"#ed7953\"], [0.7777777777777778, \"#fb9f3a\"], [0.8888888888888888, \"#fdca26\"], [1.0, \"#f0f921\"]], \"type\": \"histogram2d\"}], \"histogram2dcontour\": [{\"colorbar\": {\"outlinewidth\": 0, \"ticks\": \"\"}, \"colorscale\": [[0.0, \"#0d0887\"], [0.1111111111111111, \"#46039f\"], [0.2222222222222222, \"#7201a8\"], [0.3333333333333333, \"#9c179e\"], [0.4444444444444444, \"#bd3786\"], [0.5555555555555556, \"#d8576b\"], [0.6666666666666666, \"#ed7953\"], [0.7777777777777778, \"#fb9f3a\"], [0.8888888888888888, \"#fdca26\"], [1.0, \"#f0f921\"]], \"type\": \"histogram2dcontour\"}], \"mesh3d\": [{\"colorbar\": {\"outlinewidth\": 0, \"ticks\": \"\"}, \"type\": \"mesh3d\"}], \"parcoords\": [{\"line\": {\"colorbar\": {\"outlinewidth\": 0, \"ticks\": \"\"}}, \"type\": \"parcoords\"}], \"pie\": [{\"automargin\": true, \"type\": \"pie\"}], \"scatter\": [{\"marker\": {\"colorbar\": {\"outlinewidth\": 0, \"ticks\": \"\"}}, \"type\": \"scatter\"}], \"scatter3d\": [{\"line\": {\"colorbar\": {\"outlinewidth\": 0, \"ticks\": \"\"}}, \"marker\": {\"colorbar\": {\"outlinewidth\": 0, \"ticks\": \"\"}}, \"type\": \"scatter3d\"}], \"scattercarpet\": [{\"marker\": {\"colorbar\": {\"outlinewidth\": 0, \"ticks\": \"\"}}, \"type\": \"scattercarpet\"}], \"scattergeo\": [{\"marker\": {\"colorbar\": {\"outlinewidth\": 0, \"ticks\": \"\"}}, \"type\": \"scattergeo\"}], \"scattergl\": [{\"marker\": {\"colorbar\": {\"outlinewidth\": 0, \"ticks\": \"\"}}, \"type\": \"scattergl\"}], \"scattermapbox\": [{\"marker\": {\"colorbar\": {\"outlinewidth\": 0, \"ticks\": \"\"}}, \"type\": \"scattermapbox\"}], \"scatterpolar\": [{\"marker\": {\"colorbar\": {\"outlinewidth\": 0, \"ticks\": \"\"}}, \"type\": \"scatterpolar\"}], \"scatterpolargl\": [{\"marker\": {\"colorbar\": {\"outlinewidth\": 0, \"ticks\": \"\"}}, \"type\": \"scatterpolargl\"}], \"scatterternary\": [{\"marker\": {\"colorbar\": {\"outlinewidth\": 0, \"ticks\": \"\"}}, \"type\": \"scatterternary\"}], \"surface\": [{\"colorbar\": {\"outlinewidth\": 0, \"ticks\": \"\"}, \"colorscale\": [[0.0, \"#0d0887\"], [0.1111111111111111, \"#46039f\"], [0.2222222222222222, \"#7201a8\"], [0.3333333333333333, \"#9c179e\"], [0.4444444444444444, \"#bd3786\"], [0.5555555555555556, \"#d8576b\"], [0.6666666666666666, \"#ed7953\"], [0.7777777777777778, \"#fb9f3a\"], [0.8888888888888888, \"#fdca26\"], [1.0, \"#f0f921\"]], \"type\": \"surface\"}], \"table\": [{\"cells\": {\"fill\": {\"color\": \"#EBF0F8\"}, \"line\": {\"color\": \"white\"}}, \"header\": {\"fill\": {\"color\": \"#C8D4E3\"}, \"line\": {\"color\": \"white\"}}, \"type\": \"table\"}]}, \"layout\": {\"annotationdefaults\": {\"arrowcolor\": \"#2a3f5f\", \"arrowhead\": 0, \"arrowwidth\": 1}, \"coloraxis\": {\"colorbar\": {\"outlinewidth\": 0, \"ticks\": \"\"}}, \"colorscale\": {\"diverging\": [[0, \"#8e0152\"], [0.1, \"#c51b7d\"], [0.2, \"#de77ae\"], [0.3, \"#f1b6da\"], [0.4, \"#fde0ef\"], [0.5, \"#f7f7f7\"], [0.6, \"#e6f5d0\"], [0.7, \"#b8e186\"], [0.8, \"#7fbc41\"], [0.9, \"#4d9221\"], [1, \"#276419\"]], \"sequential\": [[0.0, \"#0d0887\"], [0.1111111111111111, \"#46039f\"], [0.2222222222222222, \"#7201a8\"], [0.3333333333333333, \"#9c179e\"], [0.4444444444444444, \"#bd3786\"], [0.5555555555555556, \"#d8576b\"], [0.6666666666666666, \"#ed7953\"], [0.7777777777777778, \"#fb9f3a\"], [0.8888888888888888, \"#fdca26\"], [1.0, \"#f0f921\"]], \"sequentialminus\": [[0.0, \"#0d0887\"], [0.1111111111111111, \"#46039f\"], [0.2222222222222222, \"#7201a8\"], [0.3333333333333333, \"#9c179e\"], [0.4444444444444444, \"#bd3786\"], [0.5555555555555556, \"#d8576b\"], [0.6666666666666666, \"#ed7953\"], [0.7777777777777778, \"#fb9f3a\"], [0.8888888888888888, \"#fdca26\"], [1.0, \"#f0f921\"]]}, \"colorway\": [\"#636efa\", \"#EF553B\", \"#00cc96\", \"#ab63fa\", \"#FFA15A\", \"#19d3f3\", \"#FF6692\", \"#B6E880\", \"#FF97FF\", \"#FECB52\"], \"font\": {\"color\": \"#2a3f5f\"}, \"geo\": {\"bgcolor\": \"white\", \"lakecolor\": \"white\", \"landcolor\": \"#E5ECF6\", \"showlakes\": true, \"showland\": true, \"subunitcolor\": \"white\"}, \"hoverlabel\": {\"align\": \"left\"}, \"hovermode\": \"closest\", \"mapbox\": {\"style\": \"light\"}, \"paper_bgcolor\": \"white\", \"plot_bgcolor\": \"#E5ECF6\", \"polar\": {\"angularaxis\": {\"gridcolor\": \"white\", \"linecolor\": \"white\", \"ticks\": \"\"}, \"bgcolor\": \"#E5ECF6\", \"radialaxis\": {\"gridcolor\": \"white\", \"linecolor\": \"white\", \"ticks\": \"\"}}, \"scene\": {\"xaxis\": {\"backgroundcolor\": \"#E5ECF6\", \"gridcolor\": \"white\", \"gridwidth\": 2, \"linecolor\": \"white\", \"showbackground\": true, \"ticks\": \"\", \"zerolinecolor\": \"white\"}, \"yaxis\": {\"backgroundcolor\": \"#E5ECF6\", \"gridcolor\": \"white\", \"gridwidth\": 2, \"linecolor\": \"white\", \"showbackground\": true, \"ticks\": \"\", \"zerolinecolor\": \"white\"}, \"zaxis\": {\"backgroundcolor\": \"#E5ECF6\", \"gridcolor\": \"white\", \"gridwidth\": 2, \"linecolor\": \"white\", \"showbackground\": true, \"ticks\": \"\", \"zerolinecolor\": \"white\"}}, \"shapedefaults\": {\"line\": {\"color\": \"#2a3f5f\"}}, \"ternary\": {\"aaxis\": {\"gridcolor\": \"white\", \"linecolor\": \"white\", \"ticks\": \"\"}, \"baxis\": {\"gridcolor\": \"white\", \"linecolor\": \"white\", \"ticks\": \"\"}, \"bgcolor\": \"#E5ECF6\", \"caxis\": {\"gridcolor\": \"white\", \"linecolor\": \"white\", \"ticks\": \"\"}}, \"title\": {\"x\": 0.05}, \"xaxis\": {\"automargin\": true, \"gridcolor\": \"white\", \"linecolor\": \"white\", \"ticks\": \"\", \"title\": {\"standoff\": 15}, \"zerolinecolor\": \"white\", \"zerolinewidth\": 2}, \"yaxis\": {\"automargin\": true, \"gridcolor\": \"white\", \"linecolor\": \"white\", \"ticks\": \"\", \"title\": {\"standoff\": 15}, \"zerolinecolor\": \"white\", \"zerolinewidth\": 2}}}, \"xaxis\": {\"anchor\": \"y\", \"domain\": [0.0, 1.0], \"tickmode\": \"array\", \"ticktext\": [\"12/23\", \"12/30\", \"1/6\", \"1/13\", \"1/20\", \"1/27\", \"2/3\", \"2/10\", \"2/17\", \"2/24\", \"3/2\", \"3/9\", \"3/16\", \"3/23\", \"3/30\", \"4/6\", \"4/13\", \"4/20\", \"4/27\", \"5/4\", \"5/11\", \"5/18\", \"5/25\", \"6/1\", \"6/8\", \"6/15\", \"6/22\", \"6/29\", \"7/6\", \"7/13\", \"7/20\", \"7/27\", \"8/3\", \"8/10\", \"8/17\", \"8/24\", \"8/31\", \"9/7\", \"9/14\", \"9/21\", \"9/28\", \"10/5\", \"10/12\", \"10/19\", \"10/26\", \"11/2\", \"11/9\", \"11/16\", \"11/23\", \"11/30\", \"12/7\", \"12/14\"], \"tickvals\": [0, 1, 2, 3, 4, 5, 6, 7, 8, 9, 10, 11, 12, 13, 14, 15, 16, 17, 18, 19, 20, 21, 22, 23, 24, 25, 26, 27, 28, 29, 30, 31, 32, 33, 34, 35, 36, 37, 38, 39, 40, 41, 42, 43, 44, 45, 46, 47, 48, 49, 50, 51], \"title\": {\"text\": \"week\"}}, \"yaxis\": {\"anchor\": \"x\", \"domain\": [0.0, 1.0], \"title\": {\"text\": \"diff\"}}},\n",
       "                        {\"responsive\": true}\n",
       "                    ).then(function(){\n",
       "                            \n",
       "var gd = document.getElementById('57061843-4440-4fc1-86e7-46f4b8c612d7');\n",
       "var x = new MutationObserver(function (mutations, observer) {{\n",
       "        var display = window.getComputedStyle(gd).display;\n",
       "        if (!display || display === 'none') {{\n",
       "            console.log([gd, 'removed!']);\n",
       "            Plotly.purge(gd);\n",
       "            observer.disconnect();\n",
       "        }}\n",
       "}});\n",
       "\n",
       "// Listen for the removal of the full notebook cells\n",
       "var notebookContainer = gd.closest('#notebook-container');\n",
       "if (notebookContainer) {{\n",
       "    x.observe(notebookContainer, {childList: true});\n",
       "}}\n",
       "\n",
       "// Listen for the clearing of the current output cell\n",
       "var outputEl = gd.closest('.output');\n",
       "if (outputEl) {{\n",
       "    x.observe(outputEl, {childList: true});\n",
       "}}\n",
       "\n",
       "                        })\n",
       "                };\n",
       "                });\n",
       "            </script>\n",
       "        </div>"
      ]
     },
     "metadata": {},
     "output_type": "display_data"
    }
   ],
   "source": [
    "fig = px.line(total_diff2, x=\"week\", y=\"diff\", color='MCT_CAT_CD')\n",
    "\n",
    "fig.update_layout(\n",
    "    xaxis = dict(\n",
    "        tickmode = 'array',\n",
    "        tickvals = np.arange(0, len(test2)),\n",
    "        ticktext = test2\n",
    "    )\n",
    ")\n",
    "fig.show()"
   ]
  },
  {
   "cell_type": "code",
   "execution_count": 22,
   "metadata": {},
   "outputs": [
    {
     "data": {
      "application/vnd.plotly.v1+json": {
       "config": {
        "plotlyServerURL": "https://plot.ly"
       },
       "data": [
        {
         "hovertemplate": "MCT_CAT_CD=가구<br>week=%{x}<br>diff=%{y}<extra></extra>",
         "legendgroup": "가구",
         "line": {
          "color": "#636efa",
          "dash": "solid"
         },
         "mode": "lines",
         "name": "가구",
         "orientation": "v",
         "showlegend": true,
         "type": "scatter",
         "x": [
          5,
          6,
          7,
          8,
          9,
          10,
          11,
          12,
          13,
          14,
          15,
          16,
          17,
          18,
          19,
          20,
          21,
          22
         ],
         "xaxis": "x",
         "y": [
          475.17489495798316,
          303.54505498018153,
          191.02501037540083,
          196.20589003336715,
          176.94262498934143,
          260.1597402597402,
          52.40851926151464,
          -74.19725888553535,
          102.12966341067596,
          224.37444484149268,
          25.520808455016777,
          204.33421145064978,
          277.1698787129284,
          148.33129075616444,
          6.812184571016587,
          41.39233808966111,
          -29.76927524729723,
          104.2434967884277
         ],
         "yaxis": "y"
        },
        {
         "hovertemplate": "MCT_CAT_CD=가전<br>week=%{x}<br>diff=%{y}<extra></extra>",
         "legendgroup": "가전",
         "line": {
          "color": "#EF553B",
          "dash": "solid"
         },
         "mode": "lines",
         "name": "가전",
         "orientation": "v",
         "showlegend": true,
         "type": "scatter",
         "x": [
          5,
          6,
          7,
          8,
          9,
          10,
          11,
          12,
          13,
          14,
          15,
          16,
          17,
          18,
          19,
          20,
          21,
          22
         ],
         "xaxis": "x",
         "y": [
          187.948220343856,
          46.07272687725455,
          52.973243219299235,
          38.64223544606557,
          66.38091590898372,
          42.734121017482494,
          -32.85321393782394,
          -2.084629134266436,
          37.505595620321685,
          20.09521277962375,
          3.347861718717354,
          -23.079868374960512,
          -6.322463873887017,
          40.99993525562462,
          -23.006325815537082,
          26.282401582252305,
          16.395323192783792,
          -0.5634554274360539
         ],
         "yaxis": "y"
        },
        {
         "hovertemplate": "MCT_CAT_CD=광학제품<br>week=%{x}<br>diff=%{y}<extra></extra>",
         "legendgroup": "광학제품",
         "line": {
          "color": "#00cc96",
          "dash": "solid"
         },
         "mode": "lines",
         "name": "광학제품",
         "orientation": "v",
         "showlegend": true,
         "type": "scatter",
         "x": [
          5,
          6,
          7,
          8,
          9,
          10,
          11,
          12,
          13,
          14,
          15,
          16,
          17,
          18,
          19,
          20,
          21,
          22
         ],
         "xaxis": "x",
         "y": [
          53.67676821747442,
          -22.186555836483507,
          10.52818936129998,
          -9.309608974771557,
          16.230052570058874,
          25.834434506357752,
          -8.594555584896504,
          -3.4519830110693235,
          -47.592383112436515,
          33.57871180044514,
          8.975184550876982,
          29.3264294361314,
          -20.246586396176482,
          -23.753066988769348,
          12.018156116361943,
          8.542053276055597,
          -34.52751147272187,
          -6.223310859129569
         ],
         "yaxis": "y"
        },
        {
         "hovertemplate": "MCT_CAT_CD=레저업소<br>week=%{x}<br>diff=%{y}<extra></extra>",
         "legendgroup": "레저업소",
         "line": {
          "color": "#ab63fa",
          "dash": "solid"
         },
         "mode": "lines",
         "name": "레저업소",
         "orientation": "v",
         "showlegend": true,
         "type": "scatter",
         "x": [
          5,
          6,
          7,
          8,
          9,
          10,
          11,
          12,
          13,
          14,
          15,
          16,
          17,
          18,
          19,
          20,
          21,
          22
         ],
         "xaxis": "x",
         "y": [
          -0.5575835684982859,
          2.7825855155343113,
          -3.3872772340198907,
          -3.6371773795822016,
          -5.594530218071402,
          -8.000777789213556,
          -5.7866003115785,
          -3.3257164889205626,
          -9.593019583761517,
          -9.639233453893146,
          -5.137793872942641,
          -6.3706005711829725,
          -1.5627024239865719,
          -2.419646342136325,
          2.0311996799963126,
          2.113531836750713,
          0.7654836748241713,
          0.024810960765449863
         ],
         "yaxis": "y"
        },
        {
         "hovertemplate": "MCT_CAT_CD=레저용품<br>week=%{x}<br>diff=%{y}<extra></extra>",
         "legendgroup": "레저용품",
         "line": {
          "color": "#FFA15A",
          "dash": "solid"
         },
         "mode": "lines",
         "name": "레저용품",
         "orientation": "v",
         "showlegend": true,
         "type": "scatter",
         "x": [
          5,
          6,
          7,
          8,
          9,
          10,
          11,
          12,
          13,
          14,
          15,
          16,
          17,
          18,
          19,
          20,
          21,
          22
         ],
         "xaxis": "x",
         "y": [
          -0.6834910123258169,
          3.612179034525468,
          6.052140939605238,
          6.2715247900433155,
          10.492578034116676,
          10.527864095443604,
          6.764231905302509,
          2.516125432217933,
          3.833110648651001,
          2.4993660481848394,
          2.441524088691196,
          -2.6424070998221083,
          -1.882050710793095,
          -0.0483146069291962,
          2.094487794001722,
          5.71485395479084,
          7.347351096251003,
          0.1646805562445337
         ],
         "yaxis": "y"
        },
        {
         "hovertemplate": "MCT_CAT_CD=문화취미<br>week=%{x}<br>diff=%{y}<extra></extra>",
         "legendgroup": "문화취미",
         "line": {
          "color": "#19d3f3",
          "dash": "solid"
         },
         "mode": "lines",
         "name": "문화취미",
         "orientation": "v",
         "showlegend": true,
         "type": "scatter",
         "x": [
          5,
          6,
          7,
          8,
          9,
          10,
          11,
          12,
          13,
          14,
          15,
          16,
          17,
          18,
          19,
          20,
          21,
          22
         ],
         "xaxis": "x",
         "y": [
          2.160667265448531,
          7.816377822205119,
          -1.8563558696483895,
          2.2191987594111886,
          1.513051676480984,
          5.89053087724113,
          2.0981845522928246,
          8.049075266328892,
          7.283176712244632,
          8.135201705579686,
          7.940097989326556,
          2.2333909571714123,
          13.44644669436305,
          8.862668294805498,
          3.141567261691673,
          8.098668093935064,
          3.863390664493025,
          4.984739509132037
         ],
         "yaxis": "y"
        },
        {
         "hovertemplate": "MCT_CAT_CD=보건위생<br>week=%{x}<br>diff=%{y}<extra></extra>",
         "legendgroup": "보건위생",
         "line": {
          "color": "#FF6692",
          "dash": "solid"
         },
         "mode": "lines",
         "name": "보건위생",
         "orientation": "v",
         "showlegend": true,
         "type": "scatter",
         "x": [
          5,
          6,
          7,
          8,
          9,
          10,
          11,
          12,
          13,
          14,
          15,
          16,
          17,
          18,
          19,
          20,
          21,
          22
         ],
         "xaxis": "x",
         "y": [
          3.4435523351053448,
          14.226356257965648,
          6.735746769899791,
          2.2246481765681168,
          12.4152896332198,
          2.1541877545653563,
          4.545643587709726,
          3.0008715951419305,
          -3.8599303279921813,
          9.12921082962663,
          4.341145174467947,
          3.7199146820730533,
          3.6877878520789196,
          6.8271627783908855,
          6.770945696606347,
          10.592936278111175,
          14.22624277988377,
          1.676472707119224
         ],
         "yaxis": "y"
        },
        {
         "hovertemplate": "MCT_CAT_CD=사무통신<br>week=%{x}<br>diff=%{y}<extra></extra>",
         "legendgroup": "사무통신",
         "line": {
          "color": "#B6E880",
          "dash": "solid"
         },
         "mode": "lines",
         "name": "사무통신",
         "orientation": "v",
         "showlegend": true,
         "type": "scatter",
         "x": [
          5,
          6,
          7,
          8,
          9,
          10,
          11,
          12,
          13,
          14,
          15,
          16,
          17,
          18,
          19,
          20,
          21,
          22
         ],
         "xaxis": "x",
         "y": [
          -0.48542944707120217,
          0.6298749829592873,
          -0.22837101881615318,
          0.15774193851655127,
          4.704235668919335,
          1.6846105472252564,
          1.576728074755505,
          1.2421723871961952,
          1.0658212161391756,
          2.378070575206344,
          0.914490140373756,
          0.7755973386769739,
          0.5679688613746166,
          1.0577957938207607,
          0.20991271736511052,
          0.7551082271640368,
          0.4249376543132559,
          0.2564522560323219
         ],
         "yaxis": "y"
        },
        {
         "hovertemplate": "MCT_CAT_CD=서적문구<br>week=%{x}<br>diff=%{y}<extra></extra>",
         "legendgroup": "서적문구",
         "line": {
          "color": "#FF97FF",
          "dash": "solid"
         },
         "mode": "lines",
         "name": "서적문구",
         "orientation": "v",
         "showlegend": true,
         "type": "scatter",
         "x": [
          5,
          6,
          7,
          8,
          9,
          10,
          11,
          12,
          13,
          14,
          15,
          16,
          17,
          18,
          19,
          20,
          21,
          22
         ],
         "xaxis": "x",
         "y": [
          -4.683361755330534,
          5.311531322296602,
          -0.5823407259554685,
          1.1713349148148744,
          7.7275754257311355,
          2.8705515883828205,
          6.824483690424511,
          3.928238646562871,
          3.844260258662885,
          11.537230385869567,
          6.298216170024215,
          4.018440456803884,
          4.4545497290940474,
          4.3571946731936535,
          5.172967284140814,
          6.143525226844773,
          3.684721866966516,
          3.0215780838600814
         ],
         "yaxis": "y"
        },
        {
         "hovertemplate": "MCT_CAT_CD=수리서비스<br>week=%{x}<br>diff=%{y}<extra></extra>",
         "legendgroup": "수리서비스",
         "line": {
          "color": "#FECB52",
          "dash": "solid"
         },
         "mode": "lines",
         "name": "수리서비스",
         "orientation": "v",
         "showlegend": true,
         "type": "scatter",
         "x": [
          5,
          6,
          7,
          8,
          9,
          10,
          11,
          12,
          13,
          14,
          15,
          16,
          17,
          18,
          19,
          20,
          21,
          22
         ],
         "xaxis": "x",
         "y": [
          -5.550905130393815,
          4.652874611999351,
          2.956360626921331,
          1.157219197523741,
          4.27229417479462,
          -0.12005721653771673,
          2.136358982559024,
          3.8223448326467313,
          4.640591847670436,
          2.9038439030785135,
          5.92183386234019,
          5.469679622949059,
          4.101813195638179,
          -0.6691960607869092,
          3.822707470358935,
          3.702772056554032,
          1.3069349176209926,
          -5.00366340637267
         ],
         "yaxis": "y"
        },
        {
         "hovertemplate": "MCT_CAT_CD=숙박<br>week=%{x}<br>diff=%{y}<extra></extra>",
         "legendgroup": "숙박",
         "line": {
          "color": "#636efa",
          "dash": "solid"
         },
         "mode": "lines",
         "name": "숙박",
         "orientation": "v",
         "showlegend": true,
         "type": "scatter",
         "x": [
          5,
          6,
          7,
          8,
          9,
          10,
          11,
          12,
          13,
          14,
          15,
          16,
          17,
          18,
          19,
          20,
          21,
          22
         ],
         "xaxis": "x",
         "y": [
          62.799666516726916,
          4.905449894604359,
          0.03542945462631053,
          -13.375527973409334,
          -9.637323214105095,
          -19.095970398143976,
          2.8619226268014586,
          21.038628067860742,
          -25.59714131399994,
          -14.415142625179499,
          -4.980782243015156,
          2.7044565410329966,
          -32.70186594085919,
          3.807908208382898,
          -2.48322053949056,
          3.5661888732226714,
          -43.671075286501164,
          -49.03326242752388
         ],
         "yaxis": "y"
        },
        {
         "hovertemplate": "MCT_CAT_CD=신변잡화<br>week=%{x}<br>diff=%{y}<extra></extra>",
         "legendgroup": "신변잡화",
         "line": {
          "color": "#EF553B",
          "dash": "solid"
         },
         "mode": "lines",
         "name": "신변잡화",
         "orientation": "v",
         "showlegend": true,
         "type": "scatter",
         "x": [
          5,
          6,
          7,
          8,
          9,
          10,
          11,
          12,
          13,
          14,
          15,
          16,
          17,
          18,
          19,
          20,
          21,
          22
         ],
         "xaxis": "x",
         "y": [
          13.455486788442947,
          10.966011857271674,
          9.699064573482367,
          5.395300817249854,
          37.407040274677094,
          25.485813453724504,
          5.0306242796127165,
          15.644174937202884,
          16.650590962352332,
          14.354939520068818,
          14.541864575367953,
          0.6818830771034143,
          6.551706272925649,
          6.100635905946881,
          10.513496486500458,
          4.01373850824379,
          -4.329857882661656,
          -16.244693177001267
         ],
         "yaxis": "y"
        },
        {
         "hovertemplate": "MCT_CAT_CD=연료판매<br>week=%{x}<br>diff=%{y}<extra></extra>",
         "legendgroup": "연료판매",
         "line": {
          "color": "#00cc96",
          "dash": "solid"
         },
         "mode": "lines",
         "name": "연료판매",
         "orientation": "v",
         "showlegend": true,
         "type": "scatter",
         "x": [
          5,
          6,
          7,
          8,
          9,
          10,
          11,
          12,
          13,
          14,
          15,
          16,
          17,
          18,
          19,
          20,
          21,
          22
         ],
         "xaxis": "x",
         "y": [
          1.7035794042324852,
          3.762470060550555,
          2.3843707148420776,
          2.067560213334403,
          3.1278052406685646,
          1.7744507420652766,
          2.100303550918568,
          -0.027668730833532607,
          0.8115659468144472,
          1.4934870623821155,
          -0.28921610100837114,
          -2.2529736660759383,
          -2.849378684764467,
          -4.507377071403958,
          -4.4396453046160005,
          -4.7524142795449364,
          -5.7327416192431215,
          -7.805756448020382
         ],
         "yaxis": "y"
        },
        {
         "hovertemplate": "MCT_CAT_CD=요식업소<br>week=%{x}<br>diff=%{y}<extra></extra>",
         "legendgroup": "요식업소",
         "line": {
          "color": "#ab63fa",
          "dash": "solid"
         },
         "mode": "lines",
         "name": "요식업소",
         "orientation": "v",
         "showlegend": true,
         "type": "scatter",
         "x": [
          5,
          6,
          7,
          8,
          9,
          10,
          11,
          12,
          13,
          14,
          15,
          16,
          17,
          18,
          19,
          20,
          21,
          22
         ],
         "xaxis": "x",
         "y": [
          -1.292840865455819,
          -1.139929791513696,
          -0.7463706361284199,
          -2.117850665720171,
          -3.1081108171289795,
          -2.2468698210429174,
          -2.114185799197031,
          -2.1487639851103904,
          -1.7201493196095665,
          -1.4313230298479223,
          -1.4653117466240086,
          -0.8003067686083725,
          -0.6521163731652191,
          -0.7865962940594002,
          -0.2125707807667201,
          -0.1411132838838114,
          0.12611412390766574,
          0.3472562606136247
         ],
         "yaxis": "y"
        },
        {
         "hovertemplate": "MCT_CAT_CD=유통업<br>week=%{x}<br>diff=%{y}<extra></extra>",
         "legendgroup": "유통업",
         "line": {
          "color": "#FFA15A",
          "dash": "solid"
         },
         "mode": "lines",
         "name": "유통업",
         "orientation": "v",
         "showlegend": true,
         "type": "scatter",
         "x": [
          5,
          6,
          7,
          8,
          9,
          10,
          11,
          12,
          13,
          14,
          15,
          16,
          17,
          18,
          19,
          20,
          21,
          22
         ],
         "xaxis": "x",
         "y": [
          -2.523315063103148,
          -4.9551139418977534,
          -0.563420446058263,
          -0.14683044794730904,
          -2.1997001270020924,
          -1.3704465909798422,
          -0.3856073233526516,
          0.21502341319446927,
          0.3245916032075016,
          -0.410587234147183,
          0.9741764722996109,
          1.7671453626216511,
          1.7355406649525094,
          3.246495804260846,
          3.098395572790107,
          2.7839671646877626,
          2.674633317308743,
          5.020847737116544
         ],
         "yaxis": "y"
        },
        {
         "hovertemplate": "MCT_CAT_CD=음료식품<br>week=%{x}<br>diff=%{y}<extra></extra>",
         "legendgroup": "음료식품",
         "line": {
          "color": "#19d3f3",
          "dash": "solid"
         },
         "mode": "lines",
         "name": "음료식품",
         "orientation": "v",
         "showlegend": true,
         "type": "scatter",
         "x": [
          5,
          6,
          7,
          8,
          9,
          10,
          11,
          12,
          13,
          14,
          15,
          16,
          17,
          18,
          19,
          20,
          21,
          22
         ],
         "xaxis": "x",
         "y": [
          -11.994779894802752,
          -1.5399616483845016,
          0.8458846541626031,
          1.321837151530616,
          1.9593557887250412,
          1.6556563335200156,
          1.5253134591821098,
          1.7607698843785968,
          1.3027017353975499,
          1.609585264163611,
          1.5254732562630622,
          1.6904076076881278,
          1.293474180591689,
          1.4817398150093322,
          2.3613292820533047,
          2.9025040871103283,
          4.108163383426961,
          1.6957861448865454
         ],
         "yaxis": "y"
        },
        {
         "hovertemplate": "MCT_CAT_CD=의료기관<br>week=%{x}<br>diff=%{y}<extra></extra>",
         "legendgroup": "의료기관",
         "line": {
          "color": "#FF6692",
          "dash": "solid"
         },
         "mode": "lines",
         "name": "의료기관",
         "orientation": "v",
         "showlegend": true,
         "type": "scatter",
         "x": [
          5,
          6,
          7,
          8,
          9,
          10,
          11,
          12,
          13,
          14,
          15,
          16,
          17,
          18,
          19,
          20,
          21,
          22
         ],
         "xaxis": "x",
         "y": [
          -6.876908670107575,
          -0.2806896635118292,
          2.8164468858600387,
          -6.714193526636407,
          -2.087706813086214,
          -7.1644093442803225,
          -13.579569921295345,
          -13.222181723630307,
          -13.191219187518776,
          -1.8190195514709444,
          -6.895138562838696,
          -4.004118833148588,
          -11.973716340544499,
          7.709219098389497,
          -1.9434274581909676,
          -3.0460955681337936,
          -7.983333431143009,
          -9.097925694925635
         ],
         "yaxis": "y"
        },
        {
         "hovertemplate": "MCT_CAT_CD=의복<br>week=%{x}<br>diff=%{y}<extra></extra>",
         "legendgroup": "의복",
         "line": {
          "color": "#B6E880",
          "dash": "solid"
         },
         "mode": "lines",
         "name": "의복",
         "orientation": "v",
         "showlegend": true,
         "type": "scatter",
         "x": [
          5,
          6,
          7,
          8,
          9,
          10,
          11,
          12,
          13,
          14,
          15,
          16,
          17,
          18,
          19,
          20,
          21,
          22
         ],
         "xaxis": "x",
         "y": [
          8.64398085162287,
          16.501404164136538,
          7.569197563346634,
          14.87034434827197,
          13.827516356469701,
          23.266198688072294,
          10.939970153249718,
          9.123155267766563,
          10.459823006361965,
          5.188437073269043,
          -1.0698251290971683,
          3.327491433267042,
          11.57445603340912,
          3.195610642632488,
          5.614881474639041,
          5.061324585396449,
          2.8918374734920036,
          -0.8042762653571671
         ],
         "yaxis": "y"
        },
        {
         "hovertemplate": "MCT_CAT_CD=자동차정비<br>week=%{x}<br>diff=%{y}<extra></extra>",
         "legendgroup": "자동차정비",
         "line": {
          "color": "#FF97FF",
          "dash": "solid"
         },
         "mode": "lines",
         "name": "자동차정비",
         "orientation": "v",
         "showlegend": true,
         "type": "scatter",
         "x": [
          5,
          6,
          7,
          8,
          9,
          10,
          11,
          12,
          13,
          14,
          15,
          16,
          17,
          18,
          19,
          20,
          21,
          22
         ],
         "xaxis": "x",
         "y": [
          -4.420890964022121,
          12.686039563977708,
          5.914467522845104,
          8.843750119107998,
          16.807630964122872,
          8.945320927402062,
          10.63165198570045,
          7.895128387954038,
          11.75665112425214,
          7.0540391910759865,
          8.858767655062124,
          5.8610775061515525,
          6.983396945100736,
          3.9683698951665676,
          5.969546401229028,
          3.647953890369383,
          6.227984021734802,
          4.2392309006382085
         ],
         "yaxis": "y"
        },
        {
         "hovertemplate": "MCT_CAT_CD=자동차판매<br>week=%{x}<br>diff=%{y}<extra></extra>",
         "legendgroup": "자동차판매",
         "line": {
          "color": "#FECB52",
          "dash": "solid"
         },
         "mode": "lines",
         "name": "자동차판매",
         "orientation": "v",
         "showlegend": true,
         "type": "scatter",
         "x": [
          5,
          6,
          7,
          8,
          9,
          10,
          11,
          12,
          13,
          14,
          15,
          16,
          17,
          18,
          19,
          20,
          21,
          22
         ],
         "xaxis": "x",
         "y": [
          46.55350668186054,
          -112.43363182907189,
          73.78792317863156,
          -119.41593724194877,
          -345.62105025918413,
          -157.05975109685141,
          -30.931031757130654,
          -168.88280923035228,
          -156.5001699729139,
          -248.80925826463186,
          -95.25836813512478,
          -146.2077574415424,
          66.68934108527128,
          -114.4745987281961,
          -222.5334365553344,
          69.13599603812054,
          -115.55057717507873,
          -116.27321498175115
         ],
         "yaxis": "y"
        },
        {
         "hovertemplate": "MCT_CAT_CD=전기<br>week=%{x}<br>diff=%{y}<extra></extra>",
         "legendgroup": "전기",
         "line": {
          "color": "#636efa",
          "dash": "solid"
         },
         "mode": "lines",
         "name": "전기",
         "orientation": "v",
         "showlegend": true,
         "type": "scatter",
         "x": [
          5,
          6,
          7,
          8,
          9,
          10,
          11,
          12,
          13,
          14,
          15,
          16,
          17,
          18,
          19,
          20,
          21,
          22
         ],
         "xaxis": "x",
         "y": [
          -101.75757575757575,
          10.212997612174348,
          -92.74826950341469,
          -62.067828428163864,
          -8.679251587036418,
          58.916507684154766,
          66.16559839660269,
          -73.30042234002772,
          15.608528847572671,
          -2.961640403747026,
          -88.4597668800863,
          -41.97535970253813,
          -11.874509640611336,
          67.40224521539187,
          -132.8929755226925,
          51.89893215502164,
          -56.70129140932062,
          -22.71963294921042
         ],
         "yaxis": "y"
        },
        {
         "hovertemplate": "MCT_CAT_CD=주방용구<br>week=%{x}<br>diff=%{y}<extra></extra>",
         "legendgroup": "주방용구",
         "line": {
          "color": "#EF553B",
          "dash": "solid"
         },
         "mode": "lines",
         "name": "주방용구",
         "orientation": "v",
         "showlegend": true,
         "type": "scatter",
         "x": [
          5,
          6,
          7,
          8,
          9,
          10,
          11,
          12,
          13,
          14,
          15,
          16,
          17,
          18,
          19,
          20,
          21,
          22
         ],
         "xaxis": "x",
         "y": [
          8.874013357619916,
          41.7295626457981,
          -9.207860931617375,
          -3.162783043559841,
          25.86963149339107,
          3.883964152803827,
          -8.745175151264434,
          12.800291587080977,
          -2.0497546201750936,
          11.482466922719425,
          -1.438443728330867,
          8.729788446395133,
          -1.5923197645727782,
          -70.16663446714672,
          -42.59701399185525,
          -66.87999897133977,
          -37.221727460646505,
          -45.13984048721835
         ],
         "yaxis": "y"
        },
        {
         "hovertemplate": "MCT_CAT_CD=직물<br>week=%{x}<br>diff=%{y}<extra></extra>",
         "legendgroup": "직물",
         "line": {
          "color": "#00cc96",
          "dash": "solid"
         },
         "mode": "lines",
         "name": "직물",
         "orientation": "v",
         "showlegend": true,
         "type": "scatter",
         "x": [
          5,
          6,
          7,
          8,
          9,
          10,
          11,
          12,
          13,
          14,
          15,
          16,
          17,
          18,
          19,
          20,
          21,
          22
         ],
         "xaxis": "x",
         "y": [
          -4.376104176721412,
          52.66041340081517,
          -1.5868163066391503,
          45.769360797560495,
          283.4819270172511,
          -12.729353699052467,
          68.09518811849117,
          -1.0819130711478522,
          -37.568013630440134,
          61.393875177222895,
          -46.815413859801225,
          14.237373748956514,
          11.309959924593628,
          -22.8545636751185,
          5.855127949965919,
          26.849010520745722,
          -12.671936764035323,
          -34.925445515201645
         ],
         "yaxis": "y"
        }
       ],
       "layout": {
        "legend": {
         "title": {
          "text": "MCT_CAT_CD"
         },
         "tracegroupgap": 0
        },
        "margin": {
         "t": 60
        },
        "template": {
         "data": {
          "bar": [
           {
            "error_x": {
             "color": "#2a3f5f"
            },
            "error_y": {
             "color": "#2a3f5f"
            },
            "marker": {
             "line": {
              "color": "#E5ECF6",
              "width": 0.5
             }
            },
            "type": "bar"
           }
          ],
          "barpolar": [
           {
            "marker": {
             "line": {
              "color": "#E5ECF6",
              "width": 0.5
             }
            },
            "type": "barpolar"
           }
          ],
          "carpet": [
           {
            "aaxis": {
             "endlinecolor": "#2a3f5f",
             "gridcolor": "white",
             "linecolor": "white",
             "minorgridcolor": "white",
             "startlinecolor": "#2a3f5f"
            },
            "baxis": {
             "endlinecolor": "#2a3f5f",
             "gridcolor": "white",
             "linecolor": "white",
             "minorgridcolor": "white",
             "startlinecolor": "#2a3f5f"
            },
            "type": "carpet"
           }
          ],
          "choropleth": [
           {
            "colorbar": {
             "outlinewidth": 0,
             "ticks": ""
            },
            "type": "choropleth"
           }
          ],
          "contour": [
           {
            "colorbar": {
             "outlinewidth": 0,
             "ticks": ""
            },
            "colorscale": [
             [
              0,
              "#0d0887"
             ],
             [
              0.1111111111111111,
              "#46039f"
             ],
             [
              0.2222222222222222,
              "#7201a8"
             ],
             [
              0.3333333333333333,
              "#9c179e"
             ],
             [
              0.4444444444444444,
              "#bd3786"
             ],
             [
              0.5555555555555556,
              "#d8576b"
             ],
             [
              0.6666666666666666,
              "#ed7953"
             ],
             [
              0.7777777777777778,
              "#fb9f3a"
             ],
             [
              0.8888888888888888,
              "#fdca26"
             ],
             [
              1,
              "#f0f921"
             ]
            ],
            "type": "contour"
           }
          ],
          "contourcarpet": [
           {
            "colorbar": {
             "outlinewidth": 0,
             "ticks": ""
            },
            "type": "contourcarpet"
           }
          ],
          "heatmap": [
           {
            "colorbar": {
             "outlinewidth": 0,
             "ticks": ""
            },
            "colorscale": [
             [
              0,
              "#0d0887"
             ],
             [
              0.1111111111111111,
              "#46039f"
             ],
             [
              0.2222222222222222,
              "#7201a8"
             ],
             [
              0.3333333333333333,
              "#9c179e"
             ],
             [
              0.4444444444444444,
              "#bd3786"
             ],
             [
              0.5555555555555556,
              "#d8576b"
             ],
             [
              0.6666666666666666,
              "#ed7953"
             ],
             [
              0.7777777777777778,
              "#fb9f3a"
             ],
             [
              0.8888888888888888,
              "#fdca26"
             ],
             [
              1,
              "#f0f921"
             ]
            ],
            "type": "heatmap"
           }
          ],
          "heatmapgl": [
           {
            "colorbar": {
             "outlinewidth": 0,
             "ticks": ""
            },
            "colorscale": [
             [
              0,
              "#0d0887"
             ],
             [
              0.1111111111111111,
              "#46039f"
             ],
             [
              0.2222222222222222,
              "#7201a8"
             ],
             [
              0.3333333333333333,
              "#9c179e"
             ],
             [
              0.4444444444444444,
              "#bd3786"
             ],
             [
              0.5555555555555556,
              "#d8576b"
             ],
             [
              0.6666666666666666,
              "#ed7953"
             ],
             [
              0.7777777777777778,
              "#fb9f3a"
             ],
             [
              0.8888888888888888,
              "#fdca26"
             ],
             [
              1,
              "#f0f921"
             ]
            ],
            "type": "heatmapgl"
           }
          ],
          "histogram": [
           {
            "marker": {
             "colorbar": {
              "outlinewidth": 0,
              "ticks": ""
             }
            },
            "type": "histogram"
           }
          ],
          "histogram2d": [
           {
            "colorbar": {
             "outlinewidth": 0,
             "ticks": ""
            },
            "colorscale": [
             [
              0,
              "#0d0887"
             ],
             [
              0.1111111111111111,
              "#46039f"
             ],
             [
              0.2222222222222222,
              "#7201a8"
             ],
             [
              0.3333333333333333,
              "#9c179e"
             ],
             [
              0.4444444444444444,
              "#bd3786"
             ],
             [
              0.5555555555555556,
              "#d8576b"
             ],
             [
              0.6666666666666666,
              "#ed7953"
             ],
             [
              0.7777777777777778,
              "#fb9f3a"
             ],
             [
              0.8888888888888888,
              "#fdca26"
             ],
             [
              1,
              "#f0f921"
             ]
            ],
            "type": "histogram2d"
           }
          ],
          "histogram2dcontour": [
           {
            "colorbar": {
             "outlinewidth": 0,
             "ticks": ""
            },
            "colorscale": [
             [
              0,
              "#0d0887"
             ],
             [
              0.1111111111111111,
              "#46039f"
             ],
             [
              0.2222222222222222,
              "#7201a8"
             ],
             [
              0.3333333333333333,
              "#9c179e"
             ],
             [
              0.4444444444444444,
              "#bd3786"
             ],
             [
              0.5555555555555556,
              "#d8576b"
             ],
             [
              0.6666666666666666,
              "#ed7953"
             ],
             [
              0.7777777777777778,
              "#fb9f3a"
             ],
             [
              0.8888888888888888,
              "#fdca26"
             ],
             [
              1,
              "#f0f921"
             ]
            ],
            "type": "histogram2dcontour"
           }
          ],
          "mesh3d": [
           {
            "colorbar": {
             "outlinewidth": 0,
             "ticks": ""
            },
            "type": "mesh3d"
           }
          ],
          "parcoords": [
           {
            "line": {
             "colorbar": {
              "outlinewidth": 0,
              "ticks": ""
             }
            },
            "type": "parcoords"
           }
          ],
          "pie": [
           {
            "automargin": true,
            "type": "pie"
           }
          ],
          "scatter": [
           {
            "marker": {
             "colorbar": {
              "outlinewidth": 0,
              "ticks": ""
             }
            },
            "type": "scatter"
           }
          ],
          "scatter3d": [
           {
            "line": {
             "colorbar": {
              "outlinewidth": 0,
              "ticks": ""
             }
            },
            "marker": {
             "colorbar": {
              "outlinewidth": 0,
              "ticks": ""
             }
            },
            "type": "scatter3d"
           }
          ],
          "scattercarpet": [
           {
            "marker": {
             "colorbar": {
              "outlinewidth": 0,
              "ticks": ""
             }
            },
            "type": "scattercarpet"
           }
          ],
          "scattergeo": [
           {
            "marker": {
             "colorbar": {
              "outlinewidth": 0,
              "ticks": ""
             }
            },
            "type": "scattergeo"
           }
          ],
          "scattergl": [
           {
            "marker": {
             "colorbar": {
              "outlinewidth": 0,
              "ticks": ""
             }
            },
            "type": "scattergl"
           }
          ],
          "scattermapbox": [
           {
            "marker": {
             "colorbar": {
              "outlinewidth": 0,
              "ticks": ""
             }
            },
            "type": "scattermapbox"
           }
          ],
          "scatterpolar": [
           {
            "marker": {
             "colorbar": {
              "outlinewidth": 0,
              "ticks": ""
             }
            },
            "type": "scatterpolar"
           }
          ],
          "scatterpolargl": [
           {
            "marker": {
             "colorbar": {
              "outlinewidth": 0,
              "ticks": ""
             }
            },
            "type": "scatterpolargl"
           }
          ],
          "scatterternary": [
           {
            "marker": {
             "colorbar": {
              "outlinewidth": 0,
              "ticks": ""
             }
            },
            "type": "scatterternary"
           }
          ],
          "surface": [
           {
            "colorbar": {
             "outlinewidth": 0,
             "ticks": ""
            },
            "colorscale": [
             [
              0,
              "#0d0887"
             ],
             [
              0.1111111111111111,
              "#46039f"
             ],
             [
              0.2222222222222222,
              "#7201a8"
             ],
             [
              0.3333333333333333,
              "#9c179e"
             ],
             [
              0.4444444444444444,
              "#bd3786"
             ],
             [
              0.5555555555555556,
              "#d8576b"
             ],
             [
              0.6666666666666666,
              "#ed7953"
             ],
             [
              0.7777777777777778,
              "#fb9f3a"
             ],
             [
              0.8888888888888888,
              "#fdca26"
             ],
             [
              1,
              "#f0f921"
             ]
            ],
            "type": "surface"
           }
          ],
          "table": [
           {
            "cells": {
             "fill": {
              "color": "#EBF0F8"
             },
             "line": {
              "color": "white"
             }
            },
            "header": {
             "fill": {
              "color": "#C8D4E3"
             },
             "line": {
              "color": "white"
             }
            },
            "type": "table"
           }
          ]
         },
         "layout": {
          "annotationdefaults": {
           "arrowcolor": "#2a3f5f",
           "arrowhead": 0,
           "arrowwidth": 1
          },
          "coloraxis": {
           "colorbar": {
            "outlinewidth": 0,
            "ticks": ""
           }
          },
          "colorscale": {
           "diverging": [
            [
             0,
             "#8e0152"
            ],
            [
             0.1,
             "#c51b7d"
            ],
            [
             0.2,
             "#de77ae"
            ],
            [
             0.3,
             "#f1b6da"
            ],
            [
             0.4,
             "#fde0ef"
            ],
            [
             0.5,
             "#f7f7f7"
            ],
            [
             0.6,
             "#e6f5d0"
            ],
            [
             0.7,
             "#b8e186"
            ],
            [
             0.8,
             "#7fbc41"
            ],
            [
             0.9,
             "#4d9221"
            ],
            [
             1,
             "#276419"
            ]
           ],
           "sequential": [
            [
             0,
             "#0d0887"
            ],
            [
             0.1111111111111111,
             "#46039f"
            ],
            [
             0.2222222222222222,
             "#7201a8"
            ],
            [
             0.3333333333333333,
             "#9c179e"
            ],
            [
             0.4444444444444444,
             "#bd3786"
            ],
            [
             0.5555555555555556,
             "#d8576b"
            ],
            [
             0.6666666666666666,
             "#ed7953"
            ],
            [
             0.7777777777777778,
             "#fb9f3a"
            ],
            [
             0.8888888888888888,
             "#fdca26"
            ],
            [
             1,
             "#f0f921"
            ]
           ],
           "sequentialminus": [
            [
             0,
             "#0d0887"
            ],
            [
             0.1111111111111111,
             "#46039f"
            ],
            [
             0.2222222222222222,
             "#7201a8"
            ],
            [
             0.3333333333333333,
             "#9c179e"
            ],
            [
             0.4444444444444444,
             "#bd3786"
            ],
            [
             0.5555555555555556,
             "#d8576b"
            ],
            [
             0.6666666666666666,
             "#ed7953"
            ],
            [
             0.7777777777777778,
             "#fb9f3a"
            ],
            [
             0.8888888888888888,
             "#fdca26"
            ],
            [
             1,
             "#f0f921"
            ]
           ]
          },
          "colorway": [
           "#636efa",
           "#EF553B",
           "#00cc96",
           "#ab63fa",
           "#FFA15A",
           "#19d3f3",
           "#FF6692",
           "#B6E880",
           "#FF97FF",
           "#FECB52"
          ],
          "font": {
           "color": "#2a3f5f"
          },
          "geo": {
           "bgcolor": "white",
           "lakecolor": "white",
           "landcolor": "#E5ECF6",
           "showlakes": true,
           "showland": true,
           "subunitcolor": "white"
          },
          "hoverlabel": {
           "align": "left"
          },
          "hovermode": "closest",
          "mapbox": {
           "style": "light"
          },
          "paper_bgcolor": "white",
          "plot_bgcolor": "#E5ECF6",
          "polar": {
           "angularaxis": {
            "gridcolor": "white",
            "linecolor": "white",
            "ticks": ""
           },
           "bgcolor": "#E5ECF6",
           "radialaxis": {
            "gridcolor": "white",
            "linecolor": "white",
            "ticks": ""
           }
          },
          "scene": {
           "xaxis": {
            "backgroundcolor": "#E5ECF6",
            "gridcolor": "white",
            "gridwidth": 2,
            "linecolor": "white",
            "showbackground": true,
            "ticks": "",
            "zerolinecolor": "white"
           },
           "yaxis": {
            "backgroundcolor": "#E5ECF6",
            "gridcolor": "white",
            "gridwidth": 2,
            "linecolor": "white",
            "showbackground": true,
            "ticks": "",
            "zerolinecolor": "white"
           },
           "zaxis": {
            "backgroundcolor": "#E5ECF6",
            "gridcolor": "white",
            "gridwidth": 2,
            "linecolor": "white",
            "showbackground": true,
            "ticks": "",
            "zerolinecolor": "white"
           }
          },
          "shapedefaults": {
           "line": {
            "color": "#2a3f5f"
           }
          },
          "ternary": {
           "aaxis": {
            "gridcolor": "white",
            "linecolor": "white",
            "ticks": ""
           },
           "baxis": {
            "gridcolor": "white",
            "linecolor": "white",
            "ticks": ""
           },
           "bgcolor": "#E5ECF6",
           "caxis": {
            "gridcolor": "white",
            "linecolor": "white",
            "ticks": ""
           }
          },
          "title": {
           "x": 0.05
          },
          "xaxis": {
           "automargin": true,
           "gridcolor": "white",
           "linecolor": "white",
           "ticks": "",
           "title": {
            "standoff": 15
           },
           "zerolinecolor": "white",
           "zerolinewidth": 2
          },
          "yaxis": {
           "automargin": true,
           "gridcolor": "white",
           "linecolor": "white",
           "ticks": "",
           "title": {
            "standoff": 15
           },
           "zerolinecolor": "white",
           "zerolinewidth": 2
          }
         }
        },
        "xaxis": {
         "anchor": "y",
         "domain": [
          0,
          1
         ],
         "tickmode": "array",
         "ticktext": [
          "12/23",
          "12/30",
          "1/6",
          "1/13",
          "1/20",
          "1/27",
          "2/3",
          "2/10",
          "2/17",
          "2/24",
          "3/2",
          "3/9",
          "3/16",
          "3/23",
          "3/30",
          "4/6",
          "4/13",
          "4/20",
          "4/27",
          "5/4",
          "5/11",
          "5/18",
          "5/25",
          "6/1",
          "6/8",
          "6/15",
          "6/22",
          "6/29",
          "7/6",
          "7/13",
          "7/20",
          "7/27",
          "8/3",
          "8/10",
          "8/17",
          "8/24",
          "8/31",
          "9/7",
          "9/14",
          "9/21",
          "9/28",
          "10/5",
          "10/12",
          "10/19",
          "10/26",
          "11/2",
          "11/9",
          "11/16",
          "11/23",
          "11/30",
          "12/7",
          "12/14"
         ],
         "tickvals": [
          0,
          1,
          2,
          3,
          4,
          5,
          6,
          7,
          8,
          9,
          10,
          11,
          12,
          13,
          14,
          15,
          16,
          17,
          18,
          19,
          20,
          21,
          22,
          23,
          24,
          25,
          26,
          27,
          28,
          29,
          30,
          31,
          32,
          33,
          34,
          35,
          36,
          37,
          38,
          39,
          40,
          41,
          42,
          43,
          44,
          45,
          46,
          47,
          48,
          49,
          50,
          51
         ],
         "title": {
          "text": "week"
         }
        },
        "yaxis": {
         "anchor": "x",
         "domain": [
          0,
          1
         ],
         "title": {
          "text": "diff"
         }
        }
       }
      },
      "text/html": [
       "<div>\n",
       "        \n",
       "        \n",
       "            <div id=\"863633d2-38e8-495f-bd87-3c46c3a9203f\" class=\"plotly-graph-div\" style=\"height:525px; width:100%;\"></div>\n",
       "            <script type=\"text/javascript\">\n",
       "                require([\"plotly\"], function(Plotly) {\n",
       "                    window.PLOTLYENV=window.PLOTLYENV || {};\n",
       "                    \n",
       "                if (document.getElementById(\"863633d2-38e8-495f-bd87-3c46c3a9203f\")) {\n",
       "                    Plotly.newPlot(\n",
       "                        '863633d2-38e8-495f-bd87-3c46c3a9203f',\n",
       "                        [{\"hovertemplate\": \"MCT_CAT_CD=\\uac00\\uad6c<br>week=%{x}<br>diff=%{y}<extra></extra>\", \"legendgroup\": \"\\uac00\\uad6c\", \"line\": {\"color\": \"#636efa\", \"dash\": \"solid\"}, \"mode\": \"lines\", \"name\": \"\\uac00\\uad6c\", \"orientation\": \"v\", \"showlegend\": true, \"type\": \"scatter\", \"x\": [5, 6, 7, 8, 9, 10, 11, 12, 13, 14, 15, 16, 17, 18, 19, 20, 21, 22], \"xaxis\": \"x\", \"y\": [475.17489495798316, 303.54505498018153, 191.02501037540083, 196.20589003336715, 176.94262498934143, 260.1597402597402, 52.40851926151464, -74.19725888553535, 102.12966341067596, 224.37444484149268, 25.520808455016777, 204.33421145064978, 277.1698787129284, 148.33129075616444, 6.812184571016587, 41.39233808966111, -29.76927524729723, 104.2434967884277], \"yaxis\": \"y\"}, {\"hovertemplate\": \"MCT_CAT_CD=\\uac00\\uc804<br>week=%{x}<br>diff=%{y}<extra></extra>\", \"legendgroup\": \"\\uac00\\uc804\", \"line\": {\"color\": \"#EF553B\", \"dash\": \"solid\"}, \"mode\": \"lines\", \"name\": \"\\uac00\\uc804\", \"orientation\": \"v\", \"showlegend\": true, \"type\": \"scatter\", \"x\": [5, 6, 7, 8, 9, 10, 11, 12, 13, 14, 15, 16, 17, 18, 19, 20, 21, 22], \"xaxis\": \"x\", \"y\": [187.948220343856, 46.07272687725455, 52.973243219299235, 38.64223544606557, 66.38091590898372, 42.734121017482494, -32.85321393782394, -2.084629134266436, 37.505595620321685, 20.09521277962375, 3.347861718717354, -23.079868374960512, -6.322463873887017, 40.99993525562462, -23.006325815537082, 26.282401582252305, 16.395323192783792, -0.5634554274360539], \"yaxis\": \"y\"}, {\"hovertemplate\": \"MCT_CAT_CD=\\uad11\\ud559\\uc81c\\ud488<br>week=%{x}<br>diff=%{y}<extra></extra>\", \"legendgroup\": \"\\uad11\\ud559\\uc81c\\ud488\", \"line\": {\"color\": \"#00cc96\", \"dash\": \"solid\"}, \"mode\": \"lines\", \"name\": \"\\uad11\\ud559\\uc81c\\ud488\", \"orientation\": \"v\", \"showlegend\": true, \"type\": \"scatter\", \"x\": [5, 6, 7, 8, 9, 10, 11, 12, 13, 14, 15, 16, 17, 18, 19, 20, 21, 22], \"xaxis\": \"x\", \"y\": [53.67676821747442, -22.186555836483507, 10.52818936129998, -9.309608974771557, 16.230052570058874, 25.834434506357752, -8.594555584896504, -3.4519830110693235, -47.592383112436515, 33.57871180044514, 8.975184550876982, 29.3264294361314, -20.246586396176482, -23.753066988769348, 12.018156116361943, 8.542053276055597, -34.52751147272187, -6.223310859129569], \"yaxis\": \"y\"}, {\"hovertemplate\": \"MCT_CAT_CD=\\ub808\\uc800\\uc5c5\\uc18c<br>week=%{x}<br>diff=%{y}<extra></extra>\", \"legendgroup\": \"\\ub808\\uc800\\uc5c5\\uc18c\", \"line\": {\"color\": \"#ab63fa\", \"dash\": \"solid\"}, \"mode\": \"lines\", \"name\": \"\\ub808\\uc800\\uc5c5\\uc18c\", \"orientation\": \"v\", \"showlegend\": true, \"type\": \"scatter\", \"x\": [5, 6, 7, 8, 9, 10, 11, 12, 13, 14, 15, 16, 17, 18, 19, 20, 21, 22], \"xaxis\": \"x\", \"y\": [-0.5575835684982859, 2.7825855155343113, -3.3872772340198907, -3.6371773795822016, -5.594530218071402, -8.000777789213556, -5.7866003115785, -3.3257164889205626, -9.593019583761517, -9.639233453893146, -5.137793872942641, -6.3706005711829725, -1.5627024239865719, -2.419646342136325, 2.0311996799963126, 2.113531836750713, 0.7654836748241713, 0.024810960765449863], \"yaxis\": \"y\"}, {\"hovertemplate\": \"MCT_CAT_CD=\\ub808\\uc800\\uc6a9\\ud488<br>week=%{x}<br>diff=%{y}<extra></extra>\", \"legendgroup\": \"\\ub808\\uc800\\uc6a9\\ud488\", \"line\": {\"color\": \"#FFA15A\", \"dash\": \"solid\"}, \"mode\": \"lines\", \"name\": \"\\ub808\\uc800\\uc6a9\\ud488\", \"orientation\": \"v\", \"showlegend\": true, \"type\": \"scatter\", \"x\": [5, 6, 7, 8, 9, 10, 11, 12, 13, 14, 15, 16, 17, 18, 19, 20, 21, 22], \"xaxis\": \"x\", \"y\": [-0.6834910123258169, 3.612179034525468, 6.052140939605238, 6.2715247900433155, 10.492578034116676, 10.527864095443604, 6.764231905302509, 2.516125432217933, 3.833110648651001, 2.4993660481848394, 2.441524088691196, -2.6424070998221083, -1.882050710793095, -0.0483146069291962, 2.094487794001722, 5.71485395479084, 7.347351096251003, 0.1646805562445337], \"yaxis\": \"y\"}, {\"hovertemplate\": \"MCT_CAT_CD=\\ubb38\\ud654\\ucde8\\ubbf8<br>week=%{x}<br>diff=%{y}<extra></extra>\", \"legendgroup\": \"\\ubb38\\ud654\\ucde8\\ubbf8\", \"line\": {\"color\": \"#19d3f3\", \"dash\": \"solid\"}, \"mode\": \"lines\", \"name\": \"\\ubb38\\ud654\\ucde8\\ubbf8\", \"orientation\": \"v\", \"showlegend\": true, \"type\": \"scatter\", \"x\": [5, 6, 7, 8, 9, 10, 11, 12, 13, 14, 15, 16, 17, 18, 19, 20, 21, 22], \"xaxis\": \"x\", \"y\": [2.160667265448531, 7.816377822205119, -1.8563558696483895, 2.2191987594111886, 1.513051676480984, 5.89053087724113, 2.0981845522928246, 8.049075266328892, 7.283176712244632, 8.135201705579686, 7.940097989326556, 2.2333909571714123, 13.44644669436305, 8.862668294805498, 3.141567261691673, 8.098668093935064, 3.863390664493025, 4.984739509132037], \"yaxis\": \"y\"}, {\"hovertemplate\": \"MCT_CAT_CD=\\ubcf4\\uac74\\uc704\\uc0dd<br>week=%{x}<br>diff=%{y}<extra></extra>\", \"legendgroup\": \"\\ubcf4\\uac74\\uc704\\uc0dd\", \"line\": {\"color\": \"#FF6692\", \"dash\": \"solid\"}, \"mode\": \"lines\", \"name\": \"\\ubcf4\\uac74\\uc704\\uc0dd\", \"orientation\": \"v\", \"showlegend\": true, \"type\": \"scatter\", \"x\": [5, 6, 7, 8, 9, 10, 11, 12, 13, 14, 15, 16, 17, 18, 19, 20, 21, 22], \"xaxis\": \"x\", \"y\": [3.4435523351053448, 14.226356257965648, 6.735746769899791, 2.2246481765681168, 12.4152896332198, 2.1541877545653563, 4.545643587709726, 3.0008715951419305, -3.8599303279921813, 9.12921082962663, 4.341145174467947, 3.7199146820730533, 3.6877878520789196, 6.8271627783908855, 6.770945696606347, 10.592936278111175, 14.22624277988377, 1.676472707119224], \"yaxis\": \"y\"}, {\"hovertemplate\": \"MCT_CAT_CD=\\uc0ac\\ubb34\\ud1b5\\uc2e0<br>week=%{x}<br>diff=%{y}<extra></extra>\", \"legendgroup\": \"\\uc0ac\\ubb34\\ud1b5\\uc2e0\", \"line\": {\"color\": \"#B6E880\", \"dash\": \"solid\"}, \"mode\": \"lines\", \"name\": \"\\uc0ac\\ubb34\\ud1b5\\uc2e0\", \"orientation\": \"v\", \"showlegend\": true, \"type\": \"scatter\", \"x\": [5, 6, 7, 8, 9, 10, 11, 12, 13, 14, 15, 16, 17, 18, 19, 20, 21, 22], \"xaxis\": \"x\", \"y\": [-0.48542944707120217, 0.6298749829592873, -0.22837101881615318, 0.15774193851655127, 4.704235668919335, 1.6846105472252564, 1.576728074755505, 1.2421723871961952, 1.0658212161391756, 2.378070575206344, 0.914490140373756, 0.7755973386769739, 0.5679688613746166, 1.0577957938207607, 0.20991271736511052, 0.7551082271640368, 0.4249376543132559, 0.2564522560323219], \"yaxis\": \"y\"}, {\"hovertemplate\": \"MCT_CAT_CD=\\uc11c\\uc801\\ubb38\\uad6c<br>week=%{x}<br>diff=%{y}<extra></extra>\", \"legendgroup\": \"\\uc11c\\uc801\\ubb38\\uad6c\", \"line\": {\"color\": \"#FF97FF\", \"dash\": \"solid\"}, \"mode\": \"lines\", \"name\": \"\\uc11c\\uc801\\ubb38\\uad6c\", \"orientation\": \"v\", \"showlegend\": true, \"type\": \"scatter\", \"x\": [5, 6, 7, 8, 9, 10, 11, 12, 13, 14, 15, 16, 17, 18, 19, 20, 21, 22], \"xaxis\": \"x\", \"y\": [-4.683361755330534, 5.311531322296602, -0.5823407259554685, 1.1713349148148744, 7.7275754257311355, 2.8705515883828205, 6.824483690424511, 3.928238646562871, 3.844260258662885, 11.537230385869567, 6.298216170024215, 4.018440456803884, 4.4545497290940474, 4.3571946731936535, 5.172967284140814, 6.143525226844773, 3.684721866966516, 3.0215780838600814], \"yaxis\": \"y\"}, {\"hovertemplate\": \"MCT_CAT_CD=\\uc218\\ub9ac\\uc11c\\ube44\\uc2a4<br>week=%{x}<br>diff=%{y}<extra></extra>\", \"legendgroup\": \"\\uc218\\ub9ac\\uc11c\\ube44\\uc2a4\", \"line\": {\"color\": \"#FECB52\", \"dash\": \"solid\"}, \"mode\": \"lines\", \"name\": \"\\uc218\\ub9ac\\uc11c\\ube44\\uc2a4\", \"orientation\": \"v\", \"showlegend\": true, \"type\": \"scatter\", \"x\": [5, 6, 7, 8, 9, 10, 11, 12, 13, 14, 15, 16, 17, 18, 19, 20, 21, 22], \"xaxis\": \"x\", \"y\": [-5.550905130393815, 4.652874611999351, 2.956360626921331, 1.157219197523741, 4.27229417479462, -0.12005721653771673, 2.136358982559024, 3.8223448326467313, 4.640591847670436, 2.9038439030785135, 5.92183386234019, 5.469679622949059, 4.101813195638179, -0.6691960607869092, 3.822707470358935, 3.702772056554032, 1.3069349176209926, -5.00366340637267], \"yaxis\": \"y\"}, {\"hovertemplate\": \"MCT_CAT_CD=\\uc219\\ubc15<br>week=%{x}<br>diff=%{y}<extra></extra>\", \"legendgroup\": \"\\uc219\\ubc15\", \"line\": {\"color\": \"#636efa\", \"dash\": \"solid\"}, \"mode\": \"lines\", \"name\": \"\\uc219\\ubc15\", \"orientation\": \"v\", \"showlegend\": true, \"type\": \"scatter\", \"x\": [5, 6, 7, 8, 9, 10, 11, 12, 13, 14, 15, 16, 17, 18, 19, 20, 21, 22], \"xaxis\": \"x\", \"y\": [62.799666516726916, 4.905449894604359, 0.03542945462631053, -13.375527973409334, -9.637323214105095, -19.095970398143976, 2.8619226268014586, 21.038628067860742, -25.59714131399994, -14.415142625179499, -4.980782243015156, 2.7044565410329966, -32.70186594085919, 3.807908208382898, -2.48322053949056, 3.5661888732226714, -43.671075286501164, -49.03326242752388], \"yaxis\": \"y\"}, {\"hovertemplate\": \"MCT_CAT_CD=\\uc2e0\\ubcc0\\uc7a1\\ud654<br>week=%{x}<br>diff=%{y}<extra></extra>\", \"legendgroup\": \"\\uc2e0\\ubcc0\\uc7a1\\ud654\", \"line\": {\"color\": \"#EF553B\", \"dash\": \"solid\"}, \"mode\": \"lines\", \"name\": \"\\uc2e0\\ubcc0\\uc7a1\\ud654\", \"orientation\": \"v\", \"showlegend\": true, \"type\": \"scatter\", \"x\": [5, 6, 7, 8, 9, 10, 11, 12, 13, 14, 15, 16, 17, 18, 19, 20, 21, 22], \"xaxis\": \"x\", \"y\": [13.455486788442947, 10.966011857271674, 9.699064573482367, 5.395300817249854, 37.407040274677094, 25.485813453724504, 5.0306242796127165, 15.644174937202884, 16.650590962352332, 14.354939520068818, 14.541864575367953, 0.6818830771034143, 6.551706272925649, 6.100635905946881, 10.513496486500458, 4.01373850824379, -4.329857882661656, -16.244693177001267], \"yaxis\": \"y\"}, {\"hovertemplate\": \"MCT_CAT_CD=\\uc5f0\\ub8cc\\ud310\\ub9e4<br>week=%{x}<br>diff=%{y}<extra></extra>\", \"legendgroup\": \"\\uc5f0\\ub8cc\\ud310\\ub9e4\", \"line\": {\"color\": \"#00cc96\", \"dash\": \"solid\"}, \"mode\": \"lines\", \"name\": \"\\uc5f0\\ub8cc\\ud310\\ub9e4\", \"orientation\": \"v\", \"showlegend\": true, \"type\": \"scatter\", \"x\": [5, 6, 7, 8, 9, 10, 11, 12, 13, 14, 15, 16, 17, 18, 19, 20, 21, 22], \"xaxis\": \"x\", \"y\": [1.7035794042324852, 3.762470060550555, 2.3843707148420776, 2.067560213334403, 3.1278052406685646, 1.7744507420652766, 2.100303550918568, -0.027668730833532607, 0.8115659468144472, 1.4934870623821155, -0.28921610100837114, -2.2529736660759383, -2.849378684764467, -4.507377071403958, -4.4396453046160005, -4.7524142795449364, -5.7327416192431215, -7.805756448020382], \"yaxis\": \"y\"}, {\"hovertemplate\": \"MCT_CAT_CD=\\uc694\\uc2dd\\uc5c5\\uc18c<br>week=%{x}<br>diff=%{y}<extra></extra>\", \"legendgroup\": \"\\uc694\\uc2dd\\uc5c5\\uc18c\", \"line\": {\"color\": \"#ab63fa\", \"dash\": \"solid\"}, \"mode\": \"lines\", \"name\": \"\\uc694\\uc2dd\\uc5c5\\uc18c\", \"orientation\": \"v\", \"showlegend\": true, \"type\": \"scatter\", \"x\": [5, 6, 7, 8, 9, 10, 11, 12, 13, 14, 15, 16, 17, 18, 19, 20, 21, 22], \"xaxis\": \"x\", \"y\": [-1.292840865455819, -1.139929791513696, -0.7463706361284199, -2.117850665720171, -3.1081108171289795, -2.2468698210429174, -2.114185799197031, -2.1487639851103904, -1.7201493196095665, -1.4313230298479223, -1.4653117466240086, -0.8003067686083725, -0.6521163731652191, -0.7865962940594002, -0.2125707807667201, -0.1411132838838114, 0.12611412390766574, 0.3472562606136247], \"yaxis\": \"y\"}, {\"hovertemplate\": \"MCT_CAT_CD=\\uc720\\ud1b5\\uc5c5<br>week=%{x}<br>diff=%{y}<extra></extra>\", \"legendgroup\": \"\\uc720\\ud1b5\\uc5c5\", \"line\": {\"color\": \"#FFA15A\", \"dash\": \"solid\"}, \"mode\": \"lines\", \"name\": \"\\uc720\\ud1b5\\uc5c5\", \"orientation\": \"v\", \"showlegend\": true, \"type\": \"scatter\", \"x\": [5, 6, 7, 8, 9, 10, 11, 12, 13, 14, 15, 16, 17, 18, 19, 20, 21, 22], \"xaxis\": \"x\", \"y\": [-2.523315063103148, -4.9551139418977534, -0.563420446058263, -0.14683044794730904, -2.1997001270020924, -1.3704465909798422, -0.3856073233526516, 0.21502341319446927, 0.3245916032075016, -0.410587234147183, 0.9741764722996109, 1.7671453626216511, 1.7355406649525094, 3.246495804260846, 3.098395572790107, 2.7839671646877626, 2.674633317308743, 5.020847737116544], \"yaxis\": \"y\"}, {\"hovertemplate\": \"MCT_CAT_CD=\\uc74c\\ub8cc\\uc2dd\\ud488<br>week=%{x}<br>diff=%{y}<extra></extra>\", \"legendgroup\": \"\\uc74c\\ub8cc\\uc2dd\\ud488\", \"line\": {\"color\": \"#19d3f3\", \"dash\": \"solid\"}, \"mode\": \"lines\", \"name\": \"\\uc74c\\ub8cc\\uc2dd\\ud488\", \"orientation\": \"v\", \"showlegend\": true, \"type\": \"scatter\", \"x\": [5, 6, 7, 8, 9, 10, 11, 12, 13, 14, 15, 16, 17, 18, 19, 20, 21, 22], \"xaxis\": \"x\", \"y\": [-11.994779894802752, -1.5399616483845016, 0.8458846541626031, 1.321837151530616, 1.9593557887250412, 1.6556563335200156, 1.5253134591821098, 1.7607698843785968, 1.3027017353975499, 1.609585264163611, 1.5254732562630622, 1.6904076076881278, 1.293474180591689, 1.4817398150093322, 2.3613292820533047, 2.9025040871103283, 4.108163383426961, 1.6957861448865454], \"yaxis\": \"y\"}, {\"hovertemplate\": \"MCT_CAT_CD=\\uc758\\ub8cc\\uae30\\uad00<br>week=%{x}<br>diff=%{y}<extra></extra>\", \"legendgroup\": \"\\uc758\\ub8cc\\uae30\\uad00\", \"line\": {\"color\": \"#FF6692\", \"dash\": \"solid\"}, \"mode\": \"lines\", \"name\": \"\\uc758\\ub8cc\\uae30\\uad00\", \"orientation\": \"v\", \"showlegend\": true, \"type\": \"scatter\", \"x\": [5, 6, 7, 8, 9, 10, 11, 12, 13, 14, 15, 16, 17, 18, 19, 20, 21, 22], \"xaxis\": \"x\", \"y\": [-6.876908670107575, -0.2806896635118292, 2.8164468858600387, -6.714193526636407, -2.087706813086214, -7.1644093442803225, -13.579569921295345, -13.222181723630307, -13.191219187518776, -1.8190195514709444, -6.895138562838696, -4.004118833148588, -11.973716340544499, 7.709219098389497, -1.9434274581909676, -3.0460955681337936, -7.983333431143009, -9.097925694925635], \"yaxis\": \"y\"}, {\"hovertemplate\": \"MCT_CAT_CD=\\uc758\\ubcf5<br>week=%{x}<br>diff=%{y}<extra></extra>\", \"legendgroup\": \"\\uc758\\ubcf5\", \"line\": {\"color\": \"#B6E880\", \"dash\": \"solid\"}, \"mode\": \"lines\", \"name\": \"\\uc758\\ubcf5\", \"orientation\": \"v\", \"showlegend\": true, \"type\": \"scatter\", \"x\": [5, 6, 7, 8, 9, 10, 11, 12, 13, 14, 15, 16, 17, 18, 19, 20, 21, 22], \"xaxis\": \"x\", \"y\": [8.64398085162287, 16.501404164136538, 7.569197563346634, 14.87034434827197, 13.827516356469701, 23.266198688072294, 10.939970153249718, 9.123155267766563, 10.459823006361965, 5.188437073269043, -1.0698251290971683, 3.327491433267042, 11.57445603340912, 3.195610642632488, 5.614881474639041, 5.061324585396449, 2.8918374734920036, -0.8042762653571671], \"yaxis\": \"y\"}, {\"hovertemplate\": \"MCT_CAT_CD=\\uc790\\ub3d9\\ucc28\\uc815\\ube44<br>week=%{x}<br>diff=%{y}<extra></extra>\", \"legendgroup\": \"\\uc790\\ub3d9\\ucc28\\uc815\\ube44\", \"line\": {\"color\": \"#FF97FF\", \"dash\": \"solid\"}, \"mode\": \"lines\", \"name\": \"\\uc790\\ub3d9\\ucc28\\uc815\\ube44\", \"orientation\": \"v\", \"showlegend\": true, \"type\": \"scatter\", \"x\": [5, 6, 7, 8, 9, 10, 11, 12, 13, 14, 15, 16, 17, 18, 19, 20, 21, 22], \"xaxis\": \"x\", \"y\": [-4.420890964022121, 12.686039563977708, 5.914467522845104, 8.843750119107998, 16.807630964122872, 8.945320927402062, 10.63165198570045, 7.895128387954038, 11.75665112425214, 7.0540391910759865, 8.858767655062124, 5.8610775061515525, 6.983396945100736, 3.9683698951665676, 5.969546401229028, 3.647953890369383, 6.227984021734802, 4.2392309006382085], \"yaxis\": \"y\"}, {\"hovertemplate\": \"MCT_CAT_CD=\\uc790\\ub3d9\\ucc28\\ud310\\ub9e4<br>week=%{x}<br>diff=%{y}<extra></extra>\", \"legendgroup\": \"\\uc790\\ub3d9\\ucc28\\ud310\\ub9e4\", \"line\": {\"color\": \"#FECB52\", \"dash\": \"solid\"}, \"mode\": \"lines\", \"name\": \"\\uc790\\ub3d9\\ucc28\\ud310\\ub9e4\", \"orientation\": \"v\", \"showlegend\": true, \"type\": \"scatter\", \"x\": [5, 6, 7, 8, 9, 10, 11, 12, 13, 14, 15, 16, 17, 18, 19, 20, 21, 22], \"xaxis\": \"x\", \"y\": [46.55350668186054, -112.43363182907189, 73.78792317863156, -119.41593724194877, -345.62105025918413, -157.05975109685141, -30.931031757130654, -168.88280923035228, -156.5001699729139, -248.80925826463186, -95.25836813512478, -146.2077574415424, 66.68934108527128, -114.4745987281961, -222.5334365553344, 69.13599603812054, -115.55057717507873, -116.27321498175115], \"yaxis\": \"y\"}, {\"hovertemplate\": \"MCT_CAT_CD=\\uc804\\uae30<br>week=%{x}<br>diff=%{y}<extra></extra>\", \"legendgroup\": \"\\uc804\\uae30\", \"line\": {\"color\": \"#636efa\", \"dash\": \"solid\"}, \"mode\": \"lines\", \"name\": \"\\uc804\\uae30\", \"orientation\": \"v\", \"showlegend\": true, \"type\": \"scatter\", \"x\": [5, 6, 7, 8, 9, 10, 11, 12, 13, 14, 15, 16, 17, 18, 19, 20, 21, 22], \"xaxis\": \"x\", \"y\": [-101.75757575757575, 10.212997612174348, -92.74826950341469, -62.067828428163864, -8.679251587036418, 58.916507684154766, 66.16559839660269, -73.30042234002772, 15.608528847572671, -2.961640403747026, -88.4597668800863, -41.97535970253813, -11.874509640611336, 67.40224521539187, -132.8929755226925, 51.89893215502164, -56.70129140932062, -22.71963294921042], \"yaxis\": \"y\"}, {\"hovertemplate\": \"MCT_CAT_CD=\\uc8fc\\ubc29\\uc6a9\\uad6c<br>week=%{x}<br>diff=%{y}<extra></extra>\", \"legendgroup\": \"\\uc8fc\\ubc29\\uc6a9\\uad6c\", \"line\": {\"color\": \"#EF553B\", \"dash\": \"solid\"}, \"mode\": \"lines\", \"name\": \"\\uc8fc\\ubc29\\uc6a9\\uad6c\", \"orientation\": \"v\", \"showlegend\": true, \"type\": \"scatter\", \"x\": [5, 6, 7, 8, 9, 10, 11, 12, 13, 14, 15, 16, 17, 18, 19, 20, 21, 22], \"xaxis\": \"x\", \"y\": [8.874013357619916, 41.7295626457981, -9.207860931617375, -3.162783043559841, 25.86963149339107, 3.883964152803827, -8.745175151264434, 12.800291587080977, -2.0497546201750936, 11.482466922719425, -1.438443728330867, 8.729788446395133, -1.5923197645727782, -70.16663446714672, -42.59701399185525, -66.87999897133977, -37.221727460646505, -45.13984048721835], \"yaxis\": \"y\"}, {\"hovertemplate\": \"MCT_CAT_CD=\\uc9c1\\ubb3c<br>week=%{x}<br>diff=%{y}<extra></extra>\", \"legendgroup\": \"\\uc9c1\\ubb3c\", \"line\": {\"color\": \"#00cc96\", \"dash\": \"solid\"}, \"mode\": \"lines\", \"name\": \"\\uc9c1\\ubb3c\", \"orientation\": \"v\", \"showlegend\": true, \"type\": \"scatter\", \"x\": [5, 6, 7, 8, 9, 10, 11, 12, 13, 14, 15, 16, 17, 18, 19, 20, 21, 22], \"xaxis\": \"x\", \"y\": [-4.376104176721412, 52.66041340081517, -1.5868163066391503, 45.769360797560495, 283.4819270172511, -12.729353699052467, 68.09518811849117, -1.0819130711478522, -37.568013630440134, 61.393875177222895, -46.815413859801225, 14.237373748956514, 11.309959924593628, -22.8545636751185, 5.855127949965919, 26.849010520745722, -12.671936764035323, -34.925445515201645], \"yaxis\": \"y\"}],\n",
       "                        {\"legend\": {\"title\": {\"text\": \"MCT_CAT_CD\"}, \"tracegroupgap\": 0}, \"margin\": {\"t\": 60}, \"template\": {\"data\": {\"bar\": [{\"error_x\": {\"color\": \"#2a3f5f\"}, \"error_y\": {\"color\": \"#2a3f5f\"}, \"marker\": {\"line\": {\"color\": \"#E5ECF6\", \"width\": 0.5}}, \"type\": \"bar\"}], \"barpolar\": [{\"marker\": {\"line\": {\"color\": \"#E5ECF6\", \"width\": 0.5}}, \"type\": \"barpolar\"}], \"carpet\": [{\"aaxis\": {\"endlinecolor\": \"#2a3f5f\", \"gridcolor\": \"white\", \"linecolor\": \"white\", \"minorgridcolor\": \"white\", \"startlinecolor\": \"#2a3f5f\"}, \"baxis\": {\"endlinecolor\": \"#2a3f5f\", \"gridcolor\": \"white\", \"linecolor\": \"white\", \"minorgridcolor\": \"white\", \"startlinecolor\": \"#2a3f5f\"}, \"type\": \"carpet\"}], \"choropleth\": [{\"colorbar\": {\"outlinewidth\": 0, \"ticks\": \"\"}, \"type\": \"choropleth\"}], \"contour\": [{\"colorbar\": {\"outlinewidth\": 0, \"ticks\": \"\"}, \"colorscale\": [[0.0, \"#0d0887\"], [0.1111111111111111, \"#46039f\"], [0.2222222222222222, \"#7201a8\"], [0.3333333333333333, \"#9c179e\"], [0.4444444444444444, \"#bd3786\"], [0.5555555555555556, \"#d8576b\"], [0.6666666666666666, \"#ed7953\"], [0.7777777777777778, \"#fb9f3a\"], [0.8888888888888888, \"#fdca26\"], [1.0, \"#f0f921\"]], \"type\": \"contour\"}], \"contourcarpet\": [{\"colorbar\": {\"outlinewidth\": 0, \"ticks\": \"\"}, \"type\": \"contourcarpet\"}], \"heatmap\": [{\"colorbar\": {\"outlinewidth\": 0, \"ticks\": \"\"}, \"colorscale\": [[0.0, \"#0d0887\"], [0.1111111111111111, \"#46039f\"], [0.2222222222222222, \"#7201a8\"], [0.3333333333333333, \"#9c179e\"], [0.4444444444444444, \"#bd3786\"], [0.5555555555555556, \"#d8576b\"], [0.6666666666666666, \"#ed7953\"], [0.7777777777777778, \"#fb9f3a\"], [0.8888888888888888, \"#fdca26\"], [1.0, \"#f0f921\"]], \"type\": \"heatmap\"}], \"heatmapgl\": [{\"colorbar\": {\"outlinewidth\": 0, \"ticks\": \"\"}, \"colorscale\": [[0.0, \"#0d0887\"], [0.1111111111111111, \"#46039f\"], [0.2222222222222222, \"#7201a8\"], [0.3333333333333333, \"#9c179e\"], [0.4444444444444444, \"#bd3786\"], [0.5555555555555556, \"#d8576b\"], [0.6666666666666666, \"#ed7953\"], [0.7777777777777778, \"#fb9f3a\"], [0.8888888888888888, \"#fdca26\"], [1.0, \"#f0f921\"]], \"type\": \"heatmapgl\"}], \"histogram\": [{\"marker\": {\"colorbar\": {\"outlinewidth\": 0, \"ticks\": \"\"}}, \"type\": \"histogram\"}], \"histogram2d\": [{\"colorbar\": {\"outlinewidth\": 0, \"ticks\": \"\"}, \"colorscale\": [[0.0, \"#0d0887\"], [0.1111111111111111, \"#46039f\"], [0.2222222222222222, \"#7201a8\"], [0.3333333333333333, \"#9c179e\"], [0.4444444444444444, \"#bd3786\"], [0.5555555555555556, \"#d8576b\"], [0.6666666666666666, \"#ed7953\"], [0.7777777777777778, \"#fb9f3a\"], [0.8888888888888888, \"#fdca26\"], [1.0, \"#f0f921\"]], \"type\": \"histogram2d\"}], \"histogram2dcontour\": [{\"colorbar\": {\"outlinewidth\": 0, \"ticks\": \"\"}, \"colorscale\": [[0.0, \"#0d0887\"], [0.1111111111111111, \"#46039f\"], [0.2222222222222222, \"#7201a8\"], [0.3333333333333333, \"#9c179e\"], [0.4444444444444444, \"#bd3786\"], [0.5555555555555556, \"#d8576b\"], [0.6666666666666666, \"#ed7953\"], [0.7777777777777778, \"#fb9f3a\"], [0.8888888888888888, \"#fdca26\"], [1.0, \"#f0f921\"]], \"type\": \"histogram2dcontour\"}], \"mesh3d\": [{\"colorbar\": {\"outlinewidth\": 0, \"ticks\": \"\"}, \"type\": \"mesh3d\"}], \"parcoords\": [{\"line\": {\"colorbar\": {\"outlinewidth\": 0, \"ticks\": \"\"}}, \"type\": \"parcoords\"}], \"pie\": [{\"automargin\": true, \"type\": \"pie\"}], \"scatter\": [{\"marker\": {\"colorbar\": {\"outlinewidth\": 0, \"ticks\": \"\"}}, \"type\": \"scatter\"}], \"scatter3d\": [{\"line\": {\"colorbar\": {\"outlinewidth\": 0, \"ticks\": \"\"}}, \"marker\": {\"colorbar\": {\"outlinewidth\": 0, \"ticks\": \"\"}}, \"type\": \"scatter3d\"}], \"scattercarpet\": [{\"marker\": {\"colorbar\": {\"outlinewidth\": 0, \"ticks\": \"\"}}, \"type\": \"scattercarpet\"}], \"scattergeo\": [{\"marker\": {\"colorbar\": {\"outlinewidth\": 0, \"ticks\": \"\"}}, \"type\": \"scattergeo\"}], \"scattergl\": [{\"marker\": {\"colorbar\": {\"outlinewidth\": 0, \"ticks\": \"\"}}, \"type\": \"scattergl\"}], \"scattermapbox\": [{\"marker\": {\"colorbar\": {\"outlinewidth\": 0, \"ticks\": \"\"}}, \"type\": \"scattermapbox\"}], \"scatterpolar\": [{\"marker\": {\"colorbar\": {\"outlinewidth\": 0, \"ticks\": \"\"}}, \"type\": \"scatterpolar\"}], \"scatterpolargl\": [{\"marker\": {\"colorbar\": {\"outlinewidth\": 0, \"ticks\": \"\"}}, \"type\": \"scatterpolargl\"}], \"scatterternary\": [{\"marker\": {\"colorbar\": {\"outlinewidth\": 0, \"ticks\": \"\"}}, \"type\": \"scatterternary\"}], \"surface\": [{\"colorbar\": {\"outlinewidth\": 0, \"ticks\": \"\"}, \"colorscale\": [[0.0, \"#0d0887\"], [0.1111111111111111, \"#46039f\"], [0.2222222222222222, \"#7201a8\"], [0.3333333333333333, \"#9c179e\"], [0.4444444444444444, \"#bd3786\"], [0.5555555555555556, \"#d8576b\"], [0.6666666666666666, \"#ed7953\"], [0.7777777777777778, \"#fb9f3a\"], [0.8888888888888888, \"#fdca26\"], [1.0, \"#f0f921\"]], \"type\": \"surface\"}], \"table\": [{\"cells\": {\"fill\": {\"color\": \"#EBF0F8\"}, \"line\": {\"color\": \"white\"}}, \"header\": {\"fill\": {\"color\": \"#C8D4E3\"}, \"line\": {\"color\": \"white\"}}, \"type\": \"table\"}]}, \"layout\": {\"annotationdefaults\": {\"arrowcolor\": \"#2a3f5f\", \"arrowhead\": 0, \"arrowwidth\": 1}, \"coloraxis\": {\"colorbar\": {\"outlinewidth\": 0, \"ticks\": \"\"}}, \"colorscale\": {\"diverging\": [[0, \"#8e0152\"], [0.1, \"#c51b7d\"], [0.2, \"#de77ae\"], [0.3, \"#f1b6da\"], [0.4, \"#fde0ef\"], [0.5, \"#f7f7f7\"], [0.6, \"#e6f5d0\"], [0.7, \"#b8e186\"], [0.8, \"#7fbc41\"], [0.9, \"#4d9221\"], [1, \"#276419\"]], \"sequential\": [[0.0, \"#0d0887\"], [0.1111111111111111, \"#46039f\"], [0.2222222222222222, \"#7201a8\"], [0.3333333333333333, \"#9c179e\"], [0.4444444444444444, \"#bd3786\"], [0.5555555555555556, \"#d8576b\"], [0.6666666666666666, \"#ed7953\"], [0.7777777777777778, \"#fb9f3a\"], [0.8888888888888888, \"#fdca26\"], [1.0, \"#f0f921\"]], \"sequentialminus\": [[0.0, \"#0d0887\"], [0.1111111111111111, \"#46039f\"], [0.2222222222222222, \"#7201a8\"], [0.3333333333333333, \"#9c179e\"], [0.4444444444444444, \"#bd3786\"], [0.5555555555555556, \"#d8576b\"], [0.6666666666666666, \"#ed7953\"], [0.7777777777777778, \"#fb9f3a\"], [0.8888888888888888, \"#fdca26\"], [1.0, \"#f0f921\"]]}, \"colorway\": [\"#636efa\", \"#EF553B\", \"#00cc96\", \"#ab63fa\", \"#FFA15A\", \"#19d3f3\", \"#FF6692\", \"#B6E880\", \"#FF97FF\", \"#FECB52\"], \"font\": {\"color\": \"#2a3f5f\"}, \"geo\": {\"bgcolor\": \"white\", \"lakecolor\": \"white\", \"landcolor\": \"#E5ECF6\", \"showlakes\": true, \"showland\": true, \"subunitcolor\": \"white\"}, \"hoverlabel\": {\"align\": \"left\"}, \"hovermode\": \"closest\", \"mapbox\": {\"style\": \"light\"}, \"paper_bgcolor\": \"white\", \"plot_bgcolor\": \"#E5ECF6\", \"polar\": {\"angularaxis\": {\"gridcolor\": \"white\", \"linecolor\": \"white\", \"ticks\": \"\"}, \"bgcolor\": \"#E5ECF6\", \"radialaxis\": {\"gridcolor\": \"white\", \"linecolor\": \"white\", \"ticks\": \"\"}}, \"scene\": {\"xaxis\": {\"backgroundcolor\": \"#E5ECF6\", \"gridcolor\": \"white\", \"gridwidth\": 2, \"linecolor\": \"white\", \"showbackground\": true, \"ticks\": \"\", \"zerolinecolor\": \"white\"}, \"yaxis\": {\"backgroundcolor\": \"#E5ECF6\", \"gridcolor\": \"white\", \"gridwidth\": 2, \"linecolor\": \"white\", \"showbackground\": true, \"ticks\": \"\", \"zerolinecolor\": \"white\"}, \"zaxis\": {\"backgroundcolor\": \"#E5ECF6\", \"gridcolor\": \"white\", \"gridwidth\": 2, \"linecolor\": \"white\", \"showbackground\": true, \"ticks\": \"\", \"zerolinecolor\": \"white\"}}, \"shapedefaults\": {\"line\": {\"color\": \"#2a3f5f\"}}, \"ternary\": {\"aaxis\": {\"gridcolor\": \"white\", \"linecolor\": \"white\", \"ticks\": \"\"}, \"baxis\": {\"gridcolor\": \"white\", \"linecolor\": \"white\", \"ticks\": \"\"}, \"bgcolor\": \"#E5ECF6\", \"caxis\": {\"gridcolor\": \"white\", \"linecolor\": \"white\", \"ticks\": \"\"}}, \"title\": {\"x\": 0.05}, \"xaxis\": {\"automargin\": true, \"gridcolor\": \"white\", \"linecolor\": \"white\", \"ticks\": \"\", \"title\": {\"standoff\": 15}, \"zerolinecolor\": \"white\", \"zerolinewidth\": 2}, \"yaxis\": {\"automargin\": true, \"gridcolor\": \"white\", \"linecolor\": \"white\", \"ticks\": \"\", \"title\": {\"standoff\": 15}, \"zerolinecolor\": \"white\", \"zerolinewidth\": 2}}}, \"xaxis\": {\"anchor\": \"y\", \"domain\": [0.0, 1.0], \"tickmode\": \"array\", \"ticktext\": [\"12/23\", \"12/30\", \"1/6\", \"1/13\", \"1/20\", \"1/27\", \"2/3\", \"2/10\", \"2/17\", \"2/24\", \"3/2\", \"3/9\", \"3/16\", \"3/23\", \"3/30\", \"4/6\", \"4/13\", \"4/20\", \"4/27\", \"5/4\", \"5/11\", \"5/18\", \"5/25\", \"6/1\", \"6/8\", \"6/15\", \"6/22\", \"6/29\", \"7/6\", \"7/13\", \"7/20\", \"7/27\", \"8/3\", \"8/10\", \"8/17\", \"8/24\", \"8/31\", \"9/7\", \"9/14\", \"9/21\", \"9/28\", \"10/5\", \"10/12\", \"10/19\", \"10/26\", \"11/2\", \"11/9\", \"11/16\", \"11/23\", \"11/30\", \"12/7\", \"12/14\"], \"tickvals\": [0, 1, 2, 3, 4, 5, 6, 7, 8, 9, 10, 11, 12, 13, 14, 15, 16, 17, 18, 19, 20, 21, 22, 23, 24, 25, 26, 27, 28, 29, 30, 31, 32, 33, 34, 35, 36, 37, 38, 39, 40, 41, 42, 43, 44, 45, 46, 47, 48, 49, 50, 51], \"title\": {\"text\": \"week\"}}, \"yaxis\": {\"anchor\": \"x\", \"domain\": [0.0, 1.0], \"title\": {\"text\": \"diff\"}}},\n",
       "                        {\"responsive\": true}\n",
       "                    ).then(function(){\n",
       "                            \n",
       "var gd = document.getElementById('863633d2-38e8-495f-bd87-3c46c3a9203f');\n",
       "var x = new MutationObserver(function (mutations, observer) {{\n",
       "        var display = window.getComputedStyle(gd).display;\n",
       "        if (!display || display === 'none') {{\n",
       "            console.log([gd, 'removed!']);\n",
       "            Plotly.purge(gd);\n",
       "            observer.disconnect();\n",
       "        }}\n",
       "}});\n",
       "\n",
       "// Listen for the removal of the full notebook cells\n",
       "var notebookContainer = gd.closest('#notebook-container');\n",
       "if (notebookContainer) {{\n",
       "    x.observe(notebookContainer, {childList: true});\n",
       "}}\n",
       "\n",
       "// Listen for the clearing of the current output cell\n",
       "var outputEl = gd.closest('.output');\n",
       "if (outputEl) {{\n",
       "    x.observe(outputEl, {childList: true});\n",
       "}}\n",
       "\n",
       "                        })\n",
       "                };\n",
       "                });\n",
       "            </script>\n",
       "        </div>"
      ]
     },
     "metadata": {},
     "output_type": "display_data"
    }
   ],
   "source": [
    "fig = px.line(cnt_diff2, x=\"week\", y=\"diff\", color='MCT_CAT_CD')\n",
    "\n",
    "fig.update_layout(\n",
    "    xaxis = dict(\n",
    "        tickmode = 'array',\n",
    "        tickvals = np.arange(0, len(test2)),\n",
    "        ticktext = test2\n",
    "    )\n",
    ")\n",
    "fig.show()"
   ]
  },
  {
   "cell_type": "code",
   "execution_count": 23,
   "metadata": {
    "scrolled": true
   },
   "outputs": [
    {
     "data": {
      "text/html": [
       "<div>\n",
       "<style scoped>\n",
       "    .dataframe tbody tr th:only-of-type {\n",
       "        vertical-align: middle;\n",
       "    }\n",
       "\n",
       "    .dataframe tbody tr th {\n",
       "        vertical-align: top;\n",
       "    }\n",
       "\n",
       "    .dataframe thead th {\n",
       "        text-align: right;\n",
       "    }\n",
       "</style>\n",
       "<table border=\"1\" class=\"dataframe\">\n",
       "  <thead>\n",
       "    <tr style=\"text-align: right;\">\n",
       "      <th></th>\n",
       "      <th>STD_DD</th>\n",
       "      <th>GU_CD</th>\n",
       "      <th>DONG_CD</th>\n",
       "      <th>MCT_CAT_CD</th>\n",
       "      <th>SEX_CD</th>\n",
       "      <th>AGE_CD</th>\n",
       "      <th>USE_CNT</th>\n",
       "      <th>USE_AMT</th>\n",
       "      <th>year</th>\n",
       "      <th>month</th>\n",
       "      <th>day</th>\n",
       "      <th>week</th>\n",
       "    </tr>\n",
       "  </thead>\n",
       "  <tbody>\n",
       "    <tr>\n",
       "      <th>1177416</th>\n",
       "      <td>2019-05-20</td>\n",
       "      <td>110</td>\n",
       "      <td>517</td>\n",
       "      <td>숙박</td>\n",
       "      <td>F</td>\n",
       "      <td>20</td>\n",
       "      <td>6</td>\n",
       "      <td>83</td>\n",
       "      <td>2019</td>\n",
       "      <td>5</td>\n",
       "      <td>20</td>\n",
       "      <td>21</td>\n",
       "    </tr>\n",
       "    <tr>\n",
       "      <th>1177417</th>\n",
       "      <td>2019-05-20</td>\n",
       "      <td>110</td>\n",
       "      <td>517</td>\n",
       "      <td>숙박</td>\n",
       "      <td>F</td>\n",
       "      <td>25</td>\n",
       "      <td>6</td>\n",
       "      <td>220</td>\n",
       "      <td>2019</td>\n",
       "      <td>5</td>\n",
       "      <td>20</td>\n",
       "      <td>21</td>\n",
       "    </tr>\n",
       "    <tr>\n",
       "      <th>1177418</th>\n",
       "      <td>2019-05-20</td>\n",
       "      <td>110</td>\n",
       "      <td>517</td>\n",
       "      <td>숙박</td>\n",
       "      <td>M</td>\n",
       "      <td>20</td>\n",
       "      <td>6</td>\n",
       "      <td>193</td>\n",
       "      <td>2019</td>\n",
       "      <td>5</td>\n",
       "      <td>20</td>\n",
       "      <td>21</td>\n",
       "    </tr>\n",
       "    <tr>\n",
       "      <th>1177419</th>\n",
       "      <td>2019-05-20</td>\n",
       "      <td>110</td>\n",
       "      <td>517</td>\n",
       "      <td>숙박</td>\n",
       "      <td>M</td>\n",
       "      <td>25</td>\n",
       "      <td>11</td>\n",
       "      <td>275</td>\n",
       "      <td>2019</td>\n",
       "      <td>5</td>\n",
       "      <td>20</td>\n",
       "      <td>21</td>\n",
       "    </tr>\n",
       "    <tr>\n",
       "      <th>1177420</th>\n",
       "      <td>2019-05-20</td>\n",
       "      <td>110</td>\n",
       "      <td>517</td>\n",
       "      <td>숙박</td>\n",
       "      <td>M</td>\n",
       "      <td>30</td>\n",
       "      <td>17</td>\n",
       "      <td>415</td>\n",
       "      <td>2019</td>\n",
       "      <td>5</td>\n",
       "      <td>20</td>\n",
       "      <td>21</td>\n",
       "    </tr>\n",
       "    <tr>\n",
       "      <th>...</th>\n",
       "      <td>...</td>\n",
       "      <td>...</td>\n",
       "      <td>...</td>\n",
       "      <td>...</td>\n",
       "      <td>...</td>\n",
       "      <td>...</td>\n",
       "      <td>...</td>\n",
       "      <td>...</td>\n",
       "      <td>...</td>\n",
       "      <td>...</td>\n",
       "      <td>...</td>\n",
       "      <td>...</td>\n",
       "    </tr>\n",
       "    <tr>\n",
       "      <th>2460554</th>\n",
       "      <td>2020-05-24</td>\n",
       "      <td>350</td>\n",
       "      <td>720</td>\n",
       "      <td>음료식품</td>\n",
       "      <td>M</td>\n",
       "      <td>40</td>\n",
       "      <td>33</td>\n",
       "      <td>312</td>\n",
       "      <td>2020</td>\n",
       "      <td>5</td>\n",
       "      <td>24</td>\n",
       "      <td>21</td>\n",
       "    </tr>\n",
       "    <tr>\n",
       "      <th>2460555</th>\n",
       "      <td>2020-05-24</td>\n",
       "      <td>350</td>\n",
       "      <td>720</td>\n",
       "      <td>음료식품</td>\n",
       "      <td>M</td>\n",
       "      <td>50</td>\n",
       "      <td>9</td>\n",
       "      <td>106</td>\n",
       "      <td>2020</td>\n",
       "      <td>5</td>\n",
       "      <td>24</td>\n",
       "      <td>21</td>\n",
       "    </tr>\n",
       "    <tr>\n",
       "      <th>2460556</th>\n",
       "      <td>2020-05-24</td>\n",
       "      <td>350</td>\n",
       "      <td>720</td>\n",
       "      <td>음료식품</td>\n",
       "      <td>M</td>\n",
       "      <td>55</td>\n",
       "      <td>5</td>\n",
       "      <td>26</td>\n",
       "      <td>2020</td>\n",
       "      <td>5</td>\n",
       "      <td>24</td>\n",
       "      <td>21</td>\n",
       "    </tr>\n",
       "    <tr>\n",
       "      <th>2460557</th>\n",
       "      <td>2020-05-24</td>\n",
       "      <td>350</td>\n",
       "      <td>720</td>\n",
       "      <td>음료식품</td>\n",
       "      <td>M</td>\n",
       "      <td>60</td>\n",
       "      <td>14</td>\n",
       "      <td>249</td>\n",
       "      <td>2020</td>\n",
       "      <td>5</td>\n",
       "      <td>24</td>\n",
       "      <td>21</td>\n",
       "    </tr>\n",
       "    <tr>\n",
       "      <th>2460558</th>\n",
       "      <td>2020-05-24</td>\n",
       "      <td>350</td>\n",
       "      <td>720</td>\n",
       "      <td>음료식품</td>\n",
       "      <td>M</td>\n",
       "      <td>65</td>\n",
       "      <td>9</td>\n",
       "      <td>184</td>\n",
       "      <td>2020</td>\n",
       "      <td>5</td>\n",
       "      <td>24</td>\n",
       "      <td>21</td>\n",
       "    </tr>\n",
       "  </tbody>\n",
       "</table>\n",
       "<p>154991 rows × 12 columns</p>\n",
       "</div>"
      ],
      "text/plain": [
       "            STD_DD  GU_CD  DONG_CD MCT_CAT_CD SEX_CD  AGE_CD  USE_CNT  \\\n",
       "1177416 2019-05-20    110      517         숙박      F      20        6   \n",
       "1177417 2019-05-20    110      517         숙박      F      25        6   \n",
       "1177418 2019-05-20    110      517         숙박      M      20        6   \n",
       "1177419 2019-05-20    110      517         숙박      M      25       11   \n",
       "1177420 2019-05-20    110      517         숙박      M      30       17   \n",
       "...            ...    ...      ...        ...    ...     ...      ...   \n",
       "2460554 2020-05-24    350      720       음료식품      M      40       33   \n",
       "2460555 2020-05-24    350      720       음료식품      M      50        9   \n",
       "2460556 2020-05-24    350      720       음료식품      M      55        5   \n",
       "2460557 2020-05-24    350      720       음료식품      M      60       14   \n",
       "2460558 2020-05-24    350      720       음료식품      M      65        9   \n",
       "\n",
       "         USE_AMT  year  month  day  week  \n",
       "1177416       83  2019      5   20    21  \n",
       "1177417      220  2019      5   20    21  \n",
       "1177418      193  2019      5   20    21  \n",
       "1177419      275  2019      5   20    21  \n",
       "1177420      415  2019      5   20    21  \n",
       "...          ...   ...    ...  ...   ...  \n",
       "2460554      312  2020      5   24    21  \n",
       "2460555      106  2020      5   24    21  \n",
       "2460556       26  2020      5   24    21  \n",
       "2460557      249  2020      5   24    21  \n",
       "2460558      184  2020      5   24    21  \n",
       "\n",
       "[154991 rows x 12 columns]"
      ]
     },
     "execution_count": 23,
     "metadata": {},
     "output_type": "execute_result"
    }
   ],
   "source": [
    "rs_card_data[rs_card_data.week== max(rs_card_data.week-1)]\n",
    "# 즉 5.18의 값은 아래를 의미"
   ]
  },
  {
   "cell_type": "markdown",
   "metadata": {},
   "source": [
    "# 서울 대구 분리"
   ]
  },
  {
   "cell_type": "code",
   "execution_count": 24,
   "metadata": {},
   "outputs": [],
   "source": [
    "data_seoul = rs_card_data[rs_card_data.GU_CD.isin([140,350])]\n",
    "data_daegu = rs_card_data[rs_card_data.GU_CD.isin([260,110])]"
   ]
  },
  {
   "cell_type": "code",
   "execution_count": 25,
   "metadata": {},
   "outputs": [],
   "source": [
    "seoul_table = data_seoul.pivot_table(values=['USE_CNT', 'USE_AMT'],\n",
    "                         columns='year',   index=['week', 'MCT_CAT_CD'],\n",
    "                         aggfunc='sum')\n",
    "\n",
    "daegu_table = data_daegu.pivot_table(values=['USE_CNT', 'USE_AMT'],\n",
    "                         columns='year',   index=['week', 'MCT_CAT_CD'],\n",
    "                         aggfunc='sum')"
   ]
  },
  {
   "cell_type": "code",
   "execution_count": 26,
   "metadata": {},
   "outputs": [],
   "source": [
    "# 전체 이용금액 차이\n",
    "seoul_total_diff = (seoul_table.iloc[:,1] - seoul_table.iloc[:,0])\n",
    "daegu_total_diff = (daegu_table.iloc[:,1] - daegu_table.iloc[:,0])\n",
    "\n",
    "# 건당 이용금액 차이\n",
    "seoul_cnt_diff = (seoul_table.iloc[:,1] / seoul_table.iloc[:,3] - seoul_table.iloc[:,0] / seoul_table.iloc[:,2])\n",
    "daegu_cnt_diff = (daegu_table.iloc[:,1] / daegu_table.iloc[:,3] - daegu_table.iloc[:,0] / daegu_table.iloc[:,2])"
   ]
  },
  {
   "cell_type": "code",
   "execution_count": 27,
   "metadata": {},
   "outputs": [],
   "source": [
    "seoul_total_diff2 = seoul_total_diff.reset_index()\n",
    "seoul_cnt_diff2 = seoul_cnt_diff.reset_index()\n",
    "\n",
    "seoul_total_diff2.columns = ['week', 'MCT_CAT_CD', 'diff']\n",
    "seoul_cnt_diff2.columns = ['week', 'MCT_CAT_CD', 'diff']\n",
    "\n",
    "\n",
    "daegu_total_diff2 = daegu_total_diff.reset_index()\n",
    "daegu_cnt_diff2 = daegu_cnt_diff.reset_index()\n",
    "\n",
    "daegu_total_diff2.columns = ['week', 'MCT_CAT_CD', 'diff']\n",
    "daegu_cnt_diff2.columns = ['week', 'MCT_CAT_CD', 'diff']"
   ]
  },
  {
   "cell_type": "code",
   "execution_count": 28,
   "metadata": {},
   "outputs": [
    {
     "data": {
      "application/vnd.plotly.v1+json": {
       "config": {
        "plotlyServerURL": "https://plot.ly"
       },
       "data": [
        {
         "hovertemplate": "MCT_CAT_CD=가구<br>week=%{x}<br>diff=%{y}<extra></extra>",
         "legendgroup": "가구",
         "line": {
          "color": "#636efa",
          "dash": "solid"
         },
         "mode": "lines",
         "name": "가구",
         "orientation": "v",
         "showlegend": true,
         "type": "scatter",
         "x": [
          5,
          6,
          7,
          8,
          9,
          10,
          11,
          12,
          13,
          14,
          15,
          16,
          17,
          18,
          19,
          20,
          21,
          22
         ],
         "xaxis": "x",
         "y": [
          72383,
          52583,
          25120,
          -48080,
          -85652,
          55888,
          -20197,
          -130891,
          -22226,
          116112,
          -113581,
          97756,
          14735,
          9007,
          -37744,
          243686,
          282740,
          284122
         ],
         "yaxis": "y"
        },
        {
         "hovertemplate": "MCT_CAT_CD=가전<br>week=%{x}<br>diff=%{y}<extra></extra>",
         "legendgroup": "가전",
         "line": {
          "color": "#EF553B",
          "dash": "solid"
         },
         "mode": "lines",
         "name": "가전",
         "orientation": "v",
         "showlegend": true,
         "type": "scatter",
         "x": [
          5,
          6,
          7,
          8,
          9,
          10,
          11,
          12,
          13,
          14,
          15,
          16,
          17,
          18,
          19,
          20,
          21,
          22
         ],
         "xaxis": "x",
         "y": [
          -59598,
          -73105,
          -209978,
          -407681,
          -614033,
          -618868,
          -763359,
          -741873,
          -373445,
          -317101,
          -631668,
          -697796,
          -614924,
          -380767,
          -252578,
          9466,
          14618,
          124711
         ],
         "yaxis": "y"
        },
        {
         "hovertemplate": "MCT_CAT_CD=광학제품<br>week=%{x}<br>diff=%{y}<extra></extra>",
         "legendgroup": "광학제품",
         "line": {
          "color": "#00cc96",
          "dash": "solid"
         },
         "mode": "lines",
         "name": "광학제품",
         "orientation": "v",
         "showlegend": true,
         "type": "scatter",
         "x": [
          5,
          6,
          7,
          8,
          9,
          10,
          11,
          12,
          13,
          14,
          15,
          16,
          17,
          18,
          19,
          20,
          21,
          22
         ],
         "xaxis": "x",
         "y": [
          -11067,
          -5821,
          -34963,
          -176697,
          -204658,
          -93296,
          -97785,
          -65106,
          -303366,
          124446,
          -15760,
          70490,
          -195645,
          -183893,
          52126,
          -1433,
          -211418,
          -33205
         ],
         "yaxis": "y"
        },
        {
         "hovertemplate": "MCT_CAT_CD=레저업소<br>week=%{x}<br>diff=%{y}<extra></extra>",
         "legendgroup": "레저업소",
         "line": {
          "color": "#ab63fa",
          "dash": "solid"
         },
         "mode": "lines",
         "name": "레저업소",
         "orientation": "v",
         "showlegend": true,
         "type": "scatter",
         "x": [
          5,
          6,
          7,
          8,
          9,
          10,
          11,
          12,
          13,
          14,
          15,
          16,
          17,
          18,
          19,
          20,
          21,
          22
         ],
         "xaxis": "x",
         "y": [
          -287335,
          320236,
          -51754,
          -239663,
          -860485,
          -873753,
          -626723,
          -641219,
          -1200870,
          -1296760,
          -663962,
          -761631,
          -388352,
          -439697,
          102727,
          -58384,
          -119853,
          545810
         ],
         "yaxis": "y"
        },
        {
         "hovertemplate": "MCT_CAT_CD=레저용품<br>week=%{x}<br>diff=%{y}<extra></extra>",
         "legendgroup": "레저용품",
         "line": {
          "color": "#FFA15A",
          "dash": "solid"
         },
         "mode": "lines",
         "name": "레저용품",
         "orientation": "v",
         "showlegend": true,
         "type": "scatter",
         "x": [
          5,
          6,
          7,
          8,
          9,
          10,
          11,
          12,
          13,
          14,
          15,
          16,
          17,
          18,
          19,
          20,
          21,
          22
         ],
         "xaxis": "x",
         "y": [
          -1119565,
          -2056170,
          -420093,
          -1558765,
          -4143397,
          -2006752,
          -1559664,
          -1069236,
          -1026447,
          -942488,
          -910368,
          -924350,
          -1309222,
          -865255,
          -452424,
          1136862,
          1376872,
          3151356
         ],
         "yaxis": "y"
        },
        {
         "hovertemplate": "MCT_CAT_CD=문화취미<br>week=%{x}<br>diff=%{y}<extra></extra>",
         "legendgroup": "문화취미",
         "line": {
          "color": "#19d3f3",
          "dash": "solid"
         },
         "mode": "lines",
         "name": "문화취미",
         "orientation": "v",
         "showlegend": true,
         "type": "scatter",
         "x": [
          5,
          6,
          7,
          8,
          9,
          10,
          11,
          12,
          13,
          14,
          15,
          16,
          17,
          18,
          19,
          20,
          21,
          22
         ],
         "xaxis": "x",
         "y": [
          -218522,
          -227708,
          -119410,
          -168395,
          -346365,
          -205770,
          -161269,
          -149886,
          -210214,
          -25317,
          19571,
          -23865,
          -300937,
          -231914,
          124498,
          8699,
          19399,
          121849
         ],
         "yaxis": "y"
        },
        {
         "hovertemplate": "MCT_CAT_CD=보건위생<br>week=%{x}<br>diff=%{y}<extra></extra>",
         "legendgroup": "보건위생",
         "line": {
          "color": "#FF6692",
          "dash": "solid"
         },
         "mode": "lines",
         "name": "보건위생",
         "orientation": "v",
         "showlegend": true,
         "type": "scatter",
         "x": [
          5,
          6,
          7,
          8,
          9,
          10,
          11,
          12,
          13,
          14,
          15,
          16,
          17,
          18,
          19,
          20,
          21,
          22
         ],
         "xaxis": "x",
         "y": [
          -920481,
          -233878,
          -601775,
          -1139060,
          -2366924,
          -2061189,
          -1554690,
          -1693390,
          -2279172,
          -1199437,
          -1527132,
          -1434683,
          -1178427,
          -1083895,
          -1092383,
          -491257,
          671710,
          1469318
         ],
         "yaxis": "y"
        },
        {
         "hovertemplate": "MCT_CAT_CD=사무통신<br>week=%{x}<br>diff=%{y}<extra></extra>",
         "legendgroup": "사무통신",
         "line": {
          "color": "#B6E880",
          "dash": "solid"
         },
         "mode": "lines",
         "name": "사무통신",
         "orientation": "v",
         "showlegend": true,
         "type": "scatter",
         "x": [
          5,
          6,
          7,
          8,
          9,
          10,
          11,
          12,
          13,
          14,
          15,
          16,
          17,
          18,
          19,
          20,
          21,
          22
         ],
         "xaxis": "x",
         "y": [
          -79310,
          829517,
          308108,
          281762,
          584553,
          180053,
          468648,
          454078,
          336519,
          981130,
          -966693,
          -1348695,
          -1541412,
          -1337590,
          -1454712,
          -1238425,
          -1297648,
          -369322
         ],
         "yaxis": "y"
        },
        {
         "hovertemplate": "MCT_CAT_CD=서적문구<br>week=%{x}<br>diff=%{y}<extra></extra>",
         "legendgroup": "서적문구",
         "line": {
          "color": "#FF97FF",
          "dash": "solid"
         },
         "mode": "lines",
         "name": "서적문구",
         "orientation": "v",
         "showlegend": true,
         "type": "scatter",
         "x": [
          5,
          6,
          7,
          8,
          9,
          10,
          11,
          12,
          13,
          14,
          15,
          16,
          17,
          18,
          19,
          20,
          21,
          22
         ],
         "xaxis": "x",
         "y": [
          -271229,
          323282,
          -224785,
          -298573,
          -858193,
          -1620028,
          -823796,
          -498686,
          -550676,
          -275497,
          -186861,
          -367149,
          27598,
          -182865,
          57351,
          -25321,
          -28017,
          183116
         ],
         "yaxis": "y"
        },
        {
         "hovertemplate": "MCT_CAT_CD=수리서비스<br>week=%{x}<br>diff=%{y}<extra></extra>",
         "legendgroup": "수리서비스",
         "line": {
          "color": "#FECB52",
          "dash": "solid"
         },
         "mode": "lines",
         "name": "수리서비스",
         "orientation": "v",
         "showlegend": true,
         "type": "scatter",
         "x": [
          5,
          6,
          7,
          8,
          9,
          10,
          11,
          12,
          13,
          14,
          15,
          16,
          17,
          18,
          19,
          20,
          21,
          22
         ],
         "xaxis": "x",
         "y": [
          -33625,
          104162,
          -37681,
          -9330,
          -3102,
          -123381,
          7819,
          -31964,
          119858,
          39240,
          47148,
          23513,
          -69219,
          -59231,
          73620,
          124861,
          32905,
          128927
         ],
         "yaxis": "y"
        },
        {
         "hovertemplate": "MCT_CAT_CD=숙박<br>week=%{x}<br>diff=%{y}<extra></extra>",
         "legendgroup": "숙박",
         "line": {
          "color": "#636efa",
          "dash": "solid"
         },
         "mode": "lines",
         "name": "숙박",
         "orientation": "v",
         "showlegend": true,
         "type": "scatter",
         "x": [
          5,
          6,
          7,
          8,
          9,
          10,
          11,
          12,
          13,
          14,
          15,
          16,
          17,
          18,
          19,
          20,
          21,
          22
         ],
         "xaxis": "x",
         "y": [
          -356615,
          -673152,
          -440899,
          -1015263,
          -1280524,
          -1132745,
          -888712,
          -851043,
          -1682345,
          -1320463,
          -964645,
          -989587,
          -1622505,
          -563651,
          -706070,
          -856117,
          -2002926,
          -517055
         ],
         "yaxis": "y"
        },
        {
         "hovertemplate": "MCT_CAT_CD=신변잡화<br>week=%{x}<br>diff=%{y}<extra></extra>",
         "legendgroup": "신변잡화",
         "line": {
          "color": "#EF553B",
          "dash": "solid"
         },
         "mode": "lines",
         "name": "신변잡화",
         "orientation": "v",
         "showlegend": true,
         "type": "scatter",
         "x": [
          5,
          6,
          7,
          8,
          9,
          10,
          11,
          12,
          13,
          14,
          15,
          16,
          17,
          18,
          19,
          20,
          21,
          22
         ],
         "xaxis": "x",
         "y": [
          -180615,
          -193368,
          -186359,
          -264617,
          -435470,
          -502259,
          -551658,
          -259939,
          -308934,
          -326623,
          -296848,
          -441984,
          -206665,
          -286037,
          -137414,
          -59111,
          -223324,
          44721
         ],
         "yaxis": "y"
        },
        {
         "hovertemplate": "MCT_CAT_CD=연료판매<br>week=%{x}<br>diff=%{y}<extra></extra>",
         "legendgroup": "연료판매",
         "line": {
          "color": "#00cc96",
          "dash": "solid"
         },
         "mode": "lines",
         "name": "연료판매",
         "orientation": "v",
         "showlegend": true,
         "type": "scatter",
         "x": [
          5,
          6,
          7,
          8,
          9,
          10,
          11,
          12,
          13,
          14,
          15,
          16,
          17,
          18,
          19,
          20,
          21,
          22
         ],
         "xaxis": "x",
         "y": [
          -666655,
          -28329,
          -400985,
          -467985,
          -638237,
          -538918,
          -685215,
          -667158,
          -666314,
          -850380,
          -757106,
          -952356,
          -679437,
          -903704,
          -997876,
          -682902,
          -768340,
          251187
         ],
         "yaxis": "y"
        },
        {
         "hovertemplate": "MCT_CAT_CD=요식업소<br>week=%{x}<br>diff=%{y}<extra></extra>",
         "legendgroup": "요식업소",
         "line": {
          "color": "#ab63fa",
          "dash": "solid"
         },
         "mode": "lines",
         "name": "요식업소",
         "orientation": "v",
         "showlegend": true,
         "type": "scatter",
         "x": [
          5,
          6,
          7,
          8,
          9,
          10,
          11,
          12,
          13,
          14,
          15,
          16,
          17,
          18,
          19,
          20,
          21,
          22
         ],
         "xaxis": "x",
         "y": [
          -6774191,
          1554259,
          -2970216,
          -6765613,
          -13249843,
          -11216921,
          -10541788,
          -10915037,
          -8620372,
          -7872371,
          -8462966,
          -8490568,
          -6351008,
          -6144640,
          -3473059,
          -1689323,
          -98346,
          11890112
         ],
         "yaxis": "y"
        },
        {
         "hovertemplate": "MCT_CAT_CD=유통업<br>week=%{x}<br>diff=%{y}<extra></extra>",
         "legendgroup": "유통업",
         "line": {
          "color": "#FFA15A",
          "dash": "solid"
         },
         "mode": "lines",
         "name": "유통업",
         "orientation": "v",
         "showlegend": true,
         "type": "scatter",
         "x": [
          5,
          6,
          7,
          8,
          9,
          10,
          11,
          12,
          13,
          14,
          15,
          16,
          17,
          18,
          19,
          20,
          21,
          22
         ],
         "xaxis": "x",
         "y": [
          -12901841,
          -9101320,
          -3045902,
          -5357821,
          -13608377,
          -14946404,
          -12738705,
          -10312273,
          -9933767,
          -11699380,
          -7243285,
          -7591881,
          -7093873,
          -3781201,
          -2016674,
          -1172049,
          1064001,
          21400404
         ],
         "yaxis": "y"
        },
        {
         "hovertemplate": "MCT_CAT_CD=음료식품<br>week=%{x}<br>diff=%{y}<extra></extra>",
         "legendgroup": "음료식품",
         "line": {
          "color": "#19d3f3",
          "dash": "solid"
         },
         "mode": "lines",
         "name": "음료식품",
         "orientation": "v",
         "showlegend": true,
         "type": "scatter",
         "x": [
          5,
          6,
          7,
          8,
          9,
          10,
          11,
          12,
          13,
          14,
          15,
          16,
          17,
          18,
          19,
          20,
          21,
          22
         ],
         "xaxis": "x",
         "y": [
          -1602366,
          376710,
          43478,
          2989,
          68590,
          -3127,
          -126371,
          30413,
          -181537,
          154377,
          78059,
          -238394,
          -129008,
          -54213,
          194230,
          751770,
          1201460,
          1330684
         ],
         "yaxis": "y"
        },
        {
         "hovertemplate": "MCT_CAT_CD=의료기관<br>week=%{x}<br>diff=%{y}<extra></extra>",
         "legendgroup": "의료기관",
         "line": {
          "color": "#FF6692",
          "dash": "solid"
         },
         "mode": "lines",
         "name": "의료기관",
         "orientation": "v",
         "showlegend": true,
         "type": "scatter",
         "x": [
          5,
          6,
          7,
          8,
          9,
          10,
          11,
          12,
          13,
          14,
          15,
          16,
          17,
          18,
          19,
          20,
          21,
          22
         ],
         "xaxis": "x",
         "y": [
          -3612919,
          6860029,
          -1184238,
          -3581195,
          223173,
          -2529476,
          -2963717,
          -4685727,
          -6258451,
          1810496,
          -1416381,
          -3624108,
          -5861668,
          2151807,
          -198175,
          1504174,
          -34347,
          3688010
         ],
         "yaxis": "y"
        },
        {
         "hovertemplate": "MCT_CAT_CD=의복<br>week=%{x}<br>diff=%{y}<extra></extra>",
         "legendgroup": "의복",
         "line": {
          "color": "#B6E880",
          "dash": "solid"
         },
         "mode": "lines",
         "name": "의복",
         "orientation": "v",
         "showlegend": true,
         "type": "scatter",
         "x": [
          5,
          6,
          7,
          8,
          9,
          10,
          11,
          12,
          13,
          14,
          15,
          16,
          17,
          18,
          19,
          20,
          21,
          22
         ],
         "xaxis": "x",
         "y": [
          -994601,
          -1142085,
          -1462411,
          -1629162,
          -3049545,
          -2334471,
          -2101441,
          -1568574,
          -1640743,
          -1790635,
          -1811214,
          -2064428,
          -1851705,
          -1716882,
          -1408013,
          -1189277,
          -213654,
          1077649
         ],
         "yaxis": "y"
        },
        {
         "hovertemplate": "MCT_CAT_CD=자동차정비<br>week=%{x}<br>diff=%{y}<extra></extra>",
         "legendgroup": "자동차정비",
         "line": {
          "color": "#FF97FF",
          "dash": "solid"
         },
         "mode": "lines",
         "name": "자동차정비",
         "orientation": "v",
         "showlegend": true,
         "type": "scatter",
         "x": [
          5,
          6,
          7,
          8,
          9,
          10,
          11,
          12,
          13,
          14,
          15,
          16,
          17,
          18,
          19,
          20,
          21,
          22
         ],
         "xaxis": "x",
         "y": [
          -301370,
          73932,
          -285289,
          -273322,
          -512962,
          -520091,
          -326507,
          -305644,
          -384286,
          -254318,
          -115069,
          -300640,
          -345639,
          -341029,
          -104872,
          -36203,
          144907,
          437119
         ],
         "yaxis": "y"
        },
        {
         "hovertemplate": "MCT_CAT_CD=자동차판매<br>week=%{x}<br>diff=%{y}<extra></extra>",
         "legendgroup": "자동차판매",
         "line": {
          "color": "#FECB52",
          "dash": "solid"
         },
         "mode": "lines",
         "name": "자동차판매",
         "orientation": "v",
         "showlegend": true,
         "type": "scatter",
         "x": [
          5,
          6,
          7,
          8,
          9,
          10,
          11,
          12,
          13,
          14,
          15,
          16,
          17,
          18,
          19,
          20,
          21,
          22
         ],
         "xaxis": "x",
         "y": [
          8790,
          82552,
          28153,
          -89026,
          82691,
          54736,
          23935,
          -38909,
          -13124,
          18331,
          122507,
          -42832,
          173825,
          15919,
          -88367,
          43258,
          144841,
          69302
         ],
         "yaxis": "y"
        },
        {
         "hovertemplate": "MCT_CAT_CD=전기<br>week=%{x}<br>diff=%{y}<extra></extra>",
         "legendgroup": "전기",
         "line": {
          "color": "#636efa",
          "dash": "solid"
         },
         "mode": "lines",
         "name": "전기",
         "orientation": "v",
         "showlegend": true,
         "type": "scatter",
         "x": [
          5,
          6,
          7,
          8,
          9,
          10,
          11,
          12,
          13,
          14,
          15,
          16,
          17,
          18,
          19,
          20,
          21,
          22
         ],
         "xaxis": "x",
         "y": [
          -8303,
          27984,
          -36164,
          1667,
          4630,
          14284,
          5324,
          -967,
          9378,
          1298,
          25992,
          -9429,
          14467,
          -6117,
          -7580,
          18060,
          -11660,
          11773
         ],
         "yaxis": "y"
        },
        {
         "hovertemplate": "MCT_CAT_CD=주방용구<br>week=%{x}<br>diff=%{y}<extra></extra>",
         "legendgroup": "주방용구",
         "line": {
          "color": "#EF553B",
          "dash": "solid"
         },
         "mode": "lines",
         "name": "주방용구",
         "orientation": "v",
         "showlegend": true,
         "type": "scatter",
         "x": [
          5,
          6,
          7,
          8,
          9,
          10,
          11,
          12,
          13,
          14,
          15,
          16,
          17,
          18,
          19,
          20,
          21,
          22
         ],
         "xaxis": "x",
         "y": [
          -9664,
          153928,
          3568,
          -106308,
          -159847,
          -95209,
          -158744,
          -74448,
          -118667,
          -72794,
          -62053,
          -50946,
          -13921,
          -166216,
          -6937,
          -93507,
          114129,
          293885
         ],
         "yaxis": "y"
        },
        {
         "hovertemplate": "MCT_CAT_CD=직물<br>week=%{x}<br>diff=%{y}<extra></extra>",
         "legendgroup": "직물",
         "line": {
          "color": "#00cc96",
          "dash": "solid"
         },
         "mode": "lines",
         "name": "직물",
         "orientation": "v",
         "showlegend": true,
         "type": "scatter",
         "x": [
          5,
          6,
          7,
          8,
          9,
          10,
          11,
          12,
          13,
          14,
          15,
          16,
          17,
          18,
          19,
          20,
          21,
          22
         ],
         "xaxis": "x",
         "y": [
          -38498,
          181819,
          -98306,
          -47250,
          70613,
          -197766,
          28152,
          -98641,
          -226559,
          24033,
          -220109,
          -60156,
          -17882,
          -121069,
          -17483,
          151515,
          133971,
          248068
         ],
         "yaxis": "y"
        }
       ],
       "layout": {
        "legend": {
         "title": {
          "text": "MCT_CAT_CD"
         },
         "tracegroupgap": 0
        },
        "margin": {
         "t": 60
        },
        "template": {
         "data": {
          "bar": [
           {
            "error_x": {
             "color": "#2a3f5f"
            },
            "error_y": {
             "color": "#2a3f5f"
            },
            "marker": {
             "line": {
              "color": "#E5ECF6",
              "width": 0.5
             }
            },
            "type": "bar"
           }
          ],
          "barpolar": [
           {
            "marker": {
             "line": {
              "color": "#E5ECF6",
              "width": 0.5
             }
            },
            "type": "barpolar"
           }
          ],
          "carpet": [
           {
            "aaxis": {
             "endlinecolor": "#2a3f5f",
             "gridcolor": "white",
             "linecolor": "white",
             "minorgridcolor": "white",
             "startlinecolor": "#2a3f5f"
            },
            "baxis": {
             "endlinecolor": "#2a3f5f",
             "gridcolor": "white",
             "linecolor": "white",
             "minorgridcolor": "white",
             "startlinecolor": "#2a3f5f"
            },
            "type": "carpet"
           }
          ],
          "choropleth": [
           {
            "colorbar": {
             "outlinewidth": 0,
             "ticks": ""
            },
            "type": "choropleth"
           }
          ],
          "contour": [
           {
            "colorbar": {
             "outlinewidth": 0,
             "ticks": ""
            },
            "colorscale": [
             [
              0,
              "#0d0887"
             ],
             [
              0.1111111111111111,
              "#46039f"
             ],
             [
              0.2222222222222222,
              "#7201a8"
             ],
             [
              0.3333333333333333,
              "#9c179e"
             ],
             [
              0.4444444444444444,
              "#bd3786"
             ],
             [
              0.5555555555555556,
              "#d8576b"
             ],
             [
              0.6666666666666666,
              "#ed7953"
             ],
             [
              0.7777777777777778,
              "#fb9f3a"
             ],
             [
              0.8888888888888888,
              "#fdca26"
             ],
             [
              1,
              "#f0f921"
             ]
            ],
            "type": "contour"
           }
          ],
          "contourcarpet": [
           {
            "colorbar": {
             "outlinewidth": 0,
             "ticks": ""
            },
            "type": "contourcarpet"
           }
          ],
          "heatmap": [
           {
            "colorbar": {
             "outlinewidth": 0,
             "ticks": ""
            },
            "colorscale": [
             [
              0,
              "#0d0887"
             ],
             [
              0.1111111111111111,
              "#46039f"
             ],
             [
              0.2222222222222222,
              "#7201a8"
             ],
             [
              0.3333333333333333,
              "#9c179e"
             ],
             [
              0.4444444444444444,
              "#bd3786"
             ],
             [
              0.5555555555555556,
              "#d8576b"
             ],
             [
              0.6666666666666666,
              "#ed7953"
             ],
             [
              0.7777777777777778,
              "#fb9f3a"
             ],
             [
              0.8888888888888888,
              "#fdca26"
             ],
             [
              1,
              "#f0f921"
             ]
            ],
            "type": "heatmap"
           }
          ],
          "heatmapgl": [
           {
            "colorbar": {
             "outlinewidth": 0,
             "ticks": ""
            },
            "colorscale": [
             [
              0,
              "#0d0887"
             ],
             [
              0.1111111111111111,
              "#46039f"
             ],
             [
              0.2222222222222222,
              "#7201a8"
             ],
             [
              0.3333333333333333,
              "#9c179e"
             ],
             [
              0.4444444444444444,
              "#bd3786"
             ],
             [
              0.5555555555555556,
              "#d8576b"
             ],
             [
              0.6666666666666666,
              "#ed7953"
             ],
             [
              0.7777777777777778,
              "#fb9f3a"
             ],
             [
              0.8888888888888888,
              "#fdca26"
             ],
             [
              1,
              "#f0f921"
             ]
            ],
            "type": "heatmapgl"
           }
          ],
          "histogram": [
           {
            "marker": {
             "colorbar": {
              "outlinewidth": 0,
              "ticks": ""
             }
            },
            "type": "histogram"
           }
          ],
          "histogram2d": [
           {
            "colorbar": {
             "outlinewidth": 0,
             "ticks": ""
            },
            "colorscale": [
             [
              0,
              "#0d0887"
             ],
             [
              0.1111111111111111,
              "#46039f"
             ],
             [
              0.2222222222222222,
              "#7201a8"
             ],
             [
              0.3333333333333333,
              "#9c179e"
             ],
             [
              0.4444444444444444,
              "#bd3786"
             ],
             [
              0.5555555555555556,
              "#d8576b"
             ],
             [
              0.6666666666666666,
              "#ed7953"
             ],
             [
              0.7777777777777778,
              "#fb9f3a"
             ],
             [
              0.8888888888888888,
              "#fdca26"
             ],
             [
              1,
              "#f0f921"
             ]
            ],
            "type": "histogram2d"
           }
          ],
          "histogram2dcontour": [
           {
            "colorbar": {
             "outlinewidth": 0,
             "ticks": ""
            },
            "colorscale": [
             [
              0,
              "#0d0887"
             ],
             [
              0.1111111111111111,
              "#46039f"
             ],
             [
              0.2222222222222222,
              "#7201a8"
             ],
             [
              0.3333333333333333,
              "#9c179e"
             ],
             [
              0.4444444444444444,
              "#bd3786"
             ],
             [
              0.5555555555555556,
              "#d8576b"
             ],
             [
              0.6666666666666666,
              "#ed7953"
             ],
             [
              0.7777777777777778,
              "#fb9f3a"
             ],
             [
              0.8888888888888888,
              "#fdca26"
             ],
             [
              1,
              "#f0f921"
             ]
            ],
            "type": "histogram2dcontour"
           }
          ],
          "mesh3d": [
           {
            "colorbar": {
             "outlinewidth": 0,
             "ticks": ""
            },
            "type": "mesh3d"
           }
          ],
          "parcoords": [
           {
            "line": {
             "colorbar": {
              "outlinewidth": 0,
              "ticks": ""
             }
            },
            "type": "parcoords"
           }
          ],
          "pie": [
           {
            "automargin": true,
            "type": "pie"
           }
          ],
          "scatter": [
           {
            "marker": {
             "colorbar": {
              "outlinewidth": 0,
              "ticks": ""
             }
            },
            "type": "scatter"
           }
          ],
          "scatter3d": [
           {
            "line": {
             "colorbar": {
              "outlinewidth": 0,
              "ticks": ""
             }
            },
            "marker": {
             "colorbar": {
              "outlinewidth": 0,
              "ticks": ""
             }
            },
            "type": "scatter3d"
           }
          ],
          "scattercarpet": [
           {
            "marker": {
             "colorbar": {
              "outlinewidth": 0,
              "ticks": ""
             }
            },
            "type": "scattercarpet"
           }
          ],
          "scattergeo": [
           {
            "marker": {
             "colorbar": {
              "outlinewidth": 0,
              "ticks": ""
             }
            },
            "type": "scattergeo"
           }
          ],
          "scattergl": [
           {
            "marker": {
             "colorbar": {
              "outlinewidth": 0,
              "ticks": ""
             }
            },
            "type": "scattergl"
           }
          ],
          "scattermapbox": [
           {
            "marker": {
             "colorbar": {
              "outlinewidth": 0,
              "ticks": ""
             }
            },
            "type": "scattermapbox"
           }
          ],
          "scatterpolar": [
           {
            "marker": {
             "colorbar": {
              "outlinewidth": 0,
              "ticks": ""
             }
            },
            "type": "scatterpolar"
           }
          ],
          "scatterpolargl": [
           {
            "marker": {
             "colorbar": {
              "outlinewidth": 0,
              "ticks": ""
             }
            },
            "type": "scatterpolargl"
           }
          ],
          "scatterternary": [
           {
            "marker": {
             "colorbar": {
              "outlinewidth": 0,
              "ticks": ""
             }
            },
            "type": "scatterternary"
           }
          ],
          "surface": [
           {
            "colorbar": {
             "outlinewidth": 0,
             "ticks": ""
            },
            "colorscale": [
             [
              0,
              "#0d0887"
             ],
             [
              0.1111111111111111,
              "#46039f"
             ],
             [
              0.2222222222222222,
              "#7201a8"
             ],
             [
              0.3333333333333333,
              "#9c179e"
             ],
             [
              0.4444444444444444,
              "#bd3786"
             ],
             [
              0.5555555555555556,
              "#d8576b"
             ],
             [
              0.6666666666666666,
              "#ed7953"
             ],
             [
              0.7777777777777778,
              "#fb9f3a"
             ],
             [
              0.8888888888888888,
              "#fdca26"
             ],
             [
              1,
              "#f0f921"
             ]
            ],
            "type": "surface"
           }
          ],
          "table": [
           {
            "cells": {
             "fill": {
              "color": "#EBF0F8"
             },
             "line": {
              "color": "white"
             }
            },
            "header": {
             "fill": {
              "color": "#C8D4E3"
             },
             "line": {
              "color": "white"
             }
            },
            "type": "table"
           }
          ]
         },
         "layout": {
          "annotationdefaults": {
           "arrowcolor": "#2a3f5f",
           "arrowhead": 0,
           "arrowwidth": 1
          },
          "coloraxis": {
           "colorbar": {
            "outlinewidth": 0,
            "ticks": ""
           }
          },
          "colorscale": {
           "diverging": [
            [
             0,
             "#8e0152"
            ],
            [
             0.1,
             "#c51b7d"
            ],
            [
             0.2,
             "#de77ae"
            ],
            [
             0.3,
             "#f1b6da"
            ],
            [
             0.4,
             "#fde0ef"
            ],
            [
             0.5,
             "#f7f7f7"
            ],
            [
             0.6,
             "#e6f5d0"
            ],
            [
             0.7,
             "#b8e186"
            ],
            [
             0.8,
             "#7fbc41"
            ],
            [
             0.9,
             "#4d9221"
            ],
            [
             1,
             "#276419"
            ]
           ],
           "sequential": [
            [
             0,
             "#0d0887"
            ],
            [
             0.1111111111111111,
             "#46039f"
            ],
            [
             0.2222222222222222,
             "#7201a8"
            ],
            [
             0.3333333333333333,
             "#9c179e"
            ],
            [
             0.4444444444444444,
             "#bd3786"
            ],
            [
             0.5555555555555556,
             "#d8576b"
            ],
            [
             0.6666666666666666,
             "#ed7953"
            ],
            [
             0.7777777777777778,
             "#fb9f3a"
            ],
            [
             0.8888888888888888,
             "#fdca26"
            ],
            [
             1,
             "#f0f921"
            ]
           ],
           "sequentialminus": [
            [
             0,
             "#0d0887"
            ],
            [
             0.1111111111111111,
             "#46039f"
            ],
            [
             0.2222222222222222,
             "#7201a8"
            ],
            [
             0.3333333333333333,
             "#9c179e"
            ],
            [
             0.4444444444444444,
             "#bd3786"
            ],
            [
             0.5555555555555556,
             "#d8576b"
            ],
            [
             0.6666666666666666,
             "#ed7953"
            ],
            [
             0.7777777777777778,
             "#fb9f3a"
            ],
            [
             0.8888888888888888,
             "#fdca26"
            ],
            [
             1,
             "#f0f921"
            ]
           ]
          },
          "colorway": [
           "#636efa",
           "#EF553B",
           "#00cc96",
           "#ab63fa",
           "#FFA15A",
           "#19d3f3",
           "#FF6692",
           "#B6E880",
           "#FF97FF",
           "#FECB52"
          ],
          "font": {
           "color": "#2a3f5f"
          },
          "geo": {
           "bgcolor": "white",
           "lakecolor": "white",
           "landcolor": "#E5ECF6",
           "showlakes": true,
           "showland": true,
           "subunitcolor": "white"
          },
          "hoverlabel": {
           "align": "left"
          },
          "hovermode": "closest",
          "mapbox": {
           "style": "light"
          },
          "paper_bgcolor": "white",
          "plot_bgcolor": "#E5ECF6",
          "polar": {
           "angularaxis": {
            "gridcolor": "white",
            "linecolor": "white",
            "ticks": ""
           },
           "bgcolor": "#E5ECF6",
           "radialaxis": {
            "gridcolor": "white",
            "linecolor": "white",
            "ticks": ""
           }
          },
          "scene": {
           "xaxis": {
            "backgroundcolor": "#E5ECF6",
            "gridcolor": "white",
            "gridwidth": 2,
            "linecolor": "white",
            "showbackground": true,
            "ticks": "",
            "zerolinecolor": "white"
           },
           "yaxis": {
            "backgroundcolor": "#E5ECF6",
            "gridcolor": "white",
            "gridwidth": 2,
            "linecolor": "white",
            "showbackground": true,
            "ticks": "",
            "zerolinecolor": "white"
           },
           "zaxis": {
            "backgroundcolor": "#E5ECF6",
            "gridcolor": "white",
            "gridwidth": 2,
            "linecolor": "white",
            "showbackground": true,
            "ticks": "",
            "zerolinecolor": "white"
           }
          },
          "shapedefaults": {
           "line": {
            "color": "#2a3f5f"
           }
          },
          "ternary": {
           "aaxis": {
            "gridcolor": "white",
            "linecolor": "white",
            "ticks": ""
           },
           "baxis": {
            "gridcolor": "white",
            "linecolor": "white",
            "ticks": ""
           },
           "bgcolor": "#E5ECF6",
           "caxis": {
            "gridcolor": "white",
            "linecolor": "white",
            "ticks": ""
           }
          },
          "title": {
           "x": 0.05
          },
          "xaxis": {
           "automargin": true,
           "gridcolor": "white",
           "linecolor": "white",
           "ticks": "",
           "title": {
            "standoff": 15
           },
           "zerolinecolor": "white",
           "zerolinewidth": 2
          },
          "yaxis": {
           "automargin": true,
           "gridcolor": "white",
           "linecolor": "white",
           "ticks": "",
           "title": {
            "standoff": 15
           },
           "zerolinecolor": "white",
           "zerolinewidth": 2
          }
         }
        },
        "xaxis": {
         "anchor": "y",
         "domain": [
          0,
          1
         ],
         "tickmode": "array",
         "ticktext": [
          "12/23",
          "12/30",
          "1/6",
          "1/13",
          "1/20",
          "1/27",
          "2/3",
          "2/10",
          "2/17",
          "2/24",
          "3/2",
          "3/9",
          "3/16",
          "3/23",
          "3/30",
          "4/6",
          "4/13",
          "4/20",
          "4/27",
          "5/4",
          "5/11",
          "5/18",
          "5/25",
          "6/1",
          "6/8",
          "6/15",
          "6/22",
          "6/29",
          "7/6",
          "7/13",
          "7/20",
          "7/27",
          "8/3",
          "8/10",
          "8/17",
          "8/24",
          "8/31",
          "9/7",
          "9/14",
          "9/21",
          "9/28",
          "10/5",
          "10/12",
          "10/19",
          "10/26",
          "11/2",
          "11/9",
          "11/16",
          "11/23",
          "11/30",
          "12/7",
          "12/14"
         ],
         "tickvals": [
          0,
          1,
          2,
          3,
          4,
          5,
          6,
          7,
          8,
          9,
          10,
          11,
          12,
          13,
          14,
          15,
          16,
          17,
          18,
          19,
          20,
          21,
          22,
          23,
          24,
          25,
          26,
          27,
          28,
          29,
          30,
          31,
          32,
          33,
          34,
          35,
          36,
          37,
          38,
          39,
          40,
          41,
          42,
          43,
          44,
          45,
          46,
          47,
          48,
          49,
          50,
          51
         ],
         "title": {
          "text": "week"
         }
        },
        "yaxis": {
         "anchor": "x",
         "domain": [
          0,
          1
         ],
         "title": {
          "text": "diff"
         }
        }
       }
      },
      "text/html": [
       "<div>\n",
       "        \n",
       "        \n",
       "            <div id=\"5c299aef-c2b2-423c-bd3b-4486c38ee108\" class=\"plotly-graph-div\" style=\"height:525px; width:100%;\"></div>\n",
       "            <script type=\"text/javascript\">\n",
       "                require([\"plotly\"], function(Plotly) {\n",
       "                    window.PLOTLYENV=window.PLOTLYENV || {};\n",
       "                    \n",
       "                if (document.getElementById(\"5c299aef-c2b2-423c-bd3b-4486c38ee108\")) {\n",
       "                    Plotly.newPlot(\n",
       "                        '5c299aef-c2b2-423c-bd3b-4486c38ee108',\n",
       "                        [{\"hovertemplate\": \"MCT_CAT_CD=\\uac00\\uad6c<br>week=%{x}<br>diff=%{y}<extra></extra>\", \"legendgroup\": \"\\uac00\\uad6c\", \"line\": {\"color\": \"#636efa\", \"dash\": \"solid\"}, \"mode\": \"lines\", \"name\": \"\\uac00\\uad6c\", \"orientation\": \"v\", \"showlegend\": true, \"type\": \"scatter\", \"x\": [5, 6, 7, 8, 9, 10, 11, 12, 13, 14, 15, 16, 17, 18, 19, 20, 21, 22], \"xaxis\": \"x\", \"y\": [72383, 52583, 25120, -48080, -85652, 55888, -20197, -130891, -22226, 116112, -113581, 97756, 14735, 9007, -37744, 243686, 282740, 284122], \"yaxis\": \"y\"}, {\"hovertemplate\": \"MCT_CAT_CD=\\uac00\\uc804<br>week=%{x}<br>diff=%{y}<extra></extra>\", \"legendgroup\": \"\\uac00\\uc804\", \"line\": {\"color\": \"#EF553B\", \"dash\": \"solid\"}, \"mode\": \"lines\", \"name\": \"\\uac00\\uc804\", \"orientation\": \"v\", \"showlegend\": true, \"type\": \"scatter\", \"x\": [5, 6, 7, 8, 9, 10, 11, 12, 13, 14, 15, 16, 17, 18, 19, 20, 21, 22], \"xaxis\": \"x\", \"y\": [-59598, -73105, -209978, -407681, -614033, -618868, -763359, -741873, -373445, -317101, -631668, -697796, -614924, -380767, -252578, 9466, 14618, 124711], \"yaxis\": \"y\"}, {\"hovertemplate\": \"MCT_CAT_CD=\\uad11\\ud559\\uc81c\\ud488<br>week=%{x}<br>diff=%{y}<extra></extra>\", \"legendgroup\": \"\\uad11\\ud559\\uc81c\\ud488\", \"line\": {\"color\": \"#00cc96\", \"dash\": \"solid\"}, \"mode\": \"lines\", \"name\": \"\\uad11\\ud559\\uc81c\\ud488\", \"orientation\": \"v\", \"showlegend\": true, \"type\": \"scatter\", \"x\": [5, 6, 7, 8, 9, 10, 11, 12, 13, 14, 15, 16, 17, 18, 19, 20, 21, 22], \"xaxis\": \"x\", \"y\": [-11067, -5821, -34963, -176697, -204658, -93296, -97785, -65106, -303366, 124446, -15760, 70490, -195645, -183893, 52126, -1433, -211418, -33205], \"yaxis\": \"y\"}, {\"hovertemplate\": \"MCT_CAT_CD=\\ub808\\uc800\\uc5c5\\uc18c<br>week=%{x}<br>diff=%{y}<extra></extra>\", \"legendgroup\": \"\\ub808\\uc800\\uc5c5\\uc18c\", \"line\": {\"color\": \"#ab63fa\", \"dash\": \"solid\"}, \"mode\": \"lines\", \"name\": \"\\ub808\\uc800\\uc5c5\\uc18c\", \"orientation\": \"v\", \"showlegend\": true, \"type\": \"scatter\", \"x\": [5, 6, 7, 8, 9, 10, 11, 12, 13, 14, 15, 16, 17, 18, 19, 20, 21, 22], \"xaxis\": \"x\", \"y\": [-287335, 320236, -51754, -239663, -860485, -873753, -626723, -641219, -1200870, -1296760, -663962, -761631, -388352, -439697, 102727, -58384, -119853, 545810], \"yaxis\": \"y\"}, {\"hovertemplate\": \"MCT_CAT_CD=\\ub808\\uc800\\uc6a9\\ud488<br>week=%{x}<br>diff=%{y}<extra></extra>\", \"legendgroup\": \"\\ub808\\uc800\\uc6a9\\ud488\", \"line\": {\"color\": \"#FFA15A\", \"dash\": \"solid\"}, \"mode\": \"lines\", \"name\": \"\\ub808\\uc800\\uc6a9\\ud488\", \"orientation\": \"v\", \"showlegend\": true, \"type\": \"scatter\", \"x\": [5, 6, 7, 8, 9, 10, 11, 12, 13, 14, 15, 16, 17, 18, 19, 20, 21, 22], \"xaxis\": \"x\", \"y\": [-1119565, -2056170, -420093, -1558765, -4143397, -2006752, -1559664, -1069236, -1026447, -942488, -910368, -924350, -1309222, -865255, -452424, 1136862, 1376872, 3151356], \"yaxis\": \"y\"}, {\"hovertemplate\": \"MCT_CAT_CD=\\ubb38\\ud654\\ucde8\\ubbf8<br>week=%{x}<br>diff=%{y}<extra></extra>\", \"legendgroup\": \"\\ubb38\\ud654\\ucde8\\ubbf8\", \"line\": {\"color\": \"#19d3f3\", \"dash\": \"solid\"}, \"mode\": \"lines\", \"name\": \"\\ubb38\\ud654\\ucde8\\ubbf8\", \"orientation\": \"v\", \"showlegend\": true, \"type\": \"scatter\", \"x\": [5, 6, 7, 8, 9, 10, 11, 12, 13, 14, 15, 16, 17, 18, 19, 20, 21, 22], \"xaxis\": \"x\", \"y\": [-218522, -227708, -119410, -168395, -346365, -205770, -161269, -149886, -210214, -25317, 19571, -23865, -300937, -231914, 124498, 8699, 19399, 121849], \"yaxis\": \"y\"}, {\"hovertemplate\": \"MCT_CAT_CD=\\ubcf4\\uac74\\uc704\\uc0dd<br>week=%{x}<br>diff=%{y}<extra></extra>\", \"legendgroup\": \"\\ubcf4\\uac74\\uc704\\uc0dd\", \"line\": {\"color\": \"#FF6692\", \"dash\": \"solid\"}, \"mode\": \"lines\", \"name\": \"\\ubcf4\\uac74\\uc704\\uc0dd\", \"orientation\": \"v\", \"showlegend\": true, \"type\": \"scatter\", \"x\": [5, 6, 7, 8, 9, 10, 11, 12, 13, 14, 15, 16, 17, 18, 19, 20, 21, 22], \"xaxis\": \"x\", \"y\": [-920481, -233878, -601775, -1139060, -2366924, -2061189, -1554690, -1693390, -2279172, -1199437, -1527132, -1434683, -1178427, -1083895, -1092383, -491257, 671710, 1469318], \"yaxis\": \"y\"}, {\"hovertemplate\": \"MCT_CAT_CD=\\uc0ac\\ubb34\\ud1b5\\uc2e0<br>week=%{x}<br>diff=%{y}<extra></extra>\", \"legendgroup\": \"\\uc0ac\\ubb34\\ud1b5\\uc2e0\", \"line\": {\"color\": \"#B6E880\", \"dash\": \"solid\"}, \"mode\": \"lines\", \"name\": \"\\uc0ac\\ubb34\\ud1b5\\uc2e0\", \"orientation\": \"v\", \"showlegend\": true, \"type\": \"scatter\", \"x\": [5, 6, 7, 8, 9, 10, 11, 12, 13, 14, 15, 16, 17, 18, 19, 20, 21, 22], \"xaxis\": \"x\", \"y\": [-79310, 829517, 308108, 281762, 584553, 180053, 468648, 454078, 336519, 981130, -966693, -1348695, -1541412, -1337590, -1454712, -1238425, -1297648, -369322], \"yaxis\": \"y\"}, {\"hovertemplate\": \"MCT_CAT_CD=\\uc11c\\uc801\\ubb38\\uad6c<br>week=%{x}<br>diff=%{y}<extra></extra>\", \"legendgroup\": \"\\uc11c\\uc801\\ubb38\\uad6c\", \"line\": {\"color\": \"#FF97FF\", \"dash\": \"solid\"}, \"mode\": \"lines\", \"name\": \"\\uc11c\\uc801\\ubb38\\uad6c\", \"orientation\": \"v\", \"showlegend\": true, \"type\": \"scatter\", \"x\": [5, 6, 7, 8, 9, 10, 11, 12, 13, 14, 15, 16, 17, 18, 19, 20, 21, 22], \"xaxis\": \"x\", \"y\": [-271229, 323282, -224785, -298573, -858193, -1620028, -823796, -498686, -550676, -275497, -186861, -367149, 27598, -182865, 57351, -25321, -28017, 183116], \"yaxis\": \"y\"}, {\"hovertemplate\": \"MCT_CAT_CD=\\uc218\\ub9ac\\uc11c\\ube44\\uc2a4<br>week=%{x}<br>diff=%{y}<extra></extra>\", \"legendgroup\": \"\\uc218\\ub9ac\\uc11c\\ube44\\uc2a4\", \"line\": {\"color\": \"#FECB52\", \"dash\": \"solid\"}, \"mode\": \"lines\", \"name\": \"\\uc218\\ub9ac\\uc11c\\ube44\\uc2a4\", \"orientation\": \"v\", \"showlegend\": true, \"type\": \"scatter\", \"x\": [5, 6, 7, 8, 9, 10, 11, 12, 13, 14, 15, 16, 17, 18, 19, 20, 21, 22], \"xaxis\": \"x\", \"y\": [-33625, 104162, -37681, -9330, -3102, -123381, 7819, -31964, 119858, 39240, 47148, 23513, -69219, -59231, 73620, 124861, 32905, 128927], \"yaxis\": \"y\"}, {\"hovertemplate\": \"MCT_CAT_CD=\\uc219\\ubc15<br>week=%{x}<br>diff=%{y}<extra></extra>\", \"legendgroup\": \"\\uc219\\ubc15\", \"line\": {\"color\": \"#636efa\", \"dash\": \"solid\"}, \"mode\": \"lines\", \"name\": \"\\uc219\\ubc15\", \"orientation\": \"v\", \"showlegend\": true, \"type\": \"scatter\", \"x\": [5, 6, 7, 8, 9, 10, 11, 12, 13, 14, 15, 16, 17, 18, 19, 20, 21, 22], \"xaxis\": \"x\", \"y\": [-356615, -673152, -440899, -1015263, -1280524, -1132745, -888712, -851043, -1682345, -1320463, -964645, -989587, -1622505, -563651, -706070, -856117, -2002926, -517055], \"yaxis\": \"y\"}, {\"hovertemplate\": \"MCT_CAT_CD=\\uc2e0\\ubcc0\\uc7a1\\ud654<br>week=%{x}<br>diff=%{y}<extra></extra>\", \"legendgroup\": \"\\uc2e0\\ubcc0\\uc7a1\\ud654\", \"line\": {\"color\": \"#EF553B\", \"dash\": \"solid\"}, \"mode\": \"lines\", \"name\": \"\\uc2e0\\ubcc0\\uc7a1\\ud654\", \"orientation\": \"v\", \"showlegend\": true, \"type\": \"scatter\", \"x\": [5, 6, 7, 8, 9, 10, 11, 12, 13, 14, 15, 16, 17, 18, 19, 20, 21, 22], \"xaxis\": \"x\", \"y\": [-180615, -193368, -186359, -264617, -435470, -502259, -551658, -259939, -308934, -326623, -296848, -441984, -206665, -286037, -137414, -59111, -223324, 44721], \"yaxis\": \"y\"}, {\"hovertemplate\": \"MCT_CAT_CD=\\uc5f0\\ub8cc\\ud310\\ub9e4<br>week=%{x}<br>diff=%{y}<extra></extra>\", \"legendgroup\": \"\\uc5f0\\ub8cc\\ud310\\ub9e4\", \"line\": {\"color\": \"#00cc96\", \"dash\": \"solid\"}, \"mode\": \"lines\", \"name\": \"\\uc5f0\\ub8cc\\ud310\\ub9e4\", \"orientation\": \"v\", \"showlegend\": true, \"type\": \"scatter\", \"x\": [5, 6, 7, 8, 9, 10, 11, 12, 13, 14, 15, 16, 17, 18, 19, 20, 21, 22], \"xaxis\": \"x\", \"y\": [-666655, -28329, -400985, -467985, -638237, -538918, -685215, -667158, -666314, -850380, -757106, -952356, -679437, -903704, -997876, -682902, -768340, 251187], \"yaxis\": \"y\"}, {\"hovertemplate\": \"MCT_CAT_CD=\\uc694\\uc2dd\\uc5c5\\uc18c<br>week=%{x}<br>diff=%{y}<extra></extra>\", \"legendgroup\": \"\\uc694\\uc2dd\\uc5c5\\uc18c\", \"line\": {\"color\": \"#ab63fa\", \"dash\": \"solid\"}, \"mode\": \"lines\", \"name\": \"\\uc694\\uc2dd\\uc5c5\\uc18c\", \"orientation\": \"v\", \"showlegend\": true, \"type\": \"scatter\", \"x\": [5, 6, 7, 8, 9, 10, 11, 12, 13, 14, 15, 16, 17, 18, 19, 20, 21, 22], \"xaxis\": \"x\", \"y\": [-6774191, 1554259, -2970216, -6765613, -13249843, -11216921, -10541788, -10915037, -8620372, -7872371, -8462966, -8490568, -6351008, -6144640, -3473059, -1689323, -98346, 11890112], \"yaxis\": \"y\"}, {\"hovertemplate\": \"MCT_CAT_CD=\\uc720\\ud1b5\\uc5c5<br>week=%{x}<br>diff=%{y}<extra></extra>\", \"legendgroup\": \"\\uc720\\ud1b5\\uc5c5\", \"line\": {\"color\": \"#FFA15A\", \"dash\": \"solid\"}, \"mode\": \"lines\", \"name\": \"\\uc720\\ud1b5\\uc5c5\", \"orientation\": \"v\", \"showlegend\": true, \"type\": \"scatter\", \"x\": [5, 6, 7, 8, 9, 10, 11, 12, 13, 14, 15, 16, 17, 18, 19, 20, 21, 22], \"xaxis\": \"x\", \"y\": [-12901841, -9101320, -3045902, -5357821, -13608377, -14946404, -12738705, -10312273, -9933767, -11699380, -7243285, -7591881, -7093873, -3781201, -2016674, -1172049, 1064001, 21400404], \"yaxis\": \"y\"}, {\"hovertemplate\": \"MCT_CAT_CD=\\uc74c\\ub8cc\\uc2dd\\ud488<br>week=%{x}<br>diff=%{y}<extra></extra>\", \"legendgroup\": \"\\uc74c\\ub8cc\\uc2dd\\ud488\", \"line\": {\"color\": \"#19d3f3\", \"dash\": \"solid\"}, \"mode\": \"lines\", \"name\": \"\\uc74c\\ub8cc\\uc2dd\\ud488\", \"orientation\": \"v\", \"showlegend\": true, \"type\": \"scatter\", \"x\": [5, 6, 7, 8, 9, 10, 11, 12, 13, 14, 15, 16, 17, 18, 19, 20, 21, 22], \"xaxis\": \"x\", \"y\": [-1602366, 376710, 43478, 2989, 68590, -3127, -126371, 30413, -181537, 154377, 78059, -238394, -129008, -54213, 194230, 751770, 1201460, 1330684], \"yaxis\": \"y\"}, {\"hovertemplate\": \"MCT_CAT_CD=\\uc758\\ub8cc\\uae30\\uad00<br>week=%{x}<br>diff=%{y}<extra></extra>\", \"legendgroup\": \"\\uc758\\ub8cc\\uae30\\uad00\", \"line\": {\"color\": \"#FF6692\", \"dash\": \"solid\"}, \"mode\": \"lines\", \"name\": \"\\uc758\\ub8cc\\uae30\\uad00\", \"orientation\": \"v\", \"showlegend\": true, \"type\": \"scatter\", \"x\": [5, 6, 7, 8, 9, 10, 11, 12, 13, 14, 15, 16, 17, 18, 19, 20, 21, 22], \"xaxis\": \"x\", \"y\": [-3612919, 6860029, -1184238, -3581195, 223173, -2529476, -2963717, -4685727, -6258451, 1810496, -1416381, -3624108, -5861668, 2151807, -198175, 1504174, -34347, 3688010], \"yaxis\": \"y\"}, {\"hovertemplate\": \"MCT_CAT_CD=\\uc758\\ubcf5<br>week=%{x}<br>diff=%{y}<extra></extra>\", \"legendgroup\": \"\\uc758\\ubcf5\", \"line\": {\"color\": \"#B6E880\", \"dash\": \"solid\"}, \"mode\": \"lines\", \"name\": \"\\uc758\\ubcf5\", \"orientation\": \"v\", \"showlegend\": true, \"type\": \"scatter\", \"x\": [5, 6, 7, 8, 9, 10, 11, 12, 13, 14, 15, 16, 17, 18, 19, 20, 21, 22], \"xaxis\": \"x\", \"y\": [-994601, -1142085, -1462411, -1629162, -3049545, -2334471, -2101441, -1568574, -1640743, -1790635, -1811214, -2064428, -1851705, -1716882, -1408013, -1189277, -213654, 1077649], \"yaxis\": \"y\"}, {\"hovertemplate\": \"MCT_CAT_CD=\\uc790\\ub3d9\\ucc28\\uc815\\ube44<br>week=%{x}<br>diff=%{y}<extra></extra>\", \"legendgroup\": \"\\uc790\\ub3d9\\ucc28\\uc815\\ube44\", \"line\": {\"color\": \"#FF97FF\", \"dash\": \"solid\"}, \"mode\": \"lines\", \"name\": \"\\uc790\\ub3d9\\ucc28\\uc815\\ube44\", \"orientation\": \"v\", \"showlegend\": true, \"type\": \"scatter\", \"x\": [5, 6, 7, 8, 9, 10, 11, 12, 13, 14, 15, 16, 17, 18, 19, 20, 21, 22], \"xaxis\": \"x\", \"y\": [-301370, 73932, -285289, -273322, -512962, -520091, -326507, -305644, -384286, -254318, -115069, -300640, -345639, -341029, -104872, -36203, 144907, 437119], \"yaxis\": \"y\"}, {\"hovertemplate\": \"MCT_CAT_CD=\\uc790\\ub3d9\\ucc28\\ud310\\ub9e4<br>week=%{x}<br>diff=%{y}<extra></extra>\", \"legendgroup\": \"\\uc790\\ub3d9\\ucc28\\ud310\\ub9e4\", \"line\": {\"color\": \"#FECB52\", \"dash\": \"solid\"}, \"mode\": \"lines\", \"name\": \"\\uc790\\ub3d9\\ucc28\\ud310\\ub9e4\", \"orientation\": \"v\", \"showlegend\": true, \"type\": \"scatter\", \"x\": [5, 6, 7, 8, 9, 10, 11, 12, 13, 14, 15, 16, 17, 18, 19, 20, 21, 22], \"xaxis\": \"x\", \"y\": [8790, 82552, 28153, -89026, 82691, 54736, 23935, -38909, -13124, 18331, 122507, -42832, 173825, 15919, -88367, 43258, 144841, 69302], \"yaxis\": \"y\"}, {\"hovertemplate\": \"MCT_CAT_CD=\\uc804\\uae30<br>week=%{x}<br>diff=%{y}<extra></extra>\", \"legendgroup\": \"\\uc804\\uae30\", \"line\": {\"color\": \"#636efa\", \"dash\": \"solid\"}, \"mode\": \"lines\", \"name\": \"\\uc804\\uae30\", \"orientation\": \"v\", \"showlegend\": true, \"type\": \"scatter\", \"x\": [5, 6, 7, 8, 9, 10, 11, 12, 13, 14, 15, 16, 17, 18, 19, 20, 21, 22], \"xaxis\": \"x\", \"y\": [-8303, 27984, -36164, 1667, 4630, 14284, 5324, -967, 9378, 1298, 25992, -9429, 14467, -6117, -7580, 18060, -11660, 11773], \"yaxis\": \"y\"}, {\"hovertemplate\": \"MCT_CAT_CD=\\uc8fc\\ubc29\\uc6a9\\uad6c<br>week=%{x}<br>diff=%{y}<extra></extra>\", \"legendgroup\": \"\\uc8fc\\ubc29\\uc6a9\\uad6c\", \"line\": {\"color\": \"#EF553B\", \"dash\": \"solid\"}, \"mode\": \"lines\", \"name\": \"\\uc8fc\\ubc29\\uc6a9\\uad6c\", \"orientation\": \"v\", \"showlegend\": true, \"type\": \"scatter\", \"x\": [5, 6, 7, 8, 9, 10, 11, 12, 13, 14, 15, 16, 17, 18, 19, 20, 21, 22], \"xaxis\": \"x\", \"y\": [-9664, 153928, 3568, -106308, -159847, -95209, -158744, -74448, -118667, -72794, -62053, -50946, -13921, -166216, -6937, -93507, 114129, 293885], \"yaxis\": \"y\"}, {\"hovertemplate\": \"MCT_CAT_CD=\\uc9c1\\ubb3c<br>week=%{x}<br>diff=%{y}<extra></extra>\", \"legendgroup\": \"\\uc9c1\\ubb3c\", \"line\": {\"color\": \"#00cc96\", \"dash\": \"solid\"}, \"mode\": \"lines\", \"name\": \"\\uc9c1\\ubb3c\", \"orientation\": \"v\", \"showlegend\": true, \"type\": \"scatter\", \"x\": [5, 6, 7, 8, 9, 10, 11, 12, 13, 14, 15, 16, 17, 18, 19, 20, 21, 22], \"xaxis\": \"x\", \"y\": [-38498, 181819, -98306, -47250, 70613, -197766, 28152, -98641, -226559, 24033, -220109, -60156, -17882, -121069, -17483, 151515, 133971, 248068], \"yaxis\": \"y\"}],\n",
       "                        {\"legend\": {\"title\": {\"text\": \"MCT_CAT_CD\"}, \"tracegroupgap\": 0}, \"margin\": {\"t\": 60}, \"template\": {\"data\": {\"bar\": [{\"error_x\": {\"color\": \"#2a3f5f\"}, \"error_y\": {\"color\": \"#2a3f5f\"}, \"marker\": {\"line\": {\"color\": \"#E5ECF6\", \"width\": 0.5}}, \"type\": \"bar\"}], \"barpolar\": [{\"marker\": {\"line\": {\"color\": \"#E5ECF6\", \"width\": 0.5}}, \"type\": \"barpolar\"}], \"carpet\": [{\"aaxis\": {\"endlinecolor\": \"#2a3f5f\", \"gridcolor\": \"white\", \"linecolor\": \"white\", \"minorgridcolor\": \"white\", \"startlinecolor\": \"#2a3f5f\"}, \"baxis\": {\"endlinecolor\": \"#2a3f5f\", \"gridcolor\": \"white\", \"linecolor\": \"white\", \"minorgridcolor\": \"white\", \"startlinecolor\": \"#2a3f5f\"}, \"type\": \"carpet\"}], \"choropleth\": [{\"colorbar\": {\"outlinewidth\": 0, \"ticks\": \"\"}, \"type\": \"choropleth\"}], \"contour\": [{\"colorbar\": {\"outlinewidth\": 0, \"ticks\": \"\"}, \"colorscale\": [[0.0, \"#0d0887\"], [0.1111111111111111, \"#46039f\"], [0.2222222222222222, \"#7201a8\"], [0.3333333333333333, \"#9c179e\"], [0.4444444444444444, \"#bd3786\"], [0.5555555555555556, \"#d8576b\"], [0.6666666666666666, \"#ed7953\"], [0.7777777777777778, \"#fb9f3a\"], [0.8888888888888888, \"#fdca26\"], [1.0, \"#f0f921\"]], \"type\": \"contour\"}], \"contourcarpet\": [{\"colorbar\": {\"outlinewidth\": 0, \"ticks\": \"\"}, \"type\": \"contourcarpet\"}], \"heatmap\": [{\"colorbar\": {\"outlinewidth\": 0, \"ticks\": \"\"}, \"colorscale\": [[0.0, \"#0d0887\"], [0.1111111111111111, \"#46039f\"], [0.2222222222222222, \"#7201a8\"], [0.3333333333333333, \"#9c179e\"], [0.4444444444444444, \"#bd3786\"], [0.5555555555555556, \"#d8576b\"], [0.6666666666666666, \"#ed7953\"], [0.7777777777777778, \"#fb9f3a\"], [0.8888888888888888, \"#fdca26\"], [1.0, \"#f0f921\"]], \"type\": \"heatmap\"}], \"heatmapgl\": [{\"colorbar\": {\"outlinewidth\": 0, \"ticks\": \"\"}, \"colorscale\": [[0.0, \"#0d0887\"], [0.1111111111111111, \"#46039f\"], [0.2222222222222222, \"#7201a8\"], [0.3333333333333333, \"#9c179e\"], [0.4444444444444444, \"#bd3786\"], [0.5555555555555556, \"#d8576b\"], [0.6666666666666666, \"#ed7953\"], [0.7777777777777778, \"#fb9f3a\"], [0.8888888888888888, \"#fdca26\"], [1.0, \"#f0f921\"]], \"type\": \"heatmapgl\"}], \"histogram\": [{\"marker\": {\"colorbar\": {\"outlinewidth\": 0, \"ticks\": \"\"}}, \"type\": \"histogram\"}], \"histogram2d\": [{\"colorbar\": {\"outlinewidth\": 0, \"ticks\": \"\"}, \"colorscale\": [[0.0, \"#0d0887\"], [0.1111111111111111, \"#46039f\"], [0.2222222222222222, \"#7201a8\"], [0.3333333333333333, \"#9c179e\"], [0.4444444444444444, \"#bd3786\"], [0.5555555555555556, \"#d8576b\"], [0.6666666666666666, \"#ed7953\"], [0.7777777777777778, \"#fb9f3a\"], [0.8888888888888888, \"#fdca26\"], [1.0, \"#f0f921\"]], \"type\": \"histogram2d\"}], \"histogram2dcontour\": [{\"colorbar\": {\"outlinewidth\": 0, \"ticks\": \"\"}, \"colorscale\": [[0.0, \"#0d0887\"], [0.1111111111111111, \"#46039f\"], [0.2222222222222222, \"#7201a8\"], [0.3333333333333333, \"#9c179e\"], [0.4444444444444444, \"#bd3786\"], [0.5555555555555556, \"#d8576b\"], [0.6666666666666666, \"#ed7953\"], [0.7777777777777778, \"#fb9f3a\"], [0.8888888888888888, \"#fdca26\"], [1.0, \"#f0f921\"]], \"type\": \"histogram2dcontour\"}], \"mesh3d\": [{\"colorbar\": {\"outlinewidth\": 0, \"ticks\": \"\"}, \"type\": \"mesh3d\"}], \"parcoords\": [{\"line\": {\"colorbar\": {\"outlinewidth\": 0, \"ticks\": \"\"}}, \"type\": \"parcoords\"}], \"pie\": [{\"automargin\": true, \"type\": \"pie\"}], \"scatter\": [{\"marker\": {\"colorbar\": {\"outlinewidth\": 0, \"ticks\": \"\"}}, \"type\": \"scatter\"}], \"scatter3d\": [{\"line\": {\"colorbar\": {\"outlinewidth\": 0, \"ticks\": \"\"}}, \"marker\": {\"colorbar\": {\"outlinewidth\": 0, \"ticks\": \"\"}}, \"type\": \"scatter3d\"}], \"scattercarpet\": [{\"marker\": {\"colorbar\": {\"outlinewidth\": 0, \"ticks\": \"\"}}, \"type\": \"scattercarpet\"}], \"scattergeo\": [{\"marker\": {\"colorbar\": {\"outlinewidth\": 0, \"ticks\": \"\"}}, \"type\": \"scattergeo\"}], \"scattergl\": [{\"marker\": {\"colorbar\": {\"outlinewidth\": 0, \"ticks\": \"\"}}, \"type\": \"scattergl\"}], \"scattermapbox\": [{\"marker\": {\"colorbar\": {\"outlinewidth\": 0, \"ticks\": \"\"}}, \"type\": \"scattermapbox\"}], \"scatterpolar\": [{\"marker\": {\"colorbar\": {\"outlinewidth\": 0, \"ticks\": \"\"}}, \"type\": \"scatterpolar\"}], \"scatterpolargl\": [{\"marker\": {\"colorbar\": {\"outlinewidth\": 0, \"ticks\": \"\"}}, \"type\": \"scatterpolargl\"}], \"scatterternary\": [{\"marker\": {\"colorbar\": {\"outlinewidth\": 0, \"ticks\": \"\"}}, \"type\": \"scatterternary\"}], \"surface\": [{\"colorbar\": {\"outlinewidth\": 0, \"ticks\": \"\"}, \"colorscale\": [[0.0, \"#0d0887\"], [0.1111111111111111, \"#46039f\"], [0.2222222222222222, \"#7201a8\"], [0.3333333333333333, \"#9c179e\"], [0.4444444444444444, \"#bd3786\"], [0.5555555555555556, \"#d8576b\"], [0.6666666666666666, \"#ed7953\"], [0.7777777777777778, \"#fb9f3a\"], [0.8888888888888888, \"#fdca26\"], [1.0, \"#f0f921\"]], \"type\": \"surface\"}], \"table\": [{\"cells\": {\"fill\": {\"color\": \"#EBF0F8\"}, \"line\": {\"color\": \"white\"}}, \"header\": {\"fill\": {\"color\": \"#C8D4E3\"}, \"line\": {\"color\": \"white\"}}, \"type\": \"table\"}]}, \"layout\": {\"annotationdefaults\": {\"arrowcolor\": \"#2a3f5f\", \"arrowhead\": 0, \"arrowwidth\": 1}, \"coloraxis\": {\"colorbar\": {\"outlinewidth\": 0, \"ticks\": \"\"}}, \"colorscale\": {\"diverging\": [[0, \"#8e0152\"], [0.1, \"#c51b7d\"], [0.2, \"#de77ae\"], [0.3, \"#f1b6da\"], [0.4, \"#fde0ef\"], [0.5, \"#f7f7f7\"], [0.6, \"#e6f5d0\"], [0.7, \"#b8e186\"], [0.8, \"#7fbc41\"], [0.9, \"#4d9221\"], [1, \"#276419\"]], \"sequential\": [[0.0, \"#0d0887\"], [0.1111111111111111, \"#46039f\"], [0.2222222222222222, \"#7201a8\"], [0.3333333333333333, \"#9c179e\"], [0.4444444444444444, \"#bd3786\"], [0.5555555555555556, \"#d8576b\"], [0.6666666666666666, \"#ed7953\"], [0.7777777777777778, \"#fb9f3a\"], [0.8888888888888888, \"#fdca26\"], [1.0, \"#f0f921\"]], \"sequentialminus\": [[0.0, \"#0d0887\"], [0.1111111111111111, \"#46039f\"], [0.2222222222222222, \"#7201a8\"], [0.3333333333333333, \"#9c179e\"], [0.4444444444444444, \"#bd3786\"], [0.5555555555555556, \"#d8576b\"], [0.6666666666666666, \"#ed7953\"], [0.7777777777777778, \"#fb9f3a\"], [0.8888888888888888, \"#fdca26\"], [1.0, \"#f0f921\"]]}, \"colorway\": [\"#636efa\", \"#EF553B\", \"#00cc96\", \"#ab63fa\", \"#FFA15A\", \"#19d3f3\", \"#FF6692\", \"#B6E880\", \"#FF97FF\", \"#FECB52\"], \"font\": {\"color\": \"#2a3f5f\"}, \"geo\": {\"bgcolor\": \"white\", \"lakecolor\": \"white\", \"landcolor\": \"#E5ECF6\", \"showlakes\": true, \"showland\": true, \"subunitcolor\": \"white\"}, \"hoverlabel\": {\"align\": \"left\"}, \"hovermode\": \"closest\", \"mapbox\": {\"style\": \"light\"}, \"paper_bgcolor\": \"white\", \"plot_bgcolor\": \"#E5ECF6\", \"polar\": {\"angularaxis\": {\"gridcolor\": \"white\", \"linecolor\": \"white\", \"ticks\": \"\"}, \"bgcolor\": \"#E5ECF6\", \"radialaxis\": {\"gridcolor\": \"white\", \"linecolor\": \"white\", \"ticks\": \"\"}}, \"scene\": {\"xaxis\": {\"backgroundcolor\": \"#E5ECF6\", \"gridcolor\": \"white\", \"gridwidth\": 2, \"linecolor\": \"white\", \"showbackground\": true, \"ticks\": \"\", \"zerolinecolor\": \"white\"}, \"yaxis\": {\"backgroundcolor\": \"#E5ECF6\", \"gridcolor\": \"white\", \"gridwidth\": 2, \"linecolor\": \"white\", \"showbackground\": true, \"ticks\": \"\", \"zerolinecolor\": \"white\"}, \"zaxis\": {\"backgroundcolor\": \"#E5ECF6\", \"gridcolor\": \"white\", \"gridwidth\": 2, \"linecolor\": \"white\", \"showbackground\": true, \"ticks\": \"\", \"zerolinecolor\": \"white\"}}, \"shapedefaults\": {\"line\": {\"color\": \"#2a3f5f\"}}, \"ternary\": {\"aaxis\": {\"gridcolor\": \"white\", \"linecolor\": \"white\", \"ticks\": \"\"}, \"baxis\": {\"gridcolor\": \"white\", \"linecolor\": \"white\", \"ticks\": \"\"}, \"bgcolor\": \"#E5ECF6\", \"caxis\": {\"gridcolor\": \"white\", \"linecolor\": \"white\", \"ticks\": \"\"}}, \"title\": {\"x\": 0.05}, \"xaxis\": {\"automargin\": true, \"gridcolor\": \"white\", \"linecolor\": \"white\", \"ticks\": \"\", \"title\": {\"standoff\": 15}, \"zerolinecolor\": \"white\", \"zerolinewidth\": 2}, \"yaxis\": {\"automargin\": true, \"gridcolor\": \"white\", \"linecolor\": \"white\", \"ticks\": \"\", \"title\": {\"standoff\": 15}, \"zerolinecolor\": \"white\", \"zerolinewidth\": 2}}}, \"xaxis\": {\"anchor\": \"y\", \"domain\": [0.0, 1.0], \"tickmode\": \"array\", \"ticktext\": [\"12/23\", \"12/30\", \"1/6\", \"1/13\", \"1/20\", \"1/27\", \"2/3\", \"2/10\", \"2/17\", \"2/24\", \"3/2\", \"3/9\", \"3/16\", \"3/23\", \"3/30\", \"4/6\", \"4/13\", \"4/20\", \"4/27\", \"5/4\", \"5/11\", \"5/18\", \"5/25\", \"6/1\", \"6/8\", \"6/15\", \"6/22\", \"6/29\", \"7/6\", \"7/13\", \"7/20\", \"7/27\", \"8/3\", \"8/10\", \"8/17\", \"8/24\", \"8/31\", \"9/7\", \"9/14\", \"9/21\", \"9/28\", \"10/5\", \"10/12\", \"10/19\", \"10/26\", \"11/2\", \"11/9\", \"11/16\", \"11/23\", \"11/30\", \"12/7\", \"12/14\"], \"tickvals\": [0, 1, 2, 3, 4, 5, 6, 7, 8, 9, 10, 11, 12, 13, 14, 15, 16, 17, 18, 19, 20, 21, 22, 23, 24, 25, 26, 27, 28, 29, 30, 31, 32, 33, 34, 35, 36, 37, 38, 39, 40, 41, 42, 43, 44, 45, 46, 47, 48, 49, 50, 51], \"title\": {\"text\": \"week\"}}, \"yaxis\": {\"anchor\": \"x\", \"domain\": [0.0, 1.0], \"title\": {\"text\": \"diff\"}}},\n",
       "                        {\"responsive\": true}\n",
       "                    ).then(function(){\n",
       "                            \n",
       "var gd = document.getElementById('5c299aef-c2b2-423c-bd3b-4486c38ee108');\n",
       "var x = new MutationObserver(function (mutations, observer) {{\n",
       "        var display = window.getComputedStyle(gd).display;\n",
       "        if (!display || display === 'none') {{\n",
       "            console.log([gd, 'removed!']);\n",
       "            Plotly.purge(gd);\n",
       "            observer.disconnect();\n",
       "        }}\n",
       "}});\n",
       "\n",
       "// Listen for the removal of the full notebook cells\n",
       "var notebookContainer = gd.closest('#notebook-container');\n",
       "if (notebookContainer) {{\n",
       "    x.observe(notebookContainer, {childList: true});\n",
       "}}\n",
       "\n",
       "// Listen for the clearing of the current output cell\n",
       "var outputEl = gd.closest('.output');\n",
       "if (outputEl) {{\n",
       "    x.observe(outputEl, {childList: true});\n",
       "}}\n",
       "\n",
       "                        })\n",
       "                };\n",
       "                });\n",
       "            </script>\n",
       "        </div>"
      ]
     },
     "metadata": {},
     "output_type": "display_data"
    }
   ],
   "source": [
    "fig = px.line(seoul_total_diff2, x=\"week\", y=\"diff\", color='MCT_CAT_CD')\n",
    "\n",
    "fig.update_layout(xaxis=dict(tickmode='array', tickvals=np.arange(0, len(test2)), ticktext=test2))\n",
    "fig.show()"
   ]
  },
  {
   "cell_type": "code",
   "execution_count": 29,
   "metadata": {},
   "outputs": [
    {
     "data": {
      "application/vnd.plotly.v1+json": {
       "config": {
        "plotlyServerURL": "https://plot.ly"
       },
       "data": [
        {
         "hovertemplate": "MCT_CAT_CD=가구<br>week=%{x}<br>diff=%{y}<extra></extra>",
         "legendgroup": "가구",
         "line": {
          "color": "#636efa",
          "dash": "solid"
         },
         "mode": "lines",
         "name": "가구",
         "orientation": "v",
         "showlegend": true,
         "type": "scatter",
         "x": [
          5,
          6,
          7,
          8,
          9,
          10,
          11,
          12,
          13,
          14,
          15,
          16,
          17,
          18,
          19,
          20,
          21,
          22
         ],
         "xaxis": "x",
         "y": [
          38804,
          74850,
          90530,
          -69128,
          -134735,
          -79736,
          -149519,
          -81859,
          -17530,
          29293,
          -38405,
          36900,
          214308,
          90774,
          22951,
          141984,
          18020,
          225964
         ],
         "yaxis": "y"
        },
        {
         "hovertemplate": "MCT_CAT_CD=가전<br>week=%{x}<br>diff=%{y}<extra></extra>",
         "legendgroup": "가전",
         "line": {
          "color": "#EF553B",
          "dash": "solid"
         },
         "mode": "lines",
         "name": "가전",
         "orientation": "v",
         "showlegend": true,
         "type": "scatter",
         "x": [
          5,
          6,
          7,
          8,
          9,
          10,
          11,
          12,
          13,
          14,
          15,
          16,
          17,
          18,
          19,
          20,
          21,
          22
         ],
         "xaxis": "x",
         "y": [
          -229385,
          -153806,
          -227815,
          -241938,
          -290181,
          -417006,
          -238773,
          -92582,
          -105888,
          -121577,
          -214425,
          -143661,
          -24205,
          146155,
          -54072,
          -54296,
          7964,
          53339
         ],
         "yaxis": "y"
        },
        {
         "hovertemplate": "MCT_CAT_CD=광학제품<br>week=%{x}<br>diff=%{y}<extra></extra>",
         "legendgroup": "광학제품",
         "line": {
          "color": "#00cc96",
          "dash": "solid"
         },
         "mode": "lines",
         "name": "광학제품",
         "orientation": "v",
         "showlegend": true,
         "type": "scatter",
         "x": [
          5,
          6,
          7,
          8,
          9,
          10,
          11,
          12,
          13,
          14,
          15,
          16,
          17,
          18,
          19,
          20,
          21,
          22
         ],
         "xaxis": "x",
         "y": [
          14191,
          -64254,
          -51919,
          -65383,
          -152572,
          -169267,
          -131898,
          -78215,
          -106304,
          -63520,
          -44912,
          -14678,
          -14878,
          -57925,
          -44343,
          2473,
          -21398,
          52326
         ],
         "yaxis": "y"
        },
        {
         "hovertemplate": "MCT_CAT_CD=레저업소<br>week=%{x}<br>diff=%{y}<extra></extra>",
         "legendgroup": "레저업소",
         "line": {
          "color": "#ab63fa",
          "dash": "solid"
         },
         "mode": "lines",
         "name": "레저업소",
         "orientation": "v",
         "showlegend": true,
         "type": "scatter",
         "x": [
          5,
          6,
          7,
          8,
          9,
          10,
          11,
          12,
          13,
          14,
          15,
          16,
          17,
          18,
          19,
          20,
          21,
          22
         ],
         "xaxis": "x",
         "y": [
          -156988,
          204488,
          -65415,
          -468171,
          -997057,
          -919544,
          -738069,
          -561318,
          -817577,
          -771985,
          -602077,
          -619872,
          -465978,
          -583454,
          -127168,
          -16823,
          -165495,
          222107
         ],
         "yaxis": "y"
        },
        {
         "hovertemplate": "MCT_CAT_CD=레저용품<br>week=%{x}<br>diff=%{y}<extra></extra>",
         "legendgroup": "레저용품",
         "line": {
          "color": "#FFA15A",
          "dash": "solid"
         },
         "mode": "lines",
         "name": "레저용품",
         "orientation": "v",
         "showlegend": true,
         "type": "scatter",
         "x": [
          5,
          6,
          7,
          8,
          9,
          10,
          11,
          12,
          13,
          14,
          15,
          16,
          17,
          18,
          19,
          20,
          21,
          22
         ],
         "xaxis": "x",
         "y": [
          -320717,
          -409102,
          17570,
          -684727,
          -1227516,
          -907616,
          -610305,
          -674463,
          -615417,
          -486721,
          -566120,
          -487038,
          -588265,
          -425684,
          -388541,
          320812,
          227632,
          780925
         ],
         "yaxis": "y"
        },
        {
         "hovertemplate": "MCT_CAT_CD=문화취미<br>week=%{x}<br>diff=%{y}<extra></extra>",
         "legendgroup": "문화취미",
         "line": {
          "color": "#19d3f3",
          "dash": "solid"
         },
         "mode": "lines",
         "name": "문화취미",
         "orientation": "v",
         "showlegend": true,
         "type": "scatter",
         "x": [
          5,
          6,
          7,
          8,
          9,
          10,
          11,
          12,
          13,
          14,
          15,
          16,
          17,
          18,
          19,
          20,
          21,
          22
         ],
         "xaxis": "x",
         "y": [
          -258025,
          -241403,
          -259890,
          -418748,
          -618689,
          -577508,
          -509444,
          -313521,
          -353370,
          -344475,
          -400971,
          -414137,
          -504362,
          -489397,
          -344357,
          -280995,
          -370005,
          -150522
         ],
         "yaxis": "y"
        },
        {
         "hovertemplate": "MCT_CAT_CD=보건위생<br>week=%{x}<br>diff=%{y}<extra></extra>",
         "legendgroup": "보건위생",
         "line": {
          "color": "#FF6692",
          "dash": "solid"
         },
         "mode": "lines",
         "name": "보건위생",
         "orientation": "v",
         "showlegend": true,
         "type": "scatter",
         "x": [
          5,
          6,
          7,
          8,
          9,
          10,
          11,
          12,
          13,
          14,
          15,
          16,
          17,
          18,
          19,
          20,
          21,
          22
         ],
         "xaxis": "x",
         "y": [
          -517481,
          76514,
          -282542,
          -1160320,
          -1850803,
          -1239675,
          -1051160,
          -784891,
          -958154,
          -777439,
          -875831,
          -639988,
          -646759,
          -573670,
          -667204,
          -87209,
          136146,
          460176
         ],
         "yaxis": "y"
        },
        {
         "hovertemplate": "MCT_CAT_CD=사무통신<br>week=%{x}<br>diff=%{y}<extra></extra>",
         "legendgroup": "사무통신",
         "line": {
          "color": "#B6E880",
          "dash": "solid"
         },
         "mode": "lines",
         "name": "사무통신",
         "orientation": "v",
         "showlegend": true,
         "type": "scatter",
         "x": [
          5,
          6,
          7,
          8,
          9,
          10,
          11,
          12,
          13,
          14,
          15,
          16,
          17,
          18,
          19,
          20,
          21,
          22
         ],
         "xaxis": "x",
         "y": [
          -807821,
          -164405,
          -24676,
          -1359850,
          -2273872,
          -2034483,
          -1923686,
          -1750867,
          -1767024,
          -1640148,
          -1523863,
          -1345664,
          -1353056,
          -1123623,
          -928544,
          -761307,
          -689948,
          345428
         ],
         "yaxis": "y"
        },
        {
         "hovertemplate": "MCT_CAT_CD=서적문구<br>week=%{x}<br>diff=%{y}<extra></extra>",
         "legendgroup": "서적문구",
         "line": {
          "color": "#FF97FF",
          "dash": "solid"
         },
         "mode": "lines",
         "name": "서적문구",
         "orientation": "v",
         "showlegend": true,
         "type": "scatter",
         "x": [
          5,
          6,
          7,
          8,
          9,
          10,
          11,
          12,
          13,
          14,
          15,
          16,
          17,
          18,
          19,
          20,
          21,
          22
         ],
         "xaxis": "x",
         "y": [
          -146785,
          24552,
          -151334,
          -255879,
          -352662,
          -851644,
          -477232,
          -310525,
          -273003,
          -156257,
          -164367,
          -63460,
          -92531,
          -97740,
          -57491,
          8969,
          28789,
          223648
         ],
         "yaxis": "y"
        },
        {
         "hovertemplate": "MCT_CAT_CD=수리서비스<br>week=%{x}<br>diff=%{y}<extra></extra>",
         "legendgroup": "수리서비스",
         "line": {
          "color": "#FECB52",
          "dash": "solid"
         },
         "mode": "lines",
         "name": "수리서비스",
         "orientation": "v",
         "showlegend": true,
         "type": "scatter",
         "x": [
          5,
          6,
          7,
          8,
          9,
          10,
          11,
          12,
          13,
          14,
          15,
          16,
          17,
          18,
          19,
          20,
          21,
          22
         ],
         "xaxis": "x",
         "y": [
          -38639,
          50272,
          45588,
          -55447,
          -75532,
          -169284,
          -9653,
          -38985,
          20442,
          1912,
          13583,
          -40515,
          -52077,
          -48162,
          -20842,
          22687,
          31337,
          -1099
         ],
         "yaxis": "y"
        },
        {
         "hovertemplate": "MCT_CAT_CD=숙박<br>week=%{x}<br>diff=%{y}<extra></extra>",
         "legendgroup": "숙박",
         "line": {
          "color": "#636efa",
          "dash": "solid"
         },
         "mode": "lines",
         "name": "숙박",
         "orientation": "v",
         "showlegend": true,
         "type": "scatter",
         "x": [
          5,
          6,
          7,
          8,
          9,
          10,
          11,
          12,
          13,
          14,
          15,
          16,
          17,
          18,
          19,
          20,
          21,
          22
         ],
         "xaxis": "x",
         "y": [
          228099,
          290344,
          -121658,
          -419879,
          -892866,
          -534575,
          -333494,
          -168431,
          -376854,
          -436612,
          -542639,
          -444822,
          -640069,
          -95174,
          -376361,
          -45165,
          -181178,
          177106
         ],
         "yaxis": "y"
        },
        {
         "hovertemplate": "MCT_CAT_CD=신변잡화<br>week=%{x}<br>diff=%{y}<extra></extra>",
         "legendgroup": "신변잡화",
         "line": {
          "color": "#EF553B",
          "dash": "solid"
         },
         "mode": "lines",
         "name": "신변잡화",
         "orientation": "v",
         "showlegend": true,
         "type": "scatter",
         "x": [
          5,
          6,
          7,
          8,
          9,
          10,
          11,
          12,
          13,
          14,
          15,
          16,
          17,
          18,
          19,
          20,
          21,
          22
         ],
         "xaxis": "x",
         "y": [
          -102566,
          -74431,
          96412,
          -753634,
          -586500,
          -439833,
          -564148,
          -407457,
          -385205,
          -332969,
          -219900,
          -402711,
          -381380,
          -337634,
          -179656,
          -86109,
          -64959,
          69096
         ],
         "yaxis": "y"
        },
        {
         "hovertemplate": "MCT_CAT_CD=연료판매<br>week=%{x}<br>diff=%{y}<extra></extra>",
         "legendgroup": "연료판매",
         "line": {
          "color": "#00cc96",
          "dash": "solid"
         },
         "mode": "lines",
         "name": "연료판매",
         "orientation": "v",
         "showlegend": true,
         "type": "scatter",
         "x": [
          5,
          6,
          7,
          8,
          9,
          10,
          11,
          12,
          13,
          14,
          15,
          16,
          17,
          18,
          19,
          20,
          21,
          22
         ],
         "xaxis": "x",
         "y": [
          -1112737,
          -75220,
          -726723,
          -1520453,
          -2357647,
          -1774220,
          -1901624,
          -1670009,
          -1668484,
          -1304077,
          -1683456,
          -1961521,
          -1422930,
          -2035342,
          -1779841,
          -1383309,
          -1686203,
          -147338
         ],
         "yaxis": "y"
        },
        {
         "hovertemplate": "MCT_CAT_CD=요식업소<br>week=%{x}<br>diff=%{y}<extra></extra>",
         "legendgroup": "요식업소",
         "line": {
          "color": "#ab63fa",
          "dash": "solid"
         },
         "mode": "lines",
         "name": "요식업소",
         "orientation": "v",
         "showlegend": true,
         "type": "scatter",
         "x": [
          5,
          6,
          7,
          8,
          9,
          10,
          11,
          12,
          13,
          14,
          15,
          16,
          17,
          18,
          19,
          20,
          21,
          22
         ],
         "xaxis": "x",
         "y": [
          -4378957,
          -1801534,
          -198440,
          -8684916,
          -12874521,
          -9787905,
          -8955529,
          -7778253,
          -8024649,
          -6993854,
          -6676594,
          -5421725,
          -5474836,
          -5517622,
          -4011384,
          -1899633,
          -1234981,
          4118978
         ],
         "yaxis": "y"
        },
        {
         "hovertemplate": "MCT_CAT_CD=유통업<br>week=%{x}<br>diff=%{y}<extra></extra>",
         "legendgroup": "유통업",
         "line": {
          "color": "#FFA15A",
          "dash": "solid"
         },
         "mode": "lines",
         "name": "유통업",
         "orientation": "v",
         "showlegend": true,
         "type": "scatter",
         "x": [
          5,
          6,
          7,
          8,
          9,
          10,
          11,
          12,
          13,
          14,
          15,
          16,
          17,
          18,
          19,
          20,
          21,
          22
         ],
         "xaxis": "x",
         "y": [
          -5900638,
          -367675,
          -546799,
          -1785707,
          -6162885,
          -5341188,
          -4925367,
          -4241518,
          -3270435,
          -3518722,
          -3202768,
          -3923916,
          -3255842,
          -2355148,
          -1434050,
          -2096776,
          -1369008,
          5272586
         ],
         "yaxis": "y"
        },
        {
         "hovertemplate": "MCT_CAT_CD=음료식품<br>week=%{x}<br>diff=%{y}<extra></extra>",
         "legendgroup": "음료식품",
         "line": {
          "color": "#19d3f3",
          "dash": "solid"
         },
         "mode": "lines",
         "name": "음료식품",
         "orientation": "v",
         "showlegend": true,
         "type": "scatter",
         "x": [
          5,
          6,
          7,
          8,
          9,
          10,
          11,
          12,
          13,
          14,
          15,
          16,
          17,
          18,
          19,
          20,
          21,
          22
         ],
         "xaxis": "x",
         "y": [
          -1650496,
          130141,
          137145,
          280500,
          181347,
          18933,
          -21094,
          55175,
          -25119,
          -69683,
          -107270,
          17255,
          -136020,
          -363901,
          -33713,
          337254,
          1002295,
          997277
         ],
         "yaxis": "y"
        },
        {
         "hovertemplate": "MCT_CAT_CD=의료기관<br>week=%{x}<br>diff=%{y}<extra></extra>",
         "legendgroup": "의료기관",
         "line": {
          "color": "#FF6692",
          "dash": "solid"
         },
         "mode": "lines",
         "name": "의료기관",
         "orientation": "v",
         "showlegend": true,
         "type": "scatter",
         "x": [
          5,
          6,
          7,
          8,
          9,
          10,
          11,
          12,
          13,
          14,
          15,
          16,
          17,
          18,
          19,
          20,
          21,
          22
         ],
         "xaxis": "x",
         "y": [
          -3364017,
          5961031,
          1620709,
          -1404485,
          -5480557,
          -6709125,
          -5702996,
          -4209914,
          -4121131,
          -3937543,
          -3651666,
          -2556709,
          -2760013,
          -1885429,
          -396145,
          -324419,
          157067,
          4041203
         ],
         "yaxis": "y"
        },
        {
         "hovertemplate": "MCT_CAT_CD=의복<br>week=%{x}<br>diff=%{y}<extra></extra>",
         "legendgroup": "의복",
         "line": {
          "color": "#B6E880",
          "dash": "solid"
         },
         "mode": "lines",
         "name": "의복",
         "orientation": "v",
         "showlegend": true,
         "type": "scatter",
         "x": [
          5,
          6,
          7,
          8,
          9,
          10,
          11,
          12,
          13,
          14,
          15,
          16,
          17,
          18,
          19,
          20,
          21,
          22
         ],
         "xaxis": "x",
         "y": [
          -667576,
          -581108,
          -115721,
          -1681757,
          -2721738,
          -2182220,
          -1975775,
          -2029709,
          -1669877,
          -1434293,
          -1588178,
          -1300956,
          -1161589,
          -1425815,
          -1218755,
          -54036,
          277256,
          1012031
         ],
         "yaxis": "y"
        },
        {
         "hovertemplate": "MCT_CAT_CD=자동차정비<br>week=%{x}<br>diff=%{y}<extra></extra>",
         "legendgroup": "자동차정비",
         "line": {
          "color": "#FF97FF",
          "dash": "solid"
         },
         "mode": "lines",
         "name": "자동차정비",
         "orientation": "v",
         "showlegend": true,
         "type": "scatter",
         "x": [
          5,
          6,
          7,
          8,
          9,
          10,
          11,
          12,
          13,
          14,
          15,
          16,
          17,
          18,
          19,
          20,
          21,
          22
         ],
         "xaxis": "x",
         "y": [
          -398700,
          364753,
          -170250,
          -343226,
          -219630,
          -320432,
          -268571,
          -374290,
          15641,
          -377476,
          -252954,
          -336021,
          -130860,
          -186697,
          -104104,
          -121923,
          104497,
          368544
         ],
         "yaxis": "y"
        },
        {
         "hovertemplate": "MCT_CAT_CD=자동차판매<br>week=%{x}<br>diff=%{y}<extra></extra>",
         "legendgroup": "자동차판매",
         "line": {
          "color": "#FECB52",
          "dash": "solid"
         },
         "mode": "lines",
         "name": "자동차판매",
         "orientation": "v",
         "showlegend": true,
         "type": "scatter",
         "x": [
          5,
          6,
          7,
          8,
          9,
          10,
          11,
          12,
          13,
          14,
          15,
          16,
          17,
          18,
          19,
          20,
          21,
          22
         ],
         "xaxis": "x",
         "y": [
          -35893,
          56565,
          66779,
          -121982,
          -650094,
          -271496,
          -37711,
          -311138,
          -206248,
          -215688,
          -253254,
          -283639,
          5424,
          -122476,
          -165116,
          307033,
          -95818,
          53218
         ],
         "yaxis": "y"
        },
        {
         "hovertemplate": "MCT_CAT_CD=전기<br>week=%{x}<br>diff=%{y}<extra></extra>",
         "legendgroup": "전기",
         "line": {
          "color": "#636efa",
          "dash": "solid"
         },
         "mode": "lines",
         "name": "전기",
         "orientation": "v",
         "showlegend": true,
         "type": "scatter",
         "x": [
          5,
          6,
          7,
          8,
          9,
          10,
          11,
          12,
          13,
          14,
          15,
          16,
          17,
          18,
          19,
          20,
          21,
          22
         ],
         "xaxis": "x",
         "y": [
          -10921,
          -6743,
          -3101,
          -10669,
          4943,
          6932,
          13847,
          -37183,
          -7161,
          11565,
          -25906,
          8453,
          630,
          20116,
          -5120,
          8644,
          3528,
          12406
         ],
         "yaxis": "y"
        },
        {
         "hovertemplate": "MCT_CAT_CD=주방용구<br>week=%{x}<br>diff=%{y}<extra></extra>",
         "legendgroup": "주방용구",
         "line": {
          "color": "#EF553B",
          "dash": "solid"
         },
         "mode": "lines",
         "name": "주방용구",
         "orientation": "v",
         "showlegend": true,
         "type": "scatter",
         "x": [
          5,
          6,
          7,
          8,
          9,
          10,
          11,
          12,
          13,
          14,
          15,
          16,
          17,
          18,
          19,
          20,
          21,
          22
         ],
         "xaxis": "x",
         "y": [
          -72928,
          -17223,
          -22477,
          -79229,
          -74775,
          -114053,
          -11252,
          -40760,
          -53953,
          -50151,
          -47237,
          -11386,
          -29577,
          -28818,
          -35379,
          32253,
          70806,
          111791
         ],
         "yaxis": "y"
        },
        {
         "hovertemplate": "MCT_CAT_CD=직물<br>week=%{x}<br>diff=%{y}<extra></extra>",
         "legendgroup": "직물",
         "line": {
          "color": "#00cc96",
          "dash": "solid"
         },
         "mode": "lines",
         "name": "직물",
         "orientation": "v",
         "showlegend": true,
         "type": "scatter",
         "x": [
          5,
          6,
          7,
          8,
          9,
          10,
          11,
          12,
          13,
          14,
          15,
          16,
          17,
          18,
          19,
          20,
          21,
          22
         ],
         "xaxis": "x",
         "y": [
          -45275,
          920,
          -29996,
          -102789,
          -150542,
          -131670,
          -126408,
          -97435,
          -99386,
          -102111,
          -100982,
          11602,
          -55629,
          -87302,
          -51770,
          138981,
          240329,
          144302
         ],
         "yaxis": "y"
        }
       ],
       "layout": {
        "legend": {
         "title": {
          "text": "MCT_CAT_CD"
         },
         "tracegroupgap": 0
        },
        "margin": {
         "t": 60
        },
        "template": {
         "data": {
          "bar": [
           {
            "error_x": {
             "color": "#2a3f5f"
            },
            "error_y": {
             "color": "#2a3f5f"
            },
            "marker": {
             "line": {
              "color": "#E5ECF6",
              "width": 0.5
             }
            },
            "type": "bar"
           }
          ],
          "barpolar": [
           {
            "marker": {
             "line": {
              "color": "#E5ECF6",
              "width": 0.5
             }
            },
            "type": "barpolar"
           }
          ],
          "carpet": [
           {
            "aaxis": {
             "endlinecolor": "#2a3f5f",
             "gridcolor": "white",
             "linecolor": "white",
             "minorgridcolor": "white",
             "startlinecolor": "#2a3f5f"
            },
            "baxis": {
             "endlinecolor": "#2a3f5f",
             "gridcolor": "white",
             "linecolor": "white",
             "minorgridcolor": "white",
             "startlinecolor": "#2a3f5f"
            },
            "type": "carpet"
           }
          ],
          "choropleth": [
           {
            "colorbar": {
             "outlinewidth": 0,
             "ticks": ""
            },
            "type": "choropleth"
           }
          ],
          "contour": [
           {
            "colorbar": {
             "outlinewidth": 0,
             "ticks": ""
            },
            "colorscale": [
             [
              0,
              "#0d0887"
             ],
             [
              0.1111111111111111,
              "#46039f"
             ],
             [
              0.2222222222222222,
              "#7201a8"
             ],
             [
              0.3333333333333333,
              "#9c179e"
             ],
             [
              0.4444444444444444,
              "#bd3786"
             ],
             [
              0.5555555555555556,
              "#d8576b"
             ],
             [
              0.6666666666666666,
              "#ed7953"
             ],
             [
              0.7777777777777778,
              "#fb9f3a"
             ],
             [
              0.8888888888888888,
              "#fdca26"
             ],
             [
              1,
              "#f0f921"
             ]
            ],
            "type": "contour"
           }
          ],
          "contourcarpet": [
           {
            "colorbar": {
             "outlinewidth": 0,
             "ticks": ""
            },
            "type": "contourcarpet"
           }
          ],
          "heatmap": [
           {
            "colorbar": {
             "outlinewidth": 0,
             "ticks": ""
            },
            "colorscale": [
             [
              0,
              "#0d0887"
             ],
             [
              0.1111111111111111,
              "#46039f"
             ],
             [
              0.2222222222222222,
              "#7201a8"
             ],
             [
              0.3333333333333333,
              "#9c179e"
             ],
             [
              0.4444444444444444,
              "#bd3786"
             ],
             [
              0.5555555555555556,
              "#d8576b"
             ],
             [
              0.6666666666666666,
              "#ed7953"
             ],
             [
              0.7777777777777778,
              "#fb9f3a"
             ],
             [
              0.8888888888888888,
              "#fdca26"
             ],
             [
              1,
              "#f0f921"
             ]
            ],
            "type": "heatmap"
           }
          ],
          "heatmapgl": [
           {
            "colorbar": {
             "outlinewidth": 0,
             "ticks": ""
            },
            "colorscale": [
             [
              0,
              "#0d0887"
             ],
             [
              0.1111111111111111,
              "#46039f"
             ],
             [
              0.2222222222222222,
              "#7201a8"
             ],
             [
              0.3333333333333333,
              "#9c179e"
             ],
             [
              0.4444444444444444,
              "#bd3786"
             ],
             [
              0.5555555555555556,
              "#d8576b"
             ],
             [
              0.6666666666666666,
              "#ed7953"
             ],
             [
              0.7777777777777778,
              "#fb9f3a"
             ],
             [
              0.8888888888888888,
              "#fdca26"
             ],
             [
              1,
              "#f0f921"
             ]
            ],
            "type": "heatmapgl"
           }
          ],
          "histogram": [
           {
            "marker": {
             "colorbar": {
              "outlinewidth": 0,
              "ticks": ""
             }
            },
            "type": "histogram"
           }
          ],
          "histogram2d": [
           {
            "colorbar": {
             "outlinewidth": 0,
             "ticks": ""
            },
            "colorscale": [
             [
              0,
              "#0d0887"
             ],
             [
              0.1111111111111111,
              "#46039f"
             ],
             [
              0.2222222222222222,
              "#7201a8"
             ],
             [
              0.3333333333333333,
              "#9c179e"
             ],
             [
              0.4444444444444444,
              "#bd3786"
             ],
             [
              0.5555555555555556,
              "#d8576b"
             ],
             [
              0.6666666666666666,
              "#ed7953"
             ],
             [
              0.7777777777777778,
              "#fb9f3a"
             ],
             [
              0.8888888888888888,
              "#fdca26"
             ],
             [
              1,
              "#f0f921"
             ]
            ],
            "type": "histogram2d"
           }
          ],
          "histogram2dcontour": [
           {
            "colorbar": {
             "outlinewidth": 0,
             "ticks": ""
            },
            "colorscale": [
             [
              0,
              "#0d0887"
             ],
             [
              0.1111111111111111,
              "#46039f"
             ],
             [
              0.2222222222222222,
              "#7201a8"
             ],
             [
              0.3333333333333333,
              "#9c179e"
             ],
             [
              0.4444444444444444,
              "#bd3786"
             ],
             [
              0.5555555555555556,
              "#d8576b"
             ],
             [
              0.6666666666666666,
              "#ed7953"
             ],
             [
              0.7777777777777778,
              "#fb9f3a"
             ],
             [
              0.8888888888888888,
              "#fdca26"
             ],
             [
              1,
              "#f0f921"
             ]
            ],
            "type": "histogram2dcontour"
           }
          ],
          "mesh3d": [
           {
            "colorbar": {
             "outlinewidth": 0,
             "ticks": ""
            },
            "type": "mesh3d"
           }
          ],
          "parcoords": [
           {
            "line": {
             "colorbar": {
              "outlinewidth": 0,
              "ticks": ""
             }
            },
            "type": "parcoords"
           }
          ],
          "pie": [
           {
            "automargin": true,
            "type": "pie"
           }
          ],
          "scatter": [
           {
            "marker": {
             "colorbar": {
              "outlinewidth": 0,
              "ticks": ""
             }
            },
            "type": "scatter"
           }
          ],
          "scatter3d": [
           {
            "line": {
             "colorbar": {
              "outlinewidth": 0,
              "ticks": ""
             }
            },
            "marker": {
             "colorbar": {
              "outlinewidth": 0,
              "ticks": ""
             }
            },
            "type": "scatter3d"
           }
          ],
          "scattercarpet": [
           {
            "marker": {
             "colorbar": {
              "outlinewidth": 0,
              "ticks": ""
             }
            },
            "type": "scattercarpet"
           }
          ],
          "scattergeo": [
           {
            "marker": {
             "colorbar": {
              "outlinewidth": 0,
              "ticks": ""
             }
            },
            "type": "scattergeo"
           }
          ],
          "scattergl": [
           {
            "marker": {
             "colorbar": {
              "outlinewidth": 0,
              "ticks": ""
             }
            },
            "type": "scattergl"
           }
          ],
          "scattermapbox": [
           {
            "marker": {
             "colorbar": {
              "outlinewidth": 0,
              "ticks": ""
             }
            },
            "type": "scattermapbox"
           }
          ],
          "scatterpolar": [
           {
            "marker": {
             "colorbar": {
              "outlinewidth": 0,
              "ticks": ""
             }
            },
            "type": "scatterpolar"
           }
          ],
          "scatterpolargl": [
           {
            "marker": {
             "colorbar": {
              "outlinewidth": 0,
              "ticks": ""
             }
            },
            "type": "scatterpolargl"
           }
          ],
          "scatterternary": [
           {
            "marker": {
             "colorbar": {
              "outlinewidth": 0,
              "ticks": ""
             }
            },
            "type": "scatterternary"
           }
          ],
          "surface": [
           {
            "colorbar": {
             "outlinewidth": 0,
             "ticks": ""
            },
            "colorscale": [
             [
              0,
              "#0d0887"
             ],
             [
              0.1111111111111111,
              "#46039f"
             ],
             [
              0.2222222222222222,
              "#7201a8"
             ],
             [
              0.3333333333333333,
              "#9c179e"
             ],
             [
              0.4444444444444444,
              "#bd3786"
             ],
             [
              0.5555555555555556,
              "#d8576b"
             ],
             [
              0.6666666666666666,
              "#ed7953"
             ],
             [
              0.7777777777777778,
              "#fb9f3a"
             ],
             [
              0.8888888888888888,
              "#fdca26"
             ],
             [
              1,
              "#f0f921"
             ]
            ],
            "type": "surface"
           }
          ],
          "table": [
           {
            "cells": {
             "fill": {
              "color": "#EBF0F8"
             },
             "line": {
              "color": "white"
             }
            },
            "header": {
             "fill": {
              "color": "#C8D4E3"
             },
             "line": {
              "color": "white"
             }
            },
            "type": "table"
           }
          ]
         },
         "layout": {
          "annotationdefaults": {
           "arrowcolor": "#2a3f5f",
           "arrowhead": 0,
           "arrowwidth": 1
          },
          "coloraxis": {
           "colorbar": {
            "outlinewidth": 0,
            "ticks": ""
           }
          },
          "colorscale": {
           "diverging": [
            [
             0,
             "#8e0152"
            ],
            [
             0.1,
             "#c51b7d"
            ],
            [
             0.2,
             "#de77ae"
            ],
            [
             0.3,
             "#f1b6da"
            ],
            [
             0.4,
             "#fde0ef"
            ],
            [
             0.5,
             "#f7f7f7"
            ],
            [
             0.6,
             "#e6f5d0"
            ],
            [
             0.7,
             "#b8e186"
            ],
            [
             0.8,
             "#7fbc41"
            ],
            [
             0.9,
             "#4d9221"
            ],
            [
             1,
             "#276419"
            ]
           ],
           "sequential": [
            [
             0,
             "#0d0887"
            ],
            [
             0.1111111111111111,
             "#46039f"
            ],
            [
             0.2222222222222222,
             "#7201a8"
            ],
            [
             0.3333333333333333,
             "#9c179e"
            ],
            [
             0.4444444444444444,
             "#bd3786"
            ],
            [
             0.5555555555555556,
             "#d8576b"
            ],
            [
             0.6666666666666666,
             "#ed7953"
            ],
            [
             0.7777777777777778,
             "#fb9f3a"
            ],
            [
             0.8888888888888888,
             "#fdca26"
            ],
            [
             1,
             "#f0f921"
            ]
           ],
           "sequentialminus": [
            [
             0,
             "#0d0887"
            ],
            [
             0.1111111111111111,
             "#46039f"
            ],
            [
             0.2222222222222222,
             "#7201a8"
            ],
            [
             0.3333333333333333,
             "#9c179e"
            ],
            [
             0.4444444444444444,
             "#bd3786"
            ],
            [
             0.5555555555555556,
             "#d8576b"
            ],
            [
             0.6666666666666666,
             "#ed7953"
            ],
            [
             0.7777777777777778,
             "#fb9f3a"
            ],
            [
             0.8888888888888888,
             "#fdca26"
            ],
            [
             1,
             "#f0f921"
            ]
           ]
          },
          "colorway": [
           "#636efa",
           "#EF553B",
           "#00cc96",
           "#ab63fa",
           "#FFA15A",
           "#19d3f3",
           "#FF6692",
           "#B6E880",
           "#FF97FF",
           "#FECB52"
          ],
          "font": {
           "color": "#2a3f5f"
          },
          "geo": {
           "bgcolor": "white",
           "lakecolor": "white",
           "landcolor": "#E5ECF6",
           "showlakes": true,
           "showland": true,
           "subunitcolor": "white"
          },
          "hoverlabel": {
           "align": "left"
          },
          "hovermode": "closest",
          "mapbox": {
           "style": "light"
          },
          "paper_bgcolor": "white",
          "plot_bgcolor": "#E5ECF6",
          "polar": {
           "angularaxis": {
            "gridcolor": "white",
            "linecolor": "white",
            "ticks": ""
           },
           "bgcolor": "#E5ECF6",
           "radialaxis": {
            "gridcolor": "white",
            "linecolor": "white",
            "ticks": ""
           }
          },
          "scene": {
           "xaxis": {
            "backgroundcolor": "#E5ECF6",
            "gridcolor": "white",
            "gridwidth": 2,
            "linecolor": "white",
            "showbackground": true,
            "ticks": "",
            "zerolinecolor": "white"
           },
           "yaxis": {
            "backgroundcolor": "#E5ECF6",
            "gridcolor": "white",
            "gridwidth": 2,
            "linecolor": "white",
            "showbackground": true,
            "ticks": "",
            "zerolinecolor": "white"
           },
           "zaxis": {
            "backgroundcolor": "#E5ECF6",
            "gridcolor": "white",
            "gridwidth": 2,
            "linecolor": "white",
            "showbackground": true,
            "ticks": "",
            "zerolinecolor": "white"
           }
          },
          "shapedefaults": {
           "line": {
            "color": "#2a3f5f"
           }
          },
          "ternary": {
           "aaxis": {
            "gridcolor": "white",
            "linecolor": "white",
            "ticks": ""
           },
           "baxis": {
            "gridcolor": "white",
            "linecolor": "white",
            "ticks": ""
           },
           "bgcolor": "#E5ECF6",
           "caxis": {
            "gridcolor": "white",
            "linecolor": "white",
            "ticks": ""
           }
          },
          "title": {
           "x": 0.05
          },
          "xaxis": {
           "automargin": true,
           "gridcolor": "white",
           "linecolor": "white",
           "ticks": "",
           "title": {
            "standoff": 15
           },
           "zerolinecolor": "white",
           "zerolinewidth": 2
          },
          "yaxis": {
           "automargin": true,
           "gridcolor": "white",
           "linecolor": "white",
           "ticks": "",
           "title": {
            "standoff": 15
           },
           "zerolinecolor": "white",
           "zerolinewidth": 2
          }
         }
        },
        "xaxis": {
         "anchor": "y",
         "domain": [
          0,
          1
         ],
         "tickmode": "array",
         "ticktext": [
          "12/23",
          "12/30",
          "1/6",
          "1/13",
          "1/20",
          "1/27",
          "2/3",
          "2/10",
          "2/17",
          "2/24",
          "3/2",
          "3/9",
          "3/16",
          "3/23",
          "3/30",
          "4/6",
          "4/13",
          "4/20",
          "4/27",
          "5/4",
          "5/11",
          "5/18",
          "5/25",
          "6/1",
          "6/8",
          "6/15",
          "6/22",
          "6/29",
          "7/6",
          "7/13",
          "7/20",
          "7/27",
          "8/3",
          "8/10",
          "8/17",
          "8/24",
          "8/31",
          "9/7",
          "9/14",
          "9/21",
          "9/28",
          "10/5",
          "10/12",
          "10/19",
          "10/26",
          "11/2",
          "11/9",
          "11/16",
          "11/23",
          "11/30",
          "12/7",
          "12/14"
         ],
         "tickvals": [
          0,
          1,
          2,
          3,
          4,
          5,
          6,
          7,
          8,
          9,
          10,
          11,
          12,
          13,
          14,
          15,
          16,
          17,
          18,
          19,
          20,
          21,
          22,
          23,
          24,
          25,
          26,
          27,
          28,
          29,
          30,
          31,
          32,
          33,
          34,
          35,
          36,
          37,
          38,
          39,
          40,
          41,
          42,
          43,
          44,
          45,
          46,
          47,
          48,
          49,
          50,
          51
         ],
         "title": {
          "text": "week"
         }
        },
        "yaxis": {
         "anchor": "x",
         "domain": [
          0,
          1
         ],
         "title": {
          "text": "diff"
         }
        }
       }
      },
      "text/html": [
       "<div>\n",
       "        \n",
       "        \n",
       "            <div id=\"7e480082-bf5d-429c-9e00-698c5b122a69\" class=\"plotly-graph-div\" style=\"height:525px; width:100%;\"></div>\n",
       "            <script type=\"text/javascript\">\n",
       "                require([\"plotly\"], function(Plotly) {\n",
       "                    window.PLOTLYENV=window.PLOTLYENV || {};\n",
       "                    \n",
       "                if (document.getElementById(\"7e480082-bf5d-429c-9e00-698c5b122a69\")) {\n",
       "                    Plotly.newPlot(\n",
       "                        '7e480082-bf5d-429c-9e00-698c5b122a69',\n",
       "                        [{\"hovertemplate\": \"MCT_CAT_CD=\\uac00\\uad6c<br>week=%{x}<br>diff=%{y}<extra></extra>\", \"legendgroup\": \"\\uac00\\uad6c\", \"line\": {\"color\": \"#636efa\", \"dash\": \"solid\"}, \"mode\": \"lines\", \"name\": \"\\uac00\\uad6c\", \"orientation\": \"v\", \"showlegend\": true, \"type\": \"scatter\", \"x\": [5, 6, 7, 8, 9, 10, 11, 12, 13, 14, 15, 16, 17, 18, 19, 20, 21, 22], \"xaxis\": \"x\", \"y\": [38804, 74850, 90530, -69128, -134735, -79736, -149519, -81859, -17530, 29293, -38405, 36900, 214308, 90774, 22951, 141984, 18020, 225964], \"yaxis\": \"y\"}, {\"hovertemplate\": \"MCT_CAT_CD=\\uac00\\uc804<br>week=%{x}<br>diff=%{y}<extra></extra>\", \"legendgroup\": \"\\uac00\\uc804\", \"line\": {\"color\": \"#EF553B\", \"dash\": \"solid\"}, \"mode\": \"lines\", \"name\": \"\\uac00\\uc804\", \"orientation\": \"v\", \"showlegend\": true, \"type\": \"scatter\", \"x\": [5, 6, 7, 8, 9, 10, 11, 12, 13, 14, 15, 16, 17, 18, 19, 20, 21, 22], \"xaxis\": \"x\", \"y\": [-229385, -153806, -227815, -241938, -290181, -417006, -238773, -92582, -105888, -121577, -214425, -143661, -24205, 146155, -54072, -54296, 7964, 53339], \"yaxis\": \"y\"}, {\"hovertemplate\": \"MCT_CAT_CD=\\uad11\\ud559\\uc81c\\ud488<br>week=%{x}<br>diff=%{y}<extra></extra>\", \"legendgroup\": \"\\uad11\\ud559\\uc81c\\ud488\", \"line\": {\"color\": \"#00cc96\", \"dash\": \"solid\"}, \"mode\": \"lines\", \"name\": \"\\uad11\\ud559\\uc81c\\ud488\", \"orientation\": \"v\", \"showlegend\": true, \"type\": \"scatter\", \"x\": [5, 6, 7, 8, 9, 10, 11, 12, 13, 14, 15, 16, 17, 18, 19, 20, 21, 22], \"xaxis\": \"x\", \"y\": [14191, -64254, -51919, -65383, -152572, -169267, -131898, -78215, -106304, -63520, -44912, -14678, -14878, -57925, -44343, 2473, -21398, 52326], \"yaxis\": \"y\"}, {\"hovertemplate\": \"MCT_CAT_CD=\\ub808\\uc800\\uc5c5\\uc18c<br>week=%{x}<br>diff=%{y}<extra></extra>\", \"legendgroup\": \"\\ub808\\uc800\\uc5c5\\uc18c\", \"line\": {\"color\": \"#ab63fa\", \"dash\": \"solid\"}, \"mode\": \"lines\", \"name\": \"\\ub808\\uc800\\uc5c5\\uc18c\", \"orientation\": \"v\", \"showlegend\": true, \"type\": \"scatter\", \"x\": [5, 6, 7, 8, 9, 10, 11, 12, 13, 14, 15, 16, 17, 18, 19, 20, 21, 22], \"xaxis\": \"x\", \"y\": [-156988, 204488, -65415, -468171, -997057, -919544, -738069, -561318, -817577, -771985, -602077, -619872, -465978, -583454, -127168, -16823, -165495, 222107], \"yaxis\": \"y\"}, {\"hovertemplate\": \"MCT_CAT_CD=\\ub808\\uc800\\uc6a9\\ud488<br>week=%{x}<br>diff=%{y}<extra></extra>\", \"legendgroup\": \"\\ub808\\uc800\\uc6a9\\ud488\", \"line\": {\"color\": \"#FFA15A\", \"dash\": \"solid\"}, \"mode\": \"lines\", \"name\": \"\\ub808\\uc800\\uc6a9\\ud488\", \"orientation\": \"v\", \"showlegend\": true, \"type\": \"scatter\", \"x\": [5, 6, 7, 8, 9, 10, 11, 12, 13, 14, 15, 16, 17, 18, 19, 20, 21, 22], \"xaxis\": \"x\", \"y\": [-320717, -409102, 17570, -684727, -1227516, -907616, -610305, -674463, -615417, -486721, -566120, -487038, -588265, -425684, -388541, 320812, 227632, 780925], \"yaxis\": \"y\"}, {\"hovertemplate\": \"MCT_CAT_CD=\\ubb38\\ud654\\ucde8\\ubbf8<br>week=%{x}<br>diff=%{y}<extra></extra>\", \"legendgroup\": \"\\ubb38\\ud654\\ucde8\\ubbf8\", \"line\": {\"color\": \"#19d3f3\", \"dash\": \"solid\"}, \"mode\": \"lines\", \"name\": \"\\ubb38\\ud654\\ucde8\\ubbf8\", \"orientation\": \"v\", \"showlegend\": true, \"type\": \"scatter\", \"x\": [5, 6, 7, 8, 9, 10, 11, 12, 13, 14, 15, 16, 17, 18, 19, 20, 21, 22], \"xaxis\": \"x\", \"y\": [-258025, -241403, -259890, -418748, -618689, -577508, -509444, -313521, -353370, -344475, -400971, -414137, -504362, -489397, -344357, -280995, -370005, -150522], \"yaxis\": \"y\"}, {\"hovertemplate\": \"MCT_CAT_CD=\\ubcf4\\uac74\\uc704\\uc0dd<br>week=%{x}<br>diff=%{y}<extra></extra>\", \"legendgroup\": \"\\ubcf4\\uac74\\uc704\\uc0dd\", \"line\": {\"color\": \"#FF6692\", \"dash\": \"solid\"}, \"mode\": \"lines\", \"name\": \"\\ubcf4\\uac74\\uc704\\uc0dd\", \"orientation\": \"v\", \"showlegend\": true, \"type\": \"scatter\", \"x\": [5, 6, 7, 8, 9, 10, 11, 12, 13, 14, 15, 16, 17, 18, 19, 20, 21, 22], \"xaxis\": \"x\", \"y\": [-517481, 76514, -282542, -1160320, -1850803, -1239675, -1051160, -784891, -958154, -777439, -875831, -639988, -646759, -573670, -667204, -87209, 136146, 460176], \"yaxis\": \"y\"}, {\"hovertemplate\": \"MCT_CAT_CD=\\uc0ac\\ubb34\\ud1b5\\uc2e0<br>week=%{x}<br>diff=%{y}<extra></extra>\", \"legendgroup\": \"\\uc0ac\\ubb34\\ud1b5\\uc2e0\", \"line\": {\"color\": \"#B6E880\", \"dash\": \"solid\"}, \"mode\": \"lines\", \"name\": \"\\uc0ac\\ubb34\\ud1b5\\uc2e0\", \"orientation\": \"v\", \"showlegend\": true, \"type\": \"scatter\", \"x\": [5, 6, 7, 8, 9, 10, 11, 12, 13, 14, 15, 16, 17, 18, 19, 20, 21, 22], \"xaxis\": \"x\", \"y\": [-807821, -164405, -24676, -1359850, -2273872, -2034483, -1923686, -1750867, -1767024, -1640148, -1523863, -1345664, -1353056, -1123623, -928544, -761307, -689948, 345428], \"yaxis\": \"y\"}, {\"hovertemplate\": \"MCT_CAT_CD=\\uc11c\\uc801\\ubb38\\uad6c<br>week=%{x}<br>diff=%{y}<extra></extra>\", \"legendgroup\": \"\\uc11c\\uc801\\ubb38\\uad6c\", \"line\": {\"color\": \"#FF97FF\", \"dash\": \"solid\"}, \"mode\": \"lines\", \"name\": \"\\uc11c\\uc801\\ubb38\\uad6c\", \"orientation\": \"v\", \"showlegend\": true, \"type\": \"scatter\", \"x\": [5, 6, 7, 8, 9, 10, 11, 12, 13, 14, 15, 16, 17, 18, 19, 20, 21, 22], \"xaxis\": \"x\", \"y\": [-146785, 24552, -151334, -255879, -352662, -851644, -477232, -310525, -273003, -156257, -164367, -63460, -92531, -97740, -57491, 8969, 28789, 223648], \"yaxis\": \"y\"}, {\"hovertemplate\": \"MCT_CAT_CD=\\uc218\\ub9ac\\uc11c\\ube44\\uc2a4<br>week=%{x}<br>diff=%{y}<extra></extra>\", \"legendgroup\": \"\\uc218\\ub9ac\\uc11c\\ube44\\uc2a4\", \"line\": {\"color\": \"#FECB52\", \"dash\": \"solid\"}, \"mode\": \"lines\", \"name\": \"\\uc218\\ub9ac\\uc11c\\ube44\\uc2a4\", \"orientation\": \"v\", \"showlegend\": true, \"type\": \"scatter\", \"x\": [5, 6, 7, 8, 9, 10, 11, 12, 13, 14, 15, 16, 17, 18, 19, 20, 21, 22], \"xaxis\": \"x\", \"y\": [-38639, 50272, 45588, -55447, -75532, -169284, -9653, -38985, 20442, 1912, 13583, -40515, -52077, -48162, -20842, 22687, 31337, -1099], \"yaxis\": \"y\"}, {\"hovertemplate\": \"MCT_CAT_CD=\\uc219\\ubc15<br>week=%{x}<br>diff=%{y}<extra></extra>\", \"legendgroup\": \"\\uc219\\ubc15\", \"line\": {\"color\": \"#636efa\", \"dash\": \"solid\"}, \"mode\": \"lines\", \"name\": \"\\uc219\\ubc15\", \"orientation\": \"v\", \"showlegend\": true, \"type\": \"scatter\", \"x\": [5, 6, 7, 8, 9, 10, 11, 12, 13, 14, 15, 16, 17, 18, 19, 20, 21, 22], \"xaxis\": \"x\", \"y\": [228099, 290344, -121658, -419879, -892866, -534575, -333494, -168431, -376854, -436612, -542639, -444822, -640069, -95174, -376361, -45165, -181178, 177106], \"yaxis\": \"y\"}, {\"hovertemplate\": \"MCT_CAT_CD=\\uc2e0\\ubcc0\\uc7a1\\ud654<br>week=%{x}<br>diff=%{y}<extra></extra>\", \"legendgroup\": \"\\uc2e0\\ubcc0\\uc7a1\\ud654\", \"line\": {\"color\": \"#EF553B\", \"dash\": \"solid\"}, \"mode\": \"lines\", \"name\": \"\\uc2e0\\ubcc0\\uc7a1\\ud654\", \"orientation\": \"v\", \"showlegend\": true, \"type\": \"scatter\", \"x\": [5, 6, 7, 8, 9, 10, 11, 12, 13, 14, 15, 16, 17, 18, 19, 20, 21, 22], \"xaxis\": \"x\", \"y\": [-102566, -74431, 96412, -753634, -586500, -439833, -564148, -407457, -385205, -332969, -219900, -402711, -381380, -337634, -179656, -86109, -64959, 69096], \"yaxis\": \"y\"}, {\"hovertemplate\": \"MCT_CAT_CD=\\uc5f0\\ub8cc\\ud310\\ub9e4<br>week=%{x}<br>diff=%{y}<extra></extra>\", \"legendgroup\": \"\\uc5f0\\ub8cc\\ud310\\ub9e4\", \"line\": {\"color\": \"#00cc96\", \"dash\": \"solid\"}, \"mode\": \"lines\", \"name\": \"\\uc5f0\\ub8cc\\ud310\\ub9e4\", \"orientation\": \"v\", \"showlegend\": true, \"type\": \"scatter\", \"x\": [5, 6, 7, 8, 9, 10, 11, 12, 13, 14, 15, 16, 17, 18, 19, 20, 21, 22], \"xaxis\": \"x\", \"y\": [-1112737, -75220, -726723, -1520453, -2357647, -1774220, -1901624, -1670009, -1668484, -1304077, -1683456, -1961521, -1422930, -2035342, -1779841, -1383309, -1686203, -147338], \"yaxis\": \"y\"}, {\"hovertemplate\": \"MCT_CAT_CD=\\uc694\\uc2dd\\uc5c5\\uc18c<br>week=%{x}<br>diff=%{y}<extra></extra>\", \"legendgroup\": \"\\uc694\\uc2dd\\uc5c5\\uc18c\", \"line\": {\"color\": \"#ab63fa\", \"dash\": \"solid\"}, \"mode\": \"lines\", \"name\": \"\\uc694\\uc2dd\\uc5c5\\uc18c\", \"orientation\": \"v\", \"showlegend\": true, \"type\": \"scatter\", \"x\": [5, 6, 7, 8, 9, 10, 11, 12, 13, 14, 15, 16, 17, 18, 19, 20, 21, 22], \"xaxis\": \"x\", \"y\": [-4378957, -1801534, -198440, -8684916, -12874521, -9787905, -8955529, -7778253, -8024649, -6993854, -6676594, -5421725, -5474836, -5517622, -4011384, -1899633, -1234981, 4118978], \"yaxis\": \"y\"}, {\"hovertemplate\": \"MCT_CAT_CD=\\uc720\\ud1b5\\uc5c5<br>week=%{x}<br>diff=%{y}<extra></extra>\", \"legendgroup\": \"\\uc720\\ud1b5\\uc5c5\", \"line\": {\"color\": \"#FFA15A\", \"dash\": \"solid\"}, \"mode\": \"lines\", \"name\": \"\\uc720\\ud1b5\\uc5c5\", \"orientation\": \"v\", \"showlegend\": true, \"type\": \"scatter\", \"x\": [5, 6, 7, 8, 9, 10, 11, 12, 13, 14, 15, 16, 17, 18, 19, 20, 21, 22], \"xaxis\": \"x\", \"y\": [-5900638, -367675, -546799, -1785707, -6162885, -5341188, -4925367, -4241518, -3270435, -3518722, -3202768, -3923916, -3255842, -2355148, -1434050, -2096776, -1369008, 5272586], \"yaxis\": \"y\"}, {\"hovertemplate\": \"MCT_CAT_CD=\\uc74c\\ub8cc\\uc2dd\\ud488<br>week=%{x}<br>diff=%{y}<extra></extra>\", \"legendgroup\": \"\\uc74c\\ub8cc\\uc2dd\\ud488\", \"line\": {\"color\": \"#19d3f3\", \"dash\": \"solid\"}, \"mode\": \"lines\", \"name\": \"\\uc74c\\ub8cc\\uc2dd\\ud488\", \"orientation\": \"v\", \"showlegend\": true, \"type\": \"scatter\", \"x\": [5, 6, 7, 8, 9, 10, 11, 12, 13, 14, 15, 16, 17, 18, 19, 20, 21, 22], \"xaxis\": \"x\", \"y\": [-1650496, 130141, 137145, 280500, 181347, 18933, -21094, 55175, -25119, -69683, -107270, 17255, -136020, -363901, -33713, 337254, 1002295, 997277], \"yaxis\": \"y\"}, {\"hovertemplate\": \"MCT_CAT_CD=\\uc758\\ub8cc\\uae30\\uad00<br>week=%{x}<br>diff=%{y}<extra></extra>\", \"legendgroup\": \"\\uc758\\ub8cc\\uae30\\uad00\", \"line\": {\"color\": \"#FF6692\", \"dash\": \"solid\"}, \"mode\": \"lines\", \"name\": \"\\uc758\\ub8cc\\uae30\\uad00\", \"orientation\": \"v\", \"showlegend\": true, \"type\": \"scatter\", \"x\": [5, 6, 7, 8, 9, 10, 11, 12, 13, 14, 15, 16, 17, 18, 19, 20, 21, 22], \"xaxis\": \"x\", \"y\": [-3364017, 5961031, 1620709, -1404485, -5480557, -6709125, -5702996, -4209914, -4121131, -3937543, -3651666, -2556709, -2760013, -1885429, -396145, -324419, 157067, 4041203], \"yaxis\": \"y\"}, {\"hovertemplate\": \"MCT_CAT_CD=\\uc758\\ubcf5<br>week=%{x}<br>diff=%{y}<extra></extra>\", \"legendgroup\": \"\\uc758\\ubcf5\", \"line\": {\"color\": \"#B6E880\", \"dash\": \"solid\"}, \"mode\": \"lines\", \"name\": \"\\uc758\\ubcf5\", \"orientation\": \"v\", \"showlegend\": true, \"type\": \"scatter\", \"x\": [5, 6, 7, 8, 9, 10, 11, 12, 13, 14, 15, 16, 17, 18, 19, 20, 21, 22], \"xaxis\": \"x\", \"y\": [-667576, -581108, -115721, -1681757, -2721738, -2182220, -1975775, -2029709, -1669877, -1434293, -1588178, -1300956, -1161589, -1425815, -1218755, -54036, 277256, 1012031], \"yaxis\": \"y\"}, {\"hovertemplate\": \"MCT_CAT_CD=\\uc790\\ub3d9\\ucc28\\uc815\\ube44<br>week=%{x}<br>diff=%{y}<extra></extra>\", \"legendgroup\": \"\\uc790\\ub3d9\\ucc28\\uc815\\ube44\", \"line\": {\"color\": \"#FF97FF\", \"dash\": \"solid\"}, \"mode\": \"lines\", \"name\": \"\\uc790\\ub3d9\\ucc28\\uc815\\ube44\", \"orientation\": \"v\", \"showlegend\": true, \"type\": \"scatter\", \"x\": [5, 6, 7, 8, 9, 10, 11, 12, 13, 14, 15, 16, 17, 18, 19, 20, 21, 22], \"xaxis\": \"x\", \"y\": [-398700, 364753, -170250, -343226, -219630, -320432, -268571, -374290, 15641, -377476, -252954, -336021, -130860, -186697, -104104, -121923, 104497, 368544], \"yaxis\": \"y\"}, {\"hovertemplate\": \"MCT_CAT_CD=\\uc790\\ub3d9\\ucc28\\ud310\\ub9e4<br>week=%{x}<br>diff=%{y}<extra></extra>\", \"legendgroup\": \"\\uc790\\ub3d9\\ucc28\\ud310\\ub9e4\", \"line\": {\"color\": \"#FECB52\", \"dash\": \"solid\"}, \"mode\": \"lines\", \"name\": \"\\uc790\\ub3d9\\ucc28\\ud310\\ub9e4\", \"orientation\": \"v\", \"showlegend\": true, \"type\": \"scatter\", \"x\": [5, 6, 7, 8, 9, 10, 11, 12, 13, 14, 15, 16, 17, 18, 19, 20, 21, 22], \"xaxis\": \"x\", \"y\": [-35893, 56565, 66779, -121982, -650094, -271496, -37711, -311138, -206248, -215688, -253254, -283639, 5424, -122476, -165116, 307033, -95818, 53218], \"yaxis\": \"y\"}, {\"hovertemplate\": \"MCT_CAT_CD=\\uc804\\uae30<br>week=%{x}<br>diff=%{y}<extra></extra>\", \"legendgroup\": \"\\uc804\\uae30\", \"line\": {\"color\": \"#636efa\", \"dash\": \"solid\"}, \"mode\": \"lines\", \"name\": \"\\uc804\\uae30\", \"orientation\": \"v\", \"showlegend\": true, \"type\": \"scatter\", \"x\": [5, 6, 7, 8, 9, 10, 11, 12, 13, 14, 15, 16, 17, 18, 19, 20, 21, 22], \"xaxis\": \"x\", \"y\": [-10921, -6743, -3101, -10669, 4943, 6932, 13847, -37183, -7161, 11565, -25906, 8453, 630, 20116, -5120, 8644, 3528, 12406], \"yaxis\": \"y\"}, {\"hovertemplate\": \"MCT_CAT_CD=\\uc8fc\\ubc29\\uc6a9\\uad6c<br>week=%{x}<br>diff=%{y}<extra></extra>\", \"legendgroup\": \"\\uc8fc\\ubc29\\uc6a9\\uad6c\", \"line\": {\"color\": \"#EF553B\", \"dash\": \"solid\"}, \"mode\": \"lines\", \"name\": \"\\uc8fc\\ubc29\\uc6a9\\uad6c\", \"orientation\": \"v\", \"showlegend\": true, \"type\": \"scatter\", \"x\": [5, 6, 7, 8, 9, 10, 11, 12, 13, 14, 15, 16, 17, 18, 19, 20, 21, 22], \"xaxis\": \"x\", \"y\": [-72928, -17223, -22477, -79229, -74775, -114053, -11252, -40760, -53953, -50151, -47237, -11386, -29577, -28818, -35379, 32253, 70806, 111791], \"yaxis\": \"y\"}, {\"hovertemplate\": \"MCT_CAT_CD=\\uc9c1\\ubb3c<br>week=%{x}<br>diff=%{y}<extra></extra>\", \"legendgroup\": \"\\uc9c1\\ubb3c\", \"line\": {\"color\": \"#00cc96\", \"dash\": \"solid\"}, \"mode\": \"lines\", \"name\": \"\\uc9c1\\ubb3c\", \"orientation\": \"v\", \"showlegend\": true, \"type\": \"scatter\", \"x\": [5, 6, 7, 8, 9, 10, 11, 12, 13, 14, 15, 16, 17, 18, 19, 20, 21, 22], \"xaxis\": \"x\", \"y\": [-45275, 920, -29996, -102789, -150542, -131670, -126408, -97435, -99386, -102111, -100982, 11602, -55629, -87302, -51770, 138981, 240329, 144302], \"yaxis\": \"y\"}],\n",
       "                        {\"legend\": {\"title\": {\"text\": \"MCT_CAT_CD\"}, \"tracegroupgap\": 0}, \"margin\": {\"t\": 60}, \"template\": {\"data\": {\"bar\": [{\"error_x\": {\"color\": \"#2a3f5f\"}, \"error_y\": {\"color\": \"#2a3f5f\"}, \"marker\": {\"line\": {\"color\": \"#E5ECF6\", \"width\": 0.5}}, \"type\": \"bar\"}], \"barpolar\": [{\"marker\": {\"line\": {\"color\": \"#E5ECF6\", \"width\": 0.5}}, \"type\": \"barpolar\"}], \"carpet\": [{\"aaxis\": {\"endlinecolor\": \"#2a3f5f\", \"gridcolor\": \"white\", \"linecolor\": \"white\", \"minorgridcolor\": \"white\", \"startlinecolor\": \"#2a3f5f\"}, \"baxis\": {\"endlinecolor\": \"#2a3f5f\", \"gridcolor\": \"white\", \"linecolor\": \"white\", \"minorgridcolor\": \"white\", \"startlinecolor\": \"#2a3f5f\"}, \"type\": \"carpet\"}], \"choropleth\": [{\"colorbar\": {\"outlinewidth\": 0, \"ticks\": \"\"}, \"type\": \"choropleth\"}], \"contour\": [{\"colorbar\": {\"outlinewidth\": 0, \"ticks\": \"\"}, \"colorscale\": [[0.0, \"#0d0887\"], [0.1111111111111111, \"#46039f\"], [0.2222222222222222, \"#7201a8\"], [0.3333333333333333, \"#9c179e\"], [0.4444444444444444, \"#bd3786\"], [0.5555555555555556, \"#d8576b\"], [0.6666666666666666, \"#ed7953\"], [0.7777777777777778, \"#fb9f3a\"], [0.8888888888888888, \"#fdca26\"], [1.0, \"#f0f921\"]], \"type\": \"contour\"}], \"contourcarpet\": [{\"colorbar\": {\"outlinewidth\": 0, \"ticks\": \"\"}, \"type\": \"contourcarpet\"}], \"heatmap\": [{\"colorbar\": {\"outlinewidth\": 0, \"ticks\": \"\"}, \"colorscale\": [[0.0, \"#0d0887\"], [0.1111111111111111, \"#46039f\"], [0.2222222222222222, \"#7201a8\"], [0.3333333333333333, \"#9c179e\"], [0.4444444444444444, \"#bd3786\"], [0.5555555555555556, \"#d8576b\"], [0.6666666666666666, \"#ed7953\"], [0.7777777777777778, \"#fb9f3a\"], [0.8888888888888888, \"#fdca26\"], [1.0, \"#f0f921\"]], \"type\": \"heatmap\"}], \"heatmapgl\": [{\"colorbar\": {\"outlinewidth\": 0, \"ticks\": \"\"}, \"colorscale\": [[0.0, \"#0d0887\"], [0.1111111111111111, \"#46039f\"], [0.2222222222222222, \"#7201a8\"], [0.3333333333333333, \"#9c179e\"], [0.4444444444444444, \"#bd3786\"], [0.5555555555555556, \"#d8576b\"], [0.6666666666666666, \"#ed7953\"], [0.7777777777777778, \"#fb9f3a\"], [0.8888888888888888, \"#fdca26\"], [1.0, \"#f0f921\"]], \"type\": \"heatmapgl\"}], \"histogram\": [{\"marker\": {\"colorbar\": {\"outlinewidth\": 0, \"ticks\": \"\"}}, \"type\": \"histogram\"}], \"histogram2d\": [{\"colorbar\": {\"outlinewidth\": 0, \"ticks\": \"\"}, \"colorscale\": [[0.0, \"#0d0887\"], [0.1111111111111111, \"#46039f\"], [0.2222222222222222, \"#7201a8\"], [0.3333333333333333, \"#9c179e\"], [0.4444444444444444, \"#bd3786\"], [0.5555555555555556, \"#d8576b\"], [0.6666666666666666, \"#ed7953\"], [0.7777777777777778, \"#fb9f3a\"], [0.8888888888888888, \"#fdca26\"], [1.0, \"#f0f921\"]], \"type\": \"histogram2d\"}], \"histogram2dcontour\": [{\"colorbar\": {\"outlinewidth\": 0, \"ticks\": \"\"}, \"colorscale\": [[0.0, \"#0d0887\"], [0.1111111111111111, \"#46039f\"], [0.2222222222222222, \"#7201a8\"], [0.3333333333333333, \"#9c179e\"], [0.4444444444444444, \"#bd3786\"], [0.5555555555555556, \"#d8576b\"], [0.6666666666666666, \"#ed7953\"], [0.7777777777777778, \"#fb9f3a\"], [0.8888888888888888, \"#fdca26\"], [1.0, \"#f0f921\"]], \"type\": \"histogram2dcontour\"}], \"mesh3d\": [{\"colorbar\": {\"outlinewidth\": 0, \"ticks\": \"\"}, \"type\": \"mesh3d\"}], \"parcoords\": [{\"line\": {\"colorbar\": {\"outlinewidth\": 0, \"ticks\": \"\"}}, \"type\": \"parcoords\"}], \"pie\": [{\"automargin\": true, \"type\": \"pie\"}], \"scatter\": [{\"marker\": {\"colorbar\": {\"outlinewidth\": 0, \"ticks\": \"\"}}, \"type\": \"scatter\"}], \"scatter3d\": [{\"line\": {\"colorbar\": {\"outlinewidth\": 0, \"ticks\": \"\"}}, \"marker\": {\"colorbar\": {\"outlinewidth\": 0, \"ticks\": \"\"}}, \"type\": \"scatter3d\"}], \"scattercarpet\": [{\"marker\": {\"colorbar\": {\"outlinewidth\": 0, \"ticks\": \"\"}}, \"type\": \"scattercarpet\"}], \"scattergeo\": [{\"marker\": {\"colorbar\": {\"outlinewidth\": 0, \"ticks\": \"\"}}, \"type\": \"scattergeo\"}], \"scattergl\": [{\"marker\": {\"colorbar\": {\"outlinewidth\": 0, \"ticks\": \"\"}}, \"type\": \"scattergl\"}], \"scattermapbox\": [{\"marker\": {\"colorbar\": {\"outlinewidth\": 0, \"ticks\": \"\"}}, \"type\": \"scattermapbox\"}], \"scatterpolar\": [{\"marker\": {\"colorbar\": {\"outlinewidth\": 0, \"ticks\": \"\"}}, \"type\": \"scatterpolar\"}], \"scatterpolargl\": [{\"marker\": {\"colorbar\": {\"outlinewidth\": 0, \"ticks\": \"\"}}, \"type\": \"scatterpolargl\"}], \"scatterternary\": [{\"marker\": {\"colorbar\": {\"outlinewidth\": 0, \"ticks\": \"\"}}, \"type\": \"scatterternary\"}], \"surface\": [{\"colorbar\": {\"outlinewidth\": 0, \"ticks\": \"\"}, \"colorscale\": [[0.0, \"#0d0887\"], [0.1111111111111111, \"#46039f\"], [0.2222222222222222, \"#7201a8\"], [0.3333333333333333, \"#9c179e\"], [0.4444444444444444, \"#bd3786\"], [0.5555555555555556, \"#d8576b\"], [0.6666666666666666, \"#ed7953\"], [0.7777777777777778, \"#fb9f3a\"], [0.8888888888888888, \"#fdca26\"], [1.0, \"#f0f921\"]], \"type\": \"surface\"}], \"table\": [{\"cells\": {\"fill\": {\"color\": \"#EBF0F8\"}, \"line\": {\"color\": \"white\"}}, \"header\": {\"fill\": {\"color\": \"#C8D4E3\"}, \"line\": {\"color\": \"white\"}}, \"type\": \"table\"}]}, \"layout\": {\"annotationdefaults\": {\"arrowcolor\": \"#2a3f5f\", \"arrowhead\": 0, \"arrowwidth\": 1}, \"coloraxis\": {\"colorbar\": {\"outlinewidth\": 0, \"ticks\": \"\"}}, \"colorscale\": {\"diverging\": [[0, \"#8e0152\"], [0.1, \"#c51b7d\"], [0.2, \"#de77ae\"], [0.3, \"#f1b6da\"], [0.4, \"#fde0ef\"], [0.5, \"#f7f7f7\"], [0.6, \"#e6f5d0\"], [0.7, \"#b8e186\"], [0.8, \"#7fbc41\"], [0.9, \"#4d9221\"], [1, \"#276419\"]], \"sequential\": [[0.0, \"#0d0887\"], [0.1111111111111111, \"#46039f\"], [0.2222222222222222, \"#7201a8\"], [0.3333333333333333, \"#9c179e\"], [0.4444444444444444, \"#bd3786\"], [0.5555555555555556, \"#d8576b\"], [0.6666666666666666, \"#ed7953\"], [0.7777777777777778, \"#fb9f3a\"], [0.8888888888888888, \"#fdca26\"], [1.0, \"#f0f921\"]], \"sequentialminus\": [[0.0, \"#0d0887\"], [0.1111111111111111, \"#46039f\"], [0.2222222222222222, \"#7201a8\"], [0.3333333333333333, \"#9c179e\"], [0.4444444444444444, \"#bd3786\"], [0.5555555555555556, \"#d8576b\"], [0.6666666666666666, \"#ed7953\"], [0.7777777777777778, \"#fb9f3a\"], [0.8888888888888888, \"#fdca26\"], [1.0, \"#f0f921\"]]}, \"colorway\": [\"#636efa\", \"#EF553B\", \"#00cc96\", \"#ab63fa\", \"#FFA15A\", \"#19d3f3\", \"#FF6692\", \"#B6E880\", \"#FF97FF\", \"#FECB52\"], \"font\": {\"color\": \"#2a3f5f\"}, \"geo\": {\"bgcolor\": \"white\", \"lakecolor\": \"white\", \"landcolor\": \"#E5ECF6\", \"showlakes\": true, \"showland\": true, \"subunitcolor\": \"white\"}, \"hoverlabel\": {\"align\": \"left\"}, \"hovermode\": \"closest\", \"mapbox\": {\"style\": \"light\"}, \"paper_bgcolor\": \"white\", \"plot_bgcolor\": \"#E5ECF6\", \"polar\": {\"angularaxis\": {\"gridcolor\": \"white\", \"linecolor\": \"white\", \"ticks\": \"\"}, \"bgcolor\": \"#E5ECF6\", \"radialaxis\": {\"gridcolor\": \"white\", \"linecolor\": \"white\", \"ticks\": \"\"}}, \"scene\": {\"xaxis\": {\"backgroundcolor\": \"#E5ECF6\", \"gridcolor\": \"white\", \"gridwidth\": 2, \"linecolor\": \"white\", \"showbackground\": true, \"ticks\": \"\", \"zerolinecolor\": \"white\"}, \"yaxis\": {\"backgroundcolor\": \"#E5ECF6\", \"gridcolor\": \"white\", \"gridwidth\": 2, \"linecolor\": \"white\", \"showbackground\": true, \"ticks\": \"\", \"zerolinecolor\": \"white\"}, \"zaxis\": {\"backgroundcolor\": \"#E5ECF6\", \"gridcolor\": \"white\", \"gridwidth\": 2, \"linecolor\": \"white\", \"showbackground\": true, \"ticks\": \"\", \"zerolinecolor\": \"white\"}}, \"shapedefaults\": {\"line\": {\"color\": \"#2a3f5f\"}}, \"ternary\": {\"aaxis\": {\"gridcolor\": \"white\", \"linecolor\": \"white\", \"ticks\": \"\"}, \"baxis\": {\"gridcolor\": \"white\", \"linecolor\": \"white\", \"ticks\": \"\"}, \"bgcolor\": \"#E5ECF6\", \"caxis\": {\"gridcolor\": \"white\", \"linecolor\": \"white\", \"ticks\": \"\"}}, \"title\": {\"x\": 0.05}, \"xaxis\": {\"automargin\": true, \"gridcolor\": \"white\", \"linecolor\": \"white\", \"ticks\": \"\", \"title\": {\"standoff\": 15}, \"zerolinecolor\": \"white\", \"zerolinewidth\": 2}, \"yaxis\": {\"automargin\": true, \"gridcolor\": \"white\", \"linecolor\": \"white\", \"ticks\": \"\", \"title\": {\"standoff\": 15}, \"zerolinecolor\": \"white\", \"zerolinewidth\": 2}}}, \"xaxis\": {\"anchor\": \"y\", \"domain\": [0.0, 1.0], \"tickmode\": \"array\", \"ticktext\": [\"12/23\", \"12/30\", \"1/6\", \"1/13\", \"1/20\", \"1/27\", \"2/3\", \"2/10\", \"2/17\", \"2/24\", \"3/2\", \"3/9\", \"3/16\", \"3/23\", \"3/30\", \"4/6\", \"4/13\", \"4/20\", \"4/27\", \"5/4\", \"5/11\", \"5/18\", \"5/25\", \"6/1\", \"6/8\", \"6/15\", \"6/22\", \"6/29\", \"7/6\", \"7/13\", \"7/20\", \"7/27\", \"8/3\", \"8/10\", \"8/17\", \"8/24\", \"8/31\", \"9/7\", \"9/14\", \"9/21\", \"9/28\", \"10/5\", \"10/12\", \"10/19\", \"10/26\", \"11/2\", \"11/9\", \"11/16\", \"11/23\", \"11/30\", \"12/7\", \"12/14\"], \"tickvals\": [0, 1, 2, 3, 4, 5, 6, 7, 8, 9, 10, 11, 12, 13, 14, 15, 16, 17, 18, 19, 20, 21, 22, 23, 24, 25, 26, 27, 28, 29, 30, 31, 32, 33, 34, 35, 36, 37, 38, 39, 40, 41, 42, 43, 44, 45, 46, 47, 48, 49, 50, 51], \"title\": {\"text\": \"week\"}}, \"yaxis\": {\"anchor\": \"x\", \"domain\": [0.0, 1.0], \"title\": {\"text\": \"diff\"}}},\n",
       "                        {\"responsive\": true}\n",
       "                    ).then(function(){\n",
       "                            \n",
       "var gd = document.getElementById('7e480082-bf5d-429c-9e00-698c5b122a69');\n",
       "var x = new MutationObserver(function (mutations, observer) {{\n",
       "        var display = window.getComputedStyle(gd).display;\n",
       "        if (!display || display === 'none') {{\n",
       "            console.log([gd, 'removed!']);\n",
       "            Plotly.purge(gd);\n",
       "            observer.disconnect();\n",
       "        }}\n",
       "}});\n",
       "\n",
       "// Listen for the removal of the full notebook cells\n",
       "var notebookContainer = gd.closest('#notebook-container');\n",
       "if (notebookContainer) {{\n",
       "    x.observe(notebookContainer, {childList: true});\n",
       "}}\n",
       "\n",
       "// Listen for the clearing of the current output cell\n",
       "var outputEl = gd.closest('.output');\n",
       "if (outputEl) {{\n",
       "    x.observe(outputEl, {childList: true});\n",
       "}}\n",
       "\n",
       "                        })\n",
       "                };\n",
       "                });\n",
       "            </script>\n",
       "        </div>"
      ]
     },
     "metadata": {},
     "output_type": "display_data"
    }
   ],
   "source": [
    "fig = px.line(daegu_total_diff2, x=\"week\", y=\"diff\", color='MCT_CAT_CD')\n",
    "\n",
    "fig.update_layout(xaxis=dict(tickmode='array', tickvals=np.arange(0, len(test2)), ticktext=test2))\n",
    "fig.show()"
   ]
  },
  {
   "cell_type": "code",
   "execution_count": 30,
   "metadata": {},
   "outputs": [
    {
     "data": {
      "application/vnd.plotly.v1+json": {
       "config": {
        "plotlyServerURL": "https://plot.ly"
       },
       "data": [
        {
         "hovertemplate": "MCT_CAT_CD=가구<br>week=%{x}<br>diff=%{y}<extra></extra>",
         "legendgroup": "가구",
         "line": {
          "color": "#636efa",
          "dash": "solid"
         },
         "mode": "lines",
         "name": "가구",
         "orientation": "v",
         "showlegend": true,
         "type": "scatter",
         "x": [
          5,
          6,
          7,
          8,
          9,
          10,
          11,
          12,
          13,
          14,
          15,
          16,
          17,
          18,
          19,
          20,
          21,
          22
         ],
         "xaxis": "x",
         "y": [
          500.3645139627288,
          296.11901792313375,
          257.8139668131267,
          127.51345234183913,
          209.87913598083094,
          273.36127370993495,
          127.11138637324348,
          9.882933846044295,
          99.26395314559414,
          229.81995766056082,
          -8.570628309640199,
          299.33306070519814,
          142.5892680880466,
          121.15319435857242,
          23.511412306858233,
          -24.74346885573243,
          -26.619042629567105,
          38.066192050173754
         ],
         "yaxis": "y"
        },
        {
         "hovertemplate": "MCT_CAT_CD=가전<br>week=%{x}<br>diff=%{y}<extra></extra>",
         "legendgroup": "가전",
         "line": {
          "color": "#EF553B",
          "dash": "solid"
         },
         "mode": "lines",
         "name": "가전",
         "orientation": "v",
         "showlegend": true,
         "type": "scatter",
         "x": [
          5,
          6,
          7,
          8,
          9,
          10,
          11,
          12,
          13,
          14,
          15,
          16,
          17,
          18,
          19,
          20,
          21,
          22
         ],
         "xaxis": "x",
         "y": [
          252.39887017578653,
          60.711915066910166,
          65.7065784783691,
          46.613814779359075,
          83.84744671539968,
          60.0334955459017,
          -38.73168598507374,
          -34.5189691830756,
          29.62000180428265,
          5.006945362149963,
          -20.84851747398295,
          -44.498552504977056,
          -45.15190239982579,
          -14.72280310239205,
          -53.914797111297446,
          13.806444764167622,
          -1.3390645218603936,
          -24.35528578323604
         ],
         "yaxis": "y"
        },
        {
         "hovertemplate": "MCT_CAT_CD=광학제품<br>week=%{x}<br>diff=%{y}<extra></extra>",
         "legendgroup": "광학제품",
         "line": {
          "color": "#00cc96",
          "dash": "solid"
         },
         "mode": "lines",
         "name": "광학제품",
         "orientation": "v",
         "showlegend": true,
         "type": "scatter",
         "x": [
          5,
          6,
          7,
          8,
          9,
          10,
          11,
          12,
          13,
          14,
          15,
          16,
          17,
          18,
          19,
          20,
          21,
          22
         ],
         "xaxis": "x",
         "y": [
          63.27553148204659,
          -8.99918705878973,
          16.720478254671242,
          -20.557110343183986,
          6.459179365724282,
          29.252065263856657,
          -4.518766035883324,
          -2.363014797746466,
          -60.69040980187696,
          42.054111421109056,
          7.58017227674442,
          28.279552038779585,
          -45.62494906399904,
          -36.670583846650544,
          13.203930262580577,
          -0.048361206429959225,
          -54.80645395307338,
          -19.233829070925765
         ],
         "yaxis": "y"
        },
        {
         "hovertemplate": "MCT_CAT_CD=레저업소<br>week=%{x}<br>diff=%{y}<extra></extra>",
         "legendgroup": "레저업소",
         "line": {
          "color": "#ab63fa",
          "dash": "solid"
         },
         "mode": "lines",
         "name": "레저업소",
         "orientation": "v",
         "showlegend": true,
         "type": "scatter",
         "x": [
          5,
          6,
          7,
          8,
          9,
          10,
          11,
          12,
          13,
          14,
          15,
          16,
          17,
          18,
          19,
          20,
          21,
          22
         ],
         "xaxis": "x",
         "y": [
          -0.8979491236954456,
          2.063392467008228,
          -2.220145868162156,
          -2.826030756430036,
          -3.278517371362005,
          -5.441202790812987,
          -3.812042926903148,
          -2.5370603652866883,
          -7.948258974814449,
          -9.047775026381549,
          -3.9615925033949733,
          -5.016219773920186,
          -0.7365662927087406,
          -1.2950055546966581,
          1.7239506374175697,
          1.4705945572929977,
          0.6566522770463514,
          -0.6061443154308428
         ],
         "yaxis": "y"
        },
        {
         "hovertemplate": "MCT_CAT_CD=레저용품<br>week=%{x}<br>diff=%{y}<extra></extra>",
         "legendgroup": "레저용품",
         "line": {
          "color": "#FFA15A",
          "dash": "solid"
         },
         "mode": "lines",
         "name": "레저용품",
         "orientation": "v",
         "showlegend": true,
         "type": "scatter",
         "x": [
          5,
          6,
          7,
          8,
          9,
          10,
          11,
          12,
          13,
          14,
          15,
          16,
          17,
          18,
          19,
          20,
          21,
          22
         ],
         "xaxis": "x",
         "y": [
          2.915461228348647,
          4.574302953437396,
          7.474167751536086,
          6.184486555543231,
          10.470767981878211,
          12.010845338849819,
          4.535919337688227,
          3.765425084044523,
          0.7164540329817726,
          0.4055321154340561,
          0.8979796284380797,
          -3.501971584939639,
          -3.4578803331147867,
          -1.554830967338404,
          0.026254989248741367,
          4.2554588559527105,
          4.95658566945049,
          -1.6561810208521592
         ],
         "yaxis": "y"
        },
        {
         "hovertemplate": "MCT_CAT_CD=문화취미<br>week=%{x}<br>diff=%{y}<extra></extra>",
         "legendgroup": "문화취미",
         "line": {
          "color": "#19d3f3",
          "dash": "solid"
         },
         "mode": "lines",
         "name": "문화취미",
         "orientation": "v",
         "showlegend": true,
         "type": "scatter",
         "x": [
          5,
          6,
          7,
          8,
          9,
          10,
          11,
          12,
          13,
          14,
          15,
          16,
          17,
          18,
          19,
          20,
          21,
          22
         ],
         "xaxis": "x",
         "y": [
          0.8067499566131353,
          5.305777017038,
          -0.20194817167032397,
          -0.06170968021950074,
          -0.7232232332474169,
          5.55930391018245,
          2.255463109875098,
          2.8714367447233116,
          2.9681239642438833,
          7.267183843813129,
          10.077535046128965,
          4.442570139601884,
          10.9905080545919,
          6.781626065873578,
          4.237110875096928,
          6.9212475224109475,
          6.126185052980386,
          5.839091440686861
         ],
         "yaxis": "y"
        },
        {
         "hovertemplate": "MCT_CAT_CD=보건위생<br>week=%{x}<br>diff=%{y}<extra></extra>",
         "legendgroup": "보건위생",
         "line": {
          "color": "#FF6692",
          "dash": "solid"
         },
         "mode": "lines",
         "name": "보건위생",
         "orientation": "v",
         "showlegend": true,
         "type": "scatter",
         "x": [
          5,
          6,
          7,
          8,
          9,
          10,
          11,
          12,
          13,
          14,
          15,
          16,
          17,
          18,
          19,
          20,
          21,
          22
         ],
         "xaxis": "x",
         "y": [
          2.26825462818654,
          14.02687959236431,
          8.7852676120308,
          3.1462737885512695,
          10.566476976374588,
          1.123601050333427,
          3.825200445189303,
          1.4593875478811142,
          -6.166091933724736,
          8.948267059578846,
          3.63000685995425,
          2.018383617042524,
          3.2027065158425216,
          5.3323080528552325,
          5.477477151491939,
          8.575587961909378,
          14.149652982025621,
          2.2167573746793394
         ],
         "yaxis": "y"
        },
        {
         "hovertemplate": "MCT_CAT_CD=사무통신<br>week=%{x}<br>diff=%{y}<extra></extra>",
         "legendgroup": "사무통신",
         "line": {
          "color": "#B6E880",
          "dash": "solid"
         },
         "mode": "lines",
         "name": "사무통신",
         "orientation": "v",
         "showlegend": true,
         "type": "scatter",
         "x": [
          5,
          6,
          7,
          8,
          9,
          10,
          11,
          12,
          13,
          14,
          15,
          16,
          17,
          18,
          19,
          20,
          21,
          22
         ],
         "xaxis": "x",
         "y": [
          -5.08532720822007,
          2.251368037517011,
          -5.542300739633955,
          -4.717716821731331,
          0.16925400954308856,
          -2.6266912071973536,
          0.0029037265413052182,
          -1.0303313003940833,
          -5.207005758491675,
          2.164237784389478,
          3.0316348256399284,
          3.0987171002932588,
          2.231095672124196,
          4.525428972105601,
          1.7852774001169287,
          2.9896593199224117,
          1.9021178404253032,
          2.5302996521162378
         ],
         "yaxis": "y"
        },
        {
         "hovertemplate": "MCT_CAT_CD=서적문구<br>week=%{x}<br>diff=%{y}<extra></extra>",
         "legendgroup": "서적문구",
         "line": {
          "color": "#FF97FF",
          "dash": "solid"
         },
         "mode": "lines",
         "name": "서적문구",
         "orientation": "v",
         "showlegend": true,
         "type": "scatter",
         "x": [
          5,
          6,
          7,
          8,
          9,
          10,
          11,
          12,
          13,
          14,
          15,
          16,
          17,
          18,
          19,
          20,
          21,
          22
         ],
         "xaxis": "x",
         "y": [
          -5.2196864954298725,
          6.502703345205163,
          0.2377943276070802,
          -0.2681344894230122,
          3.8747337808593407,
          4.235549287036484,
          8.233463132852822,
          5.011943449730062,
          3.912241250995706,
          11.95477523153107,
          7.005113156013284,
          3.919492502505147,
          5.702090395476198,
          4.994035391760601,
          6.210490228897076,
          6.478007319162675,
          3.8946679628180974,
          2.3252928075253223
         ],
         "yaxis": "y"
        },
        {
         "hovertemplate": "MCT_CAT_CD=수리서비스<br>week=%{x}<br>diff=%{y}<extra></extra>",
         "legendgroup": "수리서비스",
         "line": {
          "color": "#FECB52",
          "dash": "solid"
         },
         "mode": "lines",
         "name": "수리서비스",
         "orientation": "v",
         "showlegend": true,
         "type": "scatter",
         "x": [
          5,
          6,
          7,
          8,
          9,
          10,
          11,
          12,
          13,
          14,
          15,
          16,
          17,
          18,
          19,
          20,
          21,
          22
         ],
         "xaxis": "x",
         "y": [
          -4.448124171763961,
          8.272905442089403,
          -2.08208733788684,
          3.6061613806059896,
          6.65216875693255,
          2.1921170083636525,
          0.025405333665311503,
          4.179462117150347,
          4.871083727269962,
          1.6744859318991523,
          5.346002602629426,
          6.172786081433745,
          3.196564261168902,
          -0.4599188519625379,
          4.121805707151548,
          3.267586964345508,
          -1.7804006468290545,
          -2.970626398098215
         ],
         "yaxis": "y"
        },
        {
         "hovertemplate": "MCT_CAT_CD=숙박<br>week=%{x}<br>diff=%{y}<extra></extra>",
         "legendgroup": "숙박",
         "line": {
          "color": "#636efa",
          "dash": "solid"
         },
         "mode": "lines",
         "name": "숙박",
         "orientation": "v",
         "showlegend": true,
         "type": "scatter",
         "x": [
          5,
          6,
          7,
          8,
          9,
          10,
          11,
          12,
          13,
          14,
          15,
          16,
          17,
          18,
          19,
          20,
          21,
          22
         ],
         "xaxis": "x",
         "y": [
          43.17516982408456,
          -6.773962804183725,
          5.405044119499593,
          -23.010792665870667,
          -4.75647501564201,
          -20.94284723100283,
          -6.633284338335571,
          8.126495124583613,
          -36.68137455942811,
          -26.859447512357733,
          -7.9383375500837445,
          -2.580126771599211,
          -35.465804092007076,
          -10.917007711462347,
          -6.633033337977849,
          -15.098061129392931,
          -68.88436426367845,
          -80.14560622784896
         ],
         "yaxis": "y"
        },
        {
         "hovertemplate": "MCT_CAT_CD=신변잡화<br>week=%{x}<br>diff=%{y}<extra></extra>",
         "legendgroup": "신변잡화",
         "line": {
          "color": "#EF553B",
          "dash": "solid"
         },
         "mode": "lines",
         "name": "신변잡화",
         "orientation": "v",
         "showlegend": true,
         "type": "scatter",
         "x": [
          5,
          6,
          7,
          8,
          9,
          10,
          11,
          12,
          13,
          14,
          15,
          16,
          17,
          18,
          19,
          20,
          21,
          22
         ],
         "xaxis": "x",
         "y": [
          7.1211609733677435,
          10.513724334413993,
          12.894577525328586,
          12.545460222052462,
          25.167395378382302,
          5.787628922167933,
          1.8265967089258979,
          19.146471829853688,
          12.23271847691371,
          9.556001170238439,
          8.485146554943732,
          1.84108924815731,
          12.645294581059453,
          6.779493517523441,
          11.150467993772551,
          8.972265509128214,
          -4.175108912025287,
          -16.039386145961664
         ],
         "yaxis": "y"
        },
        {
         "hovertemplate": "MCT_CAT_CD=연료판매<br>week=%{x}<br>diff=%{y}<extra></extra>",
         "legendgroup": "연료판매",
         "line": {
          "color": "#00cc96",
          "dash": "solid"
         },
         "mode": "lines",
         "name": "연료판매",
         "orientation": "v",
         "showlegend": true,
         "type": "scatter",
         "x": [
          5,
          6,
          7,
          8,
          9,
          10,
          11,
          12,
          13,
          14,
          15,
          16,
          17,
          18,
          19,
          20,
          21,
          22
         ],
         "xaxis": "x",
         "y": [
          0.7272280082990648,
          3.7777193206354838,
          3.4111572173308318,
          2.700154352021954,
          3.810701488482785,
          1.8631187617165992,
          2.2922454935103573,
          0.3387991904229324,
          1.435757618269193,
          0.16492322525506609,
          -0.3039216837509784,
          -1.6220445050433412,
          -1.6070568938087746,
          -3.0113814668459966,
          -4.936378690476282,
          -3.6710003460809304,
          -4.548054051606428,
          -3.92238134916591
         ],
         "yaxis": "y"
        },
        {
         "hovertemplate": "MCT_CAT_CD=요식업소<br>week=%{x}<br>diff=%{y}<extra></extra>",
         "legendgroup": "요식업소",
         "line": {
          "color": "#ab63fa",
          "dash": "solid"
         },
         "mode": "lines",
         "name": "요식업소",
         "orientation": "v",
         "showlegend": true,
         "type": "scatter",
         "x": [
          5,
          6,
          7,
          8,
          9,
          10,
          11,
          12,
          13,
          14,
          15,
          16,
          17,
          18,
          19,
          20,
          21,
          22
         ],
         "xaxis": "x",
         "y": [
          -0.9084812062863694,
          -0.6433732289690592,
          -0.8553413167408888,
          -1.1332265870709133,
          -1.7514507811507016,
          -1.2350948059731213,
          -1.2591486006118817,
          -1.537676940992899,
          -0.9711900389906596,
          -0.8110611122802247,
          -0.8856908192353394,
          -0.49401690524938324,
          -0.2493055631509815,
          -0.4723119683811703,
          -0.09746579146775858,
          -0.05065236688939123,
          0.09382427872683685,
          0.1707922693078654
         ],
         "yaxis": "y"
        },
        {
         "hovertemplate": "MCT_CAT_CD=유통업<br>week=%{x}<br>diff=%{y}<extra></extra>",
         "legendgroup": "유통업",
         "line": {
          "color": "#FFA15A",
          "dash": "solid"
         },
         "mode": "lines",
         "name": "유통업",
         "orientation": "v",
         "showlegend": true,
         "type": "scatter",
         "x": [
          5,
          6,
          7,
          8,
          9,
          10,
          11,
          12,
          13,
          14,
          15,
          16,
          17,
          18,
          19,
          20,
          21,
          22
         ],
         "xaxis": "x",
         "y": [
          -1.4771533534237058,
          -6.456969282542403,
          -0.21079482536774918,
          -0.1680298164481151,
          -2.3356883684996355,
          -1.4134269249694995,
          -0.2172062141743858,
          0.8071235707727382,
          0.2944189951437082,
          -0.332392699272571,
          1.4473749299967018,
          2.465703654366582,
          2.2854141801623307,
          3.5612293390177108,
          3.0550108578394983,
          3.5186556229067953,
          3.40579970592756,
          6.127721676993136
         ],
         "yaxis": "y"
        },
        {
         "hovertemplate": "MCT_CAT_CD=음료식품<br>week=%{x}<br>diff=%{y}<extra></extra>",
         "legendgroup": "음료식품",
         "line": {
          "color": "#19d3f3",
          "dash": "solid"
         },
         "mode": "lines",
         "name": "음료식품",
         "orientation": "v",
         "showlegend": true,
         "type": "scatter",
         "x": [
          5,
          6,
          7,
          8,
          9,
          10,
          11,
          12,
          13,
          14,
          15,
          16,
          17,
          18,
          19,
          20,
          21,
          22
         ],
         "xaxis": "x",
         "y": [
          -10.273894971874018,
          -0.9138165138281114,
          0.9053919042301146,
          0.8236131660256323,
          1.1672202601638766,
          1.5956576050755142,
          1.2755036761018452,
          1.6148930438187126,
          0.9709996124856026,
          1.7939833897297675,
          1.7068363539937668,
          1.1260442260700056,
          1.044390934698713,
          1.6531472502684004,
          2.067415122417847,
          2.751256105599479,
          3.6572752131487256,
          1.3194531532386602
         ],
         "yaxis": "y"
        },
        {
         "hovertemplate": "MCT_CAT_CD=의료기관<br>week=%{x}<br>diff=%{y}<extra></extra>",
         "legendgroup": "의료기관",
         "line": {
          "color": "#FF6692",
          "dash": "solid"
         },
         "mode": "lines",
         "name": "의료기관",
         "orientation": "v",
         "showlegend": true,
         "type": "scatter",
         "x": [
          5,
          6,
          7,
          8,
          9,
          10,
          11,
          12,
          13,
          14,
          15,
          16,
          17,
          18,
          19,
          20,
          21,
          22
         ],
         "xaxis": "x",
         "y": [
          -5.902540652273338,
          0.6258875848626388,
          -1.2882054884962386,
          -8.982395459107309,
          -0.38798624995095565,
          -2.5343061998073964,
          -11.048488102173835,
          -14.965762763805934,
          -17.4780282792303,
          2.092246554028385,
          -5.386666638412471,
          -7.287052695024357,
          -15.852297395660436,
          9.578541322279563,
          -4.26345998963135,
          -3.1757023498542267,
          -9.59678942325511,
          -15.184367280546951
         ],
         "yaxis": "y"
        },
        {
         "hovertemplate": "MCT_CAT_CD=의복<br>week=%{x}<br>diff=%{y}<extra></extra>",
         "legendgroup": "의복",
         "line": {
          "color": "#B6E880",
          "dash": "solid"
         },
         "mode": "lines",
         "name": "의복",
         "orientation": "v",
         "showlegend": true,
         "type": "scatter",
         "x": [
          5,
          6,
          7,
          8,
          9,
          10,
          11,
          12,
          13,
          14,
          15,
          16,
          17,
          18,
          19,
          20,
          21,
          22
         ],
         "xaxis": "x",
         "y": [
          11.477417803979591,
          12.77648094437378,
          3.5670416541428978,
          11.307007346154172,
          4.97414360521077,
          16.2788643966081,
          1.2464551890379596,
          6.790261993859488,
          3.9964849943277585,
          1.5836159200737896,
          -3.929007441377621,
          -1.9571394471942938,
          9.604853429803335,
          0.5254305830125929,
          1.956293876041478,
          3.600329943315913,
          2.226140319238162,
          -3.518383610844019
         ],
         "yaxis": "y"
        },
        {
         "hovertemplate": "MCT_CAT_CD=자동차정비<br>week=%{x}<br>diff=%{y}<extra></extra>",
         "legendgroup": "자동차정비",
         "line": {
          "color": "#FF97FF",
          "dash": "solid"
         },
         "mode": "lines",
         "name": "자동차정비",
         "orientation": "v",
         "showlegend": true,
         "type": "scatter",
         "x": [
          5,
          6,
          7,
          8,
          9,
          10,
          11,
          12,
          13,
          14,
          15,
          16,
          17,
          18,
          19,
          20,
          21,
          22
         ],
         "xaxis": "x",
         "y": [
          0.8477056551928328,
          6.608308997033422,
          3.591773956181873,
          5.1873947652888965,
          8.810866805105242,
          4.39760478966658,
          6.333529742117172,
          4.236203784711263,
          3.8856456512946593,
          5.104619837880502,
          6.706253191398549,
          3.322709378776585,
          3.7403407785150673,
          1.9746321414343413,
          4.534342776930396,
          3.37556141481992,
          4.660858141271062,
          4.055177733689806
         ],
         "yaxis": "y"
        },
        {
         "hovertemplate": "MCT_CAT_CD=자동차판매<br>week=%{x}<br>diff=%{y}<extra></extra>",
         "legendgroup": "자동차판매",
         "line": {
          "color": "#FECB52",
          "dash": "solid"
         },
         "mode": "lines",
         "name": "자동차판매",
         "orientation": "v",
         "showlegend": true,
         "type": "scatter",
         "x": [
          5,
          6,
          7,
          8,
          9,
          10,
          11,
          12,
          13,
          14,
          15,
          16,
          17,
          18,
          19,
          20,
          21,
          22
         ],
         "xaxis": "x",
         "y": [
          160.24461717144646,
          112.66056366680749,
          54.03678371391641,
          -116.38808680016061,
          336.7161300804879,
          83.93213589885801,
          20.336252285649863,
          -75.02603038751647,
          -66.37752753623187,
          -45.68410445145457,
          158.048536448072,
          -34.48208415979644,
          239.0777871294688,
          -43.317396096805,
          -214.85213276669418,
          -83.79288240495134,
          114.5825111683578,
          -14.835440779877644
         ],
         "yaxis": "y"
        },
        {
         "hovertemplate": "MCT_CAT_CD=전기<br>week=%{x}<br>diff=%{y}<extra></extra>",
         "legendgroup": "전기",
         "line": {
          "color": "#636efa",
          "dash": "solid"
         },
         "mode": "lines",
         "name": "전기",
         "orientation": "v",
         "showlegend": true,
         "type": "scatter",
         "x": [
          5,
          6,
          7,
          8,
          9,
          10,
          11,
          12,
          13,
          14,
          15,
          16,
          17,
          18,
          19,
          20,
          21,
          22
         ],
         "xaxis": "x",
         "y": [
          -49.48958333333334,
          58.65871509894279,
          -143.26952933485865,
          -60.672056039379015,
          -1.2130908532842284,
          41.06222101743923,
          41.76958525345623,
          18.499405808813037,
          36.0845238095238,
          -30.909751105829542,
          -10.100862068965512,
          -76.38536002899849,
          -31.092957465219996,
          -36.921348314606746,
          -146.49510643503794,
          -31.289153439153438,
          -104.82441860465119,
          -83.09263157894736
         ],
         "yaxis": "y"
        },
        {
         "hovertemplate": "MCT_CAT_CD=주방용구<br>week=%{x}<br>diff=%{y}<extra></extra>",
         "legendgroup": "주방용구",
         "line": {
          "color": "#EF553B",
          "dash": "solid"
         },
         "mode": "lines",
         "name": "주방용구",
         "orientation": "v",
         "showlegend": true,
         "type": "scatter",
         "x": [
          5,
          6,
          7,
          8,
          9,
          10,
          11,
          12,
          13,
          14,
          15,
          16,
          17,
          18,
          19,
          20,
          21,
          22
         ],
         "xaxis": "x",
         "y": [
          24.984178137062116,
          14.13764917730478,
          -13.70827198766267,
          -18.736432736188334,
          22.748660354268083,
          6.78943009698159,
          -24.684368994948386,
          -20.09161005065087,
          -31.074149232567976,
          -14.215205127711982,
          -9.97685937104606,
          -2.279807361850402,
          11.102298069963354,
          -75.0667236029856,
          -36.031144598452954,
          -121.6905972499516,
          -53.21510728587651,
          -53.035643815852296
         ],
         "yaxis": "y"
        },
        {
         "hovertemplate": "MCT_CAT_CD=직물<br>week=%{x}<br>diff=%{y}<extra></extra>",
         "legendgroup": "직물",
         "line": {
          "color": "#00cc96",
          "dash": "solid"
         },
         "mode": "lines",
         "name": "직물",
         "orientation": "v",
         "showlegend": true,
         "type": "scatter",
         "x": [
          5,
          6,
          7,
          8,
          9,
          10,
          11,
          12,
          13,
          14,
          15,
          16,
          17,
          18,
          19,
          20,
          21,
          22
         ],
         "xaxis": "x",
         "y": [
          -23.908836968550332,
          96.37419491974052,
          -20.725944386918812,
          21.940370492905814,
          255.72991642974068,
          -28.82268721757012,
          66.88150564362155,
          -13.666687012428355,
          -70.95486691663655,
          76.74804149182063,
          -84.09035675518103,
          -11.636721260260714,
          30.360403008626648,
          -34.022780256769465,
          -13.690570465707083,
          41.19222351136213,
          -21.551733482461515,
          -53.992362357012894
         ],
         "yaxis": "y"
        }
       ],
       "layout": {
        "legend": {
         "title": {
          "text": "MCT_CAT_CD"
         },
         "tracegroupgap": 0
        },
        "margin": {
         "t": 60
        },
        "template": {
         "data": {
          "bar": [
           {
            "error_x": {
             "color": "#2a3f5f"
            },
            "error_y": {
             "color": "#2a3f5f"
            },
            "marker": {
             "line": {
              "color": "#E5ECF6",
              "width": 0.5
             }
            },
            "type": "bar"
           }
          ],
          "barpolar": [
           {
            "marker": {
             "line": {
              "color": "#E5ECF6",
              "width": 0.5
             }
            },
            "type": "barpolar"
           }
          ],
          "carpet": [
           {
            "aaxis": {
             "endlinecolor": "#2a3f5f",
             "gridcolor": "white",
             "linecolor": "white",
             "minorgridcolor": "white",
             "startlinecolor": "#2a3f5f"
            },
            "baxis": {
             "endlinecolor": "#2a3f5f",
             "gridcolor": "white",
             "linecolor": "white",
             "minorgridcolor": "white",
             "startlinecolor": "#2a3f5f"
            },
            "type": "carpet"
           }
          ],
          "choropleth": [
           {
            "colorbar": {
             "outlinewidth": 0,
             "ticks": ""
            },
            "type": "choropleth"
           }
          ],
          "contour": [
           {
            "colorbar": {
             "outlinewidth": 0,
             "ticks": ""
            },
            "colorscale": [
             [
              0,
              "#0d0887"
             ],
             [
              0.1111111111111111,
              "#46039f"
             ],
             [
              0.2222222222222222,
              "#7201a8"
             ],
             [
              0.3333333333333333,
              "#9c179e"
             ],
             [
              0.4444444444444444,
              "#bd3786"
             ],
             [
              0.5555555555555556,
              "#d8576b"
             ],
             [
              0.6666666666666666,
              "#ed7953"
             ],
             [
              0.7777777777777778,
              "#fb9f3a"
             ],
             [
              0.8888888888888888,
              "#fdca26"
             ],
             [
              1,
              "#f0f921"
             ]
            ],
            "type": "contour"
           }
          ],
          "contourcarpet": [
           {
            "colorbar": {
             "outlinewidth": 0,
             "ticks": ""
            },
            "type": "contourcarpet"
           }
          ],
          "heatmap": [
           {
            "colorbar": {
             "outlinewidth": 0,
             "ticks": ""
            },
            "colorscale": [
             [
              0,
              "#0d0887"
             ],
             [
              0.1111111111111111,
              "#46039f"
             ],
             [
              0.2222222222222222,
              "#7201a8"
             ],
             [
              0.3333333333333333,
              "#9c179e"
             ],
             [
              0.4444444444444444,
              "#bd3786"
             ],
             [
              0.5555555555555556,
              "#d8576b"
             ],
             [
              0.6666666666666666,
              "#ed7953"
             ],
             [
              0.7777777777777778,
              "#fb9f3a"
             ],
             [
              0.8888888888888888,
              "#fdca26"
             ],
             [
              1,
              "#f0f921"
             ]
            ],
            "type": "heatmap"
           }
          ],
          "heatmapgl": [
           {
            "colorbar": {
             "outlinewidth": 0,
             "ticks": ""
            },
            "colorscale": [
             [
              0,
              "#0d0887"
             ],
             [
              0.1111111111111111,
              "#46039f"
             ],
             [
              0.2222222222222222,
              "#7201a8"
             ],
             [
              0.3333333333333333,
              "#9c179e"
             ],
             [
              0.4444444444444444,
              "#bd3786"
             ],
             [
              0.5555555555555556,
              "#d8576b"
             ],
             [
              0.6666666666666666,
              "#ed7953"
             ],
             [
              0.7777777777777778,
              "#fb9f3a"
             ],
             [
              0.8888888888888888,
              "#fdca26"
             ],
             [
              1,
              "#f0f921"
             ]
            ],
            "type": "heatmapgl"
           }
          ],
          "histogram": [
           {
            "marker": {
             "colorbar": {
              "outlinewidth": 0,
              "ticks": ""
             }
            },
            "type": "histogram"
           }
          ],
          "histogram2d": [
           {
            "colorbar": {
             "outlinewidth": 0,
             "ticks": ""
            },
            "colorscale": [
             [
              0,
              "#0d0887"
             ],
             [
              0.1111111111111111,
              "#46039f"
             ],
             [
              0.2222222222222222,
              "#7201a8"
             ],
             [
              0.3333333333333333,
              "#9c179e"
             ],
             [
              0.4444444444444444,
              "#bd3786"
             ],
             [
              0.5555555555555556,
              "#d8576b"
             ],
             [
              0.6666666666666666,
              "#ed7953"
             ],
             [
              0.7777777777777778,
              "#fb9f3a"
             ],
             [
              0.8888888888888888,
              "#fdca26"
             ],
             [
              1,
              "#f0f921"
             ]
            ],
            "type": "histogram2d"
           }
          ],
          "histogram2dcontour": [
           {
            "colorbar": {
             "outlinewidth": 0,
             "ticks": ""
            },
            "colorscale": [
             [
              0,
              "#0d0887"
             ],
             [
              0.1111111111111111,
              "#46039f"
             ],
             [
              0.2222222222222222,
              "#7201a8"
             ],
             [
              0.3333333333333333,
              "#9c179e"
             ],
             [
              0.4444444444444444,
              "#bd3786"
             ],
             [
              0.5555555555555556,
              "#d8576b"
             ],
             [
              0.6666666666666666,
              "#ed7953"
             ],
             [
              0.7777777777777778,
              "#fb9f3a"
             ],
             [
              0.8888888888888888,
              "#fdca26"
             ],
             [
              1,
              "#f0f921"
             ]
            ],
            "type": "histogram2dcontour"
           }
          ],
          "mesh3d": [
           {
            "colorbar": {
             "outlinewidth": 0,
             "ticks": ""
            },
            "type": "mesh3d"
           }
          ],
          "parcoords": [
           {
            "line": {
             "colorbar": {
              "outlinewidth": 0,
              "ticks": ""
             }
            },
            "type": "parcoords"
           }
          ],
          "pie": [
           {
            "automargin": true,
            "type": "pie"
           }
          ],
          "scatter": [
           {
            "marker": {
             "colorbar": {
              "outlinewidth": 0,
              "ticks": ""
             }
            },
            "type": "scatter"
           }
          ],
          "scatter3d": [
           {
            "line": {
             "colorbar": {
              "outlinewidth": 0,
              "ticks": ""
             }
            },
            "marker": {
             "colorbar": {
              "outlinewidth": 0,
              "ticks": ""
             }
            },
            "type": "scatter3d"
           }
          ],
          "scattercarpet": [
           {
            "marker": {
             "colorbar": {
              "outlinewidth": 0,
              "ticks": ""
             }
            },
            "type": "scattercarpet"
           }
          ],
          "scattergeo": [
           {
            "marker": {
             "colorbar": {
              "outlinewidth": 0,
              "ticks": ""
             }
            },
            "type": "scattergeo"
           }
          ],
          "scattergl": [
           {
            "marker": {
             "colorbar": {
              "outlinewidth": 0,
              "ticks": ""
             }
            },
            "type": "scattergl"
           }
          ],
          "scattermapbox": [
           {
            "marker": {
             "colorbar": {
              "outlinewidth": 0,
              "ticks": ""
             }
            },
            "type": "scattermapbox"
           }
          ],
          "scatterpolar": [
           {
            "marker": {
             "colorbar": {
              "outlinewidth": 0,
              "ticks": ""
             }
            },
            "type": "scatterpolar"
           }
          ],
          "scatterpolargl": [
           {
            "marker": {
             "colorbar": {
              "outlinewidth": 0,
              "ticks": ""
             }
            },
            "type": "scatterpolargl"
           }
          ],
          "scatterternary": [
           {
            "marker": {
             "colorbar": {
              "outlinewidth": 0,
              "ticks": ""
             }
            },
            "type": "scatterternary"
           }
          ],
          "surface": [
           {
            "colorbar": {
             "outlinewidth": 0,
             "ticks": ""
            },
            "colorscale": [
             [
              0,
              "#0d0887"
             ],
             [
              0.1111111111111111,
              "#46039f"
             ],
             [
              0.2222222222222222,
              "#7201a8"
             ],
             [
              0.3333333333333333,
              "#9c179e"
             ],
             [
              0.4444444444444444,
              "#bd3786"
             ],
             [
              0.5555555555555556,
              "#d8576b"
             ],
             [
              0.6666666666666666,
              "#ed7953"
             ],
             [
              0.7777777777777778,
              "#fb9f3a"
             ],
             [
              0.8888888888888888,
              "#fdca26"
             ],
             [
              1,
              "#f0f921"
             ]
            ],
            "type": "surface"
           }
          ],
          "table": [
           {
            "cells": {
             "fill": {
              "color": "#EBF0F8"
             },
             "line": {
              "color": "white"
             }
            },
            "header": {
             "fill": {
              "color": "#C8D4E3"
             },
             "line": {
              "color": "white"
             }
            },
            "type": "table"
           }
          ]
         },
         "layout": {
          "annotationdefaults": {
           "arrowcolor": "#2a3f5f",
           "arrowhead": 0,
           "arrowwidth": 1
          },
          "coloraxis": {
           "colorbar": {
            "outlinewidth": 0,
            "ticks": ""
           }
          },
          "colorscale": {
           "diverging": [
            [
             0,
             "#8e0152"
            ],
            [
             0.1,
             "#c51b7d"
            ],
            [
             0.2,
             "#de77ae"
            ],
            [
             0.3,
             "#f1b6da"
            ],
            [
             0.4,
             "#fde0ef"
            ],
            [
             0.5,
             "#f7f7f7"
            ],
            [
             0.6,
             "#e6f5d0"
            ],
            [
             0.7,
             "#b8e186"
            ],
            [
             0.8,
             "#7fbc41"
            ],
            [
             0.9,
             "#4d9221"
            ],
            [
             1,
             "#276419"
            ]
           ],
           "sequential": [
            [
             0,
             "#0d0887"
            ],
            [
             0.1111111111111111,
             "#46039f"
            ],
            [
             0.2222222222222222,
             "#7201a8"
            ],
            [
             0.3333333333333333,
             "#9c179e"
            ],
            [
             0.4444444444444444,
             "#bd3786"
            ],
            [
             0.5555555555555556,
             "#d8576b"
            ],
            [
             0.6666666666666666,
             "#ed7953"
            ],
            [
             0.7777777777777778,
             "#fb9f3a"
            ],
            [
             0.8888888888888888,
             "#fdca26"
            ],
            [
             1,
             "#f0f921"
            ]
           ],
           "sequentialminus": [
            [
             0,
             "#0d0887"
            ],
            [
             0.1111111111111111,
             "#46039f"
            ],
            [
             0.2222222222222222,
             "#7201a8"
            ],
            [
             0.3333333333333333,
             "#9c179e"
            ],
            [
             0.4444444444444444,
             "#bd3786"
            ],
            [
             0.5555555555555556,
             "#d8576b"
            ],
            [
             0.6666666666666666,
             "#ed7953"
            ],
            [
             0.7777777777777778,
             "#fb9f3a"
            ],
            [
             0.8888888888888888,
             "#fdca26"
            ],
            [
             1,
             "#f0f921"
            ]
           ]
          },
          "colorway": [
           "#636efa",
           "#EF553B",
           "#00cc96",
           "#ab63fa",
           "#FFA15A",
           "#19d3f3",
           "#FF6692",
           "#B6E880",
           "#FF97FF",
           "#FECB52"
          ],
          "font": {
           "color": "#2a3f5f"
          },
          "geo": {
           "bgcolor": "white",
           "lakecolor": "white",
           "landcolor": "#E5ECF6",
           "showlakes": true,
           "showland": true,
           "subunitcolor": "white"
          },
          "hoverlabel": {
           "align": "left"
          },
          "hovermode": "closest",
          "mapbox": {
           "style": "light"
          },
          "paper_bgcolor": "white",
          "plot_bgcolor": "#E5ECF6",
          "polar": {
           "angularaxis": {
            "gridcolor": "white",
            "linecolor": "white",
            "ticks": ""
           },
           "bgcolor": "#E5ECF6",
           "radialaxis": {
            "gridcolor": "white",
            "linecolor": "white",
            "ticks": ""
           }
          },
          "scene": {
           "xaxis": {
            "backgroundcolor": "#E5ECF6",
            "gridcolor": "white",
            "gridwidth": 2,
            "linecolor": "white",
            "showbackground": true,
            "ticks": "",
            "zerolinecolor": "white"
           },
           "yaxis": {
            "backgroundcolor": "#E5ECF6",
            "gridcolor": "white",
            "gridwidth": 2,
            "linecolor": "white",
            "showbackground": true,
            "ticks": "",
            "zerolinecolor": "white"
           },
           "zaxis": {
            "backgroundcolor": "#E5ECF6",
            "gridcolor": "white",
            "gridwidth": 2,
            "linecolor": "white",
            "showbackground": true,
            "ticks": "",
            "zerolinecolor": "white"
           }
          },
          "shapedefaults": {
           "line": {
            "color": "#2a3f5f"
           }
          },
          "ternary": {
           "aaxis": {
            "gridcolor": "white",
            "linecolor": "white",
            "ticks": ""
           },
           "baxis": {
            "gridcolor": "white",
            "linecolor": "white",
            "ticks": ""
           },
           "bgcolor": "#E5ECF6",
           "caxis": {
            "gridcolor": "white",
            "linecolor": "white",
            "ticks": ""
           }
          },
          "title": {
           "x": 0.05
          },
          "xaxis": {
           "automargin": true,
           "gridcolor": "white",
           "linecolor": "white",
           "ticks": "",
           "title": {
            "standoff": 15
           },
           "zerolinecolor": "white",
           "zerolinewidth": 2
          },
          "yaxis": {
           "automargin": true,
           "gridcolor": "white",
           "linecolor": "white",
           "ticks": "",
           "title": {
            "standoff": 15
           },
           "zerolinecolor": "white",
           "zerolinewidth": 2
          }
         }
        },
        "xaxis": {
         "anchor": "y",
         "domain": [
          0,
          1
         ],
         "tickmode": "array",
         "ticktext": [
          "12/23",
          "12/30",
          "1/6",
          "1/13",
          "1/20",
          "1/27",
          "2/3",
          "2/10",
          "2/17",
          "2/24",
          "3/2",
          "3/9",
          "3/16",
          "3/23",
          "3/30",
          "4/6",
          "4/13",
          "4/20",
          "4/27",
          "5/4",
          "5/11",
          "5/18",
          "5/25",
          "6/1",
          "6/8",
          "6/15",
          "6/22",
          "6/29",
          "7/6",
          "7/13",
          "7/20",
          "7/27",
          "8/3",
          "8/10",
          "8/17",
          "8/24",
          "8/31",
          "9/7",
          "9/14",
          "9/21",
          "9/28",
          "10/5",
          "10/12",
          "10/19",
          "10/26",
          "11/2",
          "11/9",
          "11/16",
          "11/23",
          "11/30",
          "12/7",
          "12/14"
         ],
         "tickvals": [
          0,
          1,
          2,
          3,
          4,
          5,
          6,
          7,
          8,
          9,
          10,
          11,
          12,
          13,
          14,
          15,
          16,
          17,
          18,
          19,
          20,
          21,
          22,
          23,
          24,
          25,
          26,
          27,
          28,
          29,
          30,
          31,
          32,
          33,
          34,
          35,
          36,
          37,
          38,
          39,
          40,
          41,
          42,
          43,
          44,
          45,
          46,
          47,
          48,
          49,
          50,
          51
         ],
         "title": {
          "text": "week"
         }
        },
        "yaxis": {
         "anchor": "x",
         "domain": [
          0,
          1
         ],
         "title": {
          "text": "diff"
         }
        }
       }
      },
      "text/html": [
       "<div>\n",
       "        \n",
       "        \n",
       "            <div id=\"a9971816-00c4-4ffd-bbf6-d76b059b88df\" class=\"plotly-graph-div\" style=\"height:525px; width:100%;\"></div>\n",
       "            <script type=\"text/javascript\">\n",
       "                require([\"plotly\"], function(Plotly) {\n",
       "                    window.PLOTLYENV=window.PLOTLYENV || {};\n",
       "                    \n",
       "                if (document.getElementById(\"a9971816-00c4-4ffd-bbf6-d76b059b88df\")) {\n",
       "                    Plotly.newPlot(\n",
       "                        'a9971816-00c4-4ffd-bbf6-d76b059b88df',\n",
       "                        [{\"hovertemplate\": \"MCT_CAT_CD=\\uac00\\uad6c<br>week=%{x}<br>diff=%{y}<extra></extra>\", \"legendgroup\": \"\\uac00\\uad6c\", \"line\": {\"color\": \"#636efa\", \"dash\": \"solid\"}, \"mode\": \"lines\", \"name\": \"\\uac00\\uad6c\", \"orientation\": \"v\", \"showlegend\": true, \"type\": \"scatter\", \"x\": [5, 6, 7, 8, 9, 10, 11, 12, 13, 14, 15, 16, 17, 18, 19, 20, 21, 22], \"xaxis\": \"x\", \"y\": [500.3645139627288, 296.11901792313375, 257.8139668131267, 127.51345234183913, 209.87913598083094, 273.36127370993495, 127.11138637324348, 9.882933846044295, 99.26395314559414, 229.81995766056082, -8.570628309640199, 299.33306070519814, 142.5892680880466, 121.15319435857242, 23.511412306858233, -24.74346885573243, -26.619042629567105, 38.066192050173754], \"yaxis\": \"y\"}, {\"hovertemplate\": \"MCT_CAT_CD=\\uac00\\uc804<br>week=%{x}<br>diff=%{y}<extra></extra>\", \"legendgroup\": \"\\uac00\\uc804\", \"line\": {\"color\": \"#EF553B\", \"dash\": \"solid\"}, \"mode\": \"lines\", \"name\": \"\\uac00\\uc804\", \"orientation\": \"v\", \"showlegend\": true, \"type\": \"scatter\", \"x\": [5, 6, 7, 8, 9, 10, 11, 12, 13, 14, 15, 16, 17, 18, 19, 20, 21, 22], \"xaxis\": \"x\", \"y\": [252.39887017578653, 60.711915066910166, 65.7065784783691, 46.613814779359075, 83.84744671539968, 60.0334955459017, -38.73168598507374, -34.5189691830756, 29.62000180428265, 5.006945362149963, -20.84851747398295, -44.498552504977056, -45.15190239982579, -14.72280310239205, -53.914797111297446, 13.806444764167622, -1.3390645218603936, -24.35528578323604], \"yaxis\": \"y\"}, {\"hovertemplate\": \"MCT_CAT_CD=\\uad11\\ud559\\uc81c\\ud488<br>week=%{x}<br>diff=%{y}<extra></extra>\", \"legendgroup\": \"\\uad11\\ud559\\uc81c\\ud488\", \"line\": {\"color\": \"#00cc96\", \"dash\": \"solid\"}, \"mode\": \"lines\", \"name\": \"\\uad11\\ud559\\uc81c\\ud488\", \"orientation\": \"v\", \"showlegend\": true, \"type\": \"scatter\", \"x\": [5, 6, 7, 8, 9, 10, 11, 12, 13, 14, 15, 16, 17, 18, 19, 20, 21, 22], \"xaxis\": \"x\", \"y\": [63.27553148204659, -8.99918705878973, 16.720478254671242, -20.557110343183986, 6.459179365724282, 29.252065263856657, -4.518766035883324, -2.363014797746466, -60.69040980187696, 42.054111421109056, 7.58017227674442, 28.279552038779585, -45.62494906399904, -36.670583846650544, 13.203930262580577, -0.048361206429959225, -54.80645395307338, -19.233829070925765], \"yaxis\": \"y\"}, {\"hovertemplate\": \"MCT_CAT_CD=\\ub808\\uc800\\uc5c5\\uc18c<br>week=%{x}<br>diff=%{y}<extra></extra>\", \"legendgroup\": \"\\ub808\\uc800\\uc5c5\\uc18c\", \"line\": {\"color\": \"#ab63fa\", \"dash\": \"solid\"}, \"mode\": \"lines\", \"name\": \"\\ub808\\uc800\\uc5c5\\uc18c\", \"orientation\": \"v\", \"showlegend\": true, \"type\": \"scatter\", \"x\": [5, 6, 7, 8, 9, 10, 11, 12, 13, 14, 15, 16, 17, 18, 19, 20, 21, 22], \"xaxis\": \"x\", \"y\": [-0.8979491236954456, 2.063392467008228, -2.220145868162156, -2.826030756430036, -3.278517371362005, -5.441202790812987, -3.812042926903148, -2.5370603652866883, -7.948258974814449, -9.047775026381549, -3.9615925033949733, -5.016219773920186, -0.7365662927087406, -1.2950055546966581, 1.7239506374175697, 1.4705945572929977, 0.6566522770463514, -0.6061443154308428], \"yaxis\": \"y\"}, {\"hovertemplate\": \"MCT_CAT_CD=\\ub808\\uc800\\uc6a9\\ud488<br>week=%{x}<br>diff=%{y}<extra></extra>\", \"legendgroup\": \"\\ub808\\uc800\\uc6a9\\ud488\", \"line\": {\"color\": \"#FFA15A\", \"dash\": \"solid\"}, \"mode\": \"lines\", \"name\": \"\\ub808\\uc800\\uc6a9\\ud488\", \"orientation\": \"v\", \"showlegend\": true, \"type\": \"scatter\", \"x\": [5, 6, 7, 8, 9, 10, 11, 12, 13, 14, 15, 16, 17, 18, 19, 20, 21, 22], \"xaxis\": \"x\", \"y\": [2.915461228348647, 4.574302953437396, 7.474167751536086, 6.184486555543231, 10.470767981878211, 12.010845338849819, 4.535919337688227, 3.765425084044523, 0.7164540329817726, 0.4055321154340561, 0.8979796284380797, -3.501971584939639, -3.4578803331147867, -1.554830967338404, 0.026254989248741367, 4.2554588559527105, 4.95658566945049, -1.6561810208521592], \"yaxis\": \"y\"}, {\"hovertemplate\": \"MCT_CAT_CD=\\ubb38\\ud654\\ucde8\\ubbf8<br>week=%{x}<br>diff=%{y}<extra></extra>\", \"legendgroup\": \"\\ubb38\\ud654\\ucde8\\ubbf8\", \"line\": {\"color\": \"#19d3f3\", \"dash\": \"solid\"}, \"mode\": \"lines\", \"name\": \"\\ubb38\\ud654\\ucde8\\ubbf8\", \"orientation\": \"v\", \"showlegend\": true, \"type\": \"scatter\", \"x\": [5, 6, 7, 8, 9, 10, 11, 12, 13, 14, 15, 16, 17, 18, 19, 20, 21, 22], \"xaxis\": \"x\", \"y\": [0.8067499566131353, 5.305777017038, -0.20194817167032397, -0.06170968021950074, -0.7232232332474169, 5.55930391018245, 2.255463109875098, 2.8714367447233116, 2.9681239642438833, 7.267183843813129, 10.077535046128965, 4.442570139601884, 10.9905080545919, 6.781626065873578, 4.237110875096928, 6.9212475224109475, 6.126185052980386, 5.839091440686861], \"yaxis\": \"y\"}, {\"hovertemplate\": \"MCT_CAT_CD=\\ubcf4\\uac74\\uc704\\uc0dd<br>week=%{x}<br>diff=%{y}<extra></extra>\", \"legendgroup\": \"\\ubcf4\\uac74\\uc704\\uc0dd\", \"line\": {\"color\": \"#FF6692\", \"dash\": \"solid\"}, \"mode\": \"lines\", \"name\": \"\\ubcf4\\uac74\\uc704\\uc0dd\", \"orientation\": \"v\", \"showlegend\": true, \"type\": \"scatter\", \"x\": [5, 6, 7, 8, 9, 10, 11, 12, 13, 14, 15, 16, 17, 18, 19, 20, 21, 22], \"xaxis\": \"x\", \"y\": [2.26825462818654, 14.02687959236431, 8.7852676120308, 3.1462737885512695, 10.566476976374588, 1.123601050333427, 3.825200445189303, 1.4593875478811142, -6.166091933724736, 8.948267059578846, 3.63000685995425, 2.018383617042524, 3.2027065158425216, 5.3323080528552325, 5.477477151491939, 8.575587961909378, 14.149652982025621, 2.2167573746793394], \"yaxis\": \"y\"}, {\"hovertemplate\": \"MCT_CAT_CD=\\uc0ac\\ubb34\\ud1b5\\uc2e0<br>week=%{x}<br>diff=%{y}<extra></extra>\", \"legendgroup\": \"\\uc0ac\\ubb34\\ud1b5\\uc2e0\", \"line\": {\"color\": \"#B6E880\", \"dash\": \"solid\"}, \"mode\": \"lines\", \"name\": \"\\uc0ac\\ubb34\\ud1b5\\uc2e0\", \"orientation\": \"v\", \"showlegend\": true, \"type\": \"scatter\", \"x\": [5, 6, 7, 8, 9, 10, 11, 12, 13, 14, 15, 16, 17, 18, 19, 20, 21, 22], \"xaxis\": \"x\", \"y\": [-5.08532720822007, 2.251368037517011, -5.542300739633955, -4.717716821731331, 0.16925400954308856, -2.6266912071973536, 0.0029037265413052182, -1.0303313003940833, -5.207005758491675, 2.164237784389478, 3.0316348256399284, 3.0987171002932588, 2.231095672124196, 4.525428972105601, 1.7852774001169287, 2.9896593199224117, 1.9021178404253032, 2.5302996521162378], \"yaxis\": \"y\"}, {\"hovertemplate\": \"MCT_CAT_CD=\\uc11c\\uc801\\ubb38\\uad6c<br>week=%{x}<br>diff=%{y}<extra></extra>\", \"legendgroup\": \"\\uc11c\\uc801\\ubb38\\uad6c\", \"line\": {\"color\": \"#FF97FF\", \"dash\": \"solid\"}, \"mode\": \"lines\", \"name\": \"\\uc11c\\uc801\\ubb38\\uad6c\", \"orientation\": \"v\", \"showlegend\": true, \"type\": \"scatter\", \"x\": [5, 6, 7, 8, 9, 10, 11, 12, 13, 14, 15, 16, 17, 18, 19, 20, 21, 22], \"xaxis\": \"x\", \"y\": [-5.2196864954298725, 6.502703345205163, 0.2377943276070802, -0.2681344894230122, 3.8747337808593407, 4.235549287036484, 8.233463132852822, 5.011943449730062, 3.912241250995706, 11.95477523153107, 7.005113156013284, 3.919492502505147, 5.702090395476198, 4.994035391760601, 6.210490228897076, 6.478007319162675, 3.8946679628180974, 2.3252928075253223], \"yaxis\": \"y\"}, {\"hovertemplate\": \"MCT_CAT_CD=\\uc218\\ub9ac\\uc11c\\ube44\\uc2a4<br>week=%{x}<br>diff=%{y}<extra></extra>\", \"legendgroup\": \"\\uc218\\ub9ac\\uc11c\\ube44\\uc2a4\", \"line\": {\"color\": \"#FECB52\", \"dash\": \"solid\"}, \"mode\": \"lines\", \"name\": \"\\uc218\\ub9ac\\uc11c\\ube44\\uc2a4\", \"orientation\": \"v\", \"showlegend\": true, \"type\": \"scatter\", \"x\": [5, 6, 7, 8, 9, 10, 11, 12, 13, 14, 15, 16, 17, 18, 19, 20, 21, 22], \"xaxis\": \"x\", \"y\": [-4.448124171763961, 8.272905442089403, -2.08208733788684, 3.6061613806059896, 6.65216875693255, 2.1921170083636525, 0.025405333665311503, 4.179462117150347, 4.871083727269962, 1.6744859318991523, 5.346002602629426, 6.172786081433745, 3.196564261168902, -0.4599188519625379, 4.121805707151548, 3.267586964345508, -1.7804006468290545, -2.970626398098215], \"yaxis\": \"y\"}, {\"hovertemplate\": \"MCT_CAT_CD=\\uc219\\ubc15<br>week=%{x}<br>diff=%{y}<extra></extra>\", \"legendgroup\": \"\\uc219\\ubc15\", \"line\": {\"color\": \"#636efa\", \"dash\": \"solid\"}, \"mode\": \"lines\", \"name\": \"\\uc219\\ubc15\", \"orientation\": \"v\", \"showlegend\": true, \"type\": \"scatter\", \"x\": [5, 6, 7, 8, 9, 10, 11, 12, 13, 14, 15, 16, 17, 18, 19, 20, 21, 22], \"xaxis\": \"x\", \"y\": [43.17516982408456, -6.773962804183725, 5.405044119499593, -23.010792665870667, -4.75647501564201, -20.94284723100283, -6.633284338335571, 8.126495124583613, -36.68137455942811, -26.859447512357733, -7.9383375500837445, -2.580126771599211, -35.465804092007076, -10.917007711462347, -6.633033337977849, -15.098061129392931, -68.88436426367845, -80.14560622784896], \"yaxis\": \"y\"}, {\"hovertemplate\": \"MCT_CAT_CD=\\uc2e0\\ubcc0\\uc7a1\\ud654<br>week=%{x}<br>diff=%{y}<extra></extra>\", \"legendgroup\": \"\\uc2e0\\ubcc0\\uc7a1\\ud654\", \"line\": {\"color\": \"#EF553B\", \"dash\": \"solid\"}, \"mode\": \"lines\", \"name\": \"\\uc2e0\\ubcc0\\uc7a1\\ud654\", \"orientation\": \"v\", \"showlegend\": true, \"type\": \"scatter\", \"x\": [5, 6, 7, 8, 9, 10, 11, 12, 13, 14, 15, 16, 17, 18, 19, 20, 21, 22], \"xaxis\": \"x\", \"y\": [7.1211609733677435, 10.513724334413993, 12.894577525328586, 12.545460222052462, 25.167395378382302, 5.787628922167933, 1.8265967089258979, 19.146471829853688, 12.23271847691371, 9.556001170238439, 8.485146554943732, 1.84108924815731, 12.645294581059453, 6.779493517523441, 11.150467993772551, 8.972265509128214, -4.175108912025287, -16.039386145961664], \"yaxis\": \"y\"}, {\"hovertemplate\": \"MCT_CAT_CD=\\uc5f0\\ub8cc\\ud310\\ub9e4<br>week=%{x}<br>diff=%{y}<extra></extra>\", \"legendgroup\": \"\\uc5f0\\ub8cc\\ud310\\ub9e4\", \"line\": {\"color\": \"#00cc96\", \"dash\": \"solid\"}, \"mode\": \"lines\", \"name\": \"\\uc5f0\\ub8cc\\ud310\\ub9e4\", \"orientation\": \"v\", \"showlegend\": true, \"type\": \"scatter\", \"x\": [5, 6, 7, 8, 9, 10, 11, 12, 13, 14, 15, 16, 17, 18, 19, 20, 21, 22], \"xaxis\": \"x\", \"y\": [0.7272280082990648, 3.7777193206354838, 3.4111572173308318, 2.700154352021954, 3.810701488482785, 1.8631187617165992, 2.2922454935103573, 0.3387991904229324, 1.435757618269193, 0.16492322525506609, -0.3039216837509784, -1.6220445050433412, -1.6070568938087746, -3.0113814668459966, -4.936378690476282, -3.6710003460809304, -4.548054051606428, -3.92238134916591], \"yaxis\": \"y\"}, {\"hovertemplate\": \"MCT_CAT_CD=\\uc694\\uc2dd\\uc5c5\\uc18c<br>week=%{x}<br>diff=%{y}<extra></extra>\", \"legendgroup\": \"\\uc694\\uc2dd\\uc5c5\\uc18c\", \"line\": {\"color\": \"#ab63fa\", \"dash\": \"solid\"}, \"mode\": \"lines\", \"name\": \"\\uc694\\uc2dd\\uc5c5\\uc18c\", \"orientation\": \"v\", \"showlegend\": true, \"type\": \"scatter\", \"x\": [5, 6, 7, 8, 9, 10, 11, 12, 13, 14, 15, 16, 17, 18, 19, 20, 21, 22], \"xaxis\": \"x\", \"y\": [-0.9084812062863694, -0.6433732289690592, -0.8553413167408888, -1.1332265870709133, -1.7514507811507016, -1.2350948059731213, -1.2591486006118817, -1.537676940992899, -0.9711900389906596, -0.8110611122802247, -0.8856908192353394, -0.49401690524938324, -0.2493055631509815, -0.4723119683811703, -0.09746579146775858, -0.05065236688939123, 0.09382427872683685, 0.1707922693078654], \"yaxis\": \"y\"}, {\"hovertemplate\": \"MCT_CAT_CD=\\uc720\\ud1b5\\uc5c5<br>week=%{x}<br>diff=%{y}<extra></extra>\", \"legendgroup\": \"\\uc720\\ud1b5\\uc5c5\", \"line\": {\"color\": \"#FFA15A\", \"dash\": \"solid\"}, \"mode\": \"lines\", \"name\": \"\\uc720\\ud1b5\\uc5c5\", \"orientation\": \"v\", \"showlegend\": true, \"type\": \"scatter\", \"x\": [5, 6, 7, 8, 9, 10, 11, 12, 13, 14, 15, 16, 17, 18, 19, 20, 21, 22], \"xaxis\": \"x\", \"y\": [-1.4771533534237058, -6.456969282542403, -0.21079482536774918, -0.1680298164481151, -2.3356883684996355, -1.4134269249694995, -0.2172062141743858, 0.8071235707727382, 0.2944189951437082, -0.332392699272571, 1.4473749299967018, 2.465703654366582, 2.2854141801623307, 3.5612293390177108, 3.0550108578394983, 3.5186556229067953, 3.40579970592756, 6.127721676993136], \"yaxis\": \"y\"}, {\"hovertemplate\": \"MCT_CAT_CD=\\uc74c\\ub8cc\\uc2dd\\ud488<br>week=%{x}<br>diff=%{y}<extra></extra>\", \"legendgroup\": \"\\uc74c\\ub8cc\\uc2dd\\ud488\", \"line\": {\"color\": \"#19d3f3\", \"dash\": \"solid\"}, \"mode\": \"lines\", \"name\": \"\\uc74c\\ub8cc\\uc2dd\\ud488\", \"orientation\": \"v\", \"showlegend\": true, \"type\": \"scatter\", \"x\": [5, 6, 7, 8, 9, 10, 11, 12, 13, 14, 15, 16, 17, 18, 19, 20, 21, 22], \"xaxis\": \"x\", \"y\": [-10.273894971874018, -0.9138165138281114, 0.9053919042301146, 0.8236131660256323, 1.1672202601638766, 1.5956576050755142, 1.2755036761018452, 1.6148930438187126, 0.9709996124856026, 1.7939833897297675, 1.7068363539937668, 1.1260442260700056, 1.044390934698713, 1.6531472502684004, 2.067415122417847, 2.751256105599479, 3.6572752131487256, 1.3194531532386602], \"yaxis\": \"y\"}, {\"hovertemplate\": \"MCT_CAT_CD=\\uc758\\ub8cc\\uae30\\uad00<br>week=%{x}<br>diff=%{y}<extra></extra>\", \"legendgroup\": \"\\uc758\\ub8cc\\uae30\\uad00\", \"line\": {\"color\": \"#FF6692\", \"dash\": \"solid\"}, \"mode\": \"lines\", \"name\": \"\\uc758\\ub8cc\\uae30\\uad00\", \"orientation\": \"v\", \"showlegend\": true, \"type\": \"scatter\", \"x\": [5, 6, 7, 8, 9, 10, 11, 12, 13, 14, 15, 16, 17, 18, 19, 20, 21, 22], \"xaxis\": \"x\", \"y\": [-5.902540652273338, 0.6258875848626388, -1.2882054884962386, -8.982395459107309, -0.38798624995095565, -2.5343061998073964, -11.048488102173835, -14.965762763805934, -17.4780282792303, 2.092246554028385, -5.386666638412471, -7.287052695024357, -15.852297395660436, 9.578541322279563, -4.26345998963135, -3.1757023498542267, -9.59678942325511, -15.184367280546951], \"yaxis\": \"y\"}, {\"hovertemplate\": \"MCT_CAT_CD=\\uc758\\ubcf5<br>week=%{x}<br>diff=%{y}<extra></extra>\", \"legendgroup\": \"\\uc758\\ubcf5\", \"line\": {\"color\": \"#B6E880\", \"dash\": \"solid\"}, \"mode\": \"lines\", \"name\": \"\\uc758\\ubcf5\", \"orientation\": \"v\", \"showlegend\": true, \"type\": \"scatter\", \"x\": [5, 6, 7, 8, 9, 10, 11, 12, 13, 14, 15, 16, 17, 18, 19, 20, 21, 22], \"xaxis\": \"x\", \"y\": [11.477417803979591, 12.77648094437378, 3.5670416541428978, 11.307007346154172, 4.97414360521077, 16.2788643966081, 1.2464551890379596, 6.790261993859488, 3.9964849943277585, 1.5836159200737896, -3.929007441377621, -1.9571394471942938, 9.604853429803335, 0.5254305830125929, 1.956293876041478, 3.600329943315913, 2.226140319238162, -3.518383610844019], \"yaxis\": \"y\"}, {\"hovertemplate\": \"MCT_CAT_CD=\\uc790\\ub3d9\\ucc28\\uc815\\ube44<br>week=%{x}<br>diff=%{y}<extra></extra>\", \"legendgroup\": \"\\uc790\\ub3d9\\ucc28\\uc815\\ube44\", \"line\": {\"color\": \"#FF97FF\", \"dash\": \"solid\"}, \"mode\": \"lines\", \"name\": \"\\uc790\\ub3d9\\ucc28\\uc815\\ube44\", \"orientation\": \"v\", \"showlegend\": true, \"type\": \"scatter\", \"x\": [5, 6, 7, 8, 9, 10, 11, 12, 13, 14, 15, 16, 17, 18, 19, 20, 21, 22], \"xaxis\": \"x\", \"y\": [0.8477056551928328, 6.608308997033422, 3.591773956181873, 5.1873947652888965, 8.810866805105242, 4.39760478966658, 6.333529742117172, 4.236203784711263, 3.8856456512946593, 5.104619837880502, 6.706253191398549, 3.322709378776585, 3.7403407785150673, 1.9746321414343413, 4.534342776930396, 3.37556141481992, 4.660858141271062, 4.055177733689806], \"yaxis\": \"y\"}, {\"hovertemplate\": \"MCT_CAT_CD=\\uc790\\ub3d9\\ucc28\\ud310\\ub9e4<br>week=%{x}<br>diff=%{y}<extra></extra>\", \"legendgroup\": \"\\uc790\\ub3d9\\ucc28\\ud310\\ub9e4\", \"line\": {\"color\": \"#FECB52\", \"dash\": \"solid\"}, \"mode\": \"lines\", \"name\": \"\\uc790\\ub3d9\\ucc28\\ud310\\ub9e4\", \"orientation\": \"v\", \"showlegend\": true, \"type\": \"scatter\", \"x\": [5, 6, 7, 8, 9, 10, 11, 12, 13, 14, 15, 16, 17, 18, 19, 20, 21, 22], \"xaxis\": \"x\", \"y\": [160.24461717144646, 112.66056366680749, 54.03678371391641, -116.38808680016061, 336.7161300804879, 83.93213589885801, 20.336252285649863, -75.02603038751647, -66.37752753623187, -45.68410445145457, 158.048536448072, -34.48208415979644, 239.0777871294688, -43.317396096805, -214.85213276669418, -83.79288240495134, 114.5825111683578, -14.835440779877644], \"yaxis\": \"y\"}, {\"hovertemplate\": \"MCT_CAT_CD=\\uc804\\uae30<br>week=%{x}<br>diff=%{y}<extra></extra>\", \"legendgroup\": \"\\uc804\\uae30\", \"line\": {\"color\": \"#636efa\", \"dash\": \"solid\"}, \"mode\": \"lines\", \"name\": \"\\uc804\\uae30\", \"orientation\": \"v\", \"showlegend\": true, \"type\": \"scatter\", \"x\": [5, 6, 7, 8, 9, 10, 11, 12, 13, 14, 15, 16, 17, 18, 19, 20, 21, 22], \"xaxis\": \"x\", \"y\": [-49.48958333333334, 58.65871509894279, -143.26952933485865, -60.672056039379015, -1.2130908532842284, 41.06222101743923, 41.76958525345623, 18.499405808813037, 36.0845238095238, -30.909751105829542, -10.100862068965512, -76.38536002899849, -31.092957465219996, -36.921348314606746, -146.49510643503794, -31.289153439153438, -104.82441860465119, -83.09263157894736], \"yaxis\": \"y\"}, {\"hovertemplate\": \"MCT_CAT_CD=\\uc8fc\\ubc29\\uc6a9\\uad6c<br>week=%{x}<br>diff=%{y}<extra></extra>\", \"legendgroup\": \"\\uc8fc\\ubc29\\uc6a9\\uad6c\", \"line\": {\"color\": \"#EF553B\", \"dash\": \"solid\"}, \"mode\": \"lines\", \"name\": \"\\uc8fc\\ubc29\\uc6a9\\uad6c\", \"orientation\": \"v\", \"showlegend\": true, \"type\": \"scatter\", \"x\": [5, 6, 7, 8, 9, 10, 11, 12, 13, 14, 15, 16, 17, 18, 19, 20, 21, 22], \"xaxis\": \"x\", \"y\": [24.984178137062116, 14.13764917730478, -13.70827198766267, -18.736432736188334, 22.748660354268083, 6.78943009698159, -24.684368994948386, -20.09161005065087, -31.074149232567976, -14.215205127711982, -9.97685937104606, -2.279807361850402, 11.102298069963354, -75.0667236029856, -36.031144598452954, -121.6905972499516, -53.21510728587651, -53.035643815852296], \"yaxis\": \"y\"}, {\"hovertemplate\": \"MCT_CAT_CD=\\uc9c1\\ubb3c<br>week=%{x}<br>diff=%{y}<extra></extra>\", \"legendgroup\": \"\\uc9c1\\ubb3c\", \"line\": {\"color\": \"#00cc96\", \"dash\": \"solid\"}, \"mode\": \"lines\", \"name\": \"\\uc9c1\\ubb3c\", \"orientation\": \"v\", \"showlegend\": true, \"type\": \"scatter\", \"x\": [5, 6, 7, 8, 9, 10, 11, 12, 13, 14, 15, 16, 17, 18, 19, 20, 21, 22], \"xaxis\": \"x\", \"y\": [-23.908836968550332, 96.37419491974052, -20.725944386918812, 21.940370492905814, 255.72991642974068, -28.82268721757012, 66.88150564362155, -13.666687012428355, -70.95486691663655, 76.74804149182063, -84.09035675518103, -11.636721260260714, 30.360403008626648, -34.022780256769465, -13.690570465707083, 41.19222351136213, -21.551733482461515, -53.992362357012894], \"yaxis\": \"y\"}],\n",
       "                        {\"legend\": {\"title\": {\"text\": \"MCT_CAT_CD\"}, \"tracegroupgap\": 0}, \"margin\": {\"t\": 60}, \"template\": {\"data\": {\"bar\": [{\"error_x\": {\"color\": \"#2a3f5f\"}, \"error_y\": {\"color\": \"#2a3f5f\"}, \"marker\": {\"line\": {\"color\": \"#E5ECF6\", \"width\": 0.5}}, \"type\": \"bar\"}], \"barpolar\": [{\"marker\": {\"line\": {\"color\": \"#E5ECF6\", \"width\": 0.5}}, \"type\": \"barpolar\"}], \"carpet\": [{\"aaxis\": {\"endlinecolor\": \"#2a3f5f\", \"gridcolor\": \"white\", \"linecolor\": \"white\", \"minorgridcolor\": \"white\", \"startlinecolor\": \"#2a3f5f\"}, \"baxis\": {\"endlinecolor\": \"#2a3f5f\", \"gridcolor\": \"white\", \"linecolor\": \"white\", \"minorgridcolor\": \"white\", \"startlinecolor\": \"#2a3f5f\"}, \"type\": \"carpet\"}], \"choropleth\": [{\"colorbar\": {\"outlinewidth\": 0, \"ticks\": \"\"}, \"type\": \"choropleth\"}], \"contour\": [{\"colorbar\": {\"outlinewidth\": 0, \"ticks\": \"\"}, \"colorscale\": [[0.0, \"#0d0887\"], [0.1111111111111111, \"#46039f\"], [0.2222222222222222, \"#7201a8\"], [0.3333333333333333, \"#9c179e\"], [0.4444444444444444, \"#bd3786\"], [0.5555555555555556, \"#d8576b\"], [0.6666666666666666, \"#ed7953\"], [0.7777777777777778, \"#fb9f3a\"], [0.8888888888888888, \"#fdca26\"], [1.0, \"#f0f921\"]], \"type\": \"contour\"}], \"contourcarpet\": [{\"colorbar\": {\"outlinewidth\": 0, \"ticks\": \"\"}, \"type\": \"contourcarpet\"}], \"heatmap\": [{\"colorbar\": {\"outlinewidth\": 0, \"ticks\": \"\"}, \"colorscale\": [[0.0, \"#0d0887\"], [0.1111111111111111, \"#46039f\"], [0.2222222222222222, \"#7201a8\"], [0.3333333333333333, \"#9c179e\"], [0.4444444444444444, \"#bd3786\"], [0.5555555555555556, \"#d8576b\"], [0.6666666666666666, \"#ed7953\"], [0.7777777777777778, \"#fb9f3a\"], [0.8888888888888888, \"#fdca26\"], [1.0, \"#f0f921\"]], \"type\": \"heatmap\"}], \"heatmapgl\": [{\"colorbar\": {\"outlinewidth\": 0, \"ticks\": \"\"}, \"colorscale\": [[0.0, \"#0d0887\"], [0.1111111111111111, \"#46039f\"], [0.2222222222222222, \"#7201a8\"], [0.3333333333333333, \"#9c179e\"], [0.4444444444444444, \"#bd3786\"], [0.5555555555555556, \"#d8576b\"], [0.6666666666666666, \"#ed7953\"], [0.7777777777777778, \"#fb9f3a\"], [0.8888888888888888, \"#fdca26\"], [1.0, \"#f0f921\"]], \"type\": \"heatmapgl\"}], \"histogram\": [{\"marker\": {\"colorbar\": {\"outlinewidth\": 0, \"ticks\": \"\"}}, \"type\": \"histogram\"}], \"histogram2d\": [{\"colorbar\": {\"outlinewidth\": 0, \"ticks\": \"\"}, \"colorscale\": [[0.0, \"#0d0887\"], [0.1111111111111111, \"#46039f\"], [0.2222222222222222, \"#7201a8\"], [0.3333333333333333, \"#9c179e\"], [0.4444444444444444, \"#bd3786\"], [0.5555555555555556, \"#d8576b\"], [0.6666666666666666, \"#ed7953\"], [0.7777777777777778, \"#fb9f3a\"], [0.8888888888888888, \"#fdca26\"], [1.0, \"#f0f921\"]], \"type\": \"histogram2d\"}], \"histogram2dcontour\": [{\"colorbar\": {\"outlinewidth\": 0, \"ticks\": \"\"}, \"colorscale\": [[0.0, \"#0d0887\"], [0.1111111111111111, \"#46039f\"], [0.2222222222222222, \"#7201a8\"], [0.3333333333333333, \"#9c179e\"], [0.4444444444444444, \"#bd3786\"], [0.5555555555555556, \"#d8576b\"], [0.6666666666666666, \"#ed7953\"], [0.7777777777777778, \"#fb9f3a\"], [0.8888888888888888, \"#fdca26\"], [1.0, \"#f0f921\"]], \"type\": \"histogram2dcontour\"}], \"mesh3d\": [{\"colorbar\": {\"outlinewidth\": 0, \"ticks\": \"\"}, \"type\": \"mesh3d\"}], \"parcoords\": [{\"line\": {\"colorbar\": {\"outlinewidth\": 0, \"ticks\": \"\"}}, \"type\": \"parcoords\"}], \"pie\": [{\"automargin\": true, \"type\": \"pie\"}], \"scatter\": [{\"marker\": {\"colorbar\": {\"outlinewidth\": 0, \"ticks\": \"\"}}, \"type\": \"scatter\"}], \"scatter3d\": [{\"line\": {\"colorbar\": {\"outlinewidth\": 0, \"ticks\": \"\"}}, \"marker\": {\"colorbar\": {\"outlinewidth\": 0, \"ticks\": \"\"}}, \"type\": \"scatter3d\"}], \"scattercarpet\": [{\"marker\": {\"colorbar\": {\"outlinewidth\": 0, \"ticks\": \"\"}}, \"type\": \"scattercarpet\"}], \"scattergeo\": [{\"marker\": {\"colorbar\": {\"outlinewidth\": 0, \"ticks\": \"\"}}, \"type\": \"scattergeo\"}], \"scattergl\": [{\"marker\": {\"colorbar\": {\"outlinewidth\": 0, \"ticks\": \"\"}}, \"type\": \"scattergl\"}], \"scattermapbox\": [{\"marker\": {\"colorbar\": {\"outlinewidth\": 0, \"ticks\": \"\"}}, \"type\": \"scattermapbox\"}], \"scatterpolar\": [{\"marker\": {\"colorbar\": {\"outlinewidth\": 0, \"ticks\": \"\"}}, \"type\": \"scatterpolar\"}], \"scatterpolargl\": [{\"marker\": {\"colorbar\": {\"outlinewidth\": 0, \"ticks\": \"\"}}, \"type\": \"scatterpolargl\"}], \"scatterternary\": [{\"marker\": {\"colorbar\": {\"outlinewidth\": 0, \"ticks\": \"\"}}, \"type\": \"scatterternary\"}], \"surface\": [{\"colorbar\": {\"outlinewidth\": 0, \"ticks\": \"\"}, \"colorscale\": [[0.0, \"#0d0887\"], [0.1111111111111111, \"#46039f\"], [0.2222222222222222, \"#7201a8\"], [0.3333333333333333, \"#9c179e\"], [0.4444444444444444, \"#bd3786\"], [0.5555555555555556, \"#d8576b\"], [0.6666666666666666, \"#ed7953\"], [0.7777777777777778, \"#fb9f3a\"], [0.8888888888888888, \"#fdca26\"], [1.0, \"#f0f921\"]], \"type\": \"surface\"}], \"table\": [{\"cells\": {\"fill\": {\"color\": \"#EBF0F8\"}, \"line\": {\"color\": \"white\"}}, \"header\": {\"fill\": {\"color\": \"#C8D4E3\"}, \"line\": {\"color\": \"white\"}}, \"type\": \"table\"}]}, \"layout\": {\"annotationdefaults\": {\"arrowcolor\": \"#2a3f5f\", \"arrowhead\": 0, \"arrowwidth\": 1}, \"coloraxis\": {\"colorbar\": {\"outlinewidth\": 0, \"ticks\": \"\"}}, \"colorscale\": {\"diverging\": [[0, \"#8e0152\"], [0.1, \"#c51b7d\"], [0.2, \"#de77ae\"], [0.3, \"#f1b6da\"], [0.4, \"#fde0ef\"], [0.5, \"#f7f7f7\"], [0.6, \"#e6f5d0\"], [0.7, \"#b8e186\"], [0.8, \"#7fbc41\"], [0.9, \"#4d9221\"], [1, \"#276419\"]], \"sequential\": [[0.0, \"#0d0887\"], [0.1111111111111111, \"#46039f\"], [0.2222222222222222, \"#7201a8\"], [0.3333333333333333, \"#9c179e\"], [0.4444444444444444, \"#bd3786\"], [0.5555555555555556, \"#d8576b\"], [0.6666666666666666, \"#ed7953\"], [0.7777777777777778, \"#fb9f3a\"], [0.8888888888888888, \"#fdca26\"], [1.0, \"#f0f921\"]], \"sequentialminus\": [[0.0, \"#0d0887\"], [0.1111111111111111, \"#46039f\"], [0.2222222222222222, \"#7201a8\"], [0.3333333333333333, \"#9c179e\"], [0.4444444444444444, \"#bd3786\"], [0.5555555555555556, \"#d8576b\"], [0.6666666666666666, \"#ed7953\"], [0.7777777777777778, \"#fb9f3a\"], [0.8888888888888888, \"#fdca26\"], [1.0, \"#f0f921\"]]}, \"colorway\": [\"#636efa\", \"#EF553B\", \"#00cc96\", \"#ab63fa\", \"#FFA15A\", \"#19d3f3\", \"#FF6692\", \"#B6E880\", \"#FF97FF\", \"#FECB52\"], \"font\": {\"color\": \"#2a3f5f\"}, \"geo\": {\"bgcolor\": \"white\", \"lakecolor\": \"white\", \"landcolor\": \"#E5ECF6\", \"showlakes\": true, \"showland\": true, \"subunitcolor\": \"white\"}, \"hoverlabel\": {\"align\": \"left\"}, \"hovermode\": \"closest\", \"mapbox\": {\"style\": \"light\"}, \"paper_bgcolor\": \"white\", \"plot_bgcolor\": \"#E5ECF6\", \"polar\": {\"angularaxis\": {\"gridcolor\": \"white\", \"linecolor\": \"white\", \"ticks\": \"\"}, \"bgcolor\": \"#E5ECF6\", \"radialaxis\": {\"gridcolor\": \"white\", \"linecolor\": \"white\", \"ticks\": \"\"}}, \"scene\": {\"xaxis\": {\"backgroundcolor\": \"#E5ECF6\", \"gridcolor\": \"white\", \"gridwidth\": 2, \"linecolor\": \"white\", \"showbackground\": true, \"ticks\": \"\", \"zerolinecolor\": \"white\"}, \"yaxis\": {\"backgroundcolor\": \"#E5ECF6\", \"gridcolor\": \"white\", \"gridwidth\": 2, \"linecolor\": \"white\", \"showbackground\": true, \"ticks\": \"\", \"zerolinecolor\": \"white\"}, \"zaxis\": {\"backgroundcolor\": \"#E5ECF6\", \"gridcolor\": \"white\", \"gridwidth\": 2, \"linecolor\": \"white\", \"showbackground\": true, \"ticks\": \"\", \"zerolinecolor\": \"white\"}}, \"shapedefaults\": {\"line\": {\"color\": \"#2a3f5f\"}}, \"ternary\": {\"aaxis\": {\"gridcolor\": \"white\", \"linecolor\": \"white\", \"ticks\": \"\"}, \"baxis\": {\"gridcolor\": \"white\", \"linecolor\": \"white\", \"ticks\": \"\"}, \"bgcolor\": \"#E5ECF6\", \"caxis\": {\"gridcolor\": \"white\", \"linecolor\": \"white\", \"ticks\": \"\"}}, \"title\": {\"x\": 0.05}, \"xaxis\": {\"automargin\": true, \"gridcolor\": \"white\", \"linecolor\": \"white\", \"ticks\": \"\", \"title\": {\"standoff\": 15}, \"zerolinecolor\": \"white\", \"zerolinewidth\": 2}, \"yaxis\": {\"automargin\": true, \"gridcolor\": \"white\", \"linecolor\": \"white\", \"ticks\": \"\", \"title\": {\"standoff\": 15}, \"zerolinecolor\": \"white\", \"zerolinewidth\": 2}}}, \"xaxis\": {\"anchor\": \"y\", \"domain\": [0.0, 1.0], \"tickmode\": \"array\", \"ticktext\": [\"12/23\", \"12/30\", \"1/6\", \"1/13\", \"1/20\", \"1/27\", \"2/3\", \"2/10\", \"2/17\", \"2/24\", \"3/2\", \"3/9\", \"3/16\", \"3/23\", \"3/30\", \"4/6\", \"4/13\", \"4/20\", \"4/27\", \"5/4\", \"5/11\", \"5/18\", \"5/25\", \"6/1\", \"6/8\", \"6/15\", \"6/22\", \"6/29\", \"7/6\", \"7/13\", \"7/20\", \"7/27\", \"8/3\", \"8/10\", \"8/17\", \"8/24\", \"8/31\", \"9/7\", \"9/14\", \"9/21\", \"9/28\", \"10/5\", \"10/12\", \"10/19\", \"10/26\", \"11/2\", \"11/9\", \"11/16\", \"11/23\", \"11/30\", \"12/7\", \"12/14\"], \"tickvals\": [0, 1, 2, 3, 4, 5, 6, 7, 8, 9, 10, 11, 12, 13, 14, 15, 16, 17, 18, 19, 20, 21, 22, 23, 24, 25, 26, 27, 28, 29, 30, 31, 32, 33, 34, 35, 36, 37, 38, 39, 40, 41, 42, 43, 44, 45, 46, 47, 48, 49, 50, 51], \"title\": {\"text\": \"week\"}}, \"yaxis\": {\"anchor\": \"x\", \"domain\": [0.0, 1.0], \"title\": {\"text\": \"diff\"}}},\n",
       "                        {\"responsive\": true}\n",
       "                    ).then(function(){\n",
       "                            \n",
       "var gd = document.getElementById('a9971816-00c4-4ffd-bbf6-d76b059b88df');\n",
       "var x = new MutationObserver(function (mutations, observer) {{\n",
       "        var display = window.getComputedStyle(gd).display;\n",
       "        if (!display || display === 'none') {{\n",
       "            console.log([gd, 'removed!']);\n",
       "            Plotly.purge(gd);\n",
       "            observer.disconnect();\n",
       "        }}\n",
       "}});\n",
       "\n",
       "// Listen for the removal of the full notebook cells\n",
       "var notebookContainer = gd.closest('#notebook-container');\n",
       "if (notebookContainer) {{\n",
       "    x.observe(notebookContainer, {childList: true});\n",
       "}}\n",
       "\n",
       "// Listen for the clearing of the current output cell\n",
       "var outputEl = gd.closest('.output');\n",
       "if (outputEl) {{\n",
       "    x.observe(outputEl, {childList: true});\n",
       "}}\n",
       "\n",
       "                        })\n",
       "                };\n",
       "                });\n",
       "            </script>\n",
       "        </div>"
      ]
     },
     "metadata": {},
     "output_type": "display_data"
    }
   ],
   "source": [
    "fig = px.line(seoul_cnt_diff2, x=\"week\", y=\"diff\", color='MCT_CAT_CD')\n",
    "\n",
    "fig.update_layout(xaxis=dict(tickmode='array', tickvals=np.arange(0, len(test2)), ticktext=test2))\n",
    "fig.show()"
   ]
  },
  {
   "cell_type": "code",
   "execution_count": 31,
   "metadata": {},
   "outputs": [
    {
     "data": {
      "application/vnd.plotly.v1+json": {
       "config": {
        "plotlyServerURL": "https://plot.ly"
       },
       "data": [
        {
         "hovertemplate": "MCT_CAT_CD=가구<br>week=%{x}<br>diff=%{y}<extra></extra>",
         "legendgroup": "가구",
         "line": {
          "color": "#636efa",
          "dash": "solid"
         },
         "mode": "lines",
         "name": "가구",
         "orientation": "v",
         "showlegend": true,
         "type": "scatter",
         "x": [
          5,
          6,
          7,
          8,
          9,
          10,
          11,
          12,
          13,
          14,
          15,
          16,
          17,
          18,
          19,
          20,
          21,
          22
         ],
         "xaxis": "x",
         "y": [
          427.85160031225604,
          300.0121428571428,
          106.4212445044696,
          333.8483817113553,
          132.5145005370569,
          271.028697571744,
          -65.20797554286742,
          -223.22405686446223,
          98.85861204013372,
          209.38100053937436,
          84.16186804606679,
          63.40983904009363,
          486.5383230215163,
          175.77963386727686,
          -43.8454155524372,
          190.55030303030304,
          -47.79912352661802,
          247.10522597260518
         ],
         "yaxis": "y"
        },
        {
         "hovertemplate": "MCT_CAT_CD=가전<br>week=%{x}<br>diff=%{y}<extra></extra>",
         "legendgroup": "가전",
         "line": {
          "color": "#EF553B",
          "dash": "solid"
         },
         "mode": "lines",
         "name": "가전",
         "orientation": "v",
         "showlegend": true,
         "type": "scatter",
         "x": [
          5,
          6,
          7,
          8,
          9,
          10,
          11,
          12,
          13,
          14,
          15,
          16,
          17,
          18,
          19,
          20,
          21,
          22
         ],
         "xaxis": "x",
         "y": [
          -38.12492373398413,
          -6.641512938199696,
          13.553741584556292,
          16.373343762080708,
          -52.87491460319637,
          -62.68534930329781,
          -9.603334132929177,
          137.40095928063053,
          79.47331286419274,
          85.09903219282387,
          118.83773527382425,
          89.83858800355,
          176.2305855881003,
          297.99040063602524,
          142.80879274013796,
          83.907346629639,
          99.64205673758863,
          130.80604267527346
         ],
         "yaxis": "y"
        },
        {
         "hovertemplate": "MCT_CAT_CD=광학제품<br>week=%{x}<br>diff=%{y}<extra></extra>",
         "legendgroup": "광학제품",
         "line": {
          "color": "#00cc96",
          "dash": "solid"
         },
         "mode": "lines",
         "name": "광학제품",
         "orientation": "v",
         "showlegend": true,
         "type": "scatter",
         "x": [
          5,
          6,
          7,
          8,
          9,
          10,
          11,
          12,
          13,
          14,
          15,
          16,
          17,
          18,
          19,
          20,
          21,
          22
         ],
         "xaxis": "x",
         "y": [
          42.769718506131554,
          -47.748909078394945,
          -0.058574903883467755,
          9.754132781224357,
          41.23374883860666,
          -1.0587588170581768,
          -13.383243044246505,
          -11.862078743105052,
          -5.423323051587587,
          -3.5975724676152083,
          10.253675563777314,
          31.839619661499178,
          32.836426330200844,
          8.412413111626009,
          13.112953991820305,
          39.03917326297274,
          7.956734479627741,
          28.63397470559962
         ],
         "yaxis": "y"
        },
        {
         "hovertemplate": "MCT_CAT_CD=레저업소<br>week=%{x}<br>diff=%{y}<extra></extra>",
         "legendgroup": "레저업소",
         "line": {
          "color": "#ab63fa",
          "dash": "solid"
         },
         "mode": "lines",
         "name": "레저업소",
         "orientation": "v",
         "showlegend": true,
         "type": "scatter",
         "x": [
          5,
          6,
          7,
          8,
          9,
          10,
          11,
          12,
          13,
          14,
          15,
          16,
          17,
          18,
          19,
          20,
          21,
          22
         ],
         "xaxis": "x",
         "y": [
          0.4908145149141525,
          4.837844871299662,
          -7.327957664639527,
          -4.78201290804714,
          -12.907934089269478,
          -15.482198795061468,
          -10.978787421556493,
          -4.603997812493411,
          -13.30215722388996,
          -9.459385747267504,
          -6.956000299618356,
          -9.077746712277008,
          -2.392999034462324,
          -3.9934340449880565,
          4.3456411071808425,
          4.340735668450833,
          1.7300744916553121,
          2.563066113274523
         ],
         "yaxis": "y"
        },
        {
         "hovertemplate": "MCT_CAT_CD=레저용품<br>week=%{x}<br>diff=%{y}<extra></extra>",
         "legendgroup": "레저용품",
         "line": {
          "color": "#FFA15A",
          "dash": "solid"
         },
         "mode": "lines",
         "name": "레저용품",
         "orientation": "v",
         "showlegend": true,
         "type": "scatter",
         "x": [
          5,
          6,
          7,
          8,
          9,
          10,
          11,
          12,
          13,
          14,
          15,
          16,
          17,
          18,
          19,
          20,
          21,
          22
         ],
         "xaxis": "x",
         "y": [
          -15.300785621204227,
          -1.2898186515621148,
          -1.6692313317177678,
          14.900666411937351,
          36.83964830873778,
          23.90498713092893,
          37.57335962980011,
          7.025570883780659,
          40.118784340580405,
          25.7638385044244,
          21.6167761265596,
          12.542234661248258,
          11.994457548539629,
          11.752264623000727,
          15.680571157371446,
          13.43958233793009,
          20.84484371775713,
          13.086197548610201
         ],
         "yaxis": "y"
        },
        {
         "hovertemplate": "MCT_CAT_CD=문화취미<br>week=%{x}<br>diff=%{y}<extra></extra>",
         "legendgroup": "문화취미",
         "line": {
          "color": "#19d3f3",
          "dash": "solid"
         },
         "mode": "lines",
         "name": "문화취미",
         "orientation": "v",
         "showlegend": true,
         "type": "scatter",
         "x": [
          5,
          6,
          7,
          8,
          9,
          10,
          11,
          12,
          13,
          14,
          15,
          16,
          17,
          18,
          19,
          20,
          21,
          22
         ],
         "xaxis": "x",
         "y": [
          3.758807724330598,
          10.844745537166947,
          -3.5430291702233454,
          13.800764033987225,
          18.55684036073584,
          17.046649051305977,
          10.500406517421254,
          23.706262299111927,
          20.640184593778372,
          15.994835955931869,
          12.007512540609753,
          7.130822574364203,
          19.952477244733917,
          15.422687191093676,
          4.266127669856509,
          13.469535137310046,
          4.147295433118899,
          9.319304032327175
         ],
         "yaxis": "y"
        },
        {
         "hovertemplate": "MCT_CAT_CD=보건위생<br>week=%{x}<br>diff=%{y}<extra></extra>",
         "legendgroup": "보건위생",
         "line": {
          "color": "#FF6692",
          "dash": "solid"
         },
         "mode": "lines",
         "name": "보건위생",
         "orientation": "v",
         "showlegend": true,
         "type": "scatter",
         "x": [
          5,
          6,
          7,
          8,
          9,
          10,
          11,
          12,
          13,
          14,
          15,
          16,
          17,
          18,
          19,
          20,
          21,
          22
         ],
         "xaxis": "x",
         "y": [
          5.8736071976906175,
          14.425259432593563,
          1.8502302321046145,
          0.9629475886565828,
          27.499161178058614,
          7.214929123408638,
          8.74526920399343,
          7.167537938495258,
          2.8243277495207124,
          9.786472474764857,
          6.844480583885776,
          8.30254757481616,
          5.193000317939841,
          9.989675414973583,
          10.361884874148231,
          15.223717459646267,
          14.656711715704354,
          0.5281595308245031
         ],
         "yaxis": "y"
        },
        {
         "hovertemplate": "MCT_CAT_CD=사무통신<br>week=%{x}<br>diff=%{y}<extra></extra>",
         "legendgroup": "사무통신",
         "line": {
          "color": "#B6E880",
          "dash": "solid"
         },
         "mode": "lines",
         "name": "사무통신",
         "orientation": "v",
         "showlegend": true,
         "type": "scatter",
         "x": [
          5,
          6,
          7,
          8,
          9,
          10,
          11,
          12,
          13,
          14,
          15,
          16,
          17,
          18,
          19,
          20,
          21,
          22
         ],
         "xaxis": "x",
         "y": [
          -0.3772749018975379,
          -0.36851854418585095,
          -0.09623580618113703,
          -0.22937695143928316,
          0.08258726892513035,
          -0.027552667041511825,
          0.06251350841016912,
          0.08376990880183222,
          0.08045171419414654,
          0.021161664367101096,
          -0.05342239727346154,
          -0.0498618491580336,
          0.0926329004261337,
          -0.02178415411978918,
          -0.04241505915882193,
          0.175645120987034,
          0.15480069793234996,
          0.008377701199574261
         ],
         "yaxis": "y"
        },
        {
         "hovertemplate": "MCT_CAT_CD=서적문구<br>week=%{x}<br>diff=%{y}<extra></extra>",
         "legendgroup": "서적문구",
         "line": {
          "color": "#FF97FF",
          "dash": "solid"
         },
         "mode": "lines",
         "name": "서적문구",
         "orientation": "v",
         "showlegend": true,
         "type": "scatter",
         "x": [
          5,
          6,
          7,
          8,
          9,
          10,
          11,
          12,
          13,
          14,
          15,
          16,
          17,
          18,
          19,
          20,
          21,
          22
         ],
         "xaxis": "x",
         "y": [
          -4.1080682990629676,
          2.6806240459772965,
          -2.4172158392624468,
          7.992861229171066,
          21.331493848428444,
          -1.0699342481949259,
          2.255189433253829,
          0.5218856263435221,
          4.246210582874731,
          10.228308087377993,
          3.7632024227578746,
          3.4443275499043295,
          0.6606169892900127,
          2.224646148806869,
          2.1605425921224395,
          4.657405776105566,
          1.8221307453105275,
          3.550823818832974
         ],
         "yaxis": "y"
        },
        {
         "hovertemplate": "MCT_CAT_CD=수리서비스<br>week=%{x}<br>diff=%{y}<extra></extra>",
         "legendgroup": "수리서비스",
         "line": {
          "color": "#FECB52",
          "dash": "solid"
         },
         "mode": "lines",
         "name": "수리서비스",
         "orientation": "v",
         "showlegend": true,
         "type": "scatter",
         "x": [
          5,
          6,
          7,
          8,
          9,
          10,
          11,
          12,
          13,
          14,
          15,
          16,
          17,
          18,
          19,
          20,
          21,
          22
         ],
         "xaxis": "x",
         "y": [
          -6.297924897002428,
          -0.9757271862533372,
          10.282116478898452,
          -2.9474232523538895,
          0.0150907656312107,
          -3.110699617582682,
          8.455907652412073,
          3.135789765103617,
          5.3405365418583095,
          6.2138607092167994,
          7.549819169171997,
          5.0608009501000275,
          6.315412481697795,
          -0.9679236450089022,
          3.34596243834968,
          4.713176602391968,
          7.045250588794303,
          -7.9835618317313575
         ],
         "yaxis": "y"
        },
        {
         "hovertemplate": "MCT_CAT_CD=숙박<br>week=%{x}<br>diff=%{y}<extra></extra>",
         "legendgroup": "숙박",
         "line": {
          "color": "#636efa",
          "dash": "solid"
         },
         "mode": "lines",
         "name": "숙박",
         "orientation": "v",
         "showlegend": true,
         "type": "scatter",
         "x": [
          5,
          6,
          7,
          8,
          9,
          10,
          11,
          12,
          13,
          14,
          15,
          16,
          17,
          18,
          19,
          20,
          21,
          22
         ],
         "xaxis": "x",
         "y": [
          114.7420383781492,
          43.65042367794334,
          -11.187604221130897,
          -1.4396612724854805,
          -40.32474931149822,
          -18.279603494063224,
          40.55412116736096,
          72.49999565118725,
          12.561156213843859,
          26.066395658890087,
          -8.460037983566224,
          10.032564400247438,
          -38.166151377741144,
          36.58061158857184,
          -3.742418571312456,
          53.00878774133092,
          27.045112150896543,
          43.41539008419385
         ],
         "yaxis": "y"
        },
        {
         "hovertemplate": "MCT_CAT_CD=신변잡화<br>week=%{x}<br>diff=%{y}<extra></extra>",
         "legendgroup": "신변잡화",
         "line": {
          "color": "#EF553B",
          "dash": "solid"
         },
         "mode": "lines",
         "name": "신변잡화",
         "orientation": "v",
         "showlegend": true,
         "type": "scatter",
         "x": [
          5,
          6,
          7,
          8,
          9,
          10,
          11,
          12,
          13,
          14,
          15,
          16,
          17,
          18,
          19,
          20,
          21,
          22
         ],
         "xaxis": "x",
         "y": [
          18.4122213560116,
          10.965954606423942,
          7.161444682342498,
          -1.997698883041572,
          110.27211281180243,
          146.36326609094283,
          11.527824885375047,
          8.562722180411853,
          27.614787202283956,
          24.672613520407282,
          26.088414655584167,
          -0.8810286766980795,
          -2.1579199235114643,
          5.453570722954034,
          9.76253109890461,
          -2.362598552278314,
          -4.482990025337777,
          -16.5482465377721
         ],
         "yaxis": "y"
        },
        {
         "hovertemplate": "MCT_CAT_CD=연료판매<br>week=%{x}<br>diff=%{y}<extra></extra>",
         "legendgroup": "연료판매",
         "line": {
          "color": "#00cc96",
          "dash": "solid"
         },
         "mode": "lines",
         "name": "연료판매",
         "orientation": "v",
         "showlegend": true,
         "type": "scatter",
         "x": [
          5,
          6,
          7,
          8,
          9,
          10,
          11,
          12,
          13,
          14,
          15,
          16,
          17,
          18,
          19,
          20,
          21,
          22
         ],
         "xaxis": "x",
         "y": [
          2.230499718247181,
          3.720269385155106,
          1.5707557920962145,
          2.0135987340615316,
          3.938150836752783,
          2.619272347165783,
          2.6408389184279315,
          0.15323552428198184,
          0.7034889894967691,
          2.56953969084352,
          0.0459550971358027,
          -2.4607672950713564,
          -3.655938076594204,
          -5.35737921477336,
          -4.015104878619972,
          -5.435374754167725,
          -6.409487882185829,
          -10.227454064491816
         ],
         "yaxis": "y"
        },
        {
         "hovertemplate": "MCT_CAT_CD=요식업소<br>week=%{x}<br>diff=%{y}<extra></extra>",
         "legendgroup": "요식업소",
         "line": {
          "color": "#ab63fa",
          "dash": "solid"
         },
         "mode": "lines",
         "name": "요식업소",
         "orientation": "v",
         "showlegend": true,
         "type": "scatter",
         "x": [
          5,
          6,
          7,
          8,
          9,
          10,
          11,
          12,
          13,
          14,
          15,
          16,
          17,
          18,
          19,
          20,
          21,
          22
         ],
         "xaxis": "x",
         "y": [
          -1.7595138196827662,
          -1.9161663534004845,
          -0.5076212837033545,
          -3.8298005986579042,
          -4.933563737224766,
          -3.820255873010563,
          -2.912072470749898,
          -2.2045103583832706,
          -2.3652100771828337,
          -1.823507342419994,
          -2.046079971128762,
          -0.5779585686752391,
          -0.6980844556371899,
          -0.19022216242601786,
          1.3140930005125462,
          0.2740289945847927,
          1.1906671255022552,
          1.5264965355516296
         ],
         "yaxis": "y"
        },
        {
         "hovertemplate": "MCT_CAT_CD=유통업<br>week=%{x}<br>diff=%{y}<extra></extra>",
         "legendgroup": "유통업",
         "line": {
          "color": "#FFA15A",
          "dash": "solid"
         },
         "mode": "lines",
         "name": "유통업",
         "orientation": "v",
         "showlegend": true,
         "type": "scatter",
         "x": [
          5,
          6,
          7,
          8,
          9,
          10,
          11,
          12,
          13,
          14,
          15,
          16,
          17,
          18,
          19,
          20,
          21,
          22
         ],
         "xaxis": "x",
         "y": [
          -5.093995073574696,
          -0.9229743796050407,
          -1.5461425795393637,
          -0.08151153545701106,
          -1.6082081065256375,
          -1.203396663899749,
          -0.9232452485372811,
          -1.7101784558521764,
          0.4272005922605153,
          -0.6535342060410656,
          -0.5462411949206327,
          -0.47653500752674915,
          -0.045478769994737434,
          2.2409961949254082,
          3.174039172530854,
          0.491363137205056,
          0.4433147522284351,
          1.4781239183237496
         ],
         "yaxis": "y"
        },
        {
         "hovertemplate": "MCT_CAT_CD=음료식품<br>week=%{x}<br>diff=%{y}<extra></extra>",
         "legendgroup": "음료식품",
         "line": {
          "color": "#19d3f3",
          "dash": "solid"
         },
         "mode": "lines",
         "name": "음료식품",
         "orientation": "v",
         "showlegend": true,
         "type": "scatter",
         "x": [
          5,
          6,
          7,
          8,
          9,
          10,
          11,
          12,
          13,
          14,
          15,
          16,
          17,
          18,
          19,
          20,
          21,
          22
         ],
         "xaxis": "x",
         "y": [
          -14.017256344690392,
          -2.508826929492276,
          0.44652635031875576,
          1.9299344120036395,
          3.4811220142384762,
          1.612686303086484,
          1.9127244965789565,
          1.9474983894408808,
          1.9240129211800578,
          1.3619226831249769,
          1.257248785527434,
          2.621853619433171,
          1.8937170279573117,
          1.4738067744966976,
          3.3142356071129626,
          3.4424659154042523,
          4.763383890313559,
          2.3235267629482976
         ],
         "yaxis": "y"
        },
        {
         "hovertemplate": "MCT_CAT_CD=의료기관<br>week=%{x}<br>diff=%{y}<extra></extra>",
         "legendgroup": "의료기관",
         "line": {
          "color": "#FF6692",
          "dash": "solid"
         },
         "mode": "lines",
         "name": "의료기관",
         "orientation": "v",
         "showlegend": true,
         "type": "scatter",
         "x": [
          5,
          6,
          7,
          8,
          9,
          10,
          11,
          12,
          13,
          14,
          15,
          16,
          17,
          18,
          19,
          20,
          21,
          22
         ],
         "xaxis": "x",
         "y": [
          -8.84498291396028,
          -1.3216654042653886,
          8.508344272528632,
          -2.8582418083725116,
          -7.158348377275473,
          -12.303827126748999,
          -13.482280463711177,
          -6.412407731191067,
          -4.116848418609479,
          -6.535732590761889,
          -6.582633230181791,
          4.832748747391136,
          -4.079294890485997,
          5.0768651837446015,
          4.578036949046073,
          0.6107502609254141,
          -4.006234240443192,
          1.3009715894919083
         ],
         "yaxis": "y"
        },
        {
         "hovertemplate": "MCT_CAT_CD=의복<br>week=%{x}<br>diff=%{y}<extra></extra>",
         "legendgroup": "의복",
         "line": {
          "color": "#B6E880",
          "dash": "solid"
         },
         "mode": "lines",
         "name": "의복",
         "orientation": "v",
         "showlegend": true,
         "type": "scatter",
         "x": [
          5,
          6,
          7,
          8,
          9,
          10,
          11,
          12,
          13,
          14,
          15,
          16,
          17,
          18,
          19,
          20,
          21,
          22
         ],
         "xaxis": "x",
         "y": [
          6.113290830768186,
          19.22519374894881,
          10.99562706944701,
          28.083282482861364,
          72.17360574789079,
          71.60646919037218,
          51.29558865782907,
          20.01869292151619,
          28.166200340685137,
          12.03786530697235,
          6.346550213915393,
          12.796732358597055,
          14.537105968477007,
          7.425915247976796,
          11.018021964925339,
          6.265434415792399,
          3.3361948003500075,
          3.454413399206871
         ],
         "yaxis": "y"
        },
        {
         "hovertemplate": "MCT_CAT_CD=자동차정비<br>week=%{x}<br>diff=%{y}<extra></extra>",
         "legendgroup": "자동차정비",
         "line": {
          "color": "#FF97FF",
          "dash": "solid"
         },
         "mode": "lines",
         "name": "자동차정비",
         "orientation": "v",
         "showlegend": true,
         "type": "scatter",
         "x": [
          5,
          6,
          7,
          8,
          9,
          10,
          11,
          12,
          13,
          14,
          15,
          16,
          17,
          18,
          19,
          20,
          21,
          22
         ],
         "xaxis": "x",
         "y": [
          -26.691529282841508,
          24.233625899775262,
          1.3131742338205612,
          27.766111673811025,
          80.95225478553274,
          41.20575932143643,
          35.62110879273623,
          29.388493881058963,
          45.97557229165176,
          15.780749958108444,
          14.292393044614577,
          9.092376865700025,
          8.036710262556106,
          5.209296814288351,
          4.856449043078598,
          -0.9117684459287219,
          7.572370902170661,
          1.7371398214789906
         ],
         "yaxis": "y"
        },
        {
         "hovertemplate": "MCT_CAT_CD=자동차판매<br>week=%{x}<br>diff=%{y}<extra></extra>",
         "legendgroup": "자동차판매",
         "line": {
          "color": "#FECB52",
          "dash": "solid"
         },
         "mode": "lines",
         "name": "자동차판매",
         "orientation": "v",
         "showlegend": true,
         "type": "scatter",
         "x": [
          5,
          6,
          7,
          8,
          9,
          10,
          11,
          12,
          13,
          14,
          15,
          16,
          17,
          18,
          19,
          20,
          21,
          22
         ],
         "xaxis": "x",
         "y": [
          -24.191934238111003,
          -207.56400499182212,
          89.15110947582923,
          -235.68763650804158,
          -875.2310791428358,
          -413.4179907534274,
          -17.143761101243285,
          -191.6255135333854,
          -158.74487976782757,
          -393.71773202503164,
          -317.03307348389313,
          -212.8949039621416,
          -34.03697149626339,
          -166.0315603932936,
          -213.11086556925426,
          242.86662239747977,
          -235.89195987047043,
          -165.39372467461044
         ],
         "yaxis": "y"
        },
        {
         "hovertemplate": "MCT_CAT_CD=전기<br>week=%{x}<br>diff=%{y}<extra></extra>",
         "legendgroup": "전기",
         "line": {
          "color": "#636efa",
          "dash": "solid"
         },
         "mode": "lines",
         "name": "전기",
         "orientation": "v",
         "showlegend": true,
         "type": "scatter",
         "x": [
          5,
          6,
          7,
          8,
          9,
          10,
          11,
          12,
          13,
          14,
          15,
          16,
          17,
          18,
          19,
          20,
          21,
          22
         ],
         "xaxis": "x",
         "y": [
          -164.36666666666667,
          -30.186538461538476,
          14.488260869565238,
          -36.32044352044352,
          -31.273459119496835,
          190.23529411764707,
          98.11034482758623,
          -244.52412280701753,
          46.6345945945946,
          48.799049510568864,
          -183.8079878900792,
          87.8676282051282,
          112.30421052631579,
          292.40069889341873,
          -73.4608187134503,
          210.35194444444448,
          49.21477663230243,
          164.6875
         ],
         "yaxis": "y"
        },
        {
         "hovertemplate": "MCT_CAT_CD=주방용구<br>week=%{x}<br>diff=%{y}<extra></extra>",
         "legendgroup": "주방용구",
         "line": {
          "color": "#EF553B",
          "dash": "solid"
         },
         "mode": "lines",
         "name": "주방용구",
         "orientation": "v",
         "showlegend": true,
         "type": "scatter",
         "x": [
          5,
          6,
          7,
          8,
          9,
          10,
          11,
          12,
          13,
          14,
          15,
          16,
          17,
          18,
          19,
          20,
          21,
          22
         ],
         "xaxis": "x",
         "y": [
          -31.716316073354903,
          13.36877745601037,
          -3.989052924099937,
          -18.23984887368121,
          -62.879701143770745,
          -71.66537425125833,
          48.68968691096913,
          32.19525372680858,
          18.477711259557182,
          23.14496896629406,
          -6.456986899563319,
          21.4453233325535,
          -24.28859881548528,
          -45.84511499376003,
          -56.075404966340066,
          30.914605995446493,
          -4.156343884442521,
          -6.528152775895336
         ],
         "yaxis": "y"
        },
        {
         "hovertemplate": "MCT_CAT_CD=직물<br>week=%{x}<br>diff=%{y}<extra></extra>",
         "legendgroup": "직물",
         "line": {
          "color": "#00cc96",
          "dash": "solid"
         },
         "mode": "lines",
         "name": "직물",
         "orientation": "v",
         "showlegend": true,
         "type": "scatter",
         "x": [
          5,
          6,
          7,
          8,
          9,
          10,
          11,
          12,
          13,
          14,
          15,
          16,
          17,
          18,
          19,
          20,
          21,
          22
         ],
         "xaxis": "x",
         "y": [
          2.3389254385964904,
          -15.881093460140306,
          25.28288060215428,
          163.17052118094887,
          231.30525173611113,
          21.385524557300357,
          47.169459631893915,
          11.635436810763736,
          11.362542955326461,
          10.434402991049438,
          -2.3710601719197655,
          52.18296158818714,
          -11.773500229068475,
          -16.369367809750656,
          22.495542375439342,
          16.640250683333477,
          -3.0449117767193314,
          -13.170470709944397
         ],
         "yaxis": "y"
        }
       ],
       "layout": {
        "legend": {
         "title": {
          "text": "MCT_CAT_CD"
         },
         "tracegroupgap": 0
        },
        "margin": {
         "t": 60
        },
        "template": {
         "data": {
          "bar": [
           {
            "error_x": {
             "color": "#2a3f5f"
            },
            "error_y": {
             "color": "#2a3f5f"
            },
            "marker": {
             "line": {
              "color": "#E5ECF6",
              "width": 0.5
             }
            },
            "type": "bar"
           }
          ],
          "barpolar": [
           {
            "marker": {
             "line": {
              "color": "#E5ECF6",
              "width": 0.5
             }
            },
            "type": "barpolar"
           }
          ],
          "carpet": [
           {
            "aaxis": {
             "endlinecolor": "#2a3f5f",
             "gridcolor": "white",
             "linecolor": "white",
             "minorgridcolor": "white",
             "startlinecolor": "#2a3f5f"
            },
            "baxis": {
             "endlinecolor": "#2a3f5f",
             "gridcolor": "white",
             "linecolor": "white",
             "minorgridcolor": "white",
             "startlinecolor": "#2a3f5f"
            },
            "type": "carpet"
           }
          ],
          "choropleth": [
           {
            "colorbar": {
             "outlinewidth": 0,
             "ticks": ""
            },
            "type": "choropleth"
           }
          ],
          "contour": [
           {
            "colorbar": {
             "outlinewidth": 0,
             "ticks": ""
            },
            "colorscale": [
             [
              0,
              "#0d0887"
             ],
             [
              0.1111111111111111,
              "#46039f"
             ],
             [
              0.2222222222222222,
              "#7201a8"
             ],
             [
              0.3333333333333333,
              "#9c179e"
             ],
             [
              0.4444444444444444,
              "#bd3786"
             ],
             [
              0.5555555555555556,
              "#d8576b"
             ],
             [
              0.6666666666666666,
              "#ed7953"
             ],
             [
              0.7777777777777778,
              "#fb9f3a"
             ],
             [
              0.8888888888888888,
              "#fdca26"
             ],
             [
              1,
              "#f0f921"
             ]
            ],
            "type": "contour"
           }
          ],
          "contourcarpet": [
           {
            "colorbar": {
             "outlinewidth": 0,
             "ticks": ""
            },
            "type": "contourcarpet"
           }
          ],
          "heatmap": [
           {
            "colorbar": {
             "outlinewidth": 0,
             "ticks": ""
            },
            "colorscale": [
             [
              0,
              "#0d0887"
             ],
             [
              0.1111111111111111,
              "#46039f"
             ],
             [
              0.2222222222222222,
              "#7201a8"
             ],
             [
              0.3333333333333333,
              "#9c179e"
             ],
             [
              0.4444444444444444,
              "#bd3786"
             ],
             [
              0.5555555555555556,
              "#d8576b"
             ],
             [
              0.6666666666666666,
              "#ed7953"
             ],
             [
              0.7777777777777778,
              "#fb9f3a"
             ],
             [
              0.8888888888888888,
              "#fdca26"
             ],
             [
              1,
              "#f0f921"
             ]
            ],
            "type": "heatmap"
           }
          ],
          "heatmapgl": [
           {
            "colorbar": {
             "outlinewidth": 0,
             "ticks": ""
            },
            "colorscale": [
             [
              0,
              "#0d0887"
             ],
             [
              0.1111111111111111,
              "#46039f"
             ],
             [
              0.2222222222222222,
              "#7201a8"
             ],
             [
              0.3333333333333333,
              "#9c179e"
             ],
             [
              0.4444444444444444,
              "#bd3786"
             ],
             [
              0.5555555555555556,
              "#d8576b"
             ],
             [
              0.6666666666666666,
              "#ed7953"
             ],
             [
              0.7777777777777778,
              "#fb9f3a"
             ],
             [
              0.8888888888888888,
              "#fdca26"
             ],
             [
              1,
              "#f0f921"
             ]
            ],
            "type": "heatmapgl"
           }
          ],
          "histogram": [
           {
            "marker": {
             "colorbar": {
              "outlinewidth": 0,
              "ticks": ""
             }
            },
            "type": "histogram"
           }
          ],
          "histogram2d": [
           {
            "colorbar": {
             "outlinewidth": 0,
             "ticks": ""
            },
            "colorscale": [
             [
              0,
              "#0d0887"
             ],
             [
              0.1111111111111111,
              "#46039f"
             ],
             [
              0.2222222222222222,
              "#7201a8"
             ],
             [
              0.3333333333333333,
              "#9c179e"
             ],
             [
              0.4444444444444444,
              "#bd3786"
             ],
             [
              0.5555555555555556,
              "#d8576b"
             ],
             [
              0.6666666666666666,
              "#ed7953"
             ],
             [
              0.7777777777777778,
              "#fb9f3a"
             ],
             [
              0.8888888888888888,
              "#fdca26"
             ],
             [
              1,
              "#f0f921"
             ]
            ],
            "type": "histogram2d"
           }
          ],
          "histogram2dcontour": [
           {
            "colorbar": {
             "outlinewidth": 0,
             "ticks": ""
            },
            "colorscale": [
             [
              0,
              "#0d0887"
             ],
             [
              0.1111111111111111,
              "#46039f"
             ],
             [
              0.2222222222222222,
              "#7201a8"
             ],
             [
              0.3333333333333333,
              "#9c179e"
             ],
             [
              0.4444444444444444,
              "#bd3786"
             ],
             [
              0.5555555555555556,
              "#d8576b"
             ],
             [
              0.6666666666666666,
              "#ed7953"
             ],
             [
              0.7777777777777778,
              "#fb9f3a"
             ],
             [
              0.8888888888888888,
              "#fdca26"
             ],
             [
              1,
              "#f0f921"
             ]
            ],
            "type": "histogram2dcontour"
           }
          ],
          "mesh3d": [
           {
            "colorbar": {
             "outlinewidth": 0,
             "ticks": ""
            },
            "type": "mesh3d"
           }
          ],
          "parcoords": [
           {
            "line": {
             "colorbar": {
              "outlinewidth": 0,
              "ticks": ""
             }
            },
            "type": "parcoords"
           }
          ],
          "pie": [
           {
            "automargin": true,
            "type": "pie"
           }
          ],
          "scatter": [
           {
            "marker": {
             "colorbar": {
              "outlinewidth": 0,
              "ticks": ""
             }
            },
            "type": "scatter"
           }
          ],
          "scatter3d": [
           {
            "line": {
             "colorbar": {
              "outlinewidth": 0,
              "ticks": ""
             }
            },
            "marker": {
             "colorbar": {
              "outlinewidth": 0,
              "ticks": ""
             }
            },
            "type": "scatter3d"
           }
          ],
          "scattercarpet": [
           {
            "marker": {
             "colorbar": {
              "outlinewidth": 0,
              "ticks": ""
             }
            },
            "type": "scattercarpet"
           }
          ],
          "scattergeo": [
           {
            "marker": {
             "colorbar": {
              "outlinewidth": 0,
              "ticks": ""
             }
            },
            "type": "scattergeo"
           }
          ],
          "scattergl": [
           {
            "marker": {
             "colorbar": {
              "outlinewidth": 0,
              "ticks": ""
             }
            },
            "type": "scattergl"
           }
          ],
          "scattermapbox": [
           {
            "marker": {
             "colorbar": {
              "outlinewidth": 0,
              "ticks": ""
             }
            },
            "type": "scattermapbox"
           }
          ],
          "scatterpolar": [
           {
            "marker": {
             "colorbar": {
              "outlinewidth": 0,
              "ticks": ""
             }
            },
            "type": "scatterpolar"
           }
          ],
          "scatterpolargl": [
           {
            "marker": {
             "colorbar": {
              "outlinewidth": 0,
              "ticks": ""
             }
            },
            "type": "scatterpolargl"
           }
          ],
          "scatterternary": [
           {
            "marker": {
             "colorbar": {
              "outlinewidth": 0,
              "ticks": ""
             }
            },
            "type": "scatterternary"
           }
          ],
          "surface": [
           {
            "colorbar": {
             "outlinewidth": 0,
             "ticks": ""
            },
            "colorscale": [
             [
              0,
              "#0d0887"
             ],
             [
              0.1111111111111111,
              "#46039f"
             ],
             [
              0.2222222222222222,
              "#7201a8"
             ],
             [
              0.3333333333333333,
              "#9c179e"
             ],
             [
              0.4444444444444444,
              "#bd3786"
             ],
             [
              0.5555555555555556,
              "#d8576b"
             ],
             [
              0.6666666666666666,
              "#ed7953"
             ],
             [
              0.7777777777777778,
              "#fb9f3a"
             ],
             [
              0.8888888888888888,
              "#fdca26"
             ],
             [
              1,
              "#f0f921"
             ]
            ],
            "type": "surface"
           }
          ],
          "table": [
           {
            "cells": {
             "fill": {
              "color": "#EBF0F8"
             },
             "line": {
              "color": "white"
             }
            },
            "header": {
             "fill": {
              "color": "#C8D4E3"
             },
             "line": {
              "color": "white"
             }
            },
            "type": "table"
           }
          ]
         },
         "layout": {
          "annotationdefaults": {
           "arrowcolor": "#2a3f5f",
           "arrowhead": 0,
           "arrowwidth": 1
          },
          "coloraxis": {
           "colorbar": {
            "outlinewidth": 0,
            "ticks": ""
           }
          },
          "colorscale": {
           "diverging": [
            [
             0,
             "#8e0152"
            ],
            [
             0.1,
             "#c51b7d"
            ],
            [
             0.2,
             "#de77ae"
            ],
            [
             0.3,
             "#f1b6da"
            ],
            [
             0.4,
             "#fde0ef"
            ],
            [
             0.5,
             "#f7f7f7"
            ],
            [
             0.6,
             "#e6f5d0"
            ],
            [
             0.7,
             "#b8e186"
            ],
            [
             0.8,
             "#7fbc41"
            ],
            [
             0.9,
             "#4d9221"
            ],
            [
             1,
             "#276419"
            ]
           ],
           "sequential": [
            [
             0,
             "#0d0887"
            ],
            [
             0.1111111111111111,
             "#46039f"
            ],
            [
             0.2222222222222222,
             "#7201a8"
            ],
            [
             0.3333333333333333,
             "#9c179e"
            ],
            [
             0.4444444444444444,
             "#bd3786"
            ],
            [
             0.5555555555555556,
             "#d8576b"
            ],
            [
             0.6666666666666666,
             "#ed7953"
            ],
            [
             0.7777777777777778,
             "#fb9f3a"
            ],
            [
             0.8888888888888888,
             "#fdca26"
            ],
            [
             1,
             "#f0f921"
            ]
           ],
           "sequentialminus": [
            [
             0,
             "#0d0887"
            ],
            [
             0.1111111111111111,
             "#46039f"
            ],
            [
             0.2222222222222222,
             "#7201a8"
            ],
            [
             0.3333333333333333,
             "#9c179e"
            ],
            [
             0.4444444444444444,
             "#bd3786"
            ],
            [
             0.5555555555555556,
             "#d8576b"
            ],
            [
             0.6666666666666666,
             "#ed7953"
            ],
            [
             0.7777777777777778,
             "#fb9f3a"
            ],
            [
             0.8888888888888888,
             "#fdca26"
            ],
            [
             1,
             "#f0f921"
            ]
           ]
          },
          "colorway": [
           "#636efa",
           "#EF553B",
           "#00cc96",
           "#ab63fa",
           "#FFA15A",
           "#19d3f3",
           "#FF6692",
           "#B6E880",
           "#FF97FF",
           "#FECB52"
          ],
          "font": {
           "color": "#2a3f5f"
          },
          "geo": {
           "bgcolor": "white",
           "lakecolor": "white",
           "landcolor": "#E5ECF6",
           "showlakes": true,
           "showland": true,
           "subunitcolor": "white"
          },
          "hoverlabel": {
           "align": "left"
          },
          "hovermode": "closest",
          "mapbox": {
           "style": "light"
          },
          "paper_bgcolor": "white",
          "plot_bgcolor": "#E5ECF6",
          "polar": {
           "angularaxis": {
            "gridcolor": "white",
            "linecolor": "white",
            "ticks": ""
           },
           "bgcolor": "#E5ECF6",
           "radialaxis": {
            "gridcolor": "white",
            "linecolor": "white",
            "ticks": ""
           }
          },
          "scene": {
           "xaxis": {
            "backgroundcolor": "#E5ECF6",
            "gridcolor": "white",
            "gridwidth": 2,
            "linecolor": "white",
            "showbackground": true,
            "ticks": "",
            "zerolinecolor": "white"
           },
           "yaxis": {
            "backgroundcolor": "#E5ECF6",
            "gridcolor": "white",
            "gridwidth": 2,
            "linecolor": "white",
            "showbackground": true,
            "ticks": "",
            "zerolinecolor": "white"
           },
           "zaxis": {
            "backgroundcolor": "#E5ECF6",
            "gridcolor": "white",
            "gridwidth": 2,
            "linecolor": "white",
            "showbackground": true,
            "ticks": "",
            "zerolinecolor": "white"
           }
          },
          "shapedefaults": {
           "line": {
            "color": "#2a3f5f"
           }
          },
          "ternary": {
           "aaxis": {
            "gridcolor": "white",
            "linecolor": "white",
            "ticks": ""
           },
           "baxis": {
            "gridcolor": "white",
            "linecolor": "white",
            "ticks": ""
           },
           "bgcolor": "#E5ECF6",
           "caxis": {
            "gridcolor": "white",
            "linecolor": "white",
            "ticks": ""
           }
          },
          "title": {
           "x": 0.05
          },
          "xaxis": {
           "automargin": true,
           "gridcolor": "white",
           "linecolor": "white",
           "ticks": "",
           "title": {
            "standoff": 15
           },
           "zerolinecolor": "white",
           "zerolinewidth": 2
          },
          "yaxis": {
           "automargin": true,
           "gridcolor": "white",
           "linecolor": "white",
           "ticks": "",
           "title": {
            "standoff": 15
           },
           "zerolinecolor": "white",
           "zerolinewidth": 2
          }
         }
        },
        "xaxis": {
         "anchor": "y",
         "domain": [
          0,
          1
         ],
         "tickmode": "array",
         "ticktext": [
          "12/23",
          "12/30",
          "1/6",
          "1/13",
          "1/20",
          "1/27",
          "2/3",
          "2/10",
          "2/17",
          "2/24",
          "3/2",
          "3/9",
          "3/16",
          "3/23",
          "3/30",
          "4/6",
          "4/13",
          "4/20",
          "4/27",
          "5/4",
          "5/11",
          "5/18",
          "5/25",
          "6/1",
          "6/8",
          "6/15",
          "6/22",
          "6/29",
          "7/6",
          "7/13",
          "7/20",
          "7/27",
          "8/3",
          "8/10",
          "8/17",
          "8/24",
          "8/31",
          "9/7",
          "9/14",
          "9/21",
          "9/28",
          "10/5",
          "10/12",
          "10/19",
          "10/26",
          "11/2",
          "11/9",
          "11/16",
          "11/23",
          "11/30",
          "12/7",
          "12/14"
         ],
         "tickvals": [
          0,
          1,
          2,
          3,
          4,
          5,
          6,
          7,
          8,
          9,
          10,
          11,
          12,
          13,
          14,
          15,
          16,
          17,
          18,
          19,
          20,
          21,
          22,
          23,
          24,
          25,
          26,
          27,
          28,
          29,
          30,
          31,
          32,
          33,
          34,
          35,
          36,
          37,
          38,
          39,
          40,
          41,
          42,
          43,
          44,
          45,
          46,
          47,
          48,
          49,
          50,
          51
         ],
         "title": {
          "text": "week"
         }
        },
        "yaxis": {
         "anchor": "x",
         "domain": [
          0,
          1
         ],
         "title": {
          "text": "diff"
         }
        }
       }
      },
      "text/html": [
       "<div>\n",
       "        \n",
       "        \n",
       "            <div id=\"7d5af320-6bee-4ef8-997b-7f0aca9a8949\" class=\"plotly-graph-div\" style=\"height:525px; width:100%;\"></div>\n",
       "            <script type=\"text/javascript\">\n",
       "                require([\"plotly\"], function(Plotly) {\n",
       "                    window.PLOTLYENV=window.PLOTLYENV || {};\n",
       "                    \n",
       "                if (document.getElementById(\"7d5af320-6bee-4ef8-997b-7f0aca9a8949\")) {\n",
       "                    Plotly.newPlot(\n",
       "                        '7d5af320-6bee-4ef8-997b-7f0aca9a8949',\n",
       "                        [{\"hovertemplate\": \"MCT_CAT_CD=\\uac00\\uad6c<br>week=%{x}<br>diff=%{y}<extra></extra>\", \"legendgroup\": \"\\uac00\\uad6c\", \"line\": {\"color\": \"#636efa\", \"dash\": \"solid\"}, \"mode\": \"lines\", \"name\": \"\\uac00\\uad6c\", \"orientation\": \"v\", \"showlegend\": true, \"type\": \"scatter\", \"x\": [5, 6, 7, 8, 9, 10, 11, 12, 13, 14, 15, 16, 17, 18, 19, 20, 21, 22], \"xaxis\": \"x\", \"y\": [427.85160031225604, 300.0121428571428, 106.4212445044696, 333.8483817113553, 132.5145005370569, 271.028697571744, -65.20797554286742, -223.22405686446223, 98.85861204013372, 209.38100053937436, 84.16186804606679, 63.40983904009363, 486.5383230215163, 175.77963386727686, -43.8454155524372, 190.55030303030304, -47.79912352661802, 247.10522597260518], \"yaxis\": \"y\"}, {\"hovertemplate\": \"MCT_CAT_CD=\\uac00\\uc804<br>week=%{x}<br>diff=%{y}<extra></extra>\", \"legendgroup\": \"\\uac00\\uc804\", \"line\": {\"color\": \"#EF553B\", \"dash\": \"solid\"}, \"mode\": \"lines\", \"name\": \"\\uac00\\uc804\", \"orientation\": \"v\", \"showlegend\": true, \"type\": \"scatter\", \"x\": [5, 6, 7, 8, 9, 10, 11, 12, 13, 14, 15, 16, 17, 18, 19, 20, 21, 22], \"xaxis\": \"x\", \"y\": [-38.12492373398413, -6.641512938199696, 13.553741584556292, 16.373343762080708, -52.87491460319637, -62.68534930329781, -9.603334132929177, 137.40095928063053, 79.47331286419274, 85.09903219282387, 118.83773527382425, 89.83858800355, 176.2305855881003, 297.99040063602524, 142.80879274013796, 83.907346629639, 99.64205673758863, 130.80604267527346], \"yaxis\": \"y\"}, {\"hovertemplate\": \"MCT_CAT_CD=\\uad11\\ud559\\uc81c\\ud488<br>week=%{x}<br>diff=%{y}<extra></extra>\", \"legendgroup\": \"\\uad11\\ud559\\uc81c\\ud488\", \"line\": {\"color\": \"#00cc96\", \"dash\": \"solid\"}, \"mode\": \"lines\", \"name\": \"\\uad11\\ud559\\uc81c\\ud488\", \"orientation\": \"v\", \"showlegend\": true, \"type\": \"scatter\", \"x\": [5, 6, 7, 8, 9, 10, 11, 12, 13, 14, 15, 16, 17, 18, 19, 20, 21, 22], \"xaxis\": \"x\", \"y\": [42.769718506131554, -47.748909078394945, -0.058574903883467755, 9.754132781224357, 41.23374883860666, -1.0587588170581768, -13.383243044246505, -11.862078743105052, -5.423323051587587, -3.5975724676152083, 10.253675563777314, 31.839619661499178, 32.836426330200844, 8.412413111626009, 13.112953991820305, 39.03917326297274, 7.956734479627741, 28.63397470559962], \"yaxis\": \"y\"}, {\"hovertemplate\": \"MCT_CAT_CD=\\ub808\\uc800\\uc5c5\\uc18c<br>week=%{x}<br>diff=%{y}<extra></extra>\", \"legendgroup\": \"\\ub808\\uc800\\uc5c5\\uc18c\", \"line\": {\"color\": \"#ab63fa\", \"dash\": \"solid\"}, \"mode\": \"lines\", \"name\": \"\\ub808\\uc800\\uc5c5\\uc18c\", \"orientation\": \"v\", \"showlegend\": true, \"type\": \"scatter\", \"x\": [5, 6, 7, 8, 9, 10, 11, 12, 13, 14, 15, 16, 17, 18, 19, 20, 21, 22], \"xaxis\": \"x\", \"y\": [0.4908145149141525, 4.837844871299662, -7.327957664639527, -4.78201290804714, -12.907934089269478, -15.482198795061468, -10.978787421556493, -4.603997812493411, -13.30215722388996, -9.459385747267504, -6.956000299618356, -9.077746712277008, -2.392999034462324, -3.9934340449880565, 4.3456411071808425, 4.340735668450833, 1.7300744916553121, 2.563066113274523], \"yaxis\": \"y\"}, {\"hovertemplate\": \"MCT_CAT_CD=\\ub808\\uc800\\uc6a9\\ud488<br>week=%{x}<br>diff=%{y}<extra></extra>\", \"legendgroup\": \"\\ub808\\uc800\\uc6a9\\ud488\", \"line\": {\"color\": \"#FFA15A\", \"dash\": \"solid\"}, \"mode\": \"lines\", \"name\": \"\\ub808\\uc800\\uc6a9\\ud488\", \"orientation\": \"v\", \"showlegend\": true, \"type\": \"scatter\", \"x\": [5, 6, 7, 8, 9, 10, 11, 12, 13, 14, 15, 16, 17, 18, 19, 20, 21, 22], \"xaxis\": \"x\", \"y\": [-15.300785621204227, -1.2898186515621148, -1.6692313317177678, 14.900666411937351, 36.83964830873778, 23.90498713092893, 37.57335962980011, 7.025570883780659, 40.118784340580405, 25.7638385044244, 21.6167761265596, 12.542234661248258, 11.994457548539629, 11.752264623000727, 15.680571157371446, 13.43958233793009, 20.84484371775713, 13.086197548610201], \"yaxis\": \"y\"}, {\"hovertemplate\": \"MCT_CAT_CD=\\ubb38\\ud654\\ucde8\\ubbf8<br>week=%{x}<br>diff=%{y}<extra></extra>\", \"legendgroup\": \"\\ubb38\\ud654\\ucde8\\ubbf8\", \"line\": {\"color\": \"#19d3f3\", \"dash\": \"solid\"}, \"mode\": \"lines\", \"name\": \"\\ubb38\\ud654\\ucde8\\ubbf8\", \"orientation\": \"v\", \"showlegend\": true, \"type\": \"scatter\", \"x\": [5, 6, 7, 8, 9, 10, 11, 12, 13, 14, 15, 16, 17, 18, 19, 20, 21, 22], \"xaxis\": \"x\", \"y\": [3.758807724330598, 10.844745537166947, -3.5430291702233454, 13.800764033987225, 18.55684036073584, 17.046649051305977, 10.500406517421254, 23.706262299111927, 20.640184593778372, 15.994835955931869, 12.007512540609753, 7.130822574364203, 19.952477244733917, 15.422687191093676, 4.266127669856509, 13.469535137310046, 4.147295433118899, 9.319304032327175], \"yaxis\": \"y\"}, {\"hovertemplate\": \"MCT_CAT_CD=\\ubcf4\\uac74\\uc704\\uc0dd<br>week=%{x}<br>diff=%{y}<extra></extra>\", \"legendgroup\": \"\\ubcf4\\uac74\\uc704\\uc0dd\", \"line\": {\"color\": \"#FF6692\", \"dash\": \"solid\"}, \"mode\": \"lines\", \"name\": \"\\ubcf4\\uac74\\uc704\\uc0dd\", \"orientation\": \"v\", \"showlegend\": true, \"type\": \"scatter\", \"x\": [5, 6, 7, 8, 9, 10, 11, 12, 13, 14, 15, 16, 17, 18, 19, 20, 21, 22], \"xaxis\": \"x\", \"y\": [5.8736071976906175, 14.425259432593563, 1.8502302321046145, 0.9629475886565828, 27.499161178058614, 7.214929123408638, 8.74526920399343, 7.167537938495258, 2.8243277495207124, 9.786472474764857, 6.844480583885776, 8.30254757481616, 5.193000317939841, 9.989675414973583, 10.361884874148231, 15.223717459646267, 14.656711715704354, 0.5281595308245031], \"yaxis\": \"y\"}, {\"hovertemplate\": \"MCT_CAT_CD=\\uc0ac\\ubb34\\ud1b5\\uc2e0<br>week=%{x}<br>diff=%{y}<extra></extra>\", \"legendgroup\": \"\\uc0ac\\ubb34\\ud1b5\\uc2e0\", \"line\": {\"color\": \"#B6E880\", \"dash\": \"solid\"}, \"mode\": \"lines\", \"name\": \"\\uc0ac\\ubb34\\ud1b5\\uc2e0\", \"orientation\": \"v\", \"showlegend\": true, \"type\": \"scatter\", \"x\": [5, 6, 7, 8, 9, 10, 11, 12, 13, 14, 15, 16, 17, 18, 19, 20, 21, 22], \"xaxis\": \"x\", \"y\": [-0.3772749018975379, -0.36851854418585095, -0.09623580618113703, -0.22937695143928316, 0.08258726892513035, -0.027552667041511825, 0.06251350841016912, 0.08376990880183222, 0.08045171419414654, 0.021161664367101096, -0.05342239727346154, -0.0498618491580336, 0.0926329004261337, -0.02178415411978918, -0.04241505915882193, 0.175645120987034, 0.15480069793234996, 0.008377701199574261], \"yaxis\": \"y\"}, {\"hovertemplate\": \"MCT_CAT_CD=\\uc11c\\uc801\\ubb38\\uad6c<br>week=%{x}<br>diff=%{y}<extra></extra>\", \"legendgroup\": \"\\uc11c\\uc801\\ubb38\\uad6c\", \"line\": {\"color\": \"#FF97FF\", \"dash\": \"solid\"}, \"mode\": \"lines\", \"name\": \"\\uc11c\\uc801\\ubb38\\uad6c\", \"orientation\": \"v\", \"showlegend\": true, \"type\": \"scatter\", \"x\": [5, 6, 7, 8, 9, 10, 11, 12, 13, 14, 15, 16, 17, 18, 19, 20, 21, 22], \"xaxis\": \"x\", \"y\": [-4.1080682990629676, 2.6806240459772965, -2.4172158392624468, 7.992861229171066, 21.331493848428444, -1.0699342481949259, 2.255189433253829, 0.5218856263435221, 4.246210582874731, 10.228308087377993, 3.7632024227578746, 3.4443275499043295, 0.6606169892900127, 2.224646148806869, 2.1605425921224395, 4.657405776105566, 1.8221307453105275, 3.550823818832974], \"yaxis\": \"y\"}, {\"hovertemplate\": \"MCT_CAT_CD=\\uc218\\ub9ac\\uc11c\\ube44\\uc2a4<br>week=%{x}<br>diff=%{y}<extra></extra>\", \"legendgroup\": \"\\uc218\\ub9ac\\uc11c\\ube44\\uc2a4\", \"line\": {\"color\": \"#FECB52\", \"dash\": \"solid\"}, \"mode\": \"lines\", \"name\": \"\\uc218\\ub9ac\\uc11c\\ube44\\uc2a4\", \"orientation\": \"v\", \"showlegend\": true, \"type\": \"scatter\", \"x\": [5, 6, 7, 8, 9, 10, 11, 12, 13, 14, 15, 16, 17, 18, 19, 20, 21, 22], \"xaxis\": \"x\", \"y\": [-6.297924897002428, -0.9757271862533372, 10.282116478898452, -2.9474232523538895, 0.0150907656312107, -3.110699617582682, 8.455907652412073, 3.135789765103617, 5.3405365418583095, 6.2138607092167994, 7.549819169171997, 5.0608009501000275, 6.315412481697795, -0.9679236450089022, 3.34596243834968, 4.713176602391968, 7.045250588794303, -7.9835618317313575], \"yaxis\": \"y\"}, {\"hovertemplate\": \"MCT_CAT_CD=\\uc219\\ubc15<br>week=%{x}<br>diff=%{y}<extra></extra>\", \"legendgroup\": \"\\uc219\\ubc15\", \"line\": {\"color\": \"#636efa\", \"dash\": \"solid\"}, \"mode\": \"lines\", \"name\": \"\\uc219\\ubc15\", \"orientation\": \"v\", \"showlegend\": true, \"type\": \"scatter\", \"x\": [5, 6, 7, 8, 9, 10, 11, 12, 13, 14, 15, 16, 17, 18, 19, 20, 21, 22], \"xaxis\": \"x\", \"y\": [114.7420383781492, 43.65042367794334, -11.187604221130897, -1.4396612724854805, -40.32474931149822, -18.279603494063224, 40.55412116736096, 72.49999565118725, 12.561156213843859, 26.066395658890087, -8.460037983566224, 10.032564400247438, -38.166151377741144, 36.58061158857184, -3.742418571312456, 53.00878774133092, 27.045112150896543, 43.41539008419385], \"yaxis\": \"y\"}, {\"hovertemplate\": \"MCT_CAT_CD=\\uc2e0\\ubcc0\\uc7a1\\ud654<br>week=%{x}<br>diff=%{y}<extra></extra>\", \"legendgroup\": \"\\uc2e0\\ubcc0\\uc7a1\\ud654\", \"line\": {\"color\": \"#EF553B\", \"dash\": \"solid\"}, \"mode\": \"lines\", \"name\": \"\\uc2e0\\ubcc0\\uc7a1\\ud654\", \"orientation\": \"v\", \"showlegend\": true, \"type\": \"scatter\", \"x\": [5, 6, 7, 8, 9, 10, 11, 12, 13, 14, 15, 16, 17, 18, 19, 20, 21, 22], \"xaxis\": \"x\", \"y\": [18.4122213560116, 10.965954606423942, 7.161444682342498, -1.997698883041572, 110.27211281180243, 146.36326609094283, 11.527824885375047, 8.562722180411853, 27.614787202283956, 24.672613520407282, 26.088414655584167, -0.8810286766980795, -2.1579199235114643, 5.453570722954034, 9.76253109890461, -2.362598552278314, -4.482990025337777, -16.5482465377721], \"yaxis\": \"y\"}, {\"hovertemplate\": \"MCT_CAT_CD=\\uc5f0\\ub8cc\\ud310\\ub9e4<br>week=%{x}<br>diff=%{y}<extra></extra>\", \"legendgroup\": \"\\uc5f0\\ub8cc\\ud310\\ub9e4\", \"line\": {\"color\": \"#00cc96\", \"dash\": \"solid\"}, \"mode\": \"lines\", \"name\": \"\\uc5f0\\ub8cc\\ud310\\ub9e4\", \"orientation\": \"v\", \"showlegend\": true, \"type\": \"scatter\", \"x\": [5, 6, 7, 8, 9, 10, 11, 12, 13, 14, 15, 16, 17, 18, 19, 20, 21, 22], \"xaxis\": \"x\", \"y\": [2.230499718247181, 3.720269385155106, 1.5707557920962145, 2.0135987340615316, 3.938150836752783, 2.619272347165783, 2.6408389184279315, 0.15323552428198184, 0.7034889894967691, 2.56953969084352, 0.0459550971358027, -2.4607672950713564, -3.655938076594204, -5.35737921477336, -4.015104878619972, -5.435374754167725, -6.409487882185829, -10.227454064491816], \"yaxis\": \"y\"}, {\"hovertemplate\": \"MCT_CAT_CD=\\uc694\\uc2dd\\uc5c5\\uc18c<br>week=%{x}<br>diff=%{y}<extra></extra>\", \"legendgroup\": \"\\uc694\\uc2dd\\uc5c5\\uc18c\", \"line\": {\"color\": \"#ab63fa\", \"dash\": \"solid\"}, \"mode\": \"lines\", \"name\": \"\\uc694\\uc2dd\\uc5c5\\uc18c\", \"orientation\": \"v\", \"showlegend\": true, \"type\": \"scatter\", \"x\": [5, 6, 7, 8, 9, 10, 11, 12, 13, 14, 15, 16, 17, 18, 19, 20, 21, 22], \"xaxis\": \"x\", \"y\": [-1.7595138196827662, -1.9161663534004845, -0.5076212837033545, -3.8298005986579042, -4.933563737224766, -3.820255873010563, -2.912072470749898, -2.2045103583832706, -2.3652100771828337, -1.823507342419994, -2.046079971128762, -0.5779585686752391, -0.6980844556371899, -0.19022216242601786, 1.3140930005125462, 0.2740289945847927, 1.1906671255022552, 1.5264965355516296], \"yaxis\": \"y\"}, {\"hovertemplate\": \"MCT_CAT_CD=\\uc720\\ud1b5\\uc5c5<br>week=%{x}<br>diff=%{y}<extra></extra>\", \"legendgroup\": \"\\uc720\\ud1b5\\uc5c5\", \"line\": {\"color\": \"#FFA15A\", \"dash\": \"solid\"}, \"mode\": \"lines\", \"name\": \"\\uc720\\ud1b5\\uc5c5\", \"orientation\": \"v\", \"showlegend\": true, \"type\": \"scatter\", \"x\": [5, 6, 7, 8, 9, 10, 11, 12, 13, 14, 15, 16, 17, 18, 19, 20, 21, 22], \"xaxis\": \"x\", \"y\": [-5.093995073574696, -0.9229743796050407, -1.5461425795393637, -0.08151153545701106, -1.6082081065256375, -1.203396663899749, -0.9232452485372811, -1.7101784558521764, 0.4272005922605153, -0.6535342060410656, -0.5462411949206327, -0.47653500752674915, -0.045478769994737434, 2.2409961949254082, 3.174039172530854, 0.491363137205056, 0.4433147522284351, 1.4781239183237496], \"yaxis\": \"y\"}, {\"hovertemplate\": \"MCT_CAT_CD=\\uc74c\\ub8cc\\uc2dd\\ud488<br>week=%{x}<br>diff=%{y}<extra></extra>\", \"legendgroup\": \"\\uc74c\\ub8cc\\uc2dd\\ud488\", \"line\": {\"color\": \"#19d3f3\", \"dash\": \"solid\"}, \"mode\": \"lines\", \"name\": \"\\uc74c\\ub8cc\\uc2dd\\ud488\", \"orientation\": \"v\", \"showlegend\": true, \"type\": \"scatter\", \"x\": [5, 6, 7, 8, 9, 10, 11, 12, 13, 14, 15, 16, 17, 18, 19, 20, 21, 22], \"xaxis\": \"x\", \"y\": [-14.017256344690392, -2.508826929492276, 0.44652635031875576, 1.9299344120036395, 3.4811220142384762, 1.612686303086484, 1.9127244965789565, 1.9474983894408808, 1.9240129211800578, 1.3619226831249769, 1.257248785527434, 2.621853619433171, 1.8937170279573117, 1.4738067744966976, 3.3142356071129626, 3.4424659154042523, 4.763383890313559, 2.3235267629482976], \"yaxis\": \"y\"}, {\"hovertemplate\": \"MCT_CAT_CD=\\uc758\\ub8cc\\uae30\\uad00<br>week=%{x}<br>diff=%{y}<extra></extra>\", \"legendgroup\": \"\\uc758\\ub8cc\\uae30\\uad00\", \"line\": {\"color\": \"#FF6692\", \"dash\": \"solid\"}, \"mode\": \"lines\", \"name\": \"\\uc758\\ub8cc\\uae30\\uad00\", \"orientation\": \"v\", \"showlegend\": true, \"type\": \"scatter\", \"x\": [5, 6, 7, 8, 9, 10, 11, 12, 13, 14, 15, 16, 17, 18, 19, 20, 21, 22], \"xaxis\": \"x\", \"y\": [-8.84498291396028, -1.3216654042653886, 8.508344272528632, -2.8582418083725116, -7.158348377275473, -12.303827126748999, -13.482280463711177, -6.412407731191067, -4.116848418609479, -6.535732590761889, -6.582633230181791, 4.832748747391136, -4.079294890485997, 5.0768651837446015, 4.578036949046073, 0.6107502609254141, -4.006234240443192, 1.3009715894919083], \"yaxis\": \"y\"}, {\"hovertemplate\": \"MCT_CAT_CD=\\uc758\\ubcf5<br>week=%{x}<br>diff=%{y}<extra></extra>\", \"legendgroup\": \"\\uc758\\ubcf5\", \"line\": {\"color\": \"#B6E880\", \"dash\": \"solid\"}, \"mode\": \"lines\", \"name\": \"\\uc758\\ubcf5\", \"orientation\": \"v\", \"showlegend\": true, \"type\": \"scatter\", \"x\": [5, 6, 7, 8, 9, 10, 11, 12, 13, 14, 15, 16, 17, 18, 19, 20, 21, 22], \"xaxis\": \"x\", \"y\": [6.113290830768186, 19.22519374894881, 10.99562706944701, 28.083282482861364, 72.17360574789079, 71.60646919037218, 51.29558865782907, 20.01869292151619, 28.166200340685137, 12.03786530697235, 6.346550213915393, 12.796732358597055, 14.537105968477007, 7.425915247976796, 11.018021964925339, 6.265434415792399, 3.3361948003500075, 3.454413399206871], \"yaxis\": \"y\"}, {\"hovertemplate\": \"MCT_CAT_CD=\\uc790\\ub3d9\\ucc28\\uc815\\ube44<br>week=%{x}<br>diff=%{y}<extra></extra>\", \"legendgroup\": \"\\uc790\\ub3d9\\ucc28\\uc815\\ube44\", \"line\": {\"color\": \"#FF97FF\", \"dash\": \"solid\"}, \"mode\": \"lines\", \"name\": \"\\uc790\\ub3d9\\ucc28\\uc815\\ube44\", \"orientation\": \"v\", \"showlegend\": true, \"type\": \"scatter\", \"x\": [5, 6, 7, 8, 9, 10, 11, 12, 13, 14, 15, 16, 17, 18, 19, 20, 21, 22], \"xaxis\": \"x\", \"y\": [-26.691529282841508, 24.233625899775262, 1.3131742338205612, 27.766111673811025, 80.95225478553274, 41.20575932143643, 35.62110879273623, 29.388493881058963, 45.97557229165176, 15.780749958108444, 14.292393044614577, 9.092376865700025, 8.036710262556106, 5.209296814288351, 4.856449043078598, -0.9117684459287219, 7.572370902170661, 1.7371398214789906], \"yaxis\": \"y\"}, {\"hovertemplate\": \"MCT_CAT_CD=\\uc790\\ub3d9\\ucc28\\ud310\\ub9e4<br>week=%{x}<br>diff=%{y}<extra></extra>\", \"legendgroup\": \"\\uc790\\ub3d9\\ucc28\\ud310\\ub9e4\", \"line\": {\"color\": \"#FECB52\", \"dash\": \"solid\"}, \"mode\": \"lines\", \"name\": \"\\uc790\\ub3d9\\ucc28\\ud310\\ub9e4\", \"orientation\": \"v\", \"showlegend\": true, \"type\": \"scatter\", \"x\": [5, 6, 7, 8, 9, 10, 11, 12, 13, 14, 15, 16, 17, 18, 19, 20, 21, 22], \"xaxis\": \"x\", \"y\": [-24.191934238111003, -207.56400499182212, 89.15110947582923, -235.68763650804158, -875.2310791428358, -413.4179907534274, -17.143761101243285, -191.6255135333854, -158.74487976782757, -393.71773202503164, -317.03307348389313, -212.8949039621416, -34.03697149626339, -166.0315603932936, -213.11086556925426, 242.86662239747977, -235.89195987047043, -165.39372467461044], \"yaxis\": \"y\"}, {\"hovertemplate\": \"MCT_CAT_CD=\\uc804\\uae30<br>week=%{x}<br>diff=%{y}<extra></extra>\", \"legendgroup\": \"\\uc804\\uae30\", \"line\": {\"color\": \"#636efa\", \"dash\": \"solid\"}, \"mode\": \"lines\", \"name\": \"\\uc804\\uae30\", \"orientation\": \"v\", \"showlegend\": true, \"type\": \"scatter\", \"x\": [5, 6, 7, 8, 9, 10, 11, 12, 13, 14, 15, 16, 17, 18, 19, 20, 21, 22], \"xaxis\": \"x\", \"y\": [-164.36666666666667, -30.186538461538476, 14.488260869565238, -36.32044352044352, -31.273459119496835, 190.23529411764707, 98.11034482758623, -244.52412280701753, 46.6345945945946, 48.799049510568864, -183.8079878900792, 87.8676282051282, 112.30421052631579, 292.40069889341873, -73.4608187134503, 210.35194444444448, 49.21477663230243, 164.6875], \"yaxis\": \"y\"}, {\"hovertemplate\": \"MCT_CAT_CD=\\uc8fc\\ubc29\\uc6a9\\uad6c<br>week=%{x}<br>diff=%{y}<extra></extra>\", \"legendgroup\": \"\\uc8fc\\ubc29\\uc6a9\\uad6c\", \"line\": {\"color\": \"#EF553B\", \"dash\": \"solid\"}, \"mode\": \"lines\", \"name\": \"\\uc8fc\\ubc29\\uc6a9\\uad6c\", \"orientation\": \"v\", \"showlegend\": true, \"type\": \"scatter\", \"x\": [5, 6, 7, 8, 9, 10, 11, 12, 13, 14, 15, 16, 17, 18, 19, 20, 21, 22], \"xaxis\": \"x\", \"y\": [-31.716316073354903, 13.36877745601037, -3.989052924099937, -18.23984887368121, -62.879701143770745, -71.66537425125833, 48.68968691096913, 32.19525372680858, 18.477711259557182, 23.14496896629406, -6.456986899563319, 21.4453233325535, -24.28859881548528, -45.84511499376003, -56.075404966340066, 30.914605995446493, -4.156343884442521, -6.528152775895336], \"yaxis\": \"y\"}, {\"hovertemplate\": \"MCT_CAT_CD=\\uc9c1\\ubb3c<br>week=%{x}<br>diff=%{y}<extra></extra>\", \"legendgroup\": \"\\uc9c1\\ubb3c\", \"line\": {\"color\": \"#00cc96\", \"dash\": \"solid\"}, \"mode\": \"lines\", \"name\": \"\\uc9c1\\ubb3c\", \"orientation\": \"v\", \"showlegend\": true, \"type\": \"scatter\", \"x\": [5, 6, 7, 8, 9, 10, 11, 12, 13, 14, 15, 16, 17, 18, 19, 20, 21, 22], \"xaxis\": \"x\", \"y\": [2.3389254385964904, -15.881093460140306, 25.28288060215428, 163.17052118094887, 231.30525173611113, 21.385524557300357, 47.169459631893915, 11.635436810763736, 11.362542955326461, 10.434402991049438, -2.3710601719197655, 52.18296158818714, -11.773500229068475, -16.369367809750656, 22.495542375439342, 16.640250683333477, -3.0449117767193314, -13.170470709944397], \"yaxis\": \"y\"}],\n",
       "                        {\"legend\": {\"title\": {\"text\": \"MCT_CAT_CD\"}, \"tracegroupgap\": 0}, \"margin\": {\"t\": 60}, \"template\": {\"data\": {\"bar\": [{\"error_x\": {\"color\": \"#2a3f5f\"}, \"error_y\": {\"color\": \"#2a3f5f\"}, \"marker\": {\"line\": {\"color\": \"#E5ECF6\", \"width\": 0.5}}, \"type\": \"bar\"}], \"barpolar\": [{\"marker\": {\"line\": {\"color\": \"#E5ECF6\", \"width\": 0.5}}, \"type\": \"barpolar\"}], \"carpet\": [{\"aaxis\": {\"endlinecolor\": \"#2a3f5f\", \"gridcolor\": \"white\", \"linecolor\": \"white\", \"minorgridcolor\": \"white\", \"startlinecolor\": \"#2a3f5f\"}, \"baxis\": {\"endlinecolor\": \"#2a3f5f\", \"gridcolor\": \"white\", \"linecolor\": \"white\", \"minorgridcolor\": \"white\", \"startlinecolor\": \"#2a3f5f\"}, \"type\": \"carpet\"}], \"choropleth\": [{\"colorbar\": {\"outlinewidth\": 0, \"ticks\": \"\"}, \"type\": \"choropleth\"}], \"contour\": [{\"colorbar\": {\"outlinewidth\": 0, \"ticks\": \"\"}, \"colorscale\": [[0.0, \"#0d0887\"], [0.1111111111111111, \"#46039f\"], [0.2222222222222222, \"#7201a8\"], [0.3333333333333333, \"#9c179e\"], [0.4444444444444444, \"#bd3786\"], [0.5555555555555556, \"#d8576b\"], [0.6666666666666666, \"#ed7953\"], [0.7777777777777778, \"#fb9f3a\"], [0.8888888888888888, \"#fdca26\"], [1.0, \"#f0f921\"]], \"type\": \"contour\"}], \"contourcarpet\": [{\"colorbar\": {\"outlinewidth\": 0, \"ticks\": \"\"}, \"type\": \"contourcarpet\"}], \"heatmap\": [{\"colorbar\": {\"outlinewidth\": 0, \"ticks\": \"\"}, \"colorscale\": [[0.0, \"#0d0887\"], [0.1111111111111111, \"#46039f\"], [0.2222222222222222, \"#7201a8\"], [0.3333333333333333, \"#9c179e\"], [0.4444444444444444, \"#bd3786\"], [0.5555555555555556, \"#d8576b\"], [0.6666666666666666, \"#ed7953\"], [0.7777777777777778, \"#fb9f3a\"], [0.8888888888888888, \"#fdca26\"], [1.0, \"#f0f921\"]], \"type\": \"heatmap\"}], \"heatmapgl\": [{\"colorbar\": {\"outlinewidth\": 0, \"ticks\": \"\"}, \"colorscale\": [[0.0, \"#0d0887\"], [0.1111111111111111, \"#46039f\"], [0.2222222222222222, \"#7201a8\"], [0.3333333333333333, \"#9c179e\"], [0.4444444444444444, \"#bd3786\"], [0.5555555555555556, \"#d8576b\"], [0.6666666666666666, \"#ed7953\"], [0.7777777777777778, \"#fb9f3a\"], [0.8888888888888888, \"#fdca26\"], [1.0, \"#f0f921\"]], \"type\": \"heatmapgl\"}], \"histogram\": [{\"marker\": {\"colorbar\": {\"outlinewidth\": 0, \"ticks\": \"\"}}, \"type\": \"histogram\"}], \"histogram2d\": [{\"colorbar\": {\"outlinewidth\": 0, \"ticks\": \"\"}, \"colorscale\": [[0.0, \"#0d0887\"], [0.1111111111111111, \"#46039f\"], [0.2222222222222222, \"#7201a8\"], [0.3333333333333333, \"#9c179e\"], [0.4444444444444444, \"#bd3786\"], [0.5555555555555556, \"#d8576b\"], [0.6666666666666666, \"#ed7953\"], [0.7777777777777778, \"#fb9f3a\"], [0.8888888888888888, \"#fdca26\"], [1.0, \"#f0f921\"]], \"type\": \"histogram2d\"}], \"histogram2dcontour\": [{\"colorbar\": {\"outlinewidth\": 0, \"ticks\": \"\"}, \"colorscale\": [[0.0, \"#0d0887\"], [0.1111111111111111, \"#46039f\"], [0.2222222222222222, \"#7201a8\"], [0.3333333333333333, \"#9c179e\"], [0.4444444444444444, \"#bd3786\"], [0.5555555555555556, \"#d8576b\"], [0.6666666666666666, \"#ed7953\"], [0.7777777777777778, \"#fb9f3a\"], [0.8888888888888888, \"#fdca26\"], [1.0, \"#f0f921\"]], \"type\": \"histogram2dcontour\"}], \"mesh3d\": [{\"colorbar\": {\"outlinewidth\": 0, \"ticks\": \"\"}, \"type\": \"mesh3d\"}], \"parcoords\": [{\"line\": {\"colorbar\": {\"outlinewidth\": 0, \"ticks\": \"\"}}, \"type\": \"parcoords\"}], \"pie\": [{\"automargin\": true, \"type\": \"pie\"}], \"scatter\": [{\"marker\": {\"colorbar\": {\"outlinewidth\": 0, \"ticks\": \"\"}}, \"type\": \"scatter\"}], \"scatter3d\": [{\"line\": {\"colorbar\": {\"outlinewidth\": 0, \"ticks\": \"\"}}, \"marker\": {\"colorbar\": {\"outlinewidth\": 0, \"ticks\": \"\"}}, \"type\": \"scatter3d\"}], \"scattercarpet\": [{\"marker\": {\"colorbar\": {\"outlinewidth\": 0, \"ticks\": \"\"}}, \"type\": \"scattercarpet\"}], \"scattergeo\": [{\"marker\": {\"colorbar\": {\"outlinewidth\": 0, \"ticks\": \"\"}}, \"type\": \"scattergeo\"}], \"scattergl\": [{\"marker\": {\"colorbar\": {\"outlinewidth\": 0, \"ticks\": \"\"}}, \"type\": \"scattergl\"}], \"scattermapbox\": [{\"marker\": {\"colorbar\": {\"outlinewidth\": 0, \"ticks\": \"\"}}, \"type\": \"scattermapbox\"}], \"scatterpolar\": [{\"marker\": {\"colorbar\": {\"outlinewidth\": 0, \"ticks\": \"\"}}, \"type\": \"scatterpolar\"}], \"scatterpolargl\": [{\"marker\": {\"colorbar\": {\"outlinewidth\": 0, \"ticks\": \"\"}}, \"type\": \"scatterpolargl\"}], \"scatterternary\": [{\"marker\": {\"colorbar\": {\"outlinewidth\": 0, \"ticks\": \"\"}}, \"type\": \"scatterternary\"}], \"surface\": [{\"colorbar\": {\"outlinewidth\": 0, \"ticks\": \"\"}, \"colorscale\": [[0.0, \"#0d0887\"], [0.1111111111111111, \"#46039f\"], [0.2222222222222222, \"#7201a8\"], [0.3333333333333333, \"#9c179e\"], [0.4444444444444444, \"#bd3786\"], [0.5555555555555556, \"#d8576b\"], [0.6666666666666666, \"#ed7953\"], [0.7777777777777778, \"#fb9f3a\"], [0.8888888888888888, \"#fdca26\"], [1.0, \"#f0f921\"]], \"type\": \"surface\"}], \"table\": [{\"cells\": {\"fill\": {\"color\": \"#EBF0F8\"}, \"line\": {\"color\": \"white\"}}, \"header\": {\"fill\": {\"color\": \"#C8D4E3\"}, \"line\": {\"color\": \"white\"}}, \"type\": \"table\"}]}, \"layout\": {\"annotationdefaults\": {\"arrowcolor\": \"#2a3f5f\", \"arrowhead\": 0, \"arrowwidth\": 1}, \"coloraxis\": {\"colorbar\": {\"outlinewidth\": 0, \"ticks\": \"\"}}, \"colorscale\": {\"diverging\": [[0, \"#8e0152\"], [0.1, \"#c51b7d\"], [0.2, \"#de77ae\"], [0.3, \"#f1b6da\"], [0.4, \"#fde0ef\"], [0.5, \"#f7f7f7\"], [0.6, \"#e6f5d0\"], [0.7, \"#b8e186\"], [0.8, \"#7fbc41\"], [0.9, \"#4d9221\"], [1, \"#276419\"]], \"sequential\": [[0.0, \"#0d0887\"], [0.1111111111111111, \"#46039f\"], [0.2222222222222222, \"#7201a8\"], [0.3333333333333333, \"#9c179e\"], [0.4444444444444444, \"#bd3786\"], [0.5555555555555556, \"#d8576b\"], [0.6666666666666666, \"#ed7953\"], [0.7777777777777778, \"#fb9f3a\"], [0.8888888888888888, \"#fdca26\"], [1.0, \"#f0f921\"]], \"sequentialminus\": [[0.0, \"#0d0887\"], [0.1111111111111111, \"#46039f\"], [0.2222222222222222, \"#7201a8\"], [0.3333333333333333, \"#9c179e\"], [0.4444444444444444, \"#bd3786\"], [0.5555555555555556, \"#d8576b\"], [0.6666666666666666, \"#ed7953\"], [0.7777777777777778, \"#fb9f3a\"], [0.8888888888888888, \"#fdca26\"], [1.0, \"#f0f921\"]]}, \"colorway\": [\"#636efa\", \"#EF553B\", \"#00cc96\", \"#ab63fa\", \"#FFA15A\", \"#19d3f3\", \"#FF6692\", \"#B6E880\", \"#FF97FF\", \"#FECB52\"], \"font\": {\"color\": \"#2a3f5f\"}, \"geo\": {\"bgcolor\": \"white\", \"lakecolor\": \"white\", \"landcolor\": \"#E5ECF6\", \"showlakes\": true, \"showland\": true, \"subunitcolor\": \"white\"}, \"hoverlabel\": {\"align\": \"left\"}, \"hovermode\": \"closest\", \"mapbox\": {\"style\": \"light\"}, \"paper_bgcolor\": \"white\", \"plot_bgcolor\": \"#E5ECF6\", \"polar\": {\"angularaxis\": {\"gridcolor\": \"white\", \"linecolor\": \"white\", \"ticks\": \"\"}, \"bgcolor\": \"#E5ECF6\", \"radialaxis\": {\"gridcolor\": \"white\", \"linecolor\": \"white\", \"ticks\": \"\"}}, \"scene\": {\"xaxis\": {\"backgroundcolor\": \"#E5ECF6\", \"gridcolor\": \"white\", \"gridwidth\": 2, \"linecolor\": \"white\", \"showbackground\": true, \"ticks\": \"\", \"zerolinecolor\": \"white\"}, \"yaxis\": {\"backgroundcolor\": \"#E5ECF6\", \"gridcolor\": \"white\", \"gridwidth\": 2, \"linecolor\": \"white\", \"showbackground\": true, \"ticks\": \"\", \"zerolinecolor\": \"white\"}, \"zaxis\": {\"backgroundcolor\": \"#E5ECF6\", \"gridcolor\": \"white\", \"gridwidth\": 2, \"linecolor\": \"white\", \"showbackground\": true, \"ticks\": \"\", \"zerolinecolor\": \"white\"}}, \"shapedefaults\": {\"line\": {\"color\": \"#2a3f5f\"}}, \"ternary\": {\"aaxis\": {\"gridcolor\": \"white\", \"linecolor\": \"white\", \"ticks\": \"\"}, \"baxis\": {\"gridcolor\": \"white\", \"linecolor\": \"white\", \"ticks\": \"\"}, \"bgcolor\": \"#E5ECF6\", \"caxis\": {\"gridcolor\": \"white\", \"linecolor\": \"white\", \"ticks\": \"\"}}, \"title\": {\"x\": 0.05}, \"xaxis\": {\"automargin\": true, \"gridcolor\": \"white\", \"linecolor\": \"white\", \"ticks\": \"\", \"title\": {\"standoff\": 15}, \"zerolinecolor\": \"white\", \"zerolinewidth\": 2}, \"yaxis\": {\"automargin\": true, \"gridcolor\": \"white\", \"linecolor\": \"white\", \"ticks\": \"\", \"title\": {\"standoff\": 15}, \"zerolinecolor\": \"white\", \"zerolinewidth\": 2}}}, \"xaxis\": {\"anchor\": \"y\", \"domain\": [0.0, 1.0], \"tickmode\": \"array\", \"ticktext\": [\"12/23\", \"12/30\", \"1/6\", \"1/13\", \"1/20\", \"1/27\", \"2/3\", \"2/10\", \"2/17\", \"2/24\", \"3/2\", \"3/9\", \"3/16\", \"3/23\", \"3/30\", \"4/6\", \"4/13\", \"4/20\", \"4/27\", \"5/4\", \"5/11\", \"5/18\", \"5/25\", \"6/1\", \"6/8\", \"6/15\", \"6/22\", \"6/29\", \"7/6\", \"7/13\", \"7/20\", \"7/27\", \"8/3\", \"8/10\", \"8/17\", \"8/24\", \"8/31\", \"9/7\", \"9/14\", \"9/21\", \"9/28\", \"10/5\", \"10/12\", \"10/19\", \"10/26\", \"11/2\", \"11/9\", \"11/16\", \"11/23\", \"11/30\", \"12/7\", \"12/14\"], \"tickvals\": [0, 1, 2, 3, 4, 5, 6, 7, 8, 9, 10, 11, 12, 13, 14, 15, 16, 17, 18, 19, 20, 21, 22, 23, 24, 25, 26, 27, 28, 29, 30, 31, 32, 33, 34, 35, 36, 37, 38, 39, 40, 41, 42, 43, 44, 45, 46, 47, 48, 49, 50, 51], \"title\": {\"text\": \"week\"}}, \"yaxis\": {\"anchor\": \"x\", \"domain\": [0.0, 1.0], \"title\": {\"text\": \"diff\"}}},\n",
       "                        {\"responsive\": true}\n",
       "                    ).then(function(){\n",
       "                            \n",
       "var gd = document.getElementById('7d5af320-6bee-4ef8-997b-7f0aca9a8949');\n",
       "var x = new MutationObserver(function (mutations, observer) {{\n",
       "        var display = window.getComputedStyle(gd).display;\n",
       "        if (!display || display === 'none') {{\n",
       "            console.log([gd, 'removed!']);\n",
       "            Plotly.purge(gd);\n",
       "            observer.disconnect();\n",
       "        }}\n",
       "}});\n",
       "\n",
       "// Listen for the removal of the full notebook cells\n",
       "var notebookContainer = gd.closest('#notebook-container');\n",
       "if (notebookContainer) {{\n",
       "    x.observe(notebookContainer, {childList: true});\n",
       "}}\n",
       "\n",
       "// Listen for the clearing of the current output cell\n",
       "var outputEl = gd.closest('.output');\n",
       "if (outputEl) {{\n",
       "    x.observe(outputEl, {childList: true});\n",
       "}}\n",
       "\n",
       "                        })\n",
       "                };\n",
       "                });\n",
       "            </script>\n",
       "        </div>"
      ]
     },
     "metadata": {},
     "output_type": "display_data"
    }
   ],
   "source": [
    "fig = px.line(daegu_cnt_diff2, x=\"week\", y=\"diff\", color='MCT_CAT_CD')\n",
    "\n",
    "fig.update_layout(xaxis=dict(tickmode='array', tickvals=np.arange(0, len(test2)), ticktext=test2))\n",
    "fig.show()"
   ]
  },
  {
   "cell_type": "markdown",
   "metadata": {},
   "source": [
    "## 생각해볼 거리\n",
    "\n",
    "업종 코드를 간소화 하거나 일부만 봐야 할듯 \n",
    "\n",
    "평균을 사용할지 합산을 사용할지 생각해 봐야 할듯\n",
    "\n",
    "주당으로 하나로 볼지 주중 주말로 따로 볼지 생각해보기\n",
    "\n",
    "- 일별은 의미 없어보임, 주별로 하면 주중 주말 효과를 한번에 해결할 장점 있음, 주중 주말을 따로 보면 더 깊게 세부적으로 본다는 장점이 있음\n"
   ]
  },
  {
   "cell_type": "markdown",
   "metadata": {},
   "source": [
    "# 추가\n",
    "\n",
    "## 변동폭 동일한 그래프"
   ]
  },
  {
   "cell_type": "code",
   "execution_count": 32,
   "metadata": {},
   "outputs": [
    {
     "data": {
      "text/html": [
       "<div>\n",
       "<style scoped>\n",
       "    .dataframe tbody tr th:only-of-type {\n",
       "        vertical-align: middle;\n",
       "    }\n",
       "\n",
       "    .dataframe tbody tr th {\n",
       "        vertical-align: top;\n",
       "    }\n",
       "\n",
       "    .dataframe thead tr th {\n",
       "        text-align: left;\n",
       "    }\n",
       "\n",
       "    .dataframe thead tr:last-of-type th {\n",
       "        text-align: right;\n",
       "    }\n",
       "</style>\n",
       "<table border=\"1\" class=\"dataframe\">\n",
       "  <thead>\n",
       "    <tr>\n",
       "      <th></th>\n",
       "      <th></th>\n",
       "      <th colspan=\"2\" halign=\"left\">USE_AMT</th>\n",
       "      <th colspan=\"2\" halign=\"left\">USE_CNT</th>\n",
       "    </tr>\n",
       "    <tr>\n",
       "      <th></th>\n",
       "      <th>year</th>\n",
       "      <th>2019</th>\n",
       "      <th>2020</th>\n",
       "      <th>2019</th>\n",
       "      <th>2020</th>\n",
       "    </tr>\n",
       "    <tr>\n",
       "      <th>week</th>\n",
       "      <th>MCT_CAT_CD</th>\n",
       "      <th></th>\n",
       "      <th></th>\n",
       "      <th></th>\n",
       "      <th></th>\n",
       "    </tr>\n",
       "  </thead>\n",
       "  <tbody>\n",
       "    <tr>\n",
       "      <th rowspan=\"5\" valign=\"top\">5</th>\n",
       "      <th>가구</th>\n",
       "      <td>94818</td>\n",
       "      <td>206005</td>\n",
       "      <td>336</td>\n",
       "      <td>272</td>\n",
       "    </tr>\n",
       "    <tr>\n",
       "      <th>가전</th>\n",
       "      <td>820559</td>\n",
       "      <td>531576</td>\n",
       "      <td>3162</td>\n",
       "      <td>1188</td>\n",
       "    </tr>\n",
       "    <tr>\n",
       "      <th>광학제품</th>\n",
       "      <td>129704</td>\n",
       "      <td>132828</td>\n",
       "      <td>2253</td>\n",
       "      <td>1194</td>\n",
       "    </tr>\n",
       "    <tr>\n",
       "      <th>레저업소</th>\n",
       "      <td>1384626</td>\n",
       "      <td>940303</td>\n",
       "      <td>84124</td>\n",
       "      <td>59132</td>\n",
       "    </tr>\n",
       "    <tr>\n",
       "      <th>레저용품</th>\n",
       "      <td>3116078</td>\n",
       "      <td>1675796</td>\n",
       "      <td>39799</td>\n",
       "      <td>21592</td>\n",
       "    </tr>\n",
       "    <tr>\n",
       "      <th>...</th>\n",
       "      <th>...</th>\n",
       "      <td>...</td>\n",
       "      <td>...</td>\n",
       "      <td>...</td>\n",
       "      <td>...</td>\n",
       "    </tr>\n",
       "    <tr>\n",
       "      <th rowspan=\"5\" valign=\"top\">22</th>\n",
       "      <th>자동차정비</th>\n",
       "      <td>1971042</td>\n",
       "      <td>2776705</td>\n",
       "      <td>63617</td>\n",
       "      <td>78834</td>\n",
       "    </tr>\n",
       "    <tr>\n",
       "      <th>자동차판매</th>\n",
       "      <td>538584</td>\n",
       "      <td>661104</td>\n",
       "      <td>1035</td>\n",
       "      <td>1636</td>\n",
       "    </tr>\n",
       "    <tr>\n",
       "      <th>전기</th>\n",
       "      <td>40665</td>\n",
       "      <td>64844</td>\n",
       "      <td>198</td>\n",
       "      <td>355</td>\n",
       "    </tr>\n",
       "    <tr>\n",
       "      <th>주방용구</th>\n",
       "      <td>466752</td>\n",
       "      <td>872428</td>\n",
       "      <td>2484</td>\n",
       "      <td>6111</td>\n",
       "    </tr>\n",
       "    <tr>\n",
       "      <th>직물</th>\n",
       "      <td>416783</td>\n",
       "      <td>809153</td>\n",
       "      <td>2601</td>\n",
       "      <td>6457</td>\n",
       "    </tr>\n",
       "  </tbody>\n",
       "</table>\n",
       "<p>414 rows × 4 columns</p>\n",
       "</div>"
      ],
      "text/plain": [
       "                 USE_AMT          USE_CNT       \n",
       "year                2019     2020    2019   2020\n",
       "week MCT_CAT_CD                                 \n",
       "5    가구            94818   206005     336    272\n",
       "     가전           820559   531576    3162   1188\n",
       "     광학제품         129704   132828    2253   1194\n",
       "     레저업소        1384626   940303   84124  59132\n",
       "     레저용품        3116078  1675796   39799  21592\n",
       "...                  ...      ...     ...    ...\n",
       "22   자동차정비       1971042  2776705   63617  78834\n",
       "     자동차판매        538584   661104    1035   1636\n",
       "     전기            40665    64844     198    355\n",
       "     주방용구         466752   872428    2484   6111\n",
       "     직물           416783   809153    2601   6457\n",
       "\n",
       "[414 rows x 4 columns]"
      ]
     },
     "execution_count": 32,
     "metadata": {},
     "output_type": "execute_result"
    }
   ],
   "source": [
    "table"
   ]
  },
  {
   "cell_type": "code",
   "execution_count": 33,
   "metadata": {},
   "outputs": [],
   "source": [
    "var = (rs_card_data.groupby('MCT_CAT_CD').USE_AMT.sum() / rs_card_data.groupby('MCT_CAT_CD').USE_CNT.sum()).reset_index()"
   ]
  },
  {
   "cell_type": "code",
   "execution_count": 34,
   "metadata": {},
   "outputs": [],
   "source": [
    "var.columns = ['MCT_CAT_CD','var']"
   ]
  },
  {
   "cell_type": "code",
   "execution_count": 35,
   "metadata": {},
   "outputs": [],
   "source": [
    "std_cnt_diff2 = cnt_diff2.merge(var)"
   ]
  },
  {
   "cell_type": "code",
   "execution_count": 36,
   "metadata": {},
   "outputs": [],
   "source": [
    "std_cnt_diff2['std_diff'] = std_cnt_diff2['diff'] / std_cnt_diff2['var']"
   ]
  },
  {
   "cell_type": "code",
   "execution_count": 37,
   "metadata": {},
   "outputs": [
    {
     "data": {
      "application/vnd.plotly.v1+json": {
       "config": {
        "plotlyServerURL": "https://plot.ly"
       },
       "data": [
        {
         "hovertemplate": "MCT_CAT_CD=가구<br>week=%{x}<br>std_diff=%{y}<extra></extra>",
         "legendgroup": "가구",
         "line": {
          "color": "#636efa",
          "dash": "solid"
         },
         "mode": "lines",
         "name": "가구",
         "orientation": "v",
         "showlegend": true,
         "type": "scatter",
         "x": [
          5,
          6,
          7,
          8,
          9,
          10,
          11,
          12,
          13,
          14,
          15,
          16,
          17,
          18,
          19,
          20,
          21,
          22
         ],
         "xaxis": "x",
         "y": [
          1.0247852293813928,
          0.6546399906564061,
          0.41197380407154705,
          0.42314714046836127,
          0.38160304860609645,
          0.5610731162921727,
          0.11302675499659857,
          -0.1600174078498136,
          0.22025778646030647,
          0.48389681223487946,
          0.055039413538220575,
          0.4406770727448386,
          0.5977580060486088,
          0.3198984572521138,
          0.014691487707520635,
          0.08926872428223784,
          -0.06420186311719367,
          0.22481658206562757
         ],
         "yaxis": "y"
        },
        {
         "hovertemplate": "MCT_CAT_CD=가전<br>week=%{x}<br>std_diff=%{y}<extra></extra>",
         "legendgroup": "가전",
         "line": {
          "color": "#EF553B",
          "dash": "solid"
         },
         "mode": "lines",
         "name": "가전",
         "orientation": "v",
         "showlegend": true,
         "type": "scatter",
         "x": [
          5,
          6,
          7,
          8,
          9,
          10,
          11,
          12,
          13,
          14,
          15,
          16,
          17,
          18,
          19,
          20,
          21,
          22
         ],
         "xaxis": "x",
         "y": [
          0.6854562132241017,
          0.16802945428487304,
          0.19319596978821388,
          0.1409300941020596,
          0.2420943979468063,
          0.1558533978907218,
          -0.11981725379927616,
          -0.0076027428710772555,
          0.1367847139046377,
          0.07328820901125256,
          0.012209812957587534,
          -0.08417339174091464,
          -0.023058330306677196,
          0.14952873887998214,
          -0.08390517848408802,
          0.09585318461673172,
          0.059794533461131776,
          -0.0020549490859997424
         ],
         "yaxis": "y"
        },
        {
         "hovertemplate": "MCT_CAT_CD=광학제품<br>week=%{x}<br>std_diff=%{y}<extra></extra>",
         "legendgroup": "광학제품",
         "line": {
          "color": "#00cc96",
          "dash": "solid"
         },
         "mode": "lines",
         "name": "광학제품",
         "orientation": "v",
         "showlegend": true,
         "type": "scatter",
         "x": [
          5,
          6,
          7,
          8,
          9,
          10,
          11,
          12,
          13,
          14,
          15,
          16,
          17,
          18,
          19,
          20,
          21,
          22
         ],
         "xaxis": "x",
         "y": [
          0.7638073985645878,
          -0.31570931073781755,
          0.1498135822013219,
          -0.13247347872852944,
          0.23094971332621064,
          0.36761773983375606,
          -0.12229844234514578,
          -0.0491208813632646,
          -0.6772280735926495,
          0.47781692823858307,
          0.1277147002529613,
          0.4173079810998618,
          -0.28810401592028567,
          -0.33800038465646565,
          0.17101544790457615,
          0.12155134721877875,
          -0.4913181175520763,
          -0.08855620477208682
         ],
         "yaxis": "y"
        },
        {
         "hovertemplate": "MCT_CAT_CD=레저업소<br>week=%{x}<br>std_diff=%{y}<extra></extra>",
         "legendgroup": "레저업소",
         "line": {
          "color": "#ab63fa",
          "dash": "solid"
         },
         "mode": "lines",
         "name": "레저업소",
         "orientation": "v",
         "showlegend": true,
         "type": "scatter",
         "x": [
          5,
          6,
          7,
          8,
          9,
          10,
          11,
          12,
          13,
          14,
          15,
          16,
          17,
          18,
          19,
          20,
          21,
          22
         ],
         "xaxis": "x",
         "y": [
          -0.028167621135352486,
          0.14056873087093294,
          -0.1711161289512969,
          -0.18374041169482658,
          -0.28262060884852025,
          -0.4041777596884175,
          -0.2923234730127398,
          -0.16800624580061863,
          -0.48461352960447196,
          -0.48694812993814396,
          -0.25954751800586556,
          -0.321825594281826,
          -0.07894352042098607,
          -0.1222340206875142,
          0.10261074082666627,
          0.10676993978756882,
          0.038670174940441955,
          0.0012533829587688707
         ],
         "yaxis": "y"
        },
        {
         "hovertemplate": "MCT_CAT_CD=레저용품<br>week=%{x}<br>std_diff=%{y}<extra></extra>",
         "legendgroup": "레저용품",
         "line": {
          "color": "#FFA15A",
          "dash": "solid"
         },
         "mode": "lines",
         "name": "레저용품",
         "orientation": "v",
         "showlegend": true,
         "type": "scatter",
         "x": [
          5,
          6,
          7,
          8,
          9,
          10,
          11,
          12,
          13,
          14,
          15,
          16,
          17,
          18,
          19,
          20,
          21,
          22
         ],
         "xaxis": "x",
         "y": [
          -0.008902974974410192,
          0.047051298360217944,
          0.0788336033030724,
          0.08169123989962926,
          0.1366735742975012,
          0.1371332012937219,
          0.08810911378203723,
          0.032774391106162544,
          0.04992909572133091,
          0.032556087757702364,
          0.03180265353756477,
          -0.03441930304521057,
          -0.024515099798816966,
          -0.0006293334200919259,
          0.027282249624250982,
          0.07444019134761949,
          0.09570467169061438,
          0.00214508580885059
         ],
         "yaxis": "y"
        },
        {
         "hovertemplate": "MCT_CAT_CD=문화취미<br>week=%{x}<br>std_diff=%{y}<extra></extra>",
         "legendgroup": "문화취미",
         "line": {
          "color": "#19d3f3",
          "dash": "solid"
         },
         "mode": "lines",
         "name": "문화취미",
         "orientation": "v",
         "showlegend": true,
         "type": "scatter",
         "x": [
          5,
          6,
          7,
          8,
          9,
          10,
          11,
          12,
          13,
          14,
          15,
          16,
          17,
          18,
          19,
          20,
          21,
          22
         ],
         "xaxis": "x",
         "y": [
          0.08125367268796481,
          0.29394132790690486,
          -0.06980979192716222,
          0.08345479774244752,
          0.056899554895251815,
          0.2215182668388986,
          0.0789039587803235,
          0.30269210701228183,
          0.2738898608631834,
          0.30593096271976217,
          0.2985939267243811,
          0.08398850703215284,
          0.5056647064503639,
          0.33328794316631594,
          0.11814122520883896,
          0.304557086153874,
          0.14528598898048742,
          0.1874552361609003
         ],
         "yaxis": "y"
        },
        {
         "hovertemplate": "MCT_CAT_CD=보건위생<br>week=%{x}<br>std_diff=%{y}<extra></extra>",
         "legendgroup": "보건위생",
         "line": {
          "color": "#FF6692",
          "dash": "solid"
         },
         "mode": "lines",
         "name": "보건위생",
         "orientation": "v",
         "showlegend": true,
         "type": "scatter",
         "x": [
          5,
          6,
          7,
          8,
          9,
          10,
          11,
          12,
          13,
          14,
          15,
          16,
          17,
          18,
          19,
          20,
          21,
          22
         ],
         "xaxis": "x",
         "y": [
          0.07317694647210578,
          0.30231609950264104,
          0.14313747341828556,
          0.047274716540938726,
          0.263830166210621,
          0.04577740271279264,
          0.09659685264778459,
          0.06376979314317462,
          -0.08202515527875683,
          0.193999599019226,
          0.09225117470153481,
          0.07904976346541652,
          0.07836705471293658,
          0.14508010234012586,
          0.14388546552783554,
          0.225104385115162,
          0.30231368804531,
          0.03562575550258241
         ],
         "yaxis": "y"
        },
        {
         "hovertemplate": "MCT_CAT_CD=사무통신<br>week=%{x}<br>std_diff=%{y}<extra></extra>",
         "legendgroup": "사무통신",
         "line": {
          "color": "#B6E880",
          "dash": "solid"
         },
         "mode": "lines",
         "name": "사무통신",
         "orientation": "v",
         "showlegend": true,
         "type": "scatter",
         "x": [
          5,
          6,
          7,
          8,
          9,
          10,
          11,
          12,
          13,
          14,
          15,
          16,
          17,
          18,
          19,
          20,
          21,
          22
         ],
         "xaxis": "x",
         "y": [
          -0.055886450214672694,
          0.07251615469355471,
          -0.026291865173294664,
          0.01816049077133579,
          0.5415885544137284,
          0.19394559610391224,
          0.18152531862982607,
          0.14300864048096937,
          0.12270570871397307,
          0.27378216053867355,
          0.10528328680956711,
          0.08929285669858733,
          0.06538903580367468,
          0.12178175906988807,
          0.024166800549969895,
          0.08693398927218936,
          0.048922159966604185,
          0.02952479773458948
         ],
         "yaxis": "y"
        },
        {
         "hovertemplate": "MCT_CAT_CD=서적문구<br>week=%{x}<br>std_diff=%{y}<extra></extra>",
         "legendgroup": "서적문구",
         "line": {
          "color": "#FF97FF",
          "dash": "solid"
         },
         "mode": "lines",
         "name": "서적문구",
         "orientation": "v",
         "showlegend": true,
         "type": "scatter",
         "x": [
          5,
          6,
          7,
          8,
          9,
          10,
          11,
          12,
          13,
          14,
          15,
          16,
          17,
          18,
          19,
          20,
          21,
          22
         ],
         "xaxis": "x",
         "y": [
          -0.20707231142887708,
          0.23484648967869717,
          -0.025747880787880453,
          0.051789940845802664,
          0.3416705752712458,
          0.1269198886474474,
          0.301740861780843,
          0.17368495087149394,
          0.16997189179107414,
          0.5101124124717282,
          0.27847222750222916,
          0.17767317521064863,
          0.1969555112262051,
          0.19265100999231327,
          0.2287199555434298,
          0.2716326509683811,
          0.1629179879382249,
          0.13359744360460704
         ],
         "yaxis": "y"
        },
        {
         "hovertemplate": "MCT_CAT_CD=수리서비스<br>week=%{x}<br>std_diff=%{y}<extra></extra>",
         "legendgroup": "수리서비스",
         "line": {
          "color": "#FECB52",
          "dash": "solid"
         },
         "mode": "lines",
         "name": "수리서비스",
         "orientation": "v",
         "showlegend": true,
         "type": "scatter",
         "x": [
          5,
          6,
          7,
          8,
          9,
          10,
          11,
          12,
          13,
          14,
          15,
          16,
          17,
          18,
          19,
          20,
          21,
          22
         ],
         "xaxis": "x",
         "y": [
          -0.18591885799313954,
          0.15584073478604366,
          0.09901866067995668,
          0.038759241348462266,
          0.14309379017115462,
          -0.004021128098606826,
          0.0715539921815562,
          0.12802344292474707,
          0.15542934286645793,
          0.09725969541338492,
          0.1983425338838894,
          0.18319833706379499,
          0.1373837972583287,
          -0.022413672089939482,
          0.12803558890594013,
          0.12401854039876087,
          0.043773734489714486,
          -0.16758985506727078
         ],
         "yaxis": "y"
        },
        {
         "hovertemplate": "MCT_CAT_CD=숙박<br>week=%{x}<br>std_diff=%{y}<extra></extra>",
         "legendgroup": "숙박",
         "line": {
          "color": "#636efa",
          "dash": "solid"
         },
         "mode": "lines",
         "name": "숙박",
         "orientation": "v",
         "showlegend": true,
         "type": "scatter",
         "x": [
          5,
          6,
          7,
          8,
          9,
          10,
          11,
          12,
          13,
          14,
          15,
          16,
          17,
          18,
          19,
          20,
          21,
          22
         ],
         "xaxis": "x",
         "y": [
          0.5119175960752299,
          0.03998725243301237,
          0.0002888066489608902,
          -0.10903191857811745,
          -0.0785595785138545,
          -0.15566266197190487,
          0.023329240942311116,
          0.17149842511267938,
          -0.20865758967638154,
          -0.11750643863368204,
          -0.04060133140578661,
          0.022045640812547746,
          -0.26657244422086446,
          0.031040534516075757,
          -0.020242214005420762,
          0.029070135820611867,
          -0.3559890222144963,
          -0.39969941278172516
         ],
         "yaxis": "y"
        },
        {
         "hovertemplate": "MCT_CAT_CD=신변잡화<br>week=%{x}<br>std_diff=%{y}<extra></extra>",
         "legendgroup": "신변잡화",
         "line": {
          "color": "#EF553B",
          "dash": "solid"
         },
         "mode": "lines",
         "name": "신변잡화",
         "orientation": "v",
         "showlegend": true,
         "type": "scatter",
         "x": [
          5,
          6,
          7,
          8,
          9,
          10,
          11,
          12,
          13,
          14,
          15,
          16,
          17,
          18,
          19,
          20,
          21,
          22
         ],
         "xaxis": "x",
         "y": [
          0.26685109788362454,
          0.21747948249863489,
          0.19235320658194058,
          0.10700036120076675,
          0.7418616600663067,
          0.5054382206688359,
          0.09976804504818776,
          0.31025746768684237,
          0.3302168512053544,
          0.2846891703891057,
          0.28839629425707114,
          0.013523200655185412,
          0.129934356105414,
          0.12098866543337977,
          0.20850513430907466,
          0.07960102405678775,
          -0.08587034774994072,
          -0.3221670294967488
         ],
         "yaxis": "y"
        },
        {
         "hovertemplate": "MCT_CAT_CD=연료판매<br>week=%{x}<br>std_diff=%{y}<extra></extra>",
         "legendgroup": "연료판매",
         "line": {
          "color": "#00cc96",
          "dash": "solid"
         },
         "mode": "lines",
         "name": "연료판매",
         "orientation": "v",
         "showlegend": true,
         "type": "scatter",
         "x": [
          5,
          6,
          7,
          8,
          9,
          10,
          11,
          12,
          13,
          14,
          15,
          16,
          17,
          18,
          19,
          20,
          21,
          22
         ],
         "xaxis": "x",
         "y": [
          0.03960129485978967,
          0.08746213173205257,
          0.05542692491991565,
          0.048062368824841425,
          0.07270875504362902,
          0.04124876532089718,
          0.04882351829820475,
          -0.0006431854983763045,
          0.018865608657932173,
          0.034717502089855,
          -0.006723098474761907,
          -0.05237247776061909,
          -0.06623646962519768,
          -0.10477819114591974,
          -0.10320370294696615,
          -0.11047430998082805,
          -0.13326293488557184,
          -0.18145210134248296
         ],
         "yaxis": "y"
        },
        {
         "hovertemplate": "MCT_CAT_CD=요식업소<br>week=%{x}<br>std_diff=%{y}<extra></extra>",
         "legendgroup": "요식업소",
         "line": {
          "color": "#ab63fa",
          "dash": "solid"
         },
         "mode": "lines",
         "name": "요식업소",
         "orientation": "v",
         "showlegend": true,
         "type": "scatter",
         "x": [
          5,
          6,
          7,
          8,
          9,
          10,
          11,
          12,
          13,
          14,
          15,
          16,
          17,
          18,
          19,
          20,
          21,
          22
         ],
         "xaxis": "x",
         "y": [
          -0.08532750980440053,
          -0.07523537742397972,
          -0.04926046930726509,
          -0.13977816471618149,
          -0.2051353444248003,
          -0.1482934302333151,
          -0.13953628348969752,
          -0.1418184440992326,
          -0.1135298719709553,
          -0.09446733401295514,
          -0.09671058965364684,
          -0.052820254580119984,
          -0.04303968702694669,
          -0.05191536312537165,
          -0.014029673616177341,
          -0.009313478120821785,
          0.008323533415236459,
          0.022918916607498827
         ],
         "yaxis": "y"
        },
        {
         "hovertemplate": "MCT_CAT_CD=유통업<br>week=%{x}<br>std_diff=%{y}<extra></extra>",
         "legendgroup": "유통업",
         "line": {
          "color": "#FFA15A",
          "dash": "solid"
         },
         "mode": "lines",
         "name": "유통업",
         "orientation": "v",
         "showlegend": true,
         "type": "scatter",
         "x": [
          5,
          6,
          7,
          8,
          9,
          10,
          11,
          12,
          13,
          14,
          15,
          16,
          17,
          18,
          19,
          20,
          21,
          22
         ],
         "xaxis": "x",
         "y": [
          -0.1082554783329273,
          -0.21258472151100166,
          -0.024171912093918037,
          -0.006299332417421614,
          -0.09437172270701823,
          -0.05879501668483791,
          -0.0165433583180392,
          0.00922495283625801,
          0.013925656681518975,
          -0.017615048584275806,
          0.04179420221103285,
          0.07581422126460831,
          0.07445831382610837,
          0.13928144025101982,
          0.13292763147243422,
          0.11943799705527196,
          0.11474734699770868,
          0.21540483840726335
         ],
         "yaxis": "y"
        },
        {
         "hovertemplate": "MCT_CAT_CD=음료식품<br>week=%{x}<br>std_diff=%{y}<extra></extra>",
         "legendgroup": "음료식품",
         "line": {
          "color": "#19d3f3",
          "dash": "solid"
         },
         "mode": "lines",
         "name": "음료식품",
         "orientation": "v",
         "showlegend": true,
         "type": "scatter",
         "x": [
          5,
          6,
          7,
          8,
          9,
          10,
          11,
          12,
          13,
          14,
          15,
          16,
          17,
          18,
          19,
          20,
          21,
          22
         ],
         "xaxis": "x",
         "y": [
          -0.7787065466467832,
          -0.09997500810344823,
          0.05491521509201491,
          0.08581426691654631,
          0.12720226575825394,
          0.10748595949375254,
          0.09902404102206264,
          0.11430997885156777,
          0.08457198702926921,
          0.10449500479233323,
          0.099034415120976,
          0.10974202796156592,
          0.08397292998946648,
          0.09619522029536455,
          0.15329856711421502,
          0.1884318807118074,
          0.2667038286175888,
          0.11009120503396937
         ],
         "yaxis": "y"
        },
        {
         "hovertemplate": "MCT_CAT_CD=의료기관<br>week=%{x}<br>std_diff=%{y}<extra></extra>",
         "legendgroup": "의료기관",
         "line": {
          "color": "#FF6692",
          "dash": "solid"
         },
         "mode": "lines",
         "name": "의료기관",
         "orientation": "v",
         "showlegend": true,
         "type": "scatter",
         "x": [
          5,
          6,
          7,
          8,
          9,
          10,
          11,
          12,
          13,
          14,
          15,
          16,
          17,
          18,
          19,
          20,
          21,
          22
         ],
         "xaxis": "x",
         "y": [
          -0.11827949475389209,
          -0.004827726115824626,
          0.04844152084042248,
          -0.11548087318105742,
          -0.0359075449292295,
          -0.12322436695066419,
          -0.23356201838882906,
          -0.22741511467399994,
          -0.22688257406553006,
          -0.031286254306481735,
          -0.11859304006983139,
          -0.0688689024732897,
          -0.20594211542202592,
          0.1325948305621894,
          -0.03342600998103303,
          -0.0523913668269349,
          -0.13730946417711837,
          -0.1564799106874606
         ],
         "yaxis": "y"
        },
        {
         "hovertemplate": "MCT_CAT_CD=의복<br>week=%{x}<br>std_diff=%{y}<extra></extra>",
         "legendgroup": "의복",
         "line": {
          "color": "#B6E880",
          "dash": "solid"
         },
         "mode": "lines",
         "name": "의복",
         "orientation": "v",
         "showlegend": true,
         "type": "scatter",
         "x": [
          5,
          6,
          7,
          8,
          9,
          10,
          11,
          12,
          13,
          14,
          15,
          16,
          17,
          18,
          19,
          20,
          21,
          22
         ],
         "xaxis": "x",
         "y": [
          0.1351867336354199,
          0.25807217387908915,
          0.11837776047802083,
          0.23256336576675712,
          0.216254154493011,
          0.3638695479250942,
          0.1710946445247098,
          0.14268073729786013,
          0.16358542793037467,
          0.08114407848051552,
          -0.016731430488602324,
          0.05203999242765085,
          0.1810176273666304,
          0.04997745508274283,
          0.0878134159869144,
          0.07915611456264755,
          0.04522662289013425,
          -0.012578403761007466
         ],
         "yaxis": "y"
        },
        {
         "hovertemplate": "MCT_CAT_CD=자동차정비<br>week=%{x}<br>std_diff=%{y}<extra></extra>",
         "legendgroup": "자동차정비",
         "line": {
          "color": "#FF97FF",
          "dash": "solid"
         },
         "mode": "lines",
         "name": "자동차정비",
         "orientation": "v",
         "showlegend": true,
         "type": "scatter",
         "x": [
          5,
          6,
          7,
          8,
          9,
          10,
          11,
          12,
          13,
          14,
          15,
          16,
          17,
          18,
          19,
          20,
          21,
          22
         ],
         "xaxis": "x",
         "y": [
          -0.16794719995578408,
          0.48193561900471504,
          0.22468734645912597,
          0.3359691704003285,
          0.6385125942455719,
          0.33982778916949935,
          0.40389057238322973,
          0.29993155606849514,
          0.4466286667651205,
          0.267979043174983,
          0.3365396782762875,
          0.22265908928602512,
          0.26529538336371794,
          0.15075617510269781,
          0.22677976255275187,
          0.1385837484890029,
          0.23659766466352716,
          0.16104603472972273
         ],
         "yaxis": "y"
        },
        {
         "hovertemplate": "MCT_CAT_CD=자동차판매<br>week=%{x}<br>std_diff=%{y}<extra></extra>",
         "legendgroup": "자동차판매",
         "line": {
          "color": "#FECB52",
          "dash": "solid"
         },
         "mode": "lines",
         "name": "자동차판매",
         "orientation": "v",
         "showlegend": true,
         "type": "scatter",
         "x": [
          5,
          6,
          7,
          8,
          9,
          10,
          11,
          12,
          13,
          14,
          15,
          16,
          17,
          18,
          19,
          20,
          21,
          22
         ],
         "xaxis": "x",
         "y": [
          0.08357844969255038,
          -0.2018543674012498,
          0.13247294704237644,
          -0.2143898411664418,
          -0.6205004439124064,
          -0.2819725395871738,
          -0.05553110530037314,
          -0.30319871436656864,
          -0.2809679123066657,
          -0.44669228071306744,
          -0.1710192700065314,
          -0.26248973645523427,
          0.11972871940700641,
          -0.20551855644866865,
          -0.39951876792339297,
          0.12412124840142089,
          -0.20745028226059528,
          -0.20874764849303937
         ],
         "yaxis": "y"
        },
        {
         "hovertemplate": "MCT_CAT_CD=전기<br>week=%{x}<br>std_diff=%{y}<extra></extra>",
         "legendgroup": "전기",
         "line": {
          "color": "#636efa",
          "dash": "solid"
         },
         "mode": "lines",
         "name": "전기",
         "orientation": "v",
         "showlegend": true,
         "type": "scatter",
         "x": [
          5,
          6,
          7,
          8,
          9,
          10,
          11,
          12,
          13,
          14,
          15,
          16,
          17,
          18,
          19,
          20,
          21,
          22
         ],
         "xaxis": "x",
         "y": [
          -0.48381327589808837,
          0.04855838786153039,
          -0.4409779200049888,
          -0.29510568796618375,
          -0.04126608865635393,
          0.2801225203620643,
          0.3145888124170883,
          -0.34851181539082604,
          0.0742118060249852,
          -0.014081319598087115,
          -0.4205879442469865,
          -0.199574686538006,
          -0.056458159170324866,
          0.32046853335258635,
          -0.6318486397971367,
          0.24675698290369585,
          -0.26959012476624566,
          -0.1080220314067505
         ],
         "yaxis": "y"
        },
        {
         "hovertemplate": "MCT_CAT_CD=주방용구<br>week=%{x}<br>std_diff=%{y}<extra></extra>",
         "legendgroup": "주방용구",
         "line": {
          "color": "#EF553B",
          "dash": "solid"
         },
         "mode": "lines",
         "name": "주방용구",
         "orientation": "v",
         "showlegend": true,
         "type": "scatter",
         "x": [
          5,
          6,
          7,
          8,
          9,
          10,
          11,
          12,
          13,
          14,
          15,
          16,
          17,
          18,
          19,
          20,
          21,
          22
         ],
         "xaxis": "x",
         "y": [
          0.06002274297902342,
          0.28225366723896655,
          -0.062280847212212734,
          -0.021392678382548904,
          0.17497902916232783,
          0.02627065936105498,
          -0.0591512970802731,
          0.08657960958873112,
          -0.013864290009344048,
          0.07766600444383123,
          -0.009729457767973066,
          0.0590472232870022,
          -0.010770256491365602,
          -0.4745985493371196,
          -0.2881210022420729,
          -0.45236814808793036,
          -0.2517632203795624,
          -0.30532037021917563
         ],
         "yaxis": "y"
        },
        {
         "hovertemplate": "MCT_CAT_CD=직물<br>week=%{x}<br>std_diff=%{y}<extra></extra>",
         "legendgroup": "직물",
         "line": {
          "color": "#00cc96",
          "dash": "solid"
         },
         "mode": "lines",
         "name": "직물",
         "orientation": "v",
         "showlegend": true,
         "type": "scatter",
         "x": [
          5,
          6,
          7,
          8,
          9,
          10,
          11,
          12,
          13,
          14,
          15,
          16,
          17,
          18,
          19,
          20,
          21,
          22
         ],
         "xaxis": "x",
         "y": [
          -0.029178734180421214,
          0.3511260569680209,
          -0.010580481938908173,
          0.30517829521151,
          1.890184387609134,
          -0.08487604793528636,
          0.4540411546061146,
          -0.007213917364507941,
          -0.2504938271899915,
          0.40935852798739014,
          -0.3121531072838783,
          0.09493113675354713,
          0.07541189626755611,
          -0.15238833705860533,
          0.03904048330321235,
          0.17902227857361297,
          -0.08449320661874919,
          -0.23287386443902036
         ],
         "yaxis": "y"
        }
       ],
       "layout": {
        "legend": {
         "title": {
          "text": "MCT_CAT_CD"
         },
         "tracegroupgap": 0
        },
        "margin": {
         "t": 60
        },
        "template": {
         "data": {
          "bar": [
           {
            "error_x": {
             "color": "#2a3f5f"
            },
            "error_y": {
             "color": "#2a3f5f"
            },
            "marker": {
             "line": {
              "color": "#E5ECF6",
              "width": 0.5
             }
            },
            "type": "bar"
           }
          ],
          "barpolar": [
           {
            "marker": {
             "line": {
              "color": "#E5ECF6",
              "width": 0.5
             }
            },
            "type": "barpolar"
           }
          ],
          "carpet": [
           {
            "aaxis": {
             "endlinecolor": "#2a3f5f",
             "gridcolor": "white",
             "linecolor": "white",
             "minorgridcolor": "white",
             "startlinecolor": "#2a3f5f"
            },
            "baxis": {
             "endlinecolor": "#2a3f5f",
             "gridcolor": "white",
             "linecolor": "white",
             "minorgridcolor": "white",
             "startlinecolor": "#2a3f5f"
            },
            "type": "carpet"
           }
          ],
          "choropleth": [
           {
            "colorbar": {
             "outlinewidth": 0,
             "ticks": ""
            },
            "type": "choropleth"
           }
          ],
          "contour": [
           {
            "colorbar": {
             "outlinewidth": 0,
             "ticks": ""
            },
            "colorscale": [
             [
              0,
              "#0d0887"
             ],
             [
              0.1111111111111111,
              "#46039f"
             ],
             [
              0.2222222222222222,
              "#7201a8"
             ],
             [
              0.3333333333333333,
              "#9c179e"
             ],
             [
              0.4444444444444444,
              "#bd3786"
             ],
             [
              0.5555555555555556,
              "#d8576b"
             ],
             [
              0.6666666666666666,
              "#ed7953"
             ],
             [
              0.7777777777777778,
              "#fb9f3a"
             ],
             [
              0.8888888888888888,
              "#fdca26"
             ],
             [
              1,
              "#f0f921"
             ]
            ],
            "type": "contour"
           }
          ],
          "contourcarpet": [
           {
            "colorbar": {
             "outlinewidth": 0,
             "ticks": ""
            },
            "type": "contourcarpet"
           }
          ],
          "heatmap": [
           {
            "colorbar": {
             "outlinewidth": 0,
             "ticks": ""
            },
            "colorscale": [
             [
              0,
              "#0d0887"
             ],
             [
              0.1111111111111111,
              "#46039f"
             ],
             [
              0.2222222222222222,
              "#7201a8"
             ],
             [
              0.3333333333333333,
              "#9c179e"
             ],
             [
              0.4444444444444444,
              "#bd3786"
             ],
             [
              0.5555555555555556,
              "#d8576b"
             ],
             [
              0.6666666666666666,
              "#ed7953"
             ],
             [
              0.7777777777777778,
              "#fb9f3a"
             ],
             [
              0.8888888888888888,
              "#fdca26"
             ],
             [
              1,
              "#f0f921"
             ]
            ],
            "type": "heatmap"
           }
          ],
          "heatmapgl": [
           {
            "colorbar": {
             "outlinewidth": 0,
             "ticks": ""
            },
            "colorscale": [
             [
              0,
              "#0d0887"
             ],
             [
              0.1111111111111111,
              "#46039f"
             ],
             [
              0.2222222222222222,
              "#7201a8"
             ],
             [
              0.3333333333333333,
              "#9c179e"
             ],
             [
              0.4444444444444444,
              "#bd3786"
             ],
             [
              0.5555555555555556,
              "#d8576b"
             ],
             [
              0.6666666666666666,
              "#ed7953"
             ],
             [
              0.7777777777777778,
              "#fb9f3a"
             ],
             [
              0.8888888888888888,
              "#fdca26"
             ],
             [
              1,
              "#f0f921"
             ]
            ],
            "type": "heatmapgl"
           }
          ],
          "histogram": [
           {
            "marker": {
             "colorbar": {
              "outlinewidth": 0,
              "ticks": ""
             }
            },
            "type": "histogram"
           }
          ],
          "histogram2d": [
           {
            "colorbar": {
             "outlinewidth": 0,
             "ticks": ""
            },
            "colorscale": [
             [
              0,
              "#0d0887"
             ],
             [
              0.1111111111111111,
              "#46039f"
             ],
             [
              0.2222222222222222,
              "#7201a8"
             ],
             [
              0.3333333333333333,
              "#9c179e"
             ],
             [
              0.4444444444444444,
              "#bd3786"
             ],
             [
              0.5555555555555556,
              "#d8576b"
             ],
             [
              0.6666666666666666,
              "#ed7953"
             ],
             [
              0.7777777777777778,
              "#fb9f3a"
             ],
             [
              0.8888888888888888,
              "#fdca26"
             ],
             [
              1,
              "#f0f921"
             ]
            ],
            "type": "histogram2d"
           }
          ],
          "histogram2dcontour": [
           {
            "colorbar": {
             "outlinewidth": 0,
             "ticks": ""
            },
            "colorscale": [
             [
              0,
              "#0d0887"
             ],
             [
              0.1111111111111111,
              "#46039f"
             ],
             [
              0.2222222222222222,
              "#7201a8"
             ],
             [
              0.3333333333333333,
              "#9c179e"
             ],
             [
              0.4444444444444444,
              "#bd3786"
             ],
             [
              0.5555555555555556,
              "#d8576b"
             ],
             [
              0.6666666666666666,
              "#ed7953"
             ],
             [
              0.7777777777777778,
              "#fb9f3a"
             ],
             [
              0.8888888888888888,
              "#fdca26"
             ],
             [
              1,
              "#f0f921"
             ]
            ],
            "type": "histogram2dcontour"
           }
          ],
          "mesh3d": [
           {
            "colorbar": {
             "outlinewidth": 0,
             "ticks": ""
            },
            "type": "mesh3d"
           }
          ],
          "parcoords": [
           {
            "line": {
             "colorbar": {
              "outlinewidth": 0,
              "ticks": ""
             }
            },
            "type": "parcoords"
           }
          ],
          "pie": [
           {
            "automargin": true,
            "type": "pie"
           }
          ],
          "scatter": [
           {
            "marker": {
             "colorbar": {
              "outlinewidth": 0,
              "ticks": ""
             }
            },
            "type": "scatter"
           }
          ],
          "scatter3d": [
           {
            "line": {
             "colorbar": {
              "outlinewidth": 0,
              "ticks": ""
             }
            },
            "marker": {
             "colorbar": {
              "outlinewidth": 0,
              "ticks": ""
             }
            },
            "type": "scatter3d"
           }
          ],
          "scattercarpet": [
           {
            "marker": {
             "colorbar": {
              "outlinewidth": 0,
              "ticks": ""
             }
            },
            "type": "scattercarpet"
           }
          ],
          "scattergeo": [
           {
            "marker": {
             "colorbar": {
              "outlinewidth": 0,
              "ticks": ""
             }
            },
            "type": "scattergeo"
           }
          ],
          "scattergl": [
           {
            "marker": {
             "colorbar": {
              "outlinewidth": 0,
              "ticks": ""
             }
            },
            "type": "scattergl"
           }
          ],
          "scattermapbox": [
           {
            "marker": {
             "colorbar": {
              "outlinewidth": 0,
              "ticks": ""
             }
            },
            "type": "scattermapbox"
           }
          ],
          "scatterpolar": [
           {
            "marker": {
             "colorbar": {
              "outlinewidth": 0,
              "ticks": ""
             }
            },
            "type": "scatterpolar"
           }
          ],
          "scatterpolargl": [
           {
            "marker": {
             "colorbar": {
              "outlinewidth": 0,
              "ticks": ""
             }
            },
            "type": "scatterpolargl"
           }
          ],
          "scatterternary": [
           {
            "marker": {
             "colorbar": {
              "outlinewidth": 0,
              "ticks": ""
             }
            },
            "type": "scatterternary"
           }
          ],
          "surface": [
           {
            "colorbar": {
             "outlinewidth": 0,
             "ticks": ""
            },
            "colorscale": [
             [
              0,
              "#0d0887"
             ],
             [
              0.1111111111111111,
              "#46039f"
             ],
             [
              0.2222222222222222,
              "#7201a8"
             ],
             [
              0.3333333333333333,
              "#9c179e"
             ],
             [
              0.4444444444444444,
              "#bd3786"
             ],
             [
              0.5555555555555556,
              "#d8576b"
             ],
             [
              0.6666666666666666,
              "#ed7953"
             ],
             [
              0.7777777777777778,
              "#fb9f3a"
             ],
             [
              0.8888888888888888,
              "#fdca26"
             ],
             [
              1,
              "#f0f921"
             ]
            ],
            "type": "surface"
           }
          ],
          "table": [
           {
            "cells": {
             "fill": {
              "color": "#EBF0F8"
             },
             "line": {
              "color": "white"
             }
            },
            "header": {
             "fill": {
              "color": "#C8D4E3"
             },
             "line": {
              "color": "white"
             }
            },
            "type": "table"
           }
          ]
         },
         "layout": {
          "annotationdefaults": {
           "arrowcolor": "#2a3f5f",
           "arrowhead": 0,
           "arrowwidth": 1
          },
          "coloraxis": {
           "colorbar": {
            "outlinewidth": 0,
            "ticks": ""
           }
          },
          "colorscale": {
           "diverging": [
            [
             0,
             "#8e0152"
            ],
            [
             0.1,
             "#c51b7d"
            ],
            [
             0.2,
             "#de77ae"
            ],
            [
             0.3,
             "#f1b6da"
            ],
            [
             0.4,
             "#fde0ef"
            ],
            [
             0.5,
             "#f7f7f7"
            ],
            [
             0.6,
             "#e6f5d0"
            ],
            [
             0.7,
             "#b8e186"
            ],
            [
             0.8,
             "#7fbc41"
            ],
            [
             0.9,
             "#4d9221"
            ],
            [
             1,
             "#276419"
            ]
           ],
           "sequential": [
            [
             0,
             "#0d0887"
            ],
            [
             0.1111111111111111,
             "#46039f"
            ],
            [
             0.2222222222222222,
             "#7201a8"
            ],
            [
             0.3333333333333333,
             "#9c179e"
            ],
            [
             0.4444444444444444,
             "#bd3786"
            ],
            [
             0.5555555555555556,
             "#d8576b"
            ],
            [
             0.6666666666666666,
             "#ed7953"
            ],
            [
             0.7777777777777778,
             "#fb9f3a"
            ],
            [
             0.8888888888888888,
             "#fdca26"
            ],
            [
             1,
             "#f0f921"
            ]
           ],
           "sequentialminus": [
            [
             0,
             "#0d0887"
            ],
            [
             0.1111111111111111,
             "#46039f"
            ],
            [
             0.2222222222222222,
             "#7201a8"
            ],
            [
             0.3333333333333333,
             "#9c179e"
            ],
            [
             0.4444444444444444,
             "#bd3786"
            ],
            [
             0.5555555555555556,
             "#d8576b"
            ],
            [
             0.6666666666666666,
             "#ed7953"
            ],
            [
             0.7777777777777778,
             "#fb9f3a"
            ],
            [
             0.8888888888888888,
             "#fdca26"
            ],
            [
             1,
             "#f0f921"
            ]
           ]
          },
          "colorway": [
           "#636efa",
           "#EF553B",
           "#00cc96",
           "#ab63fa",
           "#FFA15A",
           "#19d3f3",
           "#FF6692",
           "#B6E880",
           "#FF97FF",
           "#FECB52"
          ],
          "font": {
           "color": "#2a3f5f"
          },
          "geo": {
           "bgcolor": "white",
           "lakecolor": "white",
           "landcolor": "#E5ECF6",
           "showlakes": true,
           "showland": true,
           "subunitcolor": "white"
          },
          "hoverlabel": {
           "align": "left"
          },
          "hovermode": "closest",
          "mapbox": {
           "style": "light"
          },
          "paper_bgcolor": "white",
          "plot_bgcolor": "#E5ECF6",
          "polar": {
           "angularaxis": {
            "gridcolor": "white",
            "linecolor": "white",
            "ticks": ""
           },
           "bgcolor": "#E5ECF6",
           "radialaxis": {
            "gridcolor": "white",
            "linecolor": "white",
            "ticks": ""
           }
          },
          "scene": {
           "xaxis": {
            "backgroundcolor": "#E5ECF6",
            "gridcolor": "white",
            "gridwidth": 2,
            "linecolor": "white",
            "showbackground": true,
            "ticks": "",
            "zerolinecolor": "white"
           },
           "yaxis": {
            "backgroundcolor": "#E5ECF6",
            "gridcolor": "white",
            "gridwidth": 2,
            "linecolor": "white",
            "showbackground": true,
            "ticks": "",
            "zerolinecolor": "white"
           },
           "zaxis": {
            "backgroundcolor": "#E5ECF6",
            "gridcolor": "white",
            "gridwidth": 2,
            "linecolor": "white",
            "showbackground": true,
            "ticks": "",
            "zerolinecolor": "white"
           }
          },
          "shapedefaults": {
           "line": {
            "color": "#2a3f5f"
           }
          },
          "ternary": {
           "aaxis": {
            "gridcolor": "white",
            "linecolor": "white",
            "ticks": ""
           },
           "baxis": {
            "gridcolor": "white",
            "linecolor": "white",
            "ticks": ""
           },
           "bgcolor": "#E5ECF6",
           "caxis": {
            "gridcolor": "white",
            "linecolor": "white",
            "ticks": ""
           }
          },
          "title": {
           "x": 0.05
          },
          "xaxis": {
           "automargin": true,
           "gridcolor": "white",
           "linecolor": "white",
           "ticks": "",
           "title": {
            "standoff": 15
           },
           "zerolinecolor": "white",
           "zerolinewidth": 2
          },
          "yaxis": {
           "automargin": true,
           "gridcolor": "white",
           "linecolor": "white",
           "ticks": "",
           "title": {
            "standoff": 15
           },
           "zerolinecolor": "white",
           "zerolinewidth": 2
          }
         }
        },
        "xaxis": {
         "anchor": "y",
         "domain": [
          0,
          1
         ],
         "tickmode": "array",
         "ticktext": [
          "12/23",
          "12/30",
          "1/6",
          "1/13",
          "1/20",
          "1/27",
          "2/3",
          "2/10",
          "2/17",
          "2/24",
          "3/2",
          "3/9",
          "3/16",
          "3/23",
          "3/30",
          "4/6",
          "4/13",
          "4/20",
          "4/27",
          "5/4",
          "5/11",
          "5/18",
          "5/25",
          "6/1",
          "6/8",
          "6/15",
          "6/22",
          "6/29",
          "7/6",
          "7/13",
          "7/20",
          "7/27",
          "8/3",
          "8/10",
          "8/17",
          "8/24",
          "8/31",
          "9/7",
          "9/14",
          "9/21",
          "9/28",
          "10/5",
          "10/12",
          "10/19",
          "10/26",
          "11/2",
          "11/9",
          "11/16",
          "11/23",
          "11/30",
          "12/7",
          "12/14"
         ],
         "tickvals": [
          0,
          1,
          2,
          3,
          4,
          5,
          6,
          7,
          8,
          9,
          10,
          11,
          12,
          13,
          14,
          15,
          16,
          17,
          18,
          19,
          20,
          21,
          22,
          23,
          24,
          25,
          26,
          27,
          28,
          29,
          30,
          31,
          32,
          33,
          34,
          35,
          36,
          37,
          38,
          39,
          40,
          41,
          42,
          43,
          44,
          45,
          46,
          47,
          48,
          49,
          50,
          51
         ],
         "title": {
          "text": "week"
         }
        },
        "yaxis": {
         "anchor": "x",
         "domain": [
          0,
          1
         ],
         "title": {
          "text": "std_diff"
         }
        }
       }
      },
      "text/html": [
       "<div>\n",
       "        \n",
       "        \n",
       "            <div id=\"88f8b087-1f8c-46fc-9fe1-1a171a781f3d\" class=\"plotly-graph-div\" style=\"height:525px; width:100%;\"></div>\n",
       "            <script type=\"text/javascript\">\n",
       "                require([\"plotly\"], function(Plotly) {\n",
       "                    window.PLOTLYENV=window.PLOTLYENV || {};\n",
       "                    \n",
       "                if (document.getElementById(\"88f8b087-1f8c-46fc-9fe1-1a171a781f3d\")) {\n",
       "                    Plotly.newPlot(\n",
       "                        '88f8b087-1f8c-46fc-9fe1-1a171a781f3d',\n",
       "                        [{\"hovertemplate\": \"MCT_CAT_CD=\\uac00\\uad6c<br>week=%{x}<br>std_diff=%{y}<extra></extra>\", \"legendgroup\": \"\\uac00\\uad6c\", \"line\": {\"color\": \"#636efa\", \"dash\": \"solid\"}, \"mode\": \"lines\", \"name\": \"\\uac00\\uad6c\", \"orientation\": \"v\", \"showlegend\": true, \"type\": \"scatter\", \"x\": [5, 6, 7, 8, 9, 10, 11, 12, 13, 14, 15, 16, 17, 18, 19, 20, 21, 22], \"xaxis\": \"x\", \"y\": [1.0247852293813928, 0.6546399906564061, 0.41197380407154705, 0.42314714046836127, 0.38160304860609645, 0.5610731162921727, 0.11302675499659857, -0.1600174078498136, 0.22025778646030647, 0.48389681223487946, 0.055039413538220575, 0.4406770727448386, 0.5977580060486088, 0.3198984572521138, 0.014691487707520635, 0.08926872428223784, -0.06420186311719367, 0.22481658206562757], \"yaxis\": \"y\"}, {\"hovertemplate\": \"MCT_CAT_CD=\\uac00\\uc804<br>week=%{x}<br>std_diff=%{y}<extra></extra>\", \"legendgroup\": \"\\uac00\\uc804\", \"line\": {\"color\": \"#EF553B\", \"dash\": \"solid\"}, \"mode\": \"lines\", \"name\": \"\\uac00\\uc804\", \"orientation\": \"v\", \"showlegend\": true, \"type\": \"scatter\", \"x\": [5, 6, 7, 8, 9, 10, 11, 12, 13, 14, 15, 16, 17, 18, 19, 20, 21, 22], \"xaxis\": \"x\", \"y\": [0.6854562132241017, 0.16802945428487304, 0.19319596978821388, 0.1409300941020596, 0.2420943979468063, 0.1558533978907218, -0.11981725379927616, -0.0076027428710772555, 0.1367847139046377, 0.07328820901125256, 0.012209812957587534, -0.08417339174091464, -0.023058330306677196, 0.14952873887998214, -0.08390517848408802, 0.09585318461673172, 0.059794533461131776, -0.0020549490859997424], \"yaxis\": \"y\"}, {\"hovertemplate\": \"MCT_CAT_CD=\\uad11\\ud559\\uc81c\\ud488<br>week=%{x}<br>std_diff=%{y}<extra></extra>\", \"legendgroup\": \"\\uad11\\ud559\\uc81c\\ud488\", \"line\": {\"color\": \"#00cc96\", \"dash\": \"solid\"}, \"mode\": \"lines\", \"name\": \"\\uad11\\ud559\\uc81c\\ud488\", \"orientation\": \"v\", \"showlegend\": true, \"type\": \"scatter\", \"x\": [5, 6, 7, 8, 9, 10, 11, 12, 13, 14, 15, 16, 17, 18, 19, 20, 21, 22], \"xaxis\": \"x\", \"y\": [0.7638073985645878, -0.31570931073781755, 0.1498135822013219, -0.13247347872852944, 0.23094971332621064, 0.36761773983375606, -0.12229844234514578, -0.0491208813632646, -0.6772280735926495, 0.47781692823858307, 0.1277147002529613, 0.4173079810998618, -0.28810401592028567, -0.33800038465646565, 0.17101544790457615, 0.12155134721877875, -0.4913181175520763, -0.08855620477208682], \"yaxis\": \"y\"}, {\"hovertemplate\": \"MCT_CAT_CD=\\ub808\\uc800\\uc5c5\\uc18c<br>week=%{x}<br>std_diff=%{y}<extra></extra>\", \"legendgroup\": \"\\ub808\\uc800\\uc5c5\\uc18c\", \"line\": {\"color\": \"#ab63fa\", \"dash\": \"solid\"}, \"mode\": \"lines\", \"name\": \"\\ub808\\uc800\\uc5c5\\uc18c\", \"orientation\": \"v\", \"showlegend\": true, \"type\": \"scatter\", \"x\": [5, 6, 7, 8, 9, 10, 11, 12, 13, 14, 15, 16, 17, 18, 19, 20, 21, 22], \"xaxis\": \"x\", \"y\": [-0.028167621135352486, 0.14056873087093294, -0.1711161289512969, -0.18374041169482658, -0.28262060884852025, -0.4041777596884175, -0.2923234730127398, -0.16800624580061863, -0.48461352960447196, -0.48694812993814396, -0.25954751800586556, -0.321825594281826, -0.07894352042098607, -0.1222340206875142, 0.10261074082666627, 0.10676993978756882, 0.038670174940441955, 0.0012533829587688707], \"yaxis\": \"y\"}, {\"hovertemplate\": \"MCT_CAT_CD=\\ub808\\uc800\\uc6a9\\ud488<br>week=%{x}<br>std_diff=%{y}<extra></extra>\", \"legendgroup\": \"\\ub808\\uc800\\uc6a9\\ud488\", \"line\": {\"color\": \"#FFA15A\", \"dash\": \"solid\"}, \"mode\": \"lines\", \"name\": \"\\ub808\\uc800\\uc6a9\\ud488\", \"orientation\": \"v\", \"showlegend\": true, \"type\": \"scatter\", \"x\": [5, 6, 7, 8, 9, 10, 11, 12, 13, 14, 15, 16, 17, 18, 19, 20, 21, 22], \"xaxis\": \"x\", \"y\": [-0.008902974974410192, 0.047051298360217944, 0.0788336033030724, 0.08169123989962926, 0.1366735742975012, 0.1371332012937219, 0.08810911378203723, 0.032774391106162544, 0.04992909572133091, 0.032556087757702364, 0.03180265353756477, -0.03441930304521057, -0.024515099798816966, -0.0006293334200919259, 0.027282249624250982, 0.07444019134761949, 0.09570467169061438, 0.00214508580885059], \"yaxis\": \"y\"}, {\"hovertemplate\": \"MCT_CAT_CD=\\ubb38\\ud654\\ucde8\\ubbf8<br>week=%{x}<br>std_diff=%{y}<extra></extra>\", \"legendgroup\": \"\\ubb38\\ud654\\ucde8\\ubbf8\", \"line\": {\"color\": \"#19d3f3\", \"dash\": \"solid\"}, \"mode\": \"lines\", \"name\": \"\\ubb38\\ud654\\ucde8\\ubbf8\", \"orientation\": \"v\", \"showlegend\": true, \"type\": \"scatter\", \"x\": [5, 6, 7, 8, 9, 10, 11, 12, 13, 14, 15, 16, 17, 18, 19, 20, 21, 22], \"xaxis\": \"x\", \"y\": [0.08125367268796481, 0.29394132790690486, -0.06980979192716222, 0.08345479774244752, 0.056899554895251815, 0.2215182668388986, 0.0789039587803235, 0.30269210701228183, 0.2738898608631834, 0.30593096271976217, 0.2985939267243811, 0.08398850703215284, 0.5056647064503639, 0.33328794316631594, 0.11814122520883896, 0.304557086153874, 0.14528598898048742, 0.1874552361609003], \"yaxis\": \"y\"}, {\"hovertemplate\": \"MCT_CAT_CD=\\ubcf4\\uac74\\uc704\\uc0dd<br>week=%{x}<br>std_diff=%{y}<extra></extra>\", \"legendgroup\": \"\\ubcf4\\uac74\\uc704\\uc0dd\", \"line\": {\"color\": \"#FF6692\", \"dash\": \"solid\"}, \"mode\": \"lines\", \"name\": \"\\ubcf4\\uac74\\uc704\\uc0dd\", \"orientation\": \"v\", \"showlegend\": true, \"type\": \"scatter\", \"x\": [5, 6, 7, 8, 9, 10, 11, 12, 13, 14, 15, 16, 17, 18, 19, 20, 21, 22], \"xaxis\": \"x\", \"y\": [0.07317694647210578, 0.30231609950264104, 0.14313747341828556, 0.047274716540938726, 0.263830166210621, 0.04577740271279264, 0.09659685264778459, 0.06376979314317462, -0.08202515527875683, 0.193999599019226, 0.09225117470153481, 0.07904976346541652, 0.07836705471293658, 0.14508010234012586, 0.14388546552783554, 0.225104385115162, 0.30231368804531, 0.03562575550258241], \"yaxis\": \"y\"}, {\"hovertemplate\": \"MCT_CAT_CD=\\uc0ac\\ubb34\\ud1b5\\uc2e0<br>week=%{x}<br>std_diff=%{y}<extra></extra>\", \"legendgroup\": \"\\uc0ac\\ubb34\\ud1b5\\uc2e0\", \"line\": {\"color\": \"#B6E880\", \"dash\": \"solid\"}, \"mode\": \"lines\", \"name\": \"\\uc0ac\\ubb34\\ud1b5\\uc2e0\", \"orientation\": \"v\", \"showlegend\": true, \"type\": \"scatter\", \"x\": [5, 6, 7, 8, 9, 10, 11, 12, 13, 14, 15, 16, 17, 18, 19, 20, 21, 22], \"xaxis\": \"x\", \"y\": [-0.055886450214672694, 0.07251615469355471, -0.026291865173294664, 0.01816049077133579, 0.5415885544137284, 0.19394559610391224, 0.18152531862982607, 0.14300864048096937, 0.12270570871397307, 0.27378216053867355, 0.10528328680956711, 0.08929285669858733, 0.06538903580367468, 0.12178175906988807, 0.024166800549969895, 0.08693398927218936, 0.048922159966604185, 0.02952479773458948], \"yaxis\": \"y\"}, {\"hovertemplate\": \"MCT_CAT_CD=\\uc11c\\uc801\\ubb38\\uad6c<br>week=%{x}<br>std_diff=%{y}<extra></extra>\", \"legendgroup\": \"\\uc11c\\uc801\\ubb38\\uad6c\", \"line\": {\"color\": \"#FF97FF\", \"dash\": \"solid\"}, \"mode\": \"lines\", \"name\": \"\\uc11c\\uc801\\ubb38\\uad6c\", \"orientation\": \"v\", \"showlegend\": true, \"type\": \"scatter\", \"x\": [5, 6, 7, 8, 9, 10, 11, 12, 13, 14, 15, 16, 17, 18, 19, 20, 21, 22], \"xaxis\": \"x\", \"y\": [-0.20707231142887708, 0.23484648967869717, -0.025747880787880453, 0.051789940845802664, 0.3416705752712458, 0.1269198886474474, 0.301740861780843, 0.17368495087149394, 0.16997189179107414, 0.5101124124717282, 0.27847222750222916, 0.17767317521064863, 0.1969555112262051, 0.19265100999231327, 0.2287199555434298, 0.2716326509683811, 0.1629179879382249, 0.13359744360460704], \"yaxis\": \"y\"}, {\"hovertemplate\": \"MCT_CAT_CD=\\uc218\\ub9ac\\uc11c\\ube44\\uc2a4<br>week=%{x}<br>std_diff=%{y}<extra></extra>\", \"legendgroup\": \"\\uc218\\ub9ac\\uc11c\\ube44\\uc2a4\", \"line\": {\"color\": \"#FECB52\", \"dash\": \"solid\"}, \"mode\": \"lines\", \"name\": \"\\uc218\\ub9ac\\uc11c\\ube44\\uc2a4\", \"orientation\": \"v\", \"showlegend\": true, \"type\": \"scatter\", \"x\": [5, 6, 7, 8, 9, 10, 11, 12, 13, 14, 15, 16, 17, 18, 19, 20, 21, 22], \"xaxis\": \"x\", \"y\": [-0.18591885799313954, 0.15584073478604366, 0.09901866067995668, 0.038759241348462266, 0.14309379017115462, -0.004021128098606826, 0.0715539921815562, 0.12802344292474707, 0.15542934286645793, 0.09725969541338492, 0.1983425338838894, 0.18319833706379499, 0.1373837972583287, -0.022413672089939482, 0.12803558890594013, 0.12401854039876087, 0.043773734489714486, -0.16758985506727078], \"yaxis\": \"y\"}, {\"hovertemplate\": \"MCT_CAT_CD=\\uc219\\ubc15<br>week=%{x}<br>std_diff=%{y}<extra></extra>\", \"legendgroup\": \"\\uc219\\ubc15\", \"line\": {\"color\": \"#636efa\", \"dash\": \"solid\"}, \"mode\": \"lines\", \"name\": \"\\uc219\\ubc15\", \"orientation\": \"v\", \"showlegend\": true, \"type\": \"scatter\", \"x\": [5, 6, 7, 8, 9, 10, 11, 12, 13, 14, 15, 16, 17, 18, 19, 20, 21, 22], \"xaxis\": \"x\", \"y\": [0.5119175960752299, 0.03998725243301237, 0.0002888066489608902, -0.10903191857811745, -0.0785595785138545, -0.15566266197190487, 0.023329240942311116, 0.17149842511267938, -0.20865758967638154, -0.11750643863368204, -0.04060133140578661, 0.022045640812547746, -0.26657244422086446, 0.031040534516075757, -0.020242214005420762, 0.029070135820611867, -0.3559890222144963, -0.39969941278172516], \"yaxis\": \"y\"}, {\"hovertemplate\": \"MCT_CAT_CD=\\uc2e0\\ubcc0\\uc7a1\\ud654<br>week=%{x}<br>std_diff=%{y}<extra></extra>\", \"legendgroup\": \"\\uc2e0\\ubcc0\\uc7a1\\ud654\", \"line\": {\"color\": \"#EF553B\", \"dash\": \"solid\"}, \"mode\": \"lines\", \"name\": \"\\uc2e0\\ubcc0\\uc7a1\\ud654\", \"orientation\": \"v\", \"showlegend\": true, \"type\": \"scatter\", \"x\": [5, 6, 7, 8, 9, 10, 11, 12, 13, 14, 15, 16, 17, 18, 19, 20, 21, 22], \"xaxis\": \"x\", \"y\": [0.26685109788362454, 0.21747948249863489, 0.19235320658194058, 0.10700036120076675, 0.7418616600663067, 0.5054382206688359, 0.09976804504818776, 0.31025746768684237, 0.3302168512053544, 0.2846891703891057, 0.28839629425707114, 0.013523200655185412, 0.129934356105414, 0.12098866543337977, 0.20850513430907466, 0.07960102405678775, -0.08587034774994072, -0.3221670294967488], \"yaxis\": \"y\"}, {\"hovertemplate\": \"MCT_CAT_CD=\\uc5f0\\ub8cc\\ud310\\ub9e4<br>week=%{x}<br>std_diff=%{y}<extra></extra>\", \"legendgroup\": \"\\uc5f0\\ub8cc\\ud310\\ub9e4\", \"line\": {\"color\": \"#00cc96\", \"dash\": \"solid\"}, \"mode\": \"lines\", \"name\": \"\\uc5f0\\ub8cc\\ud310\\ub9e4\", \"orientation\": \"v\", \"showlegend\": true, \"type\": \"scatter\", \"x\": [5, 6, 7, 8, 9, 10, 11, 12, 13, 14, 15, 16, 17, 18, 19, 20, 21, 22], \"xaxis\": \"x\", \"y\": [0.03960129485978967, 0.08746213173205257, 0.05542692491991565, 0.048062368824841425, 0.07270875504362902, 0.04124876532089718, 0.04882351829820475, -0.0006431854983763045, 0.018865608657932173, 0.034717502089855, -0.006723098474761907, -0.05237247776061909, -0.06623646962519768, -0.10477819114591974, -0.10320370294696615, -0.11047430998082805, -0.13326293488557184, -0.18145210134248296], \"yaxis\": \"y\"}, {\"hovertemplate\": \"MCT_CAT_CD=\\uc694\\uc2dd\\uc5c5\\uc18c<br>week=%{x}<br>std_diff=%{y}<extra></extra>\", \"legendgroup\": \"\\uc694\\uc2dd\\uc5c5\\uc18c\", \"line\": {\"color\": \"#ab63fa\", \"dash\": \"solid\"}, \"mode\": \"lines\", \"name\": \"\\uc694\\uc2dd\\uc5c5\\uc18c\", \"orientation\": \"v\", \"showlegend\": true, \"type\": \"scatter\", \"x\": [5, 6, 7, 8, 9, 10, 11, 12, 13, 14, 15, 16, 17, 18, 19, 20, 21, 22], \"xaxis\": \"x\", \"y\": [-0.08532750980440053, -0.07523537742397972, -0.04926046930726509, -0.13977816471618149, -0.2051353444248003, -0.1482934302333151, -0.13953628348969752, -0.1418184440992326, -0.1135298719709553, -0.09446733401295514, -0.09671058965364684, -0.052820254580119984, -0.04303968702694669, -0.05191536312537165, -0.014029673616177341, -0.009313478120821785, 0.008323533415236459, 0.022918916607498827], \"yaxis\": \"y\"}, {\"hovertemplate\": \"MCT_CAT_CD=\\uc720\\ud1b5\\uc5c5<br>week=%{x}<br>std_diff=%{y}<extra></extra>\", \"legendgroup\": \"\\uc720\\ud1b5\\uc5c5\", \"line\": {\"color\": \"#FFA15A\", \"dash\": \"solid\"}, \"mode\": \"lines\", \"name\": \"\\uc720\\ud1b5\\uc5c5\", \"orientation\": \"v\", \"showlegend\": true, \"type\": \"scatter\", \"x\": [5, 6, 7, 8, 9, 10, 11, 12, 13, 14, 15, 16, 17, 18, 19, 20, 21, 22], \"xaxis\": \"x\", \"y\": [-0.1082554783329273, -0.21258472151100166, -0.024171912093918037, -0.006299332417421614, -0.09437172270701823, -0.05879501668483791, -0.0165433583180392, 0.00922495283625801, 0.013925656681518975, -0.017615048584275806, 0.04179420221103285, 0.07581422126460831, 0.07445831382610837, 0.13928144025101982, 0.13292763147243422, 0.11943799705527196, 0.11474734699770868, 0.21540483840726335], \"yaxis\": \"y\"}, {\"hovertemplate\": \"MCT_CAT_CD=\\uc74c\\ub8cc\\uc2dd\\ud488<br>week=%{x}<br>std_diff=%{y}<extra></extra>\", \"legendgroup\": \"\\uc74c\\ub8cc\\uc2dd\\ud488\", \"line\": {\"color\": \"#19d3f3\", \"dash\": \"solid\"}, \"mode\": \"lines\", \"name\": \"\\uc74c\\ub8cc\\uc2dd\\ud488\", \"orientation\": \"v\", \"showlegend\": true, \"type\": \"scatter\", \"x\": [5, 6, 7, 8, 9, 10, 11, 12, 13, 14, 15, 16, 17, 18, 19, 20, 21, 22], \"xaxis\": \"x\", \"y\": [-0.7787065466467832, -0.09997500810344823, 0.05491521509201491, 0.08581426691654631, 0.12720226575825394, 0.10748595949375254, 0.09902404102206264, 0.11430997885156777, 0.08457198702926921, 0.10449500479233323, 0.099034415120976, 0.10974202796156592, 0.08397292998946648, 0.09619522029536455, 0.15329856711421502, 0.1884318807118074, 0.2667038286175888, 0.11009120503396937], \"yaxis\": \"y\"}, {\"hovertemplate\": \"MCT_CAT_CD=\\uc758\\ub8cc\\uae30\\uad00<br>week=%{x}<br>std_diff=%{y}<extra></extra>\", \"legendgroup\": \"\\uc758\\ub8cc\\uae30\\uad00\", \"line\": {\"color\": \"#FF6692\", \"dash\": \"solid\"}, \"mode\": \"lines\", \"name\": \"\\uc758\\ub8cc\\uae30\\uad00\", \"orientation\": \"v\", \"showlegend\": true, \"type\": \"scatter\", \"x\": [5, 6, 7, 8, 9, 10, 11, 12, 13, 14, 15, 16, 17, 18, 19, 20, 21, 22], \"xaxis\": \"x\", \"y\": [-0.11827949475389209, -0.004827726115824626, 0.04844152084042248, -0.11548087318105742, -0.0359075449292295, -0.12322436695066419, -0.23356201838882906, -0.22741511467399994, -0.22688257406553006, -0.031286254306481735, -0.11859304006983139, -0.0688689024732897, -0.20594211542202592, 0.1325948305621894, -0.03342600998103303, -0.0523913668269349, -0.13730946417711837, -0.1564799106874606], \"yaxis\": \"y\"}, {\"hovertemplate\": \"MCT_CAT_CD=\\uc758\\ubcf5<br>week=%{x}<br>std_diff=%{y}<extra></extra>\", \"legendgroup\": \"\\uc758\\ubcf5\", \"line\": {\"color\": \"#B6E880\", \"dash\": \"solid\"}, \"mode\": \"lines\", \"name\": \"\\uc758\\ubcf5\", \"orientation\": \"v\", \"showlegend\": true, \"type\": \"scatter\", \"x\": [5, 6, 7, 8, 9, 10, 11, 12, 13, 14, 15, 16, 17, 18, 19, 20, 21, 22], \"xaxis\": \"x\", \"y\": [0.1351867336354199, 0.25807217387908915, 0.11837776047802083, 0.23256336576675712, 0.216254154493011, 0.3638695479250942, 0.1710946445247098, 0.14268073729786013, 0.16358542793037467, 0.08114407848051552, -0.016731430488602324, 0.05203999242765085, 0.1810176273666304, 0.04997745508274283, 0.0878134159869144, 0.07915611456264755, 0.04522662289013425, -0.012578403761007466], \"yaxis\": \"y\"}, {\"hovertemplate\": \"MCT_CAT_CD=\\uc790\\ub3d9\\ucc28\\uc815\\ube44<br>week=%{x}<br>std_diff=%{y}<extra></extra>\", \"legendgroup\": \"\\uc790\\ub3d9\\ucc28\\uc815\\ube44\", \"line\": {\"color\": \"#FF97FF\", \"dash\": \"solid\"}, \"mode\": \"lines\", \"name\": \"\\uc790\\ub3d9\\ucc28\\uc815\\ube44\", \"orientation\": \"v\", \"showlegend\": true, \"type\": \"scatter\", \"x\": [5, 6, 7, 8, 9, 10, 11, 12, 13, 14, 15, 16, 17, 18, 19, 20, 21, 22], \"xaxis\": \"x\", \"y\": [-0.16794719995578408, 0.48193561900471504, 0.22468734645912597, 0.3359691704003285, 0.6385125942455719, 0.33982778916949935, 0.40389057238322973, 0.29993155606849514, 0.4466286667651205, 0.267979043174983, 0.3365396782762875, 0.22265908928602512, 0.26529538336371794, 0.15075617510269781, 0.22677976255275187, 0.1385837484890029, 0.23659766466352716, 0.16104603472972273], \"yaxis\": \"y\"}, {\"hovertemplate\": \"MCT_CAT_CD=\\uc790\\ub3d9\\ucc28\\ud310\\ub9e4<br>week=%{x}<br>std_diff=%{y}<extra></extra>\", \"legendgroup\": \"\\uc790\\ub3d9\\ucc28\\ud310\\ub9e4\", \"line\": {\"color\": \"#FECB52\", \"dash\": \"solid\"}, \"mode\": \"lines\", \"name\": \"\\uc790\\ub3d9\\ucc28\\ud310\\ub9e4\", \"orientation\": \"v\", \"showlegend\": true, \"type\": \"scatter\", \"x\": [5, 6, 7, 8, 9, 10, 11, 12, 13, 14, 15, 16, 17, 18, 19, 20, 21, 22], \"xaxis\": \"x\", \"y\": [0.08357844969255038, -0.2018543674012498, 0.13247294704237644, -0.2143898411664418, -0.6205004439124064, -0.2819725395871738, -0.05553110530037314, -0.30319871436656864, -0.2809679123066657, -0.44669228071306744, -0.1710192700065314, -0.26248973645523427, 0.11972871940700641, -0.20551855644866865, -0.39951876792339297, 0.12412124840142089, -0.20745028226059528, -0.20874764849303937], \"yaxis\": \"y\"}, {\"hovertemplate\": \"MCT_CAT_CD=\\uc804\\uae30<br>week=%{x}<br>std_diff=%{y}<extra></extra>\", \"legendgroup\": \"\\uc804\\uae30\", \"line\": {\"color\": \"#636efa\", \"dash\": \"solid\"}, \"mode\": \"lines\", \"name\": \"\\uc804\\uae30\", \"orientation\": \"v\", \"showlegend\": true, \"type\": \"scatter\", \"x\": [5, 6, 7, 8, 9, 10, 11, 12, 13, 14, 15, 16, 17, 18, 19, 20, 21, 22], \"xaxis\": \"x\", \"y\": [-0.48381327589808837, 0.04855838786153039, -0.4409779200049888, -0.29510568796618375, -0.04126608865635393, 0.2801225203620643, 0.3145888124170883, -0.34851181539082604, 0.0742118060249852, -0.014081319598087115, -0.4205879442469865, -0.199574686538006, -0.056458159170324866, 0.32046853335258635, -0.6318486397971367, 0.24675698290369585, -0.26959012476624566, -0.1080220314067505], \"yaxis\": \"y\"}, {\"hovertemplate\": \"MCT_CAT_CD=\\uc8fc\\ubc29\\uc6a9\\uad6c<br>week=%{x}<br>std_diff=%{y}<extra></extra>\", \"legendgroup\": \"\\uc8fc\\ubc29\\uc6a9\\uad6c\", \"line\": {\"color\": \"#EF553B\", \"dash\": \"solid\"}, \"mode\": \"lines\", \"name\": \"\\uc8fc\\ubc29\\uc6a9\\uad6c\", \"orientation\": \"v\", \"showlegend\": true, \"type\": \"scatter\", \"x\": [5, 6, 7, 8, 9, 10, 11, 12, 13, 14, 15, 16, 17, 18, 19, 20, 21, 22], \"xaxis\": \"x\", \"y\": [0.06002274297902342, 0.28225366723896655, -0.062280847212212734, -0.021392678382548904, 0.17497902916232783, 0.02627065936105498, -0.0591512970802731, 0.08657960958873112, -0.013864290009344048, 0.07766600444383123, -0.009729457767973066, 0.0590472232870022, -0.010770256491365602, -0.4745985493371196, -0.2881210022420729, -0.45236814808793036, -0.2517632203795624, -0.30532037021917563], \"yaxis\": \"y\"}, {\"hovertemplate\": \"MCT_CAT_CD=\\uc9c1\\ubb3c<br>week=%{x}<br>std_diff=%{y}<extra></extra>\", \"legendgroup\": \"\\uc9c1\\ubb3c\", \"line\": {\"color\": \"#00cc96\", \"dash\": \"solid\"}, \"mode\": \"lines\", \"name\": \"\\uc9c1\\ubb3c\", \"orientation\": \"v\", \"showlegend\": true, \"type\": \"scatter\", \"x\": [5, 6, 7, 8, 9, 10, 11, 12, 13, 14, 15, 16, 17, 18, 19, 20, 21, 22], \"xaxis\": \"x\", \"y\": [-0.029178734180421214, 0.3511260569680209, -0.010580481938908173, 0.30517829521151, 1.890184387609134, -0.08487604793528636, 0.4540411546061146, -0.007213917364507941, -0.2504938271899915, 0.40935852798739014, -0.3121531072838783, 0.09493113675354713, 0.07541189626755611, -0.15238833705860533, 0.03904048330321235, 0.17902227857361297, -0.08449320661874919, -0.23287386443902036], \"yaxis\": \"y\"}],\n",
       "                        {\"legend\": {\"title\": {\"text\": \"MCT_CAT_CD\"}, \"tracegroupgap\": 0}, \"margin\": {\"t\": 60}, \"template\": {\"data\": {\"bar\": [{\"error_x\": {\"color\": \"#2a3f5f\"}, \"error_y\": {\"color\": \"#2a3f5f\"}, \"marker\": {\"line\": {\"color\": \"#E5ECF6\", \"width\": 0.5}}, \"type\": \"bar\"}], \"barpolar\": [{\"marker\": {\"line\": {\"color\": \"#E5ECF6\", \"width\": 0.5}}, \"type\": \"barpolar\"}], \"carpet\": [{\"aaxis\": {\"endlinecolor\": \"#2a3f5f\", \"gridcolor\": \"white\", \"linecolor\": \"white\", \"minorgridcolor\": \"white\", \"startlinecolor\": \"#2a3f5f\"}, \"baxis\": {\"endlinecolor\": \"#2a3f5f\", \"gridcolor\": \"white\", \"linecolor\": \"white\", \"minorgridcolor\": \"white\", \"startlinecolor\": \"#2a3f5f\"}, \"type\": \"carpet\"}], \"choropleth\": [{\"colorbar\": {\"outlinewidth\": 0, \"ticks\": \"\"}, \"type\": \"choropleth\"}], \"contour\": [{\"colorbar\": {\"outlinewidth\": 0, \"ticks\": \"\"}, \"colorscale\": [[0.0, \"#0d0887\"], [0.1111111111111111, \"#46039f\"], [0.2222222222222222, \"#7201a8\"], [0.3333333333333333, \"#9c179e\"], [0.4444444444444444, \"#bd3786\"], [0.5555555555555556, \"#d8576b\"], [0.6666666666666666, \"#ed7953\"], [0.7777777777777778, \"#fb9f3a\"], [0.8888888888888888, \"#fdca26\"], [1.0, \"#f0f921\"]], \"type\": \"contour\"}], \"contourcarpet\": [{\"colorbar\": {\"outlinewidth\": 0, \"ticks\": \"\"}, \"type\": \"contourcarpet\"}], \"heatmap\": [{\"colorbar\": {\"outlinewidth\": 0, \"ticks\": \"\"}, \"colorscale\": [[0.0, \"#0d0887\"], [0.1111111111111111, \"#46039f\"], [0.2222222222222222, \"#7201a8\"], [0.3333333333333333, \"#9c179e\"], [0.4444444444444444, \"#bd3786\"], [0.5555555555555556, \"#d8576b\"], [0.6666666666666666, \"#ed7953\"], [0.7777777777777778, \"#fb9f3a\"], [0.8888888888888888, \"#fdca26\"], [1.0, \"#f0f921\"]], \"type\": \"heatmap\"}], \"heatmapgl\": [{\"colorbar\": {\"outlinewidth\": 0, \"ticks\": \"\"}, \"colorscale\": [[0.0, \"#0d0887\"], [0.1111111111111111, \"#46039f\"], [0.2222222222222222, \"#7201a8\"], [0.3333333333333333, \"#9c179e\"], [0.4444444444444444, \"#bd3786\"], [0.5555555555555556, \"#d8576b\"], [0.6666666666666666, \"#ed7953\"], [0.7777777777777778, \"#fb9f3a\"], [0.8888888888888888, \"#fdca26\"], [1.0, \"#f0f921\"]], \"type\": \"heatmapgl\"}], \"histogram\": [{\"marker\": {\"colorbar\": {\"outlinewidth\": 0, \"ticks\": \"\"}}, \"type\": \"histogram\"}], \"histogram2d\": [{\"colorbar\": {\"outlinewidth\": 0, \"ticks\": \"\"}, \"colorscale\": [[0.0, \"#0d0887\"], [0.1111111111111111, \"#46039f\"], [0.2222222222222222, \"#7201a8\"], [0.3333333333333333, \"#9c179e\"], [0.4444444444444444, \"#bd3786\"], [0.5555555555555556, \"#d8576b\"], [0.6666666666666666, \"#ed7953\"], [0.7777777777777778, \"#fb9f3a\"], [0.8888888888888888, \"#fdca26\"], [1.0, \"#f0f921\"]], \"type\": \"histogram2d\"}], \"histogram2dcontour\": [{\"colorbar\": {\"outlinewidth\": 0, \"ticks\": \"\"}, \"colorscale\": [[0.0, \"#0d0887\"], [0.1111111111111111, \"#46039f\"], [0.2222222222222222, \"#7201a8\"], [0.3333333333333333, \"#9c179e\"], [0.4444444444444444, \"#bd3786\"], [0.5555555555555556, \"#d8576b\"], [0.6666666666666666, \"#ed7953\"], [0.7777777777777778, \"#fb9f3a\"], [0.8888888888888888, \"#fdca26\"], [1.0, \"#f0f921\"]], \"type\": \"histogram2dcontour\"}], \"mesh3d\": [{\"colorbar\": {\"outlinewidth\": 0, \"ticks\": \"\"}, \"type\": \"mesh3d\"}], \"parcoords\": [{\"line\": {\"colorbar\": {\"outlinewidth\": 0, \"ticks\": \"\"}}, \"type\": \"parcoords\"}], \"pie\": [{\"automargin\": true, \"type\": \"pie\"}], \"scatter\": [{\"marker\": {\"colorbar\": {\"outlinewidth\": 0, \"ticks\": \"\"}}, \"type\": \"scatter\"}], \"scatter3d\": [{\"line\": {\"colorbar\": {\"outlinewidth\": 0, \"ticks\": \"\"}}, \"marker\": {\"colorbar\": {\"outlinewidth\": 0, \"ticks\": \"\"}}, \"type\": \"scatter3d\"}], \"scattercarpet\": [{\"marker\": {\"colorbar\": {\"outlinewidth\": 0, \"ticks\": \"\"}}, \"type\": \"scattercarpet\"}], \"scattergeo\": [{\"marker\": {\"colorbar\": {\"outlinewidth\": 0, \"ticks\": \"\"}}, \"type\": \"scattergeo\"}], \"scattergl\": [{\"marker\": {\"colorbar\": {\"outlinewidth\": 0, \"ticks\": \"\"}}, \"type\": \"scattergl\"}], \"scattermapbox\": [{\"marker\": {\"colorbar\": {\"outlinewidth\": 0, \"ticks\": \"\"}}, \"type\": \"scattermapbox\"}], \"scatterpolar\": [{\"marker\": {\"colorbar\": {\"outlinewidth\": 0, \"ticks\": \"\"}}, \"type\": \"scatterpolar\"}], \"scatterpolargl\": [{\"marker\": {\"colorbar\": {\"outlinewidth\": 0, \"ticks\": \"\"}}, \"type\": \"scatterpolargl\"}], \"scatterternary\": [{\"marker\": {\"colorbar\": {\"outlinewidth\": 0, \"ticks\": \"\"}}, \"type\": \"scatterternary\"}], \"surface\": [{\"colorbar\": {\"outlinewidth\": 0, \"ticks\": \"\"}, \"colorscale\": [[0.0, \"#0d0887\"], [0.1111111111111111, \"#46039f\"], [0.2222222222222222, \"#7201a8\"], [0.3333333333333333, \"#9c179e\"], [0.4444444444444444, \"#bd3786\"], [0.5555555555555556, \"#d8576b\"], [0.6666666666666666, \"#ed7953\"], [0.7777777777777778, \"#fb9f3a\"], [0.8888888888888888, \"#fdca26\"], [1.0, \"#f0f921\"]], \"type\": \"surface\"}], \"table\": [{\"cells\": {\"fill\": {\"color\": \"#EBF0F8\"}, \"line\": {\"color\": \"white\"}}, \"header\": {\"fill\": {\"color\": \"#C8D4E3\"}, \"line\": {\"color\": \"white\"}}, \"type\": \"table\"}]}, \"layout\": {\"annotationdefaults\": {\"arrowcolor\": \"#2a3f5f\", \"arrowhead\": 0, \"arrowwidth\": 1}, \"coloraxis\": {\"colorbar\": {\"outlinewidth\": 0, \"ticks\": \"\"}}, \"colorscale\": {\"diverging\": [[0, \"#8e0152\"], [0.1, \"#c51b7d\"], [0.2, \"#de77ae\"], [0.3, \"#f1b6da\"], [0.4, \"#fde0ef\"], [0.5, \"#f7f7f7\"], [0.6, \"#e6f5d0\"], [0.7, \"#b8e186\"], [0.8, \"#7fbc41\"], [0.9, \"#4d9221\"], [1, \"#276419\"]], \"sequential\": [[0.0, \"#0d0887\"], [0.1111111111111111, \"#46039f\"], [0.2222222222222222, \"#7201a8\"], [0.3333333333333333, \"#9c179e\"], [0.4444444444444444, \"#bd3786\"], [0.5555555555555556, \"#d8576b\"], [0.6666666666666666, \"#ed7953\"], [0.7777777777777778, \"#fb9f3a\"], [0.8888888888888888, \"#fdca26\"], [1.0, \"#f0f921\"]], \"sequentialminus\": [[0.0, \"#0d0887\"], [0.1111111111111111, \"#46039f\"], [0.2222222222222222, \"#7201a8\"], [0.3333333333333333, \"#9c179e\"], [0.4444444444444444, \"#bd3786\"], [0.5555555555555556, \"#d8576b\"], [0.6666666666666666, \"#ed7953\"], [0.7777777777777778, \"#fb9f3a\"], [0.8888888888888888, \"#fdca26\"], [1.0, \"#f0f921\"]]}, \"colorway\": [\"#636efa\", \"#EF553B\", \"#00cc96\", \"#ab63fa\", \"#FFA15A\", \"#19d3f3\", \"#FF6692\", \"#B6E880\", \"#FF97FF\", \"#FECB52\"], \"font\": {\"color\": \"#2a3f5f\"}, \"geo\": {\"bgcolor\": \"white\", \"lakecolor\": \"white\", \"landcolor\": \"#E5ECF6\", \"showlakes\": true, \"showland\": true, \"subunitcolor\": \"white\"}, \"hoverlabel\": {\"align\": \"left\"}, \"hovermode\": \"closest\", \"mapbox\": {\"style\": \"light\"}, \"paper_bgcolor\": \"white\", \"plot_bgcolor\": \"#E5ECF6\", \"polar\": {\"angularaxis\": {\"gridcolor\": \"white\", \"linecolor\": \"white\", \"ticks\": \"\"}, \"bgcolor\": \"#E5ECF6\", \"radialaxis\": {\"gridcolor\": \"white\", \"linecolor\": \"white\", \"ticks\": \"\"}}, \"scene\": {\"xaxis\": {\"backgroundcolor\": \"#E5ECF6\", \"gridcolor\": \"white\", \"gridwidth\": 2, \"linecolor\": \"white\", \"showbackground\": true, \"ticks\": \"\", \"zerolinecolor\": \"white\"}, \"yaxis\": {\"backgroundcolor\": \"#E5ECF6\", \"gridcolor\": \"white\", \"gridwidth\": 2, \"linecolor\": \"white\", \"showbackground\": true, \"ticks\": \"\", \"zerolinecolor\": \"white\"}, \"zaxis\": {\"backgroundcolor\": \"#E5ECF6\", \"gridcolor\": \"white\", \"gridwidth\": 2, \"linecolor\": \"white\", \"showbackground\": true, \"ticks\": \"\", \"zerolinecolor\": \"white\"}}, \"shapedefaults\": {\"line\": {\"color\": \"#2a3f5f\"}}, \"ternary\": {\"aaxis\": {\"gridcolor\": \"white\", \"linecolor\": \"white\", \"ticks\": \"\"}, \"baxis\": {\"gridcolor\": \"white\", \"linecolor\": \"white\", \"ticks\": \"\"}, \"bgcolor\": \"#E5ECF6\", \"caxis\": {\"gridcolor\": \"white\", \"linecolor\": \"white\", \"ticks\": \"\"}}, \"title\": {\"x\": 0.05}, \"xaxis\": {\"automargin\": true, \"gridcolor\": \"white\", \"linecolor\": \"white\", \"ticks\": \"\", \"title\": {\"standoff\": 15}, \"zerolinecolor\": \"white\", \"zerolinewidth\": 2}, \"yaxis\": {\"automargin\": true, \"gridcolor\": \"white\", \"linecolor\": \"white\", \"ticks\": \"\", \"title\": {\"standoff\": 15}, \"zerolinecolor\": \"white\", \"zerolinewidth\": 2}}}, \"xaxis\": {\"anchor\": \"y\", \"domain\": [0.0, 1.0], \"tickmode\": \"array\", \"ticktext\": [\"12/23\", \"12/30\", \"1/6\", \"1/13\", \"1/20\", \"1/27\", \"2/3\", \"2/10\", \"2/17\", \"2/24\", \"3/2\", \"3/9\", \"3/16\", \"3/23\", \"3/30\", \"4/6\", \"4/13\", \"4/20\", \"4/27\", \"5/4\", \"5/11\", \"5/18\", \"5/25\", \"6/1\", \"6/8\", \"6/15\", \"6/22\", \"6/29\", \"7/6\", \"7/13\", \"7/20\", \"7/27\", \"8/3\", \"8/10\", \"8/17\", \"8/24\", \"8/31\", \"9/7\", \"9/14\", \"9/21\", \"9/28\", \"10/5\", \"10/12\", \"10/19\", \"10/26\", \"11/2\", \"11/9\", \"11/16\", \"11/23\", \"11/30\", \"12/7\", \"12/14\"], \"tickvals\": [0, 1, 2, 3, 4, 5, 6, 7, 8, 9, 10, 11, 12, 13, 14, 15, 16, 17, 18, 19, 20, 21, 22, 23, 24, 25, 26, 27, 28, 29, 30, 31, 32, 33, 34, 35, 36, 37, 38, 39, 40, 41, 42, 43, 44, 45, 46, 47, 48, 49, 50, 51], \"title\": {\"text\": \"week\"}}, \"yaxis\": {\"anchor\": \"x\", \"domain\": [0.0, 1.0], \"title\": {\"text\": \"std_diff\"}}},\n",
       "                        {\"responsive\": true}\n",
       "                    ).then(function(){\n",
       "                            \n",
       "var gd = document.getElementById('88f8b087-1f8c-46fc-9fe1-1a171a781f3d');\n",
       "var x = new MutationObserver(function (mutations, observer) {{\n",
       "        var display = window.getComputedStyle(gd).display;\n",
       "        if (!display || display === 'none') {{\n",
       "            console.log([gd, 'removed!']);\n",
       "            Plotly.purge(gd);\n",
       "            observer.disconnect();\n",
       "        }}\n",
       "}});\n",
       "\n",
       "// Listen for the removal of the full notebook cells\n",
       "var notebookContainer = gd.closest('#notebook-container');\n",
       "if (notebookContainer) {{\n",
       "    x.observe(notebookContainer, {childList: true});\n",
       "}}\n",
       "\n",
       "// Listen for the clearing of the current output cell\n",
       "var outputEl = gd.closest('.output');\n",
       "if (outputEl) {{\n",
       "    x.observe(outputEl, {childList: true});\n",
       "}}\n",
       "\n",
       "                        })\n",
       "                };\n",
       "                });\n",
       "            </script>\n",
       "        </div>"
      ]
     },
     "metadata": {},
     "output_type": "display_data"
    }
   ],
   "source": [
    "fig = px.line(std_cnt_diff2, x=\"week\", y=\"std_diff\", color='MCT_CAT_CD')\n",
    "\n",
    "fig.update_layout(\n",
    "    xaxis = dict(\n",
    "        tickmode = 'array',\n",
    "        tickvals = np.arange(0, len(test2)),\n",
    "        ticktext = test2\n",
    "    )\n",
    ")\n",
    "fig.show()"
   ]
  },
  {
   "cell_type": "code",
   "execution_count": 46,
   "metadata": {},
   "outputs": [],
   "source": [
    "var2 = (rs_card_data.groupby('MCT_CAT_CD').USE_AMT.sum()).reset_index()"
   ]
  },
  {
   "cell_type": "code",
   "execution_count": 47,
   "metadata": {},
   "outputs": [],
   "source": [
    "var2.columns = ['MCT_CAT_CD','var']"
   ]
  },
  {
   "cell_type": "code",
   "execution_count": 48,
   "metadata": {},
   "outputs": [],
   "source": [
    "std_total_diff2 = total_diff2.merge(var2)"
   ]
  },
  {
   "cell_type": "code",
   "execution_count": 49,
   "metadata": {},
   "outputs": [],
   "source": [
    "std_total_diff2['std_diff'] = std_total_diff2['diff'] / std_total_diff2['var']"
   ]
  },
  {
   "cell_type": "code",
   "execution_count": 50,
   "metadata": {},
   "outputs": [
    {
     "data": {
      "application/vnd.plotly.v1+json": {
       "config": {
        "plotlyServerURL": "https://plot.ly"
       },
       "data": [
        {
         "hovertemplate": "MCT_CAT_CD=가구<br>week=%{x}<br>std_diff=%{y}<extra></extra>",
         "legendgroup": "가구",
         "line": {
          "color": "#636efa",
          "dash": "solid"
         },
         "mode": "lines",
         "name": "가구",
         "orientation": "v",
         "showlegend": true,
         "type": "scatter",
         "x": [
          5,
          6,
          7,
          8,
          9,
          10,
          11,
          12,
          13,
          14,
          15,
          16,
          17,
          18,
          19,
          20,
          21,
          22
         ],
         "xaxis": "x",
         "y": [
          0.0068848166161442435,
          0.00789078611568897,
          0.0071611702956018404,
          -0.007257643303129274,
          -0.013646596091109405,
          -0.0014766933783788385,
          -0.010508994188399151,
          -0.013173704975264086,
          -0.002461733560501053,
          0.00900363136041492,
          -0.009411133839579259,
          0.008338041913744586,
          0.014182584764509575,
          0.006178545034720685,
          -0.0009159982030509125,
          0.02388109423177485,
          0.018623377242587197,
          0.0315850645170978
         ],
         "yaxis": "y"
        },
        {
         "hovertemplate": "MCT_CAT_CD=가전<br>week=%{x}<br>std_diff=%{y}<extra></extra>",
         "legendgroup": "가전",
         "line": {
          "color": "#EF553B",
          "dash": "solid"
         },
         "mode": "lines",
         "name": "가전",
         "orientation": "v",
         "showlegend": true,
         "type": "scatter",
         "x": [
          5,
          6,
          7,
          8,
          9,
          10,
          11,
          12,
          13,
          14,
          15,
          16,
          17,
          18,
          19,
          20,
          21,
          22
         ],
         "xaxis": "x",
         "y": [
          -0.005007982483160968,
          -0.003932294679052188,
          -0.0075868119413615666,
          -0.01125768842017885,
          -0.015669737918939563,
          -0.017951363390794214,
          -0.01736662537870763,
          -0.014460836876169482,
          -0.00830668678642341,
          -0.007602148706837728,
          -0.014662519674600626,
          -0.014582179285055449,
          -0.011075900092670456,
          -0.004065750533212545,
          -0.005314145913293553,
          -0.0007768894873404533,
          0.00039133879998041744,
          0.003085549257661559
         ],
         "yaxis": "y"
        },
        {
         "hovertemplate": "MCT_CAT_CD=광학제품<br>week=%{x}<br>std_diff=%{y}<extra></extra>",
         "legendgroup": "광학제품",
         "line": {
          "color": "#00cc96",
          "dash": "solid"
         },
         "mode": "lines",
         "name": "광학제품",
         "orientation": "v",
         "showlegend": true,
         "type": "scatter",
         "x": [
          5,
          6,
          7,
          8,
          9,
          10,
          11,
          12,
          13,
          14,
          15,
          16,
          17,
          18,
          19,
          20,
          21,
          22
         ],
         "xaxis": "x",
         "y": [
          0.0002236509761856813,
          -0.00501675485154021,
          -0.006219988512472587,
          -0.01733080291774319,
          -0.0255745320815656,
          -0.018797205909168065,
          -0.016443286543935925,
          -0.010260525466679906,
          -0.029328775740713204,
          0.004361766765393347,
          -0.004343582595114486,
          0.003995649258282728,
          -0.015071598738648585,
          -0.017312046017691766,
          0.0005571944774818045,
          7.445487043313333e-05,
          -0.01666758184111574,
          0.0013688957476460984
         ],
         "yaxis": "y"
        },
        {
         "hovertemplate": "MCT_CAT_CD=레저업소<br>week=%{x}<br>std_diff=%{y}<extra></extra>",
         "legendgroup": "레저업소",
         "line": {
          "color": "#ab63fa",
          "dash": "solid"
         },
         "mode": "lines",
         "name": "레저업소",
         "orientation": "v",
         "showlegend": true,
         "type": "scatter",
         "x": [
          5,
          6,
          7,
          8,
          9,
          10,
          11,
          12,
          13,
          14,
          15,
          16,
          17,
          18,
          19,
          20,
          21,
          22
         ],
         "xaxis": "x",
         "y": [
          -0.004572777989360871,
          0.0054002299176261264,
          -0.001205852103617017,
          -0.0072847179536536764,
          -0.01911700985974926,
          -0.018455828417585588,
          -0.014045842366152105,
          -0.0123759848690976,
          -0.020772973747232266,
          -0.021290618765178383,
          -0.013029519680215625,
          -0.014217824669521971,
          -0.00879239071497688,
          -0.010529822612362098,
          -0.0002515360826200063,
          -0.0007739975518842442,
          -0.0029366768177837873,
          0.00790306591208655
         ],
         "yaxis": "y"
        },
        {
         "hovertemplate": "MCT_CAT_CD=레저용품<br>week=%{x}<br>std_diff=%{y}<extra></extra>",
         "legendgroup": "레저용품",
         "line": {
          "color": "#FFA15A",
          "dash": "solid"
         },
         "mode": "lines",
         "name": "레저용품",
         "orientation": "v",
         "showlegend": true,
         "type": "scatter",
         "x": [
          5,
          6,
          7,
          8,
          9,
          10,
          11,
          12,
          13,
          14,
          15,
          16,
          17,
          18,
          19,
          20,
          21,
          22
         ],
         "xaxis": "x",
         "y": [
          -0.007847995905586758,
          -0.013433094742666839,
          -0.00219331968038516,
          -0.012224631030740264,
          -0.029265729373319043,
          -0.01588018744341252,
          -0.011824009344871487,
          -0.00950129392200675,
          -0.008946402127868222,
          -0.007787659902871623,
          -0.008045279867864753,
          -0.007690554520013639,
          -0.010339273980306705,
          -0.007034236341468035,
          -0.004582359480116927,
          0.007942763697442774,
          0.008742830100284234,
          0.021426724202355238
         ],
         "yaxis": "y"
        },
        {
         "hovertemplate": "MCT_CAT_CD=문화취미<br>week=%{x}<br>std_diff=%{y}<extra></extra>",
         "legendgroup": "문화취미",
         "line": {
          "color": "#19d3f3",
          "dash": "solid"
         },
         "mode": "lines",
         "name": "문화취미",
         "orientation": "v",
         "showlegend": true,
         "type": "scatter",
         "x": [
          5,
          6,
          7,
          8,
          9,
          10,
          11,
          12,
          13,
          14,
          15,
          16,
          17,
          18,
          19,
          20,
          21,
          22
         ],
         "xaxis": "x",
         "y": [
          -0.012571803574086932,
          -0.012375634190213126,
          -0.010006326963869615,
          -0.015489440634187442,
          -0.025459124339019843,
          -0.020663685134737316,
          -0.017694103814705722,
          -0.012225156760732735,
          -0.014867929806500113,
          -0.009755496073354264,
          -0.01006172713951983,
          -0.011554946540545265,
          -0.02124462192901987,
          -0.019028931475443597,
          -0.005800108199181148,
          -0.007183450585166993,
          -0.0092493495161995,
          -0.0007564234459136131
         ],
         "yaxis": "y"
        },
        {
         "hovertemplate": "MCT_CAT_CD=보건위생<br>week=%{x}<br>std_diff=%{y}<extra></extra>",
         "legendgroup": "보건위생",
         "line": {
          "color": "#FF6692",
          "dash": "solid"
         },
         "mode": "lines",
         "name": "보건위생",
         "orientation": "v",
         "showlegend": true,
         "type": "scatter",
         "x": [
          5,
          6,
          7,
          8,
          9,
          10,
          11,
          12,
          13,
          14,
          15,
          16,
          17,
          18,
          19,
          20,
          21,
          22
         ],
         "xaxis": "x",
         "y": [
          -0.007348001111263792,
          -0.0008041317134061369,
          -0.0045188692738121474,
          -0.011749856251568358,
          -0.021552629821238185,
          -0.016867450141332417,
          -0.013315921210565199,
          -0.012664042263998592,
          -0.016542770285670392,
          -0.01010185738206623,
          -0.012279166483068243,
          -0.010601590872016621,
          -0.009326719868997314,
          -0.008470174776518413,
          -0.00899150828141865,
          -0.0029559674113977426,
          0.004128152750727156,
          0.009859734858206837
         ],
         "yaxis": "y"
        },
        {
         "hovertemplate": "MCT_CAT_CD=사무통신<br>week=%{x}<br>std_diff=%{y}<extra></extra>",
         "legendgroup": "사무통신",
         "line": {
          "color": "#B6E880",
          "dash": "solid"
         },
         "mode": "lines",
         "name": "사무통신",
         "orientation": "v",
         "showlegend": true,
         "type": "scatter",
         "x": [
          5,
          6,
          7,
          8,
          9,
          10,
          11,
          12,
          13,
          14,
          15,
          16,
          17,
          18,
          19,
          20,
          21,
          22
         ],
         "xaxis": "x",
         "y": [
          -0.0059782279884532516,
          0.004482078941955719,
          0.0019100010203941492,
          -0.007265055392738602,
          -0.011384039253758305,
          -0.012496694770701693,
          -0.009805258632448919,
          -0.008738844990106652,
          -0.009639934833324863,
          -0.00444101249138457,
          -0.016783441888526245,
          -0.018156836346312905,
          -0.019505337553622076,
          -0.016585704300881146,
          -0.01606036506767224,
          -0.013475860737372043,
          -0.013394078255565108,
          -0.00016101768459912008
         ],
         "yaxis": "y"
        },
        {
         "hovertemplate": "MCT_CAT_CD=서적문구<br>week=%{x}<br>std_diff=%{y}<extra></extra>",
         "legendgroup": "서적문구",
         "line": {
          "color": "#FF97FF",
          "dash": "solid"
         },
         "mode": "lines",
         "name": "서적문구",
         "orientation": "v",
         "showlegend": true,
         "type": "scatter",
         "x": [
          5,
          6,
          7,
          8,
          9,
          10,
          11,
          12,
          13,
          14,
          15,
          16,
          17,
          18,
          19,
          20,
          21,
          22
         ],
         "xaxis": "x",
         "y": [
          -0.007362820842447234,
          0.0061266833764223,
          -0.006624890105212771,
          -0.00976601439601677,
          -0.021327774742428356,
          -0.04353557085957226,
          -0.022916065191614255,
          -0.014253292035045642,
          -0.014508128695895581,
          -0.007604834646710309,
          -0.006186464661114358,
          -0.007584666829688386,
          -0.001143717784003948,
          -0.004942524275490549,
          -2.465933959012408e-06,
          -0.0002880210864126493,
          1.3597864402554137e-05,
          0.007164665435026594
         ],
         "yaxis": "y"
        },
        {
         "hovertemplate": "MCT_CAT_CD=수리서비스<br>week=%{x}<br>std_diff=%{y}<extra></extra>",
         "legendgroup": "수리서비스",
         "line": {
          "color": "#FECB52",
          "dash": "solid"
         },
         "mode": "lines",
         "name": "수리서비스",
         "orientation": "v",
         "showlegend": true,
         "type": "scatter",
         "x": [
          5,
          6,
          7,
          8,
          9,
          10,
          11,
          12,
          13,
          14,
          15,
          16,
          17,
          18,
          19,
          20,
          21,
          22
         ],
         "xaxis": "x",
         "y": [
          -0.004346092432047199,
          0.009287950274698012,
          0.00047554180311354486,
          -0.0038958102163002524,
          -0.0047291961737739325,
          -0.01760142175391749,
          -0.00011030019816747708,
          -0.004267005866839875,
          0.008437905017937314,
          0.002474958426929126,
          0.0036524761913353603,
          -0.001022532153349752,
          -0.007294968831473446,
          -0.006458816347764376,
          0.003174167861986426,
          0.008873813325635173,
          0.0038636343133451813,
          0.007687815556898724
         ],
         "yaxis": "y"
        },
        {
         "hovertemplate": "MCT_CAT_CD=숙박<br>week=%{x}<br>std_diff=%{y}<extra></extra>",
         "legendgroup": "숙박",
         "line": {
          "color": "#636efa",
          "dash": "solid"
         },
         "mode": "lines",
         "name": "숙박",
         "orientation": "v",
         "showlegend": true,
         "type": "scatter",
         "x": [
          5,
          6,
          7,
          8,
          9,
          10,
          11,
          12,
          13,
          14,
          15,
          16,
          17,
          18,
          19,
          20,
          21,
          22
         ],
         "xaxis": "x",
         "y": [
          -0.0012228000234710316,
          -0.0036423296039784824,
          -0.005352599775932904,
          -0.013655044284635869,
          -0.020679303300847406,
          -0.0158641642685247,
          -0.011629007481453171,
          -0.009700059378817474,
          -0.019592802340031783,
          -0.016718162339633687,
          -0.014341458733367911,
          -0.013648069959126171,
          -0.02152786843898772,
          -0.006268567536052339,
          -0.010299080676380934,
          -0.008575489828146054,
          -0.020781244533468003,
          -0.0032345361291897796
         ],
         "yaxis": "y"
        },
        {
         "hovertemplate": "MCT_CAT_CD=신변잡화<br>week=%{x}<br>std_diff=%{y}<extra></extra>",
         "legendgroup": "신변잡화",
         "line": {
          "color": "#EF553B",
          "dash": "solid"
         },
         "mode": "lines",
         "name": "신변잡화",
         "orientation": "v",
         "showlegend": true,
         "type": "scatter",
         "x": [
          5,
          6,
          7,
          8,
          9,
          10,
          11,
          12,
          13,
          14,
          15,
          16,
          17,
          18,
          19,
          20,
          21,
          22
         ],
         "xaxis": "x",
         "y": [
          -0.0056978898445120205,
          -0.005388388353987289,
          -0.0018098251572115458,
          -0.02048824614668431,
          -0.020563076210607174,
          -0.018955849578170918,
          -0.022451152004709284,
          -0.01342868656678218,
          -0.013966782936636743,
          -0.013271662146547165,
          -0.010397495528908712,
          -0.01699612284090416,
          -0.011832063710545803,
          -0.012548895078471565,
          -0.006379771005114843,
          -0.0029219741551164647,
          -0.005800547275578018,
          0.0022901138439119315
         ],
         "yaxis": "y"
        },
        {
         "hovertemplate": "MCT_CAT_CD=연료판매<br>week=%{x}<br>std_diff=%{y}<extra></extra>",
         "legendgroup": "연료판매",
         "line": {
          "color": "#00cc96",
          "dash": "solid"
         },
         "mode": "lines",
         "name": "연료판매",
         "orientation": "v",
         "showlegend": true,
         "type": "scatter",
         "x": [
          5,
          6,
          7,
          8,
          9,
          10,
          11,
          12,
          13,
          14,
          15,
          16,
          17,
          18,
          19,
          20,
          21,
          22
         ],
         "xaxis": "x",
         "y": [
          -0.007207662571253355,
          -0.0004194389159840629,
          -0.004567930362114126,
          -0.008054431034790466,
          -0.012135224264589694,
          -0.009369671317362247,
          -0.010478333407230367,
          -0.009467003959031226,
          -0.009457408011296662,
          -0.008726912945699874,
          -0.009885819077653058,
          -0.011803044067937819,
          -0.008515915513241715,
          -0.011904994430340187,
          -0.011251509984553237,
          -0.008369460854613242,
          -0.009942450966752645,
          0.00042065410565074457
         ],
         "yaxis": "y"
        },
        {
         "hovertemplate": "MCT_CAT_CD=요식업소<br>week=%{x}<br>std_diff=%{y}<extra></extra>",
         "legendgroup": "요식업소",
         "line": {
          "color": "#ab63fa",
          "dash": "solid"
         },
         "mode": "lines",
         "name": "요식업소",
         "orientation": "v",
         "showlegend": true,
         "type": "scatter",
         "x": [
          5,
          6,
          7,
          8,
          9,
          10,
          11,
          12,
          13,
          14,
          15,
          16,
          17,
          18,
          19,
          20,
          21,
          22
         ],
         "xaxis": "x",
         "y": [
          -0.006761352736518541,
          -0.00014990507594112642,
          -0.0019209285949299598,
          -0.009366546246387933,
          -0.0158373259299712,
          -0.012733717669235249,
          -0.011819823215178302,
          -0.011332399381415423,
          -0.010090680970767946,
          -0.009012324689446453,
          -0.009178028072046263,
          -0.008434024218704686,
          -0.007169160015723037,
          -0.0070699919957752004,
          -0.004537280340883761,
          -0.0021757263036269793,
          -0.0008083004152840128,
          0.009705161671007288
         ],
         "yaxis": "y"
        },
        {
         "hovertemplate": "MCT_CAT_CD=유통업<br>week=%{x}<br>std_diff=%{y}<extra></extra>",
         "legendgroup": "유통업",
         "line": {
          "color": "#FFA15A",
          "dash": "solid"
         },
         "mode": "lines",
         "name": "유통업",
         "orientation": "v",
         "showlegend": true,
         "type": "scatter",
         "x": [
          5,
          6,
          7,
          8,
          9,
          10,
          11,
          12,
          13,
          14,
          15,
          16,
          17,
          18,
          19,
          20,
          21,
          22
         ],
         "xaxis": "x",
         "y": [
          -0.008863076106812565,
          -0.004463476509668094,
          -0.0016935204337694837,
          -0.0033673023825819214,
          -0.009319739159593327,
          -0.009563125794208397,
          -0.008326456021688248,
          -0.006860337792460438,
          -0.00622417114550303,
          -0.007173479424028953,
          -0.004924040215909706,
          -0.005428294069181186,
          -0.004878628596198384,
          -0.002892540297742823,
          -0.001626595590698688,
          -0.0015408523926473514,
          -0.00014377360847527497,
          0.012573062326847989
         ],
         "yaxis": "y"
        },
        {
         "hovertemplate": "MCT_CAT_CD=음료식품<br>week=%{x}<br>std_diff=%{y}<extra></extra>",
         "legendgroup": "음료식품",
         "line": {
          "color": "#19d3f3",
          "dash": "solid"
         },
         "mode": "lines",
         "name": "음료식품",
         "orientation": "v",
         "showlegend": true,
         "type": "scatter",
         "x": [
          5,
          6,
          7,
          8,
          9,
          10,
          11,
          12,
          13,
          14,
          15,
          16,
          17,
          18,
          19,
          20,
          21,
          22
         ],
         "xaxis": "x",
         "y": [
          -0.019553087502185765,
          0.0030467022436151173,
          0.001085732294793723,
          0.001704064058944751,
          0.0015023816045789226,
          9.50105172182368e-05,
          -0.0008864181906609699,
          0.0005144729942853632,
          -0.001242217730371501,
          0.0005090991234519389,
          -0.00017558852451359707,
          -0.001329275640081214,
          -0.0015930942273386602,
          -0.002513300480588755,
          0.0009648743004124836,
          0.006546168132549229,
          0.01324686210124481,
          0.013993469484618737
         ],
         "yaxis": "y"
        },
        {
         "hovertemplate": "MCT_CAT_CD=의료기관<br>week=%{x}<br>std_diff=%{y}<extra></extra>",
         "legendgroup": "의료기관",
         "line": {
          "color": "#FF6692",
          "dash": "solid"
         },
         "mode": "lines",
         "name": "의료기관",
         "orientation": "v",
         "showlegend": true,
         "type": "scatter",
         "x": [
          5,
          6,
          7,
          8,
          9,
          10,
          11,
          12,
          13,
          14,
          15,
          16,
          17,
          18,
          19,
          20,
          21,
          22
         ],
         "xaxis": "x",
         "y": [
          -0.006341416407511951,
          0.011653207116375321,
          0.00039671345140662734,
          -0.004531541202987125,
          -0.00477849605588912,
          -0.008397069424724022,
          -0.00787727392330919,
          -0.008085349183758604,
          -0.009434120020294827,
          -0.0019332971873826954,
          -0.004606405505201957,
          -0.005617814802318495,
          -0.007836343826822268,
          0.0002421139909840392,
          -0.000540184201103823,
          0.0010722927247496985,
          0.00011154160243549126,
          0.007025169520740146
         ],
         "yaxis": "y"
        },
        {
         "hovertemplate": "MCT_CAT_CD=의복<br>week=%{x}<br>std_diff=%{y}<extra></extra>",
         "legendgroup": "의복",
         "line": {
          "color": "#B6E880",
          "dash": "solid"
         },
         "mode": "lines",
         "name": "의복",
         "orientation": "v",
         "showlegend": true,
         "type": "scatter",
         "x": [
          5,
          6,
          7,
          8,
          9,
          10,
          11,
          12,
          13,
          14,
          15,
          16,
          17,
          18,
          19,
          20,
          21,
          22
         ],
         "xaxis": "x",
         "y": [
          -0.009861494806868062,
          -0.010223495344197036,
          -0.009362866001967484,
          -0.019643281386074286,
          -0.03424032298212882,
          -0.02679698061080602,
          -0.024189628667993464,
          -0.02134817719060102,
          -0.01964150745529119,
          -0.019133107198886404,
          -0.02016818097862552,
          -0.019966415633904732,
          -0.01787750831142934,
          -0.018645240636261867,
          -0.01558429637207542,
          -0.007376425430511643,
          0.0003773429620951454,
          0.012397818323810312
         ],
         "yaxis": "y"
        },
        {
         "hovertemplate": "MCT_CAT_CD=자동차정비<br>week=%{x}<br>std_diff=%{y}<extra></extra>",
         "legendgroup": "자동차정비",
         "line": {
          "color": "#FF97FF",
          "dash": "solid"
         },
         "mode": "lines",
         "name": "자동차정비",
         "orientation": "v",
         "showlegend": true,
         "type": "scatter",
         "x": [
          5,
          6,
          7,
          8,
          9,
          10,
          11,
          12,
          13,
          14,
          15,
          16,
          17,
          18,
          19,
          20,
          21,
          22
         ],
         "xaxis": "x",
         "y": [
          -0.009653487682498864,
          0.006049166860452546,
          -0.0062815720219375915,
          -0.00850177628475625,
          -0.01010194387460855,
          -0.011590238729494181,
          -0.008205719632502547,
          -0.009375825980133675,
          -0.005083363044716661,
          -0.008712008223287224,
          -0.005074786089071491,
          -0.008779120832813016,
          -0.006570596122134966,
          -0.007276981502898846,
          -0.0028816364676930626,
          -0.0021804496597237636,
          0.0034391110059936096,
          0.011109543112467441
         ],
         "yaxis": "y"
        },
        {
         "hovertemplate": "MCT_CAT_CD=자동차판매<br>week=%{x}<br>std_diff=%{y}<extra></extra>",
         "legendgroup": "자동차판매",
         "line": {
          "color": "#FECB52",
          "dash": "solid"
         },
         "mode": "lines",
         "name": "자동차판매",
         "orientation": "v",
         "showlegend": true,
         "type": "scatter",
         "x": [
          5,
          6,
          7,
          8,
          9,
          10,
          11,
          12,
          13,
          14,
          15,
          16,
          17,
          18,
          19,
          20,
          21,
          22
         ],
         "xaxis": "x",
         "y": [
          -0.0011803741275997366,
          0.0060587428516877305,
          0.004134423373106232,
          -0.009189697963936289,
          -0.024711206180956846,
          -0.009440205729938343,
          -0.0005999643575181335,
          -0.015245043804888943,
          -0.009553962038143727,
          -0.008595177533878213,
          -0.00569421746896221,
          -0.01421827553450222,
          0.007806548426304291,
          -0.004640708626891678,
          -0.011039544514864186,
          0.015255670351290978,
          0.0021350212469956054,
          0.005335919939250995
         ],
         "yaxis": "y"
        },
        {
         "hovertemplate": "MCT_CAT_CD=전기<br>week=%{x}<br>std_diff=%{y}<extra></extra>",
         "legendgroup": "전기",
         "line": {
          "color": "#636efa",
          "dash": "solid"
         },
         "mode": "lines",
         "name": "전기",
         "orientation": "v",
         "showlegend": true,
         "type": "scatter",
         "x": [
          5,
          6,
          7,
          8,
          9,
          10,
          11,
          12,
          13,
          14,
          15,
          16,
          17,
          18,
          19,
          20,
          21,
          22
         ],
         "xaxis": "x",
         "y": [
          -0.008978566614621743,
          0.009920606193361447,
          -0.0183387129693676,
          -0.004204382889347947,
          0.004471068362555865,
          0.009908929946723622,
          0.008953812971749554,
          -0.017817952369320614,
          0.0010354495518423016,
          0.006007662420093606,
          4.016628843411724e-05,
          -0.0004558406687406794,
          0.007051051819649629,
          0.0065382310673163645,
          -0.005931533292014989,
          0.012472099608658917,
          -0.0037980495063516446,
          0.011292798698238614
         ],
         "yaxis": "y"
        },
        {
         "hovertemplate": "MCT_CAT_CD=주방용구<br>week=%{x}<br>std_diff=%{y}<extra></extra>",
         "legendgroup": "주방용구",
         "line": {
          "color": "#EF553B",
          "dash": "solid"
         },
         "mode": "lines",
         "name": "주방용구",
         "orientation": "v",
         "showlegend": true,
         "type": "scatter",
         "x": [
          5,
          6,
          7,
          8,
          9,
          10,
          11,
          12,
          13,
          14,
          15,
          16,
          17,
          18,
          19,
          20,
          21,
          22
         ],
         "xaxis": "x",
         "y": [
          -0.004540994333268804,
          0.007516183532660692,
          -0.0010396365489124832,
          -0.010201017842063325,
          -0.012899762355436281,
          -0.011505443095802214,
          -0.009346557447190571,
          -0.006334256043530032,
          -0.009490827704969743,
          -0.006759644376013816,
          -0.006008878228919842,
          -0.003427078394775657,
          -0.0023915654241152464,
          -0.010723172810862406,
          -0.002326577830862586,
          -0.0033678088300325374,
          0.010167919253960024,
          0.022304489746502752
         ],
         "yaxis": "y"
        },
        {
         "hovertemplate": "MCT_CAT_CD=직물<br>week=%{x}<br>std_diff=%{y}<extra></extra>",
         "legendgroup": "직물",
         "line": {
          "color": "#00cc96",
          "dash": "solid"
         },
         "mode": "lines",
         "name": "직물",
         "orientation": "v",
         "showlegend": true,
         "type": "scatter",
         "x": [
          5,
          6,
          7,
          8,
          9,
          10,
          11,
          12,
          13,
          14,
          15,
          16,
          17,
          18,
          19,
          20,
          21,
          22
         ],
         "xaxis": "x",
         "y": [
          -0.005231981054873752,
          0.011412829742119475,
          -0.008013006974829744,
          -0.00937057531056788,
          -0.004991906864204507,
          -0.020574682902526942,
          -0.0061365061598328274,
          -0.0122457822605783,
          -0.02035665506703622,
          -0.0048763040216111735,
          -0.020053502069765534,
          -0.0030324043324023277,
          -0.004591075398097531,
          -0.013013657435988908,
          -0.004325145142148091,
          0.018142713863853577,
          0.023376631000910145,
          0.02450517955070028
         ],
         "yaxis": "y"
        }
       ],
       "layout": {
        "legend": {
         "title": {
          "text": "MCT_CAT_CD"
         },
         "tracegroupgap": 0
        },
        "margin": {
         "t": 60
        },
        "template": {
         "data": {
          "bar": [
           {
            "error_x": {
             "color": "#2a3f5f"
            },
            "error_y": {
             "color": "#2a3f5f"
            },
            "marker": {
             "line": {
              "color": "#E5ECF6",
              "width": 0.5
             }
            },
            "type": "bar"
           }
          ],
          "barpolar": [
           {
            "marker": {
             "line": {
              "color": "#E5ECF6",
              "width": 0.5
             }
            },
            "type": "barpolar"
           }
          ],
          "carpet": [
           {
            "aaxis": {
             "endlinecolor": "#2a3f5f",
             "gridcolor": "white",
             "linecolor": "white",
             "minorgridcolor": "white",
             "startlinecolor": "#2a3f5f"
            },
            "baxis": {
             "endlinecolor": "#2a3f5f",
             "gridcolor": "white",
             "linecolor": "white",
             "minorgridcolor": "white",
             "startlinecolor": "#2a3f5f"
            },
            "type": "carpet"
           }
          ],
          "choropleth": [
           {
            "colorbar": {
             "outlinewidth": 0,
             "ticks": ""
            },
            "type": "choropleth"
           }
          ],
          "contour": [
           {
            "colorbar": {
             "outlinewidth": 0,
             "ticks": ""
            },
            "colorscale": [
             [
              0,
              "#0d0887"
             ],
             [
              0.1111111111111111,
              "#46039f"
             ],
             [
              0.2222222222222222,
              "#7201a8"
             ],
             [
              0.3333333333333333,
              "#9c179e"
             ],
             [
              0.4444444444444444,
              "#bd3786"
             ],
             [
              0.5555555555555556,
              "#d8576b"
             ],
             [
              0.6666666666666666,
              "#ed7953"
             ],
             [
              0.7777777777777778,
              "#fb9f3a"
             ],
             [
              0.8888888888888888,
              "#fdca26"
             ],
             [
              1,
              "#f0f921"
             ]
            ],
            "type": "contour"
           }
          ],
          "contourcarpet": [
           {
            "colorbar": {
             "outlinewidth": 0,
             "ticks": ""
            },
            "type": "contourcarpet"
           }
          ],
          "heatmap": [
           {
            "colorbar": {
             "outlinewidth": 0,
             "ticks": ""
            },
            "colorscale": [
             [
              0,
              "#0d0887"
             ],
             [
              0.1111111111111111,
              "#46039f"
             ],
             [
              0.2222222222222222,
              "#7201a8"
             ],
             [
              0.3333333333333333,
              "#9c179e"
             ],
             [
              0.4444444444444444,
              "#bd3786"
             ],
             [
              0.5555555555555556,
              "#d8576b"
             ],
             [
              0.6666666666666666,
              "#ed7953"
             ],
             [
              0.7777777777777778,
              "#fb9f3a"
             ],
             [
              0.8888888888888888,
              "#fdca26"
             ],
             [
              1,
              "#f0f921"
             ]
            ],
            "type": "heatmap"
           }
          ],
          "heatmapgl": [
           {
            "colorbar": {
             "outlinewidth": 0,
             "ticks": ""
            },
            "colorscale": [
             [
              0,
              "#0d0887"
             ],
             [
              0.1111111111111111,
              "#46039f"
             ],
             [
              0.2222222222222222,
              "#7201a8"
             ],
             [
              0.3333333333333333,
              "#9c179e"
             ],
             [
              0.4444444444444444,
              "#bd3786"
             ],
             [
              0.5555555555555556,
              "#d8576b"
             ],
             [
              0.6666666666666666,
              "#ed7953"
             ],
             [
              0.7777777777777778,
              "#fb9f3a"
             ],
             [
              0.8888888888888888,
              "#fdca26"
             ],
             [
              1,
              "#f0f921"
             ]
            ],
            "type": "heatmapgl"
           }
          ],
          "histogram": [
           {
            "marker": {
             "colorbar": {
              "outlinewidth": 0,
              "ticks": ""
             }
            },
            "type": "histogram"
           }
          ],
          "histogram2d": [
           {
            "colorbar": {
             "outlinewidth": 0,
             "ticks": ""
            },
            "colorscale": [
             [
              0,
              "#0d0887"
             ],
             [
              0.1111111111111111,
              "#46039f"
             ],
             [
              0.2222222222222222,
              "#7201a8"
             ],
             [
              0.3333333333333333,
              "#9c179e"
             ],
             [
              0.4444444444444444,
              "#bd3786"
             ],
             [
              0.5555555555555556,
              "#d8576b"
             ],
             [
              0.6666666666666666,
              "#ed7953"
             ],
             [
              0.7777777777777778,
              "#fb9f3a"
             ],
             [
              0.8888888888888888,
              "#fdca26"
             ],
             [
              1,
              "#f0f921"
             ]
            ],
            "type": "histogram2d"
           }
          ],
          "histogram2dcontour": [
           {
            "colorbar": {
             "outlinewidth": 0,
             "ticks": ""
            },
            "colorscale": [
             [
              0,
              "#0d0887"
             ],
             [
              0.1111111111111111,
              "#46039f"
             ],
             [
              0.2222222222222222,
              "#7201a8"
             ],
             [
              0.3333333333333333,
              "#9c179e"
             ],
             [
              0.4444444444444444,
              "#bd3786"
             ],
             [
              0.5555555555555556,
              "#d8576b"
             ],
             [
              0.6666666666666666,
              "#ed7953"
             ],
             [
              0.7777777777777778,
              "#fb9f3a"
             ],
             [
              0.8888888888888888,
              "#fdca26"
             ],
             [
              1,
              "#f0f921"
             ]
            ],
            "type": "histogram2dcontour"
           }
          ],
          "mesh3d": [
           {
            "colorbar": {
             "outlinewidth": 0,
             "ticks": ""
            },
            "type": "mesh3d"
           }
          ],
          "parcoords": [
           {
            "line": {
             "colorbar": {
              "outlinewidth": 0,
              "ticks": ""
             }
            },
            "type": "parcoords"
           }
          ],
          "pie": [
           {
            "automargin": true,
            "type": "pie"
           }
          ],
          "scatter": [
           {
            "marker": {
             "colorbar": {
              "outlinewidth": 0,
              "ticks": ""
             }
            },
            "type": "scatter"
           }
          ],
          "scatter3d": [
           {
            "line": {
             "colorbar": {
              "outlinewidth": 0,
              "ticks": ""
             }
            },
            "marker": {
             "colorbar": {
              "outlinewidth": 0,
              "ticks": ""
             }
            },
            "type": "scatter3d"
           }
          ],
          "scattercarpet": [
           {
            "marker": {
             "colorbar": {
              "outlinewidth": 0,
              "ticks": ""
             }
            },
            "type": "scattercarpet"
           }
          ],
          "scattergeo": [
           {
            "marker": {
             "colorbar": {
              "outlinewidth": 0,
              "ticks": ""
             }
            },
            "type": "scattergeo"
           }
          ],
          "scattergl": [
           {
            "marker": {
             "colorbar": {
              "outlinewidth": 0,
              "ticks": ""
             }
            },
            "type": "scattergl"
           }
          ],
          "scattermapbox": [
           {
            "marker": {
             "colorbar": {
              "outlinewidth": 0,
              "ticks": ""
             }
            },
            "type": "scattermapbox"
           }
          ],
          "scatterpolar": [
           {
            "marker": {
             "colorbar": {
              "outlinewidth": 0,
              "ticks": ""
             }
            },
            "type": "scatterpolar"
           }
          ],
          "scatterpolargl": [
           {
            "marker": {
             "colorbar": {
              "outlinewidth": 0,
              "ticks": ""
             }
            },
            "type": "scatterpolargl"
           }
          ],
          "scatterternary": [
           {
            "marker": {
             "colorbar": {
              "outlinewidth": 0,
              "ticks": ""
             }
            },
            "type": "scatterternary"
           }
          ],
          "surface": [
           {
            "colorbar": {
             "outlinewidth": 0,
             "ticks": ""
            },
            "colorscale": [
             [
              0,
              "#0d0887"
             ],
             [
              0.1111111111111111,
              "#46039f"
             ],
             [
              0.2222222222222222,
              "#7201a8"
             ],
             [
              0.3333333333333333,
              "#9c179e"
             ],
             [
              0.4444444444444444,
              "#bd3786"
             ],
             [
              0.5555555555555556,
              "#d8576b"
             ],
             [
              0.6666666666666666,
              "#ed7953"
             ],
             [
              0.7777777777777778,
              "#fb9f3a"
             ],
             [
              0.8888888888888888,
              "#fdca26"
             ],
             [
              1,
              "#f0f921"
             ]
            ],
            "type": "surface"
           }
          ],
          "table": [
           {
            "cells": {
             "fill": {
              "color": "#EBF0F8"
             },
             "line": {
              "color": "white"
             }
            },
            "header": {
             "fill": {
              "color": "#C8D4E3"
             },
             "line": {
              "color": "white"
             }
            },
            "type": "table"
           }
          ]
         },
         "layout": {
          "annotationdefaults": {
           "arrowcolor": "#2a3f5f",
           "arrowhead": 0,
           "arrowwidth": 1
          },
          "coloraxis": {
           "colorbar": {
            "outlinewidth": 0,
            "ticks": ""
           }
          },
          "colorscale": {
           "diverging": [
            [
             0,
             "#8e0152"
            ],
            [
             0.1,
             "#c51b7d"
            ],
            [
             0.2,
             "#de77ae"
            ],
            [
             0.3,
             "#f1b6da"
            ],
            [
             0.4,
             "#fde0ef"
            ],
            [
             0.5,
             "#f7f7f7"
            ],
            [
             0.6,
             "#e6f5d0"
            ],
            [
             0.7,
             "#b8e186"
            ],
            [
             0.8,
             "#7fbc41"
            ],
            [
             0.9,
             "#4d9221"
            ],
            [
             1,
             "#276419"
            ]
           ],
           "sequential": [
            [
             0,
             "#0d0887"
            ],
            [
             0.1111111111111111,
             "#46039f"
            ],
            [
             0.2222222222222222,
             "#7201a8"
            ],
            [
             0.3333333333333333,
             "#9c179e"
            ],
            [
             0.4444444444444444,
             "#bd3786"
            ],
            [
             0.5555555555555556,
             "#d8576b"
            ],
            [
             0.6666666666666666,
             "#ed7953"
            ],
            [
             0.7777777777777778,
             "#fb9f3a"
            ],
            [
             0.8888888888888888,
             "#fdca26"
            ],
            [
             1,
             "#f0f921"
            ]
           ],
           "sequentialminus": [
            [
             0,
             "#0d0887"
            ],
            [
             0.1111111111111111,
             "#46039f"
            ],
            [
             0.2222222222222222,
             "#7201a8"
            ],
            [
             0.3333333333333333,
             "#9c179e"
            ],
            [
             0.4444444444444444,
             "#bd3786"
            ],
            [
             0.5555555555555556,
             "#d8576b"
            ],
            [
             0.6666666666666666,
             "#ed7953"
            ],
            [
             0.7777777777777778,
             "#fb9f3a"
            ],
            [
             0.8888888888888888,
             "#fdca26"
            ],
            [
             1,
             "#f0f921"
            ]
           ]
          },
          "colorway": [
           "#636efa",
           "#EF553B",
           "#00cc96",
           "#ab63fa",
           "#FFA15A",
           "#19d3f3",
           "#FF6692",
           "#B6E880",
           "#FF97FF",
           "#FECB52"
          ],
          "font": {
           "color": "#2a3f5f"
          },
          "geo": {
           "bgcolor": "white",
           "lakecolor": "white",
           "landcolor": "#E5ECF6",
           "showlakes": true,
           "showland": true,
           "subunitcolor": "white"
          },
          "hoverlabel": {
           "align": "left"
          },
          "hovermode": "closest",
          "mapbox": {
           "style": "light"
          },
          "paper_bgcolor": "white",
          "plot_bgcolor": "#E5ECF6",
          "polar": {
           "angularaxis": {
            "gridcolor": "white",
            "linecolor": "white",
            "ticks": ""
           },
           "bgcolor": "#E5ECF6",
           "radialaxis": {
            "gridcolor": "white",
            "linecolor": "white",
            "ticks": ""
           }
          },
          "scene": {
           "xaxis": {
            "backgroundcolor": "#E5ECF6",
            "gridcolor": "white",
            "gridwidth": 2,
            "linecolor": "white",
            "showbackground": true,
            "ticks": "",
            "zerolinecolor": "white"
           },
           "yaxis": {
            "backgroundcolor": "#E5ECF6",
            "gridcolor": "white",
            "gridwidth": 2,
            "linecolor": "white",
            "showbackground": true,
            "ticks": "",
            "zerolinecolor": "white"
           },
           "zaxis": {
            "backgroundcolor": "#E5ECF6",
            "gridcolor": "white",
            "gridwidth": 2,
            "linecolor": "white",
            "showbackground": true,
            "ticks": "",
            "zerolinecolor": "white"
           }
          },
          "shapedefaults": {
           "line": {
            "color": "#2a3f5f"
           }
          },
          "ternary": {
           "aaxis": {
            "gridcolor": "white",
            "linecolor": "white",
            "ticks": ""
           },
           "baxis": {
            "gridcolor": "white",
            "linecolor": "white",
            "ticks": ""
           },
           "bgcolor": "#E5ECF6",
           "caxis": {
            "gridcolor": "white",
            "linecolor": "white",
            "ticks": ""
           }
          },
          "title": {
           "x": 0.05
          },
          "xaxis": {
           "automargin": true,
           "gridcolor": "white",
           "linecolor": "white",
           "ticks": "",
           "title": {
            "standoff": 15
           },
           "zerolinecolor": "white",
           "zerolinewidth": 2
          },
          "yaxis": {
           "automargin": true,
           "gridcolor": "white",
           "linecolor": "white",
           "ticks": "",
           "title": {
            "standoff": 15
           },
           "zerolinecolor": "white",
           "zerolinewidth": 2
          }
         }
        },
        "xaxis": {
         "anchor": "y",
         "domain": [
          0,
          1
         ],
         "tickmode": "array",
         "ticktext": [
          "12/23",
          "12/30",
          "1/6",
          "1/13",
          "1/20",
          "1/27",
          "2/3",
          "2/10",
          "2/17",
          "2/24",
          "3/2",
          "3/9",
          "3/16",
          "3/23",
          "3/30",
          "4/6",
          "4/13",
          "4/20",
          "4/27",
          "5/4",
          "5/11",
          "5/18",
          "5/25",
          "6/1",
          "6/8",
          "6/15",
          "6/22",
          "6/29",
          "7/6",
          "7/13",
          "7/20",
          "7/27",
          "8/3",
          "8/10",
          "8/17",
          "8/24",
          "8/31",
          "9/7",
          "9/14",
          "9/21",
          "9/28",
          "10/5",
          "10/12",
          "10/19",
          "10/26",
          "11/2",
          "11/9",
          "11/16",
          "11/23",
          "11/30",
          "12/7",
          "12/14"
         ],
         "tickvals": [
          0,
          1,
          2,
          3,
          4,
          5,
          6,
          7,
          8,
          9,
          10,
          11,
          12,
          13,
          14,
          15,
          16,
          17,
          18,
          19,
          20,
          21,
          22,
          23,
          24,
          25,
          26,
          27,
          28,
          29,
          30,
          31,
          32,
          33,
          34,
          35,
          36,
          37,
          38,
          39,
          40,
          41,
          42,
          43,
          44,
          45,
          46,
          47,
          48,
          49,
          50,
          51
         ],
         "title": {
          "text": "week"
         }
        },
        "yaxis": {
         "anchor": "x",
         "domain": [
          0,
          1
         ],
         "title": {
          "text": "std_diff"
         }
        }
       }
      },
      "text/html": [
       "<div>\n",
       "        \n",
       "        \n",
       "            <div id=\"012dfeeb-4b9b-457f-9298-35d718f1178d\" class=\"plotly-graph-div\" style=\"height:525px; width:100%;\"></div>\n",
       "            <script type=\"text/javascript\">\n",
       "                require([\"plotly\"], function(Plotly) {\n",
       "                    window.PLOTLYENV=window.PLOTLYENV || {};\n",
       "                    \n",
       "                if (document.getElementById(\"012dfeeb-4b9b-457f-9298-35d718f1178d\")) {\n",
       "                    Plotly.newPlot(\n",
       "                        '012dfeeb-4b9b-457f-9298-35d718f1178d',\n",
       "                        [{\"hovertemplate\": \"MCT_CAT_CD=\\uac00\\uad6c<br>week=%{x}<br>std_diff=%{y}<extra></extra>\", \"legendgroup\": \"\\uac00\\uad6c\", \"line\": {\"color\": \"#636efa\", \"dash\": \"solid\"}, \"mode\": \"lines\", \"name\": \"\\uac00\\uad6c\", \"orientation\": \"v\", \"showlegend\": true, \"type\": \"scatter\", \"x\": [5, 6, 7, 8, 9, 10, 11, 12, 13, 14, 15, 16, 17, 18, 19, 20, 21, 22], \"xaxis\": \"x\", \"y\": [0.0068848166161442435, 0.00789078611568897, 0.0071611702956018404, -0.007257643303129274, -0.013646596091109405, -0.0014766933783788385, -0.010508994188399151, -0.013173704975264086, -0.002461733560501053, 0.00900363136041492, -0.009411133839579259, 0.008338041913744586, 0.014182584764509575, 0.006178545034720685, -0.0009159982030509125, 0.02388109423177485, 0.018623377242587197, 0.0315850645170978], \"yaxis\": \"y\"}, {\"hovertemplate\": \"MCT_CAT_CD=\\uac00\\uc804<br>week=%{x}<br>std_diff=%{y}<extra></extra>\", \"legendgroup\": \"\\uac00\\uc804\", \"line\": {\"color\": \"#EF553B\", \"dash\": \"solid\"}, \"mode\": \"lines\", \"name\": \"\\uac00\\uc804\", \"orientation\": \"v\", \"showlegend\": true, \"type\": \"scatter\", \"x\": [5, 6, 7, 8, 9, 10, 11, 12, 13, 14, 15, 16, 17, 18, 19, 20, 21, 22], \"xaxis\": \"x\", \"y\": [-0.005007982483160968, -0.003932294679052188, -0.0075868119413615666, -0.01125768842017885, -0.015669737918939563, -0.017951363390794214, -0.01736662537870763, -0.014460836876169482, -0.00830668678642341, -0.007602148706837728, -0.014662519674600626, -0.014582179285055449, -0.011075900092670456, -0.004065750533212545, -0.005314145913293553, -0.0007768894873404533, 0.00039133879998041744, 0.003085549257661559], \"yaxis\": \"y\"}, {\"hovertemplate\": \"MCT_CAT_CD=\\uad11\\ud559\\uc81c\\ud488<br>week=%{x}<br>std_diff=%{y}<extra></extra>\", \"legendgroup\": \"\\uad11\\ud559\\uc81c\\ud488\", \"line\": {\"color\": \"#00cc96\", \"dash\": \"solid\"}, \"mode\": \"lines\", \"name\": \"\\uad11\\ud559\\uc81c\\ud488\", \"orientation\": \"v\", \"showlegend\": true, \"type\": \"scatter\", \"x\": [5, 6, 7, 8, 9, 10, 11, 12, 13, 14, 15, 16, 17, 18, 19, 20, 21, 22], \"xaxis\": \"x\", \"y\": [0.0002236509761856813, -0.00501675485154021, -0.006219988512472587, -0.01733080291774319, -0.0255745320815656, -0.018797205909168065, -0.016443286543935925, -0.010260525466679906, -0.029328775740713204, 0.004361766765393347, -0.004343582595114486, 0.003995649258282728, -0.015071598738648585, -0.017312046017691766, 0.0005571944774818045, 7.445487043313333e-05, -0.01666758184111574, 0.0013688957476460984], \"yaxis\": \"y\"}, {\"hovertemplate\": \"MCT_CAT_CD=\\ub808\\uc800\\uc5c5\\uc18c<br>week=%{x}<br>std_diff=%{y}<extra></extra>\", \"legendgroup\": \"\\ub808\\uc800\\uc5c5\\uc18c\", \"line\": {\"color\": \"#ab63fa\", \"dash\": \"solid\"}, \"mode\": \"lines\", \"name\": \"\\ub808\\uc800\\uc5c5\\uc18c\", \"orientation\": \"v\", \"showlegend\": true, \"type\": \"scatter\", \"x\": [5, 6, 7, 8, 9, 10, 11, 12, 13, 14, 15, 16, 17, 18, 19, 20, 21, 22], \"xaxis\": \"x\", \"y\": [-0.004572777989360871, 0.0054002299176261264, -0.001205852103617017, -0.0072847179536536764, -0.01911700985974926, -0.018455828417585588, -0.014045842366152105, -0.0123759848690976, -0.020772973747232266, -0.021290618765178383, -0.013029519680215625, -0.014217824669521971, -0.00879239071497688, -0.010529822612362098, -0.0002515360826200063, -0.0007739975518842442, -0.0029366768177837873, 0.00790306591208655], \"yaxis\": \"y\"}, {\"hovertemplate\": \"MCT_CAT_CD=\\ub808\\uc800\\uc6a9\\ud488<br>week=%{x}<br>std_diff=%{y}<extra></extra>\", \"legendgroup\": \"\\ub808\\uc800\\uc6a9\\ud488\", \"line\": {\"color\": \"#FFA15A\", \"dash\": \"solid\"}, \"mode\": \"lines\", \"name\": \"\\ub808\\uc800\\uc6a9\\ud488\", \"orientation\": \"v\", \"showlegend\": true, \"type\": \"scatter\", \"x\": [5, 6, 7, 8, 9, 10, 11, 12, 13, 14, 15, 16, 17, 18, 19, 20, 21, 22], \"xaxis\": \"x\", \"y\": [-0.007847995905586758, -0.013433094742666839, -0.00219331968038516, -0.012224631030740264, -0.029265729373319043, -0.01588018744341252, -0.011824009344871487, -0.00950129392200675, -0.008946402127868222, -0.007787659902871623, -0.008045279867864753, -0.007690554520013639, -0.010339273980306705, -0.007034236341468035, -0.004582359480116927, 0.007942763697442774, 0.008742830100284234, 0.021426724202355238], \"yaxis\": \"y\"}, {\"hovertemplate\": \"MCT_CAT_CD=\\ubb38\\ud654\\ucde8\\ubbf8<br>week=%{x}<br>std_diff=%{y}<extra></extra>\", \"legendgroup\": \"\\ubb38\\ud654\\ucde8\\ubbf8\", \"line\": {\"color\": \"#19d3f3\", \"dash\": \"solid\"}, \"mode\": \"lines\", \"name\": \"\\ubb38\\ud654\\ucde8\\ubbf8\", \"orientation\": \"v\", \"showlegend\": true, \"type\": \"scatter\", \"x\": [5, 6, 7, 8, 9, 10, 11, 12, 13, 14, 15, 16, 17, 18, 19, 20, 21, 22], \"xaxis\": \"x\", \"y\": [-0.012571803574086932, -0.012375634190213126, -0.010006326963869615, -0.015489440634187442, -0.025459124339019843, -0.020663685134737316, -0.017694103814705722, -0.012225156760732735, -0.014867929806500113, -0.009755496073354264, -0.01006172713951983, -0.011554946540545265, -0.02124462192901987, -0.019028931475443597, -0.005800108199181148, -0.007183450585166993, -0.0092493495161995, -0.0007564234459136131], \"yaxis\": \"y\"}, {\"hovertemplate\": \"MCT_CAT_CD=\\ubcf4\\uac74\\uc704\\uc0dd<br>week=%{x}<br>std_diff=%{y}<extra></extra>\", \"legendgroup\": \"\\ubcf4\\uac74\\uc704\\uc0dd\", \"line\": {\"color\": \"#FF6692\", \"dash\": \"solid\"}, \"mode\": \"lines\", \"name\": \"\\ubcf4\\uac74\\uc704\\uc0dd\", \"orientation\": \"v\", \"showlegend\": true, \"type\": \"scatter\", \"x\": [5, 6, 7, 8, 9, 10, 11, 12, 13, 14, 15, 16, 17, 18, 19, 20, 21, 22], \"xaxis\": \"x\", \"y\": [-0.007348001111263792, -0.0008041317134061369, -0.0045188692738121474, -0.011749856251568358, -0.021552629821238185, -0.016867450141332417, -0.013315921210565199, -0.012664042263998592, -0.016542770285670392, -0.01010185738206623, -0.012279166483068243, -0.010601590872016621, -0.009326719868997314, -0.008470174776518413, -0.00899150828141865, -0.0029559674113977426, 0.004128152750727156, 0.009859734858206837], \"yaxis\": \"y\"}, {\"hovertemplate\": \"MCT_CAT_CD=\\uc0ac\\ubb34\\ud1b5\\uc2e0<br>week=%{x}<br>std_diff=%{y}<extra></extra>\", \"legendgroup\": \"\\uc0ac\\ubb34\\ud1b5\\uc2e0\", \"line\": {\"color\": \"#B6E880\", \"dash\": \"solid\"}, \"mode\": \"lines\", \"name\": \"\\uc0ac\\ubb34\\ud1b5\\uc2e0\", \"orientation\": \"v\", \"showlegend\": true, \"type\": \"scatter\", \"x\": [5, 6, 7, 8, 9, 10, 11, 12, 13, 14, 15, 16, 17, 18, 19, 20, 21, 22], \"xaxis\": \"x\", \"y\": [-0.0059782279884532516, 0.004482078941955719, 0.0019100010203941492, -0.007265055392738602, -0.011384039253758305, -0.012496694770701693, -0.009805258632448919, -0.008738844990106652, -0.009639934833324863, -0.00444101249138457, -0.016783441888526245, -0.018156836346312905, -0.019505337553622076, -0.016585704300881146, -0.01606036506767224, -0.013475860737372043, -0.013394078255565108, -0.00016101768459912008], \"yaxis\": \"y\"}, {\"hovertemplate\": \"MCT_CAT_CD=\\uc11c\\uc801\\ubb38\\uad6c<br>week=%{x}<br>std_diff=%{y}<extra></extra>\", \"legendgroup\": \"\\uc11c\\uc801\\ubb38\\uad6c\", \"line\": {\"color\": \"#FF97FF\", \"dash\": \"solid\"}, \"mode\": \"lines\", \"name\": \"\\uc11c\\uc801\\ubb38\\uad6c\", \"orientation\": \"v\", \"showlegend\": true, \"type\": \"scatter\", \"x\": [5, 6, 7, 8, 9, 10, 11, 12, 13, 14, 15, 16, 17, 18, 19, 20, 21, 22], \"xaxis\": \"x\", \"y\": [-0.007362820842447234, 0.0061266833764223, -0.006624890105212771, -0.00976601439601677, -0.021327774742428356, -0.04353557085957226, -0.022916065191614255, -0.014253292035045642, -0.014508128695895581, -0.007604834646710309, -0.006186464661114358, -0.007584666829688386, -0.001143717784003948, -0.004942524275490549, -2.465933959012408e-06, -0.0002880210864126493, 1.3597864402554137e-05, 0.007164665435026594], \"yaxis\": \"y\"}, {\"hovertemplate\": \"MCT_CAT_CD=\\uc218\\ub9ac\\uc11c\\ube44\\uc2a4<br>week=%{x}<br>std_diff=%{y}<extra></extra>\", \"legendgroup\": \"\\uc218\\ub9ac\\uc11c\\ube44\\uc2a4\", \"line\": {\"color\": \"#FECB52\", \"dash\": \"solid\"}, \"mode\": \"lines\", \"name\": \"\\uc218\\ub9ac\\uc11c\\ube44\\uc2a4\", \"orientation\": \"v\", \"showlegend\": true, \"type\": \"scatter\", \"x\": [5, 6, 7, 8, 9, 10, 11, 12, 13, 14, 15, 16, 17, 18, 19, 20, 21, 22], \"xaxis\": \"x\", \"y\": [-0.004346092432047199, 0.009287950274698012, 0.00047554180311354486, -0.0038958102163002524, -0.0047291961737739325, -0.01760142175391749, -0.00011030019816747708, -0.004267005866839875, 0.008437905017937314, 0.002474958426929126, 0.0036524761913353603, -0.001022532153349752, -0.007294968831473446, -0.006458816347764376, 0.003174167861986426, 0.008873813325635173, 0.0038636343133451813, 0.007687815556898724], \"yaxis\": \"y\"}, {\"hovertemplate\": \"MCT_CAT_CD=\\uc219\\ubc15<br>week=%{x}<br>std_diff=%{y}<extra></extra>\", \"legendgroup\": \"\\uc219\\ubc15\", \"line\": {\"color\": \"#636efa\", \"dash\": \"solid\"}, \"mode\": \"lines\", \"name\": \"\\uc219\\ubc15\", \"orientation\": \"v\", \"showlegend\": true, \"type\": \"scatter\", \"x\": [5, 6, 7, 8, 9, 10, 11, 12, 13, 14, 15, 16, 17, 18, 19, 20, 21, 22], \"xaxis\": \"x\", \"y\": [-0.0012228000234710316, -0.0036423296039784824, -0.005352599775932904, -0.013655044284635869, -0.020679303300847406, -0.0158641642685247, -0.011629007481453171, -0.009700059378817474, -0.019592802340031783, -0.016718162339633687, -0.014341458733367911, -0.013648069959126171, -0.02152786843898772, -0.006268567536052339, -0.010299080676380934, -0.008575489828146054, -0.020781244533468003, -0.0032345361291897796], \"yaxis\": \"y\"}, {\"hovertemplate\": \"MCT_CAT_CD=\\uc2e0\\ubcc0\\uc7a1\\ud654<br>week=%{x}<br>std_diff=%{y}<extra></extra>\", \"legendgroup\": \"\\uc2e0\\ubcc0\\uc7a1\\ud654\", \"line\": {\"color\": \"#EF553B\", \"dash\": \"solid\"}, \"mode\": \"lines\", \"name\": \"\\uc2e0\\ubcc0\\uc7a1\\ud654\", \"orientation\": \"v\", \"showlegend\": true, \"type\": \"scatter\", \"x\": [5, 6, 7, 8, 9, 10, 11, 12, 13, 14, 15, 16, 17, 18, 19, 20, 21, 22], \"xaxis\": \"x\", \"y\": [-0.0056978898445120205, -0.005388388353987289, -0.0018098251572115458, -0.02048824614668431, -0.020563076210607174, -0.018955849578170918, -0.022451152004709284, -0.01342868656678218, -0.013966782936636743, -0.013271662146547165, -0.010397495528908712, -0.01699612284090416, -0.011832063710545803, -0.012548895078471565, -0.006379771005114843, -0.0029219741551164647, -0.005800547275578018, 0.0022901138439119315], \"yaxis\": \"y\"}, {\"hovertemplate\": \"MCT_CAT_CD=\\uc5f0\\ub8cc\\ud310\\ub9e4<br>week=%{x}<br>std_diff=%{y}<extra></extra>\", \"legendgroup\": \"\\uc5f0\\ub8cc\\ud310\\ub9e4\", \"line\": {\"color\": \"#00cc96\", \"dash\": \"solid\"}, \"mode\": \"lines\", \"name\": \"\\uc5f0\\ub8cc\\ud310\\ub9e4\", \"orientation\": \"v\", \"showlegend\": true, \"type\": \"scatter\", \"x\": [5, 6, 7, 8, 9, 10, 11, 12, 13, 14, 15, 16, 17, 18, 19, 20, 21, 22], \"xaxis\": \"x\", \"y\": [-0.007207662571253355, -0.0004194389159840629, -0.004567930362114126, -0.008054431034790466, -0.012135224264589694, -0.009369671317362247, -0.010478333407230367, -0.009467003959031226, -0.009457408011296662, -0.008726912945699874, -0.009885819077653058, -0.011803044067937819, -0.008515915513241715, -0.011904994430340187, -0.011251509984553237, -0.008369460854613242, -0.009942450966752645, 0.00042065410565074457], \"yaxis\": \"y\"}, {\"hovertemplate\": \"MCT_CAT_CD=\\uc694\\uc2dd\\uc5c5\\uc18c<br>week=%{x}<br>std_diff=%{y}<extra></extra>\", \"legendgroup\": \"\\uc694\\uc2dd\\uc5c5\\uc18c\", \"line\": {\"color\": \"#ab63fa\", \"dash\": \"solid\"}, \"mode\": \"lines\", \"name\": \"\\uc694\\uc2dd\\uc5c5\\uc18c\", \"orientation\": \"v\", \"showlegend\": true, \"type\": \"scatter\", \"x\": [5, 6, 7, 8, 9, 10, 11, 12, 13, 14, 15, 16, 17, 18, 19, 20, 21, 22], \"xaxis\": \"x\", \"y\": [-0.006761352736518541, -0.00014990507594112642, -0.0019209285949299598, -0.009366546246387933, -0.0158373259299712, -0.012733717669235249, -0.011819823215178302, -0.011332399381415423, -0.010090680970767946, -0.009012324689446453, -0.009178028072046263, -0.008434024218704686, -0.007169160015723037, -0.0070699919957752004, -0.004537280340883761, -0.0021757263036269793, -0.0008083004152840128, 0.009705161671007288], \"yaxis\": \"y\"}, {\"hovertemplate\": \"MCT_CAT_CD=\\uc720\\ud1b5\\uc5c5<br>week=%{x}<br>std_diff=%{y}<extra></extra>\", \"legendgroup\": \"\\uc720\\ud1b5\\uc5c5\", \"line\": {\"color\": \"#FFA15A\", \"dash\": \"solid\"}, \"mode\": \"lines\", \"name\": \"\\uc720\\ud1b5\\uc5c5\", \"orientation\": \"v\", \"showlegend\": true, \"type\": \"scatter\", \"x\": [5, 6, 7, 8, 9, 10, 11, 12, 13, 14, 15, 16, 17, 18, 19, 20, 21, 22], \"xaxis\": \"x\", \"y\": [-0.008863076106812565, -0.004463476509668094, -0.0016935204337694837, -0.0033673023825819214, -0.009319739159593327, -0.009563125794208397, -0.008326456021688248, -0.006860337792460438, -0.00622417114550303, -0.007173479424028953, -0.004924040215909706, -0.005428294069181186, -0.004878628596198384, -0.002892540297742823, -0.001626595590698688, -0.0015408523926473514, -0.00014377360847527497, 0.012573062326847989], \"yaxis\": \"y\"}, {\"hovertemplate\": \"MCT_CAT_CD=\\uc74c\\ub8cc\\uc2dd\\ud488<br>week=%{x}<br>std_diff=%{y}<extra></extra>\", \"legendgroup\": \"\\uc74c\\ub8cc\\uc2dd\\ud488\", \"line\": {\"color\": \"#19d3f3\", \"dash\": \"solid\"}, \"mode\": \"lines\", \"name\": \"\\uc74c\\ub8cc\\uc2dd\\ud488\", \"orientation\": \"v\", \"showlegend\": true, \"type\": \"scatter\", \"x\": [5, 6, 7, 8, 9, 10, 11, 12, 13, 14, 15, 16, 17, 18, 19, 20, 21, 22], \"xaxis\": \"x\", \"y\": [-0.019553087502185765, 0.0030467022436151173, 0.001085732294793723, 0.001704064058944751, 0.0015023816045789226, 9.50105172182368e-05, -0.0008864181906609699, 0.0005144729942853632, -0.001242217730371501, 0.0005090991234519389, -0.00017558852451359707, -0.001329275640081214, -0.0015930942273386602, -0.002513300480588755, 0.0009648743004124836, 0.006546168132549229, 0.01324686210124481, 0.013993469484618737], \"yaxis\": \"y\"}, {\"hovertemplate\": \"MCT_CAT_CD=\\uc758\\ub8cc\\uae30\\uad00<br>week=%{x}<br>std_diff=%{y}<extra></extra>\", \"legendgroup\": \"\\uc758\\ub8cc\\uae30\\uad00\", \"line\": {\"color\": \"#FF6692\", \"dash\": \"solid\"}, \"mode\": \"lines\", \"name\": \"\\uc758\\ub8cc\\uae30\\uad00\", \"orientation\": \"v\", \"showlegend\": true, \"type\": \"scatter\", \"x\": [5, 6, 7, 8, 9, 10, 11, 12, 13, 14, 15, 16, 17, 18, 19, 20, 21, 22], \"xaxis\": \"x\", \"y\": [-0.006341416407511951, 0.011653207116375321, 0.00039671345140662734, -0.004531541202987125, -0.00477849605588912, -0.008397069424724022, -0.00787727392330919, -0.008085349183758604, -0.009434120020294827, -0.0019332971873826954, -0.004606405505201957, -0.005617814802318495, -0.007836343826822268, 0.0002421139909840392, -0.000540184201103823, 0.0010722927247496985, 0.00011154160243549126, 0.007025169520740146], \"yaxis\": \"y\"}, {\"hovertemplate\": \"MCT_CAT_CD=\\uc758\\ubcf5<br>week=%{x}<br>std_diff=%{y}<extra></extra>\", \"legendgroup\": \"\\uc758\\ubcf5\", \"line\": {\"color\": \"#B6E880\", \"dash\": \"solid\"}, \"mode\": \"lines\", \"name\": \"\\uc758\\ubcf5\", \"orientation\": \"v\", \"showlegend\": true, \"type\": \"scatter\", \"x\": [5, 6, 7, 8, 9, 10, 11, 12, 13, 14, 15, 16, 17, 18, 19, 20, 21, 22], \"xaxis\": \"x\", \"y\": [-0.009861494806868062, -0.010223495344197036, -0.009362866001967484, -0.019643281386074286, -0.03424032298212882, -0.02679698061080602, -0.024189628667993464, -0.02134817719060102, -0.01964150745529119, -0.019133107198886404, -0.02016818097862552, -0.019966415633904732, -0.01787750831142934, -0.018645240636261867, -0.01558429637207542, -0.007376425430511643, 0.0003773429620951454, 0.012397818323810312], \"yaxis\": \"y\"}, {\"hovertemplate\": \"MCT_CAT_CD=\\uc790\\ub3d9\\ucc28\\uc815\\ube44<br>week=%{x}<br>std_diff=%{y}<extra></extra>\", \"legendgroup\": \"\\uc790\\ub3d9\\ucc28\\uc815\\ube44\", \"line\": {\"color\": \"#FF97FF\", \"dash\": \"solid\"}, \"mode\": \"lines\", \"name\": \"\\uc790\\ub3d9\\ucc28\\uc815\\ube44\", \"orientation\": \"v\", \"showlegend\": true, \"type\": \"scatter\", \"x\": [5, 6, 7, 8, 9, 10, 11, 12, 13, 14, 15, 16, 17, 18, 19, 20, 21, 22], \"xaxis\": \"x\", \"y\": [-0.009653487682498864, 0.006049166860452546, -0.0062815720219375915, -0.00850177628475625, -0.01010194387460855, -0.011590238729494181, -0.008205719632502547, -0.009375825980133675, -0.005083363044716661, -0.008712008223287224, -0.005074786089071491, -0.008779120832813016, -0.006570596122134966, -0.007276981502898846, -0.0028816364676930626, -0.0021804496597237636, 0.0034391110059936096, 0.011109543112467441], \"yaxis\": \"y\"}, {\"hovertemplate\": \"MCT_CAT_CD=\\uc790\\ub3d9\\ucc28\\ud310\\ub9e4<br>week=%{x}<br>std_diff=%{y}<extra></extra>\", \"legendgroup\": \"\\uc790\\ub3d9\\ucc28\\ud310\\ub9e4\", \"line\": {\"color\": \"#FECB52\", \"dash\": \"solid\"}, \"mode\": \"lines\", \"name\": \"\\uc790\\ub3d9\\ucc28\\ud310\\ub9e4\", \"orientation\": \"v\", \"showlegend\": true, \"type\": \"scatter\", \"x\": [5, 6, 7, 8, 9, 10, 11, 12, 13, 14, 15, 16, 17, 18, 19, 20, 21, 22], \"xaxis\": \"x\", \"y\": [-0.0011803741275997366, 0.0060587428516877305, 0.004134423373106232, -0.009189697963936289, -0.024711206180956846, -0.009440205729938343, -0.0005999643575181335, -0.015245043804888943, -0.009553962038143727, -0.008595177533878213, -0.00569421746896221, -0.01421827553450222, 0.007806548426304291, -0.004640708626891678, -0.011039544514864186, 0.015255670351290978, 0.0021350212469956054, 0.005335919939250995], \"yaxis\": \"y\"}, {\"hovertemplate\": \"MCT_CAT_CD=\\uc804\\uae30<br>week=%{x}<br>std_diff=%{y}<extra></extra>\", \"legendgroup\": \"\\uc804\\uae30\", \"line\": {\"color\": \"#636efa\", \"dash\": \"solid\"}, \"mode\": \"lines\", \"name\": \"\\uc804\\uae30\", \"orientation\": \"v\", \"showlegend\": true, \"type\": \"scatter\", \"x\": [5, 6, 7, 8, 9, 10, 11, 12, 13, 14, 15, 16, 17, 18, 19, 20, 21, 22], \"xaxis\": \"x\", \"y\": [-0.008978566614621743, 0.009920606193361447, -0.0183387129693676, -0.004204382889347947, 0.004471068362555865, 0.009908929946723622, 0.008953812971749554, -0.017817952369320614, 0.0010354495518423016, 0.006007662420093606, 4.016628843411724e-05, -0.0004558406687406794, 0.007051051819649629, 0.0065382310673163645, -0.005931533292014989, 0.012472099608658917, -0.0037980495063516446, 0.011292798698238614], \"yaxis\": \"y\"}, {\"hovertemplate\": \"MCT_CAT_CD=\\uc8fc\\ubc29\\uc6a9\\uad6c<br>week=%{x}<br>std_diff=%{y}<extra></extra>\", \"legendgroup\": \"\\uc8fc\\ubc29\\uc6a9\\uad6c\", \"line\": {\"color\": \"#EF553B\", \"dash\": \"solid\"}, \"mode\": \"lines\", \"name\": \"\\uc8fc\\ubc29\\uc6a9\\uad6c\", \"orientation\": \"v\", \"showlegend\": true, \"type\": \"scatter\", \"x\": [5, 6, 7, 8, 9, 10, 11, 12, 13, 14, 15, 16, 17, 18, 19, 20, 21, 22], \"xaxis\": \"x\", \"y\": [-0.004540994333268804, 0.007516183532660692, -0.0010396365489124832, -0.010201017842063325, -0.012899762355436281, -0.011505443095802214, -0.009346557447190571, -0.006334256043530032, -0.009490827704969743, -0.006759644376013816, -0.006008878228919842, -0.003427078394775657, -0.0023915654241152464, -0.010723172810862406, -0.002326577830862586, -0.0033678088300325374, 0.010167919253960024, 0.022304489746502752], \"yaxis\": \"y\"}, {\"hovertemplate\": \"MCT_CAT_CD=\\uc9c1\\ubb3c<br>week=%{x}<br>std_diff=%{y}<extra></extra>\", \"legendgroup\": \"\\uc9c1\\ubb3c\", \"line\": {\"color\": \"#00cc96\", \"dash\": \"solid\"}, \"mode\": \"lines\", \"name\": \"\\uc9c1\\ubb3c\", \"orientation\": \"v\", \"showlegend\": true, \"type\": \"scatter\", \"x\": [5, 6, 7, 8, 9, 10, 11, 12, 13, 14, 15, 16, 17, 18, 19, 20, 21, 22], \"xaxis\": \"x\", \"y\": [-0.005231981054873752, 0.011412829742119475, -0.008013006974829744, -0.00937057531056788, -0.004991906864204507, -0.020574682902526942, -0.0061365061598328274, -0.0122457822605783, -0.02035665506703622, -0.0048763040216111735, -0.020053502069765534, -0.0030324043324023277, -0.004591075398097531, -0.013013657435988908, -0.004325145142148091, 0.018142713863853577, 0.023376631000910145, 0.02450517955070028], \"yaxis\": \"y\"}],\n",
       "                        {\"legend\": {\"title\": {\"text\": \"MCT_CAT_CD\"}, \"tracegroupgap\": 0}, \"margin\": {\"t\": 60}, \"template\": {\"data\": {\"bar\": [{\"error_x\": {\"color\": \"#2a3f5f\"}, \"error_y\": {\"color\": \"#2a3f5f\"}, \"marker\": {\"line\": {\"color\": \"#E5ECF6\", \"width\": 0.5}}, \"type\": \"bar\"}], \"barpolar\": [{\"marker\": {\"line\": {\"color\": \"#E5ECF6\", \"width\": 0.5}}, \"type\": \"barpolar\"}], \"carpet\": [{\"aaxis\": {\"endlinecolor\": \"#2a3f5f\", \"gridcolor\": \"white\", \"linecolor\": \"white\", \"minorgridcolor\": \"white\", \"startlinecolor\": \"#2a3f5f\"}, \"baxis\": {\"endlinecolor\": \"#2a3f5f\", \"gridcolor\": \"white\", \"linecolor\": \"white\", \"minorgridcolor\": \"white\", \"startlinecolor\": \"#2a3f5f\"}, \"type\": \"carpet\"}], \"choropleth\": [{\"colorbar\": {\"outlinewidth\": 0, \"ticks\": \"\"}, \"type\": \"choropleth\"}], \"contour\": [{\"colorbar\": {\"outlinewidth\": 0, \"ticks\": \"\"}, \"colorscale\": [[0.0, \"#0d0887\"], [0.1111111111111111, \"#46039f\"], [0.2222222222222222, \"#7201a8\"], [0.3333333333333333, \"#9c179e\"], [0.4444444444444444, \"#bd3786\"], [0.5555555555555556, \"#d8576b\"], [0.6666666666666666, \"#ed7953\"], [0.7777777777777778, \"#fb9f3a\"], [0.8888888888888888, \"#fdca26\"], [1.0, \"#f0f921\"]], \"type\": \"contour\"}], \"contourcarpet\": [{\"colorbar\": {\"outlinewidth\": 0, \"ticks\": \"\"}, \"type\": \"contourcarpet\"}], \"heatmap\": [{\"colorbar\": {\"outlinewidth\": 0, \"ticks\": \"\"}, \"colorscale\": [[0.0, \"#0d0887\"], [0.1111111111111111, \"#46039f\"], [0.2222222222222222, \"#7201a8\"], [0.3333333333333333, \"#9c179e\"], [0.4444444444444444, \"#bd3786\"], [0.5555555555555556, \"#d8576b\"], [0.6666666666666666, \"#ed7953\"], [0.7777777777777778, \"#fb9f3a\"], [0.8888888888888888, \"#fdca26\"], [1.0, \"#f0f921\"]], \"type\": \"heatmap\"}], \"heatmapgl\": [{\"colorbar\": {\"outlinewidth\": 0, \"ticks\": \"\"}, \"colorscale\": [[0.0, \"#0d0887\"], [0.1111111111111111, \"#46039f\"], [0.2222222222222222, \"#7201a8\"], [0.3333333333333333, \"#9c179e\"], [0.4444444444444444, \"#bd3786\"], [0.5555555555555556, \"#d8576b\"], [0.6666666666666666, \"#ed7953\"], [0.7777777777777778, \"#fb9f3a\"], [0.8888888888888888, \"#fdca26\"], [1.0, \"#f0f921\"]], \"type\": \"heatmapgl\"}], \"histogram\": [{\"marker\": {\"colorbar\": {\"outlinewidth\": 0, \"ticks\": \"\"}}, \"type\": \"histogram\"}], \"histogram2d\": [{\"colorbar\": {\"outlinewidth\": 0, \"ticks\": \"\"}, \"colorscale\": [[0.0, \"#0d0887\"], [0.1111111111111111, \"#46039f\"], [0.2222222222222222, \"#7201a8\"], [0.3333333333333333, \"#9c179e\"], [0.4444444444444444, \"#bd3786\"], [0.5555555555555556, \"#d8576b\"], [0.6666666666666666, \"#ed7953\"], [0.7777777777777778, \"#fb9f3a\"], [0.8888888888888888, \"#fdca26\"], [1.0, \"#f0f921\"]], \"type\": \"histogram2d\"}], \"histogram2dcontour\": [{\"colorbar\": {\"outlinewidth\": 0, \"ticks\": \"\"}, \"colorscale\": [[0.0, \"#0d0887\"], [0.1111111111111111, \"#46039f\"], [0.2222222222222222, \"#7201a8\"], [0.3333333333333333, \"#9c179e\"], [0.4444444444444444, \"#bd3786\"], [0.5555555555555556, \"#d8576b\"], [0.6666666666666666, \"#ed7953\"], [0.7777777777777778, \"#fb9f3a\"], [0.8888888888888888, \"#fdca26\"], [1.0, \"#f0f921\"]], \"type\": \"histogram2dcontour\"}], \"mesh3d\": [{\"colorbar\": {\"outlinewidth\": 0, \"ticks\": \"\"}, \"type\": \"mesh3d\"}], \"parcoords\": [{\"line\": {\"colorbar\": {\"outlinewidth\": 0, \"ticks\": \"\"}}, \"type\": \"parcoords\"}], \"pie\": [{\"automargin\": true, \"type\": \"pie\"}], \"scatter\": [{\"marker\": {\"colorbar\": {\"outlinewidth\": 0, \"ticks\": \"\"}}, \"type\": \"scatter\"}], \"scatter3d\": [{\"line\": {\"colorbar\": {\"outlinewidth\": 0, \"ticks\": \"\"}}, \"marker\": {\"colorbar\": {\"outlinewidth\": 0, \"ticks\": \"\"}}, \"type\": \"scatter3d\"}], \"scattercarpet\": [{\"marker\": {\"colorbar\": {\"outlinewidth\": 0, \"ticks\": \"\"}}, \"type\": \"scattercarpet\"}], \"scattergeo\": [{\"marker\": {\"colorbar\": {\"outlinewidth\": 0, \"ticks\": \"\"}}, \"type\": \"scattergeo\"}], \"scattergl\": [{\"marker\": {\"colorbar\": {\"outlinewidth\": 0, \"ticks\": \"\"}}, \"type\": \"scattergl\"}], \"scattermapbox\": [{\"marker\": {\"colorbar\": {\"outlinewidth\": 0, \"ticks\": \"\"}}, \"type\": \"scattermapbox\"}], \"scatterpolar\": [{\"marker\": {\"colorbar\": {\"outlinewidth\": 0, \"ticks\": \"\"}}, \"type\": \"scatterpolar\"}], \"scatterpolargl\": [{\"marker\": {\"colorbar\": {\"outlinewidth\": 0, \"ticks\": \"\"}}, \"type\": \"scatterpolargl\"}], \"scatterternary\": [{\"marker\": {\"colorbar\": {\"outlinewidth\": 0, \"ticks\": \"\"}}, \"type\": \"scatterternary\"}], \"surface\": [{\"colorbar\": {\"outlinewidth\": 0, \"ticks\": \"\"}, \"colorscale\": [[0.0, \"#0d0887\"], [0.1111111111111111, \"#46039f\"], [0.2222222222222222, \"#7201a8\"], [0.3333333333333333, \"#9c179e\"], [0.4444444444444444, \"#bd3786\"], [0.5555555555555556, \"#d8576b\"], [0.6666666666666666, \"#ed7953\"], [0.7777777777777778, \"#fb9f3a\"], [0.8888888888888888, \"#fdca26\"], [1.0, \"#f0f921\"]], \"type\": \"surface\"}], \"table\": [{\"cells\": {\"fill\": {\"color\": \"#EBF0F8\"}, \"line\": {\"color\": \"white\"}}, \"header\": {\"fill\": {\"color\": \"#C8D4E3\"}, \"line\": {\"color\": \"white\"}}, \"type\": \"table\"}]}, \"layout\": {\"annotationdefaults\": {\"arrowcolor\": \"#2a3f5f\", \"arrowhead\": 0, \"arrowwidth\": 1}, \"coloraxis\": {\"colorbar\": {\"outlinewidth\": 0, \"ticks\": \"\"}}, \"colorscale\": {\"diverging\": [[0, \"#8e0152\"], [0.1, \"#c51b7d\"], [0.2, \"#de77ae\"], [0.3, \"#f1b6da\"], [0.4, \"#fde0ef\"], [0.5, \"#f7f7f7\"], [0.6, \"#e6f5d0\"], [0.7, \"#b8e186\"], [0.8, \"#7fbc41\"], [0.9, \"#4d9221\"], [1, \"#276419\"]], \"sequential\": [[0.0, \"#0d0887\"], [0.1111111111111111, \"#46039f\"], [0.2222222222222222, \"#7201a8\"], [0.3333333333333333, \"#9c179e\"], [0.4444444444444444, \"#bd3786\"], [0.5555555555555556, \"#d8576b\"], [0.6666666666666666, \"#ed7953\"], [0.7777777777777778, \"#fb9f3a\"], [0.8888888888888888, \"#fdca26\"], [1.0, \"#f0f921\"]], \"sequentialminus\": [[0.0, \"#0d0887\"], [0.1111111111111111, \"#46039f\"], [0.2222222222222222, \"#7201a8\"], [0.3333333333333333, \"#9c179e\"], [0.4444444444444444, \"#bd3786\"], [0.5555555555555556, \"#d8576b\"], [0.6666666666666666, \"#ed7953\"], [0.7777777777777778, \"#fb9f3a\"], [0.8888888888888888, \"#fdca26\"], [1.0, \"#f0f921\"]]}, \"colorway\": [\"#636efa\", \"#EF553B\", \"#00cc96\", \"#ab63fa\", \"#FFA15A\", \"#19d3f3\", \"#FF6692\", \"#B6E880\", \"#FF97FF\", \"#FECB52\"], \"font\": {\"color\": \"#2a3f5f\"}, \"geo\": {\"bgcolor\": \"white\", \"lakecolor\": \"white\", \"landcolor\": \"#E5ECF6\", \"showlakes\": true, \"showland\": true, \"subunitcolor\": \"white\"}, \"hoverlabel\": {\"align\": \"left\"}, \"hovermode\": \"closest\", \"mapbox\": {\"style\": \"light\"}, \"paper_bgcolor\": \"white\", \"plot_bgcolor\": \"#E5ECF6\", \"polar\": {\"angularaxis\": {\"gridcolor\": \"white\", \"linecolor\": \"white\", \"ticks\": \"\"}, \"bgcolor\": \"#E5ECF6\", \"radialaxis\": {\"gridcolor\": \"white\", \"linecolor\": \"white\", \"ticks\": \"\"}}, \"scene\": {\"xaxis\": {\"backgroundcolor\": \"#E5ECF6\", \"gridcolor\": \"white\", \"gridwidth\": 2, \"linecolor\": \"white\", \"showbackground\": true, \"ticks\": \"\", \"zerolinecolor\": \"white\"}, \"yaxis\": {\"backgroundcolor\": \"#E5ECF6\", \"gridcolor\": \"white\", \"gridwidth\": 2, \"linecolor\": \"white\", \"showbackground\": true, \"ticks\": \"\", \"zerolinecolor\": \"white\"}, \"zaxis\": {\"backgroundcolor\": \"#E5ECF6\", \"gridcolor\": \"white\", \"gridwidth\": 2, \"linecolor\": \"white\", \"showbackground\": true, \"ticks\": \"\", \"zerolinecolor\": \"white\"}}, \"shapedefaults\": {\"line\": {\"color\": \"#2a3f5f\"}}, \"ternary\": {\"aaxis\": {\"gridcolor\": \"white\", \"linecolor\": \"white\", \"ticks\": \"\"}, \"baxis\": {\"gridcolor\": \"white\", \"linecolor\": \"white\", \"ticks\": \"\"}, \"bgcolor\": \"#E5ECF6\", \"caxis\": {\"gridcolor\": \"white\", \"linecolor\": \"white\", \"ticks\": \"\"}}, \"title\": {\"x\": 0.05}, \"xaxis\": {\"automargin\": true, \"gridcolor\": \"white\", \"linecolor\": \"white\", \"ticks\": \"\", \"title\": {\"standoff\": 15}, \"zerolinecolor\": \"white\", \"zerolinewidth\": 2}, \"yaxis\": {\"automargin\": true, \"gridcolor\": \"white\", \"linecolor\": \"white\", \"ticks\": \"\", \"title\": {\"standoff\": 15}, \"zerolinecolor\": \"white\", \"zerolinewidth\": 2}}}, \"xaxis\": {\"anchor\": \"y\", \"domain\": [0.0, 1.0], \"tickmode\": \"array\", \"ticktext\": [\"12/23\", \"12/30\", \"1/6\", \"1/13\", \"1/20\", \"1/27\", \"2/3\", \"2/10\", \"2/17\", \"2/24\", \"3/2\", \"3/9\", \"3/16\", \"3/23\", \"3/30\", \"4/6\", \"4/13\", \"4/20\", \"4/27\", \"5/4\", \"5/11\", \"5/18\", \"5/25\", \"6/1\", \"6/8\", \"6/15\", \"6/22\", \"6/29\", \"7/6\", \"7/13\", \"7/20\", \"7/27\", \"8/3\", \"8/10\", \"8/17\", \"8/24\", \"8/31\", \"9/7\", \"9/14\", \"9/21\", \"9/28\", \"10/5\", \"10/12\", \"10/19\", \"10/26\", \"11/2\", \"11/9\", \"11/16\", \"11/23\", \"11/30\", \"12/7\", \"12/14\"], \"tickvals\": [0, 1, 2, 3, 4, 5, 6, 7, 8, 9, 10, 11, 12, 13, 14, 15, 16, 17, 18, 19, 20, 21, 22, 23, 24, 25, 26, 27, 28, 29, 30, 31, 32, 33, 34, 35, 36, 37, 38, 39, 40, 41, 42, 43, 44, 45, 46, 47, 48, 49, 50, 51], \"title\": {\"text\": \"week\"}}, \"yaxis\": {\"anchor\": \"x\", \"domain\": [0.0, 1.0], \"title\": {\"text\": \"std_diff\"}}},\n",
       "                        {\"responsive\": true}\n",
       "                    ).then(function(){\n",
       "                            \n",
       "var gd = document.getElementById('012dfeeb-4b9b-457f-9298-35d718f1178d');\n",
       "var x = new MutationObserver(function (mutations, observer) {{\n",
       "        var display = window.getComputedStyle(gd).display;\n",
       "        if (!display || display === 'none') {{\n",
       "            console.log([gd, 'removed!']);\n",
       "            Plotly.purge(gd);\n",
       "            observer.disconnect();\n",
       "        }}\n",
       "}});\n",
       "\n",
       "// Listen for the removal of the full notebook cells\n",
       "var notebookContainer = gd.closest('#notebook-container');\n",
       "if (notebookContainer) {{\n",
       "    x.observe(notebookContainer, {childList: true});\n",
       "}}\n",
       "\n",
       "// Listen for the clearing of the current output cell\n",
       "var outputEl = gd.closest('.output');\n",
       "if (outputEl) {{\n",
       "    x.observe(outputEl, {childList: true});\n",
       "}}\n",
       "\n",
       "                        })\n",
       "                };\n",
       "                });\n",
       "            </script>\n",
       "        </div>"
      ]
     },
     "metadata": {},
     "output_type": "display_data"
    }
   ],
   "source": [
    "fig = px.line(std_total_diff2, x=\"week\", y=\"std_diff\", color='MCT_CAT_CD')\n",
    "\n",
    "fig.update_layout(\n",
    "    xaxis = dict(\n",
    "        tickmode = 'array',\n",
    "        tickvals = np.arange(0, len(test2)),\n",
    "        ticktext = test2\n",
    "    )\n",
    ")\n",
    "fig.show()"
   ]
  },
  {
   "cell_type": "code",
   "execution_count": null,
   "metadata": {},
   "outputs": [],
   "source": []
  }
 ],
 "metadata": {
  "kernelspec": {
   "display_name": "Python 3",
   "language": "python",
   "name": "python3"
  },
  "toc": {
   "base_numbering": 1,
   "nav_menu": {},
   "number_sections": true,
   "sideBar": true,
   "skip_h1_title": false,
   "title_cell": "Table of Contents",
   "title_sidebar": "Contents",
   "toc_cell": false,
   "toc_position": {},
   "toc_section_display": true,
   "toc_window_display": false
  },
  "varInspector": {
   "cols": {
    "lenName": 16,
    "lenType": 16,
    "lenVar": 40
   },
   "kernels_config": {
    "python": {
     "delete_cmd_postfix": "",
     "delete_cmd_prefix": "del ",
     "library": "var_list.py",
     "varRefreshCmd": "print(var_dic_list())"
    },
    "r": {
     "delete_cmd_postfix": ") ",
     "delete_cmd_prefix": "rm(",
     "library": "var_list.r",
     "varRefreshCmd": "cat(var_dic_list()) "
    }
   },
   "types_to_exclude": [
    "module",
    "function",
    "builtin_function_or_method",
    "instance",
    "_Feature"
   ],
   "window_display": false
  }
 },
 "nbformat": 4,
 "nbformat_minor": 4
}
