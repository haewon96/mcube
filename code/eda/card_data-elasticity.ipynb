{
 "cells": [
  {
   "cell_type": "code",
   "execution_count": 274,
   "metadata": {},
   "outputs": [],
   "source": [
    "import dateutil.relativedelta as relativedelta\n",
    "import dateutil.rrule as rrule\n",
    "import datetime\n",
    "\n",
    "import numpy as np\n",
    "import pandas as pd\n",
    "import pandas_profiling\n",
    "\n",
    "import matplotlib.pyplot as plt\n",
    "import seaborn as sns\n",
    "import plotly.express as px"
   ]
  },
  {
   "cell_type": "code",
   "execution_count": 275,
   "metadata": {},
   "outputs": [],
   "source": [
    "rs_card_data = pd.read_csv('../../data/bigcontest/02_카드매출데이터(신한카드)/CARD_SPENDING_RESIDENT/CARD_SPENDING_RESIDENT.txt', sep='\\t')\n",
    "fr_card_data = pd.read_csv('../../data/bigcontest/02_카드매출데이터(신한카드)/CARD_SPENDING_FOREIGNER/CARD_SPENDING_FOREIGNER.txt', sep='\\t', engine='python')"
   ]
  },
  {
   "cell_type": "code",
   "execution_count": 276,
   "metadata": {},
   "outputs": [],
   "source": [
    "covid_confirmed = pd.read_csv('../../data/covid19/covid19_confirmed.csv', parse_dates=['date']).drop('Unnamed: 0',axis=1)"
   ]
  },
  {
   "cell_type": "code",
   "execution_count": 277,
   "metadata": {},
   "outputs": [],
   "source": [
    "covid_confirmed['month'] = [int(str(cnt).split('.')[0]) for cnt in covid_confirmed.date]\n",
    "covid_confirmed['day'] = [int(str(cnt).split('.')[1]) for cnt in covid_confirmed.date]"
   ]
  },
  {
   "cell_type": "code",
   "execution_count": 279,
   "metadata": {},
   "outputs": [],
   "source": [
    "covid_confirmed = covid_confirmed.melt(id_vars=['date','month','day'],  var_name='city', value_name='covid19')"
   ]
  },
  {
   "cell_type": "code",
   "execution_count": 280,
   "metadata": {},
   "outputs": [
    {
     "data": {
      "text/html": [
       "<div>\n",
       "<style scoped>\n",
       "    .dataframe tbody tr th:only-of-type {\n",
       "        vertical-align: middle;\n",
       "    }\n",
       "\n",
       "    .dataframe tbody tr th {\n",
       "        vertical-align: top;\n",
       "    }\n",
       "\n",
       "    .dataframe thead th {\n",
       "        text-align: right;\n",
       "    }\n",
       "</style>\n",
       "<table border=\"1\" class=\"dataframe\">\n",
       "  <thead>\n",
       "    <tr style=\"text-align: right;\">\n",
       "      <th></th>\n",
       "      <th>date</th>\n",
       "      <th>month</th>\n",
       "      <th>day</th>\n",
       "      <th>city</th>\n",
       "      <th>covid19</th>\n",
       "    </tr>\n",
       "  </thead>\n",
       "  <tbody>\n",
       "    <tr>\n",
       "      <th>0</th>\n",
       "      <td>2.18</td>\n",
       "      <td>2</td>\n",
       "      <td>18</td>\n",
       "      <td>seoul</td>\n",
       "      <td>0</td>\n",
       "    </tr>\n",
       "    <tr>\n",
       "      <th>1</th>\n",
       "      <td>2.19</td>\n",
       "      <td>2</td>\n",
       "      <td>19</td>\n",
       "      <td>seoul</td>\n",
       "      <td>1</td>\n",
       "    </tr>\n",
       "    <tr>\n",
       "      <th>2</th>\n",
       "      <td>2.20</td>\n",
       "      <td>2</td>\n",
       "      <td>20</td>\n",
       "      <td>seoul</td>\n",
       "      <td>7</td>\n",
       "    </tr>\n",
       "    <tr>\n",
       "      <th>3</th>\n",
       "      <td>2.21</td>\n",
       "      <td>2</td>\n",
       "      <td>21</td>\n",
       "      <td>seoul</td>\n",
       "      <td>5</td>\n",
       "    </tr>\n",
       "    <tr>\n",
       "      <th>4</th>\n",
       "      <td>2.22</td>\n",
       "      <td>2</td>\n",
       "      <td>22</td>\n",
       "      <td>seoul</td>\n",
       "      <td>3</td>\n",
       "    </tr>\n",
       "  </tbody>\n",
       "</table>\n",
       "</div>"
      ],
      "text/plain": [
       "   date  month  day   city  covid19\n",
       "0  2.18      2   18  seoul        0\n",
       "1  2.19      2   19  seoul        1\n",
       "2  2.20      2   20  seoul        7\n",
       "3  2.21      2   21  seoul        5\n",
       "4  2.22      2   22  seoul        3"
      ]
     },
     "execution_count": 280,
     "metadata": {},
     "output_type": "execute_result"
    }
   ],
   "source": [
    "covid_confirmed.head()"
   ]
  },
  {
   "cell_type": "markdown",
   "metadata": {},
   "source": [
    "# 전처리\n",
    "## mct_cat_cd 한글로 변환"
   ]
  },
  {
   "cell_type": "code",
   "execution_count": 281,
   "metadata": {},
   "outputs": [],
   "source": [
    "mct_dict = { 10:'숙박', 20:'레저용품', 21:'레저업소', 22:'문화취미',\n",
    " 30:'가구', 31:'전기', 32:'주방용구', 33:'연료판매',\n",
    " 34:'광학제품', 35:'가전', 40:'유통업', 42:'의복',\n",
    " 43:'직물', 44:'신변잡화', 50:'서적문구', 52:'사무통신',\n",
    " 60:'자동차판매', 62:'자동차정비', 70:'의료기관', 71:'보건위생',\n",
    " 80:'요식업소', 81:'음료식품', 92:'수리서비스' }"
   ]
  },
  {
   "cell_type": "code",
   "execution_count": 282,
   "metadata": {},
   "outputs": [],
   "source": [
    "rs_card_data.MCT_CAT_CD = [mct_dict[cnt] for cnt in rs_card_data.MCT_CAT_CD]"
   ]
  },
  {
   "cell_type": "markdown",
   "metadata": {},
   "source": [
    "## x축"
   ]
  },
  {
   "cell_type": "code",
   "execution_count": 283,
   "metadata": {},
   "outputs": [],
   "source": [
    "# x tics\n",
    "year =2020\n",
    "before =datetime.datetime(year,1,1)\n",
    "after =datetime.datetime(year,12,31)\n",
    "rr = rrule.rrule(rrule.WEEKLY,byweekday=relativedelta.SU,dtstart=before)\n",
    "\n",
    "test = pd.DataFrame(rr.between(before,after,inc=True))  + datetime.timedelta(days=-13) # 월요일 기준\n",
    "\n",
    "test2 = list(map(lambda x : str(pd.to_datetime(x[0]).month)+'/'+ str(pd.to_datetime(x[0]).day)\n",
    "         , list(test.values)))"
   ]
  },
  {
   "cell_type": "markdown",
   "metadata": {},
   "source": [
    "## rs_card_data 시간 분할"
   ]
  },
  {
   "cell_type": "code",
   "execution_count": 284,
   "metadata": {},
   "outputs": [],
   "source": [
    "rs_card_data.STD_DD = pd.to_datetime(rs_card_data.STD_DD,format='%Y%m%d')\n",
    "\n",
    "rs_card_data.SEX_CD = rs_card_data.SEX_CD.astype('category')"
   ]
  },
  {
   "cell_type": "code",
   "execution_count": 285,
   "metadata": {},
   "outputs": [],
   "source": [
    "rs_card_data['year'] = rs_card_data.STD_DD.dt.year\n",
    "rs_card_data['month'] = rs_card_data.STD_DD.dt.month\n",
    "rs_card_data['day'] = rs_card_data.STD_DD.dt.day\n",
    "rs_card_data['week'] = rs_card_data.STD_DD.dt.weekofyear "
   ]
  },
  {
   "cell_type": "markdown",
   "metadata": {},
   "source": [
    "## 서울 대구 분리"
   ]
  },
  {
   "cell_type": "code",
   "execution_count": 286,
   "metadata": {},
   "outputs": [
    {
     "data": {
      "text/html": [
       "<div>\n",
       "<style scoped>\n",
       "    .dataframe tbody tr th:only-of-type {\n",
       "        vertical-align: middle;\n",
       "    }\n",
       "\n",
       "    .dataframe tbody tr th {\n",
       "        vertical-align: top;\n",
       "    }\n",
       "\n",
       "    .dataframe thead th {\n",
       "        text-align: right;\n",
       "    }\n",
       "</style>\n",
       "<table border=\"1\" class=\"dataframe\">\n",
       "  <thead>\n",
       "    <tr style=\"text-align: right;\">\n",
       "      <th></th>\n",
       "      <th>STD_DD</th>\n",
       "      <th>GU_CD</th>\n",
       "      <th>DONG_CD</th>\n",
       "      <th>MCT_CAT_CD</th>\n",
       "      <th>SEX_CD</th>\n",
       "      <th>AGE_CD</th>\n",
       "      <th>USE_CNT</th>\n",
       "      <th>USE_AMT</th>\n",
       "      <th>year</th>\n",
       "      <th>month</th>\n",
       "      <th>day</th>\n",
       "      <th>week</th>\n",
       "    </tr>\n",
       "  </thead>\n",
       "  <tbody>\n",
       "    <tr>\n",
       "      <th>0</th>\n",
       "      <td>2019-02-01</td>\n",
       "      <td>110</td>\n",
       "      <td>517</td>\n",
       "      <td>숙박</td>\n",
       "      <td>F</td>\n",
       "      <td>25</td>\n",
       "      <td>11</td>\n",
       "      <td>595</td>\n",
       "      <td>2019</td>\n",
       "      <td>2</td>\n",
       "      <td>1</td>\n",
       "      <td>5</td>\n",
       "    </tr>\n",
       "    <tr>\n",
       "      <th>1</th>\n",
       "      <td>2019-02-01</td>\n",
       "      <td>110</td>\n",
       "      <td>517</td>\n",
       "      <td>숙박</td>\n",
       "      <td>F</td>\n",
       "      <td>50</td>\n",
       "      <td>5</td>\n",
       "      <td>243</td>\n",
       "      <td>2019</td>\n",
       "      <td>2</td>\n",
       "      <td>1</td>\n",
       "      <td>5</td>\n",
       "    </tr>\n",
       "    <tr>\n",
       "      <th>2</th>\n",
       "      <td>2019-02-01</td>\n",
       "      <td>110</td>\n",
       "      <td>517</td>\n",
       "      <td>숙박</td>\n",
       "      <td>F</td>\n",
       "      <td>55</td>\n",
       "      <td>5</td>\n",
       "      <td>27</td>\n",
       "      <td>2019</td>\n",
       "      <td>2</td>\n",
       "      <td>1</td>\n",
       "      <td>5</td>\n",
       "    </tr>\n",
       "    <tr>\n",
       "      <th>3</th>\n",
       "      <td>2019-02-01</td>\n",
       "      <td>110</td>\n",
       "      <td>517</td>\n",
       "      <td>숙박</td>\n",
       "      <td>M</td>\n",
       "      <td>20</td>\n",
       "      <td>11</td>\n",
       "      <td>243</td>\n",
       "      <td>2019</td>\n",
       "      <td>2</td>\n",
       "      <td>1</td>\n",
       "      <td>5</td>\n",
       "    </tr>\n",
       "    <tr>\n",
       "      <th>4</th>\n",
       "      <td>2019-02-01</td>\n",
       "      <td>110</td>\n",
       "      <td>517</td>\n",
       "      <td>숙박</td>\n",
       "      <td>M</td>\n",
       "      <td>25</td>\n",
       "      <td>11</td>\n",
       "      <td>433</td>\n",
       "      <td>2019</td>\n",
       "      <td>2</td>\n",
       "      <td>1</td>\n",
       "      <td>5</td>\n",
       "    </tr>\n",
       "    <tr>\n",
       "      <th>...</th>\n",
       "      <td>...</td>\n",
       "      <td>...</td>\n",
       "      <td>...</td>\n",
       "      <td>...</td>\n",
       "      <td>...</td>\n",
       "      <td>...</td>\n",
       "      <td>...</td>\n",
       "      <td>...</td>\n",
       "      <td>...</td>\n",
       "      <td>...</td>\n",
       "      <td>...</td>\n",
       "      <td>...</td>\n",
       "    </tr>\n",
       "    <tr>\n",
       "      <th>2537748</th>\n",
       "      <td>2020-05-31</td>\n",
       "      <td>350</td>\n",
       "      <td>720</td>\n",
       "      <td>음료식품</td>\n",
       "      <td>M</td>\n",
       "      <td>45</td>\n",
       "      <td>19</td>\n",
       "      <td>127</td>\n",
       "      <td>2020</td>\n",
       "      <td>5</td>\n",
       "      <td>31</td>\n",
       "      <td>22</td>\n",
       "    </tr>\n",
       "    <tr>\n",
       "      <th>2537749</th>\n",
       "      <td>2020-05-31</td>\n",
       "      <td>350</td>\n",
       "      <td>720</td>\n",
       "      <td>음료식품</td>\n",
       "      <td>M</td>\n",
       "      <td>50</td>\n",
       "      <td>33</td>\n",
       "      <td>211</td>\n",
       "      <td>2020</td>\n",
       "      <td>5</td>\n",
       "      <td>31</td>\n",
       "      <td>22</td>\n",
       "    </tr>\n",
       "    <tr>\n",
       "      <th>2537750</th>\n",
       "      <td>2020-05-31</td>\n",
       "      <td>350</td>\n",
       "      <td>720</td>\n",
       "      <td>음료식품</td>\n",
       "      <td>M</td>\n",
       "      <td>55</td>\n",
       "      <td>9</td>\n",
       "      <td>61</td>\n",
       "      <td>2020</td>\n",
       "      <td>5</td>\n",
       "      <td>31</td>\n",
       "      <td>22</td>\n",
       "    </tr>\n",
       "    <tr>\n",
       "      <th>2537751</th>\n",
       "      <td>2020-05-31</td>\n",
       "      <td>350</td>\n",
       "      <td>720</td>\n",
       "      <td>음료식품</td>\n",
       "      <td>M</td>\n",
       "      <td>60</td>\n",
       "      <td>19</td>\n",
       "      <td>194</td>\n",
       "      <td>2020</td>\n",
       "      <td>5</td>\n",
       "      <td>31</td>\n",
       "      <td>22</td>\n",
       "    </tr>\n",
       "    <tr>\n",
       "      <th>2537752</th>\n",
       "      <td>2020-05-31</td>\n",
       "      <td>350</td>\n",
       "      <td>720</td>\n",
       "      <td>음료식품</td>\n",
       "      <td>M</td>\n",
       "      <td>65</td>\n",
       "      <td>5</td>\n",
       "      <td>29</td>\n",
       "      <td>2020</td>\n",
       "      <td>5</td>\n",
       "      <td>31</td>\n",
       "      <td>22</td>\n",
       "    </tr>\n",
       "  </tbody>\n",
       "</table>\n",
       "<p>2537753 rows × 12 columns</p>\n",
       "</div>"
      ],
      "text/plain": [
       "            STD_DD  GU_CD  DONG_CD MCT_CAT_CD SEX_CD  AGE_CD  USE_CNT  \\\n",
       "0       2019-02-01    110      517         숙박      F      25       11   \n",
       "1       2019-02-01    110      517         숙박      F      50        5   \n",
       "2       2019-02-01    110      517         숙박      F      55        5   \n",
       "3       2019-02-01    110      517         숙박      M      20       11   \n",
       "4       2019-02-01    110      517         숙박      M      25       11   \n",
       "...            ...    ...      ...        ...    ...     ...      ...   \n",
       "2537748 2020-05-31    350      720       음료식품      M      45       19   \n",
       "2537749 2020-05-31    350      720       음료식품      M      50       33   \n",
       "2537750 2020-05-31    350      720       음료식품      M      55        9   \n",
       "2537751 2020-05-31    350      720       음료식품      M      60       19   \n",
       "2537752 2020-05-31    350      720       음료식품      M      65        5   \n",
       "\n",
       "         USE_AMT  year  month  day  week  \n",
       "0            595  2019      2    1     5  \n",
       "1            243  2019      2    1     5  \n",
       "2             27  2019      2    1     5  \n",
       "3            243  2019      2    1     5  \n",
       "4            433  2019      2    1     5  \n",
       "...          ...   ...    ...  ...   ...  \n",
       "2537748      127  2020      5   31    22  \n",
       "2537749      211  2020      5   31    22  \n",
       "2537750       61  2020      5   31    22  \n",
       "2537751      194  2020      5   31    22  \n",
       "2537752       29  2020      5   31    22  \n",
       "\n",
       "[2537753 rows x 12 columns]"
      ]
     },
     "execution_count": 286,
     "metadata": {},
     "output_type": "execute_result"
    }
   ],
   "source": [
    "rs_card_data"
   ]
  },
  {
   "cell_type": "code",
   "execution_count": 287,
   "metadata": {},
   "outputs": [],
   "source": [
    "gu_dict = { 140:'seoul', 350:'seoul', 260:'daegu', 110:'daegu' }"
   ]
  },
  {
   "cell_type": "code",
   "execution_count": 288,
   "metadata": {},
   "outputs": [],
   "source": [
    "rs_card_data.GU_CD = [gu_dict[cnt] for cnt in rs_card_data.GU_CD]"
   ]
  },
  {
   "cell_type": "code",
   "execution_count": 289,
   "metadata": {},
   "outputs": [],
   "source": [
    "rs_card_data.columns = ['STD_DD', 'city', 'DONG_CD', 'MCT_CAT_CD', 'SEX_CD', 'AGE_CD',\n",
    "       'USE_CNT', 'USE_AMT', 'year', 'month', 'day', 'week']"
   ]
  },
  {
   "cell_type": "code",
   "execution_count": 290,
   "metadata": {},
   "outputs": [
    {
     "data": {
      "text/html": [
       "<div>\n",
       "<style scoped>\n",
       "    .dataframe tbody tr th:only-of-type {\n",
       "        vertical-align: middle;\n",
       "    }\n",
       "\n",
       "    .dataframe tbody tr th {\n",
       "        vertical-align: top;\n",
       "    }\n",
       "\n",
       "    .dataframe thead th {\n",
       "        text-align: right;\n",
       "    }\n",
       "</style>\n",
       "<table border=\"1\" class=\"dataframe\">\n",
       "  <thead>\n",
       "    <tr style=\"text-align: right;\">\n",
       "      <th></th>\n",
       "      <th>STD_DD</th>\n",
       "      <th>city</th>\n",
       "      <th>DONG_CD</th>\n",
       "      <th>MCT_CAT_CD</th>\n",
       "      <th>SEX_CD</th>\n",
       "      <th>AGE_CD</th>\n",
       "      <th>USE_CNT</th>\n",
       "      <th>USE_AMT</th>\n",
       "      <th>year</th>\n",
       "      <th>month</th>\n",
       "      <th>day</th>\n",
       "      <th>week</th>\n",
       "    </tr>\n",
       "  </thead>\n",
       "  <tbody>\n",
       "    <tr>\n",
       "      <th>0</th>\n",
       "      <td>2019-02-01</td>\n",
       "      <td>daegu</td>\n",
       "      <td>517</td>\n",
       "      <td>숙박</td>\n",
       "      <td>F</td>\n",
       "      <td>25</td>\n",
       "      <td>11</td>\n",
       "      <td>595</td>\n",
       "      <td>2019</td>\n",
       "      <td>2</td>\n",
       "      <td>1</td>\n",
       "      <td>5</td>\n",
       "    </tr>\n",
       "    <tr>\n",
       "      <th>1</th>\n",
       "      <td>2019-02-01</td>\n",
       "      <td>daegu</td>\n",
       "      <td>517</td>\n",
       "      <td>숙박</td>\n",
       "      <td>F</td>\n",
       "      <td>50</td>\n",
       "      <td>5</td>\n",
       "      <td>243</td>\n",
       "      <td>2019</td>\n",
       "      <td>2</td>\n",
       "      <td>1</td>\n",
       "      <td>5</td>\n",
       "    </tr>\n",
       "    <tr>\n",
       "      <th>2</th>\n",
       "      <td>2019-02-01</td>\n",
       "      <td>daegu</td>\n",
       "      <td>517</td>\n",
       "      <td>숙박</td>\n",
       "      <td>F</td>\n",
       "      <td>55</td>\n",
       "      <td>5</td>\n",
       "      <td>27</td>\n",
       "      <td>2019</td>\n",
       "      <td>2</td>\n",
       "      <td>1</td>\n",
       "      <td>5</td>\n",
       "    </tr>\n",
       "    <tr>\n",
       "      <th>3</th>\n",
       "      <td>2019-02-01</td>\n",
       "      <td>daegu</td>\n",
       "      <td>517</td>\n",
       "      <td>숙박</td>\n",
       "      <td>M</td>\n",
       "      <td>20</td>\n",
       "      <td>11</td>\n",
       "      <td>243</td>\n",
       "      <td>2019</td>\n",
       "      <td>2</td>\n",
       "      <td>1</td>\n",
       "      <td>5</td>\n",
       "    </tr>\n",
       "    <tr>\n",
       "      <th>4</th>\n",
       "      <td>2019-02-01</td>\n",
       "      <td>daegu</td>\n",
       "      <td>517</td>\n",
       "      <td>숙박</td>\n",
       "      <td>M</td>\n",
       "      <td>25</td>\n",
       "      <td>11</td>\n",
       "      <td>433</td>\n",
       "      <td>2019</td>\n",
       "      <td>2</td>\n",
       "      <td>1</td>\n",
       "      <td>5</td>\n",
       "    </tr>\n",
       "  </tbody>\n",
       "</table>\n",
       "</div>"
      ],
      "text/plain": [
       "      STD_DD   city  DONG_CD MCT_CAT_CD SEX_CD  AGE_CD  USE_CNT  USE_AMT  \\\n",
       "0 2019-02-01  daegu      517         숙박      F      25       11      595   \n",
       "1 2019-02-01  daegu      517         숙박      F      50        5      243   \n",
       "2 2019-02-01  daegu      517         숙박      F      55        5       27   \n",
       "3 2019-02-01  daegu      517         숙박      M      20       11      243   \n",
       "4 2019-02-01  daegu      517         숙박      M      25       11      433   \n",
       "\n",
       "   year  month  day  week  \n",
       "0  2019      2    1     5  \n",
       "1  2019      2    1     5  \n",
       "2  2019      2    1     5  \n",
       "3  2019      2    1     5  \n",
       "4  2019      2    1     5  "
      ]
     },
     "execution_count": 290,
     "metadata": {},
     "output_type": "execute_result"
    }
   ],
   "source": [
    "rs_card_data.head()"
   ]
  },
  {
   "cell_type": "markdown",
   "metadata": {},
   "source": [
    "# merge"
   ]
  },
  {
   "cell_type": "code",
   "execution_count": 291,
   "metadata": {},
   "outputs": [],
   "source": [
    "table = rs_card_data.pivot_table(values=['USE_CNT', 'USE_AMT'],\n",
    "                                 index=['month', 'day', 'week',\n",
    "                                        'MCT_CAT_CD', 'city', 'year'],\n",
    "                                 aggfunc='sum').reset_index()"
   ]
  },
  {
   "cell_type": "code",
   "execution_count": 292,
   "metadata": {
    "scrolled": true
   },
   "outputs": [],
   "source": [
    "covid_table = pd.merge(table, covid_confirmed,on=['month','day', 'city'], how='left').fillna(0)"
   ]
  },
  {
   "cell_type": "code",
   "execution_count": 293,
   "metadata": {},
   "outputs": [],
   "source": [
    "covid_table['covid19'] = covid_table['covid19'].astype('int')"
   ]
  },
  {
   "cell_type": "code",
   "execution_count": 294,
   "metadata": {},
   "outputs": [],
   "source": [
    "covid_table.to_csv('../../data/card_covid.csv')"
   ]
  },
  {
   "cell_type": "markdown",
   "metadata": {},
   "source": [
    "# elastic"
   ]
  },
  {
   "cell_type": "code",
   "execution_count": 295,
   "metadata": {},
   "outputs": [],
   "source": [
    "covid_table2020 = covid_table[covid_table['year']==2020].drop('year',axis=1)"
   ]
  },
  {
   "cell_type": "code",
   "execution_count": 296,
   "metadata": {},
   "outputs": [],
   "source": [
    "seoul_covid_table2020 = covid_table2020[covid_table2020['city']=='seoul'].drop('city',axis=1)\n",
    "daegu_covid_table2020 = covid_table2020[covid_table2020['city']=='daegu'].drop('city',axis=1)"
   ]
  },
  {
   "cell_type": "code",
   "execution_count": 350,
   "metadata": {},
   "outputs": [
    {
     "data": {
      "text/html": [
       "<div>\n",
       "<style scoped>\n",
       "    .dataframe tbody tr th:only-of-type {\n",
       "        vertical-align: middle;\n",
       "    }\n",
       "\n",
       "    .dataframe tbody tr th {\n",
       "        vertical-align: top;\n",
       "    }\n",
       "\n",
       "    .dataframe thead th {\n",
       "        text-align: right;\n",
       "    }\n",
       "</style>\n",
       "<table border=\"1\" class=\"dataframe\">\n",
       "  <thead>\n",
       "    <tr style=\"text-align: right;\">\n",
       "      <th></th>\n",
       "      <th>month</th>\n",
       "      <th>day</th>\n",
       "      <th>week</th>\n",
       "      <th>MCT_CAT_CD</th>\n",
       "      <th>USE_AMT</th>\n",
       "      <th>USE_CNT</th>\n",
       "      <th>date</th>\n",
       "      <th>covid19</th>\n",
       "    </tr>\n",
       "  </thead>\n",
       "  <tbody>\n",
       "    <tr>\n",
       "      <th>3</th>\n",
       "      <td>2</td>\n",
       "      <td>1</td>\n",
       "      <td>5</td>\n",
       "      <td>가구</td>\n",
       "      <td>61331</td>\n",
       "      <td>117</td>\n",
       "      <td>0</td>\n",
       "      <td>0</td>\n",
       "    </tr>\n",
       "    <tr>\n",
       "      <th>7</th>\n",
       "      <td>2</td>\n",
       "      <td>1</td>\n",
       "      <td>5</td>\n",
       "      <td>가전</td>\n",
       "      <td>258731</td>\n",
       "      <td>569</td>\n",
       "      <td>0</td>\n",
       "      <td>0</td>\n",
       "    </tr>\n",
       "    <tr>\n",
       "      <th>11</th>\n",
       "      <td>2</td>\n",
       "      <td>1</td>\n",
       "      <td>5</td>\n",
       "      <td>광학제품</td>\n",
       "      <td>46706</td>\n",
       "      <td>307</td>\n",
       "      <td>0</td>\n",
       "      <td>0</td>\n",
       "    </tr>\n",
       "    <tr>\n",
       "      <th>15</th>\n",
       "      <td>2</td>\n",
       "      <td>1</td>\n",
       "      <td>5</td>\n",
       "      <td>레저업소</td>\n",
       "      <td>332995</td>\n",
       "      <td>21906</td>\n",
       "      <td>0</td>\n",
       "      <td>0</td>\n",
       "    </tr>\n",
       "    <tr>\n",
       "      <th>19</th>\n",
       "      <td>2</td>\n",
       "      <td>1</td>\n",
       "      <td>5</td>\n",
       "      <td>레저용품</td>\n",
       "      <td>712649</td>\n",
       "      <td>8886</td>\n",
       "      <td>0</td>\n",
       "      <td>0</td>\n",
       "    </tr>\n",
       "    <tr>\n",
       "      <th>...</th>\n",
       "      <td>...</td>\n",
       "      <td>...</td>\n",
       "      <td>...</td>\n",
       "      <td>...</td>\n",
       "      <td>...</td>\n",
       "      <td>...</td>\n",
       "      <td>...</td>\n",
       "      <td>...</td>\n",
       "    </tr>\n",
       "    <tr>\n",
       "      <th>11008</th>\n",
       "      <td>5</td>\n",
       "      <td>31</td>\n",
       "      <td>22</td>\n",
       "      <td>자동차정비</td>\n",
       "      <td>72164</td>\n",
       "      <td>6846</td>\n",
       "      <td>5.31</td>\n",
       "      <td>6</td>\n",
       "    </tr>\n",
       "    <tr>\n",
       "      <th>11012</th>\n",
       "      <td>5</td>\n",
       "      <td>31</td>\n",
       "      <td>22</td>\n",
       "      <td>자동차판매</td>\n",
       "      <td>70</td>\n",
       "      <td>5</td>\n",
       "      <td>5.31</td>\n",
       "      <td>6</td>\n",
       "    </tr>\n",
       "    <tr>\n",
       "      <th>11015</th>\n",
       "      <td>5</td>\n",
       "      <td>31</td>\n",
       "      <td>22</td>\n",
       "      <td>전기</td>\n",
       "      <td>482</td>\n",
       "      <td>10</td>\n",
       "      <td>5.31</td>\n",
       "      <td>6</td>\n",
       "    </tr>\n",
       "    <tr>\n",
       "      <th>11019</th>\n",
       "      <td>5</td>\n",
       "      <td>31</td>\n",
       "      <td>22</td>\n",
       "      <td>주방용구</td>\n",
       "      <td>17444</td>\n",
       "      <td>252</td>\n",
       "      <td>5.31</td>\n",
       "      <td>6</td>\n",
       "    </tr>\n",
       "    <tr>\n",
       "      <th>11023</th>\n",
       "      <td>5</td>\n",
       "      <td>31</td>\n",
       "      <td>22</td>\n",
       "      <td>직물</td>\n",
       "      <td>34780</td>\n",
       "      <td>260</td>\n",
       "      <td>5.31</td>\n",
       "      <td>6</td>\n",
       "    </tr>\n",
       "  </tbody>\n",
       "</table>\n",
       "<p>2774 rows × 8 columns</p>\n",
       "</div>"
      ],
      "text/plain": [
       "       month  day  week MCT_CAT_CD  USE_AMT  USE_CNT  date  covid19\n",
       "3          2    1     5         가구    61331      117     0        0\n",
       "7          2    1     5         가전   258731      569     0        0\n",
       "11         2    1     5       광학제품    46706      307     0        0\n",
       "15         2    1     5       레저업소   332995    21906     0        0\n",
       "19         2    1     5       레저용품   712649     8886     0        0\n",
       "...      ...  ...   ...        ...      ...      ...   ...      ...\n",
       "11008      5   31    22      자동차정비    72164     6846  5.31        6\n",
       "11012      5   31    22      자동차판매       70        5  5.31        6\n",
       "11015      5   31    22         전기      482       10  5.31        6\n",
       "11019      5   31    22       주방용구    17444      252  5.31        6\n",
       "11023      5   31    22         직물    34780      260  5.31        6\n",
       "\n",
       "[2774 rows x 8 columns]"
      ]
     },
     "execution_count": 350,
     "metadata": {},
     "output_type": "execute_result"
    }
   ],
   "source": [
    "seoul_covid_table2020"
   ]
  },
  {
   "cell_type": "markdown",
   "metadata": {},
   "source": [
    "## 서울"
   ]
  },
  {
   "cell_type": "code",
   "execution_count": 446,
   "metadata": {},
   "outputs": [],
   "source": [
    "def elastic(data, week, alpha=0, covid=False):\n",
    "    '''\n",
    "    data에 필요한 칼럼 : 'covid19', 'USE_AMT', 'week', 'MCT_CAT_CD'\n",
    "    week만 지정되어 있으면 같은 일자 여러 행 있어도 됨\n",
    "    \n",
    "    alpha : 분모 분자에 0이 안되게 더하는 1\n",
    "    \n",
    "    covid : 분모에 covid로 나눌지 여부\n",
    "    '''\n",
    "    data = data.pivot_table(values=['covid19', 'USE_AMT'], \n",
    "                            index=['week', 'MCT_CAT_CD'], aggfunc='sum').reset_index()\n",
    "    last_week = data[data['week'] == week-1].set_index('MCT_CAT_CD')\n",
    "    this_week = data[data['week'] == week].set_index('MCT_CAT_CD')\n",
    "    if covid:\n",
    "        div = (this_week.covid19 + alpha - last_week.covid19) / (last_week.covid19 + alpha)\n",
    "    else :\n",
    "        div = 1\n",
    "    return ((this_week.USE_AMT - last_week.USE_AMT) / last_week.USE_AMT) / div "
   ]
  },
  {
   "cell_type": "code",
   "execution_count": 447,
   "metadata": {},
   "outputs": [],
   "source": [
    "def concat_elastic(data, start_week, end_week, alpha=0, covid=False):\n",
    "    df = pd.concat([elastic(data, week=cnt, alpha=alpha, covid=covid) for cnt in range(start_week,end_week+1)],axis=1)\n",
    "    df.columns = list(range(start_week,end_week+1))\n",
    "    df2 = df.unstack().reset_index()\n",
    "    df2.columns = ['week', 'MCT_CAT_CD', 'elastic']\n",
    "    return df2"
   ]
  },
  {
   "cell_type": "code",
   "execution_count": 452,
   "metadata": {},
   "outputs": [],
   "source": [
    "seoul_df = concat_elastic(data=seoul_covid_table2020, start_week=9, end_week=22, covid=True)"
   ]
  },
  {
   "cell_type": "code",
   "execution_count": 453,
   "metadata": {
    "scrolled": true
   },
   "outputs": [
    {
     "data": {
      "application/vnd.plotly.v1+json": {
       "config": {
        "plotlyServerURL": "https://plot.ly"
       },
       "data": [
        {
         "hovertemplate": "MCT_CAT_CD=가구<br>week=%{x}<br>elastic=%{y}<extra></extra>",
         "legendgroup": "가구",
         "line": {
          "color": "#636efa",
          "dash": "solid"
         },
         "mode": "lines",
         "name": "가구",
         "orientation": "v",
         "showlegend": true,
         "type": "scatter",
         "x": [
          9,
          10,
          11,
          12,
          13,
          14,
          15,
          16,
          17,
          18,
          19,
          20,
          21,
          22
         ],
         "xaxis": "x",
         "y": [
          -0.07019395035674807,
          -1.3748388813298098,
          -0.05186612145785296,
          0.5780386298069302,
          0.9751341454168811,
          0.4806953407753378,
          0.620200010553198,
          -1.5631753756973645,
          -0.07644684378080134,
          -0.230819949614234,
          -0.0348872363676517,
          0.43744947283594987,
          -0.42037732173616893,
          -0.1274789034939434
         ],
         "yaxis": "y"
        },
        {
         "hovertemplate": "MCT_CAT_CD=가전<br>week=%{x}<br>elastic=%{y}<extra></extra>",
         "legendgroup": "가전",
         "line": {
          "color": "#EF553B",
          "dash": "solid"
         },
         "mode": "lines",
         "name": "가전",
         "orientation": "v",
         "showlegend": true,
         "type": "scatter",
         "x": [
          9,
          10,
          11,
          12,
          13,
          14,
          15,
          16,
          17,
          18,
          19,
          20,
          21,
          22
         ],
         "xaxis": "x",
         "y": [
          0.07369499180930174,
          -0.23124543066586375,
          -0.09003314566428151,
          -0.08290035132581144,
          2.045702620010643,
          0.09372813565191179,
          0.09395201978427689,
          0.2676360399866494,
          0.1618229826695431,
          1.0035174608403084,
          -0.05239053540428271,
          0.09930311716211292,
          -0.09221534494457824,
          -0.0898864217211462
         ],
         "yaxis": "y"
        },
        {
         "hovertemplate": "MCT_CAT_CD=광학제품<br>week=%{x}<br>elastic=%{y}<extra></extra>",
         "legendgroup": "광학제품",
         "line": {
          "color": "#00cc96",
          "dash": "solid"
         },
         "mode": "lines",
         "name": "광학제품",
         "orientation": "v",
         "showlegend": true,
         "type": "scatter",
         "x": [
          9,
          10,
          11,
          12,
          13,
          14,
          15,
          16,
          17,
          18,
          19,
          20,
          21,
          22
         ],
         "xaxis": "x",
         "y": [
          0.04078763724469489,
          -0.7182171525243572,
          -0.14020640689141883,
          -0.3696373392838168,
          -2.6956164368031112,
          2.755483938994685,
          0.48913791555701847,
          -0.08474350787569178,
          -0.09855222837771044,
          -0.8134115099672061,
          0.29714054648123217,
          -0.10893529007719673,
          -0.01144198822098709,
          0.12361092212092348
         ],
         "yaxis": "y"
        },
        {
         "hovertemplate": "MCT_CAT_CD=레저업소<br>week=%{x}<br>elastic=%{y}<extra></extra>",
         "legendgroup": "레저업소",
         "line": {
          "color": "#ab63fa",
          "dash": "solid"
         },
         "mode": "lines",
         "name": "레저업소",
         "orientation": "v",
         "showlegend": true,
         "type": "scatter",
         "x": [
          9,
          10,
          11,
          12,
          13,
          14,
          15,
          16,
          17,
          18,
          19,
          20,
          21,
          22
         ],
         "xaxis": "x",
         "y": [
          -0.12176773869085171,
          0.05044155939545242,
          -0.00338468277282645,
          -0.17733836268873776,
          -2.5704323002124356,
          -0.03244847733930883,
          -0.3840778759637883,
          -0.0513937301787469,
          -0.3925906022898932,
          0.013244722622689501,
          0.04750171583126987,
          -0.01887416255592377,
          -0.18237208981237163,
          0.042037309010817585
         ],
         "yaxis": "y"
        },
        {
         "hovertemplate": "MCT_CAT_CD=레저용품<br>week=%{x}<br>elastic=%{y}<extra></extra>",
         "legendgroup": "레저용품",
         "line": {
          "color": "#FFA15A",
          "dash": "solid"
         },
         "mode": "lines",
         "name": "레저용품",
         "orientation": "v",
         "showlegend": true,
         "type": "scatter",
         "x": [
          9,
          10,
          11,
          12,
          13,
          14,
          15,
          16,
          17,
          18,
          19,
          20,
          21,
          22
         ],
         "xaxis": "x",
         "y": [
          -0.12724871191123793,
          -0.5989247390137005,
          0.025862410824507444,
          -0.20951779682545654,
          0.47378609077435674,
          0.10345339085538093,
          0.014625308496688898,
          -0.2805115856432785,
          0.13704860814733838,
          0.846039170894384,
          0.014859570878367485,
          0.0346725206789817,
          -0.1593502445701965,
          -0.042193212178586424
         ],
         "yaxis": "y"
        },
        {
         "hovertemplate": "MCT_CAT_CD=문화취미<br>week=%{x}<br>elastic=%{y}<extra></extra>",
         "legendgroup": "문화취미",
         "line": {
          "color": "#19d3f3",
          "dash": "solid"
         },
         "mode": "lines",
         "name": "문화취미",
         "orientation": "v",
         "showlegend": true,
         "type": "scatter",
         "x": [
          9,
          10,
          11,
          12,
          13,
          14,
          15,
          16,
          17,
          18,
          19,
          20,
          21,
          22
         ],
         "xaxis": "x",
         "y": [
          -0.14042051873947567,
          -0.5504650927016159,
          0.004542068629646033,
          0.1720293248727577,
          0.0935842612264493,
          0.4320693065346594,
          -0.046598320424907316,
          0.1253869144126337,
          -0.02249848567884854,
          0.256201421517964,
          0.40782896825485476,
          -0.20227047467151624,
          0.18996092441665735,
          -0.04100830360537449
         ],
         "yaxis": "y"
        },
        {
         "hovertemplate": "MCT_CAT_CD=보건위생<br>week=%{x}<br>elastic=%{y}<extra></extra>",
         "legendgroup": "보건위생",
         "line": {
          "color": "#FF6692",
          "dash": "solid"
         },
         "mode": "lines",
         "name": "보건위생",
         "orientation": "v",
         "showlegend": true,
         "type": "scatter",
         "x": [
          9,
          10,
          11,
          12,
          13,
          14,
          15,
          16,
          17,
          18,
          19,
          20,
          21,
          22
         ],
         "xaxis": "x",
         "y": [
          -0.034768014056126714,
          0.3432552073712128,
          0.015017832209212737,
          0.025366238703784835,
          0.7216651003081963,
          0.0974371445340363,
          0.17590770935263797,
          -0.19464256022481138,
          -0.021498682739737804,
          0.5045425722971513,
          -0.06661023106109769,
          0.0938566830774241,
          -0.37042105310925444,
          0.03085609699711346
         ],
         "yaxis": "y"
        },
        {
         "hovertemplate": "MCT_CAT_CD=사무통신<br>week=%{x}<br>elastic=%{y}<extra></extra>",
         "legendgroup": "사무통신",
         "line": {
          "color": "#B6E880",
          "dash": "solid"
         },
         "mode": "lines",
         "name": "사무통신",
         "orientation": "v",
         "showlegend": true,
         "type": "scatter",
         "x": [
          9,
          10,
          11,
          12,
          13,
          14,
          15,
          16,
          17,
          18,
          19,
          20,
          21,
          22
         ],
         "xaxis": "x",
         "y": [
          0.28245913155069174,
          0.7836343702395001,
          -0.004997079158589536,
          0.03978159966585957,
          1.5369424923273445,
          0.40018261893509105,
          0.24914706211579898,
          0.05384954519080969,
          -0.04131984950547871,
          0.5597657595590768,
          -0.08175448903364618,
          0.06269773785964129,
          0.11663067375483469,
          0.19205259440100134
         ],
         "yaxis": "y"
        },
        {
         "hovertemplate": "MCT_CAT_CD=서적문구<br>week=%{x}<br>elastic=%{y}<extra></extra>",
         "legendgroup": "서적문구",
         "line": {
          "color": "#FF97FF",
          "dash": "solid"
         },
         "mode": "lines",
         "name": "서적문구",
         "orientation": "v",
         "showlegend": true,
         "type": "scatter",
         "x": [
          9,
          10,
          11,
          12,
          13,
          14,
          15,
          16,
          17,
          18,
          19,
          20,
          21,
          22
         ],
         "xaxis": "x",
         "y": [
          0.018058028567867566,
          0.13069023810168187,
          0.03876808105655888,
          0.12345516595855344,
          0.32491119574226474,
          0.38807069257916765,
          0.3769957926159087,
          0.06228337417489017,
          -0.24331144079171066,
          0.30450806914854356,
          -0.008704304099298527,
          -0.09488013896860029,
          -0.010764530650469114,
          0.08159407207546795
         ],
         "yaxis": "y"
        },
        {
         "hovertemplate": "MCT_CAT_CD=수리서비스<br>week=%{x}<br>elastic=%{y}<extra></extra>",
         "legendgroup": "수리서비스",
         "line": {
          "color": "#FECB52",
          "dash": "solid"
         },
         "mode": "lines",
         "name": "수리서비스",
         "orientation": "v",
         "showlegend": true,
         "type": "scatter",
         "x": [
          9,
          10,
          11,
          12,
          13,
          14,
          15,
          16,
          17,
          18,
          19,
          20,
          21,
          22
         ],
         "xaxis": "x",
         "y": [
          0.004470672077683457,
          0.22670916027826898,
          0.09664440285841557,
          0.25455912444968065,
          5.349488501819532,
          -0.3438722724083975,
          -0.014151502248384084,
          0.056767892974001935,
          -0.23316351262841914,
          -0.45723617971405894,
          0.2764744103333528,
          0.10818286408337269,
          0.4009404931010202,
          0.017398264988481814
         ],
         "yaxis": "y"
        },
        {
         "hovertemplate": "MCT_CAT_CD=숙박<br>week=%{x}<br>elastic=%{y}<extra></extra>",
         "legendgroup": "숙박",
         "line": {
          "color": "#636efa",
          "dash": "solid"
         },
         "mode": "lines",
         "name": "숙박",
         "orientation": "v",
         "showlegend": true,
         "type": "scatter",
         "x": [
          9,
          10,
          11,
          12,
          13,
          14,
          15,
          16,
          17,
          18,
          19,
          20,
          21,
          22
         ],
         "xaxis": "x",
         "y": [
          -0.13858345183796095,
          0.43240734953072213,
          0.04143885945569966,
          -0.0481924776429805,
          -2.1995185035424205,
          0.18869491909887992,
          -0.08907350499313256,
          -0.43606477072474403,
          0.03521623082529738,
          0.6248331753270536,
          0.027093763297743354,
          -0.08142209187902597,
          -0.025031246011304256,
          0.14767454274124783
         ],
         "yaxis": "y"
        },
        {
         "hovertemplate": "MCT_CAT_CD=신변잡화<br>week=%{x}<br>elastic=%{y}<extra></extra>",
         "legendgroup": "신변잡화",
         "line": {
          "color": "#EF553B",
          "dash": "solid"
         },
         "mode": "lines",
         "name": "신변잡화",
         "orientation": "v",
         "showlegend": true,
         "type": "scatter",
         "x": [
          9,
          10,
          11,
          12,
          13,
          14,
          15,
          16,
          17,
          18,
          19,
          20,
          21,
          22
         ],
         "xaxis": "x",
         "y": [
          -0.015070101650494558,
          0.3059555024991131,
          0.0227324896605172,
          -0.5257951563910407,
          -0.057571568370661845,
          -0.19897400502934218,
          0.02421582037813147,
          0.015772021179262085,
          -0.4198320851075714,
          0.19634441541606243,
          -0.026055438262891598,
          0.020876681598499435,
          -0.23572340373594788,
          0.03029965778934788
         ],
         "yaxis": "y"
        },
        {
         "hovertemplate": "MCT_CAT_CD=연료판매<br>week=%{x}<br>elastic=%{y}<extra></extra>",
         "legendgroup": "연료판매",
         "line": {
          "color": "#00cc96",
          "dash": "solid"
         },
         "mode": "lines",
         "name": "연료판매",
         "orientation": "v",
         "showlegend": true,
         "type": "scatter",
         "x": [
          9,
          10,
          11,
          12,
          13,
          14,
          15,
          16,
          17,
          18,
          19,
          20,
          21,
          22
         ],
         "xaxis": "x",
         "y": [
          -0.05277688702005409,
          0.005992664812713976,
          0.0012645431388527391,
          0.018192394486142162,
          0.05222519388001849,
          -0.02705421211500736,
          0.04996446867803747,
          0.12003495622221319,
          -0.1479018756320121,
          -0.0343125509987192,
          -0.04371556093239218,
          0.022875797684131505,
          -0.09086748403468457,
          0.029184351449359536
         ],
         "yaxis": "y"
        },
        {
         "hovertemplate": "MCT_CAT_CD=요식업소<br>week=%{x}<br>elastic=%{y}<extra></extra>",
         "legendgroup": "요식업소",
         "line": {
          "color": "#ab63fa",
          "dash": "solid"
         },
         "mode": "lines",
         "name": "요식업소",
         "orientation": "v",
         "showlegend": true,
         "type": "scatter",
         "x": [
          9,
          10,
          11,
          12,
          13,
          14,
          15,
          16,
          17,
          18,
          19,
          20,
          21,
          22
         ],
         "xaxis": "x",
         "y": [
          -0.08000183588151755,
          -0.08298610053335236,
          0.005193795775743584,
          -0.06038751715151286,
          0.5080795541127879,
          -0.011554687977180324,
          0.011984651851893303,
          -0.07208794883822832,
          -0.062139248143224204,
          0.09391665053373888,
          0.006896882141822423,
          0.02680318683617766,
          -0.10724215530592522,
          -0.0006766581800517219
         ],
         "yaxis": "y"
        },
        {
         "hovertemplate": "MCT_CAT_CD=유통업<br>week=%{x}<br>elastic=%{y}<extra></extra>",
         "legendgroup": "유통업",
         "line": {
          "color": "#FFA15A",
          "dash": "solid"
         },
         "mode": "lines",
         "name": "유통업",
         "orientation": "v",
         "showlegend": true,
         "type": "scatter",
         "x": [
          9,
          10,
          11,
          12,
          13,
          14,
          15,
          16,
          17,
          18,
          19,
          20,
          21,
          22
         ],
         "xaxis": "x",
         "y": [
          -0.036675848136408326,
          0.10986480786863646,
          0.02516105826775754,
          -0.06638474303989192,
          0.4732821741819225,
          0.0028921317475287815,
          0.009156624148835647,
          -0.15245449035275843,
          0.12281440018041581,
          0.4367067284949607,
          -0.013367595223144953,
          0.019480745765792264,
          0.06929138360962561,
          0.018776238005569913
         ],
         "yaxis": "y"
        },
        {
         "hovertemplate": "MCT_CAT_CD=음료식품<br>week=%{x}<br>elastic=%{y}<extra></extra>",
         "legendgroup": "음료식품",
         "line": {
          "color": "#19d3f3",
          "dash": "solid"
         },
         "mode": "lines",
         "name": "음료식품",
         "orientation": "v",
         "showlegend": true,
         "type": "scatter",
         "x": [
          9,
          10,
          11,
          12,
          13,
          14,
          15,
          16,
          17,
          18,
          19,
          20,
          21,
          22
         ],
         "xaxis": "x",
         "y": [
          0.08541645355848086,
          0.34575895164405024,
          0.0026945008494590164,
          0.03139962973543239,
          1.322503086286617,
          -0.09276372385163746,
          0.04950004410796673,
          0.11526699741844262,
          -0.13570702400250279,
          0.0913255621078766,
          -0.03410826458129245,
          0.12565190218728148,
          -0.26141520760527037,
          -0.012751274637796031
         ],
         "yaxis": "y"
        },
        {
         "hovertemplate": "MCT_CAT_CD=의료기관<br>week=%{x}<br>elastic=%{y}<extra></extra>",
         "legendgroup": "의료기관",
         "line": {
          "color": "#FF6692",
          "dash": "solid"
         },
         "mode": "lines",
         "name": "의료기관",
         "orientation": "v",
         "showlegend": true,
         "type": "scatter",
         "x": [
          9,
          10,
          11,
          12,
          13,
          14,
          15,
          16,
          17,
          18,
          19,
          20,
          21,
          22
         ],
         "xaxis": "x",
         "y": [
          0.2626345932938258,
          1.1639872972132244,
          -0.0013712619894229402,
          -0.010337747114002897,
          5.631790226463534,
          -0.29630080107108697,
          0.27331766914959443,
          0.06953424890890135,
          -0.40749867116260746,
          0.3269738414842332,
          -0.1546892316228661,
          0.10253637320168876,
          -0.1615080628246858,
          0.32002511364103686
         ],
         "yaxis": "y"
        },
        {
         "hovertemplate": "MCT_CAT_CD=의복<br>week=%{x}<br>elastic=%{y}<extra></extra>",
         "legendgroup": "의복",
         "line": {
          "color": "#B6E880",
          "dash": "solid"
         },
         "mode": "lines",
         "name": "의복",
         "orientation": "v",
         "showlegend": true,
         "type": "scatter",
         "x": [
          9,
          10,
          11,
          12,
          13,
          14,
          15,
          16,
          17,
          18,
          19,
          20,
          21,
          22
         ],
         "xaxis": "x",
         "y": [
          -0.19083125023739095,
          -1.324634720696404,
          -0.030455776944624927,
          -0.34976788791196595,
          0.7777331815156475,
          -0.00687303552193203,
          0.025175765773022832,
          -0.26594563348532135,
          -0.02741566801820198,
          0.6210669336384439,
          -0.002807784570804965,
          0.02791084820176592,
          -0.5521730931787715,
          -0.022935090502964543
         ],
         "yaxis": "y"
        },
        {
         "hovertemplate": "MCT_CAT_CD=자동차정비<br>week=%{x}<br>elastic=%{y}<extra></extra>",
         "legendgroup": "자동차정비",
         "line": {
          "color": "#FF97FF",
          "dash": "solid"
         },
         "mode": "lines",
         "name": "자동차정비",
         "orientation": "v",
         "showlegend": true,
         "type": "scatter",
         "x": [
          9,
          10,
          11,
          12,
          13,
          14,
          15,
          16,
          17,
          18,
          19,
          20,
          21,
          22
         ],
         "xaxis": "x",
         "y": [
          0.047839809368256186,
          0.3582949347753518,
          0.0017310437084445541,
          0.12073504048023773,
          1.2146612188537762,
          0.08213119986820291,
          0.10441752789382548,
          0.279947155089114,
          -0.2891820193706851,
          0.2793267705467195,
          -0.02563415756007482,
          0.005890587254000232,
          -0.339996451690849,
          0.09478249794809386
         ],
         "yaxis": "y"
        },
        {
         "hovertemplate": "MCT_CAT_CD=자동차판매<br>week=%{x}<br>elastic=%{y}<extra></extra>",
         "legendgroup": "자동차판매",
         "line": {
          "color": "#FECB52",
          "dash": "solid"
         },
         "mode": "lines",
         "name": "자동차판매",
         "orientation": "v",
         "showlegend": true,
         "type": "scatter",
         "x": [
          9,
          10,
          11,
          12,
          13,
          14,
          15,
          16,
          17,
          18,
          19,
          20,
          21,
          22
         ],
         "xaxis": "x",
         "y": [
          0.6569586082783443,
          -0.4905079229164328,
          -0.16378478989398135,
          -0.841381044727218,
          2.902482053283253,
          0.0026696268482509595,
          -0.7551211540281453,
          0.7360840141784469,
          -1.3712486658279024,
          -0.19414550403753275,
          -0.18230213337947004,
          0.12802951559634287,
          -0.15200293499876355,
          -0.13606090995236497
         ],
         "yaxis": "y"
        },
        {
         "hovertemplate": "MCT_CAT_CD=전기<br>week=%{x}<br>elastic=%{y}<extra></extra>",
         "legendgroup": "전기",
         "line": {
          "color": "#636efa",
          "dash": "solid"
         },
         "mode": "lines",
         "name": "전기",
         "orientation": "v",
         "showlegend": true,
         "type": "scatter",
         "x": [
          9,
          10,
          11,
          12,
          13,
          14,
          15,
          16,
          17,
          18,
          19,
          20,
          21,
          22
         ],
         "xaxis": "x",
         "y": [
          -0.16362516362516363,
          -1.3005741853375559,
          0.00839800131483859,
          -0.13750009103554756,
          2.2926500686546287,
          0.23260510726319567,
          -0.886630545947623,
          0.7920603110983871,
          -0.9200598645530319,
          -0.3657598116880177,
          -0.10815384615384616,
          0.6948802561688121,
          0.7029677307678293,
          0.0570304761959131
         ],
         "yaxis": "y"
        },
        {
         "hovertemplate": "MCT_CAT_CD=주방용구<br>week=%{x}<br>elastic=%{y}<extra></extra>",
         "legendgroup": "주방용구",
         "line": {
          "color": "#EF553B",
          "dash": "solid"
         },
         "mode": "lines",
         "name": "주방용구",
         "orientation": "v",
         "showlegend": true,
         "type": "scatter",
         "x": [
          9,
          10,
          11,
          12,
          13,
          14,
          15,
          16,
          17,
          18,
          19,
          20,
          21,
          22
         ],
         "xaxis": "x",
         "y": [
          -0.12525158223155028,
          -0.6813530254208952,
          -0.14978479586003673,
          -1.792913634647964,
          1.5164761623791767,
          -0.08376519638099858,
          -0.20959873279066954,
          0.4066826747794596,
          -0.001817777354053453,
          -0.06108526234161781,
          0.06866250888968414,
          0.1558870351627274,
          -0.08124951938324691,
          0.13213679161485167
         ],
         "yaxis": "y"
        },
        {
         "hovertemplate": "MCT_CAT_CD=직물<br>week=%{x}<br>elastic=%{y}<extra></extra>",
         "legendgroup": "직물",
         "line": {
          "color": "#00cc96",
          "dash": "solid"
         },
         "mode": "lines",
         "name": "직물",
         "orientation": "v",
         "showlegend": true,
         "type": "scatter",
         "x": [
          9,
          10,
          11,
          12,
          13,
          14,
          15,
          16,
          17,
          18,
          19,
          20,
          21,
          22
         ],
         "xaxis": "x",
         "y": [
          0.655623678844056,
          1.52285946189014,
          0.36554583391711176,
          0.7673459899964725,
          -1.480368354357468,
          1.2031595035481635,
          0.8452530576373085,
          -1.3260235135235134,
          0.34704490030908675,
          1.2369595976007692,
          -0.09143671321594819,
          0.26598916860327565,
          -0.07106190182445342,
          0.16504770394004992
         ],
         "yaxis": "y"
        }
       ],
       "layout": {
        "legend": {
         "title": {
          "text": "MCT_CAT_CD"
         },
         "tracegroupgap": 0
        },
        "margin": {
         "t": 60
        },
        "template": {
         "data": {
          "bar": [
           {
            "error_x": {
             "color": "#2a3f5f"
            },
            "error_y": {
             "color": "#2a3f5f"
            },
            "marker": {
             "line": {
              "color": "#E5ECF6",
              "width": 0.5
             }
            },
            "type": "bar"
           }
          ],
          "barpolar": [
           {
            "marker": {
             "line": {
              "color": "#E5ECF6",
              "width": 0.5
             }
            },
            "type": "barpolar"
           }
          ],
          "carpet": [
           {
            "aaxis": {
             "endlinecolor": "#2a3f5f",
             "gridcolor": "white",
             "linecolor": "white",
             "minorgridcolor": "white",
             "startlinecolor": "#2a3f5f"
            },
            "baxis": {
             "endlinecolor": "#2a3f5f",
             "gridcolor": "white",
             "linecolor": "white",
             "minorgridcolor": "white",
             "startlinecolor": "#2a3f5f"
            },
            "type": "carpet"
           }
          ],
          "choropleth": [
           {
            "colorbar": {
             "outlinewidth": 0,
             "ticks": ""
            },
            "type": "choropleth"
           }
          ],
          "contour": [
           {
            "colorbar": {
             "outlinewidth": 0,
             "ticks": ""
            },
            "colorscale": [
             [
              0,
              "#0d0887"
             ],
             [
              0.1111111111111111,
              "#46039f"
             ],
             [
              0.2222222222222222,
              "#7201a8"
             ],
             [
              0.3333333333333333,
              "#9c179e"
             ],
             [
              0.4444444444444444,
              "#bd3786"
             ],
             [
              0.5555555555555556,
              "#d8576b"
             ],
             [
              0.6666666666666666,
              "#ed7953"
             ],
             [
              0.7777777777777778,
              "#fb9f3a"
             ],
             [
              0.8888888888888888,
              "#fdca26"
             ],
             [
              1,
              "#f0f921"
             ]
            ],
            "type": "contour"
           }
          ],
          "contourcarpet": [
           {
            "colorbar": {
             "outlinewidth": 0,
             "ticks": ""
            },
            "type": "contourcarpet"
           }
          ],
          "heatmap": [
           {
            "colorbar": {
             "outlinewidth": 0,
             "ticks": ""
            },
            "colorscale": [
             [
              0,
              "#0d0887"
             ],
             [
              0.1111111111111111,
              "#46039f"
             ],
             [
              0.2222222222222222,
              "#7201a8"
             ],
             [
              0.3333333333333333,
              "#9c179e"
             ],
             [
              0.4444444444444444,
              "#bd3786"
             ],
             [
              0.5555555555555556,
              "#d8576b"
             ],
             [
              0.6666666666666666,
              "#ed7953"
             ],
             [
              0.7777777777777778,
              "#fb9f3a"
             ],
             [
              0.8888888888888888,
              "#fdca26"
             ],
             [
              1,
              "#f0f921"
             ]
            ],
            "type": "heatmap"
           }
          ],
          "heatmapgl": [
           {
            "colorbar": {
             "outlinewidth": 0,
             "ticks": ""
            },
            "colorscale": [
             [
              0,
              "#0d0887"
             ],
             [
              0.1111111111111111,
              "#46039f"
             ],
             [
              0.2222222222222222,
              "#7201a8"
             ],
             [
              0.3333333333333333,
              "#9c179e"
             ],
             [
              0.4444444444444444,
              "#bd3786"
             ],
             [
              0.5555555555555556,
              "#d8576b"
             ],
             [
              0.6666666666666666,
              "#ed7953"
             ],
             [
              0.7777777777777778,
              "#fb9f3a"
             ],
             [
              0.8888888888888888,
              "#fdca26"
             ],
             [
              1,
              "#f0f921"
             ]
            ],
            "type": "heatmapgl"
           }
          ],
          "histogram": [
           {
            "marker": {
             "colorbar": {
              "outlinewidth": 0,
              "ticks": ""
             }
            },
            "type": "histogram"
           }
          ],
          "histogram2d": [
           {
            "colorbar": {
             "outlinewidth": 0,
             "ticks": ""
            },
            "colorscale": [
             [
              0,
              "#0d0887"
             ],
             [
              0.1111111111111111,
              "#46039f"
             ],
             [
              0.2222222222222222,
              "#7201a8"
             ],
             [
              0.3333333333333333,
              "#9c179e"
             ],
             [
              0.4444444444444444,
              "#bd3786"
             ],
             [
              0.5555555555555556,
              "#d8576b"
             ],
             [
              0.6666666666666666,
              "#ed7953"
             ],
             [
              0.7777777777777778,
              "#fb9f3a"
             ],
             [
              0.8888888888888888,
              "#fdca26"
             ],
             [
              1,
              "#f0f921"
             ]
            ],
            "type": "histogram2d"
           }
          ],
          "histogram2dcontour": [
           {
            "colorbar": {
             "outlinewidth": 0,
             "ticks": ""
            },
            "colorscale": [
             [
              0,
              "#0d0887"
             ],
             [
              0.1111111111111111,
              "#46039f"
             ],
             [
              0.2222222222222222,
              "#7201a8"
             ],
             [
              0.3333333333333333,
              "#9c179e"
             ],
             [
              0.4444444444444444,
              "#bd3786"
             ],
             [
              0.5555555555555556,
              "#d8576b"
             ],
             [
              0.6666666666666666,
              "#ed7953"
             ],
             [
              0.7777777777777778,
              "#fb9f3a"
             ],
             [
              0.8888888888888888,
              "#fdca26"
             ],
             [
              1,
              "#f0f921"
             ]
            ],
            "type": "histogram2dcontour"
           }
          ],
          "mesh3d": [
           {
            "colorbar": {
             "outlinewidth": 0,
             "ticks": ""
            },
            "type": "mesh3d"
           }
          ],
          "parcoords": [
           {
            "line": {
             "colorbar": {
              "outlinewidth": 0,
              "ticks": ""
             }
            },
            "type": "parcoords"
           }
          ],
          "pie": [
           {
            "automargin": true,
            "type": "pie"
           }
          ],
          "scatter": [
           {
            "marker": {
             "colorbar": {
              "outlinewidth": 0,
              "ticks": ""
             }
            },
            "type": "scatter"
           }
          ],
          "scatter3d": [
           {
            "line": {
             "colorbar": {
              "outlinewidth": 0,
              "ticks": ""
             }
            },
            "marker": {
             "colorbar": {
              "outlinewidth": 0,
              "ticks": ""
             }
            },
            "type": "scatter3d"
           }
          ],
          "scattercarpet": [
           {
            "marker": {
             "colorbar": {
              "outlinewidth": 0,
              "ticks": ""
             }
            },
            "type": "scattercarpet"
           }
          ],
          "scattergeo": [
           {
            "marker": {
             "colorbar": {
              "outlinewidth": 0,
              "ticks": ""
             }
            },
            "type": "scattergeo"
           }
          ],
          "scattergl": [
           {
            "marker": {
             "colorbar": {
              "outlinewidth": 0,
              "ticks": ""
             }
            },
            "type": "scattergl"
           }
          ],
          "scattermapbox": [
           {
            "marker": {
             "colorbar": {
              "outlinewidth": 0,
              "ticks": ""
             }
            },
            "type": "scattermapbox"
           }
          ],
          "scatterpolar": [
           {
            "marker": {
             "colorbar": {
              "outlinewidth": 0,
              "ticks": ""
             }
            },
            "type": "scatterpolar"
           }
          ],
          "scatterpolargl": [
           {
            "marker": {
             "colorbar": {
              "outlinewidth": 0,
              "ticks": ""
             }
            },
            "type": "scatterpolargl"
           }
          ],
          "scatterternary": [
           {
            "marker": {
             "colorbar": {
              "outlinewidth": 0,
              "ticks": ""
             }
            },
            "type": "scatterternary"
           }
          ],
          "surface": [
           {
            "colorbar": {
             "outlinewidth": 0,
             "ticks": ""
            },
            "colorscale": [
             [
              0,
              "#0d0887"
             ],
             [
              0.1111111111111111,
              "#46039f"
             ],
             [
              0.2222222222222222,
              "#7201a8"
             ],
             [
              0.3333333333333333,
              "#9c179e"
             ],
             [
              0.4444444444444444,
              "#bd3786"
             ],
             [
              0.5555555555555556,
              "#d8576b"
             ],
             [
              0.6666666666666666,
              "#ed7953"
             ],
             [
              0.7777777777777778,
              "#fb9f3a"
             ],
             [
              0.8888888888888888,
              "#fdca26"
             ],
             [
              1,
              "#f0f921"
             ]
            ],
            "type": "surface"
           }
          ],
          "table": [
           {
            "cells": {
             "fill": {
              "color": "#EBF0F8"
             },
             "line": {
              "color": "white"
             }
            },
            "header": {
             "fill": {
              "color": "#C8D4E3"
             },
             "line": {
              "color": "white"
             }
            },
            "type": "table"
           }
          ]
         },
         "layout": {
          "annotationdefaults": {
           "arrowcolor": "#2a3f5f",
           "arrowhead": 0,
           "arrowwidth": 1
          },
          "coloraxis": {
           "colorbar": {
            "outlinewidth": 0,
            "ticks": ""
           }
          },
          "colorscale": {
           "diverging": [
            [
             0,
             "#8e0152"
            ],
            [
             0.1,
             "#c51b7d"
            ],
            [
             0.2,
             "#de77ae"
            ],
            [
             0.3,
             "#f1b6da"
            ],
            [
             0.4,
             "#fde0ef"
            ],
            [
             0.5,
             "#f7f7f7"
            ],
            [
             0.6,
             "#e6f5d0"
            ],
            [
             0.7,
             "#b8e186"
            ],
            [
             0.8,
             "#7fbc41"
            ],
            [
             0.9,
             "#4d9221"
            ],
            [
             1,
             "#276419"
            ]
           ],
           "sequential": [
            [
             0,
             "#0d0887"
            ],
            [
             0.1111111111111111,
             "#46039f"
            ],
            [
             0.2222222222222222,
             "#7201a8"
            ],
            [
             0.3333333333333333,
             "#9c179e"
            ],
            [
             0.4444444444444444,
             "#bd3786"
            ],
            [
             0.5555555555555556,
             "#d8576b"
            ],
            [
             0.6666666666666666,
             "#ed7953"
            ],
            [
             0.7777777777777778,
             "#fb9f3a"
            ],
            [
             0.8888888888888888,
             "#fdca26"
            ],
            [
             1,
             "#f0f921"
            ]
           ],
           "sequentialminus": [
            [
             0,
             "#0d0887"
            ],
            [
             0.1111111111111111,
             "#46039f"
            ],
            [
             0.2222222222222222,
             "#7201a8"
            ],
            [
             0.3333333333333333,
             "#9c179e"
            ],
            [
             0.4444444444444444,
             "#bd3786"
            ],
            [
             0.5555555555555556,
             "#d8576b"
            ],
            [
             0.6666666666666666,
             "#ed7953"
            ],
            [
             0.7777777777777778,
             "#fb9f3a"
            ],
            [
             0.8888888888888888,
             "#fdca26"
            ],
            [
             1,
             "#f0f921"
            ]
           ]
          },
          "colorway": [
           "#636efa",
           "#EF553B",
           "#00cc96",
           "#ab63fa",
           "#FFA15A",
           "#19d3f3",
           "#FF6692",
           "#B6E880",
           "#FF97FF",
           "#FECB52"
          ],
          "font": {
           "color": "#2a3f5f"
          },
          "geo": {
           "bgcolor": "white",
           "lakecolor": "white",
           "landcolor": "#E5ECF6",
           "showlakes": true,
           "showland": true,
           "subunitcolor": "white"
          },
          "hoverlabel": {
           "align": "left"
          },
          "hovermode": "closest",
          "mapbox": {
           "style": "light"
          },
          "paper_bgcolor": "white",
          "plot_bgcolor": "#E5ECF6",
          "polar": {
           "angularaxis": {
            "gridcolor": "white",
            "linecolor": "white",
            "ticks": ""
           },
           "bgcolor": "#E5ECF6",
           "radialaxis": {
            "gridcolor": "white",
            "linecolor": "white",
            "ticks": ""
           }
          },
          "scene": {
           "xaxis": {
            "backgroundcolor": "#E5ECF6",
            "gridcolor": "white",
            "gridwidth": 2,
            "linecolor": "white",
            "showbackground": true,
            "ticks": "",
            "zerolinecolor": "white"
           },
           "yaxis": {
            "backgroundcolor": "#E5ECF6",
            "gridcolor": "white",
            "gridwidth": 2,
            "linecolor": "white",
            "showbackground": true,
            "ticks": "",
            "zerolinecolor": "white"
           },
           "zaxis": {
            "backgroundcolor": "#E5ECF6",
            "gridcolor": "white",
            "gridwidth": 2,
            "linecolor": "white",
            "showbackground": true,
            "ticks": "",
            "zerolinecolor": "white"
           }
          },
          "shapedefaults": {
           "line": {
            "color": "#2a3f5f"
           }
          },
          "ternary": {
           "aaxis": {
            "gridcolor": "white",
            "linecolor": "white",
            "ticks": ""
           },
           "baxis": {
            "gridcolor": "white",
            "linecolor": "white",
            "ticks": ""
           },
           "bgcolor": "#E5ECF6",
           "caxis": {
            "gridcolor": "white",
            "linecolor": "white",
            "ticks": ""
           }
          },
          "title": {
           "x": 0.05
          },
          "xaxis": {
           "automargin": true,
           "gridcolor": "white",
           "linecolor": "white",
           "ticks": "",
           "title": {
            "standoff": 15
           },
           "zerolinecolor": "white",
           "zerolinewidth": 2
          },
          "yaxis": {
           "automargin": true,
           "gridcolor": "white",
           "linecolor": "white",
           "ticks": "",
           "title": {
            "standoff": 15
           },
           "zerolinecolor": "white",
           "zerolinewidth": 2
          }
         }
        },
        "xaxis": {
         "anchor": "y",
         "domain": [
          0,
          1
         ],
         "tickmode": "array",
         "ticktext": [
          "12/23",
          "12/30",
          "1/6",
          "1/13",
          "1/20",
          "1/27",
          "2/3",
          "2/10",
          "2/17",
          "2/24",
          "3/2",
          "3/9",
          "3/16",
          "3/23",
          "3/30",
          "4/6",
          "4/13",
          "4/20",
          "4/27",
          "5/4",
          "5/11",
          "5/18",
          "5/25",
          "6/1",
          "6/8",
          "6/15",
          "6/22",
          "6/29",
          "7/6",
          "7/13",
          "7/20",
          "7/27",
          "8/3",
          "8/10",
          "8/17",
          "8/24",
          "8/31",
          "9/7",
          "9/14",
          "9/21",
          "9/28",
          "10/5",
          "10/12",
          "10/19",
          "10/26",
          "11/2",
          "11/9",
          "11/16",
          "11/23",
          "11/30",
          "12/7",
          "12/14"
         ],
         "tickvals": [
          0,
          1,
          2,
          3,
          4,
          5,
          6,
          7,
          8,
          9,
          10,
          11,
          12,
          13,
          14,
          15,
          16,
          17,
          18,
          19,
          20,
          21,
          22,
          23,
          24,
          25,
          26,
          27,
          28,
          29,
          30,
          31,
          32,
          33,
          34,
          35,
          36,
          37,
          38,
          39,
          40,
          41,
          42,
          43,
          44,
          45,
          46,
          47,
          48,
          49,
          50,
          51
         ],
         "title": {
          "text": "week"
         }
        },
        "yaxis": {
         "anchor": "x",
         "domain": [
          0,
          1
         ],
         "title": {
          "text": "elastic"
         }
        }
       }
      },
      "text/html": [
       "<div>\n",
       "        \n",
       "        \n",
       "            <div id=\"80c10dbf-049a-477d-81cd-ea725bc5bcc1\" class=\"plotly-graph-div\" style=\"height:525px; width:100%;\"></div>\n",
       "            <script type=\"text/javascript\">\n",
       "                require([\"plotly\"], function(Plotly) {\n",
       "                    window.PLOTLYENV=window.PLOTLYENV || {};\n",
       "                    \n",
       "                if (document.getElementById(\"80c10dbf-049a-477d-81cd-ea725bc5bcc1\")) {\n",
       "                    Plotly.newPlot(\n",
       "                        '80c10dbf-049a-477d-81cd-ea725bc5bcc1',\n",
       "                        [{\"hovertemplate\": \"MCT_CAT_CD=\\uac00\\uad6c<br>week=%{x}<br>elastic=%{y}<extra></extra>\", \"legendgroup\": \"\\uac00\\uad6c\", \"line\": {\"color\": \"#636efa\", \"dash\": \"solid\"}, \"mode\": \"lines\", \"name\": \"\\uac00\\uad6c\", \"orientation\": \"v\", \"showlegend\": true, \"type\": \"scatter\", \"x\": [9, 10, 11, 12, 13, 14, 15, 16, 17, 18, 19, 20, 21, 22], \"xaxis\": \"x\", \"y\": [-0.07019395035674807, -1.3748388813298098, -0.05186612145785296, 0.5780386298069302, 0.9751341454168811, 0.4806953407753378, 0.620200010553198, -1.5631753756973645, -0.07644684378080134, -0.230819949614234, -0.0348872363676517, 0.43744947283594987, -0.42037732173616893, -0.1274789034939434], \"yaxis\": \"y\"}, {\"hovertemplate\": \"MCT_CAT_CD=\\uac00\\uc804<br>week=%{x}<br>elastic=%{y}<extra></extra>\", \"legendgroup\": \"\\uac00\\uc804\", \"line\": {\"color\": \"#EF553B\", \"dash\": \"solid\"}, \"mode\": \"lines\", \"name\": \"\\uac00\\uc804\", \"orientation\": \"v\", \"showlegend\": true, \"type\": \"scatter\", \"x\": [9, 10, 11, 12, 13, 14, 15, 16, 17, 18, 19, 20, 21, 22], \"xaxis\": \"x\", \"y\": [0.07369499180930174, -0.23124543066586375, -0.09003314566428151, -0.08290035132581144, 2.045702620010643, 0.09372813565191179, 0.09395201978427689, 0.2676360399866494, 0.1618229826695431, 1.0035174608403084, -0.05239053540428271, 0.09930311716211292, -0.09221534494457824, -0.0898864217211462], \"yaxis\": \"y\"}, {\"hovertemplate\": \"MCT_CAT_CD=\\uad11\\ud559\\uc81c\\ud488<br>week=%{x}<br>elastic=%{y}<extra></extra>\", \"legendgroup\": \"\\uad11\\ud559\\uc81c\\ud488\", \"line\": {\"color\": \"#00cc96\", \"dash\": \"solid\"}, \"mode\": \"lines\", \"name\": \"\\uad11\\ud559\\uc81c\\ud488\", \"orientation\": \"v\", \"showlegend\": true, \"type\": \"scatter\", \"x\": [9, 10, 11, 12, 13, 14, 15, 16, 17, 18, 19, 20, 21, 22], \"xaxis\": \"x\", \"y\": [0.04078763724469489, -0.7182171525243572, -0.14020640689141883, -0.3696373392838168, -2.6956164368031112, 2.755483938994685, 0.48913791555701847, -0.08474350787569178, -0.09855222837771044, -0.8134115099672061, 0.29714054648123217, -0.10893529007719673, -0.01144198822098709, 0.12361092212092348], \"yaxis\": \"y\"}, {\"hovertemplate\": \"MCT_CAT_CD=\\ub808\\uc800\\uc5c5\\uc18c<br>week=%{x}<br>elastic=%{y}<extra></extra>\", \"legendgroup\": \"\\ub808\\uc800\\uc5c5\\uc18c\", \"line\": {\"color\": \"#ab63fa\", \"dash\": \"solid\"}, \"mode\": \"lines\", \"name\": \"\\ub808\\uc800\\uc5c5\\uc18c\", \"orientation\": \"v\", \"showlegend\": true, \"type\": \"scatter\", \"x\": [9, 10, 11, 12, 13, 14, 15, 16, 17, 18, 19, 20, 21, 22], \"xaxis\": \"x\", \"y\": [-0.12176773869085171, 0.05044155939545242, -0.00338468277282645, -0.17733836268873776, -2.5704323002124356, -0.03244847733930883, -0.3840778759637883, -0.0513937301787469, -0.3925906022898932, 0.013244722622689501, 0.04750171583126987, -0.01887416255592377, -0.18237208981237163, 0.042037309010817585], \"yaxis\": \"y\"}, {\"hovertemplate\": \"MCT_CAT_CD=\\ub808\\uc800\\uc6a9\\ud488<br>week=%{x}<br>elastic=%{y}<extra></extra>\", \"legendgroup\": \"\\ub808\\uc800\\uc6a9\\ud488\", \"line\": {\"color\": \"#FFA15A\", \"dash\": \"solid\"}, \"mode\": \"lines\", \"name\": \"\\ub808\\uc800\\uc6a9\\ud488\", \"orientation\": \"v\", \"showlegend\": true, \"type\": \"scatter\", \"x\": [9, 10, 11, 12, 13, 14, 15, 16, 17, 18, 19, 20, 21, 22], \"xaxis\": \"x\", \"y\": [-0.12724871191123793, -0.5989247390137005, 0.025862410824507444, -0.20951779682545654, 0.47378609077435674, 0.10345339085538093, 0.014625308496688898, -0.2805115856432785, 0.13704860814733838, 0.846039170894384, 0.014859570878367485, 0.0346725206789817, -0.1593502445701965, -0.042193212178586424], \"yaxis\": \"y\"}, {\"hovertemplate\": \"MCT_CAT_CD=\\ubb38\\ud654\\ucde8\\ubbf8<br>week=%{x}<br>elastic=%{y}<extra></extra>\", \"legendgroup\": \"\\ubb38\\ud654\\ucde8\\ubbf8\", \"line\": {\"color\": \"#19d3f3\", \"dash\": \"solid\"}, \"mode\": \"lines\", \"name\": \"\\ubb38\\ud654\\ucde8\\ubbf8\", \"orientation\": \"v\", \"showlegend\": true, \"type\": \"scatter\", \"x\": [9, 10, 11, 12, 13, 14, 15, 16, 17, 18, 19, 20, 21, 22], \"xaxis\": \"x\", \"y\": [-0.14042051873947567, -0.5504650927016159, 0.004542068629646033, 0.1720293248727577, 0.0935842612264493, 0.4320693065346594, -0.046598320424907316, 0.1253869144126337, -0.02249848567884854, 0.256201421517964, 0.40782896825485476, -0.20227047467151624, 0.18996092441665735, -0.04100830360537449], \"yaxis\": \"y\"}, {\"hovertemplate\": \"MCT_CAT_CD=\\ubcf4\\uac74\\uc704\\uc0dd<br>week=%{x}<br>elastic=%{y}<extra></extra>\", \"legendgroup\": \"\\ubcf4\\uac74\\uc704\\uc0dd\", \"line\": {\"color\": \"#FF6692\", \"dash\": \"solid\"}, \"mode\": \"lines\", \"name\": \"\\ubcf4\\uac74\\uc704\\uc0dd\", \"orientation\": \"v\", \"showlegend\": true, \"type\": \"scatter\", \"x\": [9, 10, 11, 12, 13, 14, 15, 16, 17, 18, 19, 20, 21, 22], \"xaxis\": \"x\", \"y\": [-0.034768014056126714, 0.3432552073712128, 0.015017832209212737, 0.025366238703784835, 0.7216651003081963, 0.0974371445340363, 0.17590770935263797, -0.19464256022481138, -0.021498682739737804, 0.5045425722971513, -0.06661023106109769, 0.0938566830774241, -0.37042105310925444, 0.03085609699711346], \"yaxis\": \"y\"}, {\"hovertemplate\": \"MCT_CAT_CD=\\uc0ac\\ubb34\\ud1b5\\uc2e0<br>week=%{x}<br>elastic=%{y}<extra></extra>\", \"legendgroup\": \"\\uc0ac\\ubb34\\ud1b5\\uc2e0\", \"line\": {\"color\": \"#B6E880\", \"dash\": \"solid\"}, \"mode\": \"lines\", \"name\": \"\\uc0ac\\ubb34\\ud1b5\\uc2e0\", \"orientation\": \"v\", \"showlegend\": true, \"type\": \"scatter\", \"x\": [9, 10, 11, 12, 13, 14, 15, 16, 17, 18, 19, 20, 21, 22], \"xaxis\": \"x\", \"y\": [0.28245913155069174, 0.7836343702395001, -0.004997079158589536, 0.03978159966585957, 1.5369424923273445, 0.40018261893509105, 0.24914706211579898, 0.05384954519080969, -0.04131984950547871, 0.5597657595590768, -0.08175448903364618, 0.06269773785964129, 0.11663067375483469, 0.19205259440100134], \"yaxis\": \"y\"}, {\"hovertemplate\": \"MCT_CAT_CD=\\uc11c\\uc801\\ubb38\\uad6c<br>week=%{x}<br>elastic=%{y}<extra></extra>\", \"legendgroup\": \"\\uc11c\\uc801\\ubb38\\uad6c\", \"line\": {\"color\": \"#FF97FF\", \"dash\": \"solid\"}, \"mode\": \"lines\", \"name\": \"\\uc11c\\uc801\\ubb38\\uad6c\", \"orientation\": \"v\", \"showlegend\": true, \"type\": \"scatter\", \"x\": [9, 10, 11, 12, 13, 14, 15, 16, 17, 18, 19, 20, 21, 22], \"xaxis\": \"x\", \"y\": [0.018058028567867566, 0.13069023810168187, 0.03876808105655888, 0.12345516595855344, 0.32491119574226474, 0.38807069257916765, 0.3769957926159087, 0.06228337417489017, -0.24331144079171066, 0.30450806914854356, -0.008704304099298527, -0.09488013896860029, -0.010764530650469114, 0.08159407207546795], \"yaxis\": \"y\"}, {\"hovertemplate\": \"MCT_CAT_CD=\\uc218\\ub9ac\\uc11c\\ube44\\uc2a4<br>week=%{x}<br>elastic=%{y}<extra></extra>\", \"legendgroup\": \"\\uc218\\ub9ac\\uc11c\\ube44\\uc2a4\", \"line\": {\"color\": \"#FECB52\", \"dash\": \"solid\"}, \"mode\": \"lines\", \"name\": \"\\uc218\\ub9ac\\uc11c\\ube44\\uc2a4\", \"orientation\": \"v\", \"showlegend\": true, \"type\": \"scatter\", \"x\": [9, 10, 11, 12, 13, 14, 15, 16, 17, 18, 19, 20, 21, 22], \"xaxis\": \"x\", \"y\": [0.004470672077683457, 0.22670916027826898, 0.09664440285841557, 0.25455912444968065, 5.349488501819532, -0.3438722724083975, -0.014151502248384084, 0.056767892974001935, -0.23316351262841914, -0.45723617971405894, 0.2764744103333528, 0.10818286408337269, 0.4009404931010202, 0.017398264988481814], \"yaxis\": \"y\"}, {\"hovertemplate\": \"MCT_CAT_CD=\\uc219\\ubc15<br>week=%{x}<br>elastic=%{y}<extra></extra>\", \"legendgroup\": \"\\uc219\\ubc15\", \"line\": {\"color\": \"#636efa\", \"dash\": \"solid\"}, \"mode\": \"lines\", \"name\": \"\\uc219\\ubc15\", \"orientation\": \"v\", \"showlegend\": true, \"type\": \"scatter\", \"x\": [9, 10, 11, 12, 13, 14, 15, 16, 17, 18, 19, 20, 21, 22], \"xaxis\": \"x\", \"y\": [-0.13858345183796095, 0.43240734953072213, 0.04143885945569966, -0.0481924776429805, -2.1995185035424205, 0.18869491909887992, -0.08907350499313256, -0.43606477072474403, 0.03521623082529738, 0.6248331753270536, 0.027093763297743354, -0.08142209187902597, -0.025031246011304256, 0.14767454274124783], \"yaxis\": \"y\"}, {\"hovertemplate\": \"MCT_CAT_CD=\\uc2e0\\ubcc0\\uc7a1\\ud654<br>week=%{x}<br>elastic=%{y}<extra></extra>\", \"legendgroup\": \"\\uc2e0\\ubcc0\\uc7a1\\ud654\", \"line\": {\"color\": \"#EF553B\", \"dash\": \"solid\"}, \"mode\": \"lines\", \"name\": \"\\uc2e0\\ubcc0\\uc7a1\\ud654\", \"orientation\": \"v\", \"showlegend\": true, \"type\": \"scatter\", \"x\": [9, 10, 11, 12, 13, 14, 15, 16, 17, 18, 19, 20, 21, 22], \"xaxis\": \"x\", \"y\": [-0.015070101650494558, 0.3059555024991131, 0.0227324896605172, -0.5257951563910407, -0.057571568370661845, -0.19897400502934218, 0.02421582037813147, 0.015772021179262085, -0.4198320851075714, 0.19634441541606243, -0.026055438262891598, 0.020876681598499435, -0.23572340373594788, 0.03029965778934788], \"yaxis\": \"y\"}, {\"hovertemplate\": \"MCT_CAT_CD=\\uc5f0\\ub8cc\\ud310\\ub9e4<br>week=%{x}<br>elastic=%{y}<extra></extra>\", \"legendgroup\": \"\\uc5f0\\ub8cc\\ud310\\ub9e4\", \"line\": {\"color\": \"#00cc96\", \"dash\": \"solid\"}, \"mode\": \"lines\", \"name\": \"\\uc5f0\\ub8cc\\ud310\\ub9e4\", \"orientation\": \"v\", \"showlegend\": true, \"type\": \"scatter\", \"x\": [9, 10, 11, 12, 13, 14, 15, 16, 17, 18, 19, 20, 21, 22], \"xaxis\": \"x\", \"y\": [-0.05277688702005409, 0.005992664812713976, 0.0012645431388527391, 0.018192394486142162, 0.05222519388001849, -0.02705421211500736, 0.04996446867803747, 0.12003495622221319, -0.1479018756320121, -0.0343125509987192, -0.04371556093239218, 0.022875797684131505, -0.09086748403468457, 0.029184351449359536], \"yaxis\": \"y\"}, {\"hovertemplate\": \"MCT_CAT_CD=\\uc694\\uc2dd\\uc5c5\\uc18c<br>week=%{x}<br>elastic=%{y}<extra></extra>\", \"legendgroup\": \"\\uc694\\uc2dd\\uc5c5\\uc18c\", \"line\": {\"color\": \"#ab63fa\", \"dash\": \"solid\"}, \"mode\": \"lines\", \"name\": \"\\uc694\\uc2dd\\uc5c5\\uc18c\", \"orientation\": \"v\", \"showlegend\": true, \"type\": \"scatter\", \"x\": [9, 10, 11, 12, 13, 14, 15, 16, 17, 18, 19, 20, 21, 22], \"xaxis\": \"x\", \"y\": [-0.08000183588151755, -0.08298610053335236, 0.005193795775743584, -0.06038751715151286, 0.5080795541127879, -0.011554687977180324, 0.011984651851893303, -0.07208794883822832, -0.062139248143224204, 0.09391665053373888, 0.006896882141822423, 0.02680318683617766, -0.10724215530592522, -0.0006766581800517219], \"yaxis\": \"y\"}, {\"hovertemplate\": \"MCT_CAT_CD=\\uc720\\ud1b5\\uc5c5<br>week=%{x}<br>elastic=%{y}<extra></extra>\", \"legendgroup\": \"\\uc720\\ud1b5\\uc5c5\", \"line\": {\"color\": \"#FFA15A\", \"dash\": \"solid\"}, \"mode\": \"lines\", \"name\": \"\\uc720\\ud1b5\\uc5c5\", \"orientation\": \"v\", \"showlegend\": true, \"type\": \"scatter\", \"x\": [9, 10, 11, 12, 13, 14, 15, 16, 17, 18, 19, 20, 21, 22], \"xaxis\": \"x\", \"y\": [-0.036675848136408326, 0.10986480786863646, 0.02516105826775754, -0.06638474303989192, 0.4732821741819225, 0.0028921317475287815, 0.009156624148835647, -0.15245449035275843, 0.12281440018041581, 0.4367067284949607, -0.013367595223144953, 0.019480745765792264, 0.06929138360962561, 0.018776238005569913], \"yaxis\": \"y\"}, {\"hovertemplate\": \"MCT_CAT_CD=\\uc74c\\ub8cc\\uc2dd\\ud488<br>week=%{x}<br>elastic=%{y}<extra></extra>\", \"legendgroup\": \"\\uc74c\\ub8cc\\uc2dd\\ud488\", \"line\": {\"color\": \"#19d3f3\", \"dash\": \"solid\"}, \"mode\": \"lines\", \"name\": \"\\uc74c\\ub8cc\\uc2dd\\ud488\", \"orientation\": \"v\", \"showlegend\": true, \"type\": \"scatter\", \"x\": [9, 10, 11, 12, 13, 14, 15, 16, 17, 18, 19, 20, 21, 22], \"xaxis\": \"x\", \"y\": [0.08541645355848086, 0.34575895164405024, 0.0026945008494590164, 0.03139962973543239, 1.322503086286617, -0.09276372385163746, 0.04950004410796673, 0.11526699741844262, -0.13570702400250279, 0.0913255621078766, -0.03410826458129245, 0.12565190218728148, -0.26141520760527037, -0.012751274637796031], \"yaxis\": \"y\"}, {\"hovertemplate\": \"MCT_CAT_CD=\\uc758\\ub8cc\\uae30\\uad00<br>week=%{x}<br>elastic=%{y}<extra></extra>\", \"legendgroup\": \"\\uc758\\ub8cc\\uae30\\uad00\", \"line\": {\"color\": \"#FF6692\", \"dash\": \"solid\"}, \"mode\": \"lines\", \"name\": \"\\uc758\\ub8cc\\uae30\\uad00\", \"orientation\": \"v\", \"showlegend\": true, \"type\": \"scatter\", \"x\": [9, 10, 11, 12, 13, 14, 15, 16, 17, 18, 19, 20, 21, 22], \"xaxis\": \"x\", \"y\": [0.2626345932938258, 1.1639872972132244, -0.0013712619894229402, -0.010337747114002897, 5.631790226463534, -0.29630080107108697, 0.27331766914959443, 0.06953424890890135, -0.40749867116260746, 0.3269738414842332, -0.1546892316228661, 0.10253637320168876, -0.1615080628246858, 0.32002511364103686], \"yaxis\": \"y\"}, {\"hovertemplate\": \"MCT_CAT_CD=\\uc758\\ubcf5<br>week=%{x}<br>elastic=%{y}<extra></extra>\", \"legendgroup\": \"\\uc758\\ubcf5\", \"line\": {\"color\": \"#B6E880\", \"dash\": \"solid\"}, \"mode\": \"lines\", \"name\": \"\\uc758\\ubcf5\", \"orientation\": \"v\", \"showlegend\": true, \"type\": \"scatter\", \"x\": [9, 10, 11, 12, 13, 14, 15, 16, 17, 18, 19, 20, 21, 22], \"xaxis\": \"x\", \"y\": [-0.19083125023739095, -1.324634720696404, -0.030455776944624927, -0.34976788791196595, 0.7777331815156475, -0.00687303552193203, 0.025175765773022832, -0.26594563348532135, -0.02741566801820198, 0.6210669336384439, -0.002807784570804965, 0.02791084820176592, -0.5521730931787715, -0.022935090502964543], \"yaxis\": \"y\"}, {\"hovertemplate\": \"MCT_CAT_CD=\\uc790\\ub3d9\\ucc28\\uc815\\ube44<br>week=%{x}<br>elastic=%{y}<extra></extra>\", \"legendgroup\": \"\\uc790\\ub3d9\\ucc28\\uc815\\ube44\", \"line\": {\"color\": \"#FF97FF\", \"dash\": \"solid\"}, \"mode\": \"lines\", \"name\": \"\\uc790\\ub3d9\\ucc28\\uc815\\ube44\", \"orientation\": \"v\", \"showlegend\": true, \"type\": \"scatter\", \"x\": [9, 10, 11, 12, 13, 14, 15, 16, 17, 18, 19, 20, 21, 22], \"xaxis\": \"x\", \"y\": [0.047839809368256186, 0.3582949347753518, 0.0017310437084445541, 0.12073504048023773, 1.2146612188537762, 0.08213119986820291, 0.10441752789382548, 0.279947155089114, -0.2891820193706851, 0.2793267705467195, -0.02563415756007482, 0.005890587254000232, -0.339996451690849, 0.09478249794809386], \"yaxis\": \"y\"}, {\"hovertemplate\": \"MCT_CAT_CD=\\uc790\\ub3d9\\ucc28\\ud310\\ub9e4<br>week=%{x}<br>elastic=%{y}<extra></extra>\", \"legendgroup\": \"\\uc790\\ub3d9\\ucc28\\ud310\\ub9e4\", \"line\": {\"color\": \"#FECB52\", \"dash\": \"solid\"}, \"mode\": \"lines\", \"name\": \"\\uc790\\ub3d9\\ucc28\\ud310\\ub9e4\", \"orientation\": \"v\", \"showlegend\": true, \"type\": \"scatter\", \"x\": [9, 10, 11, 12, 13, 14, 15, 16, 17, 18, 19, 20, 21, 22], \"xaxis\": \"x\", \"y\": [0.6569586082783443, -0.4905079229164328, -0.16378478989398135, -0.841381044727218, 2.902482053283253, 0.0026696268482509595, -0.7551211540281453, 0.7360840141784469, -1.3712486658279024, -0.19414550403753275, -0.18230213337947004, 0.12802951559634287, -0.15200293499876355, -0.13606090995236497], \"yaxis\": \"y\"}, {\"hovertemplate\": \"MCT_CAT_CD=\\uc804\\uae30<br>week=%{x}<br>elastic=%{y}<extra></extra>\", \"legendgroup\": \"\\uc804\\uae30\", \"line\": {\"color\": \"#636efa\", \"dash\": \"solid\"}, \"mode\": \"lines\", \"name\": \"\\uc804\\uae30\", \"orientation\": \"v\", \"showlegend\": true, \"type\": \"scatter\", \"x\": [9, 10, 11, 12, 13, 14, 15, 16, 17, 18, 19, 20, 21, 22], \"xaxis\": \"x\", \"y\": [-0.16362516362516363, -1.3005741853375559, 0.00839800131483859, -0.13750009103554756, 2.2926500686546287, 0.23260510726319567, -0.886630545947623, 0.7920603110983871, -0.9200598645530319, -0.3657598116880177, -0.10815384615384616, 0.6948802561688121, 0.7029677307678293, 0.0570304761959131], \"yaxis\": \"y\"}, {\"hovertemplate\": \"MCT_CAT_CD=\\uc8fc\\ubc29\\uc6a9\\uad6c<br>week=%{x}<br>elastic=%{y}<extra></extra>\", \"legendgroup\": \"\\uc8fc\\ubc29\\uc6a9\\uad6c\", \"line\": {\"color\": \"#EF553B\", \"dash\": \"solid\"}, \"mode\": \"lines\", \"name\": \"\\uc8fc\\ubc29\\uc6a9\\uad6c\", \"orientation\": \"v\", \"showlegend\": true, \"type\": \"scatter\", \"x\": [9, 10, 11, 12, 13, 14, 15, 16, 17, 18, 19, 20, 21, 22], \"xaxis\": \"x\", \"y\": [-0.12525158223155028, -0.6813530254208952, -0.14978479586003673, -1.792913634647964, 1.5164761623791767, -0.08376519638099858, -0.20959873279066954, 0.4066826747794596, -0.001817777354053453, -0.06108526234161781, 0.06866250888968414, 0.1558870351627274, -0.08124951938324691, 0.13213679161485167], \"yaxis\": \"y\"}, {\"hovertemplate\": \"MCT_CAT_CD=\\uc9c1\\ubb3c<br>week=%{x}<br>elastic=%{y}<extra></extra>\", \"legendgroup\": \"\\uc9c1\\ubb3c\", \"line\": {\"color\": \"#00cc96\", \"dash\": \"solid\"}, \"mode\": \"lines\", \"name\": \"\\uc9c1\\ubb3c\", \"orientation\": \"v\", \"showlegend\": true, \"type\": \"scatter\", \"x\": [9, 10, 11, 12, 13, 14, 15, 16, 17, 18, 19, 20, 21, 22], \"xaxis\": \"x\", \"y\": [0.655623678844056, 1.52285946189014, 0.36554583391711176, 0.7673459899964725, -1.480368354357468, 1.2031595035481635, 0.8452530576373085, -1.3260235135235134, 0.34704490030908675, 1.2369595976007692, -0.09143671321594819, 0.26598916860327565, -0.07106190182445342, 0.16504770394004992], \"yaxis\": \"y\"}],\n",
       "                        {\"legend\": {\"title\": {\"text\": \"MCT_CAT_CD\"}, \"tracegroupgap\": 0}, \"margin\": {\"t\": 60}, \"template\": {\"data\": {\"bar\": [{\"error_x\": {\"color\": \"#2a3f5f\"}, \"error_y\": {\"color\": \"#2a3f5f\"}, \"marker\": {\"line\": {\"color\": \"#E5ECF6\", \"width\": 0.5}}, \"type\": \"bar\"}], \"barpolar\": [{\"marker\": {\"line\": {\"color\": \"#E5ECF6\", \"width\": 0.5}}, \"type\": \"barpolar\"}], \"carpet\": [{\"aaxis\": {\"endlinecolor\": \"#2a3f5f\", \"gridcolor\": \"white\", \"linecolor\": \"white\", \"minorgridcolor\": \"white\", \"startlinecolor\": \"#2a3f5f\"}, \"baxis\": {\"endlinecolor\": \"#2a3f5f\", \"gridcolor\": \"white\", \"linecolor\": \"white\", \"minorgridcolor\": \"white\", \"startlinecolor\": \"#2a3f5f\"}, \"type\": \"carpet\"}], \"choropleth\": [{\"colorbar\": {\"outlinewidth\": 0, \"ticks\": \"\"}, \"type\": \"choropleth\"}], \"contour\": [{\"colorbar\": {\"outlinewidth\": 0, \"ticks\": \"\"}, \"colorscale\": [[0.0, \"#0d0887\"], [0.1111111111111111, \"#46039f\"], [0.2222222222222222, \"#7201a8\"], [0.3333333333333333, \"#9c179e\"], [0.4444444444444444, \"#bd3786\"], [0.5555555555555556, \"#d8576b\"], [0.6666666666666666, \"#ed7953\"], [0.7777777777777778, \"#fb9f3a\"], [0.8888888888888888, \"#fdca26\"], [1.0, \"#f0f921\"]], \"type\": \"contour\"}], \"contourcarpet\": [{\"colorbar\": {\"outlinewidth\": 0, \"ticks\": \"\"}, \"type\": \"contourcarpet\"}], \"heatmap\": [{\"colorbar\": {\"outlinewidth\": 0, \"ticks\": \"\"}, \"colorscale\": [[0.0, \"#0d0887\"], [0.1111111111111111, \"#46039f\"], [0.2222222222222222, \"#7201a8\"], [0.3333333333333333, \"#9c179e\"], [0.4444444444444444, \"#bd3786\"], [0.5555555555555556, \"#d8576b\"], [0.6666666666666666, \"#ed7953\"], [0.7777777777777778, \"#fb9f3a\"], [0.8888888888888888, \"#fdca26\"], [1.0, \"#f0f921\"]], \"type\": \"heatmap\"}], \"heatmapgl\": [{\"colorbar\": {\"outlinewidth\": 0, \"ticks\": \"\"}, \"colorscale\": [[0.0, \"#0d0887\"], [0.1111111111111111, \"#46039f\"], [0.2222222222222222, \"#7201a8\"], [0.3333333333333333, \"#9c179e\"], [0.4444444444444444, \"#bd3786\"], [0.5555555555555556, \"#d8576b\"], [0.6666666666666666, \"#ed7953\"], [0.7777777777777778, \"#fb9f3a\"], [0.8888888888888888, \"#fdca26\"], [1.0, \"#f0f921\"]], \"type\": \"heatmapgl\"}], \"histogram\": [{\"marker\": {\"colorbar\": {\"outlinewidth\": 0, \"ticks\": \"\"}}, \"type\": \"histogram\"}], \"histogram2d\": [{\"colorbar\": {\"outlinewidth\": 0, \"ticks\": \"\"}, \"colorscale\": [[0.0, \"#0d0887\"], [0.1111111111111111, \"#46039f\"], [0.2222222222222222, \"#7201a8\"], [0.3333333333333333, \"#9c179e\"], [0.4444444444444444, \"#bd3786\"], [0.5555555555555556, \"#d8576b\"], [0.6666666666666666, \"#ed7953\"], [0.7777777777777778, \"#fb9f3a\"], [0.8888888888888888, \"#fdca26\"], [1.0, \"#f0f921\"]], \"type\": \"histogram2d\"}], \"histogram2dcontour\": [{\"colorbar\": {\"outlinewidth\": 0, \"ticks\": \"\"}, \"colorscale\": [[0.0, \"#0d0887\"], [0.1111111111111111, \"#46039f\"], [0.2222222222222222, \"#7201a8\"], [0.3333333333333333, \"#9c179e\"], [0.4444444444444444, \"#bd3786\"], [0.5555555555555556, \"#d8576b\"], [0.6666666666666666, \"#ed7953\"], [0.7777777777777778, \"#fb9f3a\"], [0.8888888888888888, \"#fdca26\"], [1.0, \"#f0f921\"]], \"type\": \"histogram2dcontour\"}], \"mesh3d\": [{\"colorbar\": {\"outlinewidth\": 0, \"ticks\": \"\"}, \"type\": \"mesh3d\"}], \"parcoords\": [{\"line\": {\"colorbar\": {\"outlinewidth\": 0, \"ticks\": \"\"}}, \"type\": \"parcoords\"}], \"pie\": [{\"automargin\": true, \"type\": \"pie\"}], \"scatter\": [{\"marker\": {\"colorbar\": {\"outlinewidth\": 0, \"ticks\": \"\"}}, \"type\": \"scatter\"}], \"scatter3d\": [{\"line\": {\"colorbar\": {\"outlinewidth\": 0, \"ticks\": \"\"}}, \"marker\": {\"colorbar\": {\"outlinewidth\": 0, \"ticks\": \"\"}}, \"type\": \"scatter3d\"}], \"scattercarpet\": [{\"marker\": {\"colorbar\": {\"outlinewidth\": 0, \"ticks\": \"\"}}, \"type\": \"scattercarpet\"}], \"scattergeo\": [{\"marker\": {\"colorbar\": {\"outlinewidth\": 0, \"ticks\": \"\"}}, \"type\": \"scattergeo\"}], \"scattergl\": [{\"marker\": {\"colorbar\": {\"outlinewidth\": 0, \"ticks\": \"\"}}, \"type\": \"scattergl\"}], \"scattermapbox\": [{\"marker\": {\"colorbar\": {\"outlinewidth\": 0, \"ticks\": \"\"}}, \"type\": \"scattermapbox\"}], \"scatterpolar\": [{\"marker\": {\"colorbar\": {\"outlinewidth\": 0, \"ticks\": \"\"}}, \"type\": \"scatterpolar\"}], \"scatterpolargl\": [{\"marker\": {\"colorbar\": {\"outlinewidth\": 0, \"ticks\": \"\"}}, \"type\": \"scatterpolargl\"}], \"scatterternary\": [{\"marker\": {\"colorbar\": {\"outlinewidth\": 0, \"ticks\": \"\"}}, \"type\": \"scatterternary\"}], \"surface\": [{\"colorbar\": {\"outlinewidth\": 0, \"ticks\": \"\"}, \"colorscale\": [[0.0, \"#0d0887\"], [0.1111111111111111, \"#46039f\"], [0.2222222222222222, \"#7201a8\"], [0.3333333333333333, \"#9c179e\"], [0.4444444444444444, \"#bd3786\"], [0.5555555555555556, \"#d8576b\"], [0.6666666666666666, \"#ed7953\"], [0.7777777777777778, \"#fb9f3a\"], [0.8888888888888888, \"#fdca26\"], [1.0, \"#f0f921\"]], \"type\": \"surface\"}], \"table\": [{\"cells\": {\"fill\": {\"color\": \"#EBF0F8\"}, \"line\": {\"color\": \"white\"}}, \"header\": {\"fill\": {\"color\": \"#C8D4E3\"}, \"line\": {\"color\": \"white\"}}, \"type\": \"table\"}]}, \"layout\": {\"annotationdefaults\": {\"arrowcolor\": \"#2a3f5f\", \"arrowhead\": 0, \"arrowwidth\": 1}, \"coloraxis\": {\"colorbar\": {\"outlinewidth\": 0, \"ticks\": \"\"}}, \"colorscale\": {\"diverging\": [[0, \"#8e0152\"], [0.1, \"#c51b7d\"], [0.2, \"#de77ae\"], [0.3, \"#f1b6da\"], [0.4, \"#fde0ef\"], [0.5, \"#f7f7f7\"], [0.6, \"#e6f5d0\"], [0.7, \"#b8e186\"], [0.8, \"#7fbc41\"], [0.9, \"#4d9221\"], [1, \"#276419\"]], \"sequential\": [[0.0, \"#0d0887\"], [0.1111111111111111, \"#46039f\"], [0.2222222222222222, \"#7201a8\"], [0.3333333333333333, \"#9c179e\"], [0.4444444444444444, \"#bd3786\"], [0.5555555555555556, \"#d8576b\"], [0.6666666666666666, \"#ed7953\"], [0.7777777777777778, \"#fb9f3a\"], [0.8888888888888888, \"#fdca26\"], [1.0, \"#f0f921\"]], \"sequentialminus\": [[0.0, \"#0d0887\"], [0.1111111111111111, \"#46039f\"], [0.2222222222222222, \"#7201a8\"], [0.3333333333333333, \"#9c179e\"], [0.4444444444444444, \"#bd3786\"], [0.5555555555555556, \"#d8576b\"], [0.6666666666666666, \"#ed7953\"], [0.7777777777777778, \"#fb9f3a\"], [0.8888888888888888, \"#fdca26\"], [1.0, \"#f0f921\"]]}, \"colorway\": [\"#636efa\", \"#EF553B\", \"#00cc96\", \"#ab63fa\", \"#FFA15A\", \"#19d3f3\", \"#FF6692\", \"#B6E880\", \"#FF97FF\", \"#FECB52\"], \"font\": {\"color\": \"#2a3f5f\"}, \"geo\": {\"bgcolor\": \"white\", \"lakecolor\": \"white\", \"landcolor\": \"#E5ECF6\", \"showlakes\": true, \"showland\": true, \"subunitcolor\": \"white\"}, \"hoverlabel\": {\"align\": \"left\"}, \"hovermode\": \"closest\", \"mapbox\": {\"style\": \"light\"}, \"paper_bgcolor\": \"white\", \"plot_bgcolor\": \"#E5ECF6\", \"polar\": {\"angularaxis\": {\"gridcolor\": \"white\", \"linecolor\": \"white\", \"ticks\": \"\"}, \"bgcolor\": \"#E5ECF6\", \"radialaxis\": {\"gridcolor\": \"white\", \"linecolor\": \"white\", \"ticks\": \"\"}}, \"scene\": {\"xaxis\": {\"backgroundcolor\": \"#E5ECF6\", \"gridcolor\": \"white\", \"gridwidth\": 2, \"linecolor\": \"white\", \"showbackground\": true, \"ticks\": \"\", \"zerolinecolor\": \"white\"}, \"yaxis\": {\"backgroundcolor\": \"#E5ECF6\", \"gridcolor\": \"white\", \"gridwidth\": 2, \"linecolor\": \"white\", \"showbackground\": true, \"ticks\": \"\", \"zerolinecolor\": \"white\"}, \"zaxis\": {\"backgroundcolor\": \"#E5ECF6\", \"gridcolor\": \"white\", \"gridwidth\": 2, \"linecolor\": \"white\", \"showbackground\": true, \"ticks\": \"\", \"zerolinecolor\": \"white\"}}, \"shapedefaults\": {\"line\": {\"color\": \"#2a3f5f\"}}, \"ternary\": {\"aaxis\": {\"gridcolor\": \"white\", \"linecolor\": \"white\", \"ticks\": \"\"}, \"baxis\": {\"gridcolor\": \"white\", \"linecolor\": \"white\", \"ticks\": \"\"}, \"bgcolor\": \"#E5ECF6\", \"caxis\": {\"gridcolor\": \"white\", \"linecolor\": \"white\", \"ticks\": \"\"}}, \"title\": {\"x\": 0.05}, \"xaxis\": {\"automargin\": true, \"gridcolor\": \"white\", \"linecolor\": \"white\", \"ticks\": \"\", \"title\": {\"standoff\": 15}, \"zerolinecolor\": \"white\", \"zerolinewidth\": 2}, \"yaxis\": {\"automargin\": true, \"gridcolor\": \"white\", \"linecolor\": \"white\", \"ticks\": \"\", \"title\": {\"standoff\": 15}, \"zerolinecolor\": \"white\", \"zerolinewidth\": 2}}}, \"xaxis\": {\"anchor\": \"y\", \"domain\": [0.0, 1.0], \"tickmode\": \"array\", \"ticktext\": [\"12/23\", \"12/30\", \"1/6\", \"1/13\", \"1/20\", \"1/27\", \"2/3\", \"2/10\", \"2/17\", \"2/24\", \"3/2\", \"3/9\", \"3/16\", \"3/23\", \"3/30\", \"4/6\", \"4/13\", \"4/20\", \"4/27\", \"5/4\", \"5/11\", \"5/18\", \"5/25\", \"6/1\", \"6/8\", \"6/15\", \"6/22\", \"6/29\", \"7/6\", \"7/13\", \"7/20\", \"7/27\", \"8/3\", \"8/10\", \"8/17\", \"8/24\", \"8/31\", \"9/7\", \"9/14\", \"9/21\", \"9/28\", \"10/5\", \"10/12\", \"10/19\", \"10/26\", \"11/2\", \"11/9\", \"11/16\", \"11/23\", \"11/30\", \"12/7\", \"12/14\"], \"tickvals\": [0, 1, 2, 3, 4, 5, 6, 7, 8, 9, 10, 11, 12, 13, 14, 15, 16, 17, 18, 19, 20, 21, 22, 23, 24, 25, 26, 27, 28, 29, 30, 31, 32, 33, 34, 35, 36, 37, 38, 39, 40, 41, 42, 43, 44, 45, 46, 47, 48, 49, 50, 51], \"title\": {\"text\": \"week\"}}, \"yaxis\": {\"anchor\": \"x\", \"domain\": [0.0, 1.0], \"title\": {\"text\": \"elastic\"}}},\n",
       "                        {\"responsive\": true}\n",
       "                    ).then(function(){\n",
       "                            \n",
       "var gd = document.getElementById('80c10dbf-049a-477d-81cd-ea725bc5bcc1');\n",
       "var x = new MutationObserver(function (mutations, observer) {{\n",
       "        var display = window.getComputedStyle(gd).display;\n",
       "        if (!display || display === 'none') {{\n",
       "            console.log([gd, 'removed!']);\n",
       "            Plotly.purge(gd);\n",
       "            observer.disconnect();\n",
       "        }}\n",
       "}});\n",
       "\n",
       "// Listen for the removal of the full notebook cells\n",
       "var notebookContainer = gd.closest('#notebook-container');\n",
       "if (notebookContainer) {{\n",
       "    x.observe(notebookContainer, {childList: true});\n",
       "}}\n",
       "\n",
       "// Listen for the clearing of the current output cell\n",
       "var outputEl = gd.closest('.output');\n",
       "if (outputEl) {{\n",
       "    x.observe(outputEl, {childList: true});\n",
       "}}\n",
       "\n",
       "                        })\n",
       "                };\n",
       "                });\n",
       "            </script>\n",
       "        </div>"
      ]
     },
     "metadata": {},
     "output_type": "display_data"
    }
   ],
   "source": [
    "fig = px.line(seoul_df, x=\"week\", y=\"elastic\", color='MCT_CAT_CD')\n",
    "fig.update_layout(xaxis=dict(tickmode='array', tickvals=np.arange(0, len(test2)), ticktext=test2))\n",
    "fig.show()"
   ]
  },
  {
   "cell_type": "markdown",
   "metadata": {},
   "source": [
    "## 대구"
   ]
  },
  {
   "cell_type": "code",
   "execution_count": 454,
   "metadata": {},
   "outputs": [
    {
     "data": {
      "application/vnd.plotly.v1+json": {
       "config": {
        "plotlyServerURL": "https://plot.ly"
       },
       "data": [
        {
         "hovertemplate": "MCT_CAT_CD=가구<br>week=%{x}<br>elastic=%{y}<extra></extra>",
         "legendgroup": "가구",
         "line": {
          "color": "#636efa",
          "dash": "solid"
         },
         "mode": "lines",
         "name": "가구",
         "orientation": "v",
         "showlegend": true,
         "type": "scatter",
         "x": [
          9,
          10,
          11,
          12,
          13,
          14,
          15,
          16,
          17,
          18,
          19,
          20,
          21,
          22
         ],
         "xaxis": "x",
         "y": [
          -0.09754317925435588,
          0.5711943628463774,
          -0.12146995435260083,
          -0.009357986737130276,
          -1.3963461555650716,
          0.7439424898018648,
          -0.05642461708422017,
          -0.7995527923211169,
          -4.415912874781214,
          0.5137654915264598,
          0.17432638645107212,
          0.2734339744067683,
          0.4290819989889786,
          0.12191580039236023
         ],
         "yaxis": "y"
        },
        {
         "hovertemplate": "MCT_CAT_CD=가전<br>week=%{x}<br>elastic=%{y}<extra></extra>",
         "legendgroup": "가전",
         "line": {
          "color": "#EF553B",
          "dash": "solid"
         },
         "mode": "lines",
         "name": "가전",
         "orientation": "v",
         "showlegend": true,
         "type": "scatter",
         "x": [
          9,
          10,
          11,
          12,
          13,
          14,
          15,
          16,
          17,
          18,
          19,
          20,
          21,
          22
         ],
         "xaxis": "x",
         "y": [
          -0.08983664632087149,
          1.739781902876552,
          -0.5726364244293776,
          -1.8502870364614596,
          0.15568297019994437,
          1.0039278299414036,
          -0.1161628307119289,
          -0.11123013747545082,
          -3.699297212289622,
          -1.8914133171687029,
          0.6135747907553994,
          -0.13386984525531506,
          -0.5635848750951343,
          -0.15720144807846487
         ],
         "yaxis": "y"
        },
        {
         "hovertemplate": "MCT_CAT_CD=광학제품<br>week=%{x}<br>elastic=%{y}<extra></extra>",
         "legendgroup": "광학제품",
         "line": {
          "color": "#00cc96",
          "dash": "solid"
         },
         "mode": "lines",
         "name": "광학제품",
         "orientation": "v",
         "showlegend": true,
         "type": "scatter",
         "x": [
          9,
          10,
          11,
          12,
          13,
          14,
          15,
          16,
          17,
          18,
          19,
          20,
          21,
          22
         ],
         "xaxis": "x",
         "y": [
          -0.07037720510099214,
          0.006682750044320803,
          -0.2580382667395544,
          0.31304603019082683,
          -2.0090515883950713,
          0.5674928495340664,
          -0.24567614251439698,
          -0.4988285359089605,
          -1.6697166505196934,
          1.0409917175455436,
          -0.6796056338028169,
          0.37237453482749194,
          0.2511258342512797,
          0.1134279655010437
         ],
         "yaxis": "y"
        },
        {
         "hovertemplate": "MCT_CAT_CD=레저업소<br>week=%{x}<br>elastic=%{y}<extra></extra>",
         "legendgroup": "레저업소",
         "line": {
          "color": "#ab63fa",
          "dash": "solid"
         },
         "mode": "lines",
         "name": "레저업소",
         "orientation": "v",
         "showlegend": true,
         "type": "scatter",
         "x": [
          9,
          10,
          11,
          12,
          13,
          14,
          15,
          16,
          17,
          18,
          19,
          20,
          21,
          22
         ],
         "xaxis": "x",
         "y": [
          -0.0966981634074501,
          2.14502461425494,
          -0.2562978900961767,
          -0.6808670565852899,
          0.6347688599651226,
          -0.7531253347309146,
          -0.23444686083578511,
          -0.16323360247154328,
          -2.8552289150912635,
          -0.4722744059789479,
          -0.38865542714090123,
          -0.020116214482707492,
          -0.004530465167067045,
          0.011404733029526456
         ],
         "yaxis": "y"
        },
        {
         "hovertemplate": "MCT_CAT_CD=레저용품<br>week=%{x}<br>elastic=%{y}<extra></extra>",
         "legendgroup": "레저용품",
         "line": {
          "color": "#FFA15A",
          "dash": "solid"
         },
         "mode": "lines",
         "name": "레저용품",
         "orientation": "v",
         "showlegend": true,
         "type": "scatter",
         "x": [
          9,
          10,
          11,
          12,
          13,
          14,
          15,
          16,
          17,
          18,
          19,
          20,
          21,
          22
         ],
         "xaxis": "x",
         "y": [
          -0.06183415354190609,
          5.438871451228047,
          -0.5906679503084682,
          0.026785948787921853,
          -0.8412929879411153,
          -0.42593275047112067,
          0.12185469897534004,
          -0.3500692054900445,
          0.567118141671703,
          -1.2029751807362243,
          -0.24204089052439381,
          0.4816120772527036,
          0.09524722648706471,
          -0.013344143265672272
         ],
         "yaxis": "y"
        },
        {
         "hovertemplate": "MCT_CAT_CD=문화취미<br>week=%{x}<br>elastic=%{y}<extra></extra>",
         "legendgroup": "문화취미",
         "line": {
          "color": "#19d3f3",
          "dash": "solid"
         },
         "mode": "lines",
         "name": "문화취미",
         "orientation": "v",
         "showlegend": true,
         "type": "scatter",
         "x": [
          9,
          10,
          11,
          12,
          13,
          14,
          15,
          16,
          17,
          18,
          19,
          20,
          21,
          22
         ],
         "xaxis": "x",
         "y": [
          -0.06483605810790141,
          -0.05509125651997577,
          -0.3941369707206668,
          -0.6571677682238696,
          0.11168632841572411,
          -0.2504463103200874,
          0.02567326806561485,
          0.15207782757939783,
          -0.5363145980831286,
          -0.7477311773052847,
          -1.0403733999056273,
          -0.23657373569949755,
          0.313648219711329,
          0.04300083325441376
         ],
         "yaxis": "y"
        },
        {
         "hovertemplate": "MCT_CAT_CD=보건위생<br>week=%{x}<br>elastic=%{y}<extra></extra>",
         "legendgroup": "보건위생",
         "line": {
          "color": "#FF6692",
          "dash": "solid"
         },
         "mode": "lines",
         "name": "보건위생",
         "orientation": "v",
         "showlegend": true,
         "type": "scatter",
         "x": [
          9,
          10,
          11,
          12,
          13,
          14,
          15,
          16,
          17,
          18,
          19,
          20,
          21,
          22
         ],
         "xaxis": "x",
         "y": [
          -0.05018804575590125,
          0.2191855650072992,
          -0.7535038745330135,
          -0.04229623152644126,
          -0.11089780030538628,
          -0.22749197886889722,
          -0.03208437546505878,
          -0.0810133964276193,
          -1.3509565679272306,
          -0.31467487335955746,
          0.02647437842291625,
          0.3336478220737771,
          -0.16161990389702433,
          -0.020544143138309955
         ],
         "yaxis": "y"
        },
        {
         "hovertemplate": "MCT_CAT_CD=사무통신<br>week=%{x}<br>elastic=%{y}<extra></extra>",
         "legendgroup": "사무통신",
         "line": {
          "color": "#B6E880",
          "dash": "solid"
         },
         "mode": "lines",
         "name": "사무통신",
         "orientation": "v",
         "showlegend": true,
         "type": "scatter",
         "x": [
          9,
          10,
          11,
          12,
          13,
          14,
          15,
          16,
          17,
          18,
          19,
          20,
          21,
          22
         ],
         "xaxis": "x",
         "y": [
          -0.0693927398092283,
          0.38015942075497483,
          -0.25629738382054207,
          -0.18749983337885115,
          -0.2187780191357449,
          -0.39979509335072827,
          -0.07380264881203526,
          -0.10952569295690623,
          -0.8097124143157989,
          -0.3749016516428811,
          -0.07436786898453009,
          0.12214474372749314,
          -0.0727694375212816,
          -0.007951151767338962
         ],
         "yaxis": "y"
        },
        {
         "hovertemplate": "MCT_CAT_CD=서적문구<br>week=%{x}<br>elastic=%{y}<extra></extra>",
         "legendgroup": "서적문구",
         "line": {
          "color": "#FF97FF",
          "dash": "solid"
         },
         "mode": "lines",
         "name": "서적문구",
         "orientation": "v",
         "showlegend": true,
         "type": "scatter",
         "x": [
          9,
          10,
          11,
          12,
          13,
          14,
          15,
          16,
          17,
          18,
          19,
          20,
          21,
          22
         ],
         "xaxis": "x",
         "y": [
          -0.029946702855136887,
          -1.2793573001930512,
          -0.049963178742639835,
          -0.06733478708705405,
          -0.37613261083575467,
          -0.7829406194510774,
          0.08781237622648033,
          -0.0342231886091043,
          1.2116623737851695,
          -0.81248262440923,
          -0.03285303500965494,
          0.14074127610586118,
          -0.2544863154329251,
          0.037516926990726035
         ],
         "yaxis": "y"
        },
        {
         "hovertemplate": "MCT_CAT_CD=수리서비스<br>week=%{x}<br>elastic=%{y}<extra></extra>",
         "legendgroup": "수리서비스",
         "line": {
          "color": "#FECB52",
          "dash": "solid"
         },
         "mode": "lines",
         "name": "수리서비스",
         "orientation": "v",
         "showlegend": true,
         "type": "scatter",
         "x": [
          9,
          10,
          11,
          12,
          13,
          14,
          15,
          16,
          17,
          18,
          19,
          20,
          21,
          22
         ],
         "xaxis": "x",
         "y": [
          -0.04871369634429737,
          4.118347324962671,
          -0.7134216725472199,
          0.18895965704818218,
          -0.5992390332844951,
          0.5804446166832778,
          -0.405355102487638,
          0.4097809772172703,
          -0.7715035620547431,
          0.3380253902448007,
          -0.44603880826480935,
          0.39704874007199586,
          0.004781006071118821,
          -0.09889344988207363
         ],
         "yaxis": "y"
        },
        {
         "hovertemplate": "MCT_CAT_CD=숙박<br>week=%{x}<br>elastic=%{y}<extra></extra>",
         "legendgroup": "숙박",
         "line": {
          "color": "#636efa",
          "dash": "solid"
         },
         "mode": "lines",
         "name": "숙박",
         "orientation": "v",
         "showlegend": true,
         "type": "scatter",
         "x": [
          9,
          10,
          11,
          12,
          13,
          14,
          15,
          16,
          17,
          18,
          19,
          20,
          21,
          22
         ],
         "xaxis": "x",
         "y": [
          -0.07662035349672665,
          1.3509160258844708,
          -0.9308795255512323,
          -0.35223490120324785,
          0.6592407550588293,
          -1.4707405056807004,
          0.572682841772462,
          -0.7405271135062311,
          1.5664521177995974,
          -3.1571222398614522,
          0.23750411904472848,
          0.3990793244689356,
          -0.0013733651081350206,
          -0.10248778728653535
         ],
         "yaxis": "y"
        },
        {
         "hovertemplate": "MCT_CAT_CD=신변잡화<br>week=%{x}<br>elastic=%{y}<extra></extra>",
         "legendgroup": "신변잡화",
         "line": {
          "color": "#EF553B",
          "dash": "solid"
         },
         "mode": "lines",
         "name": "신변잡화",
         "orientation": "v",
         "showlegend": true,
         "type": "scatter",
         "x": [
          9,
          10,
          11,
          12,
          13,
          14,
          15,
          16,
          17,
          18,
          19,
          20,
          21,
          22
         ],
         "xaxis": "x",
         "y": [
          -0.041908083115814995,
          7.699348265507712,
          0.5260251435519833,
          -0.751724357295652,
          -1.4180310238565852,
          -0.36842800222677874,
          0.044541878010282344,
          0.342951783137139,
          -1.6257607862585095,
          -1.4761426918771574,
          -0.20369452245455968,
          0.09038071718579022,
          -0.059245855383122645,
          -0.07275129436792849
         ],
         "yaxis": "y"
        },
        {
         "hovertemplate": "MCT_CAT_CD=연료판매<br>week=%{x}<br>elastic=%{y}<extra></extra>",
         "legendgroup": "연료판매",
         "line": {
          "color": "#00cc96",
          "dash": "solid"
         },
         "mode": "lines",
         "name": "연료판매",
         "orientation": "v",
         "showlegend": true,
         "type": "scatter",
         "x": [
          9,
          10,
          11,
          12,
          13,
          14,
          15,
          16,
          17,
          18,
          19,
          20,
          21,
          22
         ],
         "xaxis": "x",
         "y": [
          -0.027827932415142684,
          -0.4055838123611433,
          -0.09492710600255352,
          -0.09506579805759337,
          -0.15492738347602017,
          -0.3202015042459269,
          0.17453908760944667,
          -0.02213553304943063,
          -0.578927798070824,
          -0.07585511165134846,
          0.00963885325488006,
          0.043438233724183,
          -0.020049835092529743,
          0.03690270627601952
         ],
         "yaxis": "y"
        },
        {
         "hovertemplate": "MCT_CAT_CD=요식업소<br>week=%{x}<br>elastic=%{y}<extra></extra>",
         "legendgroup": "요식업소",
         "line": {
          "color": "#ab63fa",
          "dash": "solid"
         },
         "mode": "lines",
         "name": "요식업소",
         "orientation": "v",
         "showlegend": true,
         "type": "scatter",
         "x": [
          9,
          10,
          11,
          12,
          13,
          14,
          15,
          16,
          17,
          18,
          19,
          20,
          21,
          22
         ],
         "xaxis": "x",
         "y": [
          -0.0689649827709425,
          1.6211235896824316,
          -0.3284305834703868,
          -0.41342871180139784,
          -0.12352571833302921,
          -0.42716131807074054,
          -0.07622355077095803,
          -0.20143890972677433,
          -0.48347685939009244,
          -0.6528248595804466,
          -0.17224900280541036,
          0.0446654425042576,
          -0.12354763002951027,
          -0.024320170632366928
         ],
         "yaxis": "y"
        },
        {
         "hovertemplate": "MCT_CAT_CD=유통업<br>week=%{x}<br>elastic=%{y}<extra></extra>",
         "legendgroup": "유통업",
         "line": {
          "color": "#FFA15A",
          "dash": "solid"
         },
         "mode": "lines",
         "name": "유통업",
         "orientation": "v",
         "showlegend": true,
         "type": "scatter",
         "x": [
          9,
          10,
          11,
          12,
          13,
          14,
          15,
          16,
          17,
          18,
          19,
          20,
          21,
          22
         ],
         "xaxis": "x",
         "y": [
          -0.0201646802924617,
          -0.8482107391934779,
          -0.09553442507532126,
          0.05414581783054988,
          -0.2932533140632702,
          0.12581366987169443,
          -0.028515384788766435,
          -0.08410609136163097,
          0.1798333683955163,
          -0.6883175447325202,
          0.04051650324229893,
          0.1194859730750247,
          0.1410914483374569,
          0.03153689977633669
         ],
         "yaxis": "y"
        },
        {
         "hovertemplate": "MCT_CAT_CD=음료식품<br>week=%{x}<br>elastic=%{y}<extra></extra>",
         "legendgroup": "음료식품",
         "line": {
          "color": "#19d3f3",
          "dash": "solid"
         },
         "mode": "lines",
         "name": "음료식품",
         "orientation": "v",
         "showlegend": true,
         "type": "scatter",
         "x": [
          9,
          10,
          11,
          12,
          13,
          14,
          15,
          16,
          17,
          18,
          19,
          20,
          21,
          22
         ],
         "xaxis": "x",
         "y": [
          -0.0034329449525683574,
          -0.43157890628876133,
          -0.015474719349312056,
          0.07282361860198436,
          -0.05148858676387519,
          -0.11113216691645068,
          0.08456259695157493,
          -0.08313750649915444,
          0.3846744623669623,
          0.0477536682593842,
          -0.17060939530826608,
          0.175471246294187,
          -0.3683266665642698,
          -0.06271013910352997
         ],
         "yaxis": "y"
        },
        {
         "hovertemplate": "MCT_CAT_CD=의료기관<br>week=%{x}<br>elastic=%{y}<extra></extra>",
         "legendgroup": "의료기관",
         "line": {
          "color": "#FF6692",
          "dash": "solid"
         },
         "mode": "lines",
         "name": "의료기관",
         "orientation": "v",
         "showlegend": true,
         "type": "scatter",
         "x": [
          9,
          10,
          11,
          12,
          13,
          14,
          15,
          16,
          17,
          18,
          19,
          20,
          21,
          22
         ],
         "xaxis": "x",
         "y": [
          -0.04689177193863762,
          -1.3732490837498397,
          -0.27422978448425955,
          -0.12195265225388181,
          -0.3951416142270006,
          0.3642780977089065,
          -0.13329984649543666,
          -0.22294739856550108,
          -0.055991129598404375,
          0.11723282323590176,
          -0.043801378643978976,
          0.2907376845448238,
          0.028535923234200636,
          0.029633811825518976
         ],
         "yaxis": "y"
        },
        {
         "hovertemplate": "MCT_CAT_CD=의복<br>week=%{x}<br>elastic=%{y}<extra></extra>",
         "legendgroup": "의복",
         "line": {
          "color": "#B6E880",
          "dash": "solid"
         },
         "mode": "lines",
         "name": "의복",
         "orientation": "v",
         "showlegend": true,
         "type": "scatter",
         "x": [
          9,
          10,
          11,
          12,
          13,
          14,
          15,
          16,
          17,
          18,
          19,
          20,
          21,
          22
         ],
         "xaxis": "x",
         "y": [
          -0.07749020541368681,
          1.859059831552634,
          -0.6406734275755819,
          -0.09089739757675684,
          -0.8348043382904698,
          -0.2643430235389755,
          -0.01988738738543026,
          -0.45871776305741135,
          -0.18072742369271314,
          -0.8973137312771038,
          -0.19287948558576887,
          0.48897338276365954,
          -0.3352414865357763,
          -0.09454073973857341
         ],
         "yaxis": "y"
        },
        {
         "hovertemplate": "MCT_CAT_CD=자동차정비<br>week=%{x}<br>elastic=%{y}<extra></extra>",
         "legendgroup": "자동차정비",
         "line": {
          "color": "#FF97FF",
          "dash": "solid"
         },
         "mode": "lines",
         "name": "자동차정비",
         "orientation": "v",
         "showlegend": true,
         "type": "scatter",
         "x": [
          9,
          10,
          11,
          12,
          13,
          14,
          15,
          16,
          17,
          18,
          19,
          20,
          21,
          22
         ],
         "xaxis": "x",
         "y": [
          -0.030659343684467027,
          -0.5889002051647407,
          -0.03619980633368975,
          -0.5597645323240726,
          -0.44832676733303034,
          0.42252773705378815,
          0.09511507759421006,
          -0.17158277032347935,
          -0.5692396437593502,
          -0.33813885164059726,
          0.1630979320203955,
          0.1783636612408953,
          -0.2996091915564316,
          -0.0009055197572175637
         ],
         "yaxis": "y"
        },
        {
         "hovertemplate": "MCT_CAT_CD=자동차판매<br>week=%{x}<br>elastic=%{y}<extra></extra>",
         "legendgroup": "자동차판매",
         "line": {
          "color": "#FECB52",
          "dash": "solid"
         },
         "mode": "lines",
         "name": "자동차판매",
         "orientation": "v",
         "showlegend": true,
         "type": "scatter",
         "x": [
          9,
          10,
          11,
          12,
          13,
          14,
          15,
          16,
          17,
          18,
          19,
          20,
          21,
          22
         ],
         "xaxis": "x",
         "y": [
          -0.052178474139198974,
          -4.420501849003173,
          -2.9049757110550263,
          -0.01668775265763761,
          -1.5525635461453677,
          1.4085092645789883,
          0.4805164071036187,
          -0.7080064011864138,
          -5.793718146747916,
          1.5357787539519403,
          0.3728944111256899,
          2.078229421386153,
          0.6941384485599937,
          0.04484003448280359
         ],
         "yaxis": "y"
        },
        {
         "hovertemplate": "MCT_CAT_CD=전기<br>week=%{x}<br>elastic=%{y}<extra></extra>",
         "legendgroup": "전기",
         "line": {
          "color": "#636efa",
          "dash": "solid"
         },
         "mode": "lines",
         "name": "전기",
         "orientation": "v",
         "showlegend": true,
         "type": "scatter",
         "x": [
          9,
          10,
          11,
          12,
          13,
          14,
          15,
          16,
          17,
          18,
          19,
          20,
          21,
          22
         ],
         "xaxis": "x",
         "y": [
          -0.024779459116236646,
          -99.57143788620496,
          0.13633408823262977,
          1.021105531081072,
          -3.1302445302445303,
          -1.7027110690851515,
          0.9128409668329639,
          -0.8125923819354477,
          -6.237495368655058,
          -2.1115688105307484,
          2.601139430284858,
          -0.2828357682264098,
          -0.36815844277274856,
          -0.008043395639705629
         ],
         "yaxis": "y"
        },
        {
         "hovertemplate": "MCT_CAT_CD=주방용구<br>week=%{x}<br>elastic=%{y}<extra></extra>",
         "legendgroup": "주방용구",
         "line": {
          "color": "#EF553B",
          "dash": "solid"
         },
         "mode": "lines",
         "name": "주방용구",
         "orientation": "v",
         "showlegend": true,
         "type": "scatter",
         "x": [
          9,
          10,
          11,
          12,
          13,
          14,
          15,
          16,
          17,
          18,
          19,
          20,
          21,
          22
         ],
         "xaxis": "x",
         "y": [
          -0.13249926682410654,
          36.44157316721951,
          -2.7975168550105862,
          0.5076149705736557,
          -2.114995874189213,
          0.6355130699764736,
          0.1313861197359613,
          -0.09147204529370136,
          0.5966489319463194,
          0.09370334139937189,
          -0.40416865047876,
          0.478204902521674,
          -1.1585497835497836,
          0.018600967763453845
         ],
         "yaxis": "y"
        },
        {
         "hovertemplate": "MCT_CAT_CD=직물<br>week=%{x}<br>elastic=%{y}<extra></extra>",
         "legendgroup": "직물",
         "line": {
          "color": "#00cc96",
          "dash": "solid"
         },
         "mode": "lines",
         "name": "직물",
         "orientation": "v",
         "showlegend": true,
         "type": "scatter",
         "x": [
          9,
          10,
          11,
          12,
          13,
          14,
          15,
          16,
          17,
          18,
          19,
          20,
          21,
          22
         ],
         "xaxis": "x",
         "y": [
          -0.11017330034358469,
          3.855889350214763,
          -0.4296464554156418,
          -0.8794285040748974,
          0.03393857407819176,
          -0.06243654588885424,
          0.13383097590113197,
          -1.8777049689843175,
          2.169103184918508,
          0.054266348945840176,
          -1.073727067988555,
          0.8756570850455787,
          -0.6969296443269567,
          -0.1880433508098963
         ],
         "yaxis": "y"
        }
       ],
       "layout": {
        "legend": {
         "title": {
          "text": "MCT_CAT_CD"
         },
         "tracegroupgap": 0
        },
        "margin": {
         "t": 60
        },
        "template": {
         "data": {
          "bar": [
           {
            "error_x": {
             "color": "#2a3f5f"
            },
            "error_y": {
             "color": "#2a3f5f"
            },
            "marker": {
             "line": {
              "color": "#E5ECF6",
              "width": 0.5
             }
            },
            "type": "bar"
           }
          ],
          "barpolar": [
           {
            "marker": {
             "line": {
              "color": "#E5ECF6",
              "width": 0.5
             }
            },
            "type": "barpolar"
           }
          ],
          "carpet": [
           {
            "aaxis": {
             "endlinecolor": "#2a3f5f",
             "gridcolor": "white",
             "linecolor": "white",
             "minorgridcolor": "white",
             "startlinecolor": "#2a3f5f"
            },
            "baxis": {
             "endlinecolor": "#2a3f5f",
             "gridcolor": "white",
             "linecolor": "white",
             "minorgridcolor": "white",
             "startlinecolor": "#2a3f5f"
            },
            "type": "carpet"
           }
          ],
          "choropleth": [
           {
            "colorbar": {
             "outlinewidth": 0,
             "ticks": ""
            },
            "type": "choropleth"
           }
          ],
          "contour": [
           {
            "colorbar": {
             "outlinewidth": 0,
             "ticks": ""
            },
            "colorscale": [
             [
              0,
              "#0d0887"
             ],
             [
              0.1111111111111111,
              "#46039f"
             ],
             [
              0.2222222222222222,
              "#7201a8"
             ],
             [
              0.3333333333333333,
              "#9c179e"
             ],
             [
              0.4444444444444444,
              "#bd3786"
             ],
             [
              0.5555555555555556,
              "#d8576b"
             ],
             [
              0.6666666666666666,
              "#ed7953"
             ],
             [
              0.7777777777777778,
              "#fb9f3a"
             ],
             [
              0.8888888888888888,
              "#fdca26"
             ],
             [
              1,
              "#f0f921"
             ]
            ],
            "type": "contour"
           }
          ],
          "contourcarpet": [
           {
            "colorbar": {
             "outlinewidth": 0,
             "ticks": ""
            },
            "type": "contourcarpet"
           }
          ],
          "heatmap": [
           {
            "colorbar": {
             "outlinewidth": 0,
             "ticks": ""
            },
            "colorscale": [
             [
              0,
              "#0d0887"
             ],
             [
              0.1111111111111111,
              "#46039f"
             ],
             [
              0.2222222222222222,
              "#7201a8"
             ],
             [
              0.3333333333333333,
              "#9c179e"
             ],
             [
              0.4444444444444444,
              "#bd3786"
             ],
             [
              0.5555555555555556,
              "#d8576b"
             ],
             [
              0.6666666666666666,
              "#ed7953"
             ],
             [
              0.7777777777777778,
              "#fb9f3a"
             ],
             [
              0.8888888888888888,
              "#fdca26"
             ],
             [
              1,
              "#f0f921"
             ]
            ],
            "type": "heatmap"
           }
          ],
          "heatmapgl": [
           {
            "colorbar": {
             "outlinewidth": 0,
             "ticks": ""
            },
            "colorscale": [
             [
              0,
              "#0d0887"
             ],
             [
              0.1111111111111111,
              "#46039f"
             ],
             [
              0.2222222222222222,
              "#7201a8"
             ],
             [
              0.3333333333333333,
              "#9c179e"
             ],
             [
              0.4444444444444444,
              "#bd3786"
             ],
             [
              0.5555555555555556,
              "#d8576b"
             ],
             [
              0.6666666666666666,
              "#ed7953"
             ],
             [
              0.7777777777777778,
              "#fb9f3a"
             ],
             [
              0.8888888888888888,
              "#fdca26"
             ],
             [
              1,
              "#f0f921"
             ]
            ],
            "type": "heatmapgl"
           }
          ],
          "histogram": [
           {
            "marker": {
             "colorbar": {
              "outlinewidth": 0,
              "ticks": ""
             }
            },
            "type": "histogram"
           }
          ],
          "histogram2d": [
           {
            "colorbar": {
             "outlinewidth": 0,
             "ticks": ""
            },
            "colorscale": [
             [
              0,
              "#0d0887"
             ],
             [
              0.1111111111111111,
              "#46039f"
             ],
             [
              0.2222222222222222,
              "#7201a8"
             ],
             [
              0.3333333333333333,
              "#9c179e"
             ],
             [
              0.4444444444444444,
              "#bd3786"
             ],
             [
              0.5555555555555556,
              "#d8576b"
             ],
             [
              0.6666666666666666,
              "#ed7953"
             ],
             [
              0.7777777777777778,
              "#fb9f3a"
             ],
             [
              0.8888888888888888,
              "#fdca26"
             ],
             [
              1,
              "#f0f921"
             ]
            ],
            "type": "histogram2d"
           }
          ],
          "histogram2dcontour": [
           {
            "colorbar": {
             "outlinewidth": 0,
             "ticks": ""
            },
            "colorscale": [
             [
              0,
              "#0d0887"
             ],
             [
              0.1111111111111111,
              "#46039f"
             ],
             [
              0.2222222222222222,
              "#7201a8"
             ],
             [
              0.3333333333333333,
              "#9c179e"
             ],
             [
              0.4444444444444444,
              "#bd3786"
             ],
             [
              0.5555555555555556,
              "#d8576b"
             ],
             [
              0.6666666666666666,
              "#ed7953"
             ],
             [
              0.7777777777777778,
              "#fb9f3a"
             ],
             [
              0.8888888888888888,
              "#fdca26"
             ],
             [
              1,
              "#f0f921"
             ]
            ],
            "type": "histogram2dcontour"
           }
          ],
          "mesh3d": [
           {
            "colorbar": {
             "outlinewidth": 0,
             "ticks": ""
            },
            "type": "mesh3d"
           }
          ],
          "parcoords": [
           {
            "line": {
             "colorbar": {
              "outlinewidth": 0,
              "ticks": ""
             }
            },
            "type": "parcoords"
           }
          ],
          "pie": [
           {
            "automargin": true,
            "type": "pie"
           }
          ],
          "scatter": [
           {
            "marker": {
             "colorbar": {
              "outlinewidth": 0,
              "ticks": ""
             }
            },
            "type": "scatter"
           }
          ],
          "scatter3d": [
           {
            "line": {
             "colorbar": {
              "outlinewidth": 0,
              "ticks": ""
             }
            },
            "marker": {
             "colorbar": {
              "outlinewidth": 0,
              "ticks": ""
             }
            },
            "type": "scatter3d"
           }
          ],
          "scattercarpet": [
           {
            "marker": {
             "colorbar": {
              "outlinewidth": 0,
              "ticks": ""
             }
            },
            "type": "scattercarpet"
           }
          ],
          "scattergeo": [
           {
            "marker": {
             "colorbar": {
              "outlinewidth": 0,
              "ticks": ""
             }
            },
            "type": "scattergeo"
           }
          ],
          "scattergl": [
           {
            "marker": {
             "colorbar": {
              "outlinewidth": 0,
              "ticks": ""
             }
            },
            "type": "scattergl"
           }
          ],
          "scattermapbox": [
           {
            "marker": {
             "colorbar": {
              "outlinewidth": 0,
              "ticks": ""
             }
            },
            "type": "scattermapbox"
           }
          ],
          "scatterpolar": [
           {
            "marker": {
             "colorbar": {
              "outlinewidth": 0,
              "ticks": ""
             }
            },
            "type": "scatterpolar"
           }
          ],
          "scatterpolargl": [
           {
            "marker": {
             "colorbar": {
              "outlinewidth": 0,
              "ticks": ""
             }
            },
            "type": "scatterpolargl"
           }
          ],
          "scatterternary": [
           {
            "marker": {
             "colorbar": {
              "outlinewidth": 0,
              "ticks": ""
             }
            },
            "type": "scatterternary"
           }
          ],
          "surface": [
           {
            "colorbar": {
             "outlinewidth": 0,
             "ticks": ""
            },
            "colorscale": [
             [
              0,
              "#0d0887"
             ],
             [
              0.1111111111111111,
              "#46039f"
             ],
             [
              0.2222222222222222,
              "#7201a8"
             ],
             [
              0.3333333333333333,
              "#9c179e"
             ],
             [
              0.4444444444444444,
              "#bd3786"
             ],
             [
              0.5555555555555556,
              "#d8576b"
             ],
             [
              0.6666666666666666,
              "#ed7953"
             ],
             [
              0.7777777777777778,
              "#fb9f3a"
             ],
             [
              0.8888888888888888,
              "#fdca26"
             ],
             [
              1,
              "#f0f921"
             ]
            ],
            "type": "surface"
           }
          ],
          "table": [
           {
            "cells": {
             "fill": {
              "color": "#EBF0F8"
             },
             "line": {
              "color": "white"
             }
            },
            "header": {
             "fill": {
              "color": "#C8D4E3"
             },
             "line": {
              "color": "white"
             }
            },
            "type": "table"
           }
          ]
         },
         "layout": {
          "annotationdefaults": {
           "arrowcolor": "#2a3f5f",
           "arrowhead": 0,
           "arrowwidth": 1
          },
          "coloraxis": {
           "colorbar": {
            "outlinewidth": 0,
            "ticks": ""
           }
          },
          "colorscale": {
           "diverging": [
            [
             0,
             "#8e0152"
            ],
            [
             0.1,
             "#c51b7d"
            ],
            [
             0.2,
             "#de77ae"
            ],
            [
             0.3,
             "#f1b6da"
            ],
            [
             0.4,
             "#fde0ef"
            ],
            [
             0.5,
             "#f7f7f7"
            ],
            [
             0.6,
             "#e6f5d0"
            ],
            [
             0.7,
             "#b8e186"
            ],
            [
             0.8,
             "#7fbc41"
            ],
            [
             0.9,
             "#4d9221"
            ],
            [
             1,
             "#276419"
            ]
           ],
           "sequential": [
            [
             0,
             "#0d0887"
            ],
            [
             0.1111111111111111,
             "#46039f"
            ],
            [
             0.2222222222222222,
             "#7201a8"
            ],
            [
             0.3333333333333333,
             "#9c179e"
            ],
            [
             0.4444444444444444,
             "#bd3786"
            ],
            [
             0.5555555555555556,
             "#d8576b"
            ],
            [
             0.6666666666666666,
             "#ed7953"
            ],
            [
             0.7777777777777778,
             "#fb9f3a"
            ],
            [
             0.8888888888888888,
             "#fdca26"
            ],
            [
             1,
             "#f0f921"
            ]
           ],
           "sequentialminus": [
            [
             0,
             "#0d0887"
            ],
            [
             0.1111111111111111,
             "#46039f"
            ],
            [
             0.2222222222222222,
             "#7201a8"
            ],
            [
             0.3333333333333333,
             "#9c179e"
            ],
            [
             0.4444444444444444,
             "#bd3786"
            ],
            [
             0.5555555555555556,
             "#d8576b"
            ],
            [
             0.6666666666666666,
             "#ed7953"
            ],
            [
             0.7777777777777778,
             "#fb9f3a"
            ],
            [
             0.8888888888888888,
             "#fdca26"
            ],
            [
             1,
             "#f0f921"
            ]
           ]
          },
          "colorway": [
           "#636efa",
           "#EF553B",
           "#00cc96",
           "#ab63fa",
           "#FFA15A",
           "#19d3f3",
           "#FF6692",
           "#B6E880",
           "#FF97FF",
           "#FECB52"
          ],
          "font": {
           "color": "#2a3f5f"
          },
          "geo": {
           "bgcolor": "white",
           "lakecolor": "white",
           "landcolor": "#E5ECF6",
           "showlakes": true,
           "showland": true,
           "subunitcolor": "white"
          },
          "hoverlabel": {
           "align": "left"
          },
          "hovermode": "closest",
          "mapbox": {
           "style": "light"
          },
          "paper_bgcolor": "white",
          "plot_bgcolor": "#E5ECF6",
          "polar": {
           "angularaxis": {
            "gridcolor": "white",
            "linecolor": "white",
            "ticks": ""
           },
           "bgcolor": "#E5ECF6",
           "radialaxis": {
            "gridcolor": "white",
            "linecolor": "white",
            "ticks": ""
           }
          },
          "scene": {
           "xaxis": {
            "backgroundcolor": "#E5ECF6",
            "gridcolor": "white",
            "gridwidth": 2,
            "linecolor": "white",
            "showbackground": true,
            "ticks": "",
            "zerolinecolor": "white"
           },
           "yaxis": {
            "backgroundcolor": "#E5ECF6",
            "gridcolor": "white",
            "gridwidth": 2,
            "linecolor": "white",
            "showbackground": true,
            "ticks": "",
            "zerolinecolor": "white"
           },
           "zaxis": {
            "backgroundcolor": "#E5ECF6",
            "gridcolor": "white",
            "gridwidth": 2,
            "linecolor": "white",
            "showbackground": true,
            "ticks": "",
            "zerolinecolor": "white"
           }
          },
          "shapedefaults": {
           "line": {
            "color": "#2a3f5f"
           }
          },
          "ternary": {
           "aaxis": {
            "gridcolor": "white",
            "linecolor": "white",
            "ticks": ""
           },
           "baxis": {
            "gridcolor": "white",
            "linecolor": "white",
            "ticks": ""
           },
           "bgcolor": "#E5ECF6",
           "caxis": {
            "gridcolor": "white",
            "linecolor": "white",
            "ticks": ""
           }
          },
          "title": {
           "x": 0.05
          },
          "xaxis": {
           "automargin": true,
           "gridcolor": "white",
           "linecolor": "white",
           "ticks": "",
           "title": {
            "standoff": 15
           },
           "zerolinecolor": "white",
           "zerolinewidth": 2
          },
          "yaxis": {
           "automargin": true,
           "gridcolor": "white",
           "linecolor": "white",
           "ticks": "",
           "title": {
            "standoff": 15
           },
           "zerolinecolor": "white",
           "zerolinewidth": 2
          }
         }
        },
        "xaxis": {
         "anchor": "y",
         "domain": [
          0,
          1
         ],
         "tickmode": "array",
         "ticktext": [
          "12/23",
          "12/30",
          "1/6",
          "1/13",
          "1/20",
          "1/27",
          "2/3",
          "2/10",
          "2/17",
          "2/24",
          "3/2",
          "3/9",
          "3/16",
          "3/23",
          "3/30",
          "4/6",
          "4/13",
          "4/20",
          "4/27",
          "5/4",
          "5/11",
          "5/18",
          "5/25",
          "6/1",
          "6/8",
          "6/15",
          "6/22",
          "6/29",
          "7/6",
          "7/13",
          "7/20",
          "7/27",
          "8/3",
          "8/10",
          "8/17",
          "8/24",
          "8/31",
          "9/7",
          "9/14",
          "9/21",
          "9/28",
          "10/5",
          "10/12",
          "10/19",
          "10/26",
          "11/2",
          "11/9",
          "11/16",
          "11/23",
          "11/30",
          "12/7",
          "12/14"
         ],
         "tickvals": [
          0,
          1,
          2,
          3,
          4,
          5,
          6,
          7,
          8,
          9,
          10,
          11,
          12,
          13,
          14,
          15,
          16,
          17,
          18,
          19,
          20,
          21,
          22,
          23,
          24,
          25,
          26,
          27,
          28,
          29,
          30,
          31,
          32,
          33,
          34,
          35,
          36,
          37,
          38,
          39,
          40,
          41,
          42,
          43,
          44,
          45,
          46,
          47,
          48,
          49,
          50,
          51
         ],
         "title": {
          "text": "week"
         }
        },
        "yaxis": {
         "anchor": "x",
         "domain": [
          0,
          1
         ],
         "title": {
          "text": "elastic"
         }
        }
       }
      },
      "text/html": [
       "<div>\n",
       "        \n",
       "        \n",
       "            <div id=\"e5b37314-d288-47fd-9207-0685bcfaa8a1\" class=\"plotly-graph-div\" style=\"height:525px; width:100%;\"></div>\n",
       "            <script type=\"text/javascript\">\n",
       "                require([\"plotly\"], function(Plotly) {\n",
       "                    window.PLOTLYENV=window.PLOTLYENV || {};\n",
       "                    \n",
       "                if (document.getElementById(\"e5b37314-d288-47fd-9207-0685bcfaa8a1\")) {\n",
       "                    Plotly.newPlot(\n",
       "                        'e5b37314-d288-47fd-9207-0685bcfaa8a1',\n",
       "                        [{\"hovertemplate\": \"MCT_CAT_CD=\\uac00\\uad6c<br>week=%{x}<br>elastic=%{y}<extra></extra>\", \"legendgroup\": \"\\uac00\\uad6c\", \"line\": {\"color\": \"#636efa\", \"dash\": \"solid\"}, \"mode\": \"lines\", \"name\": \"\\uac00\\uad6c\", \"orientation\": \"v\", \"showlegend\": true, \"type\": \"scatter\", \"x\": [9, 10, 11, 12, 13, 14, 15, 16, 17, 18, 19, 20, 21, 22], \"xaxis\": \"x\", \"y\": [-0.09754317925435588, 0.5711943628463774, -0.12146995435260083, -0.009357986737130276, -1.3963461555650716, 0.7439424898018648, -0.05642461708422017, -0.7995527923211169, -4.415912874781214, 0.5137654915264598, 0.17432638645107212, 0.2734339744067683, 0.4290819989889786, 0.12191580039236023], \"yaxis\": \"y\"}, {\"hovertemplate\": \"MCT_CAT_CD=\\uac00\\uc804<br>week=%{x}<br>elastic=%{y}<extra></extra>\", \"legendgroup\": \"\\uac00\\uc804\", \"line\": {\"color\": \"#EF553B\", \"dash\": \"solid\"}, \"mode\": \"lines\", \"name\": \"\\uac00\\uc804\", \"orientation\": \"v\", \"showlegend\": true, \"type\": \"scatter\", \"x\": [9, 10, 11, 12, 13, 14, 15, 16, 17, 18, 19, 20, 21, 22], \"xaxis\": \"x\", \"y\": [-0.08983664632087149, 1.739781902876552, -0.5726364244293776, -1.8502870364614596, 0.15568297019994437, 1.0039278299414036, -0.1161628307119289, -0.11123013747545082, -3.699297212289622, -1.8914133171687029, 0.6135747907553994, -0.13386984525531506, -0.5635848750951343, -0.15720144807846487], \"yaxis\": \"y\"}, {\"hovertemplate\": \"MCT_CAT_CD=\\uad11\\ud559\\uc81c\\ud488<br>week=%{x}<br>elastic=%{y}<extra></extra>\", \"legendgroup\": \"\\uad11\\ud559\\uc81c\\ud488\", \"line\": {\"color\": \"#00cc96\", \"dash\": \"solid\"}, \"mode\": \"lines\", \"name\": \"\\uad11\\ud559\\uc81c\\ud488\", \"orientation\": \"v\", \"showlegend\": true, \"type\": \"scatter\", \"x\": [9, 10, 11, 12, 13, 14, 15, 16, 17, 18, 19, 20, 21, 22], \"xaxis\": \"x\", \"y\": [-0.07037720510099214, 0.006682750044320803, -0.2580382667395544, 0.31304603019082683, -2.0090515883950713, 0.5674928495340664, -0.24567614251439698, -0.4988285359089605, -1.6697166505196934, 1.0409917175455436, -0.6796056338028169, 0.37237453482749194, 0.2511258342512797, 0.1134279655010437], \"yaxis\": \"y\"}, {\"hovertemplate\": \"MCT_CAT_CD=\\ub808\\uc800\\uc5c5\\uc18c<br>week=%{x}<br>elastic=%{y}<extra></extra>\", \"legendgroup\": \"\\ub808\\uc800\\uc5c5\\uc18c\", \"line\": {\"color\": \"#ab63fa\", \"dash\": \"solid\"}, \"mode\": \"lines\", \"name\": \"\\ub808\\uc800\\uc5c5\\uc18c\", \"orientation\": \"v\", \"showlegend\": true, \"type\": \"scatter\", \"x\": [9, 10, 11, 12, 13, 14, 15, 16, 17, 18, 19, 20, 21, 22], \"xaxis\": \"x\", \"y\": [-0.0966981634074501, 2.14502461425494, -0.2562978900961767, -0.6808670565852899, 0.6347688599651226, -0.7531253347309146, -0.23444686083578511, -0.16323360247154328, -2.8552289150912635, -0.4722744059789479, -0.38865542714090123, -0.020116214482707492, -0.004530465167067045, 0.011404733029526456], \"yaxis\": \"y\"}, {\"hovertemplate\": \"MCT_CAT_CD=\\ub808\\uc800\\uc6a9\\ud488<br>week=%{x}<br>elastic=%{y}<extra></extra>\", \"legendgroup\": \"\\ub808\\uc800\\uc6a9\\ud488\", \"line\": {\"color\": \"#FFA15A\", \"dash\": \"solid\"}, \"mode\": \"lines\", \"name\": \"\\ub808\\uc800\\uc6a9\\ud488\", \"orientation\": \"v\", \"showlegend\": true, \"type\": \"scatter\", \"x\": [9, 10, 11, 12, 13, 14, 15, 16, 17, 18, 19, 20, 21, 22], \"xaxis\": \"x\", \"y\": [-0.06183415354190609, 5.438871451228047, -0.5906679503084682, 0.026785948787921853, -0.8412929879411153, -0.42593275047112067, 0.12185469897534004, -0.3500692054900445, 0.567118141671703, -1.2029751807362243, -0.24204089052439381, 0.4816120772527036, 0.09524722648706471, -0.013344143265672272], \"yaxis\": \"y\"}, {\"hovertemplate\": \"MCT_CAT_CD=\\ubb38\\ud654\\ucde8\\ubbf8<br>week=%{x}<br>elastic=%{y}<extra></extra>\", \"legendgroup\": \"\\ubb38\\ud654\\ucde8\\ubbf8\", \"line\": {\"color\": \"#19d3f3\", \"dash\": \"solid\"}, \"mode\": \"lines\", \"name\": \"\\ubb38\\ud654\\ucde8\\ubbf8\", \"orientation\": \"v\", \"showlegend\": true, \"type\": \"scatter\", \"x\": [9, 10, 11, 12, 13, 14, 15, 16, 17, 18, 19, 20, 21, 22], \"xaxis\": \"x\", \"y\": [-0.06483605810790141, -0.05509125651997577, -0.3941369707206668, -0.6571677682238696, 0.11168632841572411, -0.2504463103200874, 0.02567326806561485, 0.15207782757939783, -0.5363145980831286, -0.7477311773052847, -1.0403733999056273, -0.23657373569949755, 0.313648219711329, 0.04300083325441376], \"yaxis\": \"y\"}, {\"hovertemplate\": \"MCT_CAT_CD=\\ubcf4\\uac74\\uc704\\uc0dd<br>week=%{x}<br>elastic=%{y}<extra></extra>\", \"legendgroup\": \"\\ubcf4\\uac74\\uc704\\uc0dd\", \"line\": {\"color\": \"#FF6692\", \"dash\": \"solid\"}, \"mode\": \"lines\", \"name\": \"\\ubcf4\\uac74\\uc704\\uc0dd\", \"orientation\": \"v\", \"showlegend\": true, \"type\": \"scatter\", \"x\": [9, 10, 11, 12, 13, 14, 15, 16, 17, 18, 19, 20, 21, 22], \"xaxis\": \"x\", \"y\": [-0.05018804575590125, 0.2191855650072992, -0.7535038745330135, -0.04229623152644126, -0.11089780030538628, -0.22749197886889722, -0.03208437546505878, -0.0810133964276193, -1.3509565679272306, -0.31467487335955746, 0.02647437842291625, 0.3336478220737771, -0.16161990389702433, -0.020544143138309955], \"yaxis\": \"y\"}, {\"hovertemplate\": \"MCT_CAT_CD=\\uc0ac\\ubb34\\ud1b5\\uc2e0<br>week=%{x}<br>elastic=%{y}<extra></extra>\", \"legendgroup\": \"\\uc0ac\\ubb34\\ud1b5\\uc2e0\", \"line\": {\"color\": \"#B6E880\", \"dash\": \"solid\"}, \"mode\": \"lines\", \"name\": \"\\uc0ac\\ubb34\\ud1b5\\uc2e0\", \"orientation\": \"v\", \"showlegend\": true, \"type\": \"scatter\", \"x\": [9, 10, 11, 12, 13, 14, 15, 16, 17, 18, 19, 20, 21, 22], \"xaxis\": \"x\", \"y\": [-0.0693927398092283, 0.38015942075497483, -0.25629738382054207, -0.18749983337885115, -0.2187780191357449, -0.39979509335072827, -0.07380264881203526, -0.10952569295690623, -0.8097124143157989, -0.3749016516428811, -0.07436786898453009, 0.12214474372749314, -0.0727694375212816, -0.007951151767338962], \"yaxis\": \"y\"}, {\"hovertemplate\": \"MCT_CAT_CD=\\uc11c\\uc801\\ubb38\\uad6c<br>week=%{x}<br>elastic=%{y}<extra></extra>\", \"legendgroup\": \"\\uc11c\\uc801\\ubb38\\uad6c\", \"line\": {\"color\": \"#FF97FF\", \"dash\": \"solid\"}, \"mode\": \"lines\", \"name\": \"\\uc11c\\uc801\\ubb38\\uad6c\", \"orientation\": \"v\", \"showlegend\": true, \"type\": \"scatter\", \"x\": [9, 10, 11, 12, 13, 14, 15, 16, 17, 18, 19, 20, 21, 22], \"xaxis\": \"x\", \"y\": [-0.029946702855136887, -1.2793573001930512, -0.049963178742639835, -0.06733478708705405, -0.37613261083575467, -0.7829406194510774, 0.08781237622648033, -0.0342231886091043, 1.2116623737851695, -0.81248262440923, -0.03285303500965494, 0.14074127610586118, -0.2544863154329251, 0.037516926990726035], \"yaxis\": \"y\"}, {\"hovertemplate\": \"MCT_CAT_CD=\\uc218\\ub9ac\\uc11c\\ube44\\uc2a4<br>week=%{x}<br>elastic=%{y}<extra></extra>\", \"legendgroup\": \"\\uc218\\ub9ac\\uc11c\\ube44\\uc2a4\", \"line\": {\"color\": \"#FECB52\", \"dash\": \"solid\"}, \"mode\": \"lines\", \"name\": \"\\uc218\\ub9ac\\uc11c\\ube44\\uc2a4\", \"orientation\": \"v\", \"showlegend\": true, \"type\": \"scatter\", \"x\": [9, 10, 11, 12, 13, 14, 15, 16, 17, 18, 19, 20, 21, 22], \"xaxis\": \"x\", \"y\": [-0.04871369634429737, 4.118347324962671, -0.7134216725472199, 0.18895965704818218, -0.5992390332844951, 0.5804446166832778, -0.405355102487638, 0.4097809772172703, -0.7715035620547431, 0.3380253902448007, -0.44603880826480935, 0.39704874007199586, 0.004781006071118821, -0.09889344988207363], \"yaxis\": \"y\"}, {\"hovertemplate\": \"MCT_CAT_CD=\\uc219\\ubc15<br>week=%{x}<br>elastic=%{y}<extra></extra>\", \"legendgroup\": \"\\uc219\\ubc15\", \"line\": {\"color\": \"#636efa\", \"dash\": \"solid\"}, \"mode\": \"lines\", \"name\": \"\\uc219\\ubc15\", \"orientation\": \"v\", \"showlegend\": true, \"type\": \"scatter\", \"x\": [9, 10, 11, 12, 13, 14, 15, 16, 17, 18, 19, 20, 21, 22], \"xaxis\": \"x\", \"y\": [-0.07662035349672665, 1.3509160258844708, -0.9308795255512323, -0.35223490120324785, 0.6592407550588293, -1.4707405056807004, 0.572682841772462, -0.7405271135062311, 1.5664521177995974, -3.1571222398614522, 0.23750411904472848, 0.3990793244689356, -0.0013733651081350206, -0.10248778728653535], \"yaxis\": \"y\"}, {\"hovertemplate\": \"MCT_CAT_CD=\\uc2e0\\ubcc0\\uc7a1\\ud654<br>week=%{x}<br>elastic=%{y}<extra></extra>\", \"legendgroup\": \"\\uc2e0\\ubcc0\\uc7a1\\ud654\", \"line\": {\"color\": \"#EF553B\", \"dash\": \"solid\"}, \"mode\": \"lines\", \"name\": \"\\uc2e0\\ubcc0\\uc7a1\\ud654\", \"orientation\": \"v\", \"showlegend\": true, \"type\": \"scatter\", \"x\": [9, 10, 11, 12, 13, 14, 15, 16, 17, 18, 19, 20, 21, 22], \"xaxis\": \"x\", \"y\": [-0.041908083115814995, 7.699348265507712, 0.5260251435519833, -0.751724357295652, -1.4180310238565852, -0.36842800222677874, 0.044541878010282344, 0.342951783137139, -1.6257607862585095, -1.4761426918771574, -0.20369452245455968, 0.09038071718579022, -0.059245855383122645, -0.07275129436792849], \"yaxis\": \"y\"}, {\"hovertemplate\": \"MCT_CAT_CD=\\uc5f0\\ub8cc\\ud310\\ub9e4<br>week=%{x}<br>elastic=%{y}<extra></extra>\", \"legendgroup\": \"\\uc5f0\\ub8cc\\ud310\\ub9e4\", \"line\": {\"color\": \"#00cc96\", \"dash\": \"solid\"}, \"mode\": \"lines\", \"name\": \"\\uc5f0\\ub8cc\\ud310\\ub9e4\", \"orientation\": \"v\", \"showlegend\": true, \"type\": \"scatter\", \"x\": [9, 10, 11, 12, 13, 14, 15, 16, 17, 18, 19, 20, 21, 22], \"xaxis\": \"x\", \"y\": [-0.027827932415142684, -0.4055838123611433, -0.09492710600255352, -0.09506579805759337, -0.15492738347602017, -0.3202015042459269, 0.17453908760944667, -0.02213553304943063, -0.578927798070824, -0.07585511165134846, 0.00963885325488006, 0.043438233724183, -0.020049835092529743, 0.03690270627601952], \"yaxis\": \"y\"}, {\"hovertemplate\": \"MCT_CAT_CD=\\uc694\\uc2dd\\uc5c5\\uc18c<br>week=%{x}<br>elastic=%{y}<extra></extra>\", \"legendgroup\": \"\\uc694\\uc2dd\\uc5c5\\uc18c\", \"line\": {\"color\": \"#ab63fa\", \"dash\": \"solid\"}, \"mode\": \"lines\", \"name\": \"\\uc694\\uc2dd\\uc5c5\\uc18c\", \"orientation\": \"v\", \"showlegend\": true, \"type\": \"scatter\", \"x\": [9, 10, 11, 12, 13, 14, 15, 16, 17, 18, 19, 20, 21, 22], \"xaxis\": \"x\", \"y\": [-0.0689649827709425, 1.6211235896824316, -0.3284305834703868, -0.41342871180139784, -0.12352571833302921, -0.42716131807074054, -0.07622355077095803, -0.20143890972677433, -0.48347685939009244, -0.6528248595804466, -0.17224900280541036, 0.0446654425042576, -0.12354763002951027, -0.024320170632366928], \"yaxis\": \"y\"}, {\"hovertemplate\": \"MCT_CAT_CD=\\uc720\\ud1b5\\uc5c5<br>week=%{x}<br>elastic=%{y}<extra></extra>\", \"legendgroup\": \"\\uc720\\ud1b5\\uc5c5\", \"line\": {\"color\": \"#FFA15A\", \"dash\": \"solid\"}, \"mode\": \"lines\", \"name\": \"\\uc720\\ud1b5\\uc5c5\", \"orientation\": \"v\", \"showlegend\": true, \"type\": \"scatter\", \"x\": [9, 10, 11, 12, 13, 14, 15, 16, 17, 18, 19, 20, 21, 22], \"xaxis\": \"x\", \"y\": [-0.0201646802924617, -0.8482107391934779, -0.09553442507532126, 0.05414581783054988, -0.2932533140632702, 0.12581366987169443, -0.028515384788766435, -0.08410609136163097, 0.1798333683955163, -0.6883175447325202, 0.04051650324229893, 0.1194859730750247, 0.1410914483374569, 0.03153689977633669], \"yaxis\": \"y\"}, {\"hovertemplate\": \"MCT_CAT_CD=\\uc74c\\ub8cc\\uc2dd\\ud488<br>week=%{x}<br>elastic=%{y}<extra></extra>\", \"legendgroup\": \"\\uc74c\\ub8cc\\uc2dd\\ud488\", \"line\": {\"color\": \"#19d3f3\", \"dash\": \"solid\"}, \"mode\": \"lines\", \"name\": \"\\uc74c\\ub8cc\\uc2dd\\ud488\", \"orientation\": \"v\", \"showlegend\": true, \"type\": \"scatter\", \"x\": [9, 10, 11, 12, 13, 14, 15, 16, 17, 18, 19, 20, 21, 22], \"xaxis\": \"x\", \"y\": [-0.0034329449525683574, -0.43157890628876133, -0.015474719349312056, 0.07282361860198436, -0.05148858676387519, -0.11113216691645068, 0.08456259695157493, -0.08313750649915444, 0.3846744623669623, 0.0477536682593842, -0.17060939530826608, 0.175471246294187, -0.3683266665642698, -0.06271013910352997], \"yaxis\": \"y\"}, {\"hovertemplate\": \"MCT_CAT_CD=\\uc758\\ub8cc\\uae30\\uad00<br>week=%{x}<br>elastic=%{y}<extra></extra>\", \"legendgroup\": \"\\uc758\\ub8cc\\uae30\\uad00\", \"line\": {\"color\": \"#FF6692\", \"dash\": \"solid\"}, \"mode\": \"lines\", \"name\": \"\\uc758\\ub8cc\\uae30\\uad00\", \"orientation\": \"v\", \"showlegend\": true, \"type\": \"scatter\", \"x\": [9, 10, 11, 12, 13, 14, 15, 16, 17, 18, 19, 20, 21, 22], \"xaxis\": \"x\", \"y\": [-0.04689177193863762, -1.3732490837498397, -0.27422978448425955, -0.12195265225388181, -0.3951416142270006, 0.3642780977089065, -0.13329984649543666, -0.22294739856550108, -0.055991129598404375, 0.11723282323590176, -0.043801378643978976, 0.2907376845448238, 0.028535923234200636, 0.029633811825518976], \"yaxis\": \"y\"}, {\"hovertemplate\": \"MCT_CAT_CD=\\uc758\\ubcf5<br>week=%{x}<br>elastic=%{y}<extra></extra>\", \"legendgroup\": \"\\uc758\\ubcf5\", \"line\": {\"color\": \"#B6E880\", \"dash\": \"solid\"}, \"mode\": \"lines\", \"name\": \"\\uc758\\ubcf5\", \"orientation\": \"v\", \"showlegend\": true, \"type\": \"scatter\", \"x\": [9, 10, 11, 12, 13, 14, 15, 16, 17, 18, 19, 20, 21, 22], \"xaxis\": \"x\", \"y\": [-0.07749020541368681, 1.859059831552634, -0.6406734275755819, -0.09089739757675684, -0.8348043382904698, -0.2643430235389755, -0.01988738738543026, -0.45871776305741135, -0.18072742369271314, -0.8973137312771038, -0.19287948558576887, 0.48897338276365954, -0.3352414865357763, -0.09454073973857341], \"yaxis\": \"y\"}, {\"hovertemplate\": \"MCT_CAT_CD=\\uc790\\ub3d9\\ucc28\\uc815\\ube44<br>week=%{x}<br>elastic=%{y}<extra></extra>\", \"legendgroup\": \"\\uc790\\ub3d9\\ucc28\\uc815\\ube44\", \"line\": {\"color\": \"#FF97FF\", \"dash\": \"solid\"}, \"mode\": \"lines\", \"name\": \"\\uc790\\ub3d9\\ucc28\\uc815\\ube44\", \"orientation\": \"v\", \"showlegend\": true, \"type\": \"scatter\", \"x\": [9, 10, 11, 12, 13, 14, 15, 16, 17, 18, 19, 20, 21, 22], \"xaxis\": \"x\", \"y\": [-0.030659343684467027, -0.5889002051647407, -0.03619980633368975, -0.5597645323240726, -0.44832676733303034, 0.42252773705378815, 0.09511507759421006, -0.17158277032347935, -0.5692396437593502, -0.33813885164059726, 0.1630979320203955, 0.1783636612408953, -0.2996091915564316, -0.0009055197572175637], \"yaxis\": \"y\"}, {\"hovertemplate\": \"MCT_CAT_CD=\\uc790\\ub3d9\\ucc28\\ud310\\ub9e4<br>week=%{x}<br>elastic=%{y}<extra></extra>\", \"legendgroup\": \"\\uc790\\ub3d9\\ucc28\\ud310\\ub9e4\", \"line\": {\"color\": \"#FECB52\", \"dash\": \"solid\"}, \"mode\": \"lines\", \"name\": \"\\uc790\\ub3d9\\ucc28\\ud310\\ub9e4\", \"orientation\": \"v\", \"showlegend\": true, \"type\": \"scatter\", \"x\": [9, 10, 11, 12, 13, 14, 15, 16, 17, 18, 19, 20, 21, 22], \"xaxis\": \"x\", \"y\": [-0.052178474139198974, -4.420501849003173, -2.9049757110550263, -0.01668775265763761, -1.5525635461453677, 1.4085092645789883, 0.4805164071036187, -0.7080064011864138, -5.793718146747916, 1.5357787539519403, 0.3728944111256899, 2.078229421386153, 0.6941384485599937, 0.04484003448280359], \"yaxis\": \"y\"}, {\"hovertemplate\": \"MCT_CAT_CD=\\uc804\\uae30<br>week=%{x}<br>elastic=%{y}<extra></extra>\", \"legendgroup\": \"\\uc804\\uae30\", \"line\": {\"color\": \"#636efa\", \"dash\": \"solid\"}, \"mode\": \"lines\", \"name\": \"\\uc804\\uae30\", \"orientation\": \"v\", \"showlegend\": true, \"type\": \"scatter\", \"x\": [9, 10, 11, 12, 13, 14, 15, 16, 17, 18, 19, 20, 21, 22], \"xaxis\": \"x\", \"y\": [-0.024779459116236646, -99.57143788620496, 0.13633408823262977, 1.021105531081072, -3.1302445302445303, -1.7027110690851515, 0.9128409668329639, -0.8125923819354477, -6.237495368655058, -2.1115688105307484, 2.601139430284858, -0.2828357682264098, -0.36815844277274856, -0.008043395639705629], \"yaxis\": \"y\"}, {\"hovertemplate\": \"MCT_CAT_CD=\\uc8fc\\ubc29\\uc6a9\\uad6c<br>week=%{x}<br>elastic=%{y}<extra></extra>\", \"legendgroup\": \"\\uc8fc\\ubc29\\uc6a9\\uad6c\", \"line\": {\"color\": \"#EF553B\", \"dash\": \"solid\"}, \"mode\": \"lines\", \"name\": \"\\uc8fc\\ubc29\\uc6a9\\uad6c\", \"orientation\": \"v\", \"showlegend\": true, \"type\": \"scatter\", \"x\": [9, 10, 11, 12, 13, 14, 15, 16, 17, 18, 19, 20, 21, 22], \"xaxis\": \"x\", \"y\": [-0.13249926682410654, 36.44157316721951, -2.7975168550105862, 0.5076149705736557, -2.114995874189213, 0.6355130699764736, 0.1313861197359613, -0.09147204529370136, 0.5966489319463194, 0.09370334139937189, -0.40416865047876, 0.478204902521674, -1.1585497835497836, 0.018600967763453845], \"yaxis\": \"y\"}, {\"hovertemplate\": \"MCT_CAT_CD=\\uc9c1\\ubb3c<br>week=%{x}<br>elastic=%{y}<extra></extra>\", \"legendgroup\": \"\\uc9c1\\ubb3c\", \"line\": {\"color\": \"#00cc96\", \"dash\": \"solid\"}, \"mode\": \"lines\", \"name\": \"\\uc9c1\\ubb3c\", \"orientation\": \"v\", \"showlegend\": true, \"type\": \"scatter\", \"x\": [9, 10, 11, 12, 13, 14, 15, 16, 17, 18, 19, 20, 21, 22], \"xaxis\": \"x\", \"y\": [-0.11017330034358469, 3.855889350214763, -0.4296464554156418, -0.8794285040748974, 0.03393857407819176, -0.06243654588885424, 0.13383097590113197, -1.8777049689843175, 2.169103184918508, 0.054266348945840176, -1.073727067988555, 0.8756570850455787, -0.6969296443269567, -0.1880433508098963], \"yaxis\": \"y\"}],\n",
       "                        {\"legend\": {\"title\": {\"text\": \"MCT_CAT_CD\"}, \"tracegroupgap\": 0}, \"margin\": {\"t\": 60}, \"template\": {\"data\": {\"bar\": [{\"error_x\": {\"color\": \"#2a3f5f\"}, \"error_y\": {\"color\": \"#2a3f5f\"}, \"marker\": {\"line\": {\"color\": \"#E5ECF6\", \"width\": 0.5}}, \"type\": \"bar\"}], \"barpolar\": [{\"marker\": {\"line\": {\"color\": \"#E5ECF6\", \"width\": 0.5}}, \"type\": \"barpolar\"}], \"carpet\": [{\"aaxis\": {\"endlinecolor\": \"#2a3f5f\", \"gridcolor\": \"white\", \"linecolor\": \"white\", \"minorgridcolor\": \"white\", \"startlinecolor\": \"#2a3f5f\"}, \"baxis\": {\"endlinecolor\": \"#2a3f5f\", \"gridcolor\": \"white\", \"linecolor\": \"white\", \"minorgridcolor\": \"white\", \"startlinecolor\": \"#2a3f5f\"}, \"type\": \"carpet\"}], \"choropleth\": [{\"colorbar\": {\"outlinewidth\": 0, \"ticks\": \"\"}, \"type\": \"choropleth\"}], \"contour\": [{\"colorbar\": {\"outlinewidth\": 0, \"ticks\": \"\"}, \"colorscale\": [[0.0, \"#0d0887\"], [0.1111111111111111, \"#46039f\"], [0.2222222222222222, \"#7201a8\"], [0.3333333333333333, \"#9c179e\"], [0.4444444444444444, \"#bd3786\"], [0.5555555555555556, \"#d8576b\"], [0.6666666666666666, \"#ed7953\"], [0.7777777777777778, \"#fb9f3a\"], [0.8888888888888888, \"#fdca26\"], [1.0, \"#f0f921\"]], \"type\": \"contour\"}], \"contourcarpet\": [{\"colorbar\": {\"outlinewidth\": 0, \"ticks\": \"\"}, \"type\": \"contourcarpet\"}], \"heatmap\": [{\"colorbar\": {\"outlinewidth\": 0, \"ticks\": \"\"}, \"colorscale\": [[0.0, \"#0d0887\"], [0.1111111111111111, \"#46039f\"], [0.2222222222222222, \"#7201a8\"], [0.3333333333333333, \"#9c179e\"], [0.4444444444444444, \"#bd3786\"], [0.5555555555555556, \"#d8576b\"], [0.6666666666666666, \"#ed7953\"], [0.7777777777777778, \"#fb9f3a\"], [0.8888888888888888, \"#fdca26\"], [1.0, \"#f0f921\"]], \"type\": \"heatmap\"}], \"heatmapgl\": [{\"colorbar\": {\"outlinewidth\": 0, \"ticks\": \"\"}, \"colorscale\": [[0.0, \"#0d0887\"], [0.1111111111111111, \"#46039f\"], [0.2222222222222222, \"#7201a8\"], [0.3333333333333333, \"#9c179e\"], [0.4444444444444444, \"#bd3786\"], [0.5555555555555556, \"#d8576b\"], [0.6666666666666666, \"#ed7953\"], [0.7777777777777778, \"#fb9f3a\"], [0.8888888888888888, \"#fdca26\"], [1.0, \"#f0f921\"]], \"type\": \"heatmapgl\"}], \"histogram\": [{\"marker\": {\"colorbar\": {\"outlinewidth\": 0, \"ticks\": \"\"}}, \"type\": \"histogram\"}], \"histogram2d\": [{\"colorbar\": {\"outlinewidth\": 0, \"ticks\": \"\"}, \"colorscale\": [[0.0, \"#0d0887\"], [0.1111111111111111, \"#46039f\"], [0.2222222222222222, \"#7201a8\"], [0.3333333333333333, \"#9c179e\"], [0.4444444444444444, \"#bd3786\"], [0.5555555555555556, \"#d8576b\"], [0.6666666666666666, \"#ed7953\"], [0.7777777777777778, \"#fb9f3a\"], [0.8888888888888888, \"#fdca26\"], [1.0, \"#f0f921\"]], \"type\": \"histogram2d\"}], \"histogram2dcontour\": [{\"colorbar\": {\"outlinewidth\": 0, \"ticks\": \"\"}, \"colorscale\": [[0.0, \"#0d0887\"], [0.1111111111111111, \"#46039f\"], [0.2222222222222222, \"#7201a8\"], [0.3333333333333333, \"#9c179e\"], [0.4444444444444444, \"#bd3786\"], [0.5555555555555556, \"#d8576b\"], [0.6666666666666666, \"#ed7953\"], [0.7777777777777778, \"#fb9f3a\"], [0.8888888888888888, \"#fdca26\"], [1.0, \"#f0f921\"]], \"type\": \"histogram2dcontour\"}], \"mesh3d\": [{\"colorbar\": {\"outlinewidth\": 0, \"ticks\": \"\"}, \"type\": \"mesh3d\"}], \"parcoords\": [{\"line\": {\"colorbar\": {\"outlinewidth\": 0, \"ticks\": \"\"}}, \"type\": \"parcoords\"}], \"pie\": [{\"automargin\": true, \"type\": \"pie\"}], \"scatter\": [{\"marker\": {\"colorbar\": {\"outlinewidth\": 0, \"ticks\": \"\"}}, \"type\": \"scatter\"}], \"scatter3d\": [{\"line\": {\"colorbar\": {\"outlinewidth\": 0, \"ticks\": \"\"}}, \"marker\": {\"colorbar\": {\"outlinewidth\": 0, \"ticks\": \"\"}}, \"type\": \"scatter3d\"}], \"scattercarpet\": [{\"marker\": {\"colorbar\": {\"outlinewidth\": 0, \"ticks\": \"\"}}, \"type\": \"scattercarpet\"}], \"scattergeo\": [{\"marker\": {\"colorbar\": {\"outlinewidth\": 0, \"ticks\": \"\"}}, \"type\": \"scattergeo\"}], \"scattergl\": [{\"marker\": {\"colorbar\": {\"outlinewidth\": 0, \"ticks\": \"\"}}, \"type\": \"scattergl\"}], \"scattermapbox\": [{\"marker\": {\"colorbar\": {\"outlinewidth\": 0, \"ticks\": \"\"}}, \"type\": \"scattermapbox\"}], \"scatterpolar\": [{\"marker\": {\"colorbar\": {\"outlinewidth\": 0, \"ticks\": \"\"}}, \"type\": \"scatterpolar\"}], \"scatterpolargl\": [{\"marker\": {\"colorbar\": {\"outlinewidth\": 0, \"ticks\": \"\"}}, \"type\": \"scatterpolargl\"}], \"scatterternary\": [{\"marker\": {\"colorbar\": {\"outlinewidth\": 0, \"ticks\": \"\"}}, \"type\": \"scatterternary\"}], \"surface\": [{\"colorbar\": {\"outlinewidth\": 0, \"ticks\": \"\"}, \"colorscale\": [[0.0, \"#0d0887\"], [0.1111111111111111, \"#46039f\"], [0.2222222222222222, \"#7201a8\"], [0.3333333333333333, \"#9c179e\"], [0.4444444444444444, \"#bd3786\"], [0.5555555555555556, \"#d8576b\"], [0.6666666666666666, \"#ed7953\"], [0.7777777777777778, \"#fb9f3a\"], [0.8888888888888888, \"#fdca26\"], [1.0, \"#f0f921\"]], \"type\": \"surface\"}], \"table\": [{\"cells\": {\"fill\": {\"color\": \"#EBF0F8\"}, \"line\": {\"color\": \"white\"}}, \"header\": {\"fill\": {\"color\": \"#C8D4E3\"}, \"line\": {\"color\": \"white\"}}, \"type\": \"table\"}]}, \"layout\": {\"annotationdefaults\": {\"arrowcolor\": \"#2a3f5f\", \"arrowhead\": 0, \"arrowwidth\": 1}, \"coloraxis\": {\"colorbar\": {\"outlinewidth\": 0, \"ticks\": \"\"}}, \"colorscale\": {\"diverging\": [[0, \"#8e0152\"], [0.1, \"#c51b7d\"], [0.2, \"#de77ae\"], [0.3, \"#f1b6da\"], [0.4, \"#fde0ef\"], [0.5, \"#f7f7f7\"], [0.6, \"#e6f5d0\"], [0.7, \"#b8e186\"], [0.8, \"#7fbc41\"], [0.9, \"#4d9221\"], [1, \"#276419\"]], \"sequential\": [[0.0, \"#0d0887\"], [0.1111111111111111, \"#46039f\"], [0.2222222222222222, \"#7201a8\"], [0.3333333333333333, \"#9c179e\"], [0.4444444444444444, \"#bd3786\"], [0.5555555555555556, \"#d8576b\"], [0.6666666666666666, \"#ed7953\"], [0.7777777777777778, \"#fb9f3a\"], [0.8888888888888888, \"#fdca26\"], [1.0, \"#f0f921\"]], \"sequentialminus\": [[0.0, \"#0d0887\"], [0.1111111111111111, \"#46039f\"], [0.2222222222222222, \"#7201a8\"], [0.3333333333333333, \"#9c179e\"], [0.4444444444444444, \"#bd3786\"], [0.5555555555555556, \"#d8576b\"], [0.6666666666666666, \"#ed7953\"], [0.7777777777777778, \"#fb9f3a\"], [0.8888888888888888, \"#fdca26\"], [1.0, \"#f0f921\"]]}, \"colorway\": [\"#636efa\", \"#EF553B\", \"#00cc96\", \"#ab63fa\", \"#FFA15A\", \"#19d3f3\", \"#FF6692\", \"#B6E880\", \"#FF97FF\", \"#FECB52\"], \"font\": {\"color\": \"#2a3f5f\"}, \"geo\": {\"bgcolor\": \"white\", \"lakecolor\": \"white\", \"landcolor\": \"#E5ECF6\", \"showlakes\": true, \"showland\": true, \"subunitcolor\": \"white\"}, \"hoverlabel\": {\"align\": \"left\"}, \"hovermode\": \"closest\", \"mapbox\": {\"style\": \"light\"}, \"paper_bgcolor\": \"white\", \"plot_bgcolor\": \"#E5ECF6\", \"polar\": {\"angularaxis\": {\"gridcolor\": \"white\", \"linecolor\": \"white\", \"ticks\": \"\"}, \"bgcolor\": \"#E5ECF6\", \"radialaxis\": {\"gridcolor\": \"white\", \"linecolor\": \"white\", \"ticks\": \"\"}}, \"scene\": {\"xaxis\": {\"backgroundcolor\": \"#E5ECF6\", \"gridcolor\": \"white\", \"gridwidth\": 2, \"linecolor\": \"white\", \"showbackground\": true, \"ticks\": \"\", \"zerolinecolor\": \"white\"}, \"yaxis\": {\"backgroundcolor\": \"#E5ECF6\", \"gridcolor\": \"white\", \"gridwidth\": 2, \"linecolor\": \"white\", \"showbackground\": true, \"ticks\": \"\", \"zerolinecolor\": \"white\"}, \"zaxis\": {\"backgroundcolor\": \"#E5ECF6\", \"gridcolor\": \"white\", \"gridwidth\": 2, \"linecolor\": \"white\", \"showbackground\": true, \"ticks\": \"\", \"zerolinecolor\": \"white\"}}, \"shapedefaults\": {\"line\": {\"color\": \"#2a3f5f\"}}, \"ternary\": {\"aaxis\": {\"gridcolor\": \"white\", \"linecolor\": \"white\", \"ticks\": \"\"}, \"baxis\": {\"gridcolor\": \"white\", \"linecolor\": \"white\", \"ticks\": \"\"}, \"bgcolor\": \"#E5ECF6\", \"caxis\": {\"gridcolor\": \"white\", \"linecolor\": \"white\", \"ticks\": \"\"}}, \"title\": {\"x\": 0.05}, \"xaxis\": {\"automargin\": true, \"gridcolor\": \"white\", \"linecolor\": \"white\", \"ticks\": \"\", \"title\": {\"standoff\": 15}, \"zerolinecolor\": \"white\", \"zerolinewidth\": 2}, \"yaxis\": {\"automargin\": true, \"gridcolor\": \"white\", \"linecolor\": \"white\", \"ticks\": \"\", \"title\": {\"standoff\": 15}, \"zerolinecolor\": \"white\", \"zerolinewidth\": 2}}}, \"xaxis\": {\"anchor\": \"y\", \"domain\": [0.0, 1.0], \"tickmode\": \"array\", \"ticktext\": [\"12/23\", \"12/30\", \"1/6\", \"1/13\", \"1/20\", \"1/27\", \"2/3\", \"2/10\", \"2/17\", \"2/24\", \"3/2\", \"3/9\", \"3/16\", \"3/23\", \"3/30\", \"4/6\", \"4/13\", \"4/20\", \"4/27\", \"5/4\", \"5/11\", \"5/18\", \"5/25\", \"6/1\", \"6/8\", \"6/15\", \"6/22\", \"6/29\", \"7/6\", \"7/13\", \"7/20\", \"7/27\", \"8/3\", \"8/10\", \"8/17\", \"8/24\", \"8/31\", \"9/7\", \"9/14\", \"9/21\", \"9/28\", \"10/5\", \"10/12\", \"10/19\", \"10/26\", \"11/2\", \"11/9\", \"11/16\", \"11/23\", \"11/30\", \"12/7\", \"12/14\"], \"tickvals\": [0, 1, 2, 3, 4, 5, 6, 7, 8, 9, 10, 11, 12, 13, 14, 15, 16, 17, 18, 19, 20, 21, 22, 23, 24, 25, 26, 27, 28, 29, 30, 31, 32, 33, 34, 35, 36, 37, 38, 39, 40, 41, 42, 43, 44, 45, 46, 47, 48, 49, 50, 51], \"title\": {\"text\": \"week\"}}, \"yaxis\": {\"anchor\": \"x\", \"domain\": [0.0, 1.0], \"title\": {\"text\": \"elastic\"}}},\n",
       "                        {\"responsive\": true}\n",
       "                    ).then(function(){\n",
       "                            \n",
       "var gd = document.getElementById('e5b37314-d288-47fd-9207-0685bcfaa8a1');\n",
       "var x = new MutationObserver(function (mutations, observer) {{\n",
       "        var display = window.getComputedStyle(gd).display;\n",
       "        if (!display || display === 'none') {{\n",
       "            console.log([gd, 'removed!']);\n",
       "            Plotly.purge(gd);\n",
       "            observer.disconnect();\n",
       "        }}\n",
       "}});\n",
       "\n",
       "// Listen for the removal of the full notebook cells\n",
       "var notebookContainer = gd.closest('#notebook-container');\n",
       "if (notebookContainer) {{\n",
       "    x.observe(notebookContainer, {childList: true});\n",
       "}}\n",
       "\n",
       "// Listen for the clearing of the current output cell\n",
       "var outputEl = gd.closest('.output');\n",
       "if (outputEl) {{\n",
       "    x.observe(outputEl, {childList: true});\n",
       "}}\n",
       "\n",
       "                        })\n",
       "                };\n",
       "                });\n",
       "            </script>\n",
       "        </div>"
      ]
     },
     "metadata": {},
     "output_type": "display_data"
    }
   ],
   "source": [
    "daegu_df = concat_elastic(data=daegu_covid_table2020, start_week=9, end_week=22, covid=True)\n",
    "\n",
    "fig = px.line(daegu_df, x=\"week\", y=\"elastic\", color='MCT_CAT_CD')\n",
    "fig.update_layout(xaxis=dict(tickmode='array', tickvals=np.arange(0, len(test2)), ticktext=test2))\n",
    "fig.show()"
   ]
  },
  {
   "cell_type": "markdown",
   "metadata": {},
   "source": [
    "# 코로나 분모로 안 나눈 경우"
   ]
  },
  {
   "cell_type": "code",
   "execution_count": 461,
   "metadata": {},
   "outputs": [
    {
     "data": {
      "application/vnd.plotly.v1+json": {
       "config": {
        "plotlyServerURL": "https://plot.ly"
       },
       "data": [
        {
         "hovertemplate": "MCT_CAT_CD=가구<br>week=%{x}<br>elastic=%{y}<extra></extra>",
         "legendgroup": "가구",
         "line": {
          "color": "#636efa",
          "dash": "solid"
         },
         "mode": "lines",
         "name": "가구",
         "orientation": "v",
         "showlegend": true,
         "type": "scatter",
         "x": [
          7,
          8,
          9,
          10,
          11,
          12,
          13,
          14,
          15,
          16,
          17,
          18,
          19,
          20,
          21,
          22
         ],
         "xaxis": "x",
         "y": [
          0.18617337109513496,
          -0.18771832527855606,
          -0.16103318023018673,
          0.5646659691176005,
          -0.14773986112236903,
          -0.22757426370351583,
          0.11397671829547962,
          0.3130109195746386,
          -0.40181972514714237,
          0.8753782103905242,
          0.059072561103346494,
          -0.1384919697685404,
          -0.07849628182721634,
          0.773949067325142,
          0.2277043826070915,
          -0.23177982453444254
         ],
         "yaxis": "y"
        },
        {
         "hovertemplate": "MCT_CAT_CD=가전<br>week=%{x}<br>elastic=%{y}<extra></extra>",
         "legendgroup": "가전",
         "line": {
          "color": "#EF553B",
          "dash": "solid"
         },
         "mode": "lines",
         "name": "가전",
         "orientation": "v",
         "showlegend": true,
         "type": "scatter",
         "x": [
          7,
          8,
          9,
          10,
          11,
          12,
          13,
          14,
          15,
          16,
          17,
          18,
          19,
          20,
          21,
          22
         ],
         "xaxis": "x",
         "y": [
          0.1189054476200054,
          -0.11832743961868275,
          0.16906498120957456,
          0.09497580188062262,
          -0.25645805128613525,
          0.032637933592839154,
          0.23910809844280245,
          0.061032274377989075,
          -0.06087032267713714,
          -0.1498761823925237,
          -0.12504503206282874,
          0.602110476504185,
          -0.11787870465963611,
          0.17569013036373823,
          0.049949978511646544,
          -0.16342985767481127
         ],
         "yaxis": "y"
        },
        {
         "hovertemplate": "MCT_CAT_CD=광학제품<br>week=%{x}<br>elastic=%{y}<extra></extra>",
         "legendgroup": "광학제품",
         "line": {
          "color": "#00cc96",
          "dash": "solid"
         },
         "mode": "lines",
         "name": "광학제품",
         "orientation": "v",
         "showlegend": true,
         "type": "scatter",
         "x": [
          7,
          8,
          9,
          10,
          11,
          12,
          13,
          14,
          15,
          16,
          17,
          18,
          19,
          20,
          21,
          22
         ],
         "xaxis": "x",
         "y": [
          0.44851599221036104,
          -0.22120589291119105,
          0.09357163838488827,
          0.2949820447867896,
          -0.39937582569070823,
          0.14552651152906174,
          -0.3150720510549091,
          1.7942686114383997,
          -0.3169062551496176,
          0.0474563644103874,
          0.07615399465550352,
          -0.4880469059803237,
          0.6685662295827723,
          -0.19273166705965575,
          0.00619774361970134,
          0.22474713112895178
         ],
         "yaxis": "y"
        },
        {
         "hovertemplate": "MCT_CAT_CD=레저업소<br>week=%{x}<br>elastic=%{y}<extra></extra>",
         "legendgroup": "레저업소",
         "line": {
          "color": "#ab63fa",
          "dash": "solid"
         },
         "mode": "lines",
         "name": "레저업소",
         "orientation": "v",
         "showlegend": true,
         "type": "scatter",
         "x": [
          7,
          8,
          9,
          10,
          11,
          12,
          13,
          14,
          15,
          16,
          17,
          18,
          19,
          20,
          21,
          22
         ],
         "xaxis": "x",
         "y": [
          0.06949644711669856,
          -0.046448889109950944,
          -0.27934951817313036,
          -0.020717069037417955,
          -0.009641217595323827,
          0.06981825302706211,
          -0.3004401389858691,
          -0.02112924105815459,
          0.24883918724414453,
          0.028780488900098267,
          0.30336546540582654,
          0.0079468335736137,
          0.10687886062035722,
          -0.03339274913740359,
          0.0987848819817013,
          0.07643147092875924
         ],
         "yaxis": "y"
        },
        {
         "hovertemplate": "MCT_CAT_CD=레저용품<br>week=%{x}<br>elastic=%{y}<extra></extra>",
         "legendgroup": "레저용품",
         "line": {
          "color": "#FFA15A",
          "dash": "solid"
         },
         "mode": "lines",
         "name": "레저용품",
         "orientation": "v",
         "showlegend": true,
         "type": "scatter",
         "x": [
          7,
          8,
          9,
          10,
          11,
          12,
          13,
          14,
          15,
          16,
          17,
          18,
          19,
          20,
          21,
          22
         ],
         "xaxis": "x",
         "y": [
          0.23481590893815185,
          -0.23289449603042708,
          -0.2919235155610752,
          0.24598694638062696,
          0.07366868537889999,
          0.08248732158482541,
          0.05537759502557416,
          0.06736499869652712,
          -0.009475551983770272,
          0.15708648796023597,
          -0.10590119720476147,
          0.5076235025366304,
          0.03343403447632684,
          0.06134369043204455,
          0.08631471580885643,
          -0.0767149312337935
         ],
         "yaxis": "y"
        },
        {
         "hovertemplate": "MCT_CAT_CD=문화취미<br>week=%{x}<br>elastic=%{y}<extra></extra>",
         "legendgroup": "문화취미",
         "line": {
          "color": "#19d3f3",
          "dash": "solid"
         },
         "mode": "lines",
         "name": "문화취미",
         "orientation": "v",
         "showlegend": true,
         "type": "scatter",
         "x": [
          7,
          8,
          9,
          10,
          11,
          12,
          13,
          14,
          15,
          16,
          17,
          18,
          19,
          20,
          21,
          22
         ],
         "xaxis": "x",
         "y": [
          0.1946295583752069,
          -0.2536477709337074,
          -0.32214119004938535,
          0.22608387735959226,
          0.012938013672325064,
          -0.06772808065856603,
          0.010938420143351217,
          0.2813474554179178,
          0.030190461120362486,
          -0.07021667207107488,
          0.017385193479110234,
          0.1537208529107784,
          0.9176151785734232,
          -0.3578631474957595,
          -0.1028955007256894,
          -0.0745605520097718
         ],
         "yaxis": "y"
        },
        {
         "hovertemplate": "MCT_CAT_CD=보건위생<br>week=%{x}<br>elastic=%{y}<extra></extra>",
         "legendgroup": "보건위생",
         "line": {
          "color": "#FF6692",
          "dash": "solid"
         },
         "mode": "lines",
         "name": "보건위생",
         "orientation": "v",
         "showlegend": true,
         "type": "scatter",
         "x": [
          7,
          8,
          9,
          10,
          11,
          12,
          13,
          14,
          15,
          16,
          17,
          18,
          19,
          20,
          21,
          22
         ],
         "xaxis": "x",
         "y": [
          0.14569063952519148,
          -0.14797392758741001,
          -0.07976191459934952,
          -0.1409798173131767,
          0.04277806750503022,
          -0.009986708151096393,
          0.08435046626978918,
          0.06344744295239574,
          -0.1139683750735401,
          0.10899983372589439,
          0.016612618480706484,
          0.3027255433782908,
          -0.1498730198874698,
          0.16605413159851956,
          0.20064473710084613,
          0.05610199454020629
         ],
         "yaxis": "y"
        },
        {
         "hovertemplate": "MCT_CAT_CD=사무통신<br>week=%{x}<br>elastic=%{y}<extra></extra>",
         "legendgroup": "사무통신",
         "line": {
          "color": "#B6E880",
          "dash": "solid"
         },
         "mode": "lines",
         "name": "사무통신",
         "orientation": "v",
         "showlegend": true,
         "type": "scatter",
         "x": [
          7,
          8,
          9,
          10,
          11,
          12,
          13,
          14,
          15,
          16,
          17,
          18,
          19,
          20,
          21,
          22
         ],
         "xaxis": "x",
         "y": [
          -0.08398387900618919,
          -0.07630027323714107,
          0.6479944782633515,
          -0.3218498306340804,
          -0.01423410426992171,
          -0.01566204711254314,
          0.17964262897332597,
          0.2605840309344779,
          -0.16141922334263034,
          -0.030155745306853433,
          0.031928974617869914,
          0.33585945573544607,
          -0.18394760032570392,
          0.11092676698244229,
          -0.06317494828386878,
          0.34918653527454785
         ],
         "yaxis": "y"
        },
        {
         "hovertemplate": "MCT_CAT_CD=서적문구<br>week=%{x}<br>elastic=%{y}<extra></extra>",
         "legendgroup": "서적문구",
         "line": {
          "color": "#FF97FF",
          "dash": "solid"
         },
         "mode": "lines",
         "name": "서적문구",
         "orientation": "v",
         "showlegend": true,
         "type": "scatter",
         "x": [
          7,
          8,
          9,
          10,
          11,
          12,
          13,
          14,
          15,
          16,
          17,
          18,
          19,
          20,
          21,
          22
         ],
         "xaxis": "x",
         "y": [
          -0.16465822837782934,
          -0.07585176155268794,
          0.04142724200863736,
          -0.05367634779176219,
          0.11043029149444045,
          -0.04860439604667458,
          0.0379766332685764,
          0.2526971951678301,
          -0.24425079521594087,
          -0.0348786895379385,
          0.18801338606632187,
          0.18270484148912614,
          -0.019584684223421685,
          -0.16786486125213895,
          0.00583078743567077,
          0.14835285831903264
         ],
         "yaxis": "y"
        },
        {
         "hovertemplate": "MCT_CAT_CD=수리서비스<br>week=%{x}<br>elastic=%{y}<extra></extra>",
         "legendgroup": "수리서비스",
         "line": {
          "color": "#FECB52",
          "dash": "solid"
         },
         "mode": "lines",
         "name": "수리서비스",
         "orientation": "v",
         "showlegend": true,
         "type": "scatter",
         "x": [
          7,
          8,
          9,
          10,
          11,
          12,
          13,
          14,
          15,
          16,
          17,
          18,
          19,
          20,
          21,
          22
         ],
         "xaxis": "x",
         "y": [
          -0.06984750669430972,
          0.12126504770076717,
          0.010256247707626754,
          -0.09311269082857476,
          0.2752901172330625,
          -0.10022012773609475,
          0.6252648898230622,
          -0.22391682854500305,
          0.00916857892148828,
          -0.031790020065441085,
          0.18017180521286932,
          -0.27434170782843537,
          0.6220674232500438,
          0.19140045183981322,
          -0.21717610042971927,
          0.03163320906996693
         ],
         "yaxis": "y"
        },
        {
         "hovertemplate": "MCT_CAT_CD=숙박<br>week=%{x}<br>elastic=%{y}<extra></extra>",
         "legendgroup": "숙박",
         "line": {
          "color": "#636efa",
          "dash": "solid"
         },
         "mode": "lines",
         "name": "숙박",
         "orientation": "v",
         "showlegend": true,
         "type": "scatter",
         "x": [
          7,
          8,
          9,
          10,
          11,
          12,
          13,
          14,
          15,
          16,
          17,
          18,
          19,
          20,
          21,
          22
         ],
         "xaxis": "x",
         "y": [
          0.17629454676669265,
          -0.09650257492745727,
          -0.31792674245179275,
          -0.177595875700118,
          0.11803796329805358,
          0.018973416394874213,
          -0.2570865783361271,
          0.12287111011089856,
          0.05770959478428307,
          0.2441962716058567,
          -0.027212542001366156,
          0.3748999051962322,
          0.060960967419922546,
          -0.14405447024750748,
          0.013558591589456472,
          0.2684991686204506
         ],
         "yaxis": "y"
        },
        {
         "hovertemplate": "MCT_CAT_CD=신변잡화<br>week=%{x}<br>elastic=%{y}<extra></extra>",
         "legendgroup": "신변잡화",
         "line": {
          "color": "#EF553B",
          "dash": "solid"
         },
         "mode": "lines",
         "name": "신변잡화",
         "orientation": "v",
         "showlegend": true,
         "type": "scatter",
         "x": [
          7,
          8,
          9,
          10,
          11,
          12,
          13,
          14,
          15,
          16,
          17,
          18,
          19,
          20,
          21,
          22
         ],
         "xaxis": "x",
         "y": [
          0.4631230116648993,
          -0.08242886565559562,
          -0.034572586139369865,
          -0.12566029566927858,
          0.06475315236632173,
          0.2070059670830869,
          -0.006729144355012423,
          -0.12956446839119956,
          -0.015689123061887994,
          -0.00883233186038677,
          0.3244157021285779,
          0.11780664924963745,
          -0.05862473609150609,
          0.036935667443499,
          0.12768351035697176,
          0.055090286889723415
         ],
         "yaxis": "y"
        },
        {
         "hovertemplate": "MCT_CAT_CD=연료판매<br>week=%{x}<br>elastic=%{y}<extra></extra>",
         "legendgroup": "연료판매",
         "line": {
          "color": "#00cc96",
          "dash": "solid"
         },
         "mode": "lines",
         "name": "연료판매",
         "orientation": "v",
         "showlegend": true,
         "type": "scatter",
         "x": [
          7,
          8,
          9,
          10,
          11,
          12,
          13,
          14,
          15,
          16,
          17,
          18,
          19,
          20,
          21,
          22
         ],
         "xaxis": "x",
         "y": [
          0.01298565274779715,
          0.028312324623435667,
          -0.12107638786953585,
          -0.0024612730480789544,
          0.0036020319712774993,
          -0.007162360033914237,
          0.006104243440521641,
          -0.017616696260935025,
          -0.03237134590408062,
          -0.0672195754844394,
          0.11428781298837298,
          -0.02058753059923152,
          -0.0983600120978824,
          0.04047256513346343,
          0.04921988718545414,
          0.0530624571806537
         ],
         "yaxis": "y"
        },
        {
         "hovertemplate": "MCT_CAT_CD=요식업소<br>week=%{x}<br>elastic=%{y}<extra></extra>",
         "legendgroup": "요식업소",
         "line": {
          "color": "#ab63fa",
          "dash": "solid"
         },
         "mode": "lines",
         "name": "요식업소",
         "orientation": "v",
         "showlegend": true,
         "type": "scatter",
         "x": [
          7,
          8,
          9,
          10,
          11,
          12,
          13,
          14,
          15,
          16,
          17,
          18,
          19,
          20,
          21,
          22
         ],
         "xaxis": "x",
         "y": [
          0.0900063594104121,
          -0.07813701898736372,
          -0.18353362349289318,
          0.034083577004769716,
          0.01479444857333021,
          0.02377461305177672,
          0.0593859219092869,
          -0.007523982868861607,
          -0.007764704016719605,
          0.040369251349407866,
          0.048016691747036884,
          0.05634999032024333,
          0.015517984819100451,
          0.04742102286400663,
          0.05808950079070949,
          -0.0012302876000940398
         ],
         "yaxis": "y"
        },
        {
         "hovertemplate": "MCT_CAT_CD=유통업<br>week=%{x}<br>elastic=%{y}<extra></extra>",
         "legendgroup": "유통업",
         "line": {
          "color": "#FFA15A",
          "dash": "solid"
         },
         "mode": "lines",
         "name": "유통업",
         "orientation": "v",
         "showlegend": true,
         "type": "scatter",
         "x": [
          7,
          8,
          9,
          10,
          11,
          12,
          13,
          14,
          15,
          16,
          17,
          18,
          19,
          20,
          21,
          22
         ],
         "xaxis": "x",
         "y": [
          0.1967503439506891,
          -0.09347075990155847,
          -0.0841387104305838,
          -0.04512304608890426,
          0.07167089324755178,
          0.026135725606256665,
          0.05531869568360133,
          0.0018832485797861836,
          -0.00593246071614704,
          0.08537451459754473,
          -0.09490203650304858,
          0.2620240370969764,
          -0.030077089252076146,
          0.03446593481640169,
          -0.0375328327885472,
          0.03413861455558166
         ],
         "yaxis": "y"
        },
        {
         "hovertemplate": "MCT_CAT_CD=음료식품<br>week=%{x}<br>elastic=%{y}<extra></extra>",
         "legendgroup": "음료식품",
         "line": {
          "color": "#19d3f3",
          "dash": "solid"
         },
         "mode": "lines",
         "name": "음료식품",
         "orientation": "v",
         "showlegend": true,
         "type": "scatter",
         "x": [
          7,
          8,
          9,
          10,
          11,
          12,
          13,
          14,
          15,
          16,
          17,
          18,
          19,
          20,
          21,
          22
         ],
         "xaxis": "x",
         "y": [
          0.041967362411183096,
          0.013783080070017903,
          0.1959553934576914,
          -0.14200814085380634,
          0.007675244843913563,
          -0.012362058950957633,
          0.15457828281272146,
          -0.06040428529874067,
          -0.0320704511122038,
          -0.06454951855432788,
          0.10486451854738851,
          0.054795337264725956,
          -0.07674359530790802,
          0.2223072115621134,
          0.14159990411952145,
          -0.02318413570508369
         ],
         "yaxis": "y"
        },
        {
         "hovertemplate": "MCT_CAT_CD=의료기관<br>week=%{x}<br>elastic=%{y}<extra></extra>",
         "legendgroup": "의료기관",
         "line": {
          "color": "#FF6692",
          "dash": "solid"
         },
         "mode": "lines",
         "name": "의료기관",
         "orientation": "v",
         "showlegend": true,
         "type": "scatter",
         "x": [
          7,
          8,
          9,
          10,
          11,
          12,
          13,
          14,
          15,
          16,
          17,
          18,
          19,
          20,
          21,
          22
         ],
         "xaxis": "x",
         "y": [
          -0.02403036522801119,
          0.03337563814393503,
          0.6025146552034827,
          -0.4780662113554314,
          -0.003906019000174436,
          0.004069979178741298,
          0.6582611953009325,
          -0.1929400565114055,
          -0.17707905325184992,
          -0.03893917938898476,
          0.3148853368074694,
          0.19618430489053992,
          -0.3480507711514487,
          0.18141050643375703,
          0.08748353403003814,
          0.5818638429837034
         ],
         "yaxis": "y"
        },
        {
         "hovertemplate": "MCT_CAT_CD=의복<br>week=%{x}<br>elastic=%{y}<extra></extra>",
         "legendgroup": "의복",
         "line": {
          "color": "#B6E880",
          "dash": "solid"
         },
         "mode": "lines",
         "name": "의복",
         "orientation": "v",
         "showlegend": true,
         "type": "scatter",
         "x": [
          7,
          8,
          9,
          10,
          11,
          12,
          13,
          14,
          15,
          16,
          17,
          18,
          19,
          20,
          21,
          22
         ],
         "xaxis": "x",
         "y": [
          0.30596913479636123,
          -0.12881789878593666,
          -0.43778933877989684,
          0.5440464031431659,
          -0.08675281917559828,
          0.13770389287872675,
          0.09090387835897179,
          -0.004475464991025508,
          -0.016311059514916203,
          0.14892955475177996,
          0.02118483437770153,
          0.37264016018306634,
          -0.006317515284311172,
          0.04938073143389354,
          0.29909375880516786,
          -0.041700164550844625
         ],
         "yaxis": "y"
        },
        {
         "hovertemplate": "MCT_CAT_CD=자동차정비<br>week=%{x}<br>elastic=%{y}<extra></extra>",
         "legendgroup": "자동차정비",
         "line": {
          "color": "#FF97FF",
          "dash": "solid"
         },
         "mode": "lines",
         "name": "자동차정비",
         "orientation": "v",
         "showlegend": true,
         "type": "scatter",
         "x": [
          7,
          8,
          9,
          10,
          11,
          12,
          13,
          14,
          15,
          16,
          17,
          18,
          19,
          20,
          21,
          22
         ],
         "xaxis": "x",
         "y": [
          -0.05794195286469467,
          0.0143622583429678,
          0.10975015090364654,
          -0.1471568482113052,
          0.004930851775569336,
          -0.047533480504030605,
          0.14197338921667513,
          0.053480781309527485,
          -0.06765079271994327,
          -0.15677040684990384,
          0.22345883315007486,
          0.1675960623280317,
          -0.057676854510168345,
          0.010421808218615795,
          0.18416474466587654,
          0.17233181445107973
         ],
         "yaxis": "y"
        },
        {
         "hovertemplate": "MCT_CAT_CD=자동차판매<br>week=%{x}<br>elastic=%{y}<extra></extra>",
         "legendgroup": "자동차판매",
         "line": {
          "color": "#FECB52",
          "dash": "solid"
         },
         "mode": "lines",
         "name": "자동차판매",
         "orientation": "v",
         "showlegend": true,
         "type": "scatter",
         "x": [
          7,
          8,
          9,
          10,
          11,
          12,
          13,
          14,
          15,
          16,
          17,
          18,
          19,
          20,
          21,
          22
         ],
         "xaxis": "x",
         "y": [
          0.04509998241716085,
          -0.49007762015829925,
          1.6423965206958608,
          0.2014586111978206,
          -0.4665384924252802,
          0.33125237981386535,
          0.33925114908505555,
          0.001738361668628532,
          0.4892334237365449,
          -0.44165040850706816,
          1.0284364993709267,
          -0.11648730242251965,
          -0.4101798001038076,
          0.22651375836276047,
          0.08233492312433024,
          -0.24738347264066357
         ],
         "yaxis": "y"
        },
        {
         "hovertemplate": "MCT_CAT_CD=전기<br>week=%{x}<br>elastic=%{y}<extra></extra>",
         "legendgroup": "전기",
         "line": {
          "color": "#636efa",
          "dash": "solid"
         },
         "mode": "lines",
         "name": "전기",
         "orientation": "v",
         "showlegend": true,
         "type": "scatter",
         "x": [
          7,
          8,
          9,
          10,
          11,
          12,
          13,
          14,
          15,
          16,
          17,
          18,
          19,
          20,
          21,
          22
         ],
         "xaxis": "x",
         "y": [
          -0.3679797024167885,
          0.2801592161665646,
          -0.37537537537537535,
          0.5341643975493533,
          0.02163121550791758,
          0.0477754553598089,
          -0.32752143837923264,
          0.18326462996494203,
          0.5109396366477827,
          -0.44355377421509684,
          0.7109553498818882,
          -0.07315196233760354,
          -0.3605128205128205,
          1.0957727116508191,
          -0.4196822273240771,
          0.13940783070112092
         ],
         "yaxis": "y"
        },
        {
         "hovertemplate": "MCT_CAT_CD=주방용구<br>week=%{x}<br>elastic=%{y}<extra></extra>",
         "legendgroup": "주방용구",
         "line": {
          "color": "#EF553B",
          "dash": "solid"
         },
         "mode": "lines",
         "name": "주방용구",
         "orientation": "v",
         "showlegend": true,
         "type": "scatter",
         "x": [
          7,
          8,
          9,
          10,
          11,
          12,
          13,
          14,
          15,
          16,
          17,
          18,
          19,
          20,
          21,
          22
         ],
         "xaxis": "x",
         "y": [
          -0.08360814511018377,
          0.13700571237699077,
          -0.2873418651194389,
          0.2798414211550105,
          -0.42665972154071075,
          0.7058715097039229,
          0.17725046053782584,
          -0.05454477903878978,
          0.13579636208972956,
          -0.22774229787649738,
          0.0014046461372231227,
          -0.036651157404970686,
          0.15449064500178933,
          0.27580013913405615,
          0.044010156332592074,
          0.24024871202700301
         ],
         "yaxis": "y"
        },
        {
         "hovertemplate": "MCT_CAT_CD=직물<br>week=%{x}<br>elastic=%{y}<extra></extra>",
         "legendgroup": "직물",
         "line": {
          "color": "#00cc96",
          "dash": "solid"
         },
         "mode": "lines",
         "name": "직물",
         "orientation": "v",
         "showlegend": true,
         "type": "scatter",
         "x": [
          7,
          8,
          9,
          10,
          11,
          12,
          13,
          14,
          15,
          16,
          17,
          18,
          19,
          20,
          21,
          22
         ],
         "xaxis": "x",
         "y": [
          -0.4797607976014724,
          0.08293277494765135,
          1.5040778514657756,
          -0.6254601361334504,
          1.0412517693396517,
          -0.3021047204710522,
          -0.17303006739243132,
          0.7834526999848507,
          -0.5476287415678337,
          0.7425731675731676,
          -0.26817105932974883,
          0.7421757585604615,
          -0.20573260473588342,
          0.47059622137502616,
          0.0384918634882456,
          0.3000867344364544
         ],
         "yaxis": "y"
        }
       ],
       "layout": {
        "legend": {
         "title": {
          "text": "MCT_CAT_CD"
         },
         "tracegroupgap": 0
        },
        "margin": {
         "t": 60
        },
        "template": {
         "data": {
          "bar": [
           {
            "error_x": {
             "color": "#2a3f5f"
            },
            "error_y": {
             "color": "#2a3f5f"
            },
            "marker": {
             "line": {
              "color": "#E5ECF6",
              "width": 0.5
             }
            },
            "type": "bar"
           }
          ],
          "barpolar": [
           {
            "marker": {
             "line": {
              "color": "#E5ECF6",
              "width": 0.5
             }
            },
            "type": "barpolar"
           }
          ],
          "carpet": [
           {
            "aaxis": {
             "endlinecolor": "#2a3f5f",
             "gridcolor": "white",
             "linecolor": "white",
             "minorgridcolor": "white",
             "startlinecolor": "#2a3f5f"
            },
            "baxis": {
             "endlinecolor": "#2a3f5f",
             "gridcolor": "white",
             "linecolor": "white",
             "minorgridcolor": "white",
             "startlinecolor": "#2a3f5f"
            },
            "type": "carpet"
           }
          ],
          "choropleth": [
           {
            "colorbar": {
             "outlinewidth": 0,
             "ticks": ""
            },
            "type": "choropleth"
           }
          ],
          "contour": [
           {
            "colorbar": {
             "outlinewidth": 0,
             "ticks": ""
            },
            "colorscale": [
             [
              0,
              "#0d0887"
             ],
             [
              0.1111111111111111,
              "#46039f"
             ],
             [
              0.2222222222222222,
              "#7201a8"
             ],
             [
              0.3333333333333333,
              "#9c179e"
             ],
             [
              0.4444444444444444,
              "#bd3786"
             ],
             [
              0.5555555555555556,
              "#d8576b"
             ],
             [
              0.6666666666666666,
              "#ed7953"
             ],
             [
              0.7777777777777778,
              "#fb9f3a"
             ],
             [
              0.8888888888888888,
              "#fdca26"
             ],
             [
              1,
              "#f0f921"
             ]
            ],
            "type": "contour"
           }
          ],
          "contourcarpet": [
           {
            "colorbar": {
             "outlinewidth": 0,
             "ticks": ""
            },
            "type": "contourcarpet"
           }
          ],
          "heatmap": [
           {
            "colorbar": {
             "outlinewidth": 0,
             "ticks": ""
            },
            "colorscale": [
             [
              0,
              "#0d0887"
             ],
             [
              0.1111111111111111,
              "#46039f"
             ],
             [
              0.2222222222222222,
              "#7201a8"
             ],
             [
              0.3333333333333333,
              "#9c179e"
             ],
             [
              0.4444444444444444,
              "#bd3786"
             ],
             [
              0.5555555555555556,
              "#d8576b"
             ],
             [
              0.6666666666666666,
              "#ed7953"
             ],
             [
              0.7777777777777778,
              "#fb9f3a"
             ],
             [
              0.8888888888888888,
              "#fdca26"
             ],
             [
              1,
              "#f0f921"
             ]
            ],
            "type": "heatmap"
           }
          ],
          "heatmapgl": [
           {
            "colorbar": {
             "outlinewidth": 0,
             "ticks": ""
            },
            "colorscale": [
             [
              0,
              "#0d0887"
             ],
             [
              0.1111111111111111,
              "#46039f"
             ],
             [
              0.2222222222222222,
              "#7201a8"
             ],
             [
              0.3333333333333333,
              "#9c179e"
             ],
             [
              0.4444444444444444,
              "#bd3786"
             ],
             [
              0.5555555555555556,
              "#d8576b"
             ],
             [
              0.6666666666666666,
              "#ed7953"
             ],
             [
              0.7777777777777778,
              "#fb9f3a"
             ],
             [
              0.8888888888888888,
              "#fdca26"
             ],
             [
              1,
              "#f0f921"
             ]
            ],
            "type": "heatmapgl"
           }
          ],
          "histogram": [
           {
            "marker": {
             "colorbar": {
              "outlinewidth": 0,
              "ticks": ""
             }
            },
            "type": "histogram"
           }
          ],
          "histogram2d": [
           {
            "colorbar": {
             "outlinewidth": 0,
             "ticks": ""
            },
            "colorscale": [
             [
              0,
              "#0d0887"
             ],
             [
              0.1111111111111111,
              "#46039f"
             ],
             [
              0.2222222222222222,
              "#7201a8"
             ],
             [
              0.3333333333333333,
              "#9c179e"
             ],
             [
              0.4444444444444444,
              "#bd3786"
             ],
             [
              0.5555555555555556,
              "#d8576b"
             ],
             [
              0.6666666666666666,
              "#ed7953"
             ],
             [
              0.7777777777777778,
              "#fb9f3a"
             ],
             [
              0.8888888888888888,
              "#fdca26"
             ],
             [
              1,
              "#f0f921"
             ]
            ],
            "type": "histogram2d"
           }
          ],
          "histogram2dcontour": [
           {
            "colorbar": {
             "outlinewidth": 0,
             "ticks": ""
            },
            "colorscale": [
             [
              0,
              "#0d0887"
             ],
             [
              0.1111111111111111,
              "#46039f"
             ],
             [
              0.2222222222222222,
              "#7201a8"
             ],
             [
              0.3333333333333333,
              "#9c179e"
             ],
             [
              0.4444444444444444,
              "#bd3786"
             ],
             [
              0.5555555555555556,
              "#d8576b"
             ],
             [
              0.6666666666666666,
              "#ed7953"
             ],
             [
              0.7777777777777778,
              "#fb9f3a"
             ],
             [
              0.8888888888888888,
              "#fdca26"
             ],
             [
              1,
              "#f0f921"
             ]
            ],
            "type": "histogram2dcontour"
           }
          ],
          "mesh3d": [
           {
            "colorbar": {
             "outlinewidth": 0,
             "ticks": ""
            },
            "type": "mesh3d"
           }
          ],
          "parcoords": [
           {
            "line": {
             "colorbar": {
              "outlinewidth": 0,
              "ticks": ""
             }
            },
            "type": "parcoords"
           }
          ],
          "pie": [
           {
            "automargin": true,
            "type": "pie"
           }
          ],
          "scatter": [
           {
            "marker": {
             "colorbar": {
              "outlinewidth": 0,
              "ticks": ""
             }
            },
            "type": "scatter"
           }
          ],
          "scatter3d": [
           {
            "line": {
             "colorbar": {
              "outlinewidth": 0,
              "ticks": ""
             }
            },
            "marker": {
             "colorbar": {
              "outlinewidth": 0,
              "ticks": ""
             }
            },
            "type": "scatter3d"
           }
          ],
          "scattercarpet": [
           {
            "marker": {
             "colorbar": {
              "outlinewidth": 0,
              "ticks": ""
             }
            },
            "type": "scattercarpet"
           }
          ],
          "scattergeo": [
           {
            "marker": {
             "colorbar": {
              "outlinewidth": 0,
              "ticks": ""
             }
            },
            "type": "scattergeo"
           }
          ],
          "scattergl": [
           {
            "marker": {
             "colorbar": {
              "outlinewidth": 0,
              "ticks": ""
             }
            },
            "type": "scattergl"
           }
          ],
          "scattermapbox": [
           {
            "marker": {
             "colorbar": {
              "outlinewidth": 0,
              "ticks": ""
             }
            },
            "type": "scattermapbox"
           }
          ],
          "scatterpolar": [
           {
            "marker": {
             "colorbar": {
              "outlinewidth": 0,
              "ticks": ""
             }
            },
            "type": "scatterpolar"
           }
          ],
          "scatterpolargl": [
           {
            "marker": {
             "colorbar": {
              "outlinewidth": 0,
              "ticks": ""
             }
            },
            "type": "scatterpolargl"
           }
          ],
          "scatterternary": [
           {
            "marker": {
             "colorbar": {
              "outlinewidth": 0,
              "ticks": ""
             }
            },
            "type": "scatterternary"
           }
          ],
          "surface": [
           {
            "colorbar": {
             "outlinewidth": 0,
             "ticks": ""
            },
            "colorscale": [
             [
              0,
              "#0d0887"
             ],
             [
              0.1111111111111111,
              "#46039f"
             ],
             [
              0.2222222222222222,
              "#7201a8"
             ],
             [
              0.3333333333333333,
              "#9c179e"
             ],
             [
              0.4444444444444444,
              "#bd3786"
             ],
             [
              0.5555555555555556,
              "#d8576b"
             ],
             [
              0.6666666666666666,
              "#ed7953"
             ],
             [
              0.7777777777777778,
              "#fb9f3a"
             ],
             [
              0.8888888888888888,
              "#fdca26"
             ],
             [
              1,
              "#f0f921"
             ]
            ],
            "type": "surface"
           }
          ],
          "table": [
           {
            "cells": {
             "fill": {
              "color": "#EBF0F8"
             },
             "line": {
              "color": "white"
             }
            },
            "header": {
             "fill": {
              "color": "#C8D4E3"
             },
             "line": {
              "color": "white"
             }
            },
            "type": "table"
           }
          ]
         },
         "layout": {
          "annotationdefaults": {
           "arrowcolor": "#2a3f5f",
           "arrowhead": 0,
           "arrowwidth": 1
          },
          "coloraxis": {
           "colorbar": {
            "outlinewidth": 0,
            "ticks": ""
           }
          },
          "colorscale": {
           "diverging": [
            [
             0,
             "#8e0152"
            ],
            [
             0.1,
             "#c51b7d"
            ],
            [
             0.2,
             "#de77ae"
            ],
            [
             0.3,
             "#f1b6da"
            ],
            [
             0.4,
             "#fde0ef"
            ],
            [
             0.5,
             "#f7f7f7"
            ],
            [
             0.6,
             "#e6f5d0"
            ],
            [
             0.7,
             "#b8e186"
            ],
            [
             0.8,
             "#7fbc41"
            ],
            [
             0.9,
             "#4d9221"
            ],
            [
             1,
             "#276419"
            ]
           ],
           "sequential": [
            [
             0,
             "#0d0887"
            ],
            [
             0.1111111111111111,
             "#46039f"
            ],
            [
             0.2222222222222222,
             "#7201a8"
            ],
            [
             0.3333333333333333,
             "#9c179e"
            ],
            [
             0.4444444444444444,
             "#bd3786"
            ],
            [
             0.5555555555555556,
             "#d8576b"
            ],
            [
             0.6666666666666666,
             "#ed7953"
            ],
            [
             0.7777777777777778,
             "#fb9f3a"
            ],
            [
             0.8888888888888888,
             "#fdca26"
            ],
            [
             1,
             "#f0f921"
            ]
           ],
           "sequentialminus": [
            [
             0,
             "#0d0887"
            ],
            [
             0.1111111111111111,
             "#46039f"
            ],
            [
             0.2222222222222222,
             "#7201a8"
            ],
            [
             0.3333333333333333,
             "#9c179e"
            ],
            [
             0.4444444444444444,
             "#bd3786"
            ],
            [
             0.5555555555555556,
             "#d8576b"
            ],
            [
             0.6666666666666666,
             "#ed7953"
            ],
            [
             0.7777777777777778,
             "#fb9f3a"
            ],
            [
             0.8888888888888888,
             "#fdca26"
            ],
            [
             1,
             "#f0f921"
            ]
           ]
          },
          "colorway": [
           "#636efa",
           "#EF553B",
           "#00cc96",
           "#ab63fa",
           "#FFA15A",
           "#19d3f3",
           "#FF6692",
           "#B6E880",
           "#FF97FF",
           "#FECB52"
          ],
          "font": {
           "color": "#2a3f5f"
          },
          "geo": {
           "bgcolor": "white",
           "lakecolor": "white",
           "landcolor": "#E5ECF6",
           "showlakes": true,
           "showland": true,
           "subunitcolor": "white"
          },
          "hoverlabel": {
           "align": "left"
          },
          "hovermode": "closest",
          "mapbox": {
           "style": "light"
          },
          "paper_bgcolor": "white",
          "plot_bgcolor": "#E5ECF6",
          "polar": {
           "angularaxis": {
            "gridcolor": "white",
            "linecolor": "white",
            "ticks": ""
           },
           "bgcolor": "#E5ECF6",
           "radialaxis": {
            "gridcolor": "white",
            "linecolor": "white",
            "ticks": ""
           }
          },
          "scene": {
           "xaxis": {
            "backgroundcolor": "#E5ECF6",
            "gridcolor": "white",
            "gridwidth": 2,
            "linecolor": "white",
            "showbackground": true,
            "ticks": "",
            "zerolinecolor": "white"
           },
           "yaxis": {
            "backgroundcolor": "#E5ECF6",
            "gridcolor": "white",
            "gridwidth": 2,
            "linecolor": "white",
            "showbackground": true,
            "ticks": "",
            "zerolinecolor": "white"
           },
           "zaxis": {
            "backgroundcolor": "#E5ECF6",
            "gridcolor": "white",
            "gridwidth": 2,
            "linecolor": "white",
            "showbackground": true,
            "ticks": "",
            "zerolinecolor": "white"
           }
          },
          "shapedefaults": {
           "line": {
            "color": "#2a3f5f"
           }
          },
          "ternary": {
           "aaxis": {
            "gridcolor": "white",
            "linecolor": "white",
            "ticks": ""
           },
           "baxis": {
            "gridcolor": "white",
            "linecolor": "white",
            "ticks": ""
           },
           "bgcolor": "#E5ECF6",
           "caxis": {
            "gridcolor": "white",
            "linecolor": "white",
            "ticks": ""
           }
          },
          "title": {
           "x": 0.05
          },
          "xaxis": {
           "automargin": true,
           "gridcolor": "white",
           "linecolor": "white",
           "ticks": "",
           "title": {
            "standoff": 15
           },
           "zerolinecolor": "white",
           "zerolinewidth": 2
          },
          "yaxis": {
           "automargin": true,
           "gridcolor": "white",
           "linecolor": "white",
           "ticks": "",
           "title": {
            "standoff": 15
           },
           "zerolinecolor": "white",
           "zerolinewidth": 2
          }
         }
        },
        "xaxis": {
         "anchor": "y",
         "domain": [
          0,
          1
         ],
         "tickmode": "array",
         "ticktext": [
          "12/23",
          "12/30",
          "1/6",
          "1/13",
          "1/20",
          "1/27",
          "2/3",
          "2/10",
          "2/17",
          "2/24",
          "3/2",
          "3/9",
          "3/16",
          "3/23",
          "3/30",
          "4/6",
          "4/13",
          "4/20",
          "4/27",
          "5/4",
          "5/11",
          "5/18",
          "5/25",
          "6/1",
          "6/8",
          "6/15",
          "6/22",
          "6/29",
          "7/6",
          "7/13",
          "7/20",
          "7/27",
          "8/3",
          "8/10",
          "8/17",
          "8/24",
          "8/31",
          "9/7",
          "9/14",
          "9/21",
          "9/28",
          "10/5",
          "10/12",
          "10/19",
          "10/26",
          "11/2",
          "11/9",
          "11/16",
          "11/23",
          "11/30",
          "12/7",
          "12/14"
         ],
         "tickvals": [
          0,
          1,
          2,
          3,
          4,
          5,
          6,
          7,
          8,
          9,
          10,
          11,
          12,
          13,
          14,
          15,
          16,
          17,
          18,
          19,
          20,
          21,
          22,
          23,
          24,
          25,
          26,
          27,
          28,
          29,
          30,
          31,
          32,
          33,
          34,
          35,
          36,
          37,
          38,
          39,
          40,
          41,
          42,
          43,
          44,
          45,
          46,
          47,
          48,
          49,
          50,
          51
         ],
         "title": {
          "text": "week"
         }
        },
        "yaxis": {
         "anchor": "x",
         "domain": [
          0,
          1
         ],
         "title": {
          "text": "elastic"
         }
        }
       }
      },
      "text/html": [
       "<div>\n",
       "        \n",
       "        \n",
       "            <div id=\"7ab10df3-977a-476f-b4ed-95159fbb7407\" class=\"plotly-graph-div\" style=\"height:525px; width:100%;\"></div>\n",
       "            <script type=\"text/javascript\">\n",
       "                require([\"plotly\"], function(Plotly) {\n",
       "                    window.PLOTLYENV=window.PLOTLYENV || {};\n",
       "                    \n",
       "                if (document.getElementById(\"7ab10df3-977a-476f-b4ed-95159fbb7407\")) {\n",
       "                    Plotly.newPlot(\n",
       "                        '7ab10df3-977a-476f-b4ed-95159fbb7407',\n",
       "                        [{\"hovertemplate\": \"MCT_CAT_CD=\\uac00\\uad6c<br>week=%{x}<br>elastic=%{y}<extra></extra>\", \"legendgroup\": \"\\uac00\\uad6c\", \"line\": {\"color\": \"#636efa\", \"dash\": \"solid\"}, \"mode\": \"lines\", \"name\": \"\\uac00\\uad6c\", \"orientation\": \"v\", \"showlegend\": true, \"type\": \"scatter\", \"x\": [7, 8, 9, 10, 11, 12, 13, 14, 15, 16, 17, 18, 19, 20, 21, 22], \"xaxis\": \"x\", \"y\": [0.18617337109513496, -0.18771832527855606, -0.16103318023018673, 0.5646659691176005, -0.14773986112236903, -0.22757426370351583, 0.11397671829547962, 0.3130109195746386, -0.40181972514714237, 0.8753782103905242, 0.059072561103346494, -0.1384919697685404, -0.07849628182721634, 0.773949067325142, 0.2277043826070915, -0.23177982453444254], \"yaxis\": \"y\"}, {\"hovertemplate\": \"MCT_CAT_CD=\\uac00\\uc804<br>week=%{x}<br>elastic=%{y}<extra></extra>\", \"legendgroup\": \"\\uac00\\uc804\", \"line\": {\"color\": \"#EF553B\", \"dash\": \"solid\"}, \"mode\": \"lines\", \"name\": \"\\uac00\\uc804\", \"orientation\": \"v\", \"showlegend\": true, \"type\": \"scatter\", \"x\": [7, 8, 9, 10, 11, 12, 13, 14, 15, 16, 17, 18, 19, 20, 21, 22], \"xaxis\": \"x\", \"y\": [0.1189054476200054, -0.11832743961868275, 0.16906498120957456, 0.09497580188062262, -0.25645805128613525, 0.032637933592839154, 0.23910809844280245, 0.061032274377989075, -0.06087032267713714, -0.1498761823925237, -0.12504503206282874, 0.602110476504185, -0.11787870465963611, 0.17569013036373823, 0.049949978511646544, -0.16342985767481127], \"yaxis\": \"y\"}, {\"hovertemplate\": \"MCT_CAT_CD=\\uad11\\ud559\\uc81c\\ud488<br>week=%{x}<br>elastic=%{y}<extra></extra>\", \"legendgroup\": \"\\uad11\\ud559\\uc81c\\ud488\", \"line\": {\"color\": \"#00cc96\", \"dash\": \"solid\"}, \"mode\": \"lines\", \"name\": \"\\uad11\\ud559\\uc81c\\ud488\", \"orientation\": \"v\", \"showlegend\": true, \"type\": \"scatter\", \"x\": [7, 8, 9, 10, 11, 12, 13, 14, 15, 16, 17, 18, 19, 20, 21, 22], \"xaxis\": \"x\", \"y\": [0.44851599221036104, -0.22120589291119105, 0.09357163838488827, 0.2949820447867896, -0.39937582569070823, 0.14552651152906174, -0.3150720510549091, 1.7942686114383997, -0.3169062551496176, 0.0474563644103874, 0.07615399465550352, -0.4880469059803237, 0.6685662295827723, -0.19273166705965575, 0.00619774361970134, 0.22474713112895178], \"yaxis\": \"y\"}, {\"hovertemplate\": \"MCT_CAT_CD=\\ub808\\uc800\\uc5c5\\uc18c<br>week=%{x}<br>elastic=%{y}<extra></extra>\", \"legendgroup\": \"\\ub808\\uc800\\uc5c5\\uc18c\", \"line\": {\"color\": \"#ab63fa\", \"dash\": \"solid\"}, \"mode\": \"lines\", \"name\": \"\\ub808\\uc800\\uc5c5\\uc18c\", \"orientation\": \"v\", \"showlegend\": true, \"type\": \"scatter\", \"x\": [7, 8, 9, 10, 11, 12, 13, 14, 15, 16, 17, 18, 19, 20, 21, 22], \"xaxis\": \"x\", \"y\": [0.06949644711669856, -0.046448889109950944, -0.27934951817313036, -0.020717069037417955, -0.009641217595323827, 0.06981825302706211, -0.3004401389858691, -0.02112924105815459, 0.24883918724414453, 0.028780488900098267, 0.30336546540582654, 0.0079468335736137, 0.10687886062035722, -0.03339274913740359, 0.0987848819817013, 0.07643147092875924], \"yaxis\": \"y\"}, {\"hovertemplate\": \"MCT_CAT_CD=\\ub808\\uc800\\uc6a9\\ud488<br>week=%{x}<br>elastic=%{y}<extra></extra>\", \"legendgroup\": \"\\ub808\\uc800\\uc6a9\\ud488\", \"line\": {\"color\": \"#FFA15A\", \"dash\": \"solid\"}, \"mode\": \"lines\", \"name\": \"\\ub808\\uc800\\uc6a9\\ud488\", \"orientation\": \"v\", \"showlegend\": true, \"type\": \"scatter\", \"x\": [7, 8, 9, 10, 11, 12, 13, 14, 15, 16, 17, 18, 19, 20, 21, 22], \"xaxis\": \"x\", \"y\": [0.23481590893815185, -0.23289449603042708, -0.2919235155610752, 0.24598694638062696, 0.07366868537889999, 0.08248732158482541, 0.05537759502557416, 0.06736499869652712, -0.009475551983770272, 0.15708648796023597, -0.10590119720476147, 0.5076235025366304, 0.03343403447632684, 0.06134369043204455, 0.08631471580885643, -0.0767149312337935], \"yaxis\": \"y\"}, {\"hovertemplate\": \"MCT_CAT_CD=\\ubb38\\ud654\\ucde8\\ubbf8<br>week=%{x}<br>elastic=%{y}<extra></extra>\", \"legendgroup\": \"\\ubb38\\ud654\\ucde8\\ubbf8\", \"line\": {\"color\": \"#19d3f3\", \"dash\": \"solid\"}, \"mode\": \"lines\", \"name\": \"\\ubb38\\ud654\\ucde8\\ubbf8\", \"orientation\": \"v\", \"showlegend\": true, \"type\": \"scatter\", \"x\": [7, 8, 9, 10, 11, 12, 13, 14, 15, 16, 17, 18, 19, 20, 21, 22], \"xaxis\": \"x\", \"y\": [0.1946295583752069, -0.2536477709337074, -0.32214119004938535, 0.22608387735959226, 0.012938013672325064, -0.06772808065856603, 0.010938420143351217, 0.2813474554179178, 0.030190461120362486, -0.07021667207107488, 0.017385193479110234, 0.1537208529107784, 0.9176151785734232, -0.3578631474957595, -0.1028955007256894, -0.0745605520097718], \"yaxis\": \"y\"}, {\"hovertemplate\": \"MCT_CAT_CD=\\ubcf4\\uac74\\uc704\\uc0dd<br>week=%{x}<br>elastic=%{y}<extra></extra>\", \"legendgroup\": \"\\ubcf4\\uac74\\uc704\\uc0dd\", \"line\": {\"color\": \"#FF6692\", \"dash\": \"solid\"}, \"mode\": \"lines\", \"name\": \"\\ubcf4\\uac74\\uc704\\uc0dd\", \"orientation\": \"v\", \"showlegend\": true, \"type\": \"scatter\", \"x\": [7, 8, 9, 10, 11, 12, 13, 14, 15, 16, 17, 18, 19, 20, 21, 22], \"xaxis\": \"x\", \"y\": [0.14569063952519148, -0.14797392758741001, -0.07976191459934952, -0.1409798173131767, 0.04277806750503022, -0.009986708151096393, 0.08435046626978918, 0.06344744295239574, -0.1139683750735401, 0.10899983372589439, 0.016612618480706484, 0.3027255433782908, -0.1498730198874698, 0.16605413159851956, 0.20064473710084613, 0.05610199454020629], \"yaxis\": \"y\"}, {\"hovertemplate\": \"MCT_CAT_CD=\\uc0ac\\ubb34\\ud1b5\\uc2e0<br>week=%{x}<br>elastic=%{y}<extra></extra>\", \"legendgroup\": \"\\uc0ac\\ubb34\\ud1b5\\uc2e0\", \"line\": {\"color\": \"#B6E880\", \"dash\": \"solid\"}, \"mode\": \"lines\", \"name\": \"\\uc0ac\\ubb34\\ud1b5\\uc2e0\", \"orientation\": \"v\", \"showlegend\": true, \"type\": \"scatter\", \"x\": [7, 8, 9, 10, 11, 12, 13, 14, 15, 16, 17, 18, 19, 20, 21, 22], \"xaxis\": \"x\", \"y\": [-0.08398387900618919, -0.07630027323714107, 0.6479944782633515, -0.3218498306340804, -0.01423410426992171, -0.01566204711254314, 0.17964262897332597, 0.2605840309344779, -0.16141922334263034, -0.030155745306853433, 0.031928974617869914, 0.33585945573544607, -0.18394760032570392, 0.11092676698244229, -0.06317494828386878, 0.34918653527454785], \"yaxis\": \"y\"}, {\"hovertemplate\": \"MCT_CAT_CD=\\uc11c\\uc801\\ubb38\\uad6c<br>week=%{x}<br>elastic=%{y}<extra></extra>\", \"legendgroup\": \"\\uc11c\\uc801\\ubb38\\uad6c\", \"line\": {\"color\": \"#FF97FF\", \"dash\": \"solid\"}, \"mode\": \"lines\", \"name\": \"\\uc11c\\uc801\\ubb38\\uad6c\", \"orientation\": \"v\", \"showlegend\": true, \"type\": \"scatter\", \"x\": [7, 8, 9, 10, 11, 12, 13, 14, 15, 16, 17, 18, 19, 20, 21, 22], \"xaxis\": \"x\", \"y\": [-0.16465822837782934, -0.07585176155268794, 0.04142724200863736, -0.05367634779176219, 0.11043029149444045, -0.04860439604667458, 0.0379766332685764, 0.2526971951678301, -0.24425079521594087, -0.0348786895379385, 0.18801338606632187, 0.18270484148912614, -0.019584684223421685, -0.16786486125213895, 0.00583078743567077, 0.14835285831903264], \"yaxis\": \"y\"}, {\"hovertemplate\": \"MCT_CAT_CD=\\uc218\\ub9ac\\uc11c\\ube44\\uc2a4<br>week=%{x}<br>elastic=%{y}<extra></extra>\", \"legendgroup\": \"\\uc218\\ub9ac\\uc11c\\ube44\\uc2a4\", \"line\": {\"color\": \"#FECB52\", \"dash\": \"solid\"}, \"mode\": \"lines\", \"name\": \"\\uc218\\ub9ac\\uc11c\\ube44\\uc2a4\", \"orientation\": \"v\", \"showlegend\": true, \"type\": \"scatter\", \"x\": [7, 8, 9, 10, 11, 12, 13, 14, 15, 16, 17, 18, 19, 20, 21, 22], \"xaxis\": \"x\", \"y\": [-0.06984750669430972, 0.12126504770076717, 0.010256247707626754, -0.09311269082857476, 0.2752901172330625, -0.10022012773609475, 0.6252648898230622, -0.22391682854500305, 0.00916857892148828, -0.031790020065441085, 0.18017180521286932, -0.27434170782843537, 0.6220674232500438, 0.19140045183981322, -0.21717610042971927, 0.03163320906996693], \"yaxis\": \"y\"}, {\"hovertemplate\": \"MCT_CAT_CD=\\uc219\\ubc15<br>week=%{x}<br>elastic=%{y}<extra></extra>\", \"legendgroup\": \"\\uc219\\ubc15\", \"line\": {\"color\": \"#636efa\", \"dash\": \"solid\"}, \"mode\": \"lines\", \"name\": \"\\uc219\\ubc15\", \"orientation\": \"v\", \"showlegend\": true, \"type\": \"scatter\", \"x\": [7, 8, 9, 10, 11, 12, 13, 14, 15, 16, 17, 18, 19, 20, 21, 22], \"xaxis\": \"x\", \"y\": [0.17629454676669265, -0.09650257492745727, -0.31792674245179275, -0.177595875700118, 0.11803796329805358, 0.018973416394874213, -0.2570865783361271, 0.12287111011089856, 0.05770959478428307, 0.2441962716058567, -0.027212542001366156, 0.3748999051962322, 0.060960967419922546, -0.14405447024750748, 0.013558591589456472, 0.2684991686204506], \"yaxis\": \"y\"}, {\"hovertemplate\": \"MCT_CAT_CD=\\uc2e0\\ubcc0\\uc7a1\\ud654<br>week=%{x}<br>elastic=%{y}<extra></extra>\", \"legendgroup\": \"\\uc2e0\\ubcc0\\uc7a1\\ud654\", \"line\": {\"color\": \"#EF553B\", \"dash\": \"solid\"}, \"mode\": \"lines\", \"name\": \"\\uc2e0\\ubcc0\\uc7a1\\ud654\", \"orientation\": \"v\", \"showlegend\": true, \"type\": \"scatter\", \"x\": [7, 8, 9, 10, 11, 12, 13, 14, 15, 16, 17, 18, 19, 20, 21, 22], \"xaxis\": \"x\", \"y\": [0.4631230116648993, -0.08242886565559562, -0.034572586139369865, -0.12566029566927858, 0.06475315236632173, 0.2070059670830869, -0.006729144355012423, -0.12956446839119956, -0.015689123061887994, -0.00883233186038677, 0.3244157021285779, 0.11780664924963745, -0.05862473609150609, 0.036935667443499, 0.12768351035697176, 0.055090286889723415], \"yaxis\": \"y\"}, {\"hovertemplate\": \"MCT_CAT_CD=\\uc5f0\\ub8cc\\ud310\\ub9e4<br>week=%{x}<br>elastic=%{y}<extra></extra>\", \"legendgroup\": \"\\uc5f0\\ub8cc\\ud310\\ub9e4\", \"line\": {\"color\": \"#00cc96\", \"dash\": \"solid\"}, \"mode\": \"lines\", \"name\": \"\\uc5f0\\ub8cc\\ud310\\ub9e4\", \"orientation\": \"v\", \"showlegend\": true, \"type\": \"scatter\", \"x\": [7, 8, 9, 10, 11, 12, 13, 14, 15, 16, 17, 18, 19, 20, 21, 22], \"xaxis\": \"x\", \"y\": [0.01298565274779715, 0.028312324623435667, -0.12107638786953585, -0.0024612730480789544, 0.0036020319712774993, -0.007162360033914237, 0.006104243440521641, -0.017616696260935025, -0.03237134590408062, -0.0672195754844394, 0.11428781298837298, -0.02058753059923152, -0.0983600120978824, 0.04047256513346343, 0.04921988718545414, 0.0530624571806537], \"yaxis\": \"y\"}, {\"hovertemplate\": \"MCT_CAT_CD=\\uc694\\uc2dd\\uc5c5\\uc18c<br>week=%{x}<br>elastic=%{y}<extra></extra>\", \"legendgroup\": \"\\uc694\\uc2dd\\uc5c5\\uc18c\", \"line\": {\"color\": \"#ab63fa\", \"dash\": \"solid\"}, \"mode\": \"lines\", \"name\": \"\\uc694\\uc2dd\\uc5c5\\uc18c\", \"orientation\": \"v\", \"showlegend\": true, \"type\": \"scatter\", \"x\": [7, 8, 9, 10, 11, 12, 13, 14, 15, 16, 17, 18, 19, 20, 21, 22], \"xaxis\": \"x\", \"y\": [0.0900063594104121, -0.07813701898736372, -0.18353362349289318, 0.034083577004769716, 0.01479444857333021, 0.02377461305177672, 0.0593859219092869, -0.007523982868861607, -0.007764704016719605, 0.040369251349407866, 0.048016691747036884, 0.05634999032024333, 0.015517984819100451, 0.04742102286400663, 0.05808950079070949, -0.0012302876000940398], \"yaxis\": \"y\"}, {\"hovertemplate\": \"MCT_CAT_CD=\\uc720\\ud1b5\\uc5c5<br>week=%{x}<br>elastic=%{y}<extra></extra>\", \"legendgroup\": \"\\uc720\\ud1b5\\uc5c5\", \"line\": {\"color\": \"#FFA15A\", \"dash\": \"solid\"}, \"mode\": \"lines\", \"name\": \"\\uc720\\ud1b5\\uc5c5\", \"orientation\": \"v\", \"showlegend\": true, \"type\": \"scatter\", \"x\": [7, 8, 9, 10, 11, 12, 13, 14, 15, 16, 17, 18, 19, 20, 21, 22], \"xaxis\": \"x\", \"y\": [0.1967503439506891, -0.09347075990155847, -0.0841387104305838, -0.04512304608890426, 0.07167089324755178, 0.026135725606256665, 0.05531869568360133, 0.0018832485797861836, -0.00593246071614704, 0.08537451459754473, -0.09490203650304858, 0.2620240370969764, -0.030077089252076146, 0.03446593481640169, -0.0375328327885472, 0.03413861455558166], \"yaxis\": \"y\"}, {\"hovertemplate\": \"MCT_CAT_CD=\\uc74c\\ub8cc\\uc2dd\\ud488<br>week=%{x}<br>elastic=%{y}<extra></extra>\", \"legendgroup\": \"\\uc74c\\ub8cc\\uc2dd\\ud488\", \"line\": {\"color\": \"#19d3f3\", \"dash\": \"solid\"}, \"mode\": \"lines\", \"name\": \"\\uc74c\\ub8cc\\uc2dd\\ud488\", \"orientation\": \"v\", \"showlegend\": true, \"type\": \"scatter\", \"x\": [7, 8, 9, 10, 11, 12, 13, 14, 15, 16, 17, 18, 19, 20, 21, 22], \"xaxis\": \"x\", \"y\": [0.041967362411183096, 0.013783080070017903, 0.1959553934576914, -0.14200814085380634, 0.007675244843913563, -0.012362058950957633, 0.15457828281272146, -0.06040428529874067, -0.0320704511122038, -0.06454951855432788, 0.10486451854738851, 0.054795337264725956, -0.07674359530790802, 0.2223072115621134, 0.14159990411952145, -0.02318413570508369], \"yaxis\": \"y\"}, {\"hovertemplate\": \"MCT_CAT_CD=\\uc758\\ub8cc\\uae30\\uad00<br>week=%{x}<br>elastic=%{y}<extra></extra>\", \"legendgroup\": \"\\uc758\\ub8cc\\uae30\\uad00\", \"line\": {\"color\": \"#FF6692\", \"dash\": \"solid\"}, \"mode\": \"lines\", \"name\": \"\\uc758\\ub8cc\\uae30\\uad00\", \"orientation\": \"v\", \"showlegend\": true, \"type\": \"scatter\", \"x\": [7, 8, 9, 10, 11, 12, 13, 14, 15, 16, 17, 18, 19, 20, 21, 22], \"xaxis\": \"x\", \"y\": [-0.02403036522801119, 0.03337563814393503, 0.6025146552034827, -0.4780662113554314, -0.003906019000174436, 0.004069979178741298, 0.6582611953009325, -0.1929400565114055, -0.17707905325184992, -0.03893917938898476, 0.3148853368074694, 0.19618430489053992, -0.3480507711514487, 0.18141050643375703, 0.08748353403003814, 0.5818638429837034], \"yaxis\": \"y\"}, {\"hovertemplate\": \"MCT_CAT_CD=\\uc758\\ubcf5<br>week=%{x}<br>elastic=%{y}<extra></extra>\", \"legendgroup\": \"\\uc758\\ubcf5\", \"line\": {\"color\": \"#B6E880\", \"dash\": \"solid\"}, \"mode\": \"lines\", \"name\": \"\\uc758\\ubcf5\", \"orientation\": \"v\", \"showlegend\": true, \"type\": \"scatter\", \"x\": [7, 8, 9, 10, 11, 12, 13, 14, 15, 16, 17, 18, 19, 20, 21, 22], \"xaxis\": \"x\", \"y\": [0.30596913479636123, -0.12881789878593666, -0.43778933877989684, 0.5440464031431659, -0.08675281917559828, 0.13770389287872675, 0.09090387835897179, -0.004475464991025508, -0.016311059514916203, 0.14892955475177996, 0.02118483437770153, 0.37264016018306634, -0.006317515284311172, 0.04938073143389354, 0.29909375880516786, -0.041700164550844625], \"yaxis\": \"y\"}, {\"hovertemplate\": \"MCT_CAT_CD=\\uc790\\ub3d9\\ucc28\\uc815\\ube44<br>week=%{x}<br>elastic=%{y}<extra></extra>\", \"legendgroup\": \"\\uc790\\ub3d9\\ucc28\\uc815\\ube44\", \"line\": {\"color\": \"#FF97FF\", \"dash\": \"solid\"}, \"mode\": \"lines\", \"name\": \"\\uc790\\ub3d9\\ucc28\\uc815\\ube44\", \"orientation\": \"v\", \"showlegend\": true, \"type\": \"scatter\", \"x\": [7, 8, 9, 10, 11, 12, 13, 14, 15, 16, 17, 18, 19, 20, 21, 22], \"xaxis\": \"x\", \"y\": [-0.05794195286469467, 0.0143622583429678, 0.10975015090364654, -0.1471568482113052, 0.004930851775569336, -0.047533480504030605, 0.14197338921667513, 0.053480781309527485, -0.06765079271994327, -0.15677040684990384, 0.22345883315007486, 0.1675960623280317, -0.057676854510168345, 0.010421808218615795, 0.18416474466587654, 0.17233181445107973], \"yaxis\": \"y\"}, {\"hovertemplate\": \"MCT_CAT_CD=\\uc790\\ub3d9\\ucc28\\ud310\\ub9e4<br>week=%{x}<br>elastic=%{y}<extra></extra>\", \"legendgroup\": \"\\uc790\\ub3d9\\ucc28\\ud310\\ub9e4\", \"line\": {\"color\": \"#FECB52\", \"dash\": \"solid\"}, \"mode\": \"lines\", \"name\": \"\\uc790\\ub3d9\\ucc28\\ud310\\ub9e4\", \"orientation\": \"v\", \"showlegend\": true, \"type\": \"scatter\", \"x\": [7, 8, 9, 10, 11, 12, 13, 14, 15, 16, 17, 18, 19, 20, 21, 22], \"xaxis\": \"x\", \"y\": [0.04509998241716085, -0.49007762015829925, 1.6423965206958608, 0.2014586111978206, -0.4665384924252802, 0.33125237981386535, 0.33925114908505555, 0.001738361668628532, 0.4892334237365449, -0.44165040850706816, 1.0284364993709267, -0.11648730242251965, -0.4101798001038076, 0.22651375836276047, 0.08233492312433024, -0.24738347264066357], \"yaxis\": \"y\"}, {\"hovertemplate\": \"MCT_CAT_CD=\\uc804\\uae30<br>week=%{x}<br>elastic=%{y}<extra></extra>\", \"legendgroup\": \"\\uc804\\uae30\", \"line\": {\"color\": \"#636efa\", \"dash\": \"solid\"}, \"mode\": \"lines\", \"name\": \"\\uc804\\uae30\", \"orientation\": \"v\", \"showlegend\": true, \"type\": \"scatter\", \"x\": [7, 8, 9, 10, 11, 12, 13, 14, 15, 16, 17, 18, 19, 20, 21, 22], \"xaxis\": \"x\", \"y\": [-0.3679797024167885, 0.2801592161665646, -0.37537537537537535, 0.5341643975493533, 0.02163121550791758, 0.0477754553598089, -0.32752143837923264, 0.18326462996494203, 0.5109396366477827, -0.44355377421509684, 0.7109553498818882, -0.07315196233760354, -0.3605128205128205, 1.0957727116508191, -0.4196822273240771, 0.13940783070112092], \"yaxis\": \"y\"}, {\"hovertemplate\": \"MCT_CAT_CD=\\uc8fc\\ubc29\\uc6a9\\uad6c<br>week=%{x}<br>elastic=%{y}<extra></extra>\", \"legendgroup\": \"\\uc8fc\\ubc29\\uc6a9\\uad6c\", \"line\": {\"color\": \"#EF553B\", \"dash\": \"solid\"}, \"mode\": \"lines\", \"name\": \"\\uc8fc\\ubc29\\uc6a9\\uad6c\", \"orientation\": \"v\", \"showlegend\": true, \"type\": \"scatter\", \"x\": [7, 8, 9, 10, 11, 12, 13, 14, 15, 16, 17, 18, 19, 20, 21, 22], \"xaxis\": \"x\", \"y\": [-0.08360814511018377, 0.13700571237699077, -0.2873418651194389, 0.2798414211550105, -0.42665972154071075, 0.7058715097039229, 0.17725046053782584, -0.05454477903878978, 0.13579636208972956, -0.22774229787649738, 0.0014046461372231227, -0.036651157404970686, 0.15449064500178933, 0.27580013913405615, 0.044010156332592074, 0.24024871202700301], \"yaxis\": \"y\"}, {\"hovertemplate\": \"MCT_CAT_CD=\\uc9c1\\ubb3c<br>week=%{x}<br>elastic=%{y}<extra></extra>\", \"legendgroup\": \"\\uc9c1\\ubb3c\", \"line\": {\"color\": \"#00cc96\", \"dash\": \"solid\"}, \"mode\": \"lines\", \"name\": \"\\uc9c1\\ubb3c\", \"orientation\": \"v\", \"showlegend\": true, \"type\": \"scatter\", \"x\": [7, 8, 9, 10, 11, 12, 13, 14, 15, 16, 17, 18, 19, 20, 21, 22], \"xaxis\": \"x\", \"y\": [-0.4797607976014724, 0.08293277494765135, 1.5040778514657756, -0.6254601361334504, 1.0412517693396517, -0.3021047204710522, -0.17303006739243132, 0.7834526999848507, -0.5476287415678337, 0.7425731675731676, -0.26817105932974883, 0.7421757585604615, -0.20573260473588342, 0.47059622137502616, 0.0384918634882456, 0.3000867344364544], \"yaxis\": \"y\"}],\n",
       "                        {\"legend\": {\"title\": {\"text\": \"MCT_CAT_CD\"}, \"tracegroupgap\": 0}, \"margin\": {\"t\": 60}, \"template\": {\"data\": {\"bar\": [{\"error_x\": {\"color\": \"#2a3f5f\"}, \"error_y\": {\"color\": \"#2a3f5f\"}, \"marker\": {\"line\": {\"color\": \"#E5ECF6\", \"width\": 0.5}}, \"type\": \"bar\"}], \"barpolar\": [{\"marker\": {\"line\": {\"color\": \"#E5ECF6\", \"width\": 0.5}}, \"type\": \"barpolar\"}], \"carpet\": [{\"aaxis\": {\"endlinecolor\": \"#2a3f5f\", \"gridcolor\": \"white\", \"linecolor\": \"white\", \"minorgridcolor\": \"white\", \"startlinecolor\": \"#2a3f5f\"}, \"baxis\": {\"endlinecolor\": \"#2a3f5f\", \"gridcolor\": \"white\", \"linecolor\": \"white\", \"minorgridcolor\": \"white\", \"startlinecolor\": \"#2a3f5f\"}, \"type\": \"carpet\"}], \"choropleth\": [{\"colorbar\": {\"outlinewidth\": 0, \"ticks\": \"\"}, \"type\": \"choropleth\"}], \"contour\": [{\"colorbar\": {\"outlinewidth\": 0, \"ticks\": \"\"}, \"colorscale\": [[0.0, \"#0d0887\"], [0.1111111111111111, \"#46039f\"], [0.2222222222222222, \"#7201a8\"], [0.3333333333333333, \"#9c179e\"], [0.4444444444444444, \"#bd3786\"], [0.5555555555555556, \"#d8576b\"], [0.6666666666666666, \"#ed7953\"], [0.7777777777777778, \"#fb9f3a\"], [0.8888888888888888, \"#fdca26\"], [1.0, \"#f0f921\"]], \"type\": \"contour\"}], \"contourcarpet\": [{\"colorbar\": {\"outlinewidth\": 0, \"ticks\": \"\"}, \"type\": \"contourcarpet\"}], \"heatmap\": [{\"colorbar\": {\"outlinewidth\": 0, \"ticks\": \"\"}, \"colorscale\": [[0.0, \"#0d0887\"], [0.1111111111111111, \"#46039f\"], [0.2222222222222222, \"#7201a8\"], [0.3333333333333333, \"#9c179e\"], [0.4444444444444444, \"#bd3786\"], [0.5555555555555556, \"#d8576b\"], [0.6666666666666666, \"#ed7953\"], [0.7777777777777778, \"#fb9f3a\"], [0.8888888888888888, \"#fdca26\"], [1.0, \"#f0f921\"]], \"type\": \"heatmap\"}], \"heatmapgl\": [{\"colorbar\": {\"outlinewidth\": 0, \"ticks\": \"\"}, \"colorscale\": [[0.0, \"#0d0887\"], [0.1111111111111111, \"#46039f\"], [0.2222222222222222, \"#7201a8\"], [0.3333333333333333, \"#9c179e\"], [0.4444444444444444, \"#bd3786\"], [0.5555555555555556, \"#d8576b\"], [0.6666666666666666, \"#ed7953\"], [0.7777777777777778, \"#fb9f3a\"], [0.8888888888888888, \"#fdca26\"], [1.0, \"#f0f921\"]], \"type\": \"heatmapgl\"}], \"histogram\": [{\"marker\": {\"colorbar\": {\"outlinewidth\": 0, \"ticks\": \"\"}}, \"type\": \"histogram\"}], \"histogram2d\": [{\"colorbar\": {\"outlinewidth\": 0, \"ticks\": \"\"}, \"colorscale\": [[0.0, \"#0d0887\"], [0.1111111111111111, \"#46039f\"], [0.2222222222222222, \"#7201a8\"], [0.3333333333333333, \"#9c179e\"], [0.4444444444444444, \"#bd3786\"], [0.5555555555555556, \"#d8576b\"], [0.6666666666666666, \"#ed7953\"], [0.7777777777777778, \"#fb9f3a\"], [0.8888888888888888, \"#fdca26\"], [1.0, \"#f0f921\"]], \"type\": \"histogram2d\"}], \"histogram2dcontour\": [{\"colorbar\": {\"outlinewidth\": 0, \"ticks\": \"\"}, \"colorscale\": [[0.0, \"#0d0887\"], [0.1111111111111111, \"#46039f\"], [0.2222222222222222, \"#7201a8\"], [0.3333333333333333, \"#9c179e\"], [0.4444444444444444, \"#bd3786\"], [0.5555555555555556, \"#d8576b\"], [0.6666666666666666, \"#ed7953\"], [0.7777777777777778, \"#fb9f3a\"], [0.8888888888888888, \"#fdca26\"], [1.0, \"#f0f921\"]], \"type\": \"histogram2dcontour\"}], \"mesh3d\": [{\"colorbar\": {\"outlinewidth\": 0, \"ticks\": \"\"}, \"type\": \"mesh3d\"}], \"parcoords\": [{\"line\": {\"colorbar\": {\"outlinewidth\": 0, \"ticks\": \"\"}}, \"type\": \"parcoords\"}], \"pie\": [{\"automargin\": true, \"type\": \"pie\"}], \"scatter\": [{\"marker\": {\"colorbar\": {\"outlinewidth\": 0, \"ticks\": \"\"}}, \"type\": \"scatter\"}], \"scatter3d\": [{\"line\": {\"colorbar\": {\"outlinewidth\": 0, \"ticks\": \"\"}}, \"marker\": {\"colorbar\": {\"outlinewidth\": 0, \"ticks\": \"\"}}, \"type\": \"scatter3d\"}], \"scattercarpet\": [{\"marker\": {\"colorbar\": {\"outlinewidth\": 0, \"ticks\": \"\"}}, \"type\": \"scattercarpet\"}], \"scattergeo\": [{\"marker\": {\"colorbar\": {\"outlinewidth\": 0, \"ticks\": \"\"}}, \"type\": \"scattergeo\"}], \"scattergl\": [{\"marker\": {\"colorbar\": {\"outlinewidth\": 0, \"ticks\": \"\"}}, \"type\": \"scattergl\"}], \"scattermapbox\": [{\"marker\": {\"colorbar\": {\"outlinewidth\": 0, \"ticks\": \"\"}}, \"type\": \"scattermapbox\"}], \"scatterpolar\": [{\"marker\": {\"colorbar\": {\"outlinewidth\": 0, \"ticks\": \"\"}}, \"type\": \"scatterpolar\"}], \"scatterpolargl\": [{\"marker\": {\"colorbar\": {\"outlinewidth\": 0, \"ticks\": \"\"}}, \"type\": \"scatterpolargl\"}], \"scatterternary\": [{\"marker\": {\"colorbar\": {\"outlinewidth\": 0, \"ticks\": \"\"}}, \"type\": \"scatterternary\"}], \"surface\": [{\"colorbar\": {\"outlinewidth\": 0, \"ticks\": \"\"}, \"colorscale\": [[0.0, \"#0d0887\"], [0.1111111111111111, \"#46039f\"], [0.2222222222222222, \"#7201a8\"], [0.3333333333333333, \"#9c179e\"], [0.4444444444444444, \"#bd3786\"], [0.5555555555555556, \"#d8576b\"], [0.6666666666666666, \"#ed7953\"], [0.7777777777777778, \"#fb9f3a\"], [0.8888888888888888, \"#fdca26\"], [1.0, \"#f0f921\"]], \"type\": \"surface\"}], \"table\": [{\"cells\": {\"fill\": {\"color\": \"#EBF0F8\"}, \"line\": {\"color\": \"white\"}}, \"header\": {\"fill\": {\"color\": \"#C8D4E3\"}, \"line\": {\"color\": \"white\"}}, \"type\": \"table\"}]}, \"layout\": {\"annotationdefaults\": {\"arrowcolor\": \"#2a3f5f\", \"arrowhead\": 0, \"arrowwidth\": 1}, \"coloraxis\": {\"colorbar\": {\"outlinewidth\": 0, \"ticks\": \"\"}}, \"colorscale\": {\"diverging\": [[0, \"#8e0152\"], [0.1, \"#c51b7d\"], [0.2, \"#de77ae\"], [0.3, \"#f1b6da\"], [0.4, \"#fde0ef\"], [0.5, \"#f7f7f7\"], [0.6, \"#e6f5d0\"], [0.7, \"#b8e186\"], [0.8, \"#7fbc41\"], [0.9, \"#4d9221\"], [1, \"#276419\"]], \"sequential\": [[0.0, \"#0d0887\"], [0.1111111111111111, \"#46039f\"], [0.2222222222222222, \"#7201a8\"], [0.3333333333333333, \"#9c179e\"], [0.4444444444444444, \"#bd3786\"], [0.5555555555555556, \"#d8576b\"], [0.6666666666666666, \"#ed7953\"], [0.7777777777777778, \"#fb9f3a\"], [0.8888888888888888, \"#fdca26\"], [1.0, \"#f0f921\"]], \"sequentialminus\": [[0.0, \"#0d0887\"], [0.1111111111111111, \"#46039f\"], [0.2222222222222222, \"#7201a8\"], [0.3333333333333333, \"#9c179e\"], [0.4444444444444444, \"#bd3786\"], [0.5555555555555556, \"#d8576b\"], [0.6666666666666666, \"#ed7953\"], [0.7777777777777778, \"#fb9f3a\"], [0.8888888888888888, \"#fdca26\"], [1.0, \"#f0f921\"]]}, \"colorway\": [\"#636efa\", \"#EF553B\", \"#00cc96\", \"#ab63fa\", \"#FFA15A\", \"#19d3f3\", \"#FF6692\", \"#B6E880\", \"#FF97FF\", \"#FECB52\"], \"font\": {\"color\": \"#2a3f5f\"}, \"geo\": {\"bgcolor\": \"white\", \"lakecolor\": \"white\", \"landcolor\": \"#E5ECF6\", \"showlakes\": true, \"showland\": true, \"subunitcolor\": \"white\"}, \"hoverlabel\": {\"align\": \"left\"}, \"hovermode\": \"closest\", \"mapbox\": {\"style\": \"light\"}, \"paper_bgcolor\": \"white\", \"plot_bgcolor\": \"#E5ECF6\", \"polar\": {\"angularaxis\": {\"gridcolor\": \"white\", \"linecolor\": \"white\", \"ticks\": \"\"}, \"bgcolor\": \"#E5ECF6\", \"radialaxis\": {\"gridcolor\": \"white\", \"linecolor\": \"white\", \"ticks\": \"\"}}, \"scene\": {\"xaxis\": {\"backgroundcolor\": \"#E5ECF6\", \"gridcolor\": \"white\", \"gridwidth\": 2, \"linecolor\": \"white\", \"showbackground\": true, \"ticks\": \"\", \"zerolinecolor\": \"white\"}, \"yaxis\": {\"backgroundcolor\": \"#E5ECF6\", \"gridcolor\": \"white\", \"gridwidth\": 2, \"linecolor\": \"white\", \"showbackground\": true, \"ticks\": \"\", \"zerolinecolor\": \"white\"}, \"zaxis\": {\"backgroundcolor\": \"#E5ECF6\", \"gridcolor\": \"white\", \"gridwidth\": 2, \"linecolor\": \"white\", \"showbackground\": true, \"ticks\": \"\", \"zerolinecolor\": \"white\"}}, \"shapedefaults\": {\"line\": {\"color\": \"#2a3f5f\"}}, \"ternary\": {\"aaxis\": {\"gridcolor\": \"white\", \"linecolor\": \"white\", \"ticks\": \"\"}, \"baxis\": {\"gridcolor\": \"white\", \"linecolor\": \"white\", \"ticks\": \"\"}, \"bgcolor\": \"#E5ECF6\", \"caxis\": {\"gridcolor\": \"white\", \"linecolor\": \"white\", \"ticks\": \"\"}}, \"title\": {\"x\": 0.05}, \"xaxis\": {\"automargin\": true, \"gridcolor\": \"white\", \"linecolor\": \"white\", \"ticks\": \"\", \"title\": {\"standoff\": 15}, \"zerolinecolor\": \"white\", \"zerolinewidth\": 2}, \"yaxis\": {\"automargin\": true, \"gridcolor\": \"white\", \"linecolor\": \"white\", \"ticks\": \"\", \"title\": {\"standoff\": 15}, \"zerolinecolor\": \"white\", \"zerolinewidth\": 2}}}, \"xaxis\": {\"anchor\": \"y\", \"domain\": [0.0, 1.0], \"tickmode\": \"array\", \"ticktext\": [\"12/23\", \"12/30\", \"1/6\", \"1/13\", \"1/20\", \"1/27\", \"2/3\", \"2/10\", \"2/17\", \"2/24\", \"3/2\", \"3/9\", \"3/16\", \"3/23\", \"3/30\", \"4/6\", \"4/13\", \"4/20\", \"4/27\", \"5/4\", \"5/11\", \"5/18\", \"5/25\", \"6/1\", \"6/8\", \"6/15\", \"6/22\", \"6/29\", \"7/6\", \"7/13\", \"7/20\", \"7/27\", \"8/3\", \"8/10\", \"8/17\", \"8/24\", \"8/31\", \"9/7\", \"9/14\", \"9/21\", \"9/28\", \"10/5\", \"10/12\", \"10/19\", \"10/26\", \"11/2\", \"11/9\", \"11/16\", \"11/23\", \"11/30\", \"12/7\", \"12/14\"], \"tickvals\": [0, 1, 2, 3, 4, 5, 6, 7, 8, 9, 10, 11, 12, 13, 14, 15, 16, 17, 18, 19, 20, 21, 22, 23, 24, 25, 26, 27, 28, 29, 30, 31, 32, 33, 34, 35, 36, 37, 38, 39, 40, 41, 42, 43, 44, 45, 46, 47, 48, 49, 50, 51], \"title\": {\"text\": \"week\"}}, \"yaxis\": {\"anchor\": \"x\", \"domain\": [0.0, 1.0], \"title\": {\"text\": \"elastic\"}}},\n",
       "                        {\"responsive\": true}\n",
       "                    ).then(function(){\n",
       "                            \n",
       "var gd = document.getElementById('7ab10df3-977a-476f-b4ed-95159fbb7407');\n",
       "var x = new MutationObserver(function (mutations, observer) {{\n",
       "        var display = window.getComputedStyle(gd).display;\n",
       "        if (!display || display === 'none') {{\n",
       "            console.log([gd, 'removed!']);\n",
       "            Plotly.purge(gd);\n",
       "            observer.disconnect();\n",
       "        }}\n",
       "}});\n",
       "\n",
       "// Listen for the removal of the full notebook cells\n",
       "var notebookContainer = gd.closest('#notebook-container');\n",
       "if (notebookContainer) {{\n",
       "    x.observe(notebookContainer, {childList: true});\n",
       "}}\n",
       "\n",
       "// Listen for the clearing of the current output cell\n",
       "var outputEl = gd.closest('.output');\n",
       "if (outputEl) {{\n",
       "    x.observe(outputEl, {childList: true});\n",
       "}}\n",
       "\n",
       "                        })\n",
       "                };\n",
       "                });\n",
       "            </script>\n",
       "        </div>"
      ]
     },
     "metadata": {},
     "output_type": "display_data"
    }
   ],
   "source": [
    "seoul_df = concat_elastic(data=seoul_covid_table2020, start_week=7, end_week=22)\n",
    "\n",
    "fig = px.line(seoul_df, x=\"week\", y=\"elastic\", color='MCT_CAT_CD')\n",
    "fig.update_layout(xaxis=dict(tickmode='array', tickvals=np.arange(0, len(test2)), ticktext=test2))\n",
    "fig.show()"
   ]
  },
  {
   "cell_type": "code",
   "execution_count": 462,
   "metadata": {},
   "outputs": [
    {
     "data": {
      "application/vnd.plotly.v1+json": {
       "config": {
        "plotlyServerURL": "https://plot.ly"
       },
       "data": [
        {
         "hovertemplate": "MCT_CAT_CD=가구<br>week=%{x}<br>elastic=%{y}<extra></extra>",
         "legendgroup": "가구",
         "line": {
          "color": "#636efa",
          "dash": "solid"
         },
         "mode": "lines",
         "name": "가구",
         "orientation": "v",
         "showlegend": true,
         "type": "scatter",
         "x": [
          7,
          8,
          9,
          10,
          11,
          12,
          13,
          14,
          15,
          16,
          17,
          18,
          19,
          20,
          21,
          22
         ],
         "xaxis": "x",
         "y": [
          0.32214319046339635,
          -0.386710589174813,
          -0.5150909175463889,
          0.21386784309964516,
          0.09196492059729794,
          0.004232689385717386,
          0.5216686480060521,
          -0.2168442234848485,
          0.03928296126116594,
          0.5330351948807446,
          0.5519891093476518,
          -0.14679014043613137,
          -0.08716319322553606,
          0.21874717952541467,
          -0.2860546659926524,
          0.28447020091550723
         ],
         "yaxis": "y"
        },
        {
         "hovertemplate": "MCT_CAT_CD=가전<br>week=%{x}<br>elastic=%{y}<extra></extra>",
         "legendgroup": "가전",
         "line": {
          "color": "#EF553B",
          "dash": "solid"
         },
         "mode": "lines",
         "name": "가전",
         "orientation": "v",
         "showlegend": true,
         "type": "scatter",
         "x": [
          7,
          8,
          9,
          10,
          11,
          12,
          13,
          14,
          15,
          16,
          17,
          18,
          19,
          20,
          21,
          22
         ],
         "xaxis": "x",
         "y": [
          0.28634563286581394,
          -0.1945056299964344,
          -0.604223895416184,
          0.2041247243040965,
          0.43354312253135985,
          0.8368990595687217,
          -0.05816245796795675,
          -0.29262470379457955,
          0.08087285682476063,
          0.07415342498363388,
          0.46241215153620274,
          0.5404038049053437,
          -0.3067873953776997,
          -0.10709587620425207,
          0.3757232500634229,
          -0.3668033788497514
         ],
         "yaxis": "y"
        },
        {
         "hovertemplate": "MCT_CAT_CD=광학제품<br>week=%{x}<br>elastic=%{y}<extra></extra>",
         "legendgroup": "광학제품",
         "line": {
          "color": "#00cc96",
          "dash": "solid"
         },
         "mode": "lines",
         "name": "광학제품",
         "orientation": "v",
         "showlegend": true,
         "type": "scatter",
         "x": [
          7,
          8,
          9,
          10,
          11,
          12,
          13,
          14,
          15,
          16,
          17,
          18,
          19,
          20,
          21,
          22
         ],
         "xaxis": "x",
         "y": [
          -0.001756104386762751,
          -0.524758373691994,
          -0.47334346011473744,
          0.0007840721346363866,
          0.19536081031925906,
          -0.14159312750169706,
          0.7505726439790575,
          -0.1654127139897503,
          0.17104035238344095,
          0.3325523572726403,
          0.20871458131496168,
          -0.2974262050130125,
          0.33980281690140846,
          0.2978996278619936,
          -0.16741722283418647,
          0.26466525283576864
         ],
         "yaxis": "y"
        },
        {
         "hovertemplate": "MCT_CAT_CD=레저업소<br>week=%{x}<br>elastic=%{y}<extra></extra>",
         "legendgroup": "레저업소",
         "line": {
          "color": "#ab63fa",
          "dash": "solid"
         },
         "mode": "lines",
         "name": "레저업소",
         "orientation": "v",
         "showlegend": true,
         "type": "scatter",
         "x": [
          7,
          8,
          9,
          10,
          11,
          12,
          13,
          14,
          15,
          16,
          17,
          18,
          19,
          20,
          21,
          22
         ],
         "xaxis": "x",
         "y": [
          -0.04468389441302784,
          -0.42719588448028756,
          -0.6503731313049467,
          0.2516709463906631,
          0.19404317090241183,
          0.3079614071324234,
          -0.23714679318921714,
          0.21952083747762086,
          0.16322249805023015,
          0.10882240164769552,
          0.35690361438640794,
          0.13493554456541368,
          0.19432771357045062,
          -0.016092971586165995,
          0.00302031011137803,
          0.026611043735561734
         ],
         "yaxis": "y"
        },
        {
         "hovertemplate": "MCT_CAT_CD=레저용품<br>week=%{x}<br>elastic=%{y}<extra></extra>",
         "legendgroup": "레저용품",
         "line": {
          "color": "#FFA15A",
          "dash": "solid"
         },
         "mode": "lines",
         "name": "레저용품",
         "orientation": "v",
         "showlegend": true,
         "type": "scatter",
         "x": [
          7,
          8,
          9,
          10,
          11,
          12,
          13,
          14,
          15,
          16,
          17,
          18,
          19,
          20,
          21,
          22
         ],
         "xaxis": "x",
         "y": [
          0.42540426037654067,
          -0.6570820115317988,
          -0.41588454882217485,
          0.6381306379102636,
          0.44719479346971475,
          -0.01211549068253696,
          0.31430327920272005,
          0.1241508017068289,
          -0.08483554991954054,
          0.23337947032669631,
          -0.07088976770896288,
          0.3437071944960641,
          0.12102044526219691,
          0.3852896618021629,
          -0.06349815099137647,
          -0.031136334286568635
         ],
         "yaxis": "y"
        },
        {
         "hovertemplate": "MCT_CAT_CD=문화취미<br>week=%{x}<br>elastic=%{y}<extra></extra>",
         "legendgroup": "문화취미",
         "line": {
          "color": "#19d3f3",
          "dash": "solid"
         },
         "mode": "lines",
         "name": "문화취미",
         "orientation": "v",
         "showlegend": true,
         "type": "scatter",
         "x": [
          7,
          8,
          9,
          10,
          11,
          12,
          13,
          14,
          15,
          16,
          17,
          18,
          19,
          20,
          21,
          22
         ],
         "xaxis": "x",
         "y": [
          -0.0037669749307818355,
          -0.33326458390266456,
          -0.4360747779192724,
          -0.006463734063512815,
          0.2984011594469622,
          0.29724203670433486,
          -0.041725510335087944,
          0.07300004560899409,
          -0.017873794222896415,
          -0.10138521838626521,
          0.06703932476039108,
          0.21363747923008133,
          0.5201866999528136,
          -0.18925898855959805,
          -0.209098813140886,
          0.10033527759363212
         ],
         "yaxis": "y"
        },
        {
         "hovertemplate": "MCT_CAT_CD=보건위생<br>week=%{x}<br>elastic=%{y}<extra></extra>",
         "legendgroup": "보건위생",
         "line": {
          "color": "#FF6692",
          "dash": "solid"
         },
         "mode": "lines",
         "name": "보건위생",
         "orientation": "v",
         "showlegend": true,
         "type": "scatter",
         "x": [
          7,
          8,
          9,
          10,
          11,
          12,
          13,
          14,
          15,
          16,
          17,
          18,
          19,
          20,
          21,
          22
         ],
         "xaxis": "x",
         "y": [
          0.06021390578445967,
          -0.4852893760869968,
          -0.3375550819388842,
          0.02571655272110692,
          0.570477896040316,
          0.01913091087503651,
          0.04143091977701229,
          0.06630932119497004,
          0.022337223425040926,
          0.0540089309517462,
          0.16886957099090383,
          0.08990710667415927,
          -0.013237189211458125,
          0.26691825765902166,
          0.1077466025980162,
          -0.047936333989389894
         ],
         "yaxis": "y"
        },
        {
         "hovertemplate": "MCT_CAT_CD=사무통신<br>week=%{x}<br>elastic=%{y}<extra></extra>",
         "legendgroup": "사무통신",
         "line": {
          "color": "#B6E880",
          "dash": "solid"
         },
         "mode": "lines",
         "name": "사무통신",
         "orientation": "v",
         "showlegend": true,
         "type": "scatter",
         "x": [
          7,
          8,
          9,
          10,
          11,
          12,
          13,
          14,
          15,
          16,
          17,
          18,
          19,
          20,
          21,
          22
         ],
         "xaxis": "x",
         "y": [
          0.05949542919426129,
          -0.38887066570053896,
          -0.46672213710400323,
          0.04460325562928932,
          0.19404278760105315,
          0.08480761694366498,
          0.08173448467711819,
          0.11653220209774591,
          0.05138159094508784,
          0.07301712863793748,
          0.10121405178947486,
          0.10711475761225173,
          0.03718393449226504,
          0.09771579498199451,
          0.04851295834752106,
          -0.018552687457124246
         ],
         "yaxis": "y"
        },
        {
         "hovertemplate": "MCT_CAT_CD=서적문구<br>week=%{x}<br>elastic=%{y}<extra></extra>",
         "legendgroup": "서적문구",
         "line": {
          "color": "#FF97FF",
          "dash": "solid"
         },
         "mode": "lines",
         "name": "서적문구",
         "orientation": "v",
         "showlegend": true,
         "type": "scatter",
         "x": [
          7,
          8,
          9,
          10,
          11,
          12,
          13,
          14,
          15,
          16,
          17,
          18,
          19,
          20,
          21,
          22
         ],
         "xaxis": "x",
         "y": [
          0.1167764289630404,
          -0.25789012360647073,
          -0.20141572726761423,
          -0.15010413417713878,
          0.03782713009439025,
          0.030456042159375214,
          0.14052145292459375,
          0.22821139131982077,
          -0.06113519863868884,
          0.0228154590727362,
          -0.1514577967231462,
          0.23213789268835142,
          0.01642651750482747,
          0.11259302088468895,
          0.16965754362195007,
          0.08753949631169408
         ],
         "yaxis": "y"
        },
        {
         "hovertemplate": "MCT_CAT_CD=수리서비스<br>week=%{x}<br>elastic=%{y}<extra></extra>",
         "legendgroup": "수리서비스",
         "line": {
          "color": "#FECB52",
          "dash": "solid"
         },
         "mode": "lines",
         "name": "수리서비스",
         "orientation": "v",
         "showlegend": true,
         "type": "scatter",
         "x": [
          7,
          8,
          9,
          10,
          11,
          12,
          13,
          14,
          15,
          16,
          17,
          18,
          19,
          20,
          21,
          22
         ],
         "xaxis": "x",
         "y": [
          0.40750507797707164,
          -0.3628576600022503,
          -0.32763889315438716,
          0.4831964919893572,
          0.5401316549255111,
          -0.08546790641871625,
          0.22387300962594905,
          -0.1691878927552155,
          0.2822092485673429,
          -0.27318731814484687,
          0.09643794525684289,
          -0.09657868292708591,
          0.22301940413240467,
          0.3176389920575967,
          -0.0031873373807458803,
          -0.23075138305817183
         ],
         "yaxis": "y"
        },
        {
         "hovertemplate": "MCT_CAT_CD=숙박<br>week=%{x}<br>elastic=%{y}<extra></extra>",
         "legendgroup": "숙박",
         "line": {
          "color": "#636efa",
          "dash": "solid"
         },
         "mode": "lines",
         "name": "숙박",
         "orientation": "v",
         "showlegend": true,
         "type": "scatter",
         "x": [
          7,
          8,
          9,
          10,
          11,
          12,
          13,
          14,
          15,
          16,
          17,
          18,
          19,
          20,
          21,
          22
         ],
         "xaxis": "x",
         "y": [
          -0.25281004445631267,
          -0.5350965436224954,
          -0.5153336678731454,
          0.15849995961316757,
          0.7047690279397596,
          0.15931855531346903,
          -0.24628938321018062,
          0.4286911787858544,
          -0.39870324427196724,
          0.4936847423374874,
          -0.19580651472494967,
          0.9020349256747006,
          -0.11875205952236424,
          0.3192634595751485,
          0.0009155767387566804,
          -0.23913817033524915
         ],
         "yaxis": "y"
        },
        {
         "hovertemplate": "MCT_CAT_CD=신변잡화<br>week=%{x}<br>elastic=%{y}<extra></extra>",
         "legendgroup": "신변잡화",
         "line": {
          "color": "#EF553B",
          "dash": "solid"
         },
         "mode": "lines",
         "name": "신변잡화",
         "orientation": "v",
         "showlegend": true,
         "type": "scatter",
         "x": [
          7,
          8,
          9,
          10,
          11,
          12,
          13,
          14,
          15,
          16,
          17,
          18,
          19,
          20,
          21,
          22
         ],
         "xaxis": "x",
         "y": [
          0.23347259852530738,
          -0.6495692339916548,
          -0.2818656557950783,
          0.9033473330303412,
          -0.39825371481177807,
          0.34001070929987953,
          0.5297700173396793,
          0.10738932800332116,
          -0.031010168235006696,
          -0.22863452209142598,
          0.2032200982823137,
          0.42175505482204495,
          0.10184726122727984,
          0.07230457374863218,
          0.03949723692208176,
          -0.16975302019183314
         ],
         "yaxis": "y"
        },
        {
         "hovertemplate": "MCT_CAT_CD=연료판매<br>week=%{x}<br>elastic=%{y}<extra></extra>",
         "legendgroup": "연료판매",
         "line": {
          "color": "#00cc96",
          "dash": "solid"
         },
         "mode": "lines",
         "name": "연료판매",
         "orientation": "v",
         "showlegend": true,
         "type": "scatter",
         "x": [
          7,
          8,
          9,
          10,
          11,
          12,
          13,
          14,
          15,
          16,
          17,
          18,
          19,
          20,
          21,
          22
         ],
         "xaxis": "x",
         "y": [
          -0.03981842576142159,
          -0.16466361804627572,
          -0.1871652873728145,
          -0.04758624270291494,
          0.07186932614393626,
          0.042998991736819155,
          0.057880174163794054,
          0.09333227702235539,
          -0.12151455466480465,
          0.01475702203295375,
          0.072365974758853,
          0.021672889043242417,
          -0.00481942662744003,
          0.0347505869793464,
          0.01336655672835316,
          0.08610631464404556
         ],
         "yaxis": "y"
        },
        {
         "hovertemplate": "MCT_CAT_CD=요식업소<br>week=%{x}<br>elastic=%{y}<extra></extra>",
         "legendgroup": "요식업소",
         "line": {
          "color": "#ab63fa",
          "dash": "solid"
         },
         "mode": "lines",
         "name": "요식업소",
         "orientation": "v",
         "showlegend": true,
         "type": "scatter",
         "x": [
          7,
          8,
          9,
          10,
          11,
          12,
          13,
          14,
          15,
          16,
          17,
          18,
          19,
          20,
          21,
          22
         ],
         "xaxis": "x",
         "y": [
          0.11070450513215808,
          -0.539095103519129,
          -0.4638451260561778,
          0.19020280947839804,
          0.2486548438381927,
          0.18699698656863226,
          0.04614865319745193,
          0.12450890437039523,
          0.0530670290177556,
          0.1342926064845162,
          0.060434607423761555,
          0.18652138845155614,
          0.08612450140270518,
          0.03573235400340608,
          0.08236508668634018,
          -0.05674706480885617
         ],
         "yaxis": "y"
        },
        {
         "hovertemplate": "MCT_CAT_CD=유통업<br>week=%{x}<br>elastic=%{y}<extra></extra>",
         "legendgroup": "유통업",
         "line": {
          "color": "#FFA15A",
          "dash": "solid"
         },
         "mode": "lines",
         "name": "유통업",
         "orientation": "v",
         "showlegend": true,
         "type": "scatter",
         "x": [
          7,
          8,
          9,
          10,
          11,
          12,
          13,
          14,
          15,
          16,
          17,
          18,
          19,
          20,
          21,
          22
         ],
         "xaxis": "x",
         "y": [
          0.1172296540404093,
          -0.11444325408212017,
          -0.13562373680575046,
          -0.09951867127906777,
          0.07232912750470885,
          -0.024490569911048712,
          0.10955812014161499,
          -0.03667214592672707,
          0.01985248308078676,
          0.056070727574420644,
          -0.02247917104943954,
          0.19666215563786288,
          -0.020258251621149467,
          0.09558877846001977,
          -0.0940609655583046,
          0.07358609947811895
         ],
         "yaxis": "y"
        },
        {
         "hovertemplate": "MCT_CAT_CD=음료식품<br>week=%{x}<br>elastic=%{y}<extra></extra>",
         "legendgroup": "음료식품",
         "line": {
          "color": "#19d3f3",
          "dash": "solid"
         },
         "mode": "lines",
         "name": "음료식품",
         "orientation": "v",
         "showlegend": true,
         "type": "scatter",
         "x": [
          7,
          8,
          9,
          10,
          11,
          12,
          13,
          14,
          15,
          16,
          17,
          18,
          19,
          20,
          21,
          22
         ],
         "xaxis": "x",
         "y": [
          0.028646741806017888,
          0.0922044148200269,
          -0.02308932331001621,
          -0.05063618900506971,
          0.011715912332476168,
          -0.03293868287535908,
          0.019235904605605057,
          0.032392784078786076,
          -0.0588726940802104,
          0.055425004332769624,
          -0.048084307795870286,
          -0.013643905216966914,
          0.08530469765413304,
          0.14037699703534962,
          0.24555111104284652,
          -0.14632365790823662
         ],
         "yaxis": "y"
        },
        {
         "hovertemplate": "MCT_CAT_CD=의료기관<br>week=%{x}<br>elastic=%{y}<extra></extra>",
         "legendgroup": "의료기관",
         "line": {
          "color": "#FF6692",
          "dash": "solid"
         },
         "mode": "lines",
         "name": "의료기관",
         "orientation": "v",
         "showlegend": true,
         "type": "scatter",
         "x": [
          7,
          8,
          9,
          10,
          11,
          12,
          13,
          14,
          15,
          16,
          17,
          18,
          19,
          20,
          21,
          22
         ],
         "xaxis": "x",
         "y": [
          0.15372493264992243,
          -0.2175607126877468,
          -0.31538498223244976,
          -0.1611202474044697,
          0.2076194108240321,
          0.05516012271175577,
          0.14762313115784012,
          -0.10617971457882926,
          0.09280369059808882,
          0.14863159904366738,
          0.006998891199800547,
          -0.033495092353114785,
          0.021900689321989488,
          0.23259014763585903,
          -0.019023948822800424,
          0.06914556092621095
         ],
         "yaxis": "y"
        },
        {
         "hovertemplate": "MCT_CAT_CD=의복<br>week=%{x}<br>elastic=%{y}<extra></extra>",
         "legendgroup": "의복",
         "line": {
          "color": "#B6E880",
          "dash": "solid"
         },
         "mode": "lines",
         "name": "의복",
         "orientation": "v",
         "showlegend": true,
         "type": "scatter",
         "x": [
          7,
          8,
          9,
          10,
          11,
          12,
          13,
          14,
          15,
          16,
          17,
          18,
          19,
          20,
          21,
          22
         ],
         "xaxis": "x",
         "y": [
          0.2078257477130121,
          -0.6306338080441873,
          -0.5211841235081839,
          0.2181193372301838,
          0.4850539477833068,
          0.04111359213471771,
          0.3118791488557093,
          0.07705065708535161,
          0.013845649445552713,
          0.3058118420382742,
          0.022590927961589142,
          0.2563753517934582,
          0.09643974279288443,
          0.39117870621092765,
          0.22349432435718417,
          -0.22059505939000465
         ],
         "yaxis": "y"
        },
        {
         "hovertemplate": "MCT_CAT_CD=자동차정비<br>week=%{x}<br>elastic=%{y}<extra></extra>",
         "legendgroup": "자동차정비",
         "line": {
          "color": "#FF97FF",
          "dash": "solid"
         },
         "mode": "lines",
         "name": "자동차정비",
         "orientation": "v",
         "showlegend": true,
         "type": "scatter",
         "x": [
          7,
          8,
          9,
          10,
          11,
          12,
          13,
          14,
          15,
          16,
          17,
          18,
          19,
          20,
          21,
          22
         ],
         "xaxis": "x",
         "y": [
          0.002522081896525994,
          -0.06469463319363633,
          -0.20620881155520565,
          -0.06909434557465226,
          0.027406878786268848,
          0.25318580385119593,
          0.16749286532385685,
          -0.12315830900670956,
          -0.06621935781875385,
          0.11438851354898623,
          0.07115495546991878,
          0.09661110046874206,
          -0.08154896601019775,
          0.14269092899271626,
          0.19973946103762105,
          -0.002112879433507649
         ],
         "yaxis": "y"
        },
        {
         "hovertemplate": "MCT_CAT_CD=자동차판매<br>week=%{x}<br>elastic=%{y}<extra></extra>",
         "legendgroup": "자동차판매",
         "line": {
          "color": "#FECB52",
          "dash": "solid"
         },
         "mode": "lines",
         "name": "자동차판매",
         "orientation": "v",
         "showlegend": true,
         "type": "scatter",
         "x": [
          7,
          8,
          9,
          10,
          11,
          12,
          13,
          14,
          15,
          16,
          17,
          18,
          19,
          20,
          21,
          22
         ],
         "xaxis": "x",
         "y": [
          0.23783480741547508,
          -0.0010567907059031668,
          -0.3509423180007415,
          -0.5186476073360717,
          2.199357545066324,
          0.007547998894377627,
          0.5800307630262189,
          -0.4105520277920818,
          -0.33453673912277254,
          0.47200426745760915,
          0.7242147683434895,
          -0.43879392970055436,
          -0.18644720556284494,
          1.6625835371089224,
          -0.4627589657066625,
          0.10462674712654171
         ],
         "yaxis": "y"
        },
        {
         "hovertemplate": "MCT_CAT_CD=전기<br>week=%{x}<br>elastic=%{y}<extra></extra>",
         "legendgroup": "전기",
         "line": {
          "color": "#636efa",
          "dash": "solid"
         },
         "mode": "lines",
         "name": "전기",
         "orientation": "v",
         "showlegend": true,
         "type": "scatter",
         "x": [
          7,
          8,
          9,
          10,
          11,
          12,
          13,
          14,
          15,
          16,
          17,
          18,
          19,
          20,
          21,
          22
         ],
         "xaxis": "x",
         "y": [
          0.694534790722474,
          0.09326327050753595,
          -0.2827169376888761,
          0.665195409678196,
          -0.09908433734939759,
          -0.6377982240291002,
          0.8980209717914636,
          0.2250710033848189,
          -0.6649834857723578,
          0.5351218124940753,
          0.44553538347536126,
          1.1369985902857875,
          -0.4335232383808096,
          -0.16970146093584587,
          0.23009902673296784,
          -0.01340565939950938
         ],
         "yaxis": "y"
        },
        {
         "hovertemplate": "MCT_CAT_CD=주방용구<br>week=%{x}<br>elastic=%{y}<extra></extra>",
         "legendgroup": "주방용구",
         "line": {
          "color": "#EF553B",
          "dash": "solid"
         },
         "mode": "lines",
         "name": "주방용구",
         "orientation": "v",
         "showlegend": true,
         "type": "scatter",
         "x": [
          7,
          8,
          9,
          10,
          11,
          12,
          13,
          14,
          15,
          16,
          17,
          18,
          19,
          20,
          21,
          22
         ],
         "xaxis": "x",
         "y": [
          1.5752593246523947,
          -0.6521510905429146,
          -0.8911644236395553,
          4.275608375778155,
          2.1180004290924694,
          -0.22959815592100735,
          0.7901529529976554,
          -0.18523923564336675,
          -0.09147134918326419,
          0.06098136352913423,
          -0.07458111649328993,
          -0.026772383256963395,
          0.20208432523938,
          0.38256392201733924,
          0.7723665223665224,
          0.04340225811472564
         ],
         "yaxis": "y"
        },
        {
         "hovertemplate": "MCT_CAT_CD=직물<br>week=%{x}<br>elastic=%{y}<extra></extra>",
         "legendgroup": "직물",
         "line": {
          "color": "#00cc96",
          "dash": "solid"
         },
         "mode": "lines",
         "name": "직물",
         "orientation": "v",
         "showlegend": true,
         "type": "scatter",
         "x": [
          7,
          8,
          9,
          10,
          11,
          12,
          13,
          14,
          15,
          16,
          17,
          18,
          19,
          20,
          21,
          22
         ],
         "xaxis": "x",
         "y": [
          0.3782193057814985,
          -0.1939231575178048,
          -0.7410042942463679,
          0.4524028840961789,
          0.3252853956173731,
          0.3977722772277228,
          -0.012679298742695237,
          0.018198993196302807,
          -0.0931734642349653,
          1.2518033126562116,
          -0.2711378981148135,
          -0.015504671127382906,
          0.5368635339942776,
          0.700525668036463,
          0.4646197628846378,
          -0.4387678185564247
         ],
         "yaxis": "y"
        }
       ],
       "layout": {
        "legend": {
         "title": {
          "text": "MCT_CAT_CD"
         },
         "tracegroupgap": 0
        },
        "margin": {
         "t": 60
        },
        "template": {
         "data": {
          "bar": [
           {
            "error_x": {
             "color": "#2a3f5f"
            },
            "error_y": {
             "color": "#2a3f5f"
            },
            "marker": {
             "line": {
              "color": "#E5ECF6",
              "width": 0.5
             }
            },
            "type": "bar"
           }
          ],
          "barpolar": [
           {
            "marker": {
             "line": {
              "color": "#E5ECF6",
              "width": 0.5
             }
            },
            "type": "barpolar"
           }
          ],
          "carpet": [
           {
            "aaxis": {
             "endlinecolor": "#2a3f5f",
             "gridcolor": "white",
             "linecolor": "white",
             "minorgridcolor": "white",
             "startlinecolor": "#2a3f5f"
            },
            "baxis": {
             "endlinecolor": "#2a3f5f",
             "gridcolor": "white",
             "linecolor": "white",
             "minorgridcolor": "white",
             "startlinecolor": "#2a3f5f"
            },
            "type": "carpet"
           }
          ],
          "choropleth": [
           {
            "colorbar": {
             "outlinewidth": 0,
             "ticks": ""
            },
            "type": "choropleth"
           }
          ],
          "contour": [
           {
            "colorbar": {
             "outlinewidth": 0,
             "ticks": ""
            },
            "colorscale": [
             [
              0,
              "#0d0887"
             ],
             [
              0.1111111111111111,
              "#46039f"
             ],
             [
              0.2222222222222222,
              "#7201a8"
             ],
             [
              0.3333333333333333,
              "#9c179e"
             ],
             [
              0.4444444444444444,
              "#bd3786"
             ],
             [
              0.5555555555555556,
              "#d8576b"
             ],
             [
              0.6666666666666666,
              "#ed7953"
             ],
             [
              0.7777777777777778,
              "#fb9f3a"
             ],
             [
              0.8888888888888888,
              "#fdca26"
             ],
             [
              1,
              "#f0f921"
             ]
            ],
            "type": "contour"
           }
          ],
          "contourcarpet": [
           {
            "colorbar": {
             "outlinewidth": 0,
             "ticks": ""
            },
            "type": "contourcarpet"
           }
          ],
          "heatmap": [
           {
            "colorbar": {
             "outlinewidth": 0,
             "ticks": ""
            },
            "colorscale": [
             [
              0,
              "#0d0887"
             ],
             [
              0.1111111111111111,
              "#46039f"
             ],
             [
              0.2222222222222222,
              "#7201a8"
             ],
             [
              0.3333333333333333,
              "#9c179e"
             ],
             [
              0.4444444444444444,
              "#bd3786"
             ],
             [
              0.5555555555555556,
              "#d8576b"
             ],
             [
              0.6666666666666666,
              "#ed7953"
             ],
             [
              0.7777777777777778,
              "#fb9f3a"
             ],
             [
              0.8888888888888888,
              "#fdca26"
             ],
             [
              1,
              "#f0f921"
             ]
            ],
            "type": "heatmap"
           }
          ],
          "heatmapgl": [
           {
            "colorbar": {
             "outlinewidth": 0,
             "ticks": ""
            },
            "colorscale": [
             [
              0,
              "#0d0887"
             ],
             [
              0.1111111111111111,
              "#46039f"
             ],
             [
              0.2222222222222222,
              "#7201a8"
             ],
             [
              0.3333333333333333,
              "#9c179e"
             ],
             [
              0.4444444444444444,
              "#bd3786"
             ],
             [
              0.5555555555555556,
              "#d8576b"
             ],
             [
              0.6666666666666666,
              "#ed7953"
             ],
             [
              0.7777777777777778,
              "#fb9f3a"
             ],
             [
              0.8888888888888888,
              "#fdca26"
             ],
             [
              1,
              "#f0f921"
             ]
            ],
            "type": "heatmapgl"
           }
          ],
          "histogram": [
           {
            "marker": {
             "colorbar": {
              "outlinewidth": 0,
              "ticks": ""
             }
            },
            "type": "histogram"
           }
          ],
          "histogram2d": [
           {
            "colorbar": {
             "outlinewidth": 0,
             "ticks": ""
            },
            "colorscale": [
             [
              0,
              "#0d0887"
             ],
             [
              0.1111111111111111,
              "#46039f"
             ],
             [
              0.2222222222222222,
              "#7201a8"
             ],
             [
              0.3333333333333333,
              "#9c179e"
             ],
             [
              0.4444444444444444,
              "#bd3786"
             ],
             [
              0.5555555555555556,
              "#d8576b"
             ],
             [
              0.6666666666666666,
              "#ed7953"
             ],
             [
              0.7777777777777778,
              "#fb9f3a"
             ],
             [
              0.8888888888888888,
              "#fdca26"
             ],
             [
              1,
              "#f0f921"
             ]
            ],
            "type": "histogram2d"
           }
          ],
          "histogram2dcontour": [
           {
            "colorbar": {
             "outlinewidth": 0,
             "ticks": ""
            },
            "colorscale": [
             [
              0,
              "#0d0887"
             ],
             [
              0.1111111111111111,
              "#46039f"
             ],
             [
              0.2222222222222222,
              "#7201a8"
             ],
             [
              0.3333333333333333,
              "#9c179e"
             ],
             [
              0.4444444444444444,
              "#bd3786"
             ],
             [
              0.5555555555555556,
              "#d8576b"
             ],
             [
              0.6666666666666666,
              "#ed7953"
             ],
             [
              0.7777777777777778,
              "#fb9f3a"
             ],
             [
              0.8888888888888888,
              "#fdca26"
             ],
             [
              1,
              "#f0f921"
             ]
            ],
            "type": "histogram2dcontour"
           }
          ],
          "mesh3d": [
           {
            "colorbar": {
             "outlinewidth": 0,
             "ticks": ""
            },
            "type": "mesh3d"
           }
          ],
          "parcoords": [
           {
            "line": {
             "colorbar": {
              "outlinewidth": 0,
              "ticks": ""
             }
            },
            "type": "parcoords"
           }
          ],
          "pie": [
           {
            "automargin": true,
            "type": "pie"
           }
          ],
          "scatter": [
           {
            "marker": {
             "colorbar": {
              "outlinewidth": 0,
              "ticks": ""
             }
            },
            "type": "scatter"
           }
          ],
          "scatter3d": [
           {
            "line": {
             "colorbar": {
              "outlinewidth": 0,
              "ticks": ""
             }
            },
            "marker": {
             "colorbar": {
              "outlinewidth": 0,
              "ticks": ""
             }
            },
            "type": "scatter3d"
           }
          ],
          "scattercarpet": [
           {
            "marker": {
             "colorbar": {
              "outlinewidth": 0,
              "ticks": ""
             }
            },
            "type": "scattercarpet"
           }
          ],
          "scattergeo": [
           {
            "marker": {
             "colorbar": {
              "outlinewidth": 0,
              "ticks": ""
             }
            },
            "type": "scattergeo"
           }
          ],
          "scattergl": [
           {
            "marker": {
             "colorbar": {
              "outlinewidth": 0,
              "ticks": ""
             }
            },
            "type": "scattergl"
           }
          ],
          "scattermapbox": [
           {
            "marker": {
             "colorbar": {
              "outlinewidth": 0,
              "ticks": ""
             }
            },
            "type": "scattermapbox"
           }
          ],
          "scatterpolar": [
           {
            "marker": {
             "colorbar": {
              "outlinewidth": 0,
              "ticks": ""
             }
            },
            "type": "scatterpolar"
           }
          ],
          "scatterpolargl": [
           {
            "marker": {
             "colorbar": {
              "outlinewidth": 0,
              "ticks": ""
             }
            },
            "type": "scatterpolargl"
           }
          ],
          "scatterternary": [
           {
            "marker": {
             "colorbar": {
              "outlinewidth": 0,
              "ticks": ""
             }
            },
            "type": "scatterternary"
           }
          ],
          "surface": [
           {
            "colorbar": {
             "outlinewidth": 0,
             "ticks": ""
            },
            "colorscale": [
             [
              0,
              "#0d0887"
             ],
             [
              0.1111111111111111,
              "#46039f"
             ],
             [
              0.2222222222222222,
              "#7201a8"
             ],
             [
              0.3333333333333333,
              "#9c179e"
             ],
             [
              0.4444444444444444,
              "#bd3786"
             ],
             [
              0.5555555555555556,
              "#d8576b"
             ],
             [
              0.6666666666666666,
              "#ed7953"
             ],
             [
              0.7777777777777778,
              "#fb9f3a"
             ],
             [
              0.8888888888888888,
              "#fdca26"
             ],
             [
              1,
              "#f0f921"
             ]
            ],
            "type": "surface"
           }
          ],
          "table": [
           {
            "cells": {
             "fill": {
              "color": "#EBF0F8"
             },
             "line": {
              "color": "white"
             }
            },
            "header": {
             "fill": {
              "color": "#C8D4E3"
             },
             "line": {
              "color": "white"
             }
            },
            "type": "table"
           }
          ]
         },
         "layout": {
          "annotationdefaults": {
           "arrowcolor": "#2a3f5f",
           "arrowhead": 0,
           "arrowwidth": 1
          },
          "coloraxis": {
           "colorbar": {
            "outlinewidth": 0,
            "ticks": ""
           }
          },
          "colorscale": {
           "diverging": [
            [
             0,
             "#8e0152"
            ],
            [
             0.1,
             "#c51b7d"
            ],
            [
             0.2,
             "#de77ae"
            ],
            [
             0.3,
             "#f1b6da"
            ],
            [
             0.4,
             "#fde0ef"
            ],
            [
             0.5,
             "#f7f7f7"
            ],
            [
             0.6,
             "#e6f5d0"
            ],
            [
             0.7,
             "#b8e186"
            ],
            [
             0.8,
             "#7fbc41"
            ],
            [
             0.9,
             "#4d9221"
            ],
            [
             1,
             "#276419"
            ]
           ],
           "sequential": [
            [
             0,
             "#0d0887"
            ],
            [
             0.1111111111111111,
             "#46039f"
            ],
            [
             0.2222222222222222,
             "#7201a8"
            ],
            [
             0.3333333333333333,
             "#9c179e"
            ],
            [
             0.4444444444444444,
             "#bd3786"
            ],
            [
             0.5555555555555556,
             "#d8576b"
            ],
            [
             0.6666666666666666,
             "#ed7953"
            ],
            [
             0.7777777777777778,
             "#fb9f3a"
            ],
            [
             0.8888888888888888,
             "#fdca26"
            ],
            [
             1,
             "#f0f921"
            ]
           ],
           "sequentialminus": [
            [
             0,
             "#0d0887"
            ],
            [
             0.1111111111111111,
             "#46039f"
            ],
            [
             0.2222222222222222,
             "#7201a8"
            ],
            [
             0.3333333333333333,
             "#9c179e"
            ],
            [
             0.4444444444444444,
             "#bd3786"
            ],
            [
             0.5555555555555556,
             "#d8576b"
            ],
            [
             0.6666666666666666,
             "#ed7953"
            ],
            [
             0.7777777777777778,
             "#fb9f3a"
            ],
            [
             0.8888888888888888,
             "#fdca26"
            ],
            [
             1,
             "#f0f921"
            ]
           ]
          },
          "colorway": [
           "#636efa",
           "#EF553B",
           "#00cc96",
           "#ab63fa",
           "#FFA15A",
           "#19d3f3",
           "#FF6692",
           "#B6E880",
           "#FF97FF",
           "#FECB52"
          ],
          "font": {
           "color": "#2a3f5f"
          },
          "geo": {
           "bgcolor": "white",
           "lakecolor": "white",
           "landcolor": "#E5ECF6",
           "showlakes": true,
           "showland": true,
           "subunitcolor": "white"
          },
          "hoverlabel": {
           "align": "left"
          },
          "hovermode": "closest",
          "mapbox": {
           "style": "light"
          },
          "paper_bgcolor": "white",
          "plot_bgcolor": "#E5ECF6",
          "polar": {
           "angularaxis": {
            "gridcolor": "white",
            "linecolor": "white",
            "ticks": ""
           },
           "bgcolor": "#E5ECF6",
           "radialaxis": {
            "gridcolor": "white",
            "linecolor": "white",
            "ticks": ""
           }
          },
          "scene": {
           "xaxis": {
            "backgroundcolor": "#E5ECF6",
            "gridcolor": "white",
            "gridwidth": 2,
            "linecolor": "white",
            "showbackground": true,
            "ticks": "",
            "zerolinecolor": "white"
           },
           "yaxis": {
            "backgroundcolor": "#E5ECF6",
            "gridcolor": "white",
            "gridwidth": 2,
            "linecolor": "white",
            "showbackground": true,
            "ticks": "",
            "zerolinecolor": "white"
           },
           "zaxis": {
            "backgroundcolor": "#E5ECF6",
            "gridcolor": "white",
            "gridwidth": 2,
            "linecolor": "white",
            "showbackground": true,
            "ticks": "",
            "zerolinecolor": "white"
           }
          },
          "shapedefaults": {
           "line": {
            "color": "#2a3f5f"
           }
          },
          "ternary": {
           "aaxis": {
            "gridcolor": "white",
            "linecolor": "white",
            "ticks": ""
           },
           "baxis": {
            "gridcolor": "white",
            "linecolor": "white",
            "ticks": ""
           },
           "bgcolor": "#E5ECF6",
           "caxis": {
            "gridcolor": "white",
            "linecolor": "white",
            "ticks": ""
           }
          },
          "title": {
           "x": 0.05
          },
          "xaxis": {
           "automargin": true,
           "gridcolor": "white",
           "linecolor": "white",
           "ticks": "",
           "title": {
            "standoff": 15
           },
           "zerolinecolor": "white",
           "zerolinewidth": 2
          },
          "yaxis": {
           "automargin": true,
           "gridcolor": "white",
           "linecolor": "white",
           "ticks": "",
           "title": {
            "standoff": 15
           },
           "zerolinecolor": "white",
           "zerolinewidth": 2
          }
         }
        },
        "xaxis": {
         "anchor": "y",
         "domain": [
          0,
          1
         ],
         "tickmode": "array",
         "ticktext": [
          "12/23",
          "12/30",
          "1/6",
          "1/13",
          "1/20",
          "1/27",
          "2/3",
          "2/10",
          "2/17",
          "2/24",
          "3/2",
          "3/9",
          "3/16",
          "3/23",
          "3/30",
          "4/6",
          "4/13",
          "4/20",
          "4/27",
          "5/4",
          "5/11",
          "5/18",
          "5/25",
          "6/1",
          "6/8",
          "6/15",
          "6/22",
          "6/29",
          "7/6",
          "7/13",
          "7/20",
          "7/27",
          "8/3",
          "8/10",
          "8/17",
          "8/24",
          "8/31",
          "9/7",
          "9/14",
          "9/21",
          "9/28",
          "10/5",
          "10/12",
          "10/19",
          "10/26",
          "11/2",
          "11/9",
          "11/16",
          "11/23",
          "11/30",
          "12/7",
          "12/14"
         ],
         "tickvals": [
          0,
          1,
          2,
          3,
          4,
          5,
          6,
          7,
          8,
          9,
          10,
          11,
          12,
          13,
          14,
          15,
          16,
          17,
          18,
          19,
          20,
          21,
          22,
          23,
          24,
          25,
          26,
          27,
          28,
          29,
          30,
          31,
          32,
          33,
          34,
          35,
          36,
          37,
          38,
          39,
          40,
          41,
          42,
          43,
          44,
          45,
          46,
          47,
          48,
          49,
          50,
          51
         ],
         "title": {
          "text": "week"
         }
        },
        "yaxis": {
         "anchor": "x",
         "domain": [
          0,
          1
         ],
         "title": {
          "text": "elastic"
         }
        }
       }
      },
      "text/html": [
       "<div>\n",
       "        \n",
       "        \n",
       "            <div id=\"9483a4db-2323-49ce-b38a-a2c3d17aabbd\" class=\"plotly-graph-div\" style=\"height:525px; width:100%;\"></div>\n",
       "            <script type=\"text/javascript\">\n",
       "                require([\"plotly\"], function(Plotly) {\n",
       "                    window.PLOTLYENV=window.PLOTLYENV || {};\n",
       "                    \n",
       "                if (document.getElementById(\"9483a4db-2323-49ce-b38a-a2c3d17aabbd\")) {\n",
       "                    Plotly.newPlot(\n",
       "                        '9483a4db-2323-49ce-b38a-a2c3d17aabbd',\n",
       "                        [{\"hovertemplate\": \"MCT_CAT_CD=\\uac00\\uad6c<br>week=%{x}<br>elastic=%{y}<extra></extra>\", \"legendgroup\": \"\\uac00\\uad6c\", \"line\": {\"color\": \"#636efa\", \"dash\": \"solid\"}, \"mode\": \"lines\", \"name\": \"\\uac00\\uad6c\", \"orientation\": \"v\", \"showlegend\": true, \"type\": \"scatter\", \"x\": [7, 8, 9, 10, 11, 12, 13, 14, 15, 16, 17, 18, 19, 20, 21, 22], \"xaxis\": \"x\", \"y\": [0.32214319046339635, -0.386710589174813, -0.5150909175463889, 0.21386784309964516, 0.09196492059729794, 0.004232689385717386, 0.5216686480060521, -0.2168442234848485, 0.03928296126116594, 0.5330351948807446, 0.5519891093476518, -0.14679014043613137, -0.08716319322553606, 0.21874717952541467, -0.2860546659926524, 0.28447020091550723], \"yaxis\": \"y\"}, {\"hovertemplate\": \"MCT_CAT_CD=\\uac00\\uc804<br>week=%{x}<br>elastic=%{y}<extra></extra>\", \"legendgroup\": \"\\uac00\\uc804\", \"line\": {\"color\": \"#EF553B\", \"dash\": \"solid\"}, \"mode\": \"lines\", \"name\": \"\\uac00\\uc804\", \"orientation\": \"v\", \"showlegend\": true, \"type\": \"scatter\", \"x\": [7, 8, 9, 10, 11, 12, 13, 14, 15, 16, 17, 18, 19, 20, 21, 22], \"xaxis\": \"x\", \"y\": [0.28634563286581394, -0.1945056299964344, -0.604223895416184, 0.2041247243040965, 0.43354312253135985, 0.8368990595687217, -0.05816245796795675, -0.29262470379457955, 0.08087285682476063, 0.07415342498363388, 0.46241215153620274, 0.5404038049053437, -0.3067873953776997, -0.10709587620425207, 0.3757232500634229, -0.3668033788497514], \"yaxis\": \"y\"}, {\"hovertemplate\": \"MCT_CAT_CD=\\uad11\\ud559\\uc81c\\ud488<br>week=%{x}<br>elastic=%{y}<extra></extra>\", \"legendgroup\": \"\\uad11\\ud559\\uc81c\\ud488\", \"line\": {\"color\": \"#00cc96\", \"dash\": \"solid\"}, \"mode\": \"lines\", \"name\": \"\\uad11\\ud559\\uc81c\\ud488\", \"orientation\": \"v\", \"showlegend\": true, \"type\": \"scatter\", \"x\": [7, 8, 9, 10, 11, 12, 13, 14, 15, 16, 17, 18, 19, 20, 21, 22], \"xaxis\": \"x\", \"y\": [-0.001756104386762751, -0.524758373691994, -0.47334346011473744, 0.0007840721346363866, 0.19536081031925906, -0.14159312750169706, 0.7505726439790575, -0.1654127139897503, 0.17104035238344095, 0.3325523572726403, 0.20871458131496168, -0.2974262050130125, 0.33980281690140846, 0.2978996278619936, -0.16741722283418647, 0.26466525283576864], \"yaxis\": \"y\"}, {\"hovertemplate\": \"MCT_CAT_CD=\\ub808\\uc800\\uc5c5\\uc18c<br>week=%{x}<br>elastic=%{y}<extra></extra>\", \"legendgroup\": \"\\ub808\\uc800\\uc5c5\\uc18c\", \"line\": {\"color\": \"#ab63fa\", \"dash\": \"solid\"}, \"mode\": \"lines\", \"name\": \"\\ub808\\uc800\\uc5c5\\uc18c\", \"orientation\": \"v\", \"showlegend\": true, \"type\": \"scatter\", \"x\": [7, 8, 9, 10, 11, 12, 13, 14, 15, 16, 17, 18, 19, 20, 21, 22], \"xaxis\": \"x\", \"y\": [-0.04468389441302784, -0.42719588448028756, -0.6503731313049467, 0.2516709463906631, 0.19404317090241183, 0.3079614071324234, -0.23714679318921714, 0.21952083747762086, 0.16322249805023015, 0.10882240164769552, 0.35690361438640794, 0.13493554456541368, 0.19432771357045062, -0.016092971586165995, 0.00302031011137803, 0.026611043735561734], \"yaxis\": \"y\"}, {\"hovertemplate\": \"MCT_CAT_CD=\\ub808\\uc800\\uc6a9\\ud488<br>week=%{x}<br>elastic=%{y}<extra></extra>\", \"legendgroup\": \"\\ub808\\uc800\\uc6a9\\ud488\", \"line\": {\"color\": \"#FFA15A\", \"dash\": \"solid\"}, \"mode\": \"lines\", \"name\": \"\\ub808\\uc800\\uc6a9\\ud488\", \"orientation\": \"v\", \"showlegend\": true, \"type\": \"scatter\", \"x\": [7, 8, 9, 10, 11, 12, 13, 14, 15, 16, 17, 18, 19, 20, 21, 22], \"xaxis\": \"x\", \"y\": [0.42540426037654067, -0.6570820115317988, -0.41588454882217485, 0.6381306379102636, 0.44719479346971475, -0.01211549068253696, 0.31430327920272005, 0.1241508017068289, -0.08483554991954054, 0.23337947032669631, -0.07088976770896288, 0.3437071944960641, 0.12102044526219691, 0.3852896618021629, -0.06349815099137647, -0.031136334286568635], \"yaxis\": \"y\"}, {\"hovertemplate\": \"MCT_CAT_CD=\\ubb38\\ud654\\ucde8\\ubbf8<br>week=%{x}<br>elastic=%{y}<extra></extra>\", \"legendgroup\": \"\\ubb38\\ud654\\ucde8\\ubbf8\", \"line\": {\"color\": \"#19d3f3\", \"dash\": \"solid\"}, \"mode\": \"lines\", \"name\": \"\\ubb38\\ud654\\ucde8\\ubbf8\", \"orientation\": \"v\", \"showlegend\": true, \"type\": \"scatter\", \"x\": [7, 8, 9, 10, 11, 12, 13, 14, 15, 16, 17, 18, 19, 20, 21, 22], \"xaxis\": \"x\", \"y\": [-0.0037669749307818355, -0.33326458390266456, -0.4360747779192724, -0.006463734063512815, 0.2984011594469622, 0.29724203670433486, -0.041725510335087944, 0.07300004560899409, -0.017873794222896415, -0.10138521838626521, 0.06703932476039108, 0.21363747923008133, 0.5201866999528136, -0.18925898855959805, -0.209098813140886, 0.10033527759363212], \"yaxis\": \"y\"}, {\"hovertemplate\": \"MCT_CAT_CD=\\ubcf4\\uac74\\uc704\\uc0dd<br>week=%{x}<br>elastic=%{y}<extra></extra>\", \"legendgroup\": \"\\ubcf4\\uac74\\uc704\\uc0dd\", \"line\": {\"color\": \"#FF6692\", \"dash\": \"solid\"}, \"mode\": \"lines\", \"name\": \"\\ubcf4\\uac74\\uc704\\uc0dd\", \"orientation\": \"v\", \"showlegend\": true, \"type\": \"scatter\", \"x\": [7, 8, 9, 10, 11, 12, 13, 14, 15, 16, 17, 18, 19, 20, 21, 22], \"xaxis\": \"x\", \"y\": [0.06021390578445967, -0.4852893760869968, -0.3375550819388842, 0.02571655272110692, 0.570477896040316, 0.01913091087503651, 0.04143091977701229, 0.06630932119497004, 0.022337223425040926, 0.0540089309517462, 0.16886957099090383, 0.08990710667415927, -0.013237189211458125, 0.26691825765902166, 0.1077466025980162, -0.047936333989389894], \"yaxis\": \"y\"}, {\"hovertemplate\": \"MCT_CAT_CD=\\uc0ac\\ubb34\\ud1b5\\uc2e0<br>week=%{x}<br>elastic=%{y}<extra></extra>\", \"legendgroup\": \"\\uc0ac\\ubb34\\ud1b5\\uc2e0\", \"line\": {\"color\": \"#B6E880\", \"dash\": \"solid\"}, \"mode\": \"lines\", \"name\": \"\\uc0ac\\ubb34\\ud1b5\\uc2e0\", \"orientation\": \"v\", \"showlegend\": true, \"type\": \"scatter\", \"x\": [7, 8, 9, 10, 11, 12, 13, 14, 15, 16, 17, 18, 19, 20, 21, 22], \"xaxis\": \"x\", \"y\": [0.05949542919426129, -0.38887066570053896, -0.46672213710400323, 0.04460325562928932, 0.19404278760105315, 0.08480761694366498, 0.08173448467711819, 0.11653220209774591, 0.05138159094508784, 0.07301712863793748, 0.10121405178947486, 0.10711475761225173, 0.03718393449226504, 0.09771579498199451, 0.04851295834752106, -0.018552687457124246], \"yaxis\": \"y\"}, {\"hovertemplate\": \"MCT_CAT_CD=\\uc11c\\uc801\\ubb38\\uad6c<br>week=%{x}<br>elastic=%{y}<extra></extra>\", \"legendgroup\": \"\\uc11c\\uc801\\ubb38\\uad6c\", \"line\": {\"color\": \"#FF97FF\", \"dash\": \"solid\"}, \"mode\": \"lines\", \"name\": \"\\uc11c\\uc801\\ubb38\\uad6c\", \"orientation\": \"v\", \"showlegend\": true, \"type\": \"scatter\", \"x\": [7, 8, 9, 10, 11, 12, 13, 14, 15, 16, 17, 18, 19, 20, 21, 22], \"xaxis\": \"x\", \"y\": [0.1167764289630404, -0.25789012360647073, -0.20141572726761423, -0.15010413417713878, 0.03782713009439025, 0.030456042159375214, 0.14052145292459375, 0.22821139131982077, -0.06113519863868884, 0.0228154590727362, -0.1514577967231462, 0.23213789268835142, 0.01642651750482747, 0.11259302088468895, 0.16965754362195007, 0.08753949631169408], \"yaxis\": \"y\"}, {\"hovertemplate\": \"MCT_CAT_CD=\\uc218\\ub9ac\\uc11c\\ube44\\uc2a4<br>week=%{x}<br>elastic=%{y}<extra></extra>\", \"legendgroup\": \"\\uc218\\ub9ac\\uc11c\\ube44\\uc2a4\", \"line\": {\"color\": \"#FECB52\", \"dash\": \"solid\"}, \"mode\": \"lines\", \"name\": \"\\uc218\\ub9ac\\uc11c\\ube44\\uc2a4\", \"orientation\": \"v\", \"showlegend\": true, \"type\": \"scatter\", \"x\": [7, 8, 9, 10, 11, 12, 13, 14, 15, 16, 17, 18, 19, 20, 21, 22], \"xaxis\": \"x\", \"y\": [0.40750507797707164, -0.3628576600022503, -0.32763889315438716, 0.4831964919893572, 0.5401316549255111, -0.08546790641871625, 0.22387300962594905, -0.1691878927552155, 0.2822092485673429, -0.27318731814484687, 0.09643794525684289, -0.09657868292708591, 0.22301940413240467, 0.3176389920575967, -0.0031873373807458803, -0.23075138305817183], \"yaxis\": \"y\"}, {\"hovertemplate\": \"MCT_CAT_CD=\\uc219\\ubc15<br>week=%{x}<br>elastic=%{y}<extra></extra>\", \"legendgroup\": \"\\uc219\\ubc15\", \"line\": {\"color\": \"#636efa\", \"dash\": \"solid\"}, \"mode\": \"lines\", \"name\": \"\\uc219\\ubc15\", \"orientation\": \"v\", \"showlegend\": true, \"type\": \"scatter\", \"x\": [7, 8, 9, 10, 11, 12, 13, 14, 15, 16, 17, 18, 19, 20, 21, 22], \"xaxis\": \"x\", \"y\": [-0.25281004445631267, -0.5350965436224954, -0.5153336678731454, 0.15849995961316757, 0.7047690279397596, 0.15931855531346903, -0.24628938321018062, 0.4286911787858544, -0.39870324427196724, 0.4936847423374874, -0.19580651472494967, 0.9020349256747006, -0.11875205952236424, 0.3192634595751485, 0.0009155767387566804, -0.23913817033524915], \"yaxis\": \"y\"}, {\"hovertemplate\": \"MCT_CAT_CD=\\uc2e0\\ubcc0\\uc7a1\\ud654<br>week=%{x}<br>elastic=%{y}<extra></extra>\", \"legendgroup\": \"\\uc2e0\\ubcc0\\uc7a1\\ud654\", \"line\": {\"color\": \"#EF553B\", \"dash\": \"solid\"}, \"mode\": \"lines\", \"name\": \"\\uc2e0\\ubcc0\\uc7a1\\ud654\", \"orientation\": \"v\", \"showlegend\": true, \"type\": \"scatter\", \"x\": [7, 8, 9, 10, 11, 12, 13, 14, 15, 16, 17, 18, 19, 20, 21, 22], \"xaxis\": \"x\", \"y\": [0.23347259852530738, -0.6495692339916548, -0.2818656557950783, 0.9033473330303412, -0.39825371481177807, 0.34001070929987953, 0.5297700173396793, 0.10738932800332116, -0.031010168235006696, -0.22863452209142598, 0.2032200982823137, 0.42175505482204495, 0.10184726122727984, 0.07230457374863218, 0.03949723692208176, -0.16975302019183314], \"yaxis\": \"y\"}, {\"hovertemplate\": \"MCT_CAT_CD=\\uc5f0\\ub8cc\\ud310\\ub9e4<br>week=%{x}<br>elastic=%{y}<extra></extra>\", \"legendgroup\": \"\\uc5f0\\ub8cc\\ud310\\ub9e4\", \"line\": {\"color\": \"#00cc96\", \"dash\": \"solid\"}, \"mode\": \"lines\", \"name\": \"\\uc5f0\\ub8cc\\ud310\\ub9e4\", \"orientation\": \"v\", \"showlegend\": true, \"type\": \"scatter\", \"x\": [7, 8, 9, 10, 11, 12, 13, 14, 15, 16, 17, 18, 19, 20, 21, 22], \"xaxis\": \"x\", \"y\": [-0.03981842576142159, -0.16466361804627572, -0.1871652873728145, -0.04758624270291494, 0.07186932614393626, 0.042998991736819155, 0.057880174163794054, 0.09333227702235539, -0.12151455466480465, 0.01475702203295375, 0.072365974758853, 0.021672889043242417, -0.00481942662744003, 0.0347505869793464, 0.01336655672835316, 0.08610631464404556], \"yaxis\": \"y\"}, {\"hovertemplate\": \"MCT_CAT_CD=\\uc694\\uc2dd\\uc5c5\\uc18c<br>week=%{x}<br>elastic=%{y}<extra></extra>\", \"legendgroup\": \"\\uc694\\uc2dd\\uc5c5\\uc18c\", \"line\": {\"color\": \"#ab63fa\", \"dash\": \"solid\"}, \"mode\": \"lines\", \"name\": \"\\uc694\\uc2dd\\uc5c5\\uc18c\", \"orientation\": \"v\", \"showlegend\": true, \"type\": \"scatter\", \"x\": [7, 8, 9, 10, 11, 12, 13, 14, 15, 16, 17, 18, 19, 20, 21, 22], \"xaxis\": \"x\", \"y\": [0.11070450513215808, -0.539095103519129, -0.4638451260561778, 0.19020280947839804, 0.2486548438381927, 0.18699698656863226, 0.04614865319745193, 0.12450890437039523, 0.0530670290177556, 0.1342926064845162, 0.060434607423761555, 0.18652138845155614, 0.08612450140270518, 0.03573235400340608, 0.08236508668634018, -0.05674706480885617], \"yaxis\": \"y\"}, {\"hovertemplate\": \"MCT_CAT_CD=\\uc720\\ud1b5\\uc5c5<br>week=%{x}<br>elastic=%{y}<extra></extra>\", \"legendgroup\": \"\\uc720\\ud1b5\\uc5c5\", \"line\": {\"color\": \"#FFA15A\", \"dash\": \"solid\"}, \"mode\": \"lines\", \"name\": \"\\uc720\\ud1b5\\uc5c5\", \"orientation\": \"v\", \"showlegend\": true, \"type\": \"scatter\", \"x\": [7, 8, 9, 10, 11, 12, 13, 14, 15, 16, 17, 18, 19, 20, 21, 22], \"xaxis\": \"x\", \"y\": [0.1172296540404093, -0.11444325408212017, -0.13562373680575046, -0.09951867127906777, 0.07232912750470885, -0.024490569911048712, 0.10955812014161499, -0.03667214592672707, 0.01985248308078676, 0.056070727574420644, -0.02247917104943954, 0.19666215563786288, -0.020258251621149467, 0.09558877846001977, -0.0940609655583046, 0.07358609947811895], \"yaxis\": \"y\"}, {\"hovertemplate\": \"MCT_CAT_CD=\\uc74c\\ub8cc\\uc2dd\\ud488<br>week=%{x}<br>elastic=%{y}<extra></extra>\", \"legendgroup\": \"\\uc74c\\ub8cc\\uc2dd\\ud488\", \"line\": {\"color\": \"#19d3f3\", \"dash\": \"solid\"}, \"mode\": \"lines\", \"name\": \"\\uc74c\\ub8cc\\uc2dd\\ud488\", \"orientation\": \"v\", \"showlegend\": true, \"type\": \"scatter\", \"x\": [7, 8, 9, 10, 11, 12, 13, 14, 15, 16, 17, 18, 19, 20, 21, 22], \"xaxis\": \"x\", \"y\": [0.028646741806017888, 0.0922044148200269, -0.02308932331001621, -0.05063618900506971, 0.011715912332476168, -0.03293868287535908, 0.019235904605605057, 0.032392784078786076, -0.0588726940802104, 0.055425004332769624, -0.048084307795870286, -0.013643905216966914, 0.08530469765413304, 0.14037699703534962, 0.24555111104284652, -0.14632365790823662], \"yaxis\": \"y\"}, {\"hovertemplate\": \"MCT_CAT_CD=\\uc758\\ub8cc\\uae30\\uad00<br>week=%{x}<br>elastic=%{y}<extra></extra>\", \"legendgroup\": \"\\uc758\\ub8cc\\uae30\\uad00\", \"line\": {\"color\": \"#FF6692\", \"dash\": \"solid\"}, \"mode\": \"lines\", \"name\": \"\\uc758\\ub8cc\\uae30\\uad00\", \"orientation\": \"v\", \"showlegend\": true, \"type\": \"scatter\", \"x\": [7, 8, 9, 10, 11, 12, 13, 14, 15, 16, 17, 18, 19, 20, 21, 22], \"xaxis\": \"x\", \"y\": [0.15372493264992243, -0.2175607126877468, -0.31538498223244976, -0.1611202474044697, 0.2076194108240321, 0.05516012271175577, 0.14762313115784012, -0.10617971457882926, 0.09280369059808882, 0.14863159904366738, 0.006998891199800547, -0.033495092353114785, 0.021900689321989488, 0.23259014763585903, -0.019023948822800424, 0.06914556092621095], \"yaxis\": \"y\"}, {\"hovertemplate\": \"MCT_CAT_CD=\\uc758\\ubcf5<br>week=%{x}<br>elastic=%{y}<extra></extra>\", \"legendgroup\": \"\\uc758\\ubcf5\", \"line\": {\"color\": \"#B6E880\", \"dash\": \"solid\"}, \"mode\": \"lines\", \"name\": \"\\uc758\\ubcf5\", \"orientation\": \"v\", \"showlegend\": true, \"type\": \"scatter\", \"x\": [7, 8, 9, 10, 11, 12, 13, 14, 15, 16, 17, 18, 19, 20, 21, 22], \"xaxis\": \"x\", \"y\": [0.2078257477130121, -0.6306338080441873, -0.5211841235081839, 0.2181193372301838, 0.4850539477833068, 0.04111359213471771, 0.3118791488557093, 0.07705065708535161, 0.013845649445552713, 0.3058118420382742, 0.022590927961589142, 0.2563753517934582, 0.09643974279288443, 0.39117870621092765, 0.22349432435718417, -0.22059505939000465], \"yaxis\": \"y\"}, {\"hovertemplate\": \"MCT_CAT_CD=\\uc790\\ub3d9\\ucc28\\uc815\\ube44<br>week=%{x}<br>elastic=%{y}<extra></extra>\", \"legendgroup\": \"\\uc790\\ub3d9\\ucc28\\uc815\\ube44\", \"line\": {\"color\": \"#FF97FF\", \"dash\": \"solid\"}, \"mode\": \"lines\", \"name\": \"\\uc790\\ub3d9\\ucc28\\uc815\\ube44\", \"orientation\": \"v\", \"showlegend\": true, \"type\": \"scatter\", \"x\": [7, 8, 9, 10, 11, 12, 13, 14, 15, 16, 17, 18, 19, 20, 21, 22], \"xaxis\": \"x\", \"y\": [0.002522081896525994, -0.06469463319363633, -0.20620881155520565, -0.06909434557465226, 0.027406878786268848, 0.25318580385119593, 0.16749286532385685, -0.12315830900670956, -0.06621935781875385, 0.11438851354898623, 0.07115495546991878, 0.09661110046874206, -0.08154896601019775, 0.14269092899271626, 0.19973946103762105, -0.002112879433507649], \"yaxis\": \"y\"}, {\"hovertemplate\": \"MCT_CAT_CD=\\uc790\\ub3d9\\ucc28\\ud310\\ub9e4<br>week=%{x}<br>elastic=%{y}<extra></extra>\", \"legendgroup\": \"\\uc790\\ub3d9\\ucc28\\ud310\\ub9e4\", \"line\": {\"color\": \"#FECB52\", \"dash\": \"solid\"}, \"mode\": \"lines\", \"name\": \"\\uc790\\ub3d9\\ucc28\\ud310\\ub9e4\", \"orientation\": \"v\", \"showlegend\": true, \"type\": \"scatter\", \"x\": [7, 8, 9, 10, 11, 12, 13, 14, 15, 16, 17, 18, 19, 20, 21, 22], \"xaxis\": \"x\", \"y\": [0.23783480741547508, -0.0010567907059031668, -0.3509423180007415, -0.5186476073360717, 2.199357545066324, 0.007547998894377627, 0.5800307630262189, -0.4105520277920818, -0.33453673912277254, 0.47200426745760915, 0.7242147683434895, -0.43879392970055436, -0.18644720556284494, 1.6625835371089224, -0.4627589657066625, 0.10462674712654171], \"yaxis\": \"y\"}, {\"hovertemplate\": \"MCT_CAT_CD=\\uc804\\uae30<br>week=%{x}<br>elastic=%{y}<extra></extra>\", \"legendgroup\": \"\\uc804\\uae30\", \"line\": {\"color\": \"#636efa\", \"dash\": \"solid\"}, \"mode\": \"lines\", \"name\": \"\\uc804\\uae30\", \"orientation\": \"v\", \"showlegend\": true, \"type\": \"scatter\", \"x\": [7, 8, 9, 10, 11, 12, 13, 14, 15, 16, 17, 18, 19, 20, 21, 22], \"xaxis\": \"x\", \"y\": [0.694534790722474, 0.09326327050753595, -0.2827169376888761, 0.665195409678196, -0.09908433734939759, -0.6377982240291002, 0.8980209717914636, 0.2250710033848189, -0.6649834857723578, 0.5351218124940753, 0.44553538347536126, 1.1369985902857875, -0.4335232383808096, -0.16970146093584587, 0.23009902673296784, -0.01340565939950938], \"yaxis\": \"y\"}, {\"hovertemplate\": \"MCT_CAT_CD=\\uc8fc\\ubc29\\uc6a9\\uad6c<br>week=%{x}<br>elastic=%{y}<extra></extra>\", \"legendgroup\": \"\\uc8fc\\ubc29\\uc6a9\\uad6c\", \"line\": {\"color\": \"#EF553B\", \"dash\": \"solid\"}, \"mode\": \"lines\", \"name\": \"\\uc8fc\\ubc29\\uc6a9\\uad6c\", \"orientation\": \"v\", \"showlegend\": true, \"type\": \"scatter\", \"x\": [7, 8, 9, 10, 11, 12, 13, 14, 15, 16, 17, 18, 19, 20, 21, 22], \"xaxis\": \"x\", \"y\": [1.5752593246523947, -0.6521510905429146, -0.8911644236395553, 4.275608375778155, 2.1180004290924694, -0.22959815592100735, 0.7901529529976554, -0.18523923564336675, -0.09147134918326419, 0.06098136352913423, -0.07458111649328993, -0.026772383256963395, 0.20208432523938, 0.38256392201733924, 0.7723665223665224, 0.04340225811472564], \"yaxis\": \"y\"}, {\"hovertemplate\": \"MCT_CAT_CD=\\uc9c1\\ubb3c<br>week=%{x}<br>elastic=%{y}<extra></extra>\", \"legendgroup\": \"\\uc9c1\\ubb3c\", \"line\": {\"color\": \"#00cc96\", \"dash\": \"solid\"}, \"mode\": \"lines\", \"name\": \"\\uc9c1\\ubb3c\", \"orientation\": \"v\", \"showlegend\": true, \"type\": \"scatter\", \"x\": [7, 8, 9, 10, 11, 12, 13, 14, 15, 16, 17, 18, 19, 20, 21, 22], \"xaxis\": \"x\", \"y\": [0.3782193057814985, -0.1939231575178048, -0.7410042942463679, 0.4524028840961789, 0.3252853956173731, 0.3977722772277228, -0.012679298742695237, 0.018198993196302807, -0.0931734642349653, 1.2518033126562116, -0.2711378981148135, -0.015504671127382906, 0.5368635339942776, 0.700525668036463, 0.4646197628846378, -0.4387678185564247], \"yaxis\": \"y\"}],\n",
       "                        {\"legend\": {\"title\": {\"text\": \"MCT_CAT_CD\"}, \"tracegroupgap\": 0}, \"margin\": {\"t\": 60}, \"template\": {\"data\": {\"bar\": [{\"error_x\": {\"color\": \"#2a3f5f\"}, \"error_y\": {\"color\": \"#2a3f5f\"}, \"marker\": {\"line\": {\"color\": \"#E5ECF6\", \"width\": 0.5}}, \"type\": \"bar\"}], \"barpolar\": [{\"marker\": {\"line\": {\"color\": \"#E5ECF6\", \"width\": 0.5}}, \"type\": \"barpolar\"}], \"carpet\": [{\"aaxis\": {\"endlinecolor\": \"#2a3f5f\", \"gridcolor\": \"white\", \"linecolor\": \"white\", \"minorgridcolor\": \"white\", \"startlinecolor\": \"#2a3f5f\"}, \"baxis\": {\"endlinecolor\": \"#2a3f5f\", \"gridcolor\": \"white\", \"linecolor\": \"white\", \"minorgridcolor\": \"white\", \"startlinecolor\": \"#2a3f5f\"}, \"type\": \"carpet\"}], \"choropleth\": [{\"colorbar\": {\"outlinewidth\": 0, \"ticks\": \"\"}, \"type\": \"choropleth\"}], \"contour\": [{\"colorbar\": {\"outlinewidth\": 0, \"ticks\": \"\"}, \"colorscale\": [[0.0, \"#0d0887\"], [0.1111111111111111, \"#46039f\"], [0.2222222222222222, \"#7201a8\"], [0.3333333333333333, \"#9c179e\"], [0.4444444444444444, \"#bd3786\"], [0.5555555555555556, \"#d8576b\"], [0.6666666666666666, \"#ed7953\"], [0.7777777777777778, \"#fb9f3a\"], [0.8888888888888888, \"#fdca26\"], [1.0, \"#f0f921\"]], \"type\": \"contour\"}], \"contourcarpet\": [{\"colorbar\": {\"outlinewidth\": 0, \"ticks\": \"\"}, \"type\": \"contourcarpet\"}], \"heatmap\": [{\"colorbar\": {\"outlinewidth\": 0, \"ticks\": \"\"}, \"colorscale\": [[0.0, \"#0d0887\"], [0.1111111111111111, \"#46039f\"], [0.2222222222222222, \"#7201a8\"], [0.3333333333333333, \"#9c179e\"], [0.4444444444444444, \"#bd3786\"], [0.5555555555555556, \"#d8576b\"], [0.6666666666666666, \"#ed7953\"], [0.7777777777777778, \"#fb9f3a\"], [0.8888888888888888, \"#fdca26\"], [1.0, \"#f0f921\"]], \"type\": \"heatmap\"}], \"heatmapgl\": [{\"colorbar\": {\"outlinewidth\": 0, \"ticks\": \"\"}, \"colorscale\": [[0.0, \"#0d0887\"], [0.1111111111111111, \"#46039f\"], [0.2222222222222222, \"#7201a8\"], [0.3333333333333333, \"#9c179e\"], [0.4444444444444444, \"#bd3786\"], [0.5555555555555556, \"#d8576b\"], [0.6666666666666666, \"#ed7953\"], [0.7777777777777778, \"#fb9f3a\"], [0.8888888888888888, \"#fdca26\"], [1.0, \"#f0f921\"]], \"type\": \"heatmapgl\"}], \"histogram\": [{\"marker\": {\"colorbar\": {\"outlinewidth\": 0, \"ticks\": \"\"}}, \"type\": \"histogram\"}], \"histogram2d\": [{\"colorbar\": {\"outlinewidth\": 0, \"ticks\": \"\"}, \"colorscale\": [[0.0, \"#0d0887\"], [0.1111111111111111, \"#46039f\"], [0.2222222222222222, \"#7201a8\"], [0.3333333333333333, \"#9c179e\"], [0.4444444444444444, \"#bd3786\"], [0.5555555555555556, \"#d8576b\"], [0.6666666666666666, \"#ed7953\"], [0.7777777777777778, \"#fb9f3a\"], [0.8888888888888888, \"#fdca26\"], [1.0, \"#f0f921\"]], \"type\": \"histogram2d\"}], \"histogram2dcontour\": [{\"colorbar\": {\"outlinewidth\": 0, \"ticks\": \"\"}, \"colorscale\": [[0.0, \"#0d0887\"], [0.1111111111111111, \"#46039f\"], [0.2222222222222222, \"#7201a8\"], [0.3333333333333333, \"#9c179e\"], [0.4444444444444444, \"#bd3786\"], [0.5555555555555556, \"#d8576b\"], [0.6666666666666666, \"#ed7953\"], [0.7777777777777778, \"#fb9f3a\"], [0.8888888888888888, \"#fdca26\"], [1.0, \"#f0f921\"]], \"type\": \"histogram2dcontour\"}], \"mesh3d\": [{\"colorbar\": {\"outlinewidth\": 0, \"ticks\": \"\"}, \"type\": \"mesh3d\"}], \"parcoords\": [{\"line\": {\"colorbar\": {\"outlinewidth\": 0, \"ticks\": \"\"}}, \"type\": \"parcoords\"}], \"pie\": [{\"automargin\": true, \"type\": \"pie\"}], \"scatter\": [{\"marker\": {\"colorbar\": {\"outlinewidth\": 0, \"ticks\": \"\"}}, \"type\": \"scatter\"}], \"scatter3d\": [{\"line\": {\"colorbar\": {\"outlinewidth\": 0, \"ticks\": \"\"}}, \"marker\": {\"colorbar\": {\"outlinewidth\": 0, \"ticks\": \"\"}}, \"type\": \"scatter3d\"}], \"scattercarpet\": [{\"marker\": {\"colorbar\": {\"outlinewidth\": 0, \"ticks\": \"\"}}, \"type\": \"scattercarpet\"}], \"scattergeo\": [{\"marker\": {\"colorbar\": {\"outlinewidth\": 0, \"ticks\": \"\"}}, \"type\": \"scattergeo\"}], \"scattergl\": [{\"marker\": {\"colorbar\": {\"outlinewidth\": 0, \"ticks\": \"\"}}, \"type\": \"scattergl\"}], \"scattermapbox\": [{\"marker\": {\"colorbar\": {\"outlinewidth\": 0, \"ticks\": \"\"}}, \"type\": \"scattermapbox\"}], \"scatterpolar\": [{\"marker\": {\"colorbar\": {\"outlinewidth\": 0, \"ticks\": \"\"}}, \"type\": \"scatterpolar\"}], \"scatterpolargl\": [{\"marker\": {\"colorbar\": {\"outlinewidth\": 0, \"ticks\": \"\"}}, \"type\": \"scatterpolargl\"}], \"scatterternary\": [{\"marker\": {\"colorbar\": {\"outlinewidth\": 0, \"ticks\": \"\"}}, \"type\": \"scatterternary\"}], \"surface\": [{\"colorbar\": {\"outlinewidth\": 0, \"ticks\": \"\"}, \"colorscale\": [[0.0, \"#0d0887\"], [0.1111111111111111, \"#46039f\"], [0.2222222222222222, \"#7201a8\"], [0.3333333333333333, \"#9c179e\"], [0.4444444444444444, \"#bd3786\"], [0.5555555555555556, \"#d8576b\"], [0.6666666666666666, \"#ed7953\"], [0.7777777777777778, \"#fb9f3a\"], [0.8888888888888888, \"#fdca26\"], [1.0, \"#f0f921\"]], \"type\": \"surface\"}], \"table\": [{\"cells\": {\"fill\": {\"color\": \"#EBF0F8\"}, \"line\": {\"color\": \"white\"}}, \"header\": {\"fill\": {\"color\": \"#C8D4E3\"}, \"line\": {\"color\": \"white\"}}, \"type\": \"table\"}]}, \"layout\": {\"annotationdefaults\": {\"arrowcolor\": \"#2a3f5f\", \"arrowhead\": 0, \"arrowwidth\": 1}, \"coloraxis\": {\"colorbar\": {\"outlinewidth\": 0, \"ticks\": \"\"}}, \"colorscale\": {\"diverging\": [[0, \"#8e0152\"], [0.1, \"#c51b7d\"], [0.2, \"#de77ae\"], [0.3, \"#f1b6da\"], [0.4, \"#fde0ef\"], [0.5, \"#f7f7f7\"], [0.6, \"#e6f5d0\"], [0.7, \"#b8e186\"], [0.8, \"#7fbc41\"], [0.9, \"#4d9221\"], [1, \"#276419\"]], \"sequential\": [[0.0, \"#0d0887\"], [0.1111111111111111, \"#46039f\"], [0.2222222222222222, \"#7201a8\"], [0.3333333333333333, \"#9c179e\"], [0.4444444444444444, \"#bd3786\"], [0.5555555555555556, \"#d8576b\"], [0.6666666666666666, \"#ed7953\"], [0.7777777777777778, \"#fb9f3a\"], [0.8888888888888888, \"#fdca26\"], [1.0, \"#f0f921\"]], \"sequentialminus\": [[0.0, \"#0d0887\"], [0.1111111111111111, \"#46039f\"], [0.2222222222222222, \"#7201a8\"], [0.3333333333333333, \"#9c179e\"], [0.4444444444444444, \"#bd3786\"], [0.5555555555555556, \"#d8576b\"], [0.6666666666666666, \"#ed7953\"], [0.7777777777777778, \"#fb9f3a\"], [0.8888888888888888, \"#fdca26\"], [1.0, \"#f0f921\"]]}, \"colorway\": [\"#636efa\", \"#EF553B\", \"#00cc96\", \"#ab63fa\", \"#FFA15A\", \"#19d3f3\", \"#FF6692\", \"#B6E880\", \"#FF97FF\", \"#FECB52\"], \"font\": {\"color\": \"#2a3f5f\"}, \"geo\": {\"bgcolor\": \"white\", \"lakecolor\": \"white\", \"landcolor\": \"#E5ECF6\", \"showlakes\": true, \"showland\": true, \"subunitcolor\": \"white\"}, \"hoverlabel\": {\"align\": \"left\"}, \"hovermode\": \"closest\", \"mapbox\": {\"style\": \"light\"}, \"paper_bgcolor\": \"white\", \"plot_bgcolor\": \"#E5ECF6\", \"polar\": {\"angularaxis\": {\"gridcolor\": \"white\", \"linecolor\": \"white\", \"ticks\": \"\"}, \"bgcolor\": \"#E5ECF6\", \"radialaxis\": {\"gridcolor\": \"white\", \"linecolor\": \"white\", \"ticks\": \"\"}}, \"scene\": {\"xaxis\": {\"backgroundcolor\": \"#E5ECF6\", \"gridcolor\": \"white\", \"gridwidth\": 2, \"linecolor\": \"white\", \"showbackground\": true, \"ticks\": \"\", \"zerolinecolor\": \"white\"}, \"yaxis\": {\"backgroundcolor\": \"#E5ECF6\", \"gridcolor\": \"white\", \"gridwidth\": 2, \"linecolor\": \"white\", \"showbackground\": true, \"ticks\": \"\", \"zerolinecolor\": \"white\"}, \"zaxis\": {\"backgroundcolor\": \"#E5ECF6\", \"gridcolor\": \"white\", \"gridwidth\": 2, \"linecolor\": \"white\", \"showbackground\": true, \"ticks\": \"\", \"zerolinecolor\": \"white\"}}, \"shapedefaults\": {\"line\": {\"color\": \"#2a3f5f\"}}, \"ternary\": {\"aaxis\": {\"gridcolor\": \"white\", \"linecolor\": \"white\", \"ticks\": \"\"}, \"baxis\": {\"gridcolor\": \"white\", \"linecolor\": \"white\", \"ticks\": \"\"}, \"bgcolor\": \"#E5ECF6\", \"caxis\": {\"gridcolor\": \"white\", \"linecolor\": \"white\", \"ticks\": \"\"}}, \"title\": {\"x\": 0.05}, \"xaxis\": {\"automargin\": true, \"gridcolor\": \"white\", \"linecolor\": \"white\", \"ticks\": \"\", \"title\": {\"standoff\": 15}, \"zerolinecolor\": \"white\", \"zerolinewidth\": 2}, \"yaxis\": {\"automargin\": true, \"gridcolor\": \"white\", \"linecolor\": \"white\", \"ticks\": \"\", \"title\": {\"standoff\": 15}, \"zerolinecolor\": \"white\", \"zerolinewidth\": 2}}}, \"xaxis\": {\"anchor\": \"y\", \"domain\": [0.0, 1.0], \"tickmode\": \"array\", \"ticktext\": [\"12/23\", \"12/30\", \"1/6\", \"1/13\", \"1/20\", \"1/27\", \"2/3\", \"2/10\", \"2/17\", \"2/24\", \"3/2\", \"3/9\", \"3/16\", \"3/23\", \"3/30\", \"4/6\", \"4/13\", \"4/20\", \"4/27\", \"5/4\", \"5/11\", \"5/18\", \"5/25\", \"6/1\", \"6/8\", \"6/15\", \"6/22\", \"6/29\", \"7/6\", \"7/13\", \"7/20\", \"7/27\", \"8/3\", \"8/10\", \"8/17\", \"8/24\", \"8/31\", \"9/7\", \"9/14\", \"9/21\", \"9/28\", \"10/5\", \"10/12\", \"10/19\", \"10/26\", \"11/2\", \"11/9\", \"11/16\", \"11/23\", \"11/30\", \"12/7\", \"12/14\"], \"tickvals\": [0, 1, 2, 3, 4, 5, 6, 7, 8, 9, 10, 11, 12, 13, 14, 15, 16, 17, 18, 19, 20, 21, 22, 23, 24, 25, 26, 27, 28, 29, 30, 31, 32, 33, 34, 35, 36, 37, 38, 39, 40, 41, 42, 43, 44, 45, 46, 47, 48, 49, 50, 51], \"title\": {\"text\": \"week\"}}, \"yaxis\": {\"anchor\": \"x\", \"domain\": [0.0, 1.0], \"title\": {\"text\": \"elastic\"}}},\n",
       "                        {\"responsive\": true}\n",
       "                    ).then(function(){\n",
       "                            \n",
       "var gd = document.getElementById('9483a4db-2323-49ce-b38a-a2c3d17aabbd');\n",
       "var x = new MutationObserver(function (mutations, observer) {{\n",
       "        var display = window.getComputedStyle(gd).display;\n",
       "        if (!display || display === 'none') {{\n",
       "            console.log([gd, 'removed!']);\n",
       "            Plotly.purge(gd);\n",
       "            observer.disconnect();\n",
       "        }}\n",
       "}});\n",
       "\n",
       "// Listen for the removal of the full notebook cells\n",
       "var notebookContainer = gd.closest('#notebook-container');\n",
       "if (notebookContainer) {{\n",
       "    x.observe(notebookContainer, {childList: true});\n",
       "}}\n",
       "\n",
       "// Listen for the clearing of the current output cell\n",
       "var outputEl = gd.closest('.output');\n",
       "if (outputEl) {{\n",
       "    x.observe(outputEl, {childList: true});\n",
       "}}\n",
       "\n",
       "                        })\n",
       "                };\n",
       "                });\n",
       "            </script>\n",
       "        </div>"
      ]
     },
     "metadata": {},
     "output_type": "display_data"
    }
   ],
   "source": [
    "daegu_df = concat_elastic(data=daegu_covid_table2020, start_week=7, end_week=22)\n",
    "\n",
    "fig = px.line(daegu_df, x=\"week\", y=\"elastic\", color='MCT_CAT_CD')\n",
    "fig.update_layout(xaxis=dict(tickmode='array', tickvals=np.arange(0, len(test2)), ticktext=test2))\n",
    "fig.show()"
   ]
  },
  {
   "cell_type": "code",
   "execution_count": null,
   "metadata": {},
   "outputs": [],
   "source": []
  }
 ],
 "metadata": {
  "kernelspec": {
   "display_name": "Python 3",
   "language": "python",
   "name": "python3"
  },
  "language_info": {
   "codemirror_mode": {
    "name": "ipython",
    "version": 3
   },
   "file_extension": ".py",
   "mimetype": "text/x-python",
   "name": "python",
   "nbconvert_exporter": "python",
   "pygments_lexer": "ipython3",
   "version": "3.7.7"
  },
  "toc": {
   "base_numbering": 1,
   "nav_menu": {},
   "number_sections": true,
   "sideBar": true,
   "skip_h1_title": false,
   "title_cell": "Table of Contents",
   "title_sidebar": "Contents",
   "toc_cell": false,
   "toc_position": {},
   "toc_section_display": true,
   "toc_window_display": false
  },
  "varInspector": {
   "cols": {
    "lenName": 16,
    "lenType": 16,
    "lenVar": 40
   },
   "kernels_config": {
    "python": {
     "delete_cmd_postfix": "",
     "delete_cmd_prefix": "del ",
     "library": "var_list.py",
     "varRefreshCmd": "print(var_dic_list())"
    },
    "r": {
     "delete_cmd_postfix": ") ",
     "delete_cmd_prefix": "rm(",
     "library": "var_list.r",
     "varRefreshCmd": "cat(var_dic_list()) "
    }
   },
   "types_to_exclude": [
    "module",
    "function",
    "builtin_function_or_method",
    "instance",
    "_Feature"
   ],
   "window_display": false
  }
 },
 "nbformat": 4,
 "nbformat_minor": 4
}
