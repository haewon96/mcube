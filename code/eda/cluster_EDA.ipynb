{
 "cells": [
  {
   "cell_type": "code",
   "execution_count": 567,
   "metadata": {},
   "outputs": [],
   "source": [
    "import numpy as np\n",
    "import pandas as pd\n",
    "import matplotlib\n",
    "import matplotlib.pyplot as plt\n",
    "import os"
   ]
  },
  {
   "cell_type": "code",
   "execution_count": 2,
   "metadata": {
    "scrolled": true
   },
   "outputs": [
    {
     "data": {
      "text/plain": [
       "['AppleGothic']"
      ]
     },
     "execution_count": 2,
     "metadata": {},
     "output_type": "execute_result"
    }
   ],
   "source": [
    "matplotlib.rcParams['font.family'] = 'AppleGothic'\n",
    "matplotlib.rcParams['font.family']"
   ]
  },
  {
   "cell_type": "markdown",
   "metadata": {},
   "source": [
    "# 불러오기"
   ]
  },
  {
   "cell_type": "code",
   "execution_count": 874,
   "metadata": {},
   "outputs": [
    {
     "data": {
      "text/plain": [
       "31"
      ]
     },
     "execution_count": 874,
     "metadata": {},
     "output_type": "execute_result"
    }
   ],
   "source": [
    "Gyeonggi_path = '/Users/jihyejung/수업/3/빅데이터/프로젝트 준비/cluster_data/e지방지표/'\n",
    "Gyeonggi_list = os.listdir(Gyeonggi_path)\n",
    "len(Gyeonggi_list)"
   ]
  },
  {
   "cell_type": "code",
   "execution_count": 875,
   "metadata": {},
   "outputs": [],
   "source": [
    "for i in range(len(Gyeonggi_list)):\n",
    "    #name = e_list[i][:-4]\n",
    "    #print(e_path+e_list[i])\n",
    "    path = Gyeonggi_path+Gyeonggi_list[i]\n",
    "    globals()['df_{}'.format(i)] = pd.read_csv(path, encoding = 'CP949')\n"
   ]
  },
  {
   "cell_type": "markdown",
   "metadata": {},
   "source": [
    "# e 경기지표"
   ]
  },
  {
   "cell_type": "code",
   "execution_count": 876,
   "metadata": {},
   "outputs": [],
   "source": [
    "eGyeonggi_total = pd.concat([df_0,df_1,df_2,df_3,df_4,df_5,df_6,df_7,df_8,df_9,\n",
    "           df_10,df_11,df_12,df_13,df_14,df_15,df_16,df_17,df_18,df_19,\n",
    "           df_20,df_21,df_22,df_23,df_24,df_25,df_26,df_27,df_28,df_29,\n",
    "           df_30],\n",
    "      axis = 0,sort = True)"
   ]
  },
  {
   "cell_type": "code",
   "execution_count": 877,
   "metadata": {},
   "outputs": [],
   "source": [
    "eGyeonggi_total.columns = ['2016', '2017', '2018', '2019', '2020', '지역별', '지표별_1', '지표별_2']"
   ]
  },
  {
   "cell_type": "code",
   "execution_count": 878,
   "metadata": {},
   "outputs": [],
   "source": [
    "#지역별 이름 통일화\n",
    "si_mapping = {}\n",
    "for name in list(set(eGyeonggi_total.지역별)):\n",
    "   # print(name)\n",
    "    si_mapping[name] = name[3:]\n",
    "\n",
    "eGyeonggi_total['지역별'] = eGyeonggi_total['지역별'].map(si_mapping)"
   ]
  },
  {
   "cell_type": "code",
   "execution_count": 879,
   "metadata": {},
   "outputs": [],
   "source": [
    "eGyeonggi_total = eGyeonggi_total[['2016','2017','2018','2019','지역별', '지표별_1', '지표별_2']]\n",
    "eGyeonggi_19yr = eGyeonggi_total[['2019','지역별', '지표별_2']]\n",
    "eGyeonggi_18yr = eGyeonggi_total[['2018','지역별', '지표별_2']]"
   ]
  },
  {
   "cell_type": "markdown",
   "metadata": {},
   "source": [
    "## 2019년 자료"
   ]
  },
  {
   "cell_type": "code",
   "execution_count": 880,
   "metadata": {
    "scrolled": true
   },
   "outputs": [],
   "source": [
    "eGyeonggi_19yr_df = eGyeonggi_19yr.set_index(['지표별_2','지역별']).unstack('지표별_2')\n",
    "#df.columns\n",
    "#eGyeonggi_19yr_df.info()"
   ]
  },
  {
   "cell_type": "code",
   "execution_count": 881,
   "metadata": {},
   "outputs": [],
   "source": [
    "eGyeonggi_19yr_df = eGyeonggi_19yr_df[[\n",
    "            ('2019',         'EQ-5D (점)'),\n",
    "            ('2019',          '가구수 (가구)'),\n",
    "            #('2019',      '건강보험 적용인구 현황'),\n",
    "            ('2019',        '고위험음주율 (%)'),\n",
    "            ('2019',       '논경지면적 (헥타르)'),\n",
    "            ('2019',          '농가수 (가구)'),\n",
    "            ('2019',          '농가인구 (명)'),\n",
    "            #('2019',      '도소매업사업체수 (개)'),\n",
    "            #('2019',      '도소매업종사자수 (명)'),\n",
    "            ('2019',            '도시지역면적'),\n",
    "            ('2019',      '등록외국인 현황 (명)'),\n",
    "            #('2019',           '비만율 (%)'),\n",
    "            #('2019',          '사망자수 (명)'),\n",
    "            #('2019',          '사업체수 (개)'),\n",
    "            #('2019',        '상수도보급률 (%)'),\n",
    "            #('2019',      '서비스업사업체수 (개)'),\n",
    "            #('2019',     '소비자물가 등락률 (%)'),\n",
    "            ('2019',         '순이동인구 (명)'),\n",
    "            ('2019',      '스트레스 인지율 (%)'),\n",
    "            #('2019',       '운수업사업체수 (개)'),\n",
    "            #('2019',       '운수업종사자수 (명)'),\n",
    "            ('2019',       '유치원 교원수 (명)'),\n",
    "            ('2019',       '유치원 원아수 (명)'),\n",
    "            ('2019',          '유치원수 (개)'),\n",
    "            ('2019',           '음주율 (%)'),\n",
    "            #('2019', '인구십만명당 자살률 (십만명당)'),\n",
    "            ('2019',          '인구총조사 인구'),\n",
    "            ('2019',          '전입인구 (명)'),\n",
    "            ('2019',          '전출인구 (명)'),\n",
    "            #('2019',       '제조업사업체수 (개)'),\n",
    "            #('2019',       '제조업종사자수 (명)'),\n",
    "            ('2019',              '조이혼율'),\n",
    "            ('2019',              '조혼인율'),\n",
    "            #('2019',          '종사자수 (명)'),\n",
    "            ('2019',   '주관적 건강수준인지율 (%)'),\n",
    "            ('2019',        '주민등록인구 (명)'),\n",
    "            ('2019',           '주택수 (호)'),\n",
    "            ('2019',      '초등학교 교원수 (명)'),\n",
    "            ('2019',      '초등학교 학생수 (명)'),\n",
    "            ('2019',         '초등학교수 (개)'),\n",
    "            ('2019',          '출생아수 (명)'),\n",
    "            #('2019', '친환경인증 농산물 출하량 (톤)'),\n",
    "            #('2019', '친환경인증 축산물 출하량 (톤)'),\n",
    "            ('2019',       '토지거래면적 (천㎡)'),\n",
    "            ('2019',              '평균연령'),\n",
    "            #('2019',       '폐수배출업소수 (개)'),\n",
    "            #('2019',        '하수도보급률 (%)'),\n",
    "            ('2019',       '학급당 학생수 (명)'),\n",
    "            ('2019',             '합계출산율'),\n",
    "            ('2019',          '혼인건수 (건)'),\n",
    "            ('2019',        '화재발생건수 (건)'),\n",
    "            ('2019',           '흡연율 (%)')]]"
   ]
  },
  {
   "cell_type": "code",
   "execution_count": 882,
   "metadata": {},
   "outputs": [],
   "source": [
    "#eGyeonggi_19yr_df.info()"
   ]
  },
  {
   "cell_type": "markdown",
   "metadata": {},
   "source": [
    "## 2018년 산업관련 자료"
   ]
  },
  {
   "cell_type": "code",
   "execution_count": 883,
   "metadata": {
    "scrolled": true
   },
   "outputs": [],
   "source": [
    "eGyeonggi_18yr_df= eGyeonggi_18yr.set_index(['지표별_2','지역별']).unstack('지표별_2')\n",
    "eGyeonggi_18yr_industry = eGyeonggi_18yr_df[[\n",
    "            ('2018',      '서비스업사업체수 (개)'),\n",
    "            ('2018',       '제조업사업체수 (개)'),\n",
    "            ('2018',       '제조업종사자수 (명)'),\n",
    "            ('2018',      '도소매업사업체수 (개)'),\n",
    "            ('2018',      '도소매업종사자수 (명)'),\n",
    "            ('2018',       '운수업사업체수 (개)'),\n",
    "            ('2018',       '운수업종사자수 (명)'),\n",
    "            ('2018',          '사업체수 (개)'), \n",
    "            ('2018',          '종사자수 (명)')]]"
   ]
  },
  {
   "cell_type": "code",
   "execution_count": 904,
   "metadata": {},
   "outputs": [],
   "source": [
    "eGyeonggi_18yr_industry = eGyeonggi_18yr_industry.apply(pd.to_numeric)"
   ]
  },
  {
   "cell_type": "code",
   "execution_count": 903,
   "metadata": {},
   "outputs": [
    {
     "data": {
      "text/plain": [
       "<matplotlib.legend.Legend at 0x1467f2390>"
      ]
     },
     "execution_count": 903,
     "metadata": {},
     "output_type": "execute_result"
    },
    {
     "data": {
      "image/png": "[encoded data removed]",
      "text/plain": [
       "<Figure size 648x648 with 1 Axes>"
      ]
     },
     "metadata": {
      "needs_background": "light"
     },
     "output_type": "display_data"
    }
   ],
   "source": [
    "%matplotlib inline\n",
    "eGyeonggi_18yr_industry.apply(pd.to_numeric).plot(kind = 'barh', figsize=(9,9))\n",
    "plt.legend(bbox_to_anchor=(1.05, 1))"
   ]
  },
  {
   "cell_type": "markdown",
   "metadata": {},
   "source": [
    "## 통합"
   ]
  },
  {
   "cell_type": "code",
   "execution_count": 888,
   "metadata": {
    "scrolled": false
   },
   "outputs": [
    {
     "data": {
      "text/html": [
       "<div>\n",
       "<style scoped>\n",
       "    .dataframe tbody tr th:only-of-type {\n",
       "        vertical-align: middle;\n",
       "    }\n",
       "\n",
       "    .dataframe tbody tr th {\n",
       "        vertical-align: top;\n",
       "    }\n",
       "\n",
       "    .dataframe thead tr th {\n",
       "        text-align: left;\n",
       "    }\n",
       "\n",
       "    .dataframe thead tr:last-of-type th {\n",
       "        text-align: right;\n",
       "    }\n",
       "</style>\n",
       "<table border=\"1\" class=\"dataframe\">\n",
       "  <thead>\n",
       "    <tr>\n",
       "      <th></th>\n",
       "      <th colspan=\"9\" halign=\"left\">2018</th>\n",
       "      <th colspan=\"12\" halign=\"left\">2019</th>\n",
       "    </tr>\n",
       "    <tr>\n",
       "      <th>지표별_2</th>\n",
       "      <th>서비스업사업체수 (개)</th>\n",
       "      <th>제조업사업체수 (개)</th>\n",
       "      <th>제조업종사자수 (명)</th>\n",
       "      <th>도소매업사업체수 (개)</th>\n",
       "      <th>도소매업종사자수 (명)</th>\n",
       "      <th>운수업사업체수 (개)</th>\n",
       "      <th>운수업종사자수 (명)</th>\n",
       "      <th>사업체수 (개)</th>\n",
       "      <th>종사자수 (명)</th>\n",
       "      <th>EQ-5D (점)</th>\n",
       "      <th>...</th>\n",
       "      <th>초등학교 학생수 (명)</th>\n",
       "      <th>초등학교수 (개)</th>\n",
       "      <th>출생아수 (명)</th>\n",
       "      <th>토지거래면적 (천㎡)</th>\n",
       "      <th>평균연령</th>\n",
       "      <th>학급당 학생수 (명)</th>\n",
       "      <th>합계출산율</th>\n",
       "      <th>혼인건수 (건)</th>\n",
       "      <th>화재발생건수 (건)</th>\n",
       "      <th>흡연율 (%)</th>\n",
       "    </tr>\n",
       "    <tr>\n",
       "      <th>지역별</th>\n",
       "      <th></th>\n",
       "      <th></th>\n",
       "      <th></th>\n",
       "      <th></th>\n",
       "      <th></th>\n",
       "      <th></th>\n",
       "      <th></th>\n",
       "      <th></th>\n",
       "      <th></th>\n",
       "      <th></th>\n",
       "      <th></th>\n",
       "      <th></th>\n",
       "      <th></th>\n",
       "      <th></th>\n",
       "      <th></th>\n",
       "      <th></th>\n",
       "      <th></th>\n",
       "      <th></th>\n",
       "      <th></th>\n",
       "      <th></th>\n",
       "      <th></th>\n",
       "    </tr>\n",
       "  </thead>\n",
       "  <tbody>\n",
       "    <tr>\n",
       "      <th>가평군</th>\n",
       "      <td>5557.0</td>\n",
       "      <td>340.0</td>\n",
       "      <td>1881.0</td>\n",
       "      <td>1177.0</td>\n",
       "      <td>3014.0</td>\n",
       "      <td>239.0</td>\n",
       "      <td>746.0</td>\n",
       "      <td>6818.0</td>\n",
       "      <td>27728.0</td>\n",
       "      <td>0.972</td>\n",
       "      <td>...</td>\n",
       "      <td>2583</td>\n",
       "      <td>13</td>\n",
       "      <td>261</td>\n",
       "      <td>11483</td>\n",
       "      <td>48</td>\n",
       "      <td>18.33</td>\n",
       "      <td>0.971</td>\n",
       "      <td>272</td>\n",
       "      <td>154</td>\n",
       "      <td>20.7</td>\n",
       "    </tr>\n",
       "    <tr>\n",
       "      <th>고양시</th>\n",
       "      <td>50901.0</td>\n",
       "      <td>5858.0</td>\n",
       "      <td>32669.0</td>\n",
       "      <td>18468.0</td>\n",
       "      <td>65854.0</td>\n",
       "      <td>7244.0</td>\n",
       "      <td>19324.0</td>\n",
       "      <td>69255.0</td>\n",
       "      <td>332904.0</td>\n",
       "      <td>0.959</td>\n",
       "      <td>...</td>\n",
       "      <td>54934</td>\n",
       "      <td>84</td>\n",
       "      <td>5538</td>\n",
       "      <td>8723</td>\n",
       "      <td>42</td>\n",
       "      <td>24.10</td>\n",
       "      <td>0.802</td>\n",
       "      <td>4440</td>\n",
       "      <td>524</td>\n",
       "      <td>19.7</td>\n",
       "    </tr>\n",
       "    <tr>\n",
       "      <th>과천시</th>\n",
       "      <td>2949.0</td>\n",
       "      <td>79.0</td>\n",
       "      <td>328.0</td>\n",
       "      <td>1295.0</td>\n",
       "      <td>4309.0</td>\n",
       "      <td>307.0</td>\n",
       "      <td>946.0</td>\n",
       "      <td>3675.0</td>\n",
       "      <td>34827.0</td>\n",
       "      <td>0.971</td>\n",
       "      <td>...</td>\n",
       "      <td>2826</td>\n",
       "      <td>4</td>\n",
       "      <td>282</td>\n",
       "      <td>1098</td>\n",
       "      <td>42</td>\n",
       "      <td>23.50</td>\n",
       "      <td>0.780</td>\n",
       "      <td>240</td>\n",
       "      <td>38</td>\n",
       "      <td>11.8</td>\n",
       "    </tr>\n",
       "    <tr>\n",
       "      <th>광명시</th>\n",
       "      <td>13491.0</td>\n",
       "      <td>1756.0</td>\n",
       "      <td>15337.0</td>\n",
       "      <td>4918.0</td>\n",
       "      <td>17751.0</td>\n",
       "      <td>2325.0</td>\n",
       "      <td>5579.0</td>\n",
       "      <td>18990.0</td>\n",
       "      <td>94647.0</td>\n",
       "      <td>0.972</td>\n",
       "      <td>...</td>\n",
       "      <td>18420</td>\n",
       "      <td>25</td>\n",
       "      <td>1827</td>\n",
       "      <td>1324</td>\n",
       "      <td>42</td>\n",
       "      <td>24.24</td>\n",
       "      <td>0.840</td>\n",
       "      <td>1489</td>\n",
       "      <td>148</td>\n",
       "      <td>15.4</td>\n",
       "    </tr>\n",
       "    <tr>\n",
       "      <th>광주시</th>\n",
       "      <td>15646.0</td>\n",
       "      <td>6587.0</td>\n",
       "      <td>48720.0</td>\n",
       "      <td>6083.0</td>\n",
       "      <td>24040.0</td>\n",
       "      <td>3354.0</td>\n",
       "      <td>10543.0</td>\n",
       "      <td>27420.0</td>\n",
       "      <td>138040.0</td>\n",
       "      <td>0.968</td>\n",
       "      <td>...</td>\n",
       "      <td>19866</td>\n",
       "      <td>27</td>\n",
       "      <td>2662</td>\n",
       "      <td>15241</td>\n",
       "      <td>41</td>\n",
       "      <td>25.91</td>\n",
       "      <td>1.043</td>\n",
       "      <td>1931</td>\n",
       "      <td>352</td>\n",
       "      <td>25.1</td>\n",
       "    </tr>\n",
       "  </tbody>\n",
       "</table>\n",
       "<p>5 rows × 42 columns</p>\n",
       "</div>"
      ],
      "text/plain": [
       "              2018                                                    \\\n",
       "지표별_2 서비스업사업체수 (개) 제조업사업체수 (개) 제조업종사자수 (명) 도소매업사업체수 (개) 도소매업종사자수 (명)   \n",
       "지역별                                                                    \n",
       "가평군         5557.0       340.0      1881.0       1177.0       3014.0   \n",
       "고양시        50901.0      5858.0     32669.0      18468.0      65854.0   \n",
       "과천시         2949.0        79.0       328.0       1295.0       4309.0   \n",
       "광명시        13491.0      1756.0     15337.0       4918.0      17751.0   \n",
       "광주시        15646.0      6587.0     48720.0       6083.0      24040.0   \n",
       "\n",
       "                                                      2019  ...               \\\n",
       "지표별_2 운수업사업체수 (개) 운수업종사자수 (명) 사업체수 (개)  종사자수 (명) EQ-5D (점)  ... 초등학교 학생수 (명)   \n",
       "지역별                                                         ...                \n",
       "가평군         239.0       746.0   6818.0   27728.0     0.972  ...         2583   \n",
       "고양시        7244.0     19324.0  69255.0  332904.0     0.959  ...        54934   \n",
       "과천시         307.0       946.0   3675.0   34827.0     0.971  ...         2826   \n",
       "광명시        2325.0      5579.0  18990.0   94647.0     0.972  ...        18420   \n",
       "광주시        3354.0     10543.0  27420.0  138040.0     0.968  ...        19866   \n",
       "\n",
       "                                                                       \\\n",
       "지표별_2 초등학교수 (개) 출생아수 (명) 토지거래면적 (천㎡) 평균연령 학급당 학생수 (명)  합계출산율 혼인건수 (건)   \n",
       "지역별                                                                     \n",
       "가평군          13      261       11483   48       18.33  0.971      272   \n",
       "고양시          84     5538        8723   42       24.10  0.802     4440   \n",
       "과천시           4      282        1098   42       23.50  0.780      240   \n",
       "광명시          25     1827        1324   42       24.24  0.840     1489   \n",
       "광주시          27     2662       15241   41       25.91  1.043     1931   \n",
       "\n",
       "                          \n",
       "지표별_2 화재발생건수 (건) 흡연율 (%)  \n",
       "지역별                       \n",
       "가평군          154    20.7  \n",
       "고양시          524    19.7  \n",
       "과천시           38    11.8  \n",
       "광명시          148    15.4  \n",
       "광주시          352    25.1  \n",
       "\n",
       "[5 rows x 42 columns]"
      ]
     },
     "execution_count": 888,
     "metadata": {},
     "output_type": "execute_result"
    }
   ],
   "source": [
    "eGyeonggi_final_df = pd.concat([eGyeonggi_18yr_industry,eGyeonggi_19yr_df],axis = 1)\n",
    "eGyeonggi_final_df = eGyeonggi_final_df.apply(pd.to_numeric)\n",
    "len(eGyeonggi_final_df)\n",
    "eGyeonggi_final_df.head()\n",
    "#eGyeonggi_final_df.columns = eGyeonggi_final_df.columns.droplevel([0])"
   ]
  },
  {
   "cell_type": "code",
   "execution_count": 711,
   "metadata": {},
   "outputs": [],
   "source": [
    "#eGyeonggi_final_df.info()\n",
    "#eGyeonggi_final_df.describe()"
   ]
  },
  {
   "cell_type": "markdown",
   "metadata": {},
   "source": [
    "# 유동인구"
   ]
  },
  {
   "cell_type": "code",
   "execution_count": 889,
   "metadata": {},
   "outputs": [],
   "source": [
    "floatingppl_path = '/Users/jihyejung/수업/3/빅데이터/프로젝트 준비/cluster_data/kyeonggi/TC_GS_AGRDE_POPLTN/'\n",
    "floatingppl_list = os.listdir(floatingppl_path)"
   ]
  },
  {
   "cell_type": "code",
   "execution_count": 890,
   "metadata": {},
   "outputs": [],
   "source": [
    "for i in range(len(floatingppl_list)):\n",
    "    #name = e_list[i][:-4]\n",
    "    #print(e_path+e_list[i])\n",
    "    path = floatingppl_path+floatingppl_list[i]\n",
    "    globals()['df_{}'.format(i)] = pd.read_csv(path)\n"
   ]
  },
  {
   "cell_type": "code",
   "execution_count": 891,
   "metadata": {},
   "outputs": [
    {
     "data": {
      "text/plain": [
       "57"
      ]
     },
     "execution_count": 891,
     "metadata": {},
     "output_type": "execute_result"
    }
   ],
   "source": [
    "len(floatingppl_list)"
   ]
  },
  {
   "cell_type": "code",
   "execution_count": 892,
   "metadata": {},
   "outputs": [],
   "source": [
    "floatingppl_total = pd.concat([df_0,df_1,df_2,df_3,df_4,df_5,df_6,df_7,df_8,df_9,\n",
    "           df_10,df_11,df_12,df_13,df_14,df_15,df_16,df_17,df_18,df_19,\n",
    "           df_20,df_21,df_22,df_23,df_24,df_25,df_26,df_27,df_28,df_29,\n",
    "           df_30,df_31,df_32,df_33,df_34,df_35,df_36,df_37,df_38,df_39,\n",
    "           df_40,df_41,df_42,df_43,df_44,df_45,df_46,df_47,df_48,df_49,\n",
    "            df_50,df_51,df_52,df_53,df_54,df_55,df_56],\n",
    "      axis = 0, sort = True)"
   ]
  },
  {
   "cell_type": "markdown",
   "metadata": {},
   "source": [
    "floatingppl_total 정리"
   ]
  },
  {
   "cell_type": "code",
   "execution_count": 893,
   "metadata": {},
   "outputs": [],
   "source": [
    "SI = []\n",
    "for name in floatingppl_total.시군구명:\n",
    "    #print(name)\n",
    "    SI.append(name[:3])\n",
    "    \n",
    "floatingppl_total['시명'] = pd.Series(SI)"
   ]
  },
  {
   "cell_type": "code",
   "execution_count": 719,
   "metadata": {},
   "outputs": [],
   "source": [
    "floatingppl_total.기준년월 = pd.to_datetime(floatingppl_total.기준년월,format='%Y-%m')"
   ]
  },
  {
   "cell_type": "code",
   "execution_count": 720,
   "metadata": {},
   "outputs": [],
   "source": [
    "floatingppl_total.sort_values(by = ['기준년월'], axis = 0, inplace = True)"
   ]
  },
  {
   "cell_type": "code",
   "execution_count": 721,
   "metadata": {},
   "outputs": [],
   "source": [
    "#df = floatingppl_total.성별코드\n",
    "#floatingppl_total.성별코드 = pd.get_dummies(df).M"
   ]
  },
  {
   "cell_type": "markdown",
   "metadata": {},
   "source": [
    "범주형자료 처리"
   ]
  },
  {
   "cell_type": "code",
   "execution_count": 723,
   "metadata": {
    "scrolled": true
   },
   "outputs": [],
   "source": [
    "#범주형자료 처리\n",
    "#성별\n",
    "sex_mapping = {'F': 0,'M': 1}\n",
    "floatingppl_total['성별코드'] = floatingppl_total['성별코드'].map(sex_mapping)\n",
    "#나이\n",
    "age_mapping = {'-10': 10,'10': 10, '10-': 10,\n",
    "              '20':20, '30':30, '40':40, '50':50, '60+':60}\n",
    "floatingppl_total['연령대코드'] = floatingppl_total['연령대코드'].map(age_mapping)"
   ]
  },
  {
   "cell_type": "code",
   "execution_count": 579,
   "metadata": {},
   "outputs": [],
   "source": [
    "floatingppl_17yr = floatingppl_total[floatingppl_total.기준년월.dt.year==2017]\n",
    "floatingppl_18yr = floatingppl_total[floatingppl_total.기준년월.dt.year==2018]\n",
    "floatingppl_19yr = floatingppl_total[floatingppl_total.기준년월.dt.year==2019]"
   ]
  },
  {
   "cell_type": "code",
   "execution_count": 582,
   "metadata": {},
   "outputs": [
    {
     "name": "stdout",
     "output_type": "stream",
     "text": [
      "<class 'pandas.core.frame.DataFrame'>\n",
      "Int64Index: 8376536 entries, 73471 to 74382\n",
      "Data columns (total 8 columns):\n",
      " #   Column  Dtype         \n",
      "---  ------  -----         \n",
      " 0   기준년월    datetime64[ns]\n",
      " 1   성별코드    int64         \n",
      " 2   시군구명    object        \n",
      " 3   시도명     object        \n",
      " 4   연령대코드   int64         \n",
      " 5   유입시군구명  object        \n",
      " 6   유입시도명   object        \n",
      " 7   인구평균수   float64       \n",
      "dtypes: datetime64[ns](1), float64(1), int64(2), object(4)\n",
      "memory usage: 575.2+ MB\n"
     ]
    }
   ],
   "source": [
    "floatingppl_total.info()"
   ]
  },
  {
   "cell_type": "markdown",
   "metadata": {},
   "source": [
    "# GRDP"
   ]
  },
  {
   "cell_type": "code",
   "execution_count": 756,
   "metadata": {},
   "outputs": [],
   "source": [
    "GRDP_path = '/Users/jihyejung/수업/3/빅데이터/프로젝트 준비/cluster_data/kyeonggi/GRDP/210_DT_GRDP008_20200825045334.csv'\n",
    "GRDP_raw = pd.read_csv(GRDP_path)[['행정구역(시·군)별', '경제활동별', '항목', '2016 년', '2015 년', '2014 년', '2013 년', '2012 년', '2011 년', '2010 년']]"
   ]
  },
  {
   "cell_type": "code",
   "execution_count": 765,
   "metadata": {},
   "outputs": [],
   "source": [
    "GRDP_raw.columns  = ['지역별', '경제활동별', '항목', '2016', '2015', '2014', '2013', '2012', '2011', '2010']\n"
   ]
  },
  {
   "cell_type": "code",
   "execution_count": 766,
   "metadata": {},
   "outputs": [],
   "source": [
    "GRDP_raw = GRDP_raw[GRDP_raw.지역별 != '합계']\n",
    "GRDP_total = GRDP_raw[GRDP_raw.항목 == '산출액(당해년가격)']\n",
    "GRDP_final_df = GRDP_total.replace('-',0)"
   ]
  },
  {
   "cell_type": "code",
   "execution_count": 773,
   "metadata": {},
   "outputs": [],
   "source": [
    "GRDP_final_df[['2016', '2015', '2014', '2013', '2012', '2011', '2010']] = \\\n",
    "GRDP_final_df[['2016', '2015', '2014', '2013', '2012', '2011', '2010']].apply(pd.to_numeric)"
   ]
  },
  {
   "cell_type": "code",
   "execution_count": 778,
   "metadata": {},
   "outputs": [
    {
     "data": {
      "text/html": [
       "<div>\n",
       "<style scoped>\n",
       "    .dataframe tbody tr th:only-of-type {\n",
       "        vertical-align: middle;\n",
       "    }\n",
       "\n",
       "    .dataframe tbody tr th {\n",
       "        vertical-align: top;\n",
       "    }\n",
       "\n",
       "    .dataframe thead th {\n",
       "        text-align: right;\n",
       "    }\n",
       "</style>\n",
       "<table border=\"1\" class=\"dataframe\">\n",
       "  <thead>\n",
       "    <tr style=\"text-align: right;\">\n",
       "      <th></th>\n",
       "      <th>지역별</th>\n",
       "      <th>경제활동별</th>\n",
       "      <th>항목</th>\n",
       "      <th>2016</th>\n",
       "      <th>2015</th>\n",
       "      <th>2014</th>\n",
       "      <th>2013</th>\n",
       "      <th>2012</th>\n",
       "      <th>2011</th>\n",
       "      <th>2010</th>\n",
       "    </tr>\n",
       "  </thead>\n",
       "  <tbody>\n",
       "    <tr>\n",
       "      <th>153</th>\n",
       "      <td>수원시</td>\n",
       "      <td>총부가가치(기초가격)</td>\n",
       "      <td>산출액(당해년가격)</td>\n",
       "      <td>55277252</td>\n",
       "      <td>54230904</td>\n",
       "      <td>53241760</td>\n",
       "      <td>50793308</td>\n",
       "      <td>50509256</td>\n",
       "      <td>51822392</td>\n",
       "      <td>48069391</td>\n",
       "    </tr>\n",
       "    <tr>\n",
       "      <th>162</th>\n",
       "      <td>수원시</td>\n",
       "      <td>농림어업</td>\n",
       "      <td>산출액(당해년가격)</td>\n",
       "      <td>2087</td>\n",
       "      <td>677</td>\n",
       "      <td>697</td>\n",
       "      <td>1292</td>\n",
       "      <td>1123</td>\n",
       "      <td>1115</td>\n",
       "      <td>2976</td>\n",
       "    </tr>\n",
       "    <tr>\n",
       "      <th>171</th>\n",
       "      <td>수원시</td>\n",
       "      <td>광업</td>\n",
       "      <td>산출액(당해년가격)</td>\n",
       "      <td>0</td>\n",
       "      <td>0</td>\n",
       "      <td>0</td>\n",
       "      <td>0</td>\n",
       "      <td>0</td>\n",
       "      <td>0</td>\n",
       "      <td>0</td>\n",
       "    </tr>\n",
       "    <tr>\n",
       "      <th>180</th>\n",
       "      <td>수원시</td>\n",
       "      <td>제조업</td>\n",
       "      <td>산출액(당해년가격)</td>\n",
       "      <td>10471010</td>\n",
       "      <td>11644912</td>\n",
       "      <td>11626481</td>\n",
       "      <td>13617300</td>\n",
       "      <td>14044671</td>\n",
       "      <td>14941474</td>\n",
       "      <td>13080241</td>\n",
       "    </tr>\n",
       "    <tr>\n",
       "      <th>189</th>\n",
       "      <td>수원시</td>\n",
       "      <td>전기, 가스, 증기 및 수도사업</td>\n",
       "      <td>산출액(당해년가격)</td>\n",
       "      <td>1034822</td>\n",
       "      <td>992476</td>\n",
       "      <td>1124437</td>\n",
       "      <td>1452877</td>\n",
       "      <td>1370480</td>\n",
       "      <td>1536184</td>\n",
       "      <td>1064118</td>\n",
       "    </tr>\n",
       "  </tbody>\n",
       "</table>\n",
       "</div>"
      ],
      "text/plain": [
       "     지역별              경제활동별          항목      2016      2015      2014  \\\n",
       "153  수원시        총부가가치(기초가격)  산출액(당해년가격)  55277252  54230904  53241760   \n",
       "162  수원시               농림어업  산출액(당해년가격)      2087       677       697   \n",
       "171  수원시                 광업  산출액(당해년가격)         0         0         0   \n",
       "180  수원시                제조업  산출액(당해년가격)  10471010  11644912  11626481   \n",
       "189  수원시  전기, 가스, 증기 및 수도사업  산출액(당해년가격)   1034822    992476   1124437   \n",
       "\n",
       "         2013      2012      2011      2010  \n",
       "153  50793308  50509256  51822392  48069391  \n",
       "162      1292      1123      1115      2976  \n",
       "171         0         0         0         0  \n",
       "180  13617300  14044671  14941474  13080241  \n",
       "189   1452877   1370480   1536184   1064118  "
      ]
     },
     "execution_count": 778,
     "metadata": {},
     "output_type": "execute_result"
    }
   ],
   "source": [
    "GRDP_final_df.head()"
   ]
  },
  {
   "cell_type": "code",
   "execution_count": 779,
   "metadata": {},
   "outputs": [],
   "source": [
    "#eGyeonggi_final_df\n",
    "#floatingppl_19yr\n",
    "#GRDP_final_df"
   ]
  },
  {
   "cell_type": "markdown",
   "metadata": {},
   "source": [
    "# 산점도로 보기"
   ]
  },
  {
   "cell_type": "code",
   "execution_count": null,
   "metadata": {},
   "outputs": [],
   "source": []
  },
  {
   "cell_type": "code",
   "execution_count": 910,
   "metadata": {},
   "outputs": [],
   "source": []
  },
  {
   "cell_type": "code",
   "execution_count": null,
   "metadata": {},
   "outputs": [],
   "source": []
  },
  {
   "cell_type": "code",
   "execution_count": 915,
   "metadata": {},
   "outputs": [],
   "source": []
  },
  {
   "cell_type": "code",
   "execution_count": null,
   "metadata": {},
   "outputs": [],
   "source": []
  }
 ],
 "metadata": {
  "kernelspec": {
   "display_name": "Python [conda env:DL] *",
   "language": "python",
   "name": "conda-env-DL-py"
  },
  "language_info": {
   "codemirror_mode": {
    "name": "ipython",
    "version": 3
   },
   "file_extension": ".py",
   "mimetype": "text/x-python",
   "name": "python",
   "nbconvert_exporter": "python",
   "pygments_lexer": "ipython3",
   "version": "3.7.7"
  }
 },
 "nbformat": 4,
 "nbformat_minor": 4
}
