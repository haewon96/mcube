{
 "cells": [
  {
   "cell_type": "code",
   "execution_count": 1,
   "metadata": {},
   "outputs": [],
   "source": [
    "import numpy as np\n",
    "import pandas as pd\n",
    "import matplotlib\n",
    "import matplotlib.pyplot as plt\n"
   ]
  },
  {
   "cell_type": "code",
   "execution_count": 2,
   "metadata": {},
   "outputs": [
    {
     "data": {
      "text/plain": [
       "['AppleGothic']"
      ]
     },
     "execution_count": 2,
     "metadata": {},
     "output_type": "execute_result"
    }
   ],
   "source": [
    "matplotlib.rcParams['font.family'] = 'AppleGothic'\n",
    "matplotlib.rcParams['font.family']"
   ]
  },
  {
   "cell_type": "markdown",
   "metadata": {},
   "source": [
    "# 데이터 가져오기\n",
    "\n",
    "시트구성: 동별매출지수, 카테고리별 매출비중, 종합테이블\n",
    "\n",
    "매출지수 = 기준일 매출을 ‘100’이라고 할 때 특정 시점의 상대적 매출을 표시하는 지수. ‘100’이 넘으면 더 많이 팔렸다는 의미. (기준일: 2019.04.11, 서울 중구 신당5동)\n",
    "\n",
    "\n",
    "\n"
   ]
  },
  {
   "cell_type": "code",
   "execution_count": 3,
   "metadata": {},
   "outputs": [],
   "source": [
    "경로 = '../../data/bigcontest/04_유통데이터(GS리테일)/04_혁신아이디어분야_유통데이터(GS리테일)_데이터정의서 및 문제 데이터.xlsx'\n",
    "retail_data_total = pd.read_excel(경로\n",
    "                           ,sheet_name = '종합테이블(TB_DD_STR_PURCH_CLS)'\n",
    "                           ,header = 0)"
   ]
  },
  {
   "cell_type": "code",
   "execution_count": 4,
   "metadata": {},
   "outputs": [],
   "source": [
    "retail_data_total.OPER_DT = pd.to_datetime(retail_data_total.OPER_DT,format='%Y%m%d')\n",
    "retail_data_total['AMT_IND'] = retail_data_total['AMT_IND']*100\n",
    "retail_data_total['DL_Y'] = retail_data_total.OPER_DT.dt.year\n",
    "retail_data_total['DL_W'] = retail_data_total.OPER_DT.dt.weekofyear"
   ]
  },
  {
   "cell_type": "code",
   "execution_count": 5,
   "metadata": {
    "scrolled": false
   },
   "outputs": [
    {
     "data": {
      "text/html": [
       "<div>\n",
       "<style scoped>\n",
       "    .dataframe tbody tr th:only-of-type {\n",
       "        vertical-align: middle;\n",
       "    }\n",
       "\n",
       "    .dataframe tbody tr th {\n",
       "        vertical-align: top;\n",
       "    }\n",
       "\n",
       "    .dataframe thead th {\n",
       "        text-align: right;\n",
       "    }\n",
       "</style>\n",
       "<table border=\"1\" class=\"dataframe\">\n",
       "  <thead>\n",
       "    <tr style=\"text-align: right;\">\n",
       "      <th></th>\n",
       "      <th>OPER_DT</th>\n",
       "      <th>PVN</th>\n",
       "      <th>BOR</th>\n",
       "      <th>ADMD</th>\n",
       "      <th>AMT_IND</th>\n",
       "      <th>LCLS_10_P</th>\n",
       "      <th>LCLS_20_P</th>\n",
       "      <th>LCLS_30_P</th>\n",
       "      <th>LCLS_40_P</th>\n",
       "      <th>LCLS_50_P</th>\n",
       "      <th>LCLS_60_P</th>\n",
       "      <th>LCLS_70_P</th>\n",
       "      <th>LCLS_80_P</th>\n",
       "      <th>DL_Y</th>\n",
       "      <th>DL_W</th>\n",
       "    </tr>\n",
       "  </thead>\n",
       "  <tbody>\n",
       "    <tr>\n",
       "      <th>0</th>\n",
       "      <td>2019-02-01</td>\n",
       "      <td>대구광역시</td>\n",
       "      <td>수성구</td>\n",
       "      <td>고산1동</td>\n",
       "      <td>106.433557</td>\n",
       "      <td>0.450848</td>\n",
       "      <td>0.172221</td>\n",
       "      <td>0.295458</td>\n",
       "      <td>0.023263</td>\n",
       "      <td>0.044679</td>\n",
       "      <td>0.005075</td>\n",
       "      <td>0.004820</td>\n",
       "      <td>0.003637</td>\n",
       "      <td>2019</td>\n",
       "      <td>5</td>\n",
       "    </tr>\n",
       "    <tr>\n",
       "      <th>1</th>\n",
       "      <td>2019-02-01</td>\n",
       "      <td>대구광역시</td>\n",
       "      <td>수성구</td>\n",
       "      <td>고산2동</td>\n",
       "      <td>107.641799</td>\n",
       "      <td>0.457937</td>\n",
       "      <td>0.196274</td>\n",
       "      <td>0.295564</td>\n",
       "      <td>0.005521</td>\n",
       "      <td>0.034056</td>\n",
       "      <td>0.000844</td>\n",
       "      <td>0.008893</td>\n",
       "      <td>0.000913</td>\n",
       "      <td>2019</td>\n",
       "      <td>5</td>\n",
       "    </tr>\n",
       "    <tr>\n",
       "      <th>2</th>\n",
       "      <td>2019-02-01</td>\n",
       "      <td>대구광역시</td>\n",
       "      <td>수성구</td>\n",
       "      <td>고산3동</td>\n",
       "      <td>85.607140</td>\n",
       "      <td>0.359978</td>\n",
       "      <td>0.196602</td>\n",
       "      <td>0.376762</td>\n",
       "      <td>0.013408</td>\n",
       "      <td>0.029606</td>\n",
       "      <td>0.009117</td>\n",
       "      <td>0.008831</td>\n",
       "      <td>0.005697</td>\n",
       "      <td>2019</td>\n",
       "      <td>5</td>\n",
       "    </tr>\n",
       "    <tr>\n",
       "      <th>3</th>\n",
       "      <td>2019-02-01</td>\n",
       "      <td>대구광역시</td>\n",
       "      <td>수성구</td>\n",
       "      <td>두산동</td>\n",
       "      <td>72.486779</td>\n",
       "      <td>0.281969</td>\n",
       "      <td>0.175207</td>\n",
       "      <td>0.363202</td>\n",
       "      <td>0.024235</td>\n",
       "      <td>0.134191</td>\n",
       "      <td>0.000000</td>\n",
       "      <td>0.021196</td>\n",
       "      <td>0.000000</td>\n",
       "      <td>2019</td>\n",
       "      <td>5</td>\n",
       "    </tr>\n",
       "    <tr>\n",
       "      <th>4</th>\n",
       "      <td>2019-02-01</td>\n",
       "      <td>대구광역시</td>\n",
       "      <td>수성구</td>\n",
       "      <td>만촌1동</td>\n",
       "      <td>115.572808</td>\n",
       "      <td>0.400983</td>\n",
       "      <td>0.200454</td>\n",
       "      <td>0.310531</td>\n",
       "      <td>0.038868</td>\n",
       "      <td>0.035427</td>\n",
       "      <td>0.005284</td>\n",
       "      <td>0.005734</td>\n",
       "      <td>0.002719</td>\n",
       "      <td>2019</td>\n",
       "      <td>5</td>\n",
       "    </tr>\n",
       "  </tbody>\n",
       "</table>\n",
       "</div>"
      ],
      "text/plain": [
       "     OPER_DT    PVN  BOR  ADMD     AMT_IND  LCLS_10_P  LCLS_20_P  LCLS_30_P  \\\n",
       "0 2019-02-01  대구광역시  수성구  고산1동  106.433557   0.450848   0.172221   0.295458   \n",
       "1 2019-02-01  대구광역시  수성구  고산2동  107.641799   0.457937   0.196274   0.295564   \n",
       "2 2019-02-01  대구광역시  수성구  고산3동   85.607140   0.359978   0.196602   0.376762   \n",
       "3 2019-02-01  대구광역시  수성구   두산동   72.486779   0.281969   0.175207   0.363202   \n",
       "4 2019-02-01  대구광역시  수성구  만촌1동  115.572808   0.400983   0.200454   0.310531   \n",
       "\n",
       "   LCLS_40_P  LCLS_50_P  LCLS_60_P  LCLS_70_P  LCLS_80_P  DL_Y  DL_W  \n",
       "0   0.023263   0.044679   0.005075   0.004820   0.003637  2019     5  \n",
       "1   0.005521   0.034056   0.000844   0.008893   0.000913  2019     5  \n",
       "2   0.013408   0.029606   0.009117   0.008831   0.005697  2019     5  \n",
       "3   0.024235   0.134191   0.000000   0.021196   0.000000  2019     5  \n",
       "4   0.038868   0.035427   0.005284   0.005734   0.002719  2019     5  "
      ]
     },
     "execution_count": 5,
     "metadata": {},
     "output_type": "execute_result"
    }
   ],
   "source": [
    "retail_data_total.head()"
   ]
  },
  {
   "cell_type": "code",
   "execution_count": 6,
   "metadata": {
    "scrolled": true
   },
   "outputs": [
    {
     "data": {
      "text/plain": [
       "(7200, 7260)"
      ]
     },
     "execution_count": 6,
     "metadata": {},
     "output_type": "execute_result"
    }
   ],
   "source": [
    "#연도별로 나누기\n",
    "total_19 = retail_data_total[retail_data_total.OPER_DT.dt.year==2019]\n",
    "total_20 = retail_data_total[retail_data_total.OPER_DT.dt.year==2020]\n",
    "\n",
    "#길이가 다름, 2020년에는 2월 29일이 있어서\n",
    "len(total_19),len(total_20)"
   ]
  },
  {
   "cell_type": "markdown",
   "metadata": {},
   "source": [
    "### 시간에 따른 매출지수 변화 (구 별)\n",
    "\n",
    "- 19년도에 매출지수가 대체로 높은 것으로 보아 19년도에 20년도 보다 잘팔린 것을 알 수 있다\n",
    "- 19년에는 노원구와 중구간에 매출지수 차이가 컸지만 20년도에는 차이가 줄어들고 둘이 거의 비슷함 (대구도 비슷함), 유동인구가 줄은것과 관련이 있을 것으로 예상->사는 품목에 변화가 있는지 알아보면 좋을 듯\n",
    "- 대구의 경우 19년도 주말에 매출이 늘어나는 형태였지만 20년도에는 주말에 매출이 줄어드는 형태 \n",
    "\n",
    "- 코로나19 감염이 심각해짐에 따라 매출이 줄어들었다가 점차 완화되면서 매출이 증가하는 것을 보임\n",
    "\n",
    "- 갑자기 증가한 날짜는 화이트데이와 발렌타인데이\n"
   ]
  },
  {
   "cell_type": "code",
   "execution_count": 7,
   "metadata": {},
   "outputs": [],
   "source": [
    "#total_19[total_19.OPER_DT.dt.weekofyear == 5]"
   ]
  },
  {
   "cell_type": "code",
   "execution_count": 67,
   "metadata": {},
   "outputs": [
    {
     "data": {
      "image/png": "[encoded data removed]",
      "text/plain": [
       "<Figure size 432x288 with 1 Axes>"
      ]
     },
     "metadata": {
      "needs_background": "light"
     },
     "output_type": "display_data"
    },
    {
     "data": {
      "image/png": "[encoded data removed]",
      "text/plain": [
       "<Figure size 432x288 with 1 Axes>"
      ]
     },
     "metadata": {
      "needs_background": "light"
     },
     "output_type": "display_data"
    }
   ],
   "source": [
    "df_AMT_19 = total_19.groupby(['DL_W','PVN','BOR'])[['AMT_IND']].mean()\n",
    "df_AMT_20 = total_20.groupby(['DL_W','PVN','BOR'])[['AMT_IND']].mean()\n",
    "#df_AMT_19.unstack(0).transpose().plot()\n",
    "#df_AMT_20.transpose()\n",
    "\n",
    "df1 = pd.DataFrame(df_AMT_19.unstack(0).loc[('대구광역시', '수성구')])\\\n",
    "-pd.DataFrame(df_AMT_20.unstack(0).loc[('대구광역시', '수성구')])\n",
    "df2 = pd.DataFrame(df_AMT_19.unstack(0).loc[('대구광역시', '중구')])\\\n",
    "-pd.DataFrame(df_AMT_20.unstack(0).loc[('대구광역시', '중구')])\n",
    "df1.join(df2).plot(title = '대구 전년대비 매출지수 감소량', color = ['b','r'])\n",
    "\n",
    "df3 = pd.DataFrame(df_AMT_19.unstack(0).loc[('서울특별시', '노원구')])\\\n",
    "-pd.DataFrame(df_AMT_20.unstack(0).loc[('서울특별시', '노원구')])\n",
    "df4 = pd.DataFrame(df_AMT_19.unstack(0).loc[('서울특별시', '중구')])\\\n",
    "-pd.DataFrame(df_AMT_20.unstack(0).loc[('서울특별시', '중구')])\n",
    "df3.join(df4).plot.line(title = '서울 전년대비 매출지수 감소량', color = ['b','r'])\n",
    "plt.rc('axes', unicode_minus=False)\n",
    "\n",
    "\n"
   ]
  },
  {
   "cell_type": "code",
   "execution_count": null,
   "metadata": {},
   "outputs": [],
   "source": []
  },
  {
   "cell_type": "code",
   "execution_count": null,
   "metadata": {},
   "outputs": [],
   "source": []
  },
  {
   "cell_type": "code",
   "execution_count": null,
   "metadata": {},
   "outputs": [],
   "source": [
    "retail_data_total\n",
    "\n",
    "#일 별\n",
    "df_AMT_19 = total_19.groupby(['OPER_DT','PVN','BOR'])[['AMT_IND']].mean()\n",
    "df_AMT_20 = total_20.groupby(['OPER_DT','PVN','BOR'])[['AMT_IND']].mean()\n",
    "\n",
    "fig, axes = plt.subplots(2,1,figsize=(13,8))\n",
    "df_AMT_19.unstack(0).transpose().plot(ax = axes[0])\n",
    "df_AMT_20.unstack(0).transpose().plot(ax = axes[1])"
   ]
  },
  {
   "cell_type": "code",
   "execution_count": null,
   "metadata": {},
   "outputs": [],
   "source": [
    "#fig, axes = plt.subplots(1,2,figsize=(10,5))\n",
    "#df_AMT_19.unstack(0).transpose().apply(sum, axis = 0).plot(kind = 'bar',ax = axes[0])\n",
    "#df_AMT_20.unstack(0).transpose().apply(sum, axis = 0).plot(kind = 'bar',ax = axes[1])"
   ]
  },
  {
   "cell_type": "code",
   "execution_count": null,
   "metadata": {},
   "outputs": [],
   "source": [
    "AMT_19_mean = pd.DataFrame(df_AMT_19.unstack(0).transpose().apply(np.average, axis = 0))\n",
    "AMT_20_mean = pd.DataFrame(df_AMT_20.unstack(0).transpose().apply(np.average, axis = 0))"
   ]
  },
  {
   "cell_type": "code",
   "execution_count": null,
   "metadata": {},
   "outputs": [],
   "source": [
    "AMT_19_mean.columns = ['2019']\n",
    "AMT_20_mean.columns = ['2020']\n",
    "AMT_mean.index"
   ]
  },
  {
   "cell_type": "code",
   "execution_count": null,
   "metadata": {},
   "outputs": [],
   "source": [
    "AMT_mean = AMT_19_mean.join(AMT_20_mean)\n",
    "\n",
    "#fig, axes = plt.subplots(1,2,figsize=(13,8))\n",
    "AMT_mean.plot.bar()\n",
    "plt.title('평균매출지수')\n",
    "plt.xticks(rotation = 20)\n",
    "#plt.savefig('image')\n",
    "#(kind = 'bar', title = '평균매출지수')\n"
   ]
  },
  {
   "cell_type": "code",
   "execution_count": null,
   "metadata": {},
   "outputs": [],
   "source": []
  },
  {
   "cell_type": "code",
   "execution_count": null,
   "metadata": {},
   "outputs": [],
   "source": [
    "# 윤월을 고려해서 29일을 뺀 버전\n",
    "df_AMT_20"
   ]
  },
  {
   "cell_type": "code",
   "execution_count": null,
   "metadata": {},
   "outputs": [],
   "source": [
    "# 갑자기 튀어나온 날 날짜\n",
    "# 3/14일, 2/14일 화이트데이, 발렌타인 데이->간식거리가 매출 증가했는지 확인\n",
    "# 전년도에 비해 3/14일 판매강세 줄어들음\n",
    "df_AMT_19.unstack(0).transpose().idxmax(),\\ \n",
    "df_AMT_20.unstack(0).transpose().idxmax()"
   ]
  },
  {
   "cell_type": "code",
   "execution_count": null,
   "metadata": {
    "scrolled": false
   },
   "outputs": [],
   "source": [
    "#간식거리의 매출비중(LCLS_20_P)이 평소보다 늘은 것을 알 수 있다.\n",
    "df_19_valentine = pd.DataFrame(total_19[total_19.OPER_DT == '2019-02-14'].mean(), columns = ['2019'])\n",
    "df_20_valentine = pd.DataFrame(total_20[total_20.OPER_DT == '2020-02-14'].mean(), columns = ['2020'])\n",
    "pd.concat([total_19.mean(), df_19_valentine, df_20_valentine], axis = 1)"
   ]
  },
  {
   "cell_type": "markdown",
   "metadata": {},
   "source": [
    "### 시간에 따른 매출비중 변화 (업종 별)\n",
    "- 작년과 추이를 비교해보면 헬스&뷰티(50), 사회활동(70), 임신/육아(80)의 매출이 다르다\n",
    "- 헬스&뷰티(50)의 경우 2020년 줄어들음, 초반에만 많은데 마스크로 볼 수 있다\n",
    "- 사회활동(70)의 경우 2020년 가장 많이 줄어들음.\n",
    "- 임신/육아(80)의 경우 서울의 변동폭이 커졌다."
   ]
  },
  {
   "cell_type": "code",
   "execution_count": null,
   "metadata": {
    "scrolled": true
   },
   "outputs": [],
   "source": [
    "#2019\n",
    "df_10_19 = total_19.groupby(['OPER_DT','PVN','BOR'])[['LCLS_10_P']].mean()\n",
    "df_20_19 = total_19.groupby(['OPER_DT','PVN','BOR'])[['LCLS_20_P']].mean()\n",
    "df_30_19 = total_19.groupby(['OPER_DT','PVN','BOR'])[['LCLS_30_P']].mean()\n",
    "df_40_19 = total_19.groupby(['OPER_DT','PVN','BOR'])[['LCLS_40_P']].mean()\n",
    "df_50_19 = total_19.groupby(['OPER_DT','PVN','BOR'])[['LCLS_50_P']].mean()\n",
    "df_60_19 = total_19.groupby(['OPER_DT','PVN','BOR'])[['LCLS_60_P']].mean()\n",
    "df_70_19 = total_19.groupby(['OPER_DT','PVN','BOR'])[['LCLS_70_P']].mean()\n",
    "df_80_19 = total_19.groupby(['OPER_DT','PVN','BOR'])[['LCLS_80_P']].mean()\n",
    "\n",
    "fig, axes = plt.subplots(8,2,figsize=(13,15))\n",
    "df_10_19.unstack(0).transpose().plot(ax = axes[0,0], legend = False, title = '2019')\n",
    "df_20_19.unstack(0).transpose().plot(ax = axes[1,0], legend = False)\n",
    "df_30_19.unstack(0).transpose().plot(ax = axes[2,0], legend = False)\n",
    "df_40_19.unstack(0).transpose().plot(ax = axes[3,0], legend = False)\n",
    "df_50_19.unstack(0).transpose().plot(ax = axes[4,0], legend = False)\n",
    "df_60_19.unstack(0).transpose().plot(ax = axes[5,0], legend = False)\n",
    "df_70_19.unstack(0).transpose().plot(ax = axes[6,0], legend = False)\n",
    "df_80_19.unstack(0).transpose().plot(ax = axes[7,0], legend = False)\n",
    "\n",
    "#2020\n",
    "df_10_20 = total_20.groupby(['OPER_DT','PVN','BOR'])[['LCLS_10_P']].mean()\n",
    "df_20_20 = total_20.groupby(['OPER_DT','PVN','BOR'])[['LCLS_20_P']].mean()\n",
    "df_30_20 = total_20.groupby(['OPER_DT','PVN','BOR'])[['LCLS_30_P']].mean()\n",
    "df_40_20 = total_20.groupby(['OPER_DT','PVN','BOR'])[['LCLS_40_P']].mean()\n",
    "df_50_20 = total_20.groupby(['OPER_DT','PVN','BOR'])[['LCLS_50_P']].mean()\n",
    "df_60_20 = total_20.groupby(['OPER_DT','PVN','BOR'])[['LCLS_60_P']].mean()\n",
    "df_70_20 = total_20.groupby(['OPER_DT','PVN','BOR'])[['LCLS_70_P']].mean()\n",
    "df_80_20 = total_20.groupby(['OPER_DT','PVN','BOR'])[['LCLS_80_P']].mean()\n",
    "\n",
    "df_10_19.unstack(0).transpose().plot(ax = axes[0,1], legend = False, title = '2020')\n",
    "df_20_20.unstack(0).transpose().plot(ax = axes[1,1], legend = False)\n",
    "df_30_20.unstack(0).transpose().plot(ax = axes[2,1], legend = False)\n",
    "df_40_20.unstack(0).transpose().plot(ax = axes[3,1], legend = False)\n",
    "df_50_20.unstack(0).transpose().plot(ax = axes[4,1], legend = False)\n",
    "df_60_20.unstack(0).transpose().plot(ax = axes[5,1], legend = False)\n",
    "df_70_20.unstack(0).transpose().plot(ax = axes[6,1], legend = False)\n",
    "df_80_20.unstack(0).transpose().plot(ax = axes[7,1], legend = False)"
   ]
  },
  {
   "cell_type": "code",
   "execution_count": null,
   "metadata": {},
   "outputs": [],
   "source": [
    "df_60_20.idxmax()\n",
    "df_70_20.idxmax()"
   ]
  },
  {
   "cell_type": "markdown",
   "metadata": {},
   "source": [
    "### 100이상의 경우 업종 분포"
   ]
  },
  {
   "cell_type": "code",
   "execution_count": null,
   "metadata": {
    "scrolled": true
   },
   "outputs": [],
   "source": [
    "col_list = retail_data_total.columns\n",
    "col_list"
   ]
  },
  {
   "cell_type": "code",
   "execution_count": null,
   "metadata": {},
   "outputs": [],
   "source": [
    "#2019 매출 좋은 곳\n",
    "total_19_up100 = total_19[total_19.AMT_IND>=100]\n",
    "df = total_19_up100.groupby(['PVN','BOR','ADMD'])[col_list[5:]].mean()\n",
    "fig, axes = plt.subplots(1,2,figsize=(12,8))\n",
    "\n",
    "df.loc['서울특별시'].plot(kind = 'barh',stacked = True, ax = axes[0], title = '서울')\n",
    "df.loc['대구광역시'].plot(kind = 'barh',stacked = True, ax = axes[1], title = '대구')"
   ]
  },
  {
   "cell_type": "code",
   "execution_count": null,
   "metadata": {},
   "outputs": [],
   "source": [
    "#2019 매출 안좋은 곳\n",
    "total_19_down100 = total_19[total_19.AMT_IND<100]\n",
    "df = total_19_down100.groupby(['PVN','BOR','ADMD'])[col_list[5:]].mean()\n",
    "fig, axes = plt.subplots(1,2,figsize=(12,8))\n",
    "df.loc['서울특별시'].plot(kind = 'barh',stacked = True, ax = axes[0], title = '서울')\n",
    "df.loc['대구광역시'].plot(kind = 'barh',stacked = True, ax = axes[1], title = '대구')"
   ]
  },
  {
   "cell_type": "code",
   "execution_count": null,
   "metadata": {},
   "outputs": [],
   "source": [
    "#2020 매출 좋은 곳\n",
    "total_20_up100 = total_20[total_20.AMT_IND>=100]\n",
    "df = total_20_up100.groupby(['PVN','BOR','ADMD'])[col_list[5:]].mean()\n",
    "fig, axes = plt.subplots(1,2,figsize=(12,8))\n",
    "\n",
    "df.loc['서울특별시'].plot(kind = 'barh',stacked = True, ax = axes[0], title = '서울')\n",
    "df.loc['대구광역시'].plot(kind = 'barh',stacked = True, ax = axes[1], title = '대구')"
   ]
  },
  {
   "cell_type": "code",
   "execution_count": null,
   "metadata": {
    "scrolled": false
   },
   "outputs": [],
   "source": [
    "#2020 매출 안좋은 곳\n",
    "total_20_down100 = total_20[total_20.AMT_IND<100]\n",
    "df = total_20_down100.groupby(['PVN','BOR','ADMD'])[col_list[5:]].mean()\n",
    "fig, axes = plt.subplots(1,2,figsize=(12,8))\n",
    "\n",
    "df.loc['서울특별시'].plot(kind = 'barh',stacked = True, ax = axes[0], title = '서울')\n",
    "df.loc['대구광역시'].plot(kind = 'barh',stacked = True, ax = axes[1], title = '대구')"
   ]
  },
  {
   "cell_type": "code",
   "execution_count": null,
   "metadata": {},
   "outputs": [],
   "source": [
    "print('높은 매출 유지동:',len(set(total_20_up100.ADMD).intersection(set(total_19_up100.ADMD)))\n",
    "     ,'높은 매출로 오른동:', len(set(total_20_up100.ADMD).difference(set(total_19_up100.ADMD))))\n",
    "print('낮은 매출 유지동:',len(set(total_20_down100.ADMD).intersection(set(total_19_down100.ADMD)))\n",
    "     ,'낮은 매출로 내린동:', len(set(total_20_down100.ADMD).difference(set(total_19_down100.ADMD))))"
   ]
  },
  {
   "cell_type": "code",
   "execution_count": null,
   "metadata": {},
   "outputs": [],
   "source": []
  }
 ],
 "metadata": {
  "kernelspec": {
   "display_name": "Python [conda env:DL] *",
   "language": "python",
   "name": "conda-env-DL-py"
  },
  "language_info": {
   "codemirror_mode": {
    "name": "ipython",
    "version": 3
   },
   "file_extension": ".py",
   "mimetype": "text/x-python",
   "name": "python",
   "nbconvert_exporter": "python",
   "pygments_lexer": "ipython3",
   "version": "3.7.7"
  }
 },
 "nbformat": 4,
 "nbformat_minor": 4
}
