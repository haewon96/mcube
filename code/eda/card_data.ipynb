{
 "cells": [
  {
   "cell_type": "code",
   "execution_count": 119,
   "metadata": {},
   "outputs": [],
   "source": [
    "import dateutil.relativedelta as relativedelta\n",
    "import dateutil.rrule as rrule\n",
    "import datetime\n",
    "\n",
    "import numpy as np\n",
    "import pandas as pd\n",
    "\n",
    "import matplotlib.pyplot as plt\n",
    "import seaborn as sns\n",
    "import plotly.express as px"
   ]
  },
  {
   "cell_type": "code",
   "execution_count": 2,
   "metadata": {},
   "outputs": [],
   "source": [
    "rs_card_data = pd.read_csv('../../data/bigcontest/02_카드매출데이터(신한카드)/CARD_SPENDING_RESIDENT/CARD_SPENDING_RESIDENT.txt', sep='\\t')\n",
    "fr_card_data = pd.read_csv('../../data/bigcontest/02_카드매출데이터(신한카드)/CARD_SPENDING_FOREIGNER/CARD_SPENDING_FOREIGNER.txt', sep='\\t', engine='python')"
   ]
  },
  {
   "cell_type": "code",
   "execution_count": 3,
   "metadata": {},
   "outputs": [
    {
     "data": {
      "text/plain": [
       "(2537753, 8)"
      ]
     },
     "execution_count": 3,
     "metadata": {},
     "output_type": "execute_result"
    }
   ],
   "source": [
    "rs_card_data.shape"
   ]
  },
  {
   "cell_type": "code",
   "execution_count": 4,
   "metadata": {},
   "outputs": [
    {
     "data": {
      "text/plain": [
       "(238829, 7)"
      ]
     },
     "execution_count": 4,
     "metadata": {},
     "output_type": "execute_result"
    }
   ],
   "source": [
    "fr_card_data.shape"
   ]
  },
  {
   "cell_type": "code",
   "execution_count": 5,
   "metadata": {},
   "outputs": [
    {
     "data": {
      "text/plain": [
       "10.625815960373322"
      ]
     },
     "execution_count": 5,
     "metadata": {},
     "output_type": "execute_result"
    }
   ],
   "source": [
    "2537753/238829"
   ]
  },
  {
   "cell_type": "code",
   "execution_count": 6,
   "metadata": {},
   "outputs": [
    {
     "data": {
      "text/html": [
       "<div>\n",
       "<style scoped>\n",
       "    .dataframe tbody tr th:only-of-type {\n",
       "        vertical-align: middle;\n",
       "    }\n",
       "\n",
       "    .dataframe tbody tr th {\n",
       "        vertical-align: top;\n",
       "    }\n",
       "\n",
       "    .dataframe thead th {\n",
       "        text-align: right;\n",
       "    }\n",
       "</style>\n",
       "<table border=\"1\" class=\"dataframe\">\n",
       "  <thead>\n",
       "    <tr style=\"text-align: right;\">\n",
       "      <th></th>\n",
       "      <th>STD_DD</th>\n",
       "      <th>GU_CD</th>\n",
       "      <th>DONG_CD</th>\n",
       "      <th>MCT_CAT_CD</th>\n",
       "      <th>SEX_CD</th>\n",
       "      <th>AGE_CD</th>\n",
       "      <th>USE_CNT</th>\n",
       "      <th>USE_AMT</th>\n",
       "    </tr>\n",
       "  </thead>\n",
       "  <tbody>\n",
       "    <tr>\n",
       "      <th>0</th>\n",
       "      <td>20190201</td>\n",
       "      <td>110</td>\n",
       "      <td>517</td>\n",
       "      <td>10</td>\n",
       "      <td>F</td>\n",
       "      <td>25</td>\n",
       "      <td>11</td>\n",
       "      <td>595</td>\n",
       "    </tr>\n",
       "    <tr>\n",
       "      <th>1</th>\n",
       "      <td>20190201</td>\n",
       "      <td>110</td>\n",
       "      <td>517</td>\n",
       "      <td>10</td>\n",
       "      <td>F</td>\n",
       "      <td>50</td>\n",
       "      <td>5</td>\n",
       "      <td>243</td>\n",
       "    </tr>\n",
       "    <tr>\n",
       "      <th>2</th>\n",
       "      <td>20190201</td>\n",
       "      <td>110</td>\n",
       "      <td>517</td>\n",
       "      <td>10</td>\n",
       "      <td>F</td>\n",
       "      <td>55</td>\n",
       "      <td>5</td>\n",
       "      <td>27</td>\n",
       "    </tr>\n",
       "    <tr>\n",
       "      <th>3</th>\n",
       "      <td>20190201</td>\n",
       "      <td>110</td>\n",
       "      <td>517</td>\n",
       "      <td>10</td>\n",
       "      <td>M</td>\n",
       "      <td>20</td>\n",
       "      <td>11</td>\n",
       "      <td>243</td>\n",
       "    </tr>\n",
       "    <tr>\n",
       "      <th>4</th>\n",
       "      <td>20190201</td>\n",
       "      <td>110</td>\n",
       "      <td>517</td>\n",
       "      <td>10</td>\n",
       "      <td>M</td>\n",
       "      <td>25</td>\n",
       "      <td>11</td>\n",
       "      <td>433</td>\n",
       "    </tr>\n",
       "  </tbody>\n",
       "</table>\n",
       "</div>"
      ],
      "text/plain": [
       "     STD_DD  GU_CD  DONG_CD  MCT_CAT_CD SEX_CD  AGE_CD  USE_CNT  USE_AMT\n",
       "0  20190201    110      517          10      F      25       11      595\n",
       "1  20190201    110      517          10      F      50        5      243\n",
       "2  20190201    110      517          10      F      55        5       27\n",
       "3  20190201    110      517          10      M      20       11      243\n",
       "4  20190201    110      517          10      M      25       11      433"
      ]
     },
     "execution_count": 6,
     "metadata": {},
     "output_type": "execute_result"
    }
   ],
   "source": [
    "rs_card_data.head()"
   ]
  },
  {
   "cell_type": "code",
   "execution_count": 197,
   "metadata": {},
   "outputs": [],
   "source": [
    "rs_card_data.STD_DD = pd.to_datetime(rs_card_data.STD_DD,format='%Y%m%d')\n",
    "\n",
    "rs_card_data.SEX_CD = rs_card_data.SEX_CD.astype('category')"
   ]
  },
  {
   "cell_type": "code",
   "execution_count": 198,
   "metadata": {},
   "outputs": [],
   "source": [
    "data19 = rs_card_data[rs_card_data.STD_DD.dt.year==2019]\n",
    "data20 = rs_card_data[rs_card_data.STD_DD.dt.year==2020]"
   ]
  },
  {
   "cell_type": "code",
   "execution_count": 199,
   "metadata": {},
   "outputs": [],
   "source": [
    "rs_card_data['year'] = rs_card_data.STD_DD.dt.year\n",
    "rs_card_data['month'] = rs_card_data.STD_DD.dt.month\n",
    "rs_card_data['day'] = rs_card_data.STD_DD.dt.day\n",
    "rs_card_data['week'] = rs_card_data.STD_DD.dt.weekofyear "
   ]
  },
  {
   "cell_type": "code",
   "execution_count": 200,
   "metadata": {},
   "outputs": [],
   "source": [
    "table = rs_card_data.pivot_table(values=['USE_CNT', 'USE_AMT'],\n",
    "                         columns='year',   index=['week', 'MCT_CAT_CD'],\n",
    "                         aggfunc='sum')"
   ]
  },
  {
   "cell_type": "code",
   "execution_count": 201,
   "metadata": {},
   "outputs": [
    {
     "data": {
      "text/plain": [
       "MultiIndex([('USE_AMT', 2019),\n",
       "            ('USE_AMT', 2020),\n",
       "            ('USE_CNT', 2019),\n",
       "            ('USE_CNT', 2020)],\n",
       "           names=[None, 'year'])"
      ]
     },
     "execution_count": 201,
     "metadata": {},
     "output_type": "execute_result"
    }
   ],
   "source": [
    "table.columns\n",
    "\n",
    "# 20년도 - 19년도 : 즉 증감수치"
   ]
  },
  {
   "cell_type": "code",
   "execution_count": 202,
   "metadata": {},
   "outputs": [],
   "source": [
    "# 전체 이용금액 차이\n",
    "total_diff = (table.iloc[:,1] - table.iloc[:,0])"
   ]
  },
  {
   "cell_type": "code",
   "execution_count": 203,
   "metadata": {},
   "outputs": [],
   "source": [
    "# 건당 이용금액 차이\n",
    "cnt_diff = (table.iloc[:,1] / table.iloc[:,3] - table.iloc[:,0] / table.iloc[:,2])"
   ]
  },
  {
   "cell_type": "code",
   "execution_count": 236,
   "metadata": {},
   "outputs": [],
   "source": [
    "# x tics\n",
    "\n",
    "year =2020\n",
    "before =datetime.datetime(year,1,1)\n",
    "after =datetime.datetime(year,12,31)\n",
    "rr = rrule.rrule(rrule.WEEKLY,byweekday=relativedelta.SU,dtstart=before)\n",
    "\n",
    "test = pd.DataFrame(rr.between(before,after,inc=True))  + datetime.timedelta(days=-13) # 월요일 기준\n",
    "\n",
    "test2 = list(map(lambda x : str(pd.to_datetime(x[0]).month)+'/'+ str(pd.to_datetime(x[0]).day)\n",
    "         , list(test.values)))"
   ]
  },
  {
   "cell_type": "code",
   "execution_count": 237,
   "metadata": {},
   "outputs": [
    {
     "data": {
      "image/png": "[encoded data removed]",
      "text/plain": [
       "<Figure size 2160x720 with 1 Axes>"
      ]
     },
     "metadata": {},
     "output_type": "display_data"
    }
   ],
   "source": [
    "plt.figure(figsize=(30, 10))\n",
    "sns.lineplot(data=total_diff.unstack('MCT_CAT_CD'), dashes=False)\n",
    "plt.legend(bbox_to_anchor=(1.05, 1.0), loc='upper left')\n",
    "plt.xticks(ticks=(np.arange(0, len(test2))), labels=test2)\n",
    "plt.show()"
   ]
  },
  {
   "cell_type": "code",
   "execution_count": 238,
   "metadata": {},
   "outputs": [
    {
     "data": {
      "image/png": "[encoded data removed]",
      "text/plain": [
       "<Figure size 2160x720 with 1 Axes>"
      ]
     },
     "metadata": {},
     "output_type": "display_data"
    }
   ],
   "source": [
    "plt.figure(figsize=(30, 10))\n",
    "sns.lineplot(data=cnt_diff.unstack('MCT_CAT_CD'), dashes=False)\n",
    "plt.legend(bbox_to_anchor=(1.05, 1.0), loc='upper left')\n",
    "plt.xticks(ticks=(np.arange(0, len(test2))), labels=test2)\n",
    "plt.show()"
   ]
  },
  {
   "cell_type": "code",
   "execution_count": 239,
   "metadata": {},
   "outputs": [],
   "source": [
    "total_diff2 = total_diff.reset_index()\n",
    "cnt_diff2 = cnt_diff.reset_index()"
   ]
  },
  {
   "cell_type": "code",
   "execution_count": 240,
   "metadata": {},
   "outputs": [],
   "source": [
    "total_diff2.columns = ['week', 'MCT_CAT_CD', 'diff']"
   ]
  },
  {
   "cell_type": "code",
   "execution_count": 241,
   "metadata": {},
   "outputs": [],
   "source": [
    "cnt_diff2.columns = ['week', 'MCT_CAT_CD', 'diff']"
   ]
  },
  {
   "cell_type": "code",
   "execution_count": 242,
   "metadata": {
    "scrolled": true
   },
   "outputs": [
    {
     "data": {
      "application/vnd.plotly.v1+json": {
       "config": {
        "plotlyServerURL": "https://plot.ly"
       },
       "data": [
        {
         "hovertemplate": "MCT_CAT_CD=10<br>week=%{x}<br>diff=%{y}<extra></extra>",
         "legendgroup": "10",
         "line": {
          "color": "#636efa",
          "dash": "solid"
         },
         "mode": "lines",
         "name": "10",
         "orientation": "v",
         "showlegend": true,
         "type": "scatter",
         "x": [
          5,
          6,
          7,
          8,
          9,
          10,
          11,
          12,
          13,
          14,
          15,
          16,
          17,
          18,
          19,
          20,
          21,
          22
         ],
         "xaxis": "x",
         "y": [
          -128516,
          -382808,
          -562557,
          -1435142,
          -2173390,
          -1667320,
          -1222206,
          -1019474,
          -2059199,
          -1757075,
          -1507284,
          -1434409,
          -2262574,
          -658825,
          -1082431,
          -901282,
          -2184104,
          -339949
         ],
         "yaxis": "y"
        },
        {
         "hovertemplate": "MCT_CAT_CD=20<br>week=%{x}<br>diff=%{y}<extra></extra>",
         "legendgroup": "20",
         "line": {
          "color": "#EF553B",
          "dash": "solid"
         },
         "mode": "lines",
         "name": "20",
         "orientation": "v",
         "showlegend": true,
         "type": "scatter",
         "x": [
          5,
          6,
          7,
          8,
          9,
          10,
          11,
          12,
          13,
          14,
          15,
          16,
          17,
          18,
          19,
          20,
          21,
          22
         ],
         "xaxis": "x",
         "y": [
          -1440282,
          -2465272,
          -402523,
          -2243492,
          -5370913,
          -2914368,
          -2169969,
          -1743699,
          -1641864,
          -1429209,
          -1476488,
          -1411388,
          -1897487,
          -1290939,
          -840965,
          1457674,
          1604504,
          3932281
         ],
         "yaxis": "y"
        },
        {
         "hovertemplate": "MCT_CAT_CD=21<br>week=%{x}<br>diff=%{y}<extra></extra>",
         "legendgroup": "21",
         "line": {
          "color": "#00cc96",
          "dash": "solid"
         },
         "mode": "lines",
         "name": "21",
         "orientation": "v",
         "showlegend": true,
         "type": "scatter",
         "x": [
          5,
          6,
          7,
          8,
          9,
          10,
          11,
          12,
          13,
          14,
          15,
          16,
          17,
          18,
          19,
          20,
          21,
          22
         ],
         "xaxis": "x",
         "y": [
          -444323,
          524724,
          -117169,
          -707834,
          -1857542,
          -1793297,
          -1364792,
          -1202537,
          -2018447,
          -2068745,
          -1266039,
          -1381503,
          -854330,
          -1023151,
          -24441,
          -75207,
          -285348,
          767917
         ],
         "yaxis": "y"
        },
        {
         "hovertemplate": "MCT_CAT_CD=22<br>week=%{x}<br>diff=%{y}<extra></extra>",
         "legendgroup": "22",
         "line": {
          "color": "#ab63fa",
          "dash": "solid"
         },
         "mode": "lines",
         "name": "22",
         "orientation": "v",
         "showlegend": true,
         "type": "scatter",
         "x": [
          5,
          6,
          7,
          8,
          9,
          10,
          11,
          12,
          13,
          14,
          15,
          16,
          17,
          18,
          19,
          20,
          21,
          22
         ],
         "xaxis": "x",
         "y": [
          -476547,
          -469111,
          -379300,
          -587143,
          -965054,
          -783278,
          -670713,
          -463407,
          -563584,
          -369792,
          -381400,
          -438002,
          -805299,
          -721311,
          -219859,
          -272296,
          -350606,
          -28673
         ],
         "yaxis": "y"
        },
        {
         "hovertemplate": "MCT_CAT_CD=30<br>week=%{x}<br>diff=%{y}<extra></extra>",
         "legendgroup": "30",
         "line": {
          "color": "#FFA15A",
          "dash": "solid"
         },
         "mode": "lines",
         "name": "30",
         "orientation": "v",
         "showlegend": true,
         "type": "scatter",
         "x": [
          5,
          6,
          7,
          8,
          9,
          10,
          11,
          12,
          13,
          14,
          15,
          16,
          17,
          18,
          19,
          20,
          21,
          22
         ],
         "xaxis": "x",
         "y": [
          111187,
          127433,
          115650,
          -117208,
          -220387,
          -23848,
          -169716,
          -212750,
          -39756,
          145405,
          -151986,
          134656,
          229043,
          99781,
          -14793,
          385670,
          300760,
          510086
         ],
         "yaxis": "y"
        },
        {
         "hovertemplate": "MCT_CAT_CD=31<br>week=%{x}<br>diff=%{y}<extra></extra>",
         "legendgroup": "31",
         "line": {
          "color": "#19d3f3",
          "dash": "solid"
         },
         "mode": "lines",
         "name": "31",
         "orientation": "v",
         "showlegend": true,
         "type": "scatter",
         "x": [
          5,
          6,
          7,
          8,
          9,
          10,
          11,
          12,
          13,
          14,
          15,
          16,
          17,
          18,
          19,
          20,
          21,
          22
         ],
         "xaxis": "x",
         "y": [
          -19224,
          21241,
          -39265,
          -9002,
          9573,
          21216,
          19171,
          -38150,
          2217,
          12863,
          86,
          -976,
          15097,
          13999,
          -12700,
          26704,
          -8132,
          24179
         ],
         "yaxis": "y"
        },
        {
         "hovertemplate": "MCT_CAT_CD=32<br>week=%{x}<br>diff=%{y}<extra></extra>",
         "legendgroup": "32",
         "line": {
          "color": "#FF6692",
          "dash": "solid"
         },
         "mode": "lines",
         "name": "32",
         "orientation": "v",
         "showlegend": true,
         "type": "scatter",
         "x": [
          5,
          6,
          7,
          8,
          9,
          10,
          11,
          12,
          13,
          14,
          15,
          16,
          17,
          18,
          19,
          20,
          21,
          22
         ],
         "xaxis": "x",
         "y": [
          -82592,
          136705,
          -18909,
          -185537,
          -234622,
          -209262,
          -169996,
          -115208,
          -172620,
          -122945,
          -109290,
          -62332,
          -43498,
          -195034,
          -42316,
          -61254,
          184935,
          405676
         ],
         "yaxis": "y"
        },
        {
         "hovertemplate": "MCT_CAT_CD=33<br>week=%{x}<br>diff=%{y}<extra></extra>",
         "legendgroup": "33",
         "line": {
          "color": "#B6E880",
          "dash": "solid"
         },
         "mode": "lines",
         "name": "33",
         "orientation": "v",
         "showlegend": true,
         "type": "scatter",
         "x": [
          5,
          6,
          7,
          8,
          9,
          10,
          11,
          12,
          13,
          14,
          15,
          16,
          17,
          18,
          19,
          20,
          21,
          22
         ],
         "xaxis": "x",
         "y": [
          -1779392,
          -103549,
          -1127708,
          -1988438,
          -2995884,
          -2313138,
          -2586839,
          -2337167,
          -2334798,
          -2154457,
          -2440562,
          -2913877,
          -2102367,
          -2939046,
          -2777717,
          -2066211,
          -2454543,
          103849
         ],
         "yaxis": "y"
        },
        {
         "hovertemplate": "MCT_CAT_CD=34<br>week=%{x}<br>diff=%{y}<extra></extra>",
         "legendgroup": "34",
         "line": {
          "color": "#FF97FF",
          "dash": "solid"
         },
         "mode": "lines",
         "name": "34",
         "orientation": "v",
         "showlegend": true,
         "type": "scatter",
         "x": [
          5,
          6,
          7,
          8,
          9,
          10,
          11,
          12,
          13,
          14,
          15,
          16,
          17,
          18,
          19,
          20,
          21,
          22
         ],
         "xaxis": "x",
         "y": [
          3124,
          -70075,
          -86882,
          -242080,
          -357230,
          -262563,
          -229683,
          -143321,
          -409670,
          60926,
          -60672,
          55812,
          -210523,
          -241818,
          7783,
          1040,
          -232816,
          19121
         ],
         "yaxis": "y"
        },
        {
         "hovertemplate": "MCT_CAT_CD=35<br>week=%{x}<br>diff=%{y}<extra></extra>",
         "legendgroup": "35",
         "line": {
          "color": "#FECB52",
          "dash": "solid"
         },
         "mode": "lines",
         "name": "35",
         "orientation": "v",
         "showlegend": true,
         "type": "scatter",
         "x": [
          5,
          6,
          7,
          8,
          9,
          10,
          11,
          12,
          13,
          14,
          15,
          16,
          17,
          18,
          19,
          20,
          21,
          22
         ],
         "xaxis": "x",
         "y": [
          -288983,
          -226911,
          -437793,
          -649619,
          -904214,
          -1035874,
          -1002132,
          -834455,
          -479333,
          -438678,
          -846093,
          -841457,
          -639129,
          -234612,
          -306650,
          -44830,
          22582,
          178050
         ],
         "yaxis": "y"
        },
        {
         "hovertemplate": "MCT_CAT_CD=40<br>week=%{x}<br>diff=%{y}<extra></extra>",
         "legendgroup": "40",
         "line": {
          "color": "#636efa",
          "dash": "solid"
         },
         "mode": "lines",
         "name": "40",
         "orientation": "v",
         "showlegend": true,
         "type": "scatter",
         "x": [
          5,
          6,
          7,
          8,
          9,
          10,
          11,
          12,
          13,
          14,
          15,
          16,
          17,
          18,
          19,
          20,
          21,
          22
         ],
         "xaxis": "x",
         "y": [
          -18802479,
          -9468995,
          -3592701,
          -7143528,
          -19771262,
          -20287592,
          -17664072,
          -14553791,
          -13204202,
          -15218102,
          -10446053,
          -11515797,
          -10349715,
          -6136349,
          -3450724,
          -3268825,
          -305007,
          26672990
         ],
         "yaxis": "y"
        },
        {
         "hovertemplate": "MCT_CAT_CD=42<br>week=%{x}<br>diff=%{y}<extra></extra>",
         "legendgroup": "42",
         "line": {
          "color": "#EF553B",
          "dash": "solid"
         },
         "mode": "lines",
         "name": "42",
         "orientation": "v",
         "showlegend": true,
         "type": "scatter",
         "x": [
          5,
          6,
          7,
          8,
          9,
          10,
          11,
          12,
          13,
          14,
          15,
          16,
          17,
          18,
          19,
          20,
          21,
          22
         ],
         "xaxis": "x",
         "y": [
          -1662177,
          -1723193,
          -1578132,
          -3310919,
          -5771283,
          -4516691,
          -4077216,
          -3598283,
          -3310620,
          -3224928,
          -3399392,
          -3365384,
          -3013294,
          -3142697,
          -2626768,
          -1243313,
          63602,
          2089680
         ],
         "yaxis": "y"
        },
        {
         "hovertemplate": "MCT_CAT_CD=43<br>week=%{x}<br>diff=%{y}<extra></extra>",
         "legendgroup": "43",
         "line": {
          "color": "#00cc96",
          "dash": "solid"
         },
         "mode": "lines",
         "name": "43",
         "orientation": "v",
         "showlegend": true,
         "type": "scatter",
         "x": [
          5,
          6,
          7,
          8,
          9,
          10,
          11,
          12,
          13,
          14,
          15,
          16,
          17,
          18,
          19,
          20,
          21,
          22
         ],
         "xaxis": "x",
         "y": [
          -83773,
          182739,
          -128302,
          -150039,
          -79929,
          -329436,
          -98256,
          -196076,
          -325945,
          -78078,
          -321091,
          -48554,
          -73511,
          -208371,
          -69253,
          290496,
          374300,
          392370
         ],
         "yaxis": "y"
        },
        {
         "hovertemplate": "MCT_CAT_CD=44<br>week=%{x}<br>diff=%{y}<extra></extra>",
         "legendgroup": "44",
         "line": {
          "color": "#ab63fa",
          "dash": "solid"
         },
         "mode": "lines",
         "name": "44",
         "orientation": "v",
         "showlegend": true,
         "type": "scatter",
         "x": [
          5,
          6,
          7,
          8,
          9,
          10,
          11,
          12,
          13,
          14,
          15,
          16,
          17,
          18,
          19,
          20,
          21,
          22
         ],
         "xaxis": "x",
         "y": [
          -283181,
          -267799,
          -89947,
          -1018251,
          -1021970,
          -942092,
          -1115806,
          -667396,
          -694139,
          -659592,
          -516748,
          -844695,
          -588045,
          -623671,
          -317070,
          -145220,
          -288283,
          113817
         ],
         "yaxis": "y"
        },
        {
         "hovertemplate": "MCT_CAT_CD=50<br>week=%{x}<br>diff=%{y}<extra></extra>",
         "legendgroup": "50",
         "line": {
          "color": "#FFA15A",
          "dash": "solid"
         },
         "mode": "lines",
         "name": "50",
         "orientation": "v",
         "showlegend": true,
         "type": "scatter",
         "x": [
          5,
          6,
          7,
          8,
          9,
          10,
          11,
          12,
          13,
          14,
          15,
          16,
          17,
          18,
          19,
          20,
          21,
          22
         ],
         "xaxis": "x",
         "y": [
          -418014,
          347834,
          -376119,
          -554452,
          -1210855,
          -2471672,
          -1301028,
          -809211,
          -823679,
          -431754,
          -351228,
          -430609,
          -64933,
          -280605,
          -140,
          -16352,
          772,
          406764
         ],
         "yaxis": "y"
        },
        {
         "hovertemplate": "MCT_CAT_CD=52<br>week=%{x}<br>diff=%{y}<extra></extra>",
         "legendgroup": "52",
         "line": {
          "color": "#19d3f3",
          "dash": "solid"
         },
         "mode": "lines",
         "name": "52",
         "orientation": "v",
         "showlegend": true,
         "type": "scatter",
         "x": [
          5,
          6,
          7,
          8,
          9,
          10,
          11,
          12,
          13,
          14,
          15,
          16,
          17,
          18,
          19,
          20,
          21,
          22
         ],
         "xaxis": "x",
         "y": [
          -887131,
          665112,
          283432,
          -1078088,
          -1689319,
          -1854430,
          -1455038,
          -1296789,
          -1430505,
          -659018,
          -2490556,
          -2694359,
          -2894468,
          -2461213,
          -2383256,
          -1999732,
          -1987596,
          -23894
         ],
         "yaxis": "y"
        },
        {
         "hovertemplate": "MCT_CAT_CD=60<br>week=%{x}<br>diff=%{y}<extra></extra>",
         "legendgroup": "60",
         "line": {
          "color": "#FF6692",
          "dash": "solid"
         },
         "mode": "lines",
         "name": "60",
         "orientation": "v",
         "showlegend": true,
         "type": "scatter",
         "x": [
          5,
          6,
          7,
          8,
          9,
          10,
          11,
          12,
          13,
          14,
          15,
          16,
          17,
          18,
          19,
          20,
          21,
          22
         ],
         "xaxis": "x",
         "y": [
          -27103,
          139117,
          94932,
          -211008,
          -567403,
          -216760,
          -13776,
          -350047,
          -219372,
          -197357,
          -130747,
          -326471,
          179249,
          -106557,
          -253483,
          350291,
          49023,
          122520
         ],
         "yaxis": "y"
        },
        {
         "hovertemplate": "MCT_CAT_CD=62<br>week=%{x}<br>diff=%{y}<extra></extra>",
         "legendgroup": "62",
         "line": {
          "color": "#B6E880",
          "dash": "solid"
         },
         "mode": "lines",
         "name": "62",
         "orientation": "v",
         "showlegend": true,
         "type": "scatter",
         "x": [
          5,
          6,
          7,
          8,
          9,
          10,
          11,
          12,
          13,
          14,
          15,
          16,
          17,
          18,
          19,
          20,
          21,
          22
         ],
         "xaxis": "x",
         "y": [
          -700070,
          438685,
          -455539,
          -616548,
          -732592,
          -840523,
          -595078,
          -679934,
          -368645,
          -631794,
          -368023,
          -636661,
          -476499,
          -527726,
          -208976,
          -158126,
          249404,
          805663
         ],
         "yaxis": "y"
        },
        {
         "hovertemplate": "MCT_CAT_CD=70<br>week=%{x}<br>diff=%{y}<extra></extra>",
         "legendgroup": "70",
         "line": {
          "color": "#FF97FF",
          "dash": "solid"
         },
         "mode": "lines",
         "name": "70",
         "orientation": "v",
         "showlegend": true,
         "type": "scatter",
         "x": [
          5,
          6,
          7,
          8,
          9,
          10,
          11,
          12,
          13,
          14,
          15,
          16,
          17,
          18,
          19,
          20,
          21,
          22
         ],
         "xaxis": "x",
         "y": [
          -6976936,
          12821060,
          436471,
          -4985680,
          -5257384,
          -9238601,
          -8666713,
          -8895641,
          -10379582,
          -2127047,
          -5068047,
          -6180817,
          -8621681,
          266378,
          -594320,
          1179755,
          122720,
          7729213
         ],
         "yaxis": "y"
        },
        {
         "hovertemplate": "MCT_CAT_CD=71<br>week=%{x}<br>diff=%{y}<extra></extra>",
         "legendgroup": "71",
         "line": {
          "color": "#FECB52",
          "dash": "solid"
         },
         "mode": "lines",
         "name": "71",
         "orientation": "v",
         "showlegend": true,
         "type": "scatter",
         "x": [
          5,
          6,
          7,
          8,
          9,
          10,
          11,
          12,
          13,
          14,
          15,
          16,
          17,
          18,
          19,
          20,
          21,
          22
         ],
         "xaxis": "x",
         "y": [
          -1437962,
          -157364,
          -884317,
          -2299380,
          -4217727,
          -3300864,
          -2605850,
          -2478281,
          -3237326,
          -1976876,
          -2402963,
          -2074671,
          -1825186,
          -1657565,
          -1759587,
          -578466,
          807856,
          1929494
         ],
         "yaxis": "y"
        },
        {
         "hovertemplate": "MCT_CAT_CD=80<br>week=%{x}<br>diff=%{y}<extra></extra>",
         "legendgroup": "80",
         "line": {
          "color": "#636efa",
          "dash": "solid"
         },
         "mode": "lines",
         "name": "80",
         "orientation": "v",
         "showlegend": true,
         "type": "scatter",
         "x": [
          5,
          6,
          7,
          8,
          9,
          10,
          11,
          12,
          13,
          14,
          15,
          16,
          17,
          18,
          19,
          20,
          21,
          22
         ],
         "xaxis": "x",
         "y": [
          -11153148,
          -247275,
          -3168656,
          -15450529,
          -26124364,
          -21004826,
          -19497317,
          -18693290,
          -16645021,
          -14866225,
          -15139560,
          -13912293,
          -11825844,
          -11662262,
          -7484443,
          -3588956,
          -1333327,
          16009090
         ],
         "yaxis": "y"
        },
        {
         "hovertemplate": "MCT_CAT_CD=81<br>week=%{x}<br>diff=%{y}<extra></extra>",
         "legendgroup": "81",
         "line": {
          "color": "#EF553B",
          "dash": "solid"
         },
         "mode": "lines",
         "name": "81",
         "orientation": "v",
         "showlegend": true,
         "type": "scatter",
         "x": [
          5,
          6,
          7,
          8,
          9,
          10,
          11,
          12,
          13,
          14,
          15,
          16,
          17,
          18,
          19,
          20,
          21,
          22
         ],
         "xaxis": "x",
         "y": [
          -3252862,
          506851,
          180623,
          283489,
          249937,
          15806,
          -147465,
          85588,
          -206656,
          84694,
          -29211,
          -221139,
          -265028,
          -418114,
          160517,
          1089024,
          2203755,
          2327961
         ],
         "yaxis": "y"
        },
        {
         "hovertemplate": "MCT_CAT_CD=92<br>week=%{x}<br>diff=%{y}<extra></extra>",
         "legendgroup": "92",
         "line": {
          "color": "#00cc96",
          "dash": "solid"
         },
         "mode": "lines",
         "name": "92",
         "orientation": "v",
         "showlegend": true,
         "type": "scatter",
         "x": [
          5,
          6,
          7,
          8,
          9,
          10,
          11,
          12,
          13,
          14,
          15,
          16,
          17,
          18,
          19,
          20,
          21,
          22
         ],
         "xaxis": "x",
         "y": [
          -72264,
          154434,
          7907,
          -64777,
          -78634,
          -292665,
          -1834,
          -70949,
          140300,
          41152,
          60731,
          -17002,
          -121296,
          -107393,
          52778,
          147548,
          64242,
          127828
         ],
         "yaxis": "y"
        }
       ],
       "layout": {
        "legend": {
         "title": {
          "text": "MCT_CAT_CD"
         },
         "tracegroupgap": 0
        },
        "margin": {
         "t": 60
        },
        "template": {
         "data": {
          "bar": [
           {
            "error_x": {
             "color": "#2a3f5f"
            },
            "error_y": {
             "color": "#2a3f5f"
            },
            "marker": {
             "line": {
              "color": "#E5ECF6",
              "width": 0.5
             }
            },
            "type": "bar"
           }
          ],
          "barpolar": [
           {
            "marker": {
             "line": {
              "color": "#E5ECF6",
              "width": 0.5
             }
            },
            "type": "barpolar"
           }
          ],
          "carpet": [
           {
            "aaxis": {
             "endlinecolor": "#2a3f5f",
             "gridcolor": "white",
             "linecolor": "white",
             "minorgridcolor": "white",
             "startlinecolor": "#2a3f5f"
            },
            "baxis": {
             "endlinecolor": "#2a3f5f",
             "gridcolor": "white",
             "linecolor": "white",
             "minorgridcolor": "white",
             "startlinecolor": "#2a3f5f"
            },
            "type": "carpet"
           }
          ],
          "choropleth": [
           {
            "colorbar": {
             "outlinewidth": 0,
             "ticks": ""
            },
            "type": "choropleth"
           }
          ],
          "contour": [
           {
            "colorbar": {
             "outlinewidth": 0,
             "ticks": ""
            },
            "colorscale": [
             [
              0,
              "#0d0887"
             ],
             [
              0.1111111111111111,
              "#46039f"
             ],
             [
              0.2222222222222222,
              "#7201a8"
             ],
             [
              0.3333333333333333,
              "#9c179e"
             ],
             [
              0.4444444444444444,
              "#bd3786"
             ],
             [
              0.5555555555555556,
              "#d8576b"
             ],
             [
              0.6666666666666666,
              "#ed7953"
             ],
             [
              0.7777777777777778,
              "#fb9f3a"
             ],
             [
              0.8888888888888888,
              "#fdca26"
             ],
             [
              1,
              "#f0f921"
             ]
            ],
            "type": "contour"
           }
          ],
          "contourcarpet": [
           {
            "colorbar": {
             "outlinewidth": 0,
             "ticks": ""
            },
            "type": "contourcarpet"
           }
          ],
          "heatmap": [
           {
            "colorbar": {
             "outlinewidth": 0,
             "ticks": ""
            },
            "colorscale": [
             [
              0,
              "#0d0887"
             ],
             [
              0.1111111111111111,
              "#46039f"
             ],
             [
              0.2222222222222222,
              "#7201a8"
             ],
             [
              0.3333333333333333,
              "#9c179e"
             ],
             [
              0.4444444444444444,
              "#bd3786"
             ],
             [
              0.5555555555555556,
              "#d8576b"
             ],
             [
              0.6666666666666666,
              "#ed7953"
             ],
             [
              0.7777777777777778,
              "#fb9f3a"
             ],
             [
              0.8888888888888888,
              "#fdca26"
             ],
             [
              1,
              "#f0f921"
             ]
            ],
            "type": "heatmap"
           }
          ],
          "heatmapgl": [
           {
            "colorbar": {
             "outlinewidth": 0,
             "ticks": ""
            },
            "colorscale": [
             [
              0,
              "#0d0887"
             ],
             [
              0.1111111111111111,
              "#46039f"
             ],
             [
              0.2222222222222222,
              "#7201a8"
             ],
             [
              0.3333333333333333,
              "#9c179e"
             ],
             [
              0.4444444444444444,
              "#bd3786"
             ],
             [
              0.5555555555555556,
              "#d8576b"
             ],
             [
              0.6666666666666666,
              "#ed7953"
             ],
             [
              0.7777777777777778,
              "#fb9f3a"
             ],
             [
              0.8888888888888888,
              "#fdca26"
             ],
             [
              1,
              "#f0f921"
             ]
            ],
            "type": "heatmapgl"
           }
          ],
          "histogram": [
           {
            "marker": {
             "colorbar": {
              "outlinewidth": 0,
              "ticks": ""
             }
            },
            "type": "histogram"
           }
          ],
          "histogram2d": [
           {
            "colorbar": {
             "outlinewidth": 0,
             "ticks": ""
            },
            "colorscale": [
             [
              0,
              "#0d0887"
             ],
             [
              0.1111111111111111,
              "#46039f"
             ],
             [
              0.2222222222222222,
              "#7201a8"
             ],
             [
              0.3333333333333333,
              "#9c179e"
             ],
             [
              0.4444444444444444,
              "#bd3786"
             ],
             [
              0.5555555555555556,
              "#d8576b"
             ],
             [
              0.6666666666666666,
              "#ed7953"
             ],
             [
              0.7777777777777778,
              "#fb9f3a"
             ],
             [
              0.8888888888888888,
              "#fdca26"
             ],
             [
              1,
              "#f0f921"
             ]
            ],
            "type": "histogram2d"
           }
          ],
          "histogram2dcontour": [
           {
            "colorbar": {
             "outlinewidth": 0,
             "ticks": ""
            },
            "colorscale": [
             [
              0,
              "#0d0887"
             ],
             [
              0.1111111111111111,
              "#46039f"
             ],
             [
              0.2222222222222222,
              "#7201a8"
             ],
             [
              0.3333333333333333,
              "#9c179e"
             ],
             [
              0.4444444444444444,
              "#bd3786"
             ],
             [
              0.5555555555555556,
              "#d8576b"
             ],
             [
              0.6666666666666666,
              "#ed7953"
             ],
             [
              0.7777777777777778,
              "#fb9f3a"
             ],
             [
              0.8888888888888888,
              "#fdca26"
             ],
             [
              1,
              "#f0f921"
             ]
            ],
            "type": "histogram2dcontour"
           }
          ],
          "mesh3d": [
           {
            "colorbar": {
             "outlinewidth": 0,
             "ticks": ""
            },
            "type": "mesh3d"
           }
          ],
          "parcoords": [
           {
            "line": {
             "colorbar": {
              "outlinewidth": 0,
              "ticks": ""
             }
            },
            "type": "parcoords"
           }
          ],
          "pie": [
           {
            "automargin": true,
            "type": "pie"
           }
          ],
          "scatter": [
           {
            "marker": {
             "colorbar": {
              "outlinewidth": 0,
              "ticks": ""
             }
            },
            "type": "scatter"
           }
          ],
          "scatter3d": [
           {
            "line": {
             "colorbar": {
              "outlinewidth": 0,
              "ticks": ""
             }
            },
            "marker": {
             "colorbar": {
              "outlinewidth": 0,
              "ticks": ""
             }
            },
            "type": "scatter3d"
           }
          ],
          "scattercarpet": [
           {
            "marker": {
             "colorbar": {
              "outlinewidth": 0,
              "ticks": ""
             }
            },
            "type": "scattercarpet"
           }
          ],
          "scattergeo": [
           {
            "marker": {
             "colorbar": {
              "outlinewidth": 0,
              "ticks": ""
             }
            },
            "type": "scattergeo"
           }
          ],
          "scattergl": [
           {
            "marker": {
             "colorbar": {
              "outlinewidth": 0,
              "ticks": ""
             }
            },
            "type": "scattergl"
           }
          ],
          "scattermapbox": [
           {
            "marker": {
             "colorbar": {
              "outlinewidth": 0,
              "ticks": ""
             }
            },
            "type": "scattermapbox"
           }
          ],
          "scatterpolar": [
           {
            "marker": {
             "colorbar": {
              "outlinewidth": 0,
              "ticks": ""
             }
            },
            "type": "scatterpolar"
           }
          ],
          "scatterpolargl": [
           {
            "marker": {
             "colorbar": {
              "outlinewidth": 0,
              "ticks": ""
             }
            },
            "type": "scatterpolargl"
           }
          ],
          "scatterternary": [
           {
            "marker": {
             "colorbar": {
              "outlinewidth": 0,
              "ticks": ""
             }
            },
            "type": "scatterternary"
           }
          ],
          "surface": [
           {
            "colorbar": {
             "outlinewidth": 0,
             "ticks": ""
            },
            "colorscale": [
             [
              0,
              "#0d0887"
             ],
             [
              0.1111111111111111,
              "#46039f"
             ],
             [
              0.2222222222222222,
              "#7201a8"
             ],
             [
              0.3333333333333333,
              "#9c179e"
             ],
             [
              0.4444444444444444,
              "#bd3786"
             ],
             [
              0.5555555555555556,
              "#d8576b"
             ],
             [
              0.6666666666666666,
              "#ed7953"
             ],
             [
              0.7777777777777778,
              "#fb9f3a"
             ],
             [
              0.8888888888888888,
              "#fdca26"
             ],
             [
              1,
              "#f0f921"
             ]
            ],
            "type": "surface"
           }
          ],
          "table": [
           {
            "cells": {
             "fill": {
              "color": "#EBF0F8"
             },
             "line": {
              "color": "white"
             }
            },
            "header": {
             "fill": {
              "color": "#C8D4E3"
             },
             "line": {
              "color": "white"
             }
            },
            "type": "table"
           }
          ]
         },
         "layout": {
          "annotationdefaults": {
           "arrowcolor": "#2a3f5f",
           "arrowhead": 0,
           "arrowwidth": 1
          },
          "coloraxis": {
           "colorbar": {
            "outlinewidth": 0,
            "ticks": ""
           }
          },
          "colorscale": {
           "diverging": [
            [
             0,
             "#8e0152"
            ],
            [
             0.1,
             "#c51b7d"
            ],
            [
             0.2,
             "#de77ae"
            ],
            [
             0.3,
             "#f1b6da"
            ],
            [
             0.4,
             "#fde0ef"
            ],
            [
             0.5,
             "#f7f7f7"
            ],
            [
             0.6,
             "#e6f5d0"
            ],
            [
             0.7,
             "#b8e186"
            ],
            [
             0.8,
             "#7fbc41"
            ],
            [
             0.9,
             "#4d9221"
            ],
            [
             1,
             "#276419"
            ]
           ],
           "sequential": [
            [
             0,
             "#0d0887"
            ],
            [
             0.1111111111111111,
             "#46039f"
            ],
            [
             0.2222222222222222,
             "#7201a8"
            ],
            [
             0.3333333333333333,
             "#9c179e"
            ],
            [
             0.4444444444444444,
             "#bd3786"
            ],
            [
             0.5555555555555556,
             "#d8576b"
            ],
            [
             0.6666666666666666,
             "#ed7953"
            ],
            [
             0.7777777777777778,
             "#fb9f3a"
            ],
            [
             0.8888888888888888,
             "#fdca26"
            ],
            [
             1,
             "#f0f921"
            ]
           ],
           "sequentialminus": [
            [
             0,
             "#0d0887"
            ],
            [
             0.1111111111111111,
             "#46039f"
            ],
            [
             0.2222222222222222,
             "#7201a8"
            ],
            [
             0.3333333333333333,
             "#9c179e"
            ],
            [
             0.4444444444444444,
             "#bd3786"
            ],
            [
             0.5555555555555556,
             "#d8576b"
            ],
            [
             0.6666666666666666,
             "#ed7953"
            ],
            [
             0.7777777777777778,
             "#fb9f3a"
            ],
            [
             0.8888888888888888,
             "#fdca26"
            ],
            [
             1,
             "#f0f921"
            ]
           ]
          },
          "colorway": [
           "#636efa",
           "#EF553B",
           "#00cc96",
           "#ab63fa",
           "#FFA15A",
           "#19d3f3",
           "#FF6692",
           "#B6E880",
           "#FF97FF",
           "#FECB52"
          ],
          "font": {
           "color": "#2a3f5f"
          },
          "geo": {
           "bgcolor": "white",
           "lakecolor": "white",
           "landcolor": "#E5ECF6",
           "showlakes": true,
           "showland": true,
           "subunitcolor": "white"
          },
          "hoverlabel": {
           "align": "left"
          },
          "hovermode": "closest",
          "mapbox": {
           "style": "light"
          },
          "paper_bgcolor": "white",
          "plot_bgcolor": "#E5ECF6",
          "polar": {
           "angularaxis": {
            "gridcolor": "white",
            "linecolor": "white",
            "ticks": ""
           },
           "bgcolor": "#E5ECF6",
           "radialaxis": {
            "gridcolor": "white",
            "linecolor": "white",
            "ticks": ""
           }
          },
          "scene": {
           "xaxis": {
            "backgroundcolor": "#E5ECF6",
            "gridcolor": "white",
            "gridwidth": 2,
            "linecolor": "white",
            "showbackground": true,
            "ticks": "",
            "zerolinecolor": "white"
           },
           "yaxis": {
            "backgroundcolor": "#E5ECF6",
            "gridcolor": "white",
            "gridwidth": 2,
            "linecolor": "white",
            "showbackground": true,
            "ticks": "",
            "zerolinecolor": "white"
           },
           "zaxis": {
            "backgroundcolor": "#E5ECF6",
            "gridcolor": "white",
            "gridwidth": 2,
            "linecolor": "white",
            "showbackground": true,
            "ticks": "",
            "zerolinecolor": "white"
           }
          },
          "shapedefaults": {
           "line": {
            "color": "#2a3f5f"
           }
          },
          "ternary": {
           "aaxis": {
            "gridcolor": "white",
            "linecolor": "white",
            "ticks": ""
           },
           "baxis": {
            "gridcolor": "white",
            "linecolor": "white",
            "ticks": ""
           },
           "bgcolor": "#E5ECF6",
           "caxis": {
            "gridcolor": "white",
            "linecolor": "white",
            "ticks": ""
           }
          },
          "title": {
           "x": 0.05
          },
          "xaxis": {
           "automargin": true,
           "gridcolor": "white",
           "linecolor": "white",
           "ticks": "",
           "title": {
            "standoff": 15
           },
           "zerolinecolor": "white",
           "zerolinewidth": 2
          },
          "yaxis": {
           "automargin": true,
           "gridcolor": "white",
           "linecolor": "white",
           "ticks": "",
           "title": {
            "standoff": 15
           },
           "zerolinecolor": "white",
           "zerolinewidth": 2
          }
         }
        },
        "xaxis": {
         "anchor": "y",
         "domain": [
          0,
          1
         ],
         "tickmode": "array",
         "ticktext": [
          "12/23",
          "12/30",
          "1/6",
          "1/13",
          "1/20",
          "1/27",
          "2/3",
          "2/10",
          "2/17",
          "2/24",
          "3/2",
          "3/9",
          "3/16",
          "3/23",
          "3/30",
          "4/6",
          "4/13",
          "4/20",
          "4/27",
          "5/4",
          "5/11",
          "5/18",
          "5/25",
          "6/1",
          "6/8",
          "6/15",
          "6/22",
          "6/29",
          "7/6",
          "7/13",
          "7/20",
          "7/27",
          "8/3",
          "8/10",
          "8/17",
          "8/24",
          "8/31",
          "9/7",
          "9/14",
          "9/21",
          "9/28",
          "10/5",
          "10/12",
          "10/19",
          "10/26",
          "11/2",
          "11/9",
          "11/16",
          "11/23",
          "11/30",
          "12/7",
          "12/14"
         ],
         "tickvals": [
          0,
          1,
          2,
          3,
          4,
          5,
          6,
          7,
          8,
          9,
          10,
          11,
          12,
          13,
          14,
          15,
          16,
          17,
          18,
          19,
          20,
          21,
          22,
          23,
          24,
          25,
          26,
          27,
          28,
          29,
          30,
          31,
          32,
          33,
          34,
          35,
          36,
          37,
          38,
          39,
          40,
          41,
          42,
          43,
          44,
          45,
          46,
          47,
          48,
          49,
          50,
          51
         ],
         "title": {
          "text": "week"
         }
        },
        "yaxis": {
         "anchor": "x",
         "domain": [
          0,
          1
         ],
         "title": {
          "text": "diff"
         }
        }
       }
      },
      "text/html": [
       "<div>\n",
       "        \n",
       "        \n",
       "            <div id=\"12d8a4ea-1e33-4cb3-878f-6427afb6018e\" class=\"plotly-graph-div\" style=\"height:525px; width:100%;\"></div>\n",
       "            <script type=\"text/javascript\">\n",
       "                require([\"plotly\"], function(Plotly) {\n",
       "                    window.PLOTLYENV=window.PLOTLYENV || {};\n",
       "                    \n",
       "                if (document.getElementById(\"12d8a4ea-1e33-4cb3-878f-6427afb6018e\")) {\n",
       "                    Plotly.newPlot(\n",
       "                        '12d8a4ea-1e33-4cb3-878f-6427afb6018e',\n",
       "                        [{\"hovertemplate\": \"MCT_CAT_CD=10<br>week=%{x}<br>diff=%{y}<extra></extra>\", \"legendgroup\": \"10\", \"line\": {\"color\": \"#636efa\", \"dash\": \"solid\"}, \"mode\": \"lines\", \"name\": \"10\", \"orientation\": \"v\", \"showlegend\": true, \"type\": \"scatter\", \"x\": [5, 6, 7, 8, 9, 10, 11, 12, 13, 14, 15, 16, 17, 18, 19, 20, 21, 22], \"xaxis\": \"x\", \"y\": [-128516, -382808, -562557, -1435142, -2173390, -1667320, -1222206, -1019474, -2059199, -1757075, -1507284, -1434409, -2262574, -658825, -1082431, -901282, -2184104, -339949], \"yaxis\": \"y\"}, {\"hovertemplate\": \"MCT_CAT_CD=20<br>week=%{x}<br>diff=%{y}<extra></extra>\", \"legendgroup\": \"20\", \"line\": {\"color\": \"#EF553B\", \"dash\": \"solid\"}, \"mode\": \"lines\", \"name\": \"20\", \"orientation\": \"v\", \"showlegend\": true, \"type\": \"scatter\", \"x\": [5, 6, 7, 8, 9, 10, 11, 12, 13, 14, 15, 16, 17, 18, 19, 20, 21, 22], \"xaxis\": \"x\", \"y\": [-1440282, -2465272, -402523, -2243492, -5370913, -2914368, -2169969, -1743699, -1641864, -1429209, -1476488, -1411388, -1897487, -1290939, -840965, 1457674, 1604504, 3932281], \"yaxis\": \"y\"}, {\"hovertemplate\": \"MCT_CAT_CD=21<br>week=%{x}<br>diff=%{y}<extra></extra>\", \"legendgroup\": \"21\", \"line\": {\"color\": \"#00cc96\", \"dash\": \"solid\"}, \"mode\": \"lines\", \"name\": \"21\", \"orientation\": \"v\", \"showlegend\": true, \"type\": \"scatter\", \"x\": [5, 6, 7, 8, 9, 10, 11, 12, 13, 14, 15, 16, 17, 18, 19, 20, 21, 22], \"xaxis\": \"x\", \"y\": [-444323, 524724, -117169, -707834, -1857542, -1793297, -1364792, -1202537, -2018447, -2068745, -1266039, -1381503, -854330, -1023151, -24441, -75207, -285348, 767917], \"yaxis\": \"y\"}, {\"hovertemplate\": \"MCT_CAT_CD=22<br>week=%{x}<br>diff=%{y}<extra></extra>\", \"legendgroup\": \"22\", \"line\": {\"color\": \"#ab63fa\", \"dash\": \"solid\"}, \"mode\": \"lines\", \"name\": \"22\", \"orientation\": \"v\", \"showlegend\": true, \"type\": \"scatter\", \"x\": [5, 6, 7, 8, 9, 10, 11, 12, 13, 14, 15, 16, 17, 18, 19, 20, 21, 22], \"xaxis\": \"x\", \"y\": [-476547, -469111, -379300, -587143, -965054, -783278, -670713, -463407, -563584, -369792, -381400, -438002, -805299, -721311, -219859, -272296, -350606, -28673], \"yaxis\": \"y\"}, {\"hovertemplate\": \"MCT_CAT_CD=30<br>week=%{x}<br>diff=%{y}<extra></extra>\", \"legendgroup\": \"30\", \"line\": {\"color\": \"#FFA15A\", \"dash\": \"solid\"}, \"mode\": \"lines\", \"name\": \"30\", \"orientation\": \"v\", \"showlegend\": true, \"type\": \"scatter\", \"x\": [5, 6, 7, 8, 9, 10, 11, 12, 13, 14, 15, 16, 17, 18, 19, 20, 21, 22], \"xaxis\": \"x\", \"y\": [111187, 127433, 115650, -117208, -220387, -23848, -169716, -212750, -39756, 145405, -151986, 134656, 229043, 99781, -14793, 385670, 300760, 510086], \"yaxis\": \"y\"}, {\"hovertemplate\": \"MCT_CAT_CD=31<br>week=%{x}<br>diff=%{y}<extra></extra>\", \"legendgroup\": \"31\", \"line\": {\"color\": \"#19d3f3\", \"dash\": \"solid\"}, \"mode\": \"lines\", \"name\": \"31\", \"orientation\": \"v\", \"showlegend\": true, \"type\": \"scatter\", \"x\": [5, 6, 7, 8, 9, 10, 11, 12, 13, 14, 15, 16, 17, 18, 19, 20, 21, 22], \"xaxis\": \"x\", \"y\": [-19224, 21241, -39265, -9002, 9573, 21216, 19171, -38150, 2217, 12863, 86, -976, 15097, 13999, -12700, 26704, -8132, 24179], \"yaxis\": \"y\"}, {\"hovertemplate\": \"MCT_CAT_CD=32<br>week=%{x}<br>diff=%{y}<extra></extra>\", \"legendgroup\": \"32\", \"line\": {\"color\": \"#FF6692\", \"dash\": \"solid\"}, \"mode\": \"lines\", \"name\": \"32\", \"orientation\": \"v\", \"showlegend\": true, \"type\": \"scatter\", \"x\": [5, 6, 7, 8, 9, 10, 11, 12, 13, 14, 15, 16, 17, 18, 19, 20, 21, 22], \"xaxis\": \"x\", \"y\": [-82592, 136705, -18909, -185537, -234622, -209262, -169996, -115208, -172620, -122945, -109290, -62332, -43498, -195034, -42316, -61254, 184935, 405676], \"yaxis\": \"y\"}, {\"hovertemplate\": \"MCT_CAT_CD=33<br>week=%{x}<br>diff=%{y}<extra></extra>\", \"legendgroup\": \"33\", \"line\": {\"color\": \"#B6E880\", \"dash\": \"solid\"}, \"mode\": \"lines\", \"name\": \"33\", \"orientation\": \"v\", \"showlegend\": true, \"type\": \"scatter\", \"x\": [5, 6, 7, 8, 9, 10, 11, 12, 13, 14, 15, 16, 17, 18, 19, 20, 21, 22], \"xaxis\": \"x\", \"y\": [-1779392, -103549, -1127708, -1988438, -2995884, -2313138, -2586839, -2337167, -2334798, -2154457, -2440562, -2913877, -2102367, -2939046, -2777717, -2066211, -2454543, 103849], \"yaxis\": \"y\"}, {\"hovertemplate\": \"MCT_CAT_CD=34<br>week=%{x}<br>diff=%{y}<extra></extra>\", \"legendgroup\": \"34\", \"line\": {\"color\": \"#FF97FF\", \"dash\": \"solid\"}, \"mode\": \"lines\", \"name\": \"34\", \"orientation\": \"v\", \"showlegend\": true, \"type\": \"scatter\", \"x\": [5, 6, 7, 8, 9, 10, 11, 12, 13, 14, 15, 16, 17, 18, 19, 20, 21, 22], \"xaxis\": \"x\", \"y\": [3124, -70075, -86882, -242080, -357230, -262563, -229683, -143321, -409670, 60926, -60672, 55812, -210523, -241818, 7783, 1040, -232816, 19121], \"yaxis\": \"y\"}, {\"hovertemplate\": \"MCT_CAT_CD=35<br>week=%{x}<br>diff=%{y}<extra></extra>\", \"legendgroup\": \"35\", \"line\": {\"color\": \"#FECB52\", \"dash\": \"solid\"}, \"mode\": \"lines\", \"name\": \"35\", \"orientation\": \"v\", \"showlegend\": true, \"type\": \"scatter\", \"x\": [5, 6, 7, 8, 9, 10, 11, 12, 13, 14, 15, 16, 17, 18, 19, 20, 21, 22], \"xaxis\": \"x\", \"y\": [-288983, -226911, -437793, -649619, -904214, -1035874, -1002132, -834455, -479333, -438678, -846093, -841457, -639129, -234612, -306650, -44830, 22582, 178050], \"yaxis\": \"y\"}, {\"hovertemplate\": \"MCT_CAT_CD=40<br>week=%{x}<br>diff=%{y}<extra></extra>\", \"legendgroup\": \"40\", \"line\": {\"color\": \"#636efa\", \"dash\": \"solid\"}, \"mode\": \"lines\", \"name\": \"40\", \"orientation\": \"v\", \"showlegend\": true, \"type\": \"scatter\", \"x\": [5, 6, 7, 8, 9, 10, 11, 12, 13, 14, 15, 16, 17, 18, 19, 20, 21, 22], \"xaxis\": \"x\", \"y\": [-18802479, -9468995, -3592701, -7143528, -19771262, -20287592, -17664072, -14553791, -13204202, -15218102, -10446053, -11515797, -10349715, -6136349, -3450724, -3268825, -305007, 26672990], \"yaxis\": \"y\"}, {\"hovertemplate\": \"MCT_CAT_CD=42<br>week=%{x}<br>diff=%{y}<extra></extra>\", \"legendgroup\": \"42\", \"line\": {\"color\": \"#EF553B\", \"dash\": \"solid\"}, \"mode\": \"lines\", \"name\": \"42\", \"orientation\": \"v\", \"showlegend\": true, \"type\": \"scatter\", \"x\": [5, 6, 7, 8, 9, 10, 11, 12, 13, 14, 15, 16, 17, 18, 19, 20, 21, 22], \"xaxis\": \"x\", \"y\": [-1662177, -1723193, -1578132, -3310919, -5771283, -4516691, -4077216, -3598283, -3310620, -3224928, -3399392, -3365384, -3013294, -3142697, -2626768, -1243313, 63602, 2089680], \"yaxis\": \"y\"}, {\"hovertemplate\": \"MCT_CAT_CD=43<br>week=%{x}<br>diff=%{y}<extra></extra>\", \"legendgroup\": \"43\", \"line\": {\"color\": \"#00cc96\", \"dash\": \"solid\"}, \"mode\": \"lines\", \"name\": \"43\", \"orientation\": \"v\", \"showlegend\": true, \"type\": \"scatter\", \"x\": [5, 6, 7, 8, 9, 10, 11, 12, 13, 14, 15, 16, 17, 18, 19, 20, 21, 22], \"xaxis\": \"x\", \"y\": [-83773, 182739, -128302, -150039, -79929, -329436, -98256, -196076, -325945, -78078, -321091, -48554, -73511, -208371, -69253, 290496, 374300, 392370], \"yaxis\": \"y\"}, {\"hovertemplate\": \"MCT_CAT_CD=44<br>week=%{x}<br>diff=%{y}<extra></extra>\", \"legendgroup\": \"44\", \"line\": {\"color\": \"#ab63fa\", \"dash\": \"solid\"}, \"mode\": \"lines\", \"name\": \"44\", \"orientation\": \"v\", \"showlegend\": true, \"type\": \"scatter\", \"x\": [5, 6, 7, 8, 9, 10, 11, 12, 13, 14, 15, 16, 17, 18, 19, 20, 21, 22], \"xaxis\": \"x\", \"y\": [-283181, -267799, -89947, -1018251, -1021970, -942092, -1115806, -667396, -694139, -659592, -516748, -844695, -588045, -623671, -317070, -145220, -288283, 113817], \"yaxis\": \"y\"}, {\"hovertemplate\": \"MCT_CAT_CD=50<br>week=%{x}<br>diff=%{y}<extra></extra>\", \"legendgroup\": \"50\", \"line\": {\"color\": \"#FFA15A\", \"dash\": \"solid\"}, \"mode\": \"lines\", \"name\": \"50\", \"orientation\": \"v\", \"showlegend\": true, \"type\": \"scatter\", \"x\": [5, 6, 7, 8, 9, 10, 11, 12, 13, 14, 15, 16, 17, 18, 19, 20, 21, 22], \"xaxis\": \"x\", \"y\": [-418014, 347834, -376119, -554452, -1210855, -2471672, -1301028, -809211, -823679, -431754, -351228, -430609, -64933, -280605, -140, -16352, 772, 406764], \"yaxis\": \"y\"}, {\"hovertemplate\": \"MCT_CAT_CD=52<br>week=%{x}<br>diff=%{y}<extra></extra>\", \"legendgroup\": \"52\", \"line\": {\"color\": \"#19d3f3\", \"dash\": \"solid\"}, \"mode\": \"lines\", \"name\": \"52\", \"orientation\": \"v\", \"showlegend\": true, \"type\": \"scatter\", \"x\": [5, 6, 7, 8, 9, 10, 11, 12, 13, 14, 15, 16, 17, 18, 19, 20, 21, 22], \"xaxis\": \"x\", \"y\": [-887131, 665112, 283432, -1078088, -1689319, -1854430, -1455038, -1296789, -1430505, -659018, -2490556, -2694359, -2894468, -2461213, -2383256, -1999732, -1987596, -23894], \"yaxis\": \"y\"}, {\"hovertemplate\": \"MCT_CAT_CD=60<br>week=%{x}<br>diff=%{y}<extra></extra>\", \"legendgroup\": \"60\", \"line\": {\"color\": \"#FF6692\", \"dash\": \"solid\"}, \"mode\": \"lines\", \"name\": \"60\", \"orientation\": \"v\", \"showlegend\": true, \"type\": \"scatter\", \"x\": [5, 6, 7, 8, 9, 10, 11, 12, 13, 14, 15, 16, 17, 18, 19, 20, 21, 22], \"xaxis\": \"x\", \"y\": [-27103, 139117, 94932, -211008, -567403, -216760, -13776, -350047, -219372, -197357, -130747, -326471, 179249, -106557, -253483, 350291, 49023, 122520], \"yaxis\": \"y\"}, {\"hovertemplate\": \"MCT_CAT_CD=62<br>week=%{x}<br>diff=%{y}<extra></extra>\", \"legendgroup\": \"62\", \"line\": {\"color\": \"#B6E880\", \"dash\": \"solid\"}, \"mode\": \"lines\", \"name\": \"62\", \"orientation\": \"v\", \"showlegend\": true, \"type\": \"scatter\", \"x\": [5, 6, 7, 8, 9, 10, 11, 12, 13, 14, 15, 16, 17, 18, 19, 20, 21, 22], \"xaxis\": \"x\", \"y\": [-700070, 438685, -455539, -616548, -732592, -840523, -595078, -679934, -368645, -631794, -368023, -636661, -476499, -527726, -208976, -158126, 249404, 805663], \"yaxis\": \"y\"}, {\"hovertemplate\": \"MCT_CAT_CD=70<br>week=%{x}<br>diff=%{y}<extra></extra>\", \"legendgroup\": \"70\", \"line\": {\"color\": \"#FF97FF\", \"dash\": \"solid\"}, \"mode\": \"lines\", \"name\": \"70\", \"orientation\": \"v\", \"showlegend\": true, \"type\": \"scatter\", \"x\": [5, 6, 7, 8, 9, 10, 11, 12, 13, 14, 15, 16, 17, 18, 19, 20, 21, 22], \"xaxis\": \"x\", \"y\": [-6976936, 12821060, 436471, -4985680, -5257384, -9238601, -8666713, -8895641, -10379582, -2127047, -5068047, -6180817, -8621681, 266378, -594320, 1179755, 122720, 7729213], \"yaxis\": \"y\"}, {\"hovertemplate\": \"MCT_CAT_CD=71<br>week=%{x}<br>diff=%{y}<extra></extra>\", \"legendgroup\": \"71\", \"line\": {\"color\": \"#FECB52\", \"dash\": \"solid\"}, \"mode\": \"lines\", \"name\": \"71\", \"orientation\": \"v\", \"showlegend\": true, \"type\": \"scatter\", \"x\": [5, 6, 7, 8, 9, 10, 11, 12, 13, 14, 15, 16, 17, 18, 19, 20, 21, 22], \"xaxis\": \"x\", \"y\": [-1437962, -157364, -884317, -2299380, -4217727, -3300864, -2605850, -2478281, -3237326, -1976876, -2402963, -2074671, -1825186, -1657565, -1759587, -578466, 807856, 1929494], \"yaxis\": \"y\"}, {\"hovertemplate\": \"MCT_CAT_CD=80<br>week=%{x}<br>diff=%{y}<extra></extra>\", \"legendgroup\": \"80\", \"line\": {\"color\": \"#636efa\", \"dash\": \"solid\"}, \"mode\": \"lines\", \"name\": \"80\", \"orientation\": \"v\", \"showlegend\": true, \"type\": \"scatter\", \"x\": [5, 6, 7, 8, 9, 10, 11, 12, 13, 14, 15, 16, 17, 18, 19, 20, 21, 22], \"xaxis\": \"x\", \"y\": [-11153148, -247275, -3168656, -15450529, -26124364, -21004826, -19497317, -18693290, -16645021, -14866225, -15139560, -13912293, -11825844, -11662262, -7484443, -3588956, -1333327, 16009090], \"yaxis\": \"y\"}, {\"hovertemplate\": \"MCT_CAT_CD=81<br>week=%{x}<br>diff=%{y}<extra></extra>\", \"legendgroup\": \"81\", \"line\": {\"color\": \"#EF553B\", \"dash\": \"solid\"}, \"mode\": \"lines\", \"name\": \"81\", \"orientation\": \"v\", \"showlegend\": true, \"type\": \"scatter\", \"x\": [5, 6, 7, 8, 9, 10, 11, 12, 13, 14, 15, 16, 17, 18, 19, 20, 21, 22], \"xaxis\": \"x\", \"y\": [-3252862, 506851, 180623, 283489, 249937, 15806, -147465, 85588, -206656, 84694, -29211, -221139, -265028, -418114, 160517, 1089024, 2203755, 2327961], \"yaxis\": \"y\"}, {\"hovertemplate\": \"MCT_CAT_CD=92<br>week=%{x}<br>diff=%{y}<extra></extra>\", \"legendgroup\": \"92\", \"line\": {\"color\": \"#00cc96\", \"dash\": \"solid\"}, \"mode\": \"lines\", \"name\": \"92\", \"orientation\": \"v\", \"showlegend\": true, \"type\": \"scatter\", \"x\": [5, 6, 7, 8, 9, 10, 11, 12, 13, 14, 15, 16, 17, 18, 19, 20, 21, 22], \"xaxis\": \"x\", \"y\": [-72264, 154434, 7907, -64777, -78634, -292665, -1834, -70949, 140300, 41152, 60731, -17002, -121296, -107393, 52778, 147548, 64242, 127828], \"yaxis\": \"y\"}],\n",
       "                        {\"legend\": {\"title\": {\"text\": \"MCT_CAT_CD\"}, \"tracegroupgap\": 0}, \"margin\": {\"t\": 60}, \"template\": {\"data\": {\"bar\": [{\"error_x\": {\"color\": \"#2a3f5f\"}, \"error_y\": {\"color\": \"#2a3f5f\"}, \"marker\": {\"line\": {\"color\": \"#E5ECF6\", \"width\": 0.5}}, \"type\": \"bar\"}], \"barpolar\": [{\"marker\": {\"line\": {\"color\": \"#E5ECF6\", \"width\": 0.5}}, \"type\": \"barpolar\"}], \"carpet\": [{\"aaxis\": {\"endlinecolor\": \"#2a3f5f\", \"gridcolor\": \"white\", \"linecolor\": \"white\", \"minorgridcolor\": \"white\", \"startlinecolor\": \"#2a3f5f\"}, \"baxis\": {\"endlinecolor\": \"#2a3f5f\", \"gridcolor\": \"white\", \"linecolor\": \"white\", \"minorgridcolor\": \"white\", \"startlinecolor\": \"#2a3f5f\"}, \"type\": \"carpet\"}], \"choropleth\": [{\"colorbar\": {\"outlinewidth\": 0, \"ticks\": \"\"}, \"type\": \"choropleth\"}], \"contour\": [{\"colorbar\": {\"outlinewidth\": 0, \"ticks\": \"\"}, \"colorscale\": [[0.0, \"#0d0887\"], [0.1111111111111111, \"#46039f\"], [0.2222222222222222, \"#7201a8\"], [0.3333333333333333, \"#9c179e\"], [0.4444444444444444, \"#bd3786\"], [0.5555555555555556, \"#d8576b\"], [0.6666666666666666, \"#ed7953\"], [0.7777777777777778, \"#fb9f3a\"], [0.8888888888888888, \"#fdca26\"], [1.0, \"#f0f921\"]], \"type\": \"contour\"}], \"contourcarpet\": [{\"colorbar\": {\"outlinewidth\": 0, \"ticks\": \"\"}, \"type\": \"contourcarpet\"}], \"heatmap\": [{\"colorbar\": {\"outlinewidth\": 0, \"ticks\": \"\"}, \"colorscale\": [[0.0, \"#0d0887\"], [0.1111111111111111, \"#46039f\"], [0.2222222222222222, \"#7201a8\"], [0.3333333333333333, \"#9c179e\"], [0.4444444444444444, \"#bd3786\"], [0.5555555555555556, \"#d8576b\"], [0.6666666666666666, \"#ed7953\"], [0.7777777777777778, \"#fb9f3a\"], [0.8888888888888888, \"#fdca26\"], [1.0, \"#f0f921\"]], \"type\": \"heatmap\"}], \"heatmapgl\": [{\"colorbar\": {\"outlinewidth\": 0, \"ticks\": \"\"}, \"colorscale\": [[0.0, \"#0d0887\"], [0.1111111111111111, \"#46039f\"], [0.2222222222222222, \"#7201a8\"], [0.3333333333333333, \"#9c179e\"], [0.4444444444444444, \"#bd3786\"], [0.5555555555555556, \"#d8576b\"], [0.6666666666666666, \"#ed7953\"], [0.7777777777777778, \"#fb9f3a\"], [0.8888888888888888, \"#fdca26\"], [1.0, \"#f0f921\"]], \"type\": \"heatmapgl\"}], \"histogram\": [{\"marker\": {\"colorbar\": {\"outlinewidth\": 0, \"ticks\": \"\"}}, \"type\": \"histogram\"}], \"histogram2d\": [{\"colorbar\": {\"outlinewidth\": 0, \"ticks\": \"\"}, \"colorscale\": [[0.0, \"#0d0887\"], [0.1111111111111111, \"#46039f\"], [0.2222222222222222, \"#7201a8\"], [0.3333333333333333, \"#9c179e\"], [0.4444444444444444, \"#bd3786\"], [0.5555555555555556, \"#d8576b\"], [0.6666666666666666, \"#ed7953\"], [0.7777777777777778, \"#fb9f3a\"], [0.8888888888888888, \"#fdca26\"], [1.0, \"#f0f921\"]], \"type\": \"histogram2d\"}], \"histogram2dcontour\": [{\"colorbar\": {\"outlinewidth\": 0, \"ticks\": \"\"}, \"colorscale\": [[0.0, \"#0d0887\"], [0.1111111111111111, \"#46039f\"], [0.2222222222222222, \"#7201a8\"], [0.3333333333333333, \"#9c179e\"], [0.4444444444444444, \"#bd3786\"], [0.5555555555555556, \"#d8576b\"], [0.6666666666666666, \"#ed7953\"], [0.7777777777777778, \"#fb9f3a\"], [0.8888888888888888, \"#fdca26\"], [1.0, \"#f0f921\"]], \"type\": \"histogram2dcontour\"}], \"mesh3d\": [{\"colorbar\": {\"outlinewidth\": 0, \"ticks\": \"\"}, \"type\": \"mesh3d\"}], \"parcoords\": [{\"line\": {\"colorbar\": {\"outlinewidth\": 0, \"ticks\": \"\"}}, \"type\": \"parcoords\"}], \"pie\": [{\"automargin\": true, \"type\": \"pie\"}], \"scatter\": [{\"marker\": {\"colorbar\": {\"outlinewidth\": 0, \"ticks\": \"\"}}, \"type\": \"scatter\"}], \"scatter3d\": [{\"line\": {\"colorbar\": {\"outlinewidth\": 0, \"ticks\": \"\"}}, \"marker\": {\"colorbar\": {\"outlinewidth\": 0, \"ticks\": \"\"}}, \"type\": \"scatter3d\"}], \"scattercarpet\": [{\"marker\": {\"colorbar\": {\"outlinewidth\": 0, \"ticks\": \"\"}}, \"type\": \"scattercarpet\"}], \"scattergeo\": [{\"marker\": {\"colorbar\": {\"outlinewidth\": 0, \"ticks\": \"\"}}, \"type\": \"scattergeo\"}], \"scattergl\": [{\"marker\": {\"colorbar\": {\"outlinewidth\": 0, \"ticks\": \"\"}}, \"type\": \"scattergl\"}], \"scattermapbox\": [{\"marker\": {\"colorbar\": {\"outlinewidth\": 0, \"ticks\": \"\"}}, \"type\": \"scattermapbox\"}], \"scatterpolar\": [{\"marker\": {\"colorbar\": {\"outlinewidth\": 0, \"ticks\": \"\"}}, \"type\": \"scatterpolar\"}], \"scatterpolargl\": [{\"marker\": {\"colorbar\": {\"outlinewidth\": 0, \"ticks\": \"\"}}, \"type\": \"scatterpolargl\"}], \"scatterternary\": [{\"marker\": {\"colorbar\": {\"outlinewidth\": 0, \"ticks\": \"\"}}, \"type\": \"scatterternary\"}], \"surface\": [{\"colorbar\": {\"outlinewidth\": 0, \"ticks\": \"\"}, \"colorscale\": [[0.0, \"#0d0887\"], [0.1111111111111111, \"#46039f\"], [0.2222222222222222, \"#7201a8\"], [0.3333333333333333, \"#9c179e\"], [0.4444444444444444, \"#bd3786\"], [0.5555555555555556, \"#d8576b\"], [0.6666666666666666, \"#ed7953\"], [0.7777777777777778, \"#fb9f3a\"], [0.8888888888888888, \"#fdca26\"], [1.0, \"#f0f921\"]], \"type\": \"surface\"}], \"table\": [{\"cells\": {\"fill\": {\"color\": \"#EBF0F8\"}, \"line\": {\"color\": \"white\"}}, \"header\": {\"fill\": {\"color\": \"#C8D4E3\"}, \"line\": {\"color\": \"white\"}}, \"type\": \"table\"}]}, \"layout\": {\"annotationdefaults\": {\"arrowcolor\": \"#2a3f5f\", \"arrowhead\": 0, \"arrowwidth\": 1}, \"coloraxis\": {\"colorbar\": {\"outlinewidth\": 0, \"ticks\": \"\"}}, \"colorscale\": {\"diverging\": [[0, \"#8e0152\"], [0.1, \"#c51b7d\"], [0.2, \"#de77ae\"], [0.3, \"#f1b6da\"], [0.4, \"#fde0ef\"], [0.5, \"#f7f7f7\"], [0.6, \"#e6f5d0\"], [0.7, \"#b8e186\"], [0.8, \"#7fbc41\"], [0.9, \"#4d9221\"], [1, \"#276419\"]], \"sequential\": [[0.0, \"#0d0887\"], [0.1111111111111111, \"#46039f\"], [0.2222222222222222, \"#7201a8\"], [0.3333333333333333, \"#9c179e\"], [0.4444444444444444, \"#bd3786\"], [0.5555555555555556, \"#d8576b\"], [0.6666666666666666, \"#ed7953\"], [0.7777777777777778, \"#fb9f3a\"], [0.8888888888888888, \"#fdca26\"], [1.0, \"#f0f921\"]], \"sequentialminus\": [[0.0, \"#0d0887\"], [0.1111111111111111, \"#46039f\"], [0.2222222222222222, \"#7201a8\"], [0.3333333333333333, \"#9c179e\"], [0.4444444444444444, \"#bd3786\"], [0.5555555555555556, \"#d8576b\"], [0.6666666666666666, \"#ed7953\"], [0.7777777777777778, \"#fb9f3a\"], [0.8888888888888888, \"#fdca26\"], [1.0, \"#f0f921\"]]}, \"colorway\": [\"#636efa\", \"#EF553B\", \"#00cc96\", \"#ab63fa\", \"#FFA15A\", \"#19d3f3\", \"#FF6692\", \"#B6E880\", \"#FF97FF\", \"#FECB52\"], \"font\": {\"color\": \"#2a3f5f\"}, \"geo\": {\"bgcolor\": \"white\", \"lakecolor\": \"white\", \"landcolor\": \"#E5ECF6\", \"showlakes\": true, \"showland\": true, \"subunitcolor\": \"white\"}, \"hoverlabel\": {\"align\": \"left\"}, \"hovermode\": \"closest\", \"mapbox\": {\"style\": \"light\"}, \"paper_bgcolor\": \"white\", \"plot_bgcolor\": \"#E5ECF6\", \"polar\": {\"angularaxis\": {\"gridcolor\": \"white\", \"linecolor\": \"white\", \"ticks\": \"\"}, \"bgcolor\": \"#E5ECF6\", \"radialaxis\": {\"gridcolor\": \"white\", \"linecolor\": \"white\", \"ticks\": \"\"}}, \"scene\": {\"xaxis\": {\"backgroundcolor\": \"#E5ECF6\", \"gridcolor\": \"white\", \"gridwidth\": 2, \"linecolor\": \"white\", \"showbackground\": true, \"ticks\": \"\", \"zerolinecolor\": \"white\"}, \"yaxis\": {\"backgroundcolor\": \"#E5ECF6\", \"gridcolor\": \"white\", \"gridwidth\": 2, \"linecolor\": \"white\", \"showbackground\": true, \"ticks\": \"\", \"zerolinecolor\": \"white\"}, \"zaxis\": {\"backgroundcolor\": \"#E5ECF6\", \"gridcolor\": \"white\", \"gridwidth\": 2, \"linecolor\": \"white\", \"showbackground\": true, \"ticks\": \"\", \"zerolinecolor\": \"white\"}}, \"shapedefaults\": {\"line\": {\"color\": \"#2a3f5f\"}}, \"ternary\": {\"aaxis\": {\"gridcolor\": \"white\", \"linecolor\": \"white\", \"ticks\": \"\"}, \"baxis\": {\"gridcolor\": \"white\", \"linecolor\": \"white\", \"ticks\": \"\"}, \"bgcolor\": \"#E5ECF6\", \"caxis\": {\"gridcolor\": \"white\", \"linecolor\": \"white\", \"ticks\": \"\"}}, \"title\": {\"x\": 0.05}, \"xaxis\": {\"automargin\": true, \"gridcolor\": \"white\", \"linecolor\": \"white\", \"ticks\": \"\", \"title\": {\"standoff\": 15}, \"zerolinecolor\": \"white\", \"zerolinewidth\": 2}, \"yaxis\": {\"automargin\": true, \"gridcolor\": \"white\", \"linecolor\": \"white\", \"ticks\": \"\", \"title\": {\"standoff\": 15}, \"zerolinecolor\": \"white\", \"zerolinewidth\": 2}}}, \"xaxis\": {\"anchor\": \"y\", \"domain\": [0.0, 1.0], \"tickmode\": \"array\", \"ticktext\": [\"12/23\", \"12/30\", \"1/6\", \"1/13\", \"1/20\", \"1/27\", \"2/3\", \"2/10\", \"2/17\", \"2/24\", \"3/2\", \"3/9\", \"3/16\", \"3/23\", \"3/30\", \"4/6\", \"4/13\", \"4/20\", \"4/27\", \"5/4\", \"5/11\", \"5/18\", \"5/25\", \"6/1\", \"6/8\", \"6/15\", \"6/22\", \"6/29\", \"7/6\", \"7/13\", \"7/20\", \"7/27\", \"8/3\", \"8/10\", \"8/17\", \"8/24\", \"8/31\", \"9/7\", \"9/14\", \"9/21\", \"9/28\", \"10/5\", \"10/12\", \"10/19\", \"10/26\", \"11/2\", \"11/9\", \"11/16\", \"11/23\", \"11/30\", \"12/7\", \"12/14\"], \"tickvals\": [0, 1, 2, 3, 4, 5, 6, 7, 8, 9, 10, 11, 12, 13, 14, 15, 16, 17, 18, 19, 20, 21, 22, 23, 24, 25, 26, 27, 28, 29, 30, 31, 32, 33, 34, 35, 36, 37, 38, 39, 40, 41, 42, 43, 44, 45, 46, 47, 48, 49, 50, 51], \"title\": {\"text\": \"week\"}}, \"yaxis\": {\"anchor\": \"x\", \"domain\": [0.0, 1.0], \"title\": {\"text\": \"diff\"}}},\n",
       "                        {\"responsive\": true}\n",
       "                    ).then(function(){\n",
       "                            \n",
       "var gd = document.getElementById('12d8a4ea-1e33-4cb3-878f-6427afb6018e');\n",
       "var x = new MutationObserver(function (mutations, observer) {{\n",
       "        var display = window.getComputedStyle(gd).display;\n",
       "        if (!display || display === 'none') {{\n",
       "            console.log([gd, 'removed!']);\n",
       "            Plotly.purge(gd);\n",
       "            observer.disconnect();\n",
       "        }}\n",
       "}});\n",
       "\n",
       "// Listen for the removal of the full notebook cells\n",
       "var notebookContainer = gd.closest('#notebook-container');\n",
       "if (notebookContainer) {{\n",
       "    x.observe(notebookContainer, {childList: true});\n",
       "}}\n",
       "\n",
       "// Listen for the clearing of the current output cell\n",
       "var outputEl = gd.closest('.output');\n",
       "if (outputEl) {{\n",
       "    x.observe(outputEl, {childList: true});\n",
       "}}\n",
       "\n",
       "                        })\n",
       "                };\n",
       "                });\n",
       "            </script>\n",
       "        </div>"
      ]
     },
     "metadata": {},
     "output_type": "display_data"
    }
   ],
   "source": [
    "fig = px.line(total_diff2, x=\"week\", y=\"diff\", color='MCT_CAT_CD')\n",
    "\n",
    "fig.update_layout(\n",
    "    xaxis = dict(\n",
    "        tickmode = 'array',\n",
    "        tickvals = np.arange(0, len(test2)),\n",
    "        ticktext = test2\n",
    "    )\n",
    ")\n",
    "fig.show()"
   ]
  },
  {
   "cell_type": "code",
   "execution_count": 243,
   "metadata": {},
   "outputs": [
    {
     "data": {
      "application/vnd.plotly.v1+json": {
       "config": {
        "plotlyServerURL": "https://plot.ly"
       },
       "data": [
        {
         "hovertemplate": "MCT_CAT_CD=10<br>week=%{x}<br>diff=%{y}<extra></extra>",
         "legendgroup": "10",
         "line": {
          "color": "#636efa",
          "dash": "solid"
         },
         "mode": "lines",
         "name": "10",
         "orientation": "v",
         "showlegend": true,
         "type": "scatter",
         "x": [
          5,
          6,
          7,
          8,
          9,
          10,
          11,
          12,
          13,
          14,
          15,
          16,
          17,
          18,
          19,
          20,
          21,
          22
         ],
         "xaxis": "x",
         "y": [
          62.799666516726916,
          4.905449894604359,
          0.03542945462631053,
          -13.375527973409334,
          -9.637323214105095,
          -19.095970398143976,
          2.8619226268014586,
          21.038628067860742,
          -25.59714131399994,
          -14.415142625179499,
          -4.980782243015156,
          2.7044565410329966,
          -32.70186594085919,
          3.807908208382898,
          -2.48322053949056,
          3.5661888732226714,
          -43.671075286501164,
          -49.03326242752388
         ],
         "yaxis": "y"
        },
        {
         "hovertemplate": "MCT_CAT_CD=20<br>week=%{x}<br>diff=%{y}<extra></extra>",
         "legendgroup": "20",
         "line": {
          "color": "#EF553B",
          "dash": "solid"
         },
         "mode": "lines",
         "name": "20",
         "orientation": "v",
         "showlegend": true,
         "type": "scatter",
         "x": [
          5,
          6,
          7,
          8,
          9,
          10,
          11,
          12,
          13,
          14,
          15,
          16,
          17,
          18,
          19,
          20,
          21,
          22
         ],
         "xaxis": "x",
         "y": [
          -0.6834910123258169,
          3.612179034525468,
          6.052140939605238,
          6.2715247900433155,
          10.492578034116676,
          10.527864095443604,
          6.764231905302509,
          2.516125432217933,
          3.833110648651001,
          2.4993660481848394,
          2.441524088691196,
          -2.6424070998221083,
          -1.882050710793095,
          -0.0483146069291962,
          2.094487794001722,
          5.71485395479084,
          7.347351096251003,
          0.1646805562445337
         ],
         "yaxis": "y"
        },
        {
         "hovertemplate": "MCT_CAT_CD=21<br>week=%{x}<br>diff=%{y}<extra></extra>",
         "legendgroup": "21",
         "line": {
          "color": "#00cc96",
          "dash": "solid"
         },
         "mode": "lines",
         "name": "21",
         "orientation": "v",
         "showlegend": true,
         "type": "scatter",
         "x": [
          5,
          6,
          7,
          8,
          9,
          10,
          11,
          12,
          13,
          14,
          15,
          16,
          17,
          18,
          19,
          20,
          21,
          22
         ],
         "xaxis": "x",
         "y": [
          -0.5575835684982859,
          2.7825855155343113,
          -3.3872772340198907,
          -3.6371773795822016,
          -5.594530218071402,
          -8.000777789213556,
          -5.7866003115785,
          -3.3257164889205626,
          -9.593019583761517,
          -9.639233453893146,
          -5.137793872942641,
          -6.3706005711829725,
          -1.5627024239865719,
          -2.419646342136325,
          2.0311996799963126,
          2.113531836750713,
          0.7654836748241713,
          0.024810960765449863
         ],
         "yaxis": "y"
        },
        {
         "hovertemplate": "MCT_CAT_CD=22<br>week=%{x}<br>diff=%{y}<extra></extra>",
         "legendgroup": "22",
         "line": {
          "color": "#ab63fa",
          "dash": "solid"
         },
         "mode": "lines",
         "name": "22",
         "orientation": "v",
         "showlegend": true,
         "type": "scatter",
         "x": [
          5,
          6,
          7,
          8,
          9,
          10,
          11,
          12,
          13,
          14,
          15,
          16,
          17,
          18,
          19,
          20,
          21,
          22
         ],
         "xaxis": "x",
         "y": [
          2.160667265448531,
          7.816377822205119,
          -1.8563558696483895,
          2.2191987594111886,
          1.513051676480984,
          5.89053087724113,
          2.0981845522928246,
          8.049075266328892,
          7.283176712244632,
          8.135201705579686,
          7.940097989326556,
          2.2333909571714123,
          13.44644669436305,
          8.862668294805498,
          3.141567261691673,
          8.098668093935064,
          3.863390664493025,
          4.984739509132037
         ],
         "yaxis": "y"
        },
        {
         "hovertemplate": "MCT_CAT_CD=30<br>week=%{x}<br>diff=%{y}<extra></extra>",
         "legendgroup": "30",
         "line": {
          "color": "#FFA15A",
          "dash": "solid"
         },
         "mode": "lines",
         "name": "30",
         "orientation": "v",
         "showlegend": true,
         "type": "scatter",
         "x": [
          5,
          6,
          7,
          8,
          9,
          10,
          11,
          12,
          13,
          14,
          15,
          16,
          17,
          18,
          19,
          20,
          21,
          22
         ],
         "xaxis": "x",
         "y": [
          475.17489495798316,
          303.54505498018153,
          191.02501037540083,
          196.20589003336715,
          176.94262498934143,
          260.1597402597402,
          52.40851926151464,
          -74.19725888553535,
          102.12966341067596,
          224.37444484149268,
          25.520808455016777,
          204.33421145064978,
          277.1698787129284,
          148.33129075616444,
          6.812184571016587,
          41.39233808966111,
          -29.76927524729723,
          104.2434967884277
         ],
         "yaxis": "y"
        },
        {
         "hovertemplate": "MCT_CAT_CD=31<br>week=%{x}<br>diff=%{y}<extra></extra>",
         "legendgroup": "31",
         "line": {
          "color": "#19d3f3",
          "dash": "solid"
         },
         "mode": "lines",
         "name": "31",
         "orientation": "v",
         "showlegend": true,
         "type": "scatter",
         "x": [
          5,
          6,
          7,
          8,
          9,
          10,
          11,
          12,
          13,
          14,
          15,
          16,
          17,
          18,
          19,
          20,
          21,
          22
         ],
         "xaxis": "x",
         "y": [
          -101.75757575757575,
          10.212997612174348,
          -92.74826950341469,
          -62.067828428163864,
          -8.679251587036418,
          58.916507684154766,
          66.16559839660269,
          -73.30042234002772,
          15.608528847572671,
          -2.961640403747026,
          -88.4597668800863,
          -41.97535970253813,
          -11.874509640611336,
          67.40224521539187,
          -132.8929755226925,
          51.89893215502164,
          -56.70129140932062,
          -22.71963294921042
         ],
         "yaxis": "y"
        },
        {
         "hovertemplate": "MCT_CAT_CD=32<br>week=%{x}<br>diff=%{y}<extra></extra>",
         "legendgroup": "32",
         "line": {
          "color": "#FF6692",
          "dash": "solid"
         },
         "mode": "lines",
         "name": "32",
         "orientation": "v",
         "showlegend": true,
         "type": "scatter",
         "x": [
          5,
          6,
          7,
          8,
          9,
          10,
          11,
          12,
          13,
          14,
          15,
          16,
          17,
          18,
          19,
          20,
          21,
          22
         ],
         "xaxis": "x",
         "y": [
          8.874013357619916,
          41.7295626457981,
          -9.207860931617375,
          -3.162783043559841,
          25.86963149339107,
          3.883964152803827,
          -8.745175151264434,
          12.800291587080977,
          -2.0497546201750936,
          11.482466922719425,
          -1.438443728330867,
          8.729788446395133,
          -1.5923197645727782,
          -70.16663446714672,
          -42.59701399185525,
          -66.87999897133977,
          -37.221727460646505,
          -45.13984048721835
         ],
         "yaxis": "y"
        },
        {
         "hovertemplate": "MCT_CAT_CD=33<br>week=%{x}<br>diff=%{y}<extra></extra>",
         "legendgroup": "33",
         "line": {
          "color": "#B6E880",
          "dash": "solid"
         },
         "mode": "lines",
         "name": "33",
         "orientation": "v",
         "showlegend": true,
         "type": "scatter",
         "x": [
          5,
          6,
          7,
          8,
          9,
          10,
          11,
          12,
          13,
          14,
          15,
          16,
          17,
          18,
          19,
          20,
          21,
          22
         ],
         "xaxis": "x",
         "y": [
          1.7035794042324852,
          3.762470060550555,
          2.3843707148420776,
          2.067560213334403,
          3.1278052406685646,
          1.7744507420652766,
          2.100303550918568,
          -0.027668730833532607,
          0.8115659468144472,
          1.4934870623821155,
          -0.28921610100837114,
          -2.2529736660759383,
          -2.849378684764467,
          -4.507377071403958,
          -4.4396453046160005,
          -4.7524142795449364,
          -5.7327416192431215,
          -7.805756448020382
         ],
         "yaxis": "y"
        },
        {
         "hovertemplate": "MCT_CAT_CD=34<br>week=%{x}<br>diff=%{y}<extra></extra>",
         "legendgroup": "34",
         "line": {
          "color": "#FF97FF",
          "dash": "solid"
         },
         "mode": "lines",
         "name": "34",
         "orientation": "v",
         "showlegend": true,
         "type": "scatter",
         "x": [
          5,
          6,
          7,
          8,
          9,
          10,
          11,
          12,
          13,
          14,
          15,
          16,
          17,
          18,
          19,
          20,
          21,
          22
         ],
         "xaxis": "x",
         "y": [
          53.67676821747442,
          -22.186555836483507,
          10.52818936129998,
          -9.309608974771557,
          16.230052570058874,
          25.834434506357752,
          -8.594555584896504,
          -3.4519830110693235,
          -47.592383112436515,
          33.57871180044514,
          8.975184550876982,
          29.3264294361314,
          -20.246586396176482,
          -23.753066988769348,
          12.018156116361943,
          8.542053276055597,
          -34.52751147272187,
          -6.223310859129569
         ],
         "yaxis": "y"
        },
        {
         "hovertemplate": "MCT_CAT_CD=35<br>week=%{x}<br>diff=%{y}<extra></extra>",
         "legendgroup": "35",
         "line": {
          "color": "#FECB52",
          "dash": "solid"
         },
         "mode": "lines",
         "name": "35",
         "orientation": "v",
         "showlegend": true,
         "type": "scatter",
         "x": [
          5,
          6,
          7,
          8,
          9,
          10,
          11,
          12,
          13,
          14,
          15,
          16,
          17,
          18,
          19,
          20,
          21,
          22
         ],
         "xaxis": "x",
         "y": [
          187.948220343856,
          46.07272687725455,
          52.973243219299235,
          38.64223544606557,
          66.38091590898372,
          42.734121017482494,
          -32.85321393782394,
          -2.084629134266436,
          37.505595620321685,
          20.09521277962375,
          3.347861718717354,
          -23.079868374960512,
          -6.322463873887017,
          40.99993525562462,
          -23.006325815537082,
          26.282401582252305,
          16.395323192783792,
          -0.5634554274360539
         ],
         "yaxis": "y"
        },
        {
         "hovertemplate": "MCT_CAT_CD=40<br>week=%{x}<br>diff=%{y}<extra></extra>",
         "legendgroup": "40",
         "line": {
          "color": "#636efa",
          "dash": "solid"
         },
         "mode": "lines",
         "name": "40",
         "orientation": "v",
         "showlegend": true,
         "type": "scatter",
         "x": [
          5,
          6,
          7,
          8,
          9,
          10,
          11,
          12,
          13,
          14,
          15,
          16,
          17,
          18,
          19,
          20,
          21,
          22
         ],
         "xaxis": "x",
         "y": [
          -2.523315063103148,
          -4.9551139418977534,
          -0.563420446058263,
          -0.14683044794730904,
          -2.1997001270020924,
          -1.3704465909798422,
          -0.3856073233526516,
          0.21502341319446927,
          0.3245916032075016,
          -0.410587234147183,
          0.9741764722996109,
          1.7671453626216511,
          1.7355406649525094,
          3.246495804260846,
          3.098395572790107,
          2.7839671646877626,
          2.674633317308743,
          5.020847737116544
         ],
         "yaxis": "y"
        },
        {
         "hovertemplate": "MCT_CAT_CD=42<br>week=%{x}<br>diff=%{y}<extra></extra>",
         "legendgroup": "42",
         "line": {
          "color": "#EF553B",
          "dash": "solid"
         },
         "mode": "lines",
         "name": "42",
         "orientation": "v",
         "showlegend": true,
         "type": "scatter",
         "x": [
          5,
          6,
          7,
          8,
          9,
          10,
          11,
          12,
          13,
          14,
          15,
          16,
          17,
          18,
          19,
          20,
          21,
          22
         ],
         "xaxis": "x",
         "y": [
          8.64398085162287,
          16.501404164136538,
          7.569197563346634,
          14.87034434827197,
          13.827516356469701,
          23.266198688072294,
          10.939970153249718,
          9.123155267766563,
          10.459823006361965,
          5.188437073269043,
          -1.0698251290971683,
          3.327491433267042,
          11.57445603340912,
          3.195610642632488,
          5.614881474639041,
          5.061324585396449,
          2.8918374734920036,
          -0.8042762653571671
         ],
         "yaxis": "y"
        },
        {
         "hovertemplate": "MCT_CAT_CD=43<br>week=%{x}<br>diff=%{y}<extra></extra>",
         "legendgroup": "43",
         "line": {
          "color": "#00cc96",
          "dash": "solid"
         },
         "mode": "lines",
         "name": "43",
         "orientation": "v",
         "showlegend": true,
         "type": "scatter",
         "x": [
          5,
          6,
          7,
          8,
          9,
          10,
          11,
          12,
          13,
          14,
          15,
          16,
          17,
          18,
          19,
          20,
          21,
          22
         ],
         "xaxis": "x",
         "y": [
          -4.376104176721412,
          52.66041340081517,
          -1.5868163066391503,
          45.769360797560495,
          283.4819270172511,
          -12.729353699052467,
          68.09518811849117,
          -1.0819130711478522,
          -37.568013630440134,
          61.393875177222895,
          -46.815413859801225,
          14.237373748956514,
          11.309959924593628,
          -22.8545636751185,
          5.855127949965919,
          26.849010520745722,
          -12.671936764035323,
          -34.925445515201645
         ],
         "yaxis": "y"
        },
        {
         "hovertemplate": "MCT_CAT_CD=44<br>week=%{x}<br>diff=%{y}<extra></extra>",
         "legendgroup": "44",
         "line": {
          "color": "#ab63fa",
          "dash": "solid"
         },
         "mode": "lines",
         "name": "44",
         "orientation": "v",
         "showlegend": true,
         "type": "scatter",
         "x": [
          5,
          6,
          7,
          8,
          9,
          10,
          11,
          12,
          13,
          14,
          15,
          16,
          17,
          18,
          19,
          20,
          21,
          22
         ],
         "xaxis": "x",
         "y": [
          13.455486788442947,
          10.966011857271674,
          9.699064573482367,
          5.395300817249854,
          37.407040274677094,
          25.485813453724504,
          5.0306242796127165,
          15.644174937202884,
          16.650590962352332,
          14.354939520068818,
          14.541864575367953,
          0.6818830771034143,
          6.551706272925649,
          6.100635905946881,
          10.513496486500458,
          4.01373850824379,
          -4.329857882661656,
          -16.244693177001267
         ],
         "yaxis": "y"
        },
        {
         "hovertemplate": "MCT_CAT_CD=50<br>week=%{x}<br>diff=%{y}<extra></extra>",
         "legendgroup": "50",
         "line": {
          "color": "#FFA15A",
          "dash": "solid"
         },
         "mode": "lines",
         "name": "50",
         "orientation": "v",
         "showlegend": true,
         "type": "scatter",
         "x": [
          5,
          6,
          7,
          8,
          9,
          10,
          11,
          12,
          13,
          14,
          15,
          16,
          17,
          18,
          19,
          20,
          21,
          22
         ],
         "xaxis": "x",
         "y": [
          -4.683361755330534,
          5.311531322296602,
          -0.5823407259554685,
          1.1713349148148744,
          7.7275754257311355,
          2.8705515883828205,
          6.824483690424511,
          3.928238646562871,
          3.844260258662885,
          11.537230385869567,
          6.298216170024215,
          4.018440456803884,
          4.4545497290940474,
          4.3571946731936535,
          5.172967284140814,
          6.143525226844773,
          3.684721866966516,
          3.0215780838600814
         ],
         "yaxis": "y"
        },
        {
         "hovertemplate": "MCT_CAT_CD=52<br>week=%{x}<br>diff=%{y}<extra></extra>",
         "legendgroup": "52",
         "line": {
          "color": "#19d3f3",
          "dash": "solid"
         },
         "mode": "lines",
         "name": "52",
         "orientation": "v",
         "showlegend": true,
         "type": "scatter",
         "x": [
          5,
          6,
          7,
          8,
          9,
          10,
          11,
          12,
          13,
          14,
          15,
          16,
          17,
          18,
          19,
          20,
          21,
          22
         ],
         "xaxis": "x",
         "y": [
          -0.48542944707120217,
          0.6298749829592873,
          -0.22837101881615318,
          0.15774193851655127,
          4.704235668919335,
          1.6846105472252564,
          1.576728074755505,
          1.2421723871961952,
          1.0658212161391756,
          2.378070575206344,
          0.914490140373756,
          0.7755973386769739,
          0.5679688613746166,
          1.0577957938207607,
          0.20991271736511052,
          0.7551082271640368,
          0.4249376543132559,
          0.2564522560323219
         ],
         "yaxis": "y"
        },
        {
         "hovertemplate": "MCT_CAT_CD=60<br>week=%{x}<br>diff=%{y}<extra></extra>",
         "legendgroup": "60",
         "line": {
          "color": "#FF6692",
          "dash": "solid"
         },
         "mode": "lines",
         "name": "60",
         "orientation": "v",
         "showlegend": true,
         "type": "scatter",
         "x": [
          5,
          6,
          7,
          8,
          9,
          10,
          11,
          12,
          13,
          14,
          15,
          16,
          17,
          18,
          19,
          20,
          21,
          22
         ],
         "xaxis": "x",
         "y": [
          46.55350668186054,
          -112.43363182907189,
          73.78792317863156,
          -119.41593724194877,
          -345.62105025918413,
          -157.05975109685141,
          -30.931031757130654,
          -168.88280923035228,
          -156.5001699729139,
          -248.80925826463186,
          -95.25836813512478,
          -146.2077574415424,
          66.68934108527128,
          -114.4745987281961,
          -222.5334365553344,
          69.13599603812054,
          -115.55057717507873,
          -116.27321498175115
         ],
         "yaxis": "y"
        },
        {
         "hovertemplate": "MCT_CAT_CD=62<br>week=%{x}<br>diff=%{y}<extra></extra>",
         "legendgroup": "62",
         "line": {
          "color": "#B6E880",
          "dash": "solid"
         },
         "mode": "lines",
         "name": "62",
         "orientation": "v",
         "showlegend": true,
         "type": "scatter",
         "x": [
          5,
          6,
          7,
          8,
          9,
          10,
          11,
          12,
          13,
          14,
          15,
          16,
          17,
          18,
          19,
          20,
          21,
          22
         ],
         "xaxis": "x",
         "y": [
          -4.420890964022121,
          12.686039563977708,
          5.914467522845104,
          8.843750119107998,
          16.807630964122872,
          8.945320927402062,
          10.63165198570045,
          7.895128387954038,
          11.75665112425214,
          7.0540391910759865,
          8.858767655062124,
          5.8610775061515525,
          6.983396945100736,
          3.9683698951665676,
          5.969546401229028,
          3.647953890369383,
          6.227984021734802,
          4.2392309006382085
         ],
         "yaxis": "y"
        },
        {
         "hovertemplate": "MCT_CAT_CD=70<br>week=%{x}<br>diff=%{y}<extra></extra>",
         "legendgroup": "70",
         "line": {
          "color": "#FF97FF",
          "dash": "solid"
         },
         "mode": "lines",
         "name": "70",
         "orientation": "v",
         "showlegend": true,
         "type": "scatter",
         "x": [
          5,
          6,
          7,
          8,
          9,
          10,
          11,
          12,
          13,
          14,
          15,
          16,
          17,
          18,
          19,
          20,
          21,
          22
         ],
         "xaxis": "x",
         "y": [
          -6.876908670107575,
          -0.2806896635118292,
          2.8164468858600387,
          -6.714193526636407,
          -2.087706813086214,
          -7.1644093442803225,
          -13.579569921295345,
          -13.222181723630307,
          -13.191219187518776,
          -1.8190195514709444,
          -6.895138562838696,
          -4.004118833148588,
          -11.973716340544499,
          7.709219098389497,
          -1.9434274581909676,
          -3.0460955681337936,
          -7.983333431143009,
          -9.097925694925635
         ],
         "yaxis": "y"
        },
        {
         "hovertemplate": "MCT_CAT_CD=71<br>week=%{x}<br>diff=%{y}<extra></extra>",
         "legendgroup": "71",
         "line": {
          "color": "#FECB52",
          "dash": "solid"
         },
         "mode": "lines",
         "name": "71",
         "orientation": "v",
         "showlegend": true,
         "type": "scatter",
         "x": [
          5,
          6,
          7,
          8,
          9,
          10,
          11,
          12,
          13,
          14,
          15,
          16,
          17,
          18,
          19,
          20,
          21,
          22
         ],
         "xaxis": "x",
         "y": [
          3.4435523351053448,
          14.226356257965648,
          6.735746769899791,
          2.2246481765681168,
          12.4152896332198,
          2.1541877545653563,
          4.545643587709726,
          3.0008715951419305,
          -3.8599303279921813,
          9.12921082962663,
          4.341145174467947,
          3.7199146820730533,
          3.6877878520789196,
          6.8271627783908855,
          6.770945696606347,
          10.592936278111175,
          14.22624277988377,
          1.676472707119224
         ],
         "yaxis": "y"
        },
        {
         "hovertemplate": "MCT_CAT_CD=80<br>week=%{x}<br>diff=%{y}<extra></extra>",
         "legendgroup": "80",
         "line": {
          "color": "#636efa",
          "dash": "solid"
         },
         "mode": "lines",
         "name": "80",
         "orientation": "v",
         "showlegend": true,
         "type": "scatter",
         "x": [
          5,
          6,
          7,
          8,
          9,
          10,
          11,
          12,
          13,
          14,
          15,
          16,
          17,
          18,
          19,
          20,
          21,
          22
         ],
         "xaxis": "x",
         "y": [
          -1.292840865455819,
          -1.139929791513696,
          -0.7463706361284199,
          -2.117850665720171,
          -3.1081108171289795,
          -2.2468698210429174,
          -2.114185799197031,
          -2.1487639851103904,
          -1.7201493196095665,
          -1.4313230298479223,
          -1.4653117466240086,
          -0.8003067686083725,
          -0.6521163731652191,
          -0.7865962940594002,
          -0.2125707807667201,
          -0.1411132838838114,
          0.12611412390766574,
          0.3472562606136247
         ],
         "yaxis": "y"
        },
        {
         "hovertemplate": "MCT_CAT_CD=81<br>week=%{x}<br>diff=%{y}<extra></extra>",
         "legendgroup": "81",
         "line": {
          "color": "#EF553B",
          "dash": "solid"
         },
         "mode": "lines",
         "name": "81",
         "orientation": "v",
         "showlegend": true,
         "type": "scatter",
         "x": [
          5,
          6,
          7,
          8,
          9,
          10,
          11,
          12,
          13,
          14,
          15,
          16,
          17,
          18,
          19,
          20,
          21,
          22
         ],
         "xaxis": "x",
         "y": [
          -11.994779894802752,
          -1.5399616483845016,
          0.8458846541626031,
          1.321837151530616,
          1.9593557887250412,
          1.6556563335200156,
          1.5253134591821098,
          1.7607698843785968,
          1.3027017353975499,
          1.609585264163611,
          1.5254732562630622,
          1.6904076076881278,
          1.293474180591689,
          1.4817398150093322,
          2.3613292820533047,
          2.9025040871103283,
          4.108163383426961,
          1.6957861448865454
         ],
         "yaxis": "y"
        },
        {
         "hovertemplate": "MCT_CAT_CD=92<br>week=%{x}<br>diff=%{y}<extra></extra>",
         "legendgroup": "92",
         "line": {
          "color": "#00cc96",
          "dash": "solid"
         },
         "mode": "lines",
         "name": "92",
         "orientation": "v",
         "showlegend": true,
         "type": "scatter",
         "x": [
          5,
          6,
          7,
          8,
          9,
          10,
          11,
          12,
          13,
          14,
          15,
          16,
          17,
          18,
          19,
          20,
          21,
          22
         ],
         "xaxis": "x",
         "y": [
          -5.550905130393815,
          4.652874611999351,
          2.956360626921331,
          1.157219197523741,
          4.27229417479462,
          -0.12005721653771673,
          2.136358982559024,
          3.8223448326467313,
          4.640591847670436,
          2.9038439030785135,
          5.92183386234019,
          5.469679622949059,
          4.101813195638179,
          -0.6691960607869092,
          3.822707470358935,
          3.702772056554032,
          1.3069349176209926,
          -5.00366340637267
         ],
         "yaxis": "y"
        }
       ],
       "layout": {
        "legend": {
         "title": {
          "text": "MCT_CAT_CD"
         },
         "tracegroupgap": 0
        },
        "margin": {
         "t": 60
        },
        "template": {
         "data": {
          "bar": [
           {
            "error_x": {
             "color": "#2a3f5f"
            },
            "error_y": {
             "color": "#2a3f5f"
            },
            "marker": {
             "line": {
              "color": "#E5ECF6",
              "width": 0.5
             }
            },
            "type": "bar"
           }
          ],
          "barpolar": [
           {
            "marker": {
             "line": {
              "color": "#E5ECF6",
              "width": 0.5
             }
            },
            "type": "barpolar"
           }
          ],
          "carpet": [
           {
            "aaxis": {
             "endlinecolor": "#2a3f5f",
             "gridcolor": "white",
             "linecolor": "white",
             "minorgridcolor": "white",
             "startlinecolor": "#2a3f5f"
            },
            "baxis": {
             "endlinecolor": "#2a3f5f",
             "gridcolor": "white",
             "linecolor": "white",
             "minorgridcolor": "white",
             "startlinecolor": "#2a3f5f"
            },
            "type": "carpet"
           }
          ],
          "choropleth": [
           {
            "colorbar": {
             "outlinewidth": 0,
             "ticks": ""
            },
            "type": "choropleth"
           }
          ],
          "contour": [
           {
            "colorbar": {
             "outlinewidth": 0,
             "ticks": ""
            },
            "colorscale": [
             [
              0,
              "#0d0887"
             ],
             [
              0.1111111111111111,
              "#46039f"
             ],
             [
              0.2222222222222222,
              "#7201a8"
             ],
             [
              0.3333333333333333,
              "#9c179e"
             ],
             [
              0.4444444444444444,
              "#bd3786"
             ],
             [
              0.5555555555555556,
              "#d8576b"
             ],
             [
              0.6666666666666666,
              "#ed7953"
             ],
             [
              0.7777777777777778,
              "#fb9f3a"
             ],
             [
              0.8888888888888888,
              "#fdca26"
             ],
             [
              1,
              "#f0f921"
             ]
            ],
            "type": "contour"
           }
          ],
          "contourcarpet": [
           {
            "colorbar": {
             "outlinewidth": 0,
             "ticks": ""
            },
            "type": "contourcarpet"
           }
          ],
          "heatmap": [
           {
            "colorbar": {
             "outlinewidth": 0,
             "ticks": ""
            },
            "colorscale": [
             [
              0,
              "#0d0887"
             ],
             [
              0.1111111111111111,
              "#46039f"
             ],
             [
              0.2222222222222222,
              "#7201a8"
             ],
             [
              0.3333333333333333,
              "#9c179e"
             ],
             [
              0.4444444444444444,
              "#bd3786"
             ],
             [
              0.5555555555555556,
              "#d8576b"
             ],
             [
              0.6666666666666666,
              "#ed7953"
             ],
             [
              0.7777777777777778,
              "#fb9f3a"
             ],
             [
              0.8888888888888888,
              "#fdca26"
             ],
             [
              1,
              "#f0f921"
             ]
            ],
            "type": "heatmap"
           }
          ],
          "heatmapgl": [
           {
            "colorbar": {
             "outlinewidth": 0,
             "ticks": ""
            },
            "colorscale": [
             [
              0,
              "#0d0887"
             ],
             [
              0.1111111111111111,
              "#46039f"
             ],
             [
              0.2222222222222222,
              "#7201a8"
             ],
             [
              0.3333333333333333,
              "#9c179e"
             ],
             [
              0.4444444444444444,
              "#bd3786"
             ],
             [
              0.5555555555555556,
              "#d8576b"
             ],
             [
              0.6666666666666666,
              "#ed7953"
             ],
             [
              0.7777777777777778,
              "#fb9f3a"
             ],
             [
              0.8888888888888888,
              "#fdca26"
             ],
             [
              1,
              "#f0f921"
             ]
            ],
            "type": "heatmapgl"
           }
          ],
          "histogram": [
           {
            "marker": {
             "colorbar": {
              "outlinewidth": 0,
              "ticks": ""
             }
            },
            "type": "histogram"
           }
          ],
          "histogram2d": [
           {
            "colorbar": {
             "outlinewidth": 0,
             "ticks": ""
            },
            "colorscale": [
             [
              0,
              "#0d0887"
             ],
             [
              0.1111111111111111,
              "#46039f"
             ],
             [
              0.2222222222222222,
              "#7201a8"
             ],
             [
              0.3333333333333333,
              "#9c179e"
             ],
             [
              0.4444444444444444,
              "#bd3786"
             ],
             [
              0.5555555555555556,
              "#d8576b"
             ],
             [
              0.6666666666666666,
              "#ed7953"
             ],
             [
              0.7777777777777778,
              "#fb9f3a"
             ],
             [
              0.8888888888888888,
              "#fdca26"
             ],
             [
              1,
              "#f0f921"
             ]
            ],
            "type": "histogram2d"
           }
          ],
          "histogram2dcontour": [
           {
            "colorbar": {
             "outlinewidth": 0,
             "ticks": ""
            },
            "colorscale": [
             [
              0,
              "#0d0887"
             ],
             [
              0.1111111111111111,
              "#46039f"
             ],
             [
              0.2222222222222222,
              "#7201a8"
             ],
             [
              0.3333333333333333,
              "#9c179e"
             ],
             [
              0.4444444444444444,
              "#bd3786"
             ],
             [
              0.5555555555555556,
              "#d8576b"
             ],
             [
              0.6666666666666666,
              "#ed7953"
             ],
             [
              0.7777777777777778,
              "#fb9f3a"
             ],
             [
              0.8888888888888888,
              "#fdca26"
             ],
             [
              1,
              "#f0f921"
             ]
            ],
            "type": "histogram2dcontour"
           }
          ],
          "mesh3d": [
           {
            "colorbar": {
             "outlinewidth": 0,
             "ticks": ""
            },
            "type": "mesh3d"
           }
          ],
          "parcoords": [
           {
            "line": {
             "colorbar": {
              "outlinewidth": 0,
              "ticks": ""
             }
            },
            "type": "parcoords"
           }
          ],
          "pie": [
           {
            "automargin": true,
            "type": "pie"
           }
          ],
          "scatter": [
           {
            "marker": {
             "colorbar": {
              "outlinewidth": 0,
              "ticks": ""
             }
            },
            "type": "scatter"
           }
          ],
          "scatter3d": [
           {
            "line": {
             "colorbar": {
              "outlinewidth": 0,
              "ticks": ""
             }
            },
            "marker": {
             "colorbar": {
              "outlinewidth": 0,
              "ticks": ""
             }
            },
            "type": "scatter3d"
           }
          ],
          "scattercarpet": [
           {
            "marker": {
             "colorbar": {
              "outlinewidth": 0,
              "ticks": ""
             }
            },
            "type": "scattercarpet"
           }
          ],
          "scattergeo": [
           {
            "marker": {
             "colorbar": {
              "outlinewidth": 0,
              "ticks": ""
             }
            },
            "type": "scattergeo"
           }
          ],
          "scattergl": [
           {
            "marker": {
             "colorbar": {
              "outlinewidth": 0,
              "ticks": ""
             }
            },
            "type": "scattergl"
           }
          ],
          "scattermapbox": [
           {
            "marker": {
             "colorbar": {
              "outlinewidth": 0,
              "ticks": ""
             }
            },
            "type": "scattermapbox"
           }
          ],
          "scatterpolar": [
           {
            "marker": {
             "colorbar": {
              "outlinewidth": 0,
              "ticks": ""
             }
            },
            "type": "scatterpolar"
           }
          ],
          "scatterpolargl": [
           {
            "marker": {
             "colorbar": {
              "outlinewidth": 0,
              "ticks": ""
             }
            },
            "type": "scatterpolargl"
           }
          ],
          "scatterternary": [
           {
            "marker": {
             "colorbar": {
              "outlinewidth": 0,
              "ticks": ""
             }
            },
            "type": "scatterternary"
           }
          ],
          "surface": [
           {
            "colorbar": {
             "outlinewidth": 0,
             "ticks": ""
            },
            "colorscale": [
             [
              0,
              "#0d0887"
             ],
             [
              0.1111111111111111,
              "#46039f"
             ],
             [
              0.2222222222222222,
              "#7201a8"
             ],
             [
              0.3333333333333333,
              "#9c179e"
             ],
             [
              0.4444444444444444,
              "#bd3786"
             ],
             [
              0.5555555555555556,
              "#d8576b"
             ],
             [
              0.6666666666666666,
              "#ed7953"
             ],
             [
              0.7777777777777778,
              "#fb9f3a"
             ],
             [
              0.8888888888888888,
              "#fdca26"
             ],
             [
              1,
              "#f0f921"
             ]
            ],
            "type": "surface"
           }
          ],
          "table": [
           {
            "cells": {
             "fill": {
              "color": "#EBF0F8"
             },
             "line": {
              "color": "white"
             }
            },
            "header": {
             "fill": {
              "color": "#C8D4E3"
             },
             "line": {
              "color": "white"
             }
            },
            "type": "table"
           }
          ]
         },
         "layout": {
          "annotationdefaults": {
           "arrowcolor": "#2a3f5f",
           "arrowhead": 0,
           "arrowwidth": 1
          },
          "coloraxis": {
           "colorbar": {
            "outlinewidth": 0,
            "ticks": ""
           }
          },
          "colorscale": {
           "diverging": [
            [
             0,
             "#8e0152"
            ],
            [
             0.1,
             "#c51b7d"
            ],
            [
             0.2,
             "#de77ae"
            ],
            [
             0.3,
             "#f1b6da"
            ],
            [
             0.4,
             "#fde0ef"
            ],
            [
             0.5,
             "#f7f7f7"
            ],
            [
             0.6,
             "#e6f5d0"
            ],
            [
             0.7,
             "#b8e186"
            ],
            [
             0.8,
             "#7fbc41"
            ],
            [
             0.9,
             "#4d9221"
            ],
            [
             1,
             "#276419"
            ]
           ],
           "sequential": [
            [
             0,
             "#0d0887"
            ],
            [
             0.1111111111111111,
             "#46039f"
            ],
            [
             0.2222222222222222,
             "#7201a8"
            ],
            [
             0.3333333333333333,
             "#9c179e"
            ],
            [
             0.4444444444444444,
             "#bd3786"
            ],
            [
             0.5555555555555556,
             "#d8576b"
            ],
            [
             0.6666666666666666,
             "#ed7953"
            ],
            [
             0.7777777777777778,
             "#fb9f3a"
            ],
            [
             0.8888888888888888,
             "#fdca26"
            ],
            [
             1,
             "#f0f921"
            ]
           ],
           "sequentialminus": [
            [
             0,
             "#0d0887"
            ],
            [
             0.1111111111111111,
             "#46039f"
            ],
            [
             0.2222222222222222,
             "#7201a8"
            ],
            [
             0.3333333333333333,
             "#9c179e"
            ],
            [
             0.4444444444444444,
             "#bd3786"
            ],
            [
             0.5555555555555556,
             "#d8576b"
            ],
            [
             0.6666666666666666,
             "#ed7953"
            ],
            [
             0.7777777777777778,
             "#fb9f3a"
            ],
            [
             0.8888888888888888,
             "#fdca26"
            ],
            [
             1,
             "#f0f921"
            ]
           ]
          },
          "colorway": [
           "#636efa",
           "#EF553B",
           "#00cc96",
           "#ab63fa",
           "#FFA15A",
           "#19d3f3",
           "#FF6692",
           "#B6E880",
           "#FF97FF",
           "#FECB52"
          ],
          "font": {
           "color": "#2a3f5f"
          },
          "geo": {
           "bgcolor": "white",
           "lakecolor": "white",
           "landcolor": "#E5ECF6",
           "showlakes": true,
           "showland": true,
           "subunitcolor": "white"
          },
          "hoverlabel": {
           "align": "left"
          },
          "hovermode": "closest",
          "mapbox": {
           "style": "light"
          },
          "paper_bgcolor": "white",
          "plot_bgcolor": "#E5ECF6",
          "polar": {
           "angularaxis": {
            "gridcolor": "white",
            "linecolor": "white",
            "ticks": ""
           },
           "bgcolor": "#E5ECF6",
           "radialaxis": {
            "gridcolor": "white",
            "linecolor": "white",
            "ticks": ""
           }
          },
          "scene": {
           "xaxis": {
            "backgroundcolor": "#E5ECF6",
            "gridcolor": "white",
            "gridwidth": 2,
            "linecolor": "white",
            "showbackground": true,
            "ticks": "",
            "zerolinecolor": "white"
           },
           "yaxis": {
            "backgroundcolor": "#E5ECF6",
            "gridcolor": "white",
            "gridwidth": 2,
            "linecolor": "white",
            "showbackground": true,
            "ticks": "",
            "zerolinecolor": "white"
           },
           "zaxis": {
            "backgroundcolor": "#E5ECF6",
            "gridcolor": "white",
            "gridwidth": 2,
            "linecolor": "white",
            "showbackground": true,
            "ticks": "",
            "zerolinecolor": "white"
           }
          },
          "shapedefaults": {
           "line": {
            "color": "#2a3f5f"
           }
          },
          "ternary": {
           "aaxis": {
            "gridcolor": "white",
            "linecolor": "white",
            "ticks": ""
           },
           "baxis": {
            "gridcolor": "white",
            "linecolor": "white",
            "ticks": ""
           },
           "bgcolor": "#E5ECF6",
           "caxis": {
            "gridcolor": "white",
            "linecolor": "white",
            "ticks": ""
           }
          },
          "title": {
           "x": 0.05
          },
          "xaxis": {
           "automargin": true,
           "gridcolor": "white",
           "linecolor": "white",
           "ticks": "",
           "title": {
            "standoff": 15
           },
           "zerolinecolor": "white",
           "zerolinewidth": 2
          },
          "yaxis": {
           "automargin": true,
           "gridcolor": "white",
           "linecolor": "white",
           "ticks": "",
           "title": {
            "standoff": 15
           },
           "zerolinecolor": "white",
           "zerolinewidth": 2
          }
         }
        },
        "xaxis": {
         "anchor": "y",
         "domain": [
          0,
          1
         ],
         "tickmode": "array",
         "ticktext": [
          "12/23",
          "12/30",
          "1/6",
          "1/13",
          "1/20",
          "1/27",
          "2/3",
          "2/10",
          "2/17",
          "2/24",
          "3/2",
          "3/9",
          "3/16",
          "3/23",
          "3/30",
          "4/6",
          "4/13",
          "4/20",
          "4/27",
          "5/4",
          "5/11",
          "5/18",
          "5/25",
          "6/1",
          "6/8",
          "6/15",
          "6/22",
          "6/29",
          "7/6",
          "7/13",
          "7/20",
          "7/27",
          "8/3",
          "8/10",
          "8/17",
          "8/24",
          "8/31",
          "9/7",
          "9/14",
          "9/21",
          "9/28",
          "10/5",
          "10/12",
          "10/19",
          "10/26",
          "11/2",
          "11/9",
          "11/16",
          "11/23",
          "11/30",
          "12/7",
          "12/14"
         ],
         "tickvals": [
          0,
          1,
          2,
          3,
          4,
          5,
          6,
          7,
          8,
          9,
          10,
          11,
          12,
          13,
          14,
          15,
          16,
          17,
          18,
          19,
          20,
          21,
          22,
          23,
          24,
          25,
          26,
          27,
          28,
          29,
          30,
          31,
          32,
          33,
          34,
          35,
          36,
          37,
          38,
          39,
          40,
          41,
          42,
          43,
          44,
          45,
          46,
          47,
          48,
          49,
          50,
          51
         ],
         "title": {
          "text": "week"
         }
        },
        "yaxis": {
         "anchor": "x",
         "domain": [
          0,
          1
         ],
         "title": {
          "text": "diff"
         }
        }
       }
      },
      "text/html": [
       "<div>\n",
       "        \n",
       "        \n",
       "            <div id=\"6f69580d-9287-4738-bbe6-1044af499bd3\" class=\"plotly-graph-div\" style=\"height:525px; width:100%;\"></div>\n",
       "            <script type=\"text/javascript\">\n",
       "                require([\"plotly\"], function(Plotly) {\n",
       "                    window.PLOTLYENV=window.PLOTLYENV || {};\n",
       "                    \n",
       "                if (document.getElementById(\"6f69580d-9287-4738-bbe6-1044af499bd3\")) {\n",
       "                    Plotly.newPlot(\n",
       "                        '6f69580d-9287-4738-bbe6-1044af499bd3',\n",
       "                        [{\"hovertemplate\": \"MCT_CAT_CD=10<br>week=%{x}<br>diff=%{y}<extra></extra>\", \"legendgroup\": \"10\", \"line\": {\"color\": \"#636efa\", \"dash\": \"solid\"}, \"mode\": \"lines\", \"name\": \"10\", \"orientation\": \"v\", \"showlegend\": true, \"type\": \"scatter\", \"x\": [5, 6, 7, 8, 9, 10, 11, 12, 13, 14, 15, 16, 17, 18, 19, 20, 21, 22], \"xaxis\": \"x\", \"y\": [62.799666516726916, 4.905449894604359, 0.03542945462631053, -13.375527973409334, -9.637323214105095, -19.095970398143976, 2.8619226268014586, 21.038628067860742, -25.59714131399994, -14.415142625179499, -4.980782243015156, 2.7044565410329966, -32.70186594085919, 3.807908208382898, -2.48322053949056, 3.5661888732226714, -43.671075286501164, -49.03326242752388], \"yaxis\": \"y\"}, {\"hovertemplate\": \"MCT_CAT_CD=20<br>week=%{x}<br>diff=%{y}<extra></extra>\", \"legendgroup\": \"20\", \"line\": {\"color\": \"#EF553B\", \"dash\": \"solid\"}, \"mode\": \"lines\", \"name\": \"20\", \"orientation\": \"v\", \"showlegend\": true, \"type\": \"scatter\", \"x\": [5, 6, 7, 8, 9, 10, 11, 12, 13, 14, 15, 16, 17, 18, 19, 20, 21, 22], \"xaxis\": \"x\", \"y\": [-0.6834910123258169, 3.612179034525468, 6.052140939605238, 6.2715247900433155, 10.492578034116676, 10.527864095443604, 6.764231905302509, 2.516125432217933, 3.833110648651001, 2.4993660481848394, 2.441524088691196, -2.6424070998221083, -1.882050710793095, -0.0483146069291962, 2.094487794001722, 5.71485395479084, 7.347351096251003, 0.1646805562445337], \"yaxis\": \"y\"}, {\"hovertemplate\": \"MCT_CAT_CD=21<br>week=%{x}<br>diff=%{y}<extra></extra>\", \"legendgroup\": \"21\", \"line\": {\"color\": \"#00cc96\", \"dash\": \"solid\"}, \"mode\": \"lines\", \"name\": \"21\", \"orientation\": \"v\", \"showlegend\": true, \"type\": \"scatter\", \"x\": [5, 6, 7, 8, 9, 10, 11, 12, 13, 14, 15, 16, 17, 18, 19, 20, 21, 22], \"xaxis\": \"x\", \"y\": [-0.5575835684982859, 2.7825855155343113, -3.3872772340198907, -3.6371773795822016, -5.594530218071402, -8.000777789213556, -5.7866003115785, -3.3257164889205626, -9.593019583761517, -9.639233453893146, -5.137793872942641, -6.3706005711829725, -1.5627024239865719, -2.419646342136325, 2.0311996799963126, 2.113531836750713, 0.7654836748241713, 0.024810960765449863], \"yaxis\": \"y\"}, {\"hovertemplate\": \"MCT_CAT_CD=22<br>week=%{x}<br>diff=%{y}<extra></extra>\", \"legendgroup\": \"22\", \"line\": {\"color\": \"#ab63fa\", \"dash\": \"solid\"}, \"mode\": \"lines\", \"name\": \"22\", \"orientation\": \"v\", \"showlegend\": true, \"type\": \"scatter\", \"x\": [5, 6, 7, 8, 9, 10, 11, 12, 13, 14, 15, 16, 17, 18, 19, 20, 21, 22], \"xaxis\": \"x\", \"y\": [2.160667265448531, 7.816377822205119, -1.8563558696483895, 2.2191987594111886, 1.513051676480984, 5.89053087724113, 2.0981845522928246, 8.049075266328892, 7.283176712244632, 8.135201705579686, 7.940097989326556, 2.2333909571714123, 13.44644669436305, 8.862668294805498, 3.141567261691673, 8.098668093935064, 3.863390664493025, 4.984739509132037], \"yaxis\": \"y\"}, {\"hovertemplate\": \"MCT_CAT_CD=30<br>week=%{x}<br>diff=%{y}<extra></extra>\", \"legendgroup\": \"30\", \"line\": {\"color\": \"#FFA15A\", \"dash\": \"solid\"}, \"mode\": \"lines\", \"name\": \"30\", \"orientation\": \"v\", \"showlegend\": true, \"type\": \"scatter\", \"x\": [5, 6, 7, 8, 9, 10, 11, 12, 13, 14, 15, 16, 17, 18, 19, 20, 21, 22], \"xaxis\": \"x\", \"y\": [475.17489495798316, 303.54505498018153, 191.02501037540083, 196.20589003336715, 176.94262498934143, 260.1597402597402, 52.40851926151464, -74.19725888553535, 102.12966341067596, 224.37444484149268, 25.520808455016777, 204.33421145064978, 277.1698787129284, 148.33129075616444, 6.812184571016587, 41.39233808966111, -29.76927524729723, 104.2434967884277], \"yaxis\": \"y\"}, {\"hovertemplate\": \"MCT_CAT_CD=31<br>week=%{x}<br>diff=%{y}<extra></extra>\", \"legendgroup\": \"31\", \"line\": {\"color\": \"#19d3f3\", \"dash\": \"solid\"}, \"mode\": \"lines\", \"name\": \"31\", \"orientation\": \"v\", \"showlegend\": true, \"type\": \"scatter\", \"x\": [5, 6, 7, 8, 9, 10, 11, 12, 13, 14, 15, 16, 17, 18, 19, 20, 21, 22], \"xaxis\": \"x\", \"y\": [-101.75757575757575, 10.212997612174348, -92.74826950341469, -62.067828428163864, -8.679251587036418, 58.916507684154766, 66.16559839660269, -73.30042234002772, 15.608528847572671, -2.961640403747026, -88.4597668800863, -41.97535970253813, -11.874509640611336, 67.40224521539187, -132.8929755226925, 51.89893215502164, -56.70129140932062, -22.71963294921042], \"yaxis\": \"y\"}, {\"hovertemplate\": \"MCT_CAT_CD=32<br>week=%{x}<br>diff=%{y}<extra></extra>\", \"legendgroup\": \"32\", \"line\": {\"color\": \"#FF6692\", \"dash\": \"solid\"}, \"mode\": \"lines\", \"name\": \"32\", \"orientation\": \"v\", \"showlegend\": true, \"type\": \"scatter\", \"x\": [5, 6, 7, 8, 9, 10, 11, 12, 13, 14, 15, 16, 17, 18, 19, 20, 21, 22], \"xaxis\": \"x\", \"y\": [8.874013357619916, 41.7295626457981, -9.207860931617375, -3.162783043559841, 25.86963149339107, 3.883964152803827, -8.745175151264434, 12.800291587080977, -2.0497546201750936, 11.482466922719425, -1.438443728330867, 8.729788446395133, -1.5923197645727782, -70.16663446714672, -42.59701399185525, -66.87999897133977, -37.221727460646505, -45.13984048721835], \"yaxis\": \"y\"}, {\"hovertemplate\": \"MCT_CAT_CD=33<br>week=%{x}<br>diff=%{y}<extra></extra>\", \"legendgroup\": \"33\", \"line\": {\"color\": \"#B6E880\", \"dash\": \"solid\"}, \"mode\": \"lines\", \"name\": \"33\", \"orientation\": \"v\", \"showlegend\": true, \"type\": \"scatter\", \"x\": [5, 6, 7, 8, 9, 10, 11, 12, 13, 14, 15, 16, 17, 18, 19, 20, 21, 22], \"xaxis\": \"x\", \"y\": [1.7035794042324852, 3.762470060550555, 2.3843707148420776, 2.067560213334403, 3.1278052406685646, 1.7744507420652766, 2.100303550918568, -0.027668730833532607, 0.8115659468144472, 1.4934870623821155, -0.28921610100837114, -2.2529736660759383, -2.849378684764467, -4.507377071403958, -4.4396453046160005, -4.7524142795449364, -5.7327416192431215, -7.805756448020382], \"yaxis\": \"y\"}, {\"hovertemplate\": \"MCT_CAT_CD=34<br>week=%{x}<br>diff=%{y}<extra></extra>\", \"legendgroup\": \"34\", \"line\": {\"color\": \"#FF97FF\", \"dash\": \"solid\"}, \"mode\": \"lines\", \"name\": \"34\", \"orientation\": \"v\", \"showlegend\": true, \"type\": \"scatter\", \"x\": [5, 6, 7, 8, 9, 10, 11, 12, 13, 14, 15, 16, 17, 18, 19, 20, 21, 22], \"xaxis\": \"x\", \"y\": [53.67676821747442, -22.186555836483507, 10.52818936129998, -9.309608974771557, 16.230052570058874, 25.834434506357752, -8.594555584896504, -3.4519830110693235, -47.592383112436515, 33.57871180044514, 8.975184550876982, 29.3264294361314, -20.246586396176482, -23.753066988769348, 12.018156116361943, 8.542053276055597, -34.52751147272187, -6.223310859129569], \"yaxis\": \"y\"}, {\"hovertemplate\": \"MCT_CAT_CD=35<br>week=%{x}<br>diff=%{y}<extra></extra>\", \"legendgroup\": \"35\", \"line\": {\"color\": \"#FECB52\", \"dash\": \"solid\"}, \"mode\": \"lines\", \"name\": \"35\", \"orientation\": \"v\", \"showlegend\": true, \"type\": \"scatter\", \"x\": [5, 6, 7, 8, 9, 10, 11, 12, 13, 14, 15, 16, 17, 18, 19, 20, 21, 22], \"xaxis\": \"x\", \"y\": [187.948220343856, 46.07272687725455, 52.973243219299235, 38.64223544606557, 66.38091590898372, 42.734121017482494, -32.85321393782394, -2.084629134266436, 37.505595620321685, 20.09521277962375, 3.347861718717354, -23.079868374960512, -6.322463873887017, 40.99993525562462, -23.006325815537082, 26.282401582252305, 16.395323192783792, -0.5634554274360539], \"yaxis\": \"y\"}, {\"hovertemplate\": \"MCT_CAT_CD=40<br>week=%{x}<br>diff=%{y}<extra></extra>\", \"legendgroup\": \"40\", \"line\": {\"color\": \"#636efa\", \"dash\": \"solid\"}, \"mode\": \"lines\", \"name\": \"40\", \"orientation\": \"v\", \"showlegend\": true, \"type\": \"scatter\", \"x\": [5, 6, 7, 8, 9, 10, 11, 12, 13, 14, 15, 16, 17, 18, 19, 20, 21, 22], \"xaxis\": \"x\", \"y\": [-2.523315063103148, -4.9551139418977534, -0.563420446058263, -0.14683044794730904, -2.1997001270020924, -1.3704465909798422, -0.3856073233526516, 0.21502341319446927, 0.3245916032075016, -0.410587234147183, 0.9741764722996109, 1.7671453626216511, 1.7355406649525094, 3.246495804260846, 3.098395572790107, 2.7839671646877626, 2.674633317308743, 5.020847737116544], \"yaxis\": \"y\"}, {\"hovertemplate\": \"MCT_CAT_CD=42<br>week=%{x}<br>diff=%{y}<extra></extra>\", \"legendgroup\": \"42\", \"line\": {\"color\": \"#EF553B\", \"dash\": \"solid\"}, \"mode\": \"lines\", \"name\": \"42\", \"orientation\": \"v\", \"showlegend\": true, \"type\": \"scatter\", \"x\": [5, 6, 7, 8, 9, 10, 11, 12, 13, 14, 15, 16, 17, 18, 19, 20, 21, 22], \"xaxis\": \"x\", \"y\": [8.64398085162287, 16.501404164136538, 7.569197563346634, 14.87034434827197, 13.827516356469701, 23.266198688072294, 10.939970153249718, 9.123155267766563, 10.459823006361965, 5.188437073269043, -1.0698251290971683, 3.327491433267042, 11.57445603340912, 3.195610642632488, 5.614881474639041, 5.061324585396449, 2.8918374734920036, -0.8042762653571671], \"yaxis\": \"y\"}, {\"hovertemplate\": \"MCT_CAT_CD=43<br>week=%{x}<br>diff=%{y}<extra></extra>\", \"legendgroup\": \"43\", \"line\": {\"color\": \"#00cc96\", \"dash\": \"solid\"}, \"mode\": \"lines\", \"name\": \"43\", \"orientation\": \"v\", \"showlegend\": true, \"type\": \"scatter\", \"x\": [5, 6, 7, 8, 9, 10, 11, 12, 13, 14, 15, 16, 17, 18, 19, 20, 21, 22], \"xaxis\": \"x\", \"y\": [-4.376104176721412, 52.66041340081517, -1.5868163066391503, 45.769360797560495, 283.4819270172511, -12.729353699052467, 68.09518811849117, -1.0819130711478522, -37.568013630440134, 61.393875177222895, -46.815413859801225, 14.237373748956514, 11.309959924593628, -22.8545636751185, 5.855127949965919, 26.849010520745722, -12.671936764035323, -34.925445515201645], \"yaxis\": \"y\"}, {\"hovertemplate\": \"MCT_CAT_CD=44<br>week=%{x}<br>diff=%{y}<extra></extra>\", \"legendgroup\": \"44\", \"line\": {\"color\": \"#ab63fa\", \"dash\": \"solid\"}, \"mode\": \"lines\", \"name\": \"44\", \"orientation\": \"v\", \"showlegend\": true, \"type\": \"scatter\", \"x\": [5, 6, 7, 8, 9, 10, 11, 12, 13, 14, 15, 16, 17, 18, 19, 20, 21, 22], \"xaxis\": \"x\", \"y\": [13.455486788442947, 10.966011857271674, 9.699064573482367, 5.395300817249854, 37.407040274677094, 25.485813453724504, 5.0306242796127165, 15.644174937202884, 16.650590962352332, 14.354939520068818, 14.541864575367953, 0.6818830771034143, 6.551706272925649, 6.100635905946881, 10.513496486500458, 4.01373850824379, -4.329857882661656, -16.244693177001267], \"yaxis\": \"y\"}, {\"hovertemplate\": \"MCT_CAT_CD=50<br>week=%{x}<br>diff=%{y}<extra></extra>\", \"legendgroup\": \"50\", \"line\": {\"color\": \"#FFA15A\", \"dash\": \"solid\"}, \"mode\": \"lines\", \"name\": \"50\", \"orientation\": \"v\", \"showlegend\": true, \"type\": \"scatter\", \"x\": [5, 6, 7, 8, 9, 10, 11, 12, 13, 14, 15, 16, 17, 18, 19, 20, 21, 22], \"xaxis\": \"x\", \"y\": [-4.683361755330534, 5.311531322296602, -0.5823407259554685, 1.1713349148148744, 7.7275754257311355, 2.8705515883828205, 6.824483690424511, 3.928238646562871, 3.844260258662885, 11.537230385869567, 6.298216170024215, 4.018440456803884, 4.4545497290940474, 4.3571946731936535, 5.172967284140814, 6.143525226844773, 3.684721866966516, 3.0215780838600814], \"yaxis\": \"y\"}, {\"hovertemplate\": \"MCT_CAT_CD=52<br>week=%{x}<br>diff=%{y}<extra></extra>\", \"legendgroup\": \"52\", \"line\": {\"color\": \"#19d3f3\", \"dash\": \"solid\"}, \"mode\": \"lines\", \"name\": \"52\", \"orientation\": \"v\", \"showlegend\": true, \"type\": \"scatter\", \"x\": [5, 6, 7, 8, 9, 10, 11, 12, 13, 14, 15, 16, 17, 18, 19, 20, 21, 22], \"xaxis\": \"x\", \"y\": [-0.48542944707120217, 0.6298749829592873, -0.22837101881615318, 0.15774193851655127, 4.704235668919335, 1.6846105472252564, 1.576728074755505, 1.2421723871961952, 1.0658212161391756, 2.378070575206344, 0.914490140373756, 0.7755973386769739, 0.5679688613746166, 1.0577957938207607, 0.20991271736511052, 0.7551082271640368, 0.4249376543132559, 0.2564522560323219], \"yaxis\": \"y\"}, {\"hovertemplate\": \"MCT_CAT_CD=60<br>week=%{x}<br>diff=%{y}<extra></extra>\", \"legendgroup\": \"60\", \"line\": {\"color\": \"#FF6692\", \"dash\": \"solid\"}, \"mode\": \"lines\", \"name\": \"60\", \"orientation\": \"v\", \"showlegend\": true, \"type\": \"scatter\", \"x\": [5, 6, 7, 8, 9, 10, 11, 12, 13, 14, 15, 16, 17, 18, 19, 20, 21, 22], \"xaxis\": \"x\", \"y\": [46.55350668186054, -112.43363182907189, 73.78792317863156, -119.41593724194877, -345.62105025918413, -157.05975109685141, -30.931031757130654, -168.88280923035228, -156.5001699729139, -248.80925826463186, -95.25836813512478, -146.2077574415424, 66.68934108527128, -114.4745987281961, -222.5334365553344, 69.13599603812054, -115.55057717507873, -116.27321498175115], \"yaxis\": \"y\"}, {\"hovertemplate\": \"MCT_CAT_CD=62<br>week=%{x}<br>diff=%{y}<extra></extra>\", \"legendgroup\": \"62\", \"line\": {\"color\": \"#B6E880\", \"dash\": \"solid\"}, \"mode\": \"lines\", \"name\": \"62\", \"orientation\": \"v\", \"showlegend\": true, \"type\": \"scatter\", \"x\": [5, 6, 7, 8, 9, 10, 11, 12, 13, 14, 15, 16, 17, 18, 19, 20, 21, 22], \"xaxis\": \"x\", \"y\": [-4.420890964022121, 12.686039563977708, 5.914467522845104, 8.843750119107998, 16.807630964122872, 8.945320927402062, 10.63165198570045, 7.895128387954038, 11.75665112425214, 7.0540391910759865, 8.858767655062124, 5.8610775061515525, 6.983396945100736, 3.9683698951665676, 5.969546401229028, 3.647953890369383, 6.227984021734802, 4.2392309006382085], \"yaxis\": \"y\"}, {\"hovertemplate\": \"MCT_CAT_CD=70<br>week=%{x}<br>diff=%{y}<extra></extra>\", \"legendgroup\": \"70\", \"line\": {\"color\": \"#FF97FF\", \"dash\": \"solid\"}, \"mode\": \"lines\", \"name\": \"70\", \"orientation\": \"v\", \"showlegend\": true, \"type\": \"scatter\", \"x\": [5, 6, 7, 8, 9, 10, 11, 12, 13, 14, 15, 16, 17, 18, 19, 20, 21, 22], \"xaxis\": \"x\", \"y\": [-6.876908670107575, -0.2806896635118292, 2.8164468858600387, -6.714193526636407, -2.087706813086214, -7.1644093442803225, -13.579569921295345, -13.222181723630307, -13.191219187518776, -1.8190195514709444, -6.895138562838696, -4.004118833148588, -11.973716340544499, 7.709219098389497, -1.9434274581909676, -3.0460955681337936, -7.983333431143009, -9.097925694925635], \"yaxis\": \"y\"}, {\"hovertemplate\": \"MCT_CAT_CD=71<br>week=%{x}<br>diff=%{y}<extra></extra>\", \"legendgroup\": \"71\", \"line\": {\"color\": \"#FECB52\", \"dash\": \"solid\"}, \"mode\": \"lines\", \"name\": \"71\", \"orientation\": \"v\", \"showlegend\": true, \"type\": \"scatter\", \"x\": [5, 6, 7, 8, 9, 10, 11, 12, 13, 14, 15, 16, 17, 18, 19, 20, 21, 22], \"xaxis\": \"x\", \"y\": [3.4435523351053448, 14.226356257965648, 6.735746769899791, 2.2246481765681168, 12.4152896332198, 2.1541877545653563, 4.545643587709726, 3.0008715951419305, -3.8599303279921813, 9.12921082962663, 4.341145174467947, 3.7199146820730533, 3.6877878520789196, 6.8271627783908855, 6.770945696606347, 10.592936278111175, 14.22624277988377, 1.676472707119224], \"yaxis\": \"y\"}, {\"hovertemplate\": \"MCT_CAT_CD=80<br>week=%{x}<br>diff=%{y}<extra></extra>\", \"legendgroup\": \"80\", \"line\": {\"color\": \"#636efa\", \"dash\": \"solid\"}, \"mode\": \"lines\", \"name\": \"80\", \"orientation\": \"v\", \"showlegend\": true, \"type\": \"scatter\", \"x\": [5, 6, 7, 8, 9, 10, 11, 12, 13, 14, 15, 16, 17, 18, 19, 20, 21, 22], \"xaxis\": \"x\", \"y\": [-1.292840865455819, -1.139929791513696, -0.7463706361284199, -2.117850665720171, -3.1081108171289795, -2.2468698210429174, -2.114185799197031, -2.1487639851103904, -1.7201493196095665, -1.4313230298479223, -1.4653117466240086, -0.8003067686083725, -0.6521163731652191, -0.7865962940594002, -0.2125707807667201, -0.1411132838838114, 0.12611412390766574, 0.3472562606136247], \"yaxis\": \"y\"}, {\"hovertemplate\": \"MCT_CAT_CD=81<br>week=%{x}<br>diff=%{y}<extra></extra>\", \"legendgroup\": \"81\", \"line\": {\"color\": \"#EF553B\", \"dash\": \"solid\"}, \"mode\": \"lines\", \"name\": \"81\", \"orientation\": \"v\", \"showlegend\": true, \"type\": \"scatter\", \"x\": [5, 6, 7, 8, 9, 10, 11, 12, 13, 14, 15, 16, 17, 18, 19, 20, 21, 22], \"xaxis\": \"x\", \"y\": [-11.994779894802752, -1.5399616483845016, 0.8458846541626031, 1.321837151530616, 1.9593557887250412, 1.6556563335200156, 1.5253134591821098, 1.7607698843785968, 1.3027017353975499, 1.609585264163611, 1.5254732562630622, 1.6904076076881278, 1.293474180591689, 1.4817398150093322, 2.3613292820533047, 2.9025040871103283, 4.108163383426961, 1.6957861448865454], \"yaxis\": \"y\"}, {\"hovertemplate\": \"MCT_CAT_CD=92<br>week=%{x}<br>diff=%{y}<extra></extra>\", \"legendgroup\": \"92\", \"line\": {\"color\": \"#00cc96\", \"dash\": \"solid\"}, \"mode\": \"lines\", \"name\": \"92\", \"orientation\": \"v\", \"showlegend\": true, \"type\": \"scatter\", \"x\": [5, 6, 7, 8, 9, 10, 11, 12, 13, 14, 15, 16, 17, 18, 19, 20, 21, 22], \"xaxis\": \"x\", \"y\": [-5.550905130393815, 4.652874611999351, 2.956360626921331, 1.157219197523741, 4.27229417479462, -0.12005721653771673, 2.136358982559024, 3.8223448326467313, 4.640591847670436, 2.9038439030785135, 5.92183386234019, 5.469679622949059, 4.101813195638179, -0.6691960607869092, 3.822707470358935, 3.702772056554032, 1.3069349176209926, -5.00366340637267], \"yaxis\": \"y\"}],\n",
       "                        {\"legend\": {\"title\": {\"text\": \"MCT_CAT_CD\"}, \"tracegroupgap\": 0}, \"margin\": {\"t\": 60}, \"template\": {\"data\": {\"bar\": [{\"error_x\": {\"color\": \"#2a3f5f\"}, \"error_y\": {\"color\": \"#2a3f5f\"}, \"marker\": {\"line\": {\"color\": \"#E5ECF6\", \"width\": 0.5}}, \"type\": \"bar\"}], \"barpolar\": [{\"marker\": {\"line\": {\"color\": \"#E5ECF6\", \"width\": 0.5}}, \"type\": \"barpolar\"}], \"carpet\": [{\"aaxis\": {\"endlinecolor\": \"#2a3f5f\", \"gridcolor\": \"white\", \"linecolor\": \"white\", \"minorgridcolor\": \"white\", \"startlinecolor\": \"#2a3f5f\"}, \"baxis\": {\"endlinecolor\": \"#2a3f5f\", \"gridcolor\": \"white\", \"linecolor\": \"white\", \"minorgridcolor\": \"white\", \"startlinecolor\": \"#2a3f5f\"}, \"type\": \"carpet\"}], \"choropleth\": [{\"colorbar\": {\"outlinewidth\": 0, \"ticks\": \"\"}, \"type\": \"choropleth\"}], \"contour\": [{\"colorbar\": {\"outlinewidth\": 0, \"ticks\": \"\"}, \"colorscale\": [[0.0, \"#0d0887\"], [0.1111111111111111, \"#46039f\"], [0.2222222222222222, \"#7201a8\"], [0.3333333333333333, \"#9c179e\"], [0.4444444444444444, \"#bd3786\"], [0.5555555555555556, \"#d8576b\"], [0.6666666666666666, \"#ed7953\"], [0.7777777777777778, \"#fb9f3a\"], [0.8888888888888888, \"#fdca26\"], [1.0, \"#f0f921\"]], \"type\": \"contour\"}], \"contourcarpet\": [{\"colorbar\": {\"outlinewidth\": 0, \"ticks\": \"\"}, \"type\": \"contourcarpet\"}], \"heatmap\": [{\"colorbar\": {\"outlinewidth\": 0, \"ticks\": \"\"}, \"colorscale\": [[0.0, \"#0d0887\"], [0.1111111111111111, \"#46039f\"], [0.2222222222222222, \"#7201a8\"], [0.3333333333333333, \"#9c179e\"], [0.4444444444444444, \"#bd3786\"], [0.5555555555555556, \"#d8576b\"], [0.6666666666666666, \"#ed7953\"], [0.7777777777777778, \"#fb9f3a\"], [0.8888888888888888, \"#fdca26\"], [1.0, \"#f0f921\"]], \"type\": \"heatmap\"}], \"heatmapgl\": [{\"colorbar\": {\"outlinewidth\": 0, \"ticks\": \"\"}, \"colorscale\": [[0.0, \"#0d0887\"], [0.1111111111111111, \"#46039f\"], [0.2222222222222222, \"#7201a8\"], [0.3333333333333333, \"#9c179e\"], [0.4444444444444444, \"#bd3786\"], [0.5555555555555556, \"#d8576b\"], [0.6666666666666666, \"#ed7953\"], [0.7777777777777778, \"#fb9f3a\"], [0.8888888888888888, \"#fdca26\"], [1.0, \"#f0f921\"]], \"type\": \"heatmapgl\"}], \"histogram\": [{\"marker\": {\"colorbar\": {\"outlinewidth\": 0, \"ticks\": \"\"}}, \"type\": \"histogram\"}], \"histogram2d\": [{\"colorbar\": {\"outlinewidth\": 0, \"ticks\": \"\"}, \"colorscale\": [[0.0, \"#0d0887\"], [0.1111111111111111, \"#46039f\"], [0.2222222222222222, \"#7201a8\"], [0.3333333333333333, \"#9c179e\"], [0.4444444444444444, \"#bd3786\"], [0.5555555555555556, \"#d8576b\"], [0.6666666666666666, \"#ed7953\"], [0.7777777777777778, \"#fb9f3a\"], [0.8888888888888888, \"#fdca26\"], [1.0, \"#f0f921\"]], \"type\": \"histogram2d\"}], \"histogram2dcontour\": [{\"colorbar\": {\"outlinewidth\": 0, \"ticks\": \"\"}, \"colorscale\": [[0.0, \"#0d0887\"], [0.1111111111111111, \"#46039f\"], [0.2222222222222222, \"#7201a8\"], [0.3333333333333333, \"#9c179e\"], [0.4444444444444444, \"#bd3786\"], [0.5555555555555556, \"#d8576b\"], [0.6666666666666666, \"#ed7953\"], [0.7777777777777778, \"#fb9f3a\"], [0.8888888888888888, \"#fdca26\"], [1.0, \"#f0f921\"]], \"type\": \"histogram2dcontour\"}], \"mesh3d\": [{\"colorbar\": {\"outlinewidth\": 0, \"ticks\": \"\"}, \"type\": \"mesh3d\"}], \"parcoords\": [{\"line\": {\"colorbar\": {\"outlinewidth\": 0, \"ticks\": \"\"}}, \"type\": \"parcoords\"}], \"pie\": [{\"automargin\": true, \"type\": \"pie\"}], \"scatter\": [{\"marker\": {\"colorbar\": {\"outlinewidth\": 0, \"ticks\": \"\"}}, \"type\": \"scatter\"}], \"scatter3d\": [{\"line\": {\"colorbar\": {\"outlinewidth\": 0, \"ticks\": \"\"}}, \"marker\": {\"colorbar\": {\"outlinewidth\": 0, \"ticks\": \"\"}}, \"type\": \"scatter3d\"}], \"scattercarpet\": [{\"marker\": {\"colorbar\": {\"outlinewidth\": 0, \"ticks\": \"\"}}, \"type\": \"scattercarpet\"}], \"scattergeo\": [{\"marker\": {\"colorbar\": {\"outlinewidth\": 0, \"ticks\": \"\"}}, \"type\": \"scattergeo\"}], \"scattergl\": [{\"marker\": {\"colorbar\": {\"outlinewidth\": 0, \"ticks\": \"\"}}, \"type\": \"scattergl\"}], \"scattermapbox\": [{\"marker\": {\"colorbar\": {\"outlinewidth\": 0, \"ticks\": \"\"}}, \"type\": \"scattermapbox\"}], \"scatterpolar\": [{\"marker\": {\"colorbar\": {\"outlinewidth\": 0, \"ticks\": \"\"}}, \"type\": \"scatterpolar\"}], \"scatterpolargl\": [{\"marker\": {\"colorbar\": {\"outlinewidth\": 0, \"ticks\": \"\"}}, \"type\": \"scatterpolargl\"}], \"scatterternary\": [{\"marker\": {\"colorbar\": {\"outlinewidth\": 0, \"ticks\": \"\"}}, \"type\": \"scatterternary\"}], \"surface\": [{\"colorbar\": {\"outlinewidth\": 0, \"ticks\": \"\"}, \"colorscale\": [[0.0, \"#0d0887\"], [0.1111111111111111, \"#46039f\"], [0.2222222222222222, \"#7201a8\"], [0.3333333333333333, \"#9c179e\"], [0.4444444444444444, \"#bd3786\"], [0.5555555555555556, \"#d8576b\"], [0.6666666666666666, \"#ed7953\"], [0.7777777777777778, \"#fb9f3a\"], [0.8888888888888888, \"#fdca26\"], [1.0, \"#f0f921\"]], \"type\": \"surface\"}], \"table\": [{\"cells\": {\"fill\": {\"color\": \"#EBF0F8\"}, \"line\": {\"color\": \"white\"}}, \"header\": {\"fill\": {\"color\": \"#C8D4E3\"}, \"line\": {\"color\": \"white\"}}, \"type\": \"table\"}]}, \"layout\": {\"annotationdefaults\": {\"arrowcolor\": \"#2a3f5f\", \"arrowhead\": 0, \"arrowwidth\": 1}, \"coloraxis\": {\"colorbar\": {\"outlinewidth\": 0, \"ticks\": \"\"}}, \"colorscale\": {\"diverging\": [[0, \"#8e0152\"], [0.1, \"#c51b7d\"], [0.2, \"#de77ae\"], [0.3, \"#f1b6da\"], [0.4, \"#fde0ef\"], [0.5, \"#f7f7f7\"], [0.6, \"#e6f5d0\"], [0.7, \"#b8e186\"], [0.8, \"#7fbc41\"], [0.9, \"#4d9221\"], [1, \"#276419\"]], \"sequential\": [[0.0, \"#0d0887\"], [0.1111111111111111, \"#46039f\"], [0.2222222222222222, \"#7201a8\"], [0.3333333333333333, \"#9c179e\"], [0.4444444444444444, \"#bd3786\"], [0.5555555555555556, \"#d8576b\"], [0.6666666666666666, \"#ed7953\"], [0.7777777777777778, \"#fb9f3a\"], [0.8888888888888888, \"#fdca26\"], [1.0, \"#f0f921\"]], \"sequentialminus\": [[0.0, \"#0d0887\"], [0.1111111111111111, \"#46039f\"], [0.2222222222222222, \"#7201a8\"], [0.3333333333333333, \"#9c179e\"], [0.4444444444444444, \"#bd3786\"], [0.5555555555555556, \"#d8576b\"], [0.6666666666666666, \"#ed7953\"], [0.7777777777777778, \"#fb9f3a\"], [0.8888888888888888, \"#fdca26\"], [1.0, \"#f0f921\"]]}, \"colorway\": [\"#636efa\", \"#EF553B\", \"#00cc96\", \"#ab63fa\", \"#FFA15A\", \"#19d3f3\", \"#FF6692\", \"#B6E880\", \"#FF97FF\", \"#FECB52\"], \"font\": {\"color\": \"#2a3f5f\"}, \"geo\": {\"bgcolor\": \"white\", \"lakecolor\": \"white\", \"landcolor\": \"#E5ECF6\", \"showlakes\": true, \"showland\": true, \"subunitcolor\": \"white\"}, \"hoverlabel\": {\"align\": \"left\"}, \"hovermode\": \"closest\", \"mapbox\": {\"style\": \"light\"}, \"paper_bgcolor\": \"white\", \"plot_bgcolor\": \"#E5ECF6\", \"polar\": {\"angularaxis\": {\"gridcolor\": \"white\", \"linecolor\": \"white\", \"ticks\": \"\"}, \"bgcolor\": \"#E5ECF6\", \"radialaxis\": {\"gridcolor\": \"white\", \"linecolor\": \"white\", \"ticks\": \"\"}}, \"scene\": {\"xaxis\": {\"backgroundcolor\": \"#E5ECF6\", \"gridcolor\": \"white\", \"gridwidth\": 2, \"linecolor\": \"white\", \"showbackground\": true, \"ticks\": \"\", \"zerolinecolor\": \"white\"}, \"yaxis\": {\"backgroundcolor\": \"#E5ECF6\", \"gridcolor\": \"white\", \"gridwidth\": 2, \"linecolor\": \"white\", \"showbackground\": true, \"ticks\": \"\", \"zerolinecolor\": \"white\"}, \"zaxis\": {\"backgroundcolor\": \"#E5ECF6\", \"gridcolor\": \"white\", \"gridwidth\": 2, \"linecolor\": \"white\", \"showbackground\": true, \"ticks\": \"\", \"zerolinecolor\": \"white\"}}, \"shapedefaults\": {\"line\": {\"color\": \"#2a3f5f\"}}, \"ternary\": {\"aaxis\": {\"gridcolor\": \"white\", \"linecolor\": \"white\", \"ticks\": \"\"}, \"baxis\": {\"gridcolor\": \"white\", \"linecolor\": \"white\", \"ticks\": \"\"}, \"bgcolor\": \"#E5ECF6\", \"caxis\": {\"gridcolor\": \"white\", \"linecolor\": \"white\", \"ticks\": \"\"}}, \"title\": {\"x\": 0.05}, \"xaxis\": {\"automargin\": true, \"gridcolor\": \"white\", \"linecolor\": \"white\", \"ticks\": \"\", \"title\": {\"standoff\": 15}, \"zerolinecolor\": \"white\", \"zerolinewidth\": 2}, \"yaxis\": {\"automargin\": true, \"gridcolor\": \"white\", \"linecolor\": \"white\", \"ticks\": \"\", \"title\": {\"standoff\": 15}, \"zerolinecolor\": \"white\", \"zerolinewidth\": 2}}}, \"xaxis\": {\"anchor\": \"y\", \"domain\": [0.0, 1.0], \"tickmode\": \"array\", \"ticktext\": [\"12/23\", \"12/30\", \"1/6\", \"1/13\", \"1/20\", \"1/27\", \"2/3\", \"2/10\", \"2/17\", \"2/24\", \"3/2\", \"3/9\", \"3/16\", \"3/23\", \"3/30\", \"4/6\", \"4/13\", \"4/20\", \"4/27\", \"5/4\", \"5/11\", \"5/18\", \"5/25\", \"6/1\", \"6/8\", \"6/15\", \"6/22\", \"6/29\", \"7/6\", \"7/13\", \"7/20\", \"7/27\", \"8/3\", \"8/10\", \"8/17\", \"8/24\", \"8/31\", \"9/7\", \"9/14\", \"9/21\", \"9/28\", \"10/5\", \"10/12\", \"10/19\", \"10/26\", \"11/2\", \"11/9\", \"11/16\", \"11/23\", \"11/30\", \"12/7\", \"12/14\"], \"tickvals\": [0, 1, 2, 3, 4, 5, 6, 7, 8, 9, 10, 11, 12, 13, 14, 15, 16, 17, 18, 19, 20, 21, 22, 23, 24, 25, 26, 27, 28, 29, 30, 31, 32, 33, 34, 35, 36, 37, 38, 39, 40, 41, 42, 43, 44, 45, 46, 47, 48, 49, 50, 51], \"title\": {\"text\": \"week\"}}, \"yaxis\": {\"anchor\": \"x\", \"domain\": [0.0, 1.0], \"title\": {\"text\": \"diff\"}}},\n",
       "                        {\"responsive\": true}\n",
       "                    ).then(function(){\n",
       "                            \n",
       "var gd = document.getElementById('6f69580d-9287-4738-bbe6-1044af499bd3');\n",
       "var x = new MutationObserver(function (mutations, observer) {{\n",
       "        var display = window.getComputedStyle(gd).display;\n",
       "        if (!display || display === 'none') {{\n",
       "            console.log([gd, 'removed!']);\n",
       "            Plotly.purge(gd);\n",
       "            observer.disconnect();\n",
       "        }}\n",
       "}});\n",
       "\n",
       "// Listen for the removal of the full notebook cells\n",
       "var notebookContainer = gd.closest('#notebook-container');\n",
       "if (notebookContainer) {{\n",
       "    x.observe(notebookContainer, {childList: true});\n",
       "}}\n",
       "\n",
       "// Listen for the clearing of the current output cell\n",
       "var outputEl = gd.closest('.output');\n",
       "if (outputEl) {{\n",
       "    x.observe(outputEl, {childList: true});\n",
       "}}\n",
       "\n",
       "                        })\n",
       "                };\n",
       "                });\n",
       "            </script>\n",
       "        </div>"
      ]
     },
     "metadata": {},
     "output_type": "display_data"
    }
   ],
   "source": [
    "fig = px.line(cnt_diff2, x=\"week\", y=\"diff\", color='MCT_CAT_CD')\n",
    "\n",
    "fig.update_layout(\n",
    "    xaxis = dict(\n",
    "        tickmode = 'array',\n",
    "        tickvals = np.arange(0, len(test2)),\n",
    "        ticktext = test2\n",
    "    )\n",
    ")\n",
    "fig.show()"
   ]
  },
  {
   "cell_type": "code",
   "execution_count": 245,
   "metadata": {},
   "outputs": [
    {
     "data": {
      "text/html": [
       "<div>\n",
       "<style scoped>\n",
       "    .dataframe tbody tr th:only-of-type {\n",
       "        vertical-align: middle;\n",
       "    }\n",
       "\n",
       "    .dataframe tbody tr th {\n",
       "        vertical-align: top;\n",
       "    }\n",
       "\n",
       "    .dataframe thead th {\n",
       "        text-align: right;\n",
       "    }\n",
       "</style>\n",
       "<table border=\"1\" class=\"dataframe\">\n",
       "  <thead>\n",
       "    <tr style=\"text-align: right;\">\n",
       "      <th></th>\n",
       "      <th>STD_DD</th>\n",
       "      <th>GU_CD</th>\n",
       "      <th>DONG_CD</th>\n",
       "      <th>MCT_CAT_CD</th>\n",
       "      <th>SEX_CD</th>\n",
       "      <th>AGE_CD</th>\n",
       "      <th>USE_CNT</th>\n",
       "      <th>USE_AMT</th>\n",
       "      <th>month</th>\n",
       "      <th>day</th>\n",
       "      <th>year</th>\n",
       "      <th>week</th>\n",
       "    </tr>\n",
       "  </thead>\n",
       "  <tbody>\n",
       "    <tr>\n",
       "      <th>1177416</th>\n",
       "      <td>2019-05-20</td>\n",
       "      <td>110</td>\n",
       "      <td>517</td>\n",
       "      <td>10</td>\n",
       "      <td>F</td>\n",
       "      <td>20</td>\n",
       "      <td>6</td>\n",
       "      <td>83</td>\n",
       "      <td>5</td>\n",
       "      <td>20</td>\n",
       "      <td>2019</td>\n",
       "      <td>21</td>\n",
       "    </tr>\n",
       "    <tr>\n",
       "      <th>1177417</th>\n",
       "      <td>2019-05-20</td>\n",
       "      <td>110</td>\n",
       "      <td>517</td>\n",
       "      <td>10</td>\n",
       "      <td>F</td>\n",
       "      <td>25</td>\n",
       "      <td>6</td>\n",
       "      <td>220</td>\n",
       "      <td>5</td>\n",
       "      <td>20</td>\n",
       "      <td>2019</td>\n",
       "      <td>21</td>\n",
       "    </tr>\n",
       "    <tr>\n",
       "      <th>1177418</th>\n",
       "      <td>2019-05-20</td>\n",
       "      <td>110</td>\n",
       "      <td>517</td>\n",
       "      <td>10</td>\n",
       "      <td>M</td>\n",
       "      <td>20</td>\n",
       "      <td>6</td>\n",
       "      <td>193</td>\n",
       "      <td>5</td>\n",
       "      <td>20</td>\n",
       "      <td>2019</td>\n",
       "      <td>21</td>\n",
       "    </tr>\n",
       "    <tr>\n",
       "      <th>1177419</th>\n",
       "      <td>2019-05-20</td>\n",
       "      <td>110</td>\n",
       "      <td>517</td>\n",
       "      <td>10</td>\n",
       "      <td>M</td>\n",
       "      <td>25</td>\n",
       "      <td>11</td>\n",
       "      <td>275</td>\n",
       "      <td>5</td>\n",
       "      <td>20</td>\n",
       "      <td>2019</td>\n",
       "      <td>21</td>\n",
       "    </tr>\n",
       "    <tr>\n",
       "      <th>1177420</th>\n",
       "      <td>2019-05-20</td>\n",
       "      <td>110</td>\n",
       "      <td>517</td>\n",
       "      <td>10</td>\n",
       "      <td>M</td>\n",
       "      <td>30</td>\n",
       "      <td>17</td>\n",
       "      <td>415</td>\n",
       "      <td>5</td>\n",
       "      <td>20</td>\n",
       "      <td>2019</td>\n",
       "      <td>21</td>\n",
       "    </tr>\n",
       "    <tr>\n",
       "      <th>...</th>\n",
       "      <td>...</td>\n",
       "      <td>...</td>\n",
       "      <td>...</td>\n",
       "      <td>...</td>\n",
       "      <td>...</td>\n",
       "      <td>...</td>\n",
       "      <td>...</td>\n",
       "      <td>...</td>\n",
       "      <td>...</td>\n",
       "      <td>...</td>\n",
       "      <td>...</td>\n",
       "      <td>...</td>\n",
       "    </tr>\n",
       "    <tr>\n",
       "      <th>2460554</th>\n",
       "      <td>2020-05-24</td>\n",
       "      <td>350</td>\n",
       "      <td>720</td>\n",
       "      <td>81</td>\n",
       "      <td>M</td>\n",
       "      <td>40</td>\n",
       "      <td>33</td>\n",
       "      <td>312</td>\n",
       "      <td>5</td>\n",
       "      <td>24</td>\n",
       "      <td>2020</td>\n",
       "      <td>21</td>\n",
       "    </tr>\n",
       "    <tr>\n",
       "      <th>2460555</th>\n",
       "      <td>2020-05-24</td>\n",
       "      <td>350</td>\n",
       "      <td>720</td>\n",
       "      <td>81</td>\n",
       "      <td>M</td>\n",
       "      <td>50</td>\n",
       "      <td>9</td>\n",
       "      <td>106</td>\n",
       "      <td>5</td>\n",
       "      <td>24</td>\n",
       "      <td>2020</td>\n",
       "      <td>21</td>\n",
       "    </tr>\n",
       "    <tr>\n",
       "      <th>2460556</th>\n",
       "      <td>2020-05-24</td>\n",
       "      <td>350</td>\n",
       "      <td>720</td>\n",
       "      <td>81</td>\n",
       "      <td>M</td>\n",
       "      <td>55</td>\n",
       "      <td>5</td>\n",
       "      <td>26</td>\n",
       "      <td>5</td>\n",
       "      <td>24</td>\n",
       "      <td>2020</td>\n",
       "      <td>21</td>\n",
       "    </tr>\n",
       "    <tr>\n",
       "      <th>2460557</th>\n",
       "      <td>2020-05-24</td>\n",
       "      <td>350</td>\n",
       "      <td>720</td>\n",
       "      <td>81</td>\n",
       "      <td>M</td>\n",
       "      <td>60</td>\n",
       "      <td>14</td>\n",
       "      <td>249</td>\n",
       "      <td>5</td>\n",
       "      <td>24</td>\n",
       "      <td>2020</td>\n",
       "      <td>21</td>\n",
       "    </tr>\n",
       "    <tr>\n",
       "      <th>2460558</th>\n",
       "      <td>2020-05-24</td>\n",
       "      <td>350</td>\n",
       "      <td>720</td>\n",
       "      <td>81</td>\n",
       "      <td>M</td>\n",
       "      <td>65</td>\n",
       "      <td>9</td>\n",
       "      <td>184</td>\n",
       "      <td>5</td>\n",
       "      <td>24</td>\n",
       "      <td>2020</td>\n",
       "      <td>21</td>\n",
       "    </tr>\n",
       "  </tbody>\n",
       "</table>\n",
       "<p>154991 rows × 12 columns</p>\n",
       "</div>"
      ],
      "text/plain": [
       "            STD_DD  GU_CD  DONG_CD  MCT_CAT_CD SEX_CD  AGE_CD  USE_CNT  \\\n",
       "1177416 2019-05-20    110      517          10      F      20        6   \n",
       "1177417 2019-05-20    110      517          10      F      25        6   \n",
       "1177418 2019-05-20    110      517          10      M      20        6   \n",
       "1177419 2019-05-20    110      517          10      M      25       11   \n",
       "1177420 2019-05-20    110      517          10      M      30       17   \n",
       "...            ...    ...      ...         ...    ...     ...      ...   \n",
       "2460554 2020-05-24    350      720          81      M      40       33   \n",
       "2460555 2020-05-24    350      720          81      M      50        9   \n",
       "2460556 2020-05-24    350      720          81      M      55        5   \n",
       "2460557 2020-05-24    350      720          81      M      60       14   \n",
       "2460558 2020-05-24    350      720          81      M      65        9   \n",
       "\n",
       "         USE_AMT  month  day  year  week  \n",
       "1177416       83      5   20  2019    21  \n",
       "1177417      220      5   20  2019    21  \n",
       "1177418      193      5   20  2019    21  \n",
       "1177419      275      5   20  2019    21  \n",
       "1177420      415      5   20  2019    21  \n",
       "...          ...    ...  ...   ...   ...  \n",
       "2460554      312      5   24  2020    21  \n",
       "2460555      106      5   24  2020    21  \n",
       "2460556       26      5   24  2020    21  \n",
       "2460557      249      5   24  2020    21  \n",
       "2460558      184      5   24  2020    21  \n",
       "\n",
       "[154991 rows x 12 columns]"
      ]
     },
     "execution_count": 245,
     "metadata": {},
     "output_type": "execute_result"
    }
   ],
   "source": [
    "rs_card_data[rs_card_data.week== max(rs_card_data.week-1)]\n",
    "# 즉 5.18의 값은 아래를 의미"
   ]
  },
  {
   "attachments": {},
   "cell_type": "markdown",
   "metadata": {},
   "source": [
    "숙박(10)\n",
    "\n",
    "레저용품(20)\n",
    "\n",
    "레저업소(21)\n",
    "\n",
    "문화취미(22)\n",
    "\n",
    "가구(30)\n",
    "\n",
    "전기(31)\n",
    "\n",
    "주방용구(32)\n",
    "\n",
    "연료판매(33)\n",
    "\n",
    "광학제품(34)\n",
    "\n",
    "가전(35)\n",
    "\n",
    "유통업(40)\n",
    "\n",
    "의복(42)\n",
    "\n",
    "직물(43)\n",
    "\n",
    "신변잡화(44)\n",
    "\n",
    "서적문구(50)\n",
    "\n",
    "사무통신(52)\n",
    "\n",
    "자동차판매(60)\n",
    "\n",
    "자동차정비(62)\n",
    "\n",
    "의료기관(70)\n",
    "\n",
    "보건위생(71)\n",
    "\n",
    "요식업소(80)\n",
    "\n",
    "음료식품(81)\n",
    "\n",
    "수리서비스(92)\n"
   ]
  },
  {
   "cell_type": "markdown",
   "metadata": {},
   "source": [
    "## 생각해볼 거리\n",
    "\n",
    "업종 코드를 간소화 하거나 일부만 봐야 할듯 \n",
    "\n",
    "평균을 사용할지 합산을 사용할지 생각해 봐야 할듯\n",
    "\n",
    "주당으로 하나로 볼지 주중 주말로 따로 볼지 생각해보기\n",
    "\n",
    "- 일별은 의미 없어보임, 주별로 하면 주중 주말 효과를 한번에 해결할 장점 있음, 주중 주말을 따로 보면 더 깊게 세부적으로 본다는 장점이 있음\n"
   ]
  },
  {
   "cell_type": "code",
   "execution_count": null,
   "metadata": {},
   "outputs": [],
   "source": []
  }
 ],
 "metadata": {
  "kernelspec": {
   "display_name": "Python 3",
   "language": "python",
   "name": "python3"
  },
  "toc": {
   "base_numbering": 1,
   "nav_menu": {},
   "number_sections": true,
   "sideBar": true,
   "skip_h1_title": false,
   "title_cell": "Table of Contents",
   "title_sidebar": "Contents",
   "toc_cell": false,
   "toc_position": {},
   "toc_section_display": true,
   "toc_window_display": false
  },
  "varInspector": {
   "cols": {
    "lenName": 16,
    "lenType": 16,
    "lenVar": 40
   },
   "kernels_config": {
    "python": {
     "delete_cmd_postfix": "",
     "delete_cmd_prefix": "del ",
     "library": "var_list.py",
     "varRefreshCmd": "print(var_dic_list())"
    },
    "r": {
     "delete_cmd_postfix": ") ",
     "delete_cmd_prefix": "rm(",
     "library": "var_list.r",
     "varRefreshCmd": "cat(var_dic_list()) "
    }
   },
   "types_to_exclude": [
    "module",
    "function",
    "builtin_function_or_method",
    "instance",
    "_Feature"
   ],
   "window_display": false
  }
 },
 "nbformat": 4,
 "nbformat_minor": 4
}
