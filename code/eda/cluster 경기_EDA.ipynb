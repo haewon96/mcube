{
 "cells": [
  {
   "cell_type": "code",
   "execution_count": 1039,
   "metadata": {},
   "outputs": [],
   "source": [
    "import numpy as np\n",
    "import pandas as pd\n",
    "import matplotlib\n",
    "import matplotlib.pyplot as plt\n",
    "import os"
   ]
  },
  {
   "cell_type": "code",
   "execution_count": 1040,
   "metadata": {
    "scrolled": true
   },
   "outputs": [
    {
     "data": {
      "text/plain": [
       "['AppleGothic']"
      ]
     },
     "execution_count": 1040,
     "metadata": {},
     "output_type": "execute_result"
    }
   ],
   "source": [
    "matplotlib.rcParams['font.family'] = 'AppleGothic'\n",
    "matplotlib.rcParams['font.family']"
   ]
  },
  {
   "cell_type": "markdown",
   "metadata": {},
   "source": [
    "# 불러오기"
   ]
  },
  {
   "cell_type": "code",
   "execution_count": 1041,
   "metadata": {},
   "outputs": [
    {
     "data": {
      "text/plain": [
       "31"
      ]
     },
     "execution_count": 1041,
     "metadata": {},
     "output_type": "execute_result"
    }
   ],
   "source": [
    "Gyeonggi_path = '/../../data/clustering_data/e지방지표/'\n",
    "Gyeonggi_list = os.listdir(Gyeonggi_path)\n",
    "len(Gyeonggi_list)"
   ]
  },
  {
   "cell_type": "code",
   "execution_count": 1042,
   "metadata": {},
   "outputs": [],
   "source": [
    "for i in range(len(Gyeonggi_list)):\n",
    "    #name = e_list[i][:-4]\n",
    "    #print(e_path+e_list[i])\n",
    "    path = Gyeonggi_path+Gyeonggi_list[i]\n",
    "    globals()['df_{}'.format(i)] = pd.read_csv(path, encoding = 'CP949')\n"
   ]
  },
  {
   "cell_type": "markdown",
   "metadata": {},
   "source": [
    "# e 경기지표"
   ]
  },
  {
   "cell_type": "code",
   "execution_count": 1043,
   "metadata": {},
   "outputs": [],
   "source": [
    "eGyeonggi_total = pd.concat([df_0,df_1,df_2,df_3,df_4,df_5,df_6,df_7,df_8,df_9,\n",
    "           df_10,df_11,df_12,df_13,df_14,df_15,df_16,df_17,df_18,df_19,\n",
    "           df_20,df_21,df_22,df_23,df_24,df_25,df_26,df_27,df_28,df_29,\n",
    "           df_30],\n",
    "      axis = 0,sort = True)"
   ]
  },
  {
   "cell_type": "code",
   "execution_count": 1044,
   "metadata": {},
   "outputs": [],
   "source": [
    "eGyeonggi_total.columns = ['2016', '2017', '2018', '2019', '2020', '지역별', '지표별_1', '지표별_2']"
   ]
  },
  {
   "cell_type": "code",
   "execution_count": 1045,
   "metadata": {},
   "outputs": [],
   "source": [
    "#지역별 이름 통일화\n",
    "si_mapping = {}\n",
    "for name in list(set(eGyeonggi_total.지역별)):\n",
    "   # print(name)\n",
    "    si_mapping[name] = name[3:]\n",
    "\n",
    "eGyeonggi_total['지역별'] = eGyeonggi_total['지역별'].map(si_mapping)"
   ]
  },
  {
   "cell_type": "code",
   "execution_count": 1046,
   "metadata": {},
   "outputs": [],
   "source": [
    "eGyeonggi_total = eGyeonggi_total[['2016','2017','2018','2019','지역별', '지표별_1', '지표별_2']]\n",
    "eGyeonggi_19yr = eGyeonggi_total[['2019','지역별', '지표별_2']]\n",
    "eGyeonggi_18yr = eGyeonggi_total[['2018','지역별', '지표별_2']]"
   ]
  },
  {
   "cell_type": "markdown",
   "metadata": {},
   "source": [
    "## 2019년 자료"
   ]
  },
  {
   "cell_type": "code",
   "execution_count": 1047,
   "metadata": {
    "scrolled": true
   },
   "outputs": [],
   "source": [
    "eGyeonggi_19yr_df = eGyeonggi_19yr.set_index(['지표별_2','지역별']).unstack('지표별_2')\n",
    "#df.columns\n",
    "#eGyeonggi_19yr_df.info()"
   ]
  },
  {
   "cell_type": "code",
   "execution_count": 1048,
   "metadata": {},
   "outputs": [],
   "source": [
    "eGyeonggi_19yr_df = eGyeonggi_19yr_df[[\n",
    "            ('2019',         'EQ-5D (점)'),\n",
    "            ('2019',          '가구수 (가구)'),\n",
    "            #('2019',      '건강보험 적용인구 현황'),\n",
    "            ('2019',        '고위험음주율 (%)'),\n",
    "            ('2019',       '논경지면적 (헥타르)'),\n",
    "            ('2019',          '농가수 (가구)'),\n",
    "            ('2019',          '농가인구 (명)'),\n",
    "            #('2019',      '도소매업사업체수 (개)'),\n",
    "            #('2019',      '도소매업종사자수 (명)'),\n",
    "            ('2019',            '도시지역면적'),\n",
    "            ('2019',      '등록외국인 현황 (명)'),\n",
    "            #('2019',           '비만율 (%)'),\n",
    "            #('2019',          '사망자수 (명)'),\n",
    "            #('2019',          '사업체수 (개)'),\n",
    "            #('2019',        '상수도보급률 (%)'),\n",
    "            #('2019',      '서비스업사업체수 (개)'),\n",
    "            #('2019',     '소비자물가 등락률 (%)'),\n",
    "            ('2019',         '순이동인구 (명)'),\n",
    "            ('2019',      '스트레스 인지율 (%)'),\n",
    "            #('2019',       '운수업사업체수 (개)'),\n",
    "            #('2019',       '운수업종사자수 (명)'),\n",
    "            ('2019',       '유치원 교원수 (명)'),\n",
    "            ('2019',       '유치원 원아수 (명)'),\n",
    "            ('2019',          '유치원수 (개)'),\n",
    "            ('2019',           '음주율 (%)'),\n",
    "            #('2019', '인구십만명당 자살률 (십만명당)'),\n",
    "            ('2019',          '인구총조사 인구'),\n",
    "            ('2019',          '전입인구 (명)'),\n",
    "            ('2019',          '전출인구 (명)'),\n",
    "            #('2019',       '제조업사업체수 (개)'),\n",
    "            #('2019',       '제조업종사자수 (명)'),\n",
    "            ('2019',              '조이혼율'),\n",
    "            ('2019',              '조혼인율'),\n",
    "            #('2019',          '종사자수 (명)'),\n",
    "            ('2019',   '주관적 건강수준인지율 (%)'),\n",
    "            ('2019',        '주민등록인구 (명)'),\n",
    "            ('2019',           '주택수 (호)'),\n",
    "            ('2019',      '초등학교 교원수 (명)'),\n",
    "            ('2019',      '초등학교 학생수 (명)'),\n",
    "            ('2019',         '초등학교수 (개)'),\n",
    "            ('2019',          '출생아수 (명)'),\n",
    "            #('2019', '친환경인증 농산물 출하량 (톤)'),\n",
    "            #('2019', '친환경인증 축산물 출하량 (톤)'),\n",
    "            ('2019',       '토지거래면적 (천㎡)'),\n",
    "            ('2019',              '평균연령'),\n",
    "            #('2019',       '폐수배출업소수 (개)'),\n",
    "            #('2019',        '하수도보급률 (%)'),\n",
    "            ('2019',       '학급당 학생수 (명)'),\n",
    "            ('2019',             '합계출산율'),\n",
    "            ('2019',          '혼인건수 (건)'),\n",
    "            ('2019',        '화재발생건수 (건)'),\n",
    "            ('2019',           '흡연율 (%)')]]"
   ]
  },
  {
   "cell_type": "code",
   "execution_count": 1049,
   "metadata": {},
   "outputs": [],
   "source": [
    "#eGyeonggi_19yr_df.info()"
   ]
  },
  {
   "cell_type": "markdown",
   "metadata": {},
   "source": [
    "## 2018년 산업관련 자료"
   ]
  },
  {
   "cell_type": "code",
   "execution_count": 1050,
   "metadata": {
    "scrolled": true
   },
   "outputs": [],
   "source": [
    "eGyeonggi_18yr_df= eGyeonggi_18yr.set_index(['지표별_2','지역별']).unstack('지표별_2')\n",
    "eGyeonggi_18yr_industry = eGyeonggi_18yr_df[[\n",
    "            ('2018',      '서비스업사업체수 (개)'),\n",
    "            ('2018',       '제조업사업체수 (개)'),\n",
    "            ('2018',       '제조업종사자수 (명)'),\n",
    "            ('2018',      '도소매업사업체수 (개)'),\n",
    "            ('2018',      '도소매업종사자수 (명)'),\n",
    "            ('2018',       '운수업사업체수 (개)'),\n",
    "            ('2018',       '운수업종사자수 (명)'),\n",
    "            ('2018',          '사업체수 (개)'), \n",
    "            ('2018',          '종사자수 (명)')]]"
   ]
  },
  {
   "cell_type": "code",
   "execution_count": 1051,
   "metadata": {},
   "outputs": [],
   "source": [
    "eGyeonggi_18yr_industry = eGyeonggi_18yr_industry.apply(pd.to_numeric)"
   ]
  },
  {
   "cell_type": "code",
   "execution_count": 1052,
   "metadata": {},
   "outputs": [],
   "source": [
    "#%matplotlib inline\n",
    "#eGyeonggi_18yr_industry.apply(pd.to_numeric).plot(kind = 'barh', figsize=(9,9))\n",
    "#plt.legend(bbox_to_anchor=(1.05, 1))"
   ]
  },
  {
   "cell_type": "markdown",
   "metadata": {},
   "source": [
    "## 통합"
   ]
  },
  {
   "cell_type": "code",
   "execution_count": 1053,
   "metadata": {
    "scrolled": false
   },
   "outputs": [],
   "source": [
    "eGyeonggi_final_df = pd.concat([eGyeonggi_18yr_industry,eGyeonggi_19yr_df],axis = 1)\n",
    "eGyeonggi_final_df = eGyeonggi_final_df.apply(pd.to_numeric)"
   ]
  },
  {
   "cell_type": "code",
   "execution_count": 1054,
   "metadata": {},
   "outputs": [],
   "source": [
    "eGyeonggi_final_df.columns = eGyeonggi_final_df.columns.droplevel([0])\n",
    "eGyeonggi_final_df.reset_index(inplace = True)"
   ]
  },
  {
   "cell_type": "markdown",
   "metadata": {},
   "source": [
    "eGyeonggi_summary"
   ]
  },
  {
   "cell_type": "code",
   "execution_count": 1055,
   "metadata": {},
   "outputs": [],
   "source": [
    "eGyeonggi_summary = pd.DataFrame()\n",
    "eGyeonggi_summary['지역별'] = eGyeonggi_final_df.지역별"
   ]
  },
  {
   "cell_type": "code",
   "execution_count": 1056,
   "metadata": {},
   "outputs": [],
   "source": [
    "eGyeonggi_summary['서비스업사업체비율'] = eGyeonggi_final_df.apply(lambda x : x['서비스업사업체수 (개)']/ x['사업체수 (개)'], axis = 1)\n",
    "eGyeonggi_summary['제조업사업체비율'] = eGyeonggi_final_df.apply(lambda x : x['제조업사업체수 (개)']/ x['사업체수 (개)'], axis = 1)\n",
    "eGyeonggi_summary['도소매업사업체비율'] = eGyeonggi_final_df.apply(lambda x : x['도소매업사업체수 (개)']/ x['사업체수 (개)'], axis = 1)\n",
    "eGyeonggi_summary['운수업사업체비율'] = eGyeonggi_final_df.apply(lambda x : x['운수업사업체수 (개)']/ x['사업체수 (개)'], axis = 1)"
   ]
  },
  {
   "cell_type": "code",
   "execution_count": 1057,
   "metadata": {},
   "outputs": [],
   "source": [
    "eGyeonggi_summary['제조업종사자비율'] = eGyeonggi_final_df.apply(lambda x : x['제조업종사자수 (명)']/ x['종사자수 (명)'], axis = 1)\n",
    "eGyeonggi_summary['도소매업종사자비율'] = eGyeonggi_final_df.apply(lambda x : x['도소매업종사자수 (명)']/ x['종사자수 (명)'], axis = 1)\n",
    "eGyeonggi_summary['운수업종사자비율'] = eGyeonggi_final_df.apply(lambda x : x['운수업종사자수 (명)']/ x['종사자수 (명)'], axis = 1)"
   ]
  },
  {
   "cell_type": "code",
   "execution_count": 1058,
   "metadata": {},
   "outputs": [],
   "source": [
    "eGyeonggi_summary['농업가구비율'] = eGyeonggi_final_df.apply(lambda x : x['농가수 (가구)']/ x['가구수 (가구)'], axis = 1)"
   ]
  },
  {
   "cell_type": "code",
   "execution_count": 1059,
   "metadata": {},
   "outputs": [],
   "source": [
    "eGyeonggi_admin_feature = eGyeonggi_final_df[['지역별','합계출산율','인구총조사 인구','도시지역면적']]"
   ]
  },
  {
   "cell_type": "code",
   "execution_count": 1060,
   "metadata": {},
   "outputs": [],
   "source": [
    "eGyeonggi_summary = pd.merge(eGyeonggi_summary,eGyeonggi_admin_feature)"
   ]
  },
  {
   "cell_type": "code",
   "execution_count": 1061,
   "metadata": {},
   "outputs": [],
   "source": [
    "eGyeonggi_summary.to_csv(\"경기_e지표_정리.csv\", mode='w')"
   ]
  },
  {
   "cell_type": "markdown",
   "metadata": {},
   "source": [
    "# GRDP"
   ]
  },
  {
   "cell_type": "code",
   "execution_count": null,
   "metadata": {},
   "outputs": [],
   "source": [
    "GRDP_path = '/../../data/clustering_data/210_DT_GRDP008_20200825045334.csv'\n",
    "GRDP_raw = pd.read_csv(GRDP_path)[['행정구역(시·군)별', '경제활동별', '항목', '2016 년', '2015 년', '2014 년', '2013 년', '2012 년', '2011 년', '2010 년']]"
   ]
  },
  {
   "cell_type": "code",
   "execution_count": null,
   "metadata": {},
   "outputs": [],
   "source": [
    "GRDP_raw.columns  = ['지역별', '경제활동별', '항목', '2016', '2015', '2014', '2013', '2012', '2011', '2010']\n"
   ]
  },
  {
   "cell_type": "code",
   "execution_count": null,
   "metadata": {},
   "outputs": [],
   "source": [
    "GRDP_raw = GRDP_raw[GRDP_raw.지역별 != '합계']\n",
    "GRDP_total = GRDP_raw[GRDP_raw.항목 == '산출액(당해년가격)']\n",
    "GRDP_final_df = GRDP_total.replace('-',0)"
   ]
  },
  {
   "cell_type": "code",
   "execution_count": null,
   "metadata": {},
   "outputs": [],
   "source": [
    "GRDP_final_df[['2016', '2015', '2014', '2013', '2012', '2011', '2010']] = \\\n",
    "GRDP_final_df[['2016', '2015', '2014', '2013', '2012', '2011', '2010']].apply(pd.to_numeric)"
   ]
  },
  {
   "cell_type": "code",
   "execution_count": null,
   "metadata": {},
   "outputs": [],
   "source": [
    "GRDP_final_df.head()"
   ]
  },
  {
   "cell_type": "code",
   "execution_count": null,
   "metadata": {},
   "outputs": [],
   "source": [
    "#eGyeonggi_final_df\n",
    "#floatingppl_19yr\n",
    "#GRDP_final_df"
   ]
  },
  {
   "cell_type": "code",
   "execution_count": null,
   "metadata": {},
   "outputs": [],
   "source": [
    "eGyeonggi_final_df.to_csv(\"경기_e지표.csv\", mode='w')"
   ]
  },
  {
   "cell_type": "code",
   "execution_count": null,
   "metadata": {},
   "outputs": [],
   "source": [
    "floatingppl_19yr.to_csv(\"경기_19년도_유동인구.csv\", mode='w')"
   ]
  },
  {
   "cell_type": "code",
   "execution_count": null,
   "metadata": {},
   "outputs": [],
   "source": [
    "GRDP_final_df.to_csv(\"경기_GRDP.csv\", mode='w')"
   ]
  }
 ],
 "metadata": {
  "kernelspec": {
   "display_name": "Python [conda env:DL] *",
   "language": "python",
   "name": "conda-env-DL-py"
  },
  "language_info": {
   "codemirror_mode": {
    "name": "ipython",
    "version": 3
   },
   "file_extension": ".py",
   "mimetype": "text/x-python",
   "name": "python",
   "nbconvert_exporter": "python",
   "pygments_lexer": "ipython3",
   "version": "3.7.7"
  }
 },
 "nbformat": 4,
 "nbformat_minor": 4
}
