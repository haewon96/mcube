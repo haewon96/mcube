{
 "cells": [
  {
   "cell_type": "code",
   "execution_count": 1,
   "metadata": {},
   "outputs": [],
   "source": [
    "import time\n",
    "import re\n",
    "\n",
    "from selenium.webdriver.common.action_chains import ActionChains\n",
    "from selenium import webdriver\n",
    "from tqdm import tqdm\n",
    "import pandas as pd"
   ]
  },
  {
   "cell_type": "code",
   "execution_count": 4,
   "metadata": {},
   "outputs": [],
   "source": [
    "url = 'https://coronaboard.kr/'\n",
    "\n",
    "driver = webdriver.Chrome()\n",
    "driver.get(url)\n",
    "time.sleep(7)\n",
    "driver.find_element_by_xpath('/html/body/div[12]/div/div[1]/div[2]/div/div[3]/ul[1]/li[2]/a').click()\n",
    "time.sleep(2)"
   ]
  },
  {
   "cell_type": "markdown",
   "metadata": {},
   "source": [
    "# 전국 입원환자수 "
   ]
  },
  {
   "cell_type": "code",
   "execution_count": 6,
   "metadata": {},
   "outputs": [
    {
     "name": "stderr",
     "output_type": "stream",
     "text": [
      "100%|████████████████████████████████████████████████████████████████████████████████| 280/280 [01:54<00:00,  2.45it/s]\n"
     ]
    }
   ],
   "source": [
    "canvas = driver.find_element_by_xpath('/html/body/div[12]/div/div[1]/div[1]/div/div/div[1]/canvas')\n",
    "ActionChains(driver).move_to_element(canvas).move_by_offset(-420, 0).click().perform()\n",
    "\n",
    "dt = []\n",
    "num = []\n",
    "\n",
    "for i in tqdm(range(280)):\n",
    "    ActionChains(driver).move_by_offset(3, 0).click().perform()\n",
    "    page = driver.find_element_by_xpath('/html/body/div[12]/div/div[1]/div[1]/div/div/div[2]').text\n",
    "\n",
    "    dt.append(page.split('\\n')[0])\n",
    "    num.append(re.findall('\\d+',page.split('\\n')[1] )[0])"
   ]
  },
  {
   "cell_type": "code",
   "execution_count": 7,
   "metadata": {},
   "outputs": [],
   "source": [
    "t_data = pd.DataFrame({'date':dt, 'patient':num}).drop_duplicates()"
   ]
  },
  {
   "cell_type": "code",
   "execution_count": 9,
   "metadata": {},
   "outputs": [],
   "source": [
    "t_data.to_csv('../../data/covid19/covid19_patient.csv')"
   ]
  },
  {
   "cell_type": "markdown",
   "metadata": {},
   "source": [
    "# 서울 대구 확진자수"
   ]
  },
  {
   "cell_type": "code",
   "execution_count": 5,
   "metadata": {},
   "outputs": [
    {
     "name": "stderr",
     "output_type": "stream",
     "text": [
      "100%|████████████████████████████████████████████████████████████████████████████████| 280/280 [01:26<00:00,  3.25it/s]\n"
     ]
    }
   ],
   "source": [
    "canvas = driver.find_element_by_xpath('//*[@id=\"kr-compare-chart\"]/div[1]/canvas')\n",
    "ActionChains(driver).move_to_element(canvas).move_by_offset(-420, 0).click().perform()\n",
    "\n",
    "date = []\n",
    "seoul = []\n",
    "daegu = []\n",
    "\n",
    "for i in tqdm(range(280)):\n",
    "    ActionChains(driver).move_by_offset(3, 0).click().perform()\n",
    "    page = driver.find_element_by_xpath('/html/body/div[12]/div/div[1]/div[2]/div/div[1]/div[2]').text\n",
    "\n",
    "    date.append(page.split('\\n')[0])\n",
    "    seoul.append(int(re.findall('\\d+',page.split('\\n')[1] )[0]))\n",
    "    daegu.append(int(re.findall('\\d+',page.split('\\n')[2] )[0]))"
   ]
  },
  {
   "cell_type": "code",
   "execution_count": 6,
   "metadata": {},
   "outputs": [],
   "source": [
    "data = pd.DataFrame({'date':date, 'seoul':seoul, 'daegu':daegu}).drop_duplicates()"
   ]
  },
  {
   "cell_type": "code",
   "execution_count": 23,
   "metadata": {},
   "outputs": [],
   "source": [
    "data.to_csv('../../data/covid19/covid19_confirmed.csv')"
   ]
  },
  {
   "cell_type": "markdown",
   "metadata": {},
   "source": [
    "# 서울 대구 사망자수"
   ]
  },
  {
   "cell_type": "code",
   "execution_count": 24,
   "metadata": {},
   "outputs": [
    {
     "name": "stderr",
     "output_type": "stream",
     "text": [
      "100%|████████████████████████████████████████████████████████████████████████████████| 280/280 [01:25<00:00,  3.29it/s]\n"
     ]
    }
   ],
   "source": [
    "driver.find_element_by_xpath('/html/body/div[12]/div/div[1]/div[2]/div/div[3]/ul[2]/li[2]/a').click()\n",
    "time.sleep(2)\n",
    "\n",
    "canvas = driver.find_element_by_xpath('//*[@id=\"kr-compare-chart\"]/div[1]/canvas')\n",
    "ActionChains(driver).move_to_element(canvas).move_by_offset(-420, 0).click().perform()\n",
    "\n",
    "date2 = []\n",
    "seoul2 = []\n",
    "daegu2 = []\n",
    "\n",
    "for i in tqdm(range(280)):\n",
    "    ActionChains(driver).move_by_offset(3, 0).click().perform()\n",
    "    page = driver.find_element_by_xpath('/html/body/div[12]/div/div[1]/div[2]/div/div[1]/div[2]').text\n",
    "\n",
    "    date2.append(page.split('\\n')[0])\n",
    "    seoul2.append(int(re.findall('\\d+',page.split('\\n')[1] )[0]))\n",
    "    daegu2.append(int(re.findall('\\d+',page.split('\\n')[2] )[0]))\n",
    "    \n",
    "data2 = pd.DataFrame({'date':date2, 'seoul':seoul2, 'daegu':daegu2}).drop_duplicates()\n",
    "data2.to_csv('../../data/covid19/covid19_deaths.csv')"
   ]
  },
  {
   "cell_type": "markdown",
   "metadata": {},
   "source": [
    "# 서울 대구 격리해제"
   ]
  },
  {
   "cell_type": "code",
   "execution_count": 25,
   "metadata": {},
   "outputs": [
    {
     "name": "stderr",
     "output_type": "stream",
     "text": [
      "100%|████████████████████████████████████████████████████████████████████████████████| 280/280 [01:25<00:00,  3.29it/s]\n"
     ]
    }
   ],
   "source": [
    "driver.find_element_by_xpath('/html/body/div[12]/div/div[1]/div[2]/div/div[3]/ul[2]/li[3]/a').click()\n",
    "time.sleep(2)\n",
    "\n",
    "canvas = driver.find_element_by_xpath('//*[@id=\"kr-compare-chart\"]/div[1]/canvas')\n",
    "ActionChains(driver).move_to_element(canvas).move_by_offset(-420, 0).click().perform()\n",
    "\n",
    "date3 = []\n",
    "seoul3 = []\n",
    "daegu3 = []\n",
    "\n",
    "for i in tqdm(range(280)):\n",
    "    ActionChains(driver).move_by_offset(3, 0).click().perform()\n",
    "    page = driver.find_element_by_xpath('/html/body/div[12]/div/div[1]/div[2]/div/div[1]/div[2]').text\n",
    "\n",
    "    date3.append(page.split('\\n')[0])\n",
    "    seoul3.append(int(re.findall('\\d+',page.split('\\n')[1] )[0]))\n",
    "    daegu3.append(int(re.findall('\\d+',page.split('\\n')[2] )[0]))\n",
    "    \n",
    "data3 = pd.DataFrame({'date':date3, 'seoul':seoul3, 'daegu':daegu3}).drop_duplicates()\n",
    "data3.to_csv('../../data/covid19/covid19_recovered.csv')"
   ]
  }
 ],
 "metadata": {
  "kernelspec": {
   "display_name": "Python 3",
   "language": "python",
   "name": "python3"
  },
  "language_info": {
   "codemirror_mode": {
    "name": "ipython",
    "version": 3
   },
   "file_extension": ".py",
   "mimetype": "text/x-python",
   "name": "python",
   "nbconvert_exporter": "python",
   "pygments_lexer": "ipython3",
   "version": "3.7.7"
  },
  "toc": {
   "base_numbering": 1,
   "nav_menu": {},
   "number_sections": true,
   "sideBar": true,
   "skip_h1_title": false,
   "title_cell": "Table of Contents",
   "title_sidebar": "Contents",
   "toc_cell": false,
   "toc_position": {},
   "toc_section_display": true,
   "toc_window_display": false
  },
  "varInspector": {
   "cols": {
    "lenName": 16,
    "lenType": 16,
    "lenVar": 40
   },
   "kernels_config": {
    "python": {
     "delete_cmd_postfix": "",
     "delete_cmd_prefix": "del ",
     "library": "var_list.py",
     "varRefreshCmd": "print(var_dic_list())"
    },
    "r": {
     "delete_cmd_postfix": ") ",
     "delete_cmd_prefix": "rm(",
     "library": "var_list.r",
     "varRefreshCmd": "cat(var_dic_list()) "
    }
   },
   "types_to_exclude": [
    "module",
    "function",
    "builtin_function_or_method",
    "instance",
    "_Feature"
   ],
   "window_display": false
  }
 },
 "nbformat": 4,
 "nbformat_minor": 4
}
