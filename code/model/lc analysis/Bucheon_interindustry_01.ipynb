{
 "cells": [
  {
   "cell_type": "code",
   "execution_count": 1,
   "metadata": {},
   "outputs": [],
   "source": [
    "import pandas as pd\n",
    "from pandas import Series, DataFrame\n",
    "import numpy as np\n",
    "import matplotlib.pyplot as plt\n",
    "plt.rcParams['font.family'] = 'AppleGothic'\n",
    "from matplotlib import pyplot\n",
    "\n",
    "from datetime import datetime"
   ]
  },
  {
   "cell_type": "code",
   "execution_count": 10,
   "metadata": {},
   "outputs": [],
   "source": [
    "general=pd.read_csv('/Users/zzna/Documents/zzna/dev/git/mcube/data/localcurrency/general_currency_weekly.csv')\n",
    "policy=pd.read_csv('/Users/zzna/Documents/zzna/dev/git/mcube/data/localcurrency/policy_currency_weekly.csv')"
   ]
  },
  {
   "cell_type": "code",
   "execution_count": 14,
   "metadata": {},
   "outputs": [
    {
     "data": {
      "text/html": [
       "<div>\n",
       "<style scoped>\n",
       "    .dataframe tbody tr th:only-of-type {\n",
       "        vertical-align: middle;\n",
       "    }\n",
       "\n",
       "    .dataframe tbody tr th {\n",
       "        vertical-align: top;\n",
       "    }\n",
       "\n",
       "    .dataframe thead th {\n",
       "        text-align: right;\n",
       "    }\n",
       "</style>\n",
       "<table border=\"1\" class=\"dataframe\">\n",
       "  <thead>\n",
       "    <tr style=\"text-align: right;\">\n",
       "      <th></th>\n",
       "      <th>weekly_from_mon</th>\n",
       "      <th>가맹점업종명</th>\n",
       "      <th>결제상품명</th>\n",
       "      <th>결제총액</th>\n",
       "      <th>결제횟수</th>\n",
       "    </tr>\n",
       "  </thead>\n",
       "  <tbody>\n",
       "    <tr>\n",
       "      <th>0</th>\n",
       "      <td>2019-03-25</td>\n",
       "      <td>유통업 영리</td>\n",
       "      <td>양주사랑카드</td>\n",
       "      <td>7600</td>\n",
       "      <td>1</td>\n",
       "    </tr>\n",
       "    <tr>\n",
       "      <th>1</th>\n",
       "      <td>2019-03-25</td>\n",
       "      <td>일반휴게음식</td>\n",
       "      <td>양주사랑카드</td>\n",
       "      <td>26200</td>\n",
       "      <td>2</td>\n",
       "    </tr>\n",
       "    <tr>\n",
       "      <th>2</th>\n",
       "      <td>2019-03-25</td>\n",
       "      <td>일반휴게음식</td>\n",
       "      <td>여주사랑카드</td>\n",
       "      <td>14000</td>\n",
       "      <td>1</td>\n",
       "    </tr>\n",
       "    <tr>\n",
       "      <th>3</th>\n",
       "      <td>2019-04-01</td>\n",
       "      <td>건축자재</td>\n",
       "      <td>양주사랑카드</td>\n",
       "      <td>16500</td>\n",
       "      <td>1</td>\n",
       "    </tr>\n",
       "    <tr>\n",
       "      <th>4</th>\n",
       "      <td>2019-04-01</td>\n",
       "      <td>건축자재</td>\n",
       "      <td>여주사랑카드</td>\n",
       "      <td>5000</td>\n",
       "      <td>1</td>\n",
       "    </tr>\n",
       "    <tr>\n",
       "      <th>...</th>\n",
       "      <td>...</td>\n",
       "      <td>...</td>\n",
       "      <td>...</td>\n",
       "      <td>...</td>\n",
       "      <td>...</td>\n",
       "    </tr>\n",
       "    <tr>\n",
       "      <th>15874</th>\n",
       "      <td>2019-09-30</td>\n",
       "      <td>회원제형태</td>\n",
       "      <td>의정부사랑카드</td>\n",
       "      <td>2325100</td>\n",
       "      <td>8</td>\n",
       "    </tr>\n",
       "    <tr>\n",
       "      <th>15875</th>\n",
       "      <td>2019-09-30</td>\n",
       "      <td>회원제형태</td>\n",
       "      <td>이천사랑지역화폐</td>\n",
       "      <td>1030000</td>\n",
       "      <td>5</td>\n",
       "    </tr>\n",
       "    <tr>\n",
       "      <th>15876</th>\n",
       "      <td>2019-09-30</td>\n",
       "      <td>회원제형태</td>\n",
       "      <td>파주 Pay(파주페이)</td>\n",
       "      <td>1960500</td>\n",
       "      <td>11</td>\n",
       "    </tr>\n",
       "    <tr>\n",
       "      <th>15877</th>\n",
       "      <td>2019-09-30</td>\n",
       "      <td>회원제형태</td>\n",
       "      <td>하남하머니</td>\n",
       "      <td>2308300</td>\n",
       "      <td>7</td>\n",
       "    </tr>\n",
       "    <tr>\n",
       "      <th>15878</th>\n",
       "      <td>2019-09-30</td>\n",
       "      <td>회원제형태</td>\n",
       "      <td>행복화성지역화폐</td>\n",
       "      <td>7711500</td>\n",
       "      <td>21</td>\n",
       "    </tr>\n",
       "  </tbody>\n",
       "</table>\n",
       "<p>15879 rows × 5 columns</p>\n",
       "</div>"
      ],
      "text/plain": [
       "      weekly_from_mon  가맹점업종명         결제상품명     결제총액  결제횟수\n",
       "0          2019-03-25  유통업 영리        양주사랑카드     7600     1\n",
       "1          2019-03-25  일반휴게음식        양주사랑카드    26200     2\n",
       "2          2019-03-25  일반휴게음식        여주사랑카드    14000     1\n",
       "3          2019-04-01    건축자재        양주사랑카드    16500     1\n",
       "4          2019-04-01    건축자재        여주사랑카드     5000     1\n",
       "...               ...     ...           ...      ...   ...\n",
       "15874      2019-09-30   회원제형태       의정부사랑카드  2325100     8\n",
       "15875      2019-09-30   회원제형태      이천사랑지역화폐  1030000     5\n",
       "15876      2019-09-30   회원제형태  파주 Pay(파주페이)  1960500    11\n",
       "15877      2019-09-30   회원제형태         하남하머니  2308300     7\n",
       "15878      2019-09-30   회원제형태      행복화성지역화폐  7711500    21\n",
       "\n",
       "[15879 rows x 5 columns]"
      ]
     },
     "execution_count": 14,
     "metadata": {},
     "output_type": "execute_result"
    }
   ],
   "source": [
    "general['weekly_from_mon']=pd.to_datetime(general['weekly_from_mon'])\n",
    "policy['weekly_from_mon']=pd.to_datetime(policy['weekly_from_mon'])\n",
    "general"
   ]
  },
  {
   "cell_type": "code",
   "execution_count": 18,
   "metadata": {},
   "outputs": [
    {
     "data": {
      "text/html": [
       "<div>\n",
       "<style scoped>\n",
       "    .dataframe tbody tr th:only-of-type {\n",
       "        vertical-align: middle;\n",
       "    }\n",
       "\n",
       "    .dataframe tbody tr th {\n",
       "        vertical-align: top;\n",
       "    }\n",
       "\n",
       "    .dataframe thead th {\n",
       "        text-align: right;\n",
       "    }\n",
       "</style>\n",
       "<table border=\"1\" class=\"dataframe\">\n",
       "  <thead>\n",
       "    <tr style=\"text-align: right;\">\n",
       "      <th></th>\n",
       "      <th>weekly_from_mon</th>\n",
       "      <th>가맹점업종명</th>\n",
       "      <th>결제상품명</th>\n",
       "      <th>결제총액</th>\n",
       "      <th>결제횟수</th>\n",
       "    </tr>\n",
       "  </thead>\n",
       "  <tbody>\n",
       "    <tr>\n",
       "      <th>9</th>\n",
       "      <td>2019-04-01</td>\n",
       "      <td>레저업소</td>\n",
       "      <td>부천페이</td>\n",
       "      <td>310700</td>\n",
       "      <td>3</td>\n",
       "    </tr>\n",
       "    <tr>\n",
       "      <th>18</th>\n",
       "      <td>2019-04-01</td>\n",
       "      <td>문화.취미</td>\n",
       "      <td>부천페이</td>\n",
       "      <td>150000</td>\n",
       "      <td>2</td>\n",
       "    </tr>\n",
       "    <tr>\n",
       "      <th>24</th>\n",
       "      <td>2019-04-01</td>\n",
       "      <td>보건위생</td>\n",
       "      <td>부천페이</td>\n",
       "      <td>64600</td>\n",
       "      <td>4</td>\n",
       "    </tr>\n",
       "    <tr>\n",
       "      <th>31</th>\n",
       "      <td>2019-04-01</td>\n",
       "      <td>사무통신</td>\n",
       "      <td>부천페이</td>\n",
       "      <td>10000</td>\n",
       "      <td>1</td>\n",
       "    </tr>\n",
       "    <tr>\n",
       "      <th>38</th>\n",
       "      <td>2019-04-01</td>\n",
       "      <td>수리서비스</td>\n",
       "      <td>부천페이</td>\n",
       "      <td>10000</td>\n",
       "      <td>1</td>\n",
       "    </tr>\n",
       "    <tr>\n",
       "      <th>...</th>\n",
       "      <td>...</td>\n",
       "      <td>...</td>\n",
       "      <td>...</td>\n",
       "      <td>...</td>\n",
       "      <td>...</td>\n",
       "    </tr>\n",
       "    <tr>\n",
       "      <th>15812</th>\n",
       "      <td>2019-09-30</td>\n",
       "      <td>전기제품</td>\n",
       "      <td>부천페이</td>\n",
       "      <td>124700</td>\n",
       "      <td>4</td>\n",
       "    </tr>\n",
       "    <tr>\n",
       "      <th>15818</th>\n",
       "      <td>2019-09-30</td>\n",
       "      <td>주방용구</td>\n",
       "      <td>부천페이</td>\n",
       "      <td>23000</td>\n",
       "      <td>3</td>\n",
       "    </tr>\n",
       "    <tr>\n",
       "      <th>15825</th>\n",
       "      <td>2019-09-30</td>\n",
       "      <td>직물</td>\n",
       "      <td>부천페이</td>\n",
       "      <td>28000</td>\n",
       "      <td>2</td>\n",
       "    </tr>\n",
       "    <tr>\n",
       "      <th>15841</th>\n",
       "      <td>2019-09-30</td>\n",
       "      <td>학원</td>\n",
       "      <td>부천페이</td>\n",
       "      <td>43582250</td>\n",
       "      <td>168</td>\n",
       "    </tr>\n",
       "    <tr>\n",
       "      <th>15864</th>\n",
       "      <td>2019-09-30</td>\n",
       "      <td>회원제형태</td>\n",
       "      <td>부천페이</td>\n",
       "      <td>9241000</td>\n",
       "      <td>25</td>\n",
       "    </tr>\n",
       "  </tbody>\n",
       "</table>\n",
       "<p>779 rows × 5 columns</p>\n",
       "</div>"
      ],
      "text/plain": [
       "      weekly_from_mon 가맹점업종명 결제상품명      결제총액  결제횟수\n",
       "9          2019-04-01   레저업소  부천페이    310700     3\n",
       "18         2019-04-01  문화.취미  부천페이    150000     2\n",
       "24         2019-04-01   보건위생  부천페이     64600     4\n",
       "31         2019-04-01   사무통신  부천페이     10000     1\n",
       "38         2019-04-01  수리서비스  부천페이     10000     1\n",
       "...               ...    ...   ...       ...   ...\n",
       "15812      2019-09-30   전기제품  부천페이    124700     4\n",
       "15818      2019-09-30   주방용구  부천페이     23000     3\n",
       "15825      2019-09-30     직물  부천페이     28000     2\n",
       "15841      2019-09-30     학원  부천페이  43582250   168\n",
       "15864      2019-09-30  회원제형태  부천페이   9241000    25\n",
       "\n",
       "[779 rows x 5 columns]"
      ]
     },
     "execution_count": 18,
     "metadata": {},
     "output_type": "execute_result"
    }
   ],
   "source": [
    "bucheon_gc=general[general['결제상품명']=='부천페이']\n",
    "bucheon_gc"
   ]
  },
  {
   "cell_type": "code",
   "execution_count": 23,
   "metadata": {},
   "outputs": [
    {
     "data": {
      "text/plain": [
       "431376883"
      ]
     },
     "execution_count": 23,
     "metadata": {},
     "output_type": "execute_result"
    }
   ],
   "source": [
    "general[general['가맹점업종명']=='가구']['결제총액'].sum()"
   ]
  },
  {
   "cell_type": "code",
   "execution_count": 25,
   "metadata": {},
   "outputs": [
    {
     "data": {
      "text/plain": [
       "8299500"
      ]
     },
     "execution_count": 25,
     "metadata": {},
     "output_type": "execute_result"
    }
   ],
   "source": [
    "bucheon_gc[bucheon_gc['가맹점업종명']=='가구']['결제총액'].sum()"
   ]
  },
  {
   "cell_type": "code",
   "execution_count": 27,
   "metadata": {},
   "outputs": [
    {
     "data": {
      "text/plain": [
       "0.01923955670104835"
      ]
     },
     "execution_count": 27,
     "metadata": {},
     "output_type": "execute_result"
    }
   ],
   "source": [
    "bucheon_gc[bucheon_gc['가맹점업종명']=='가구']['결제총액'].sum()/general[general['가맹점업종명']=='가구']['결제총액'].sum()"
   ]
  },
  {
   "cell_type": "code",
   "execution_count": 59,
   "metadata": {},
   "outputs": [
    {
     "data": {
      "text/plain": [
       "0.1283147233818278"
      ]
     },
     "execution_count": 59,
     "metadata": {},
     "output_type": "execute_result"
    }
   ],
   "source": [
    "bucheon_gc[bucheon_gc['가맹점업종명']=='직물']['결제총액'].sum()/ \\\n",
    "general[general['가맹점업종명']=='직물']['결제총액'].sum()"
   ]
  },
  {
   "cell_type": "code",
   "execution_count": 55,
   "metadata": {},
   "outputs": [
    {
     "data": {
      "text/html": [
       "<div>\n",
       "<style scoped>\n",
       "    .dataframe tbody tr th:only-of-type {\n",
       "        vertical-align: middle;\n",
       "    }\n",
       "\n",
       "    .dataframe tbody tr th {\n",
       "        vertical-align: top;\n",
       "    }\n",
       "\n",
       "    .dataframe thead th {\n",
       "        text-align: right;\n",
       "    }\n",
       "</style>\n",
       "<table border=\"1\" class=\"dataframe\">\n",
       "  <thead>\n",
       "    <tr style=\"text-align: right;\">\n",
       "      <th></th>\n",
       "      <th>weekly_from_mon</th>\n",
       "      <th>가맹점업종명</th>\n",
       "      <th>결제상품명</th>\n",
       "      <th>결제총액</th>\n",
       "      <th>결제횟수</th>\n",
       "    </tr>\n",
       "  </thead>\n",
       "  <tbody>\n",
       "  </tbody>\n",
       "</table>\n",
       "</div>"
      ],
      "text/plain": [
       "Empty DataFrame\n",
       "Columns: [weekly_from_mon, 가맹점업종명, 결제상품명, 결제총액, 결제횟수]\n",
       "Index: []"
      ]
     },
     "execution_count": 55,
     "metadata": {},
     "output_type": "execute_result"
    }
   ],
   "source": [
    "bucheon_gc[bucheon_gc['가맹점업종명']=='자동차정비']"
   ]
  },
  {
   "cell_type": "code",
   "execution_count": 60,
   "metadata": {},
   "outputs": [
    {
     "data": {
      "text/plain": [
       "1540265803"
      ]
     },
     "execution_count": 60,
     "metadata": {},
     "output_type": "execute_result"
    }
   ],
   "source": [
    "bucheon_gc[bucheon_gc['가맹점업종명']=='유통업 영리']['결제총액'].sum()"
   ]
  },
  {
   "cell_type": "code",
   "execution_count": 61,
   "metadata": {},
   "outputs": [
    {
     "data": {
      "text/plain": [
       "247600"
      ]
     },
     "execution_count": 61,
     "metadata": {},
     "output_type": "execute_result"
    }
   ],
   "source": [
    "bucheon_gc[bucheon_gc['가맹점업종명']=='유통업 비영리']['결제총액'].sum()"
   ]
  },
  {
   "cell_type": "code",
   "execution_count": 62,
   "metadata": {},
   "outputs": [
    {
     "data": {
      "text/plain": [
       "9403413062"
      ]
     },
     "execution_count": 62,
     "metadata": {},
     "output_type": "execute_result"
    }
   ],
   "source": [
    "general[general['가맹점업종명']=='유통업 영리']['결제총액'].sum()"
   ]
  },
  {
   "cell_type": "code",
   "execution_count": 63,
   "metadata": {},
   "outputs": [
    {
     "data": {
      "text/plain": [
       "1283293678"
      ]
     },
     "execution_count": 63,
     "metadata": {},
     "output_type": "execute_result"
    }
   ],
   "source": [
    "general[general['가맹점업종명']=='유통업 비영리']['결제총액'].sum()"
   ]
  },
  {
   "cell_type": "code",
   "execution_count": 64,
   "metadata": {},
   "outputs": [
    {
     "data": {
      "text/plain": [
       "0.14415230439831458"
      ]
     },
     "execution_count": 64,
     "metadata": {},
     "output_type": "execute_result"
    }
   ],
   "source": [
    "(1540265803+247600)/(9403413062+1283293678)"
   ]
  },
  {
   "cell_type": "code",
   "execution_count": null,
   "metadata": {},
   "outputs": [],
   "source": []
  }
 ],
 "metadata": {
  "kernelspec": {
   "display_name": "Python 3",
   "language": "python",
   "name": "python3"
  },
  "language_info": {
   "codemirror_mode": {
    "name": "ipython",
    "version": 3
   },
   "file_extension": ".py",
   "mimetype": "text/x-python",
   "name": "python",
   "nbconvert_exporter": "python",
   "pygments_lexer": "ipython3",
   "version": "3.8.3"
  }
 },
 "nbformat": 4,
 "nbformat_minor": 4
}
