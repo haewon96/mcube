{
 "cells": [
  {
   "cell_type": "code",
   "execution_count": 1,
   "metadata": {},
   "outputs": [],
   "source": [
    "import pandas as pd\n",
    "from pandas import Series, DataFrame\n",
    "import numpy as np\n",
    "from datetime import datetime"
   ]
  },
  {
   "cell_type": "code",
   "execution_count": 2,
   "metadata": {},
   "outputs": [],
   "source": [
    "import matplotlib\n",
    "import matplotlib.pyplot as plt\n",
    "matplotlib.rcParams['font.family'] = 'Malgun Gothic'\n",
    "%matplotlib inline"
   ]
  },
  {
   "cell_type": "code",
   "execution_count": 6,
   "metadata": {},
   "outputs": [],
   "source": [
    "import import_ipynb\n",
    "\n",
    "import 매출비율_표준값\n",
    "import 사업체수비율_표준값"
   ]
  },
  {
   "cell_type": "code",
   "execution_count": 7,
   "metadata": {},
   "outputs": [
    {
     "name": "stdout",
     "output_type": "stream",
     "text": [
      "<class 'pandas.core.frame.DataFrame'>\n",
      "RangeIndex: 15879 entries, 0 to 15878\n",
      "Data columns (total 5 columns):\n",
      " #   Column           Non-Null Count  Dtype         \n",
      "---  ------           --------------  -----         \n",
      " 0   weekly_from_mon  15879 non-null  datetime64[ns]\n",
      " 1   가맹점업종명           15879 non-null  object        \n",
      " 2   결제상품명            15879 non-null  object        \n",
      " 3   결제총액             15879 non-null  int64         \n",
      " 4   결제횟수             15879 non-null  int64         \n",
      "dtypes: datetime64[ns](1), int64(2), object(2)\n",
      "memory usage: 620.4+ KB\n",
      "<class 'pandas.core.frame.DataFrame'>\n",
      "RangeIndex: 22 entries, 0 to 21\n",
      "Data columns (total 23 columns):\n",
      " #   Column      Non-Null Count  Dtype  \n",
      "---  ------      --------------  -----  \n",
      " 0   Unnamed: 0  22 non-null     object \n",
      " 1   가구          22 non-null     float64\n",
      " 2   광학제품        22 non-null     float64\n",
      " 3   의료기관        22 non-null     float64\n",
      " 4   레저업소        22 non-null     float64\n",
      " 5   레저용품        22 non-null     float64\n",
      " 6   문화취미        22 non-null     float64\n",
      " 7   보건위생        22 non-null     float64\n",
      " 8   사무통신        22 non-null     float64\n",
      " 9   서적문구        22 non-null     float64\n",
      " 10  수리서비스       22 non-null     float64\n",
      " 11  숙박          22 non-null     float64\n",
      " 12  신변잡화        22 non-null     float64\n",
      " 13  연료판매        22 non-null     float64\n",
      " 14  유통업         22 non-null     float64\n",
      " 15  음료식품        22 non-null     float64\n",
      " 16  의류          22 non-null     float64\n",
      " 17  요식업         22 non-null     float64\n",
      " 18  자동차정비       22 non-null     float64\n",
      " 19  자동차판매       22 non-null     float64\n",
      " 20  전기가전        22 non-null     float64\n",
      " 21  주방용구        22 non-null     float64\n",
      " 22  직물          22 non-null     float64\n",
      "dtypes: float64(22), object(1)\n",
      "memory usage: 4.1+ KB\n",
      "<class 'pandas.core.frame.DataFrame'>\n",
      "Int64Index: 12962 entries, 0 to 15832\n",
      "Data columns (total 5 columns):\n",
      " #   Column           Non-Null Count  Dtype         \n",
      "---  ------           --------------  -----         \n",
      " 0   weekly_from_mon  12962 non-null  datetime64[ns]\n",
      " 1   가맹점업종명           12962 non-null  object        \n",
      " 2   결제상품명            12962 non-null  object        \n",
      " 3   결제총액             12962 non-null  int64         \n",
      " 4   결제횟수             12962 non-null  int64         \n",
      "dtypes: datetime64[ns](1), int64(2), object(2)\n",
      "memory usage: 607.6+ KB\n",
      "<class 'pandas.core.frame.DataFrame'>\n",
      "Int64Index: 12962 entries, 0 to 15832\n",
      "Data columns (total 5 columns):\n",
      " #   Column           Non-Null Count  Dtype         \n",
      "---  ------           --------------  -----         \n",
      " 0   weekly_from_mon  12962 non-null  datetime64[ns]\n",
      " 1   가맹점업종명           12962 non-null  object        \n",
      " 2   결제상품명            12962 non-null  object        \n",
      " 3   결제총액             12962 non-null  int64         \n",
      " 4   결제횟수             12962 non-null  int64         \n",
      "dtypes: datetime64[ns](1), int64(2), object(2)\n",
      "memory usage: 1.2+ MB\n",
      "<class 'pandas.core.frame.DataFrame'>\n",
      "Int64Index: 12962 entries, 0 to 15832\n",
      "Data columns (total 5 columns):\n",
      " #   Column           Non-Null Count  Dtype         \n",
      "---  ------           --------------  -----         \n",
      " 0   weekly_from_mon  12962 non-null  datetime64[ns]\n",
      " 1   가맹점업종명           12962 non-null  object        \n",
      " 2   결제상품명            12962 non-null  object        \n",
      " 3   결제총액             12962 non-null  int64         \n",
      " 4   결제횟수             12962 non-null  int64         \n",
      "dtypes: datetime64[ns](1), int64(2), object(2)\n",
      "memory usage: 1.2+ MB\n",
      "<class 'pandas.core.frame.DataFrame'>\n",
      "Index: 24 entries, Thank You Pay-N to 행복화성지역화폐\n",
      "Data columns (total 22 columns):\n",
      " #   Column  Non-Null Count  Dtype  \n",
      "---  ------  --------------  -----  \n",
      " 0   가구      24 non-null     float64\n",
      " 1   광학제품    24 non-null     float64\n",
      " 2   레저업소    24 non-null     float64\n",
      " 3   레저용품    24 non-null     float64\n",
      " 4   문화취미    24 non-null     float64\n",
      " 5   보건위생    24 non-null     float64\n",
      " 6   사무통신    24 non-null     float64\n",
      " 7   서적문구    24 non-null     float64\n",
      " 8   수리서비스   24 non-null     float64\n",
      " 9   숙박      24 non-null     float64\n",
      " 10  신변잡화    24 non-null     float64\n",
      " 11  연료판매    24 non-null     float64\n",
      " 12  요식업     24 non-null     float64\n",
      " 13  유통업     24 non-null     float64\n",
      " 14  음료식품    24 non-null     float64\n",
      " 15  의료기관    24 non-null     float64\n",
      " 16  의류      24 non-null     float64\n",
      " 17  자동차정비   24 non-null     float64\n",
      " 18  자동차판매   24 non-null     float64\n",
      " 19  전기가전    24 non-null     float64\n",
      " 20  주방용구    24 non-null     float64\n",
      " 21  직물      24 non-null     float64\n",
      "dtypes: float64(22)\n",
      "memory usage: 4.3+ KB\n"
     ]
    }
   ],
   "source": [
    "import json\n",
    "\n",
    "k1 = json.load(open('매출비율_표준값.ipynb', 'r', encoding='utf-8'))\n",
    "all_code_lst1 =[]\n",
    "\n",
    "for cell1 in k1['cells']:\n",
    "    if cell1['cell_type']=='code':\n",
    "        all_code_lst1.append(\"\".join(cell1['source']))\n",
    "        \n",
    "all_code1 = \"\\n\".join(all_code_lst1)\n",
    "exec(all_code1)"
   ]
  },
  {
   "cell_type": "code",
   "execution_count": 8,
   "metadata": {},
   "outputs": [
    {
     "ename": "FileNotFoundError",
     "evalue": "[Errno 2] No such file or directory: '../../data/interindustry_analysis/매출비율_표준값.ipynb'",
     "output_type": "error",
     "traceback": [
      "\u001b[1;31m---------------------------------------------------------------------------\u001b[0m",
      "\u001b[1;31mFileNotFoundError\u001b[0m                         Traceback (most recent call last)",
      "\u001b[1;32m<ipython-input-8-93080e1d0822>\u001b[0m in \u001b[0;36m<module>\u001b[1;34m\u001b[0m\n\u001b[0;32m      7\u001b[0m \u001b[1;33m\u001b[0m\u001b[0m\n\u001b[0;32m      8\u001b[0m \u001b[0mall_code2\u001b[0m \u001b[1;33m=\u001b[0m \u001b[1;34m\"\\n\"\u001b[0m\u001b[1;33m.\u001b[0m\u001b[0mjoin\u001b[0m\u001b[1;33m(\u001b[0m\u001b[0mall_code_lst2\u001b[0m\u001b[1;33m)\u001b[0m\u001b[1;33m\u001b[0m\u001b[1;33m\u001b[0m\u001b[0m\n\u001b[1;32m----> 9\u001b[1;33m \u001b[0mexec\u001b[0m\u001b[1;33m(\u001b[0m\u001b[0mall_code2\u001b[0m\u001b[1;33m)\u001b[0m\u001b[1;33m\u001b[0m\u001b[1;33m\u001b[0m\u001b[0m\n\u001b[0m",
      "\u001b[1;32m<string>\u001b[0m in \u001b[0;36m<module>\u001b[1;34m\u001b[0m\n",
      "\u001b[1;31mFileNotFoundError\u001b[0m: [Errno 2] No such file or directory: '../../data/interindustry_analysis/매출비율_표준값.ipynb'"
     ]
    }
   ],
   "source": [
    "k2 = json.load(open('사업체수비율_표준값.ipynb', 'r', encoding='utf-8'))\n",
    "all_code_lst2 =[]\n",
    "\n",
    "for cell2 in k2['cells']:\n",
    "    if cell2['cell_type']=='code':\n",
    "        all_code_lst2.append(\"\".join(cell2['source']))\n",
    "        \n",
    "all_code2 = \"\\n\".join(all_code_lst2)\n",
    "exec(all_code2)"
   ]
  },
  {
   "cell_type": "markdown",
   "metadata": {},
   "source": [
    "# 경기지역화폐 지역별 업종별 매출비율 표준값\n",
    "\n",
    "## 매출비율_표준값.ipynb"
   ]
  },
  {
   "cell_type": "code",
   "execution_count": null,
   "metadata": {},
   "outputs": [],
   "source": [
    "매출비율_표준값"
   ]
  },
  {
   "cell_type": "code",
   "execution_count": null,
   "metadata": {},
   "outputs": [],
   "source": [
    "매출비율_표준값.info()"
   ]
  },
  {
   "cell_type": "code",
   "execution_count": null,
   "metadata": {},
   "outputs": [],
   "source": [
    "매출비율_표준값.shape"
   ]
  },
  {
   "cell_type": "markdown",
   "metadata": {},
   "source": [
    "# 경기지역화폐 가맹점 지역별 업종별 사업체수비율 표준값\n",
    "\n",
    "## 사업체수비율_표준값.ipynb"
   ]
  },
  {
   "cell_type": "code",
   "execution_count": null,
   "metadata": {},
   "outputs": [],
   "source": [
    "사업체수비율_표준값"
   ]
  },
  {
   "cell_type": "code",
   "execution_count": null,
   "metadata": {},
   "outputs": [],
   "source": [
    "사업체수비율_표준값.info()"
   ]
  },
  {
   "cell_type": "code",
   "execution_count": null,
   "metadata": {},
   "outputs": [],
   "source": [
    "매출비율_표준값.shape"
   ]
  },
  {
   "cell_type": "markdown",
   "metadata": {},
   "source": [
    "# 경기지역 부가가치유발계수"
   ]
  },
  {
   "cell_type": "code",
   "execution_count": null,
   "metadata": {},
   "outputs": [],
   "source": [
    "vaic"
   ]
  },
  {
   "cell_type": "code",
   "execution_count": null,
   "metadata": {},
   "outputs": [],
   "source": [
    "vaic['Unnamed: 0']"
   ]
  },
  {
   "cell_type": "code",
   "execution_count": null,
   "metadata": {},
   "outputs": [],
   "source": [
    "vaic.rename(columns = {'Unnamed: 0' : '업종'}, inplace = True)\n",
    "vaic"
   ]
  },
  {
   "cell_type": "code",
   "execution_count": null,
   "metadata": {},
   "outputs": [],
   "source": [
    "부가가치유발계수 = vaic.set_index('업종')\n",
    "부가가치유발계수"
   ]
  },
  {
   "cell_type": "code",
   "execution_count": null,
   "metadata": {},
   "outputs": [],
   "source": [
    "부가가치유발계수.info()"
   ]
  },
  {
   "cell_type": "code",
   "execution_count": null,
   "metadata": {},
   "outputs": [],
   "source": [
    "부가가치유발계수.shape"
   ]
  },
  {
   "cell_type": "markdown",
   "metadata": {},
   "source": [
    "# 매출비율 표준값, 사업체수비율 표준값 데이터프레임 행이름 열이름 통합"
   ]
  },
  {
   "cell_type": "markdown",
   "metadata": {},
   "source": [
    "## 행이름 통합 - 부가가치유발계수 업종명 순서 일치"
   ]
  },
  {
   "cell_type": "code",
   "execution_count": null,
   "metadata": {},
   "outputs": [],
   "source": [
    "reindex = 부가가치유발계수.index\n",
    "reindex"
   ]
  },
  {
   "cell_type": "code",
   "execution_count": null,
   "metadata": {},
   "outputs": [],
   "source": [
    "매출비율표준값 = 매출비율_표준값.reindex(index = reindex)\n",
    "매출비율표준값"
   ]
  },
  {
   "cell_type": "code",
   "execution_count": null,
   "metadata": {},
   "outputs": [],
   "source": [
    "사업체수비율표준값 = 사업체수비율_표준값.reindex(index = reindex)\n",
    "사업체수비율표준값"
   ]
  },
  {
   "cell_type": "markdown",
   "metadata": {},
   "source": [
    "## 열이름 통합 - 경기지역화폐 가맹점 지역명 순서 일치"
   ]
  },
  {
   "cell_type": "code",
   "execution_count": null,
   "metadata": {},
   "outputs": [],
   "source": [
    "recolumn = 사업체수비율_표준값.columns\n",
    "recolumn"
   ]
  },
  {
   "cell_type": "code",
   "execution_count": null,
   "metadata": {},
   "outputs": [],
   "source": [
    "매출비율표준값 = 매출비율표준값[recolumn]\n",
    "매출비율표준값"
   ]
  },
  {
   "cell_type": "code",
   "execution_count": null,
   "metadata": {},
   "outputs": [],
   "source": [
    "사업체수비율표준값 = 사업체수비율표준값[recolumn]\n",
    "사업체수비율표준값"
   ]
  },
  {
   "cell_type": "markdown",
   "metadata": {},
   "source": [
    "# 업종비율\n",
    "\n",
    "## (매출비율 표준값 + 사업체수비율 표준값) / 2\n",
    "##  업종비율지수 분자"
   ]
  },
  {
   "cell_type": "code",
   "execution_count": null,
   "metadata": {},
   "outputs": [],
   "source": [
    "업종비율 = round((매출비율표준값 + 사업체수비율표준값) / 2, 4)\n",
    "업종비율"
   ]
  },
  {
   "cell_type": "markdown",
   "metadata": {},
   "source": [
    "# 업종비율 최대값\n",
    "\n",
    "## 업종비율지수 분모"
   ]
  },
  {
   "cell_type": "code",
   "execution_count": null,
   "metadata": {},
   "outputs": [],
   "source": [
    "업종비율최대값 = 업종비율.max(axis = 0)\n",
    "업종비율최대값"
   ]
  },
  {
   "cell_type": "code",
   "execution_count": null,
   "metadata": {},
   "outputs": [],
   "source": [
    "업종비율최대값_df = DataFrame(업종비율최대값)\n",
    "업종비율최대값df = 업종비율최대값_df.transpose()\n",
    "업종비율최대값df.index = ['업종비율최대값']\n",
    "업종비율최대값df"
   ]
  },
  {
   "cell_type": "markdown",
   "metadata": {},
   "source": [
    "# 업종비율지수\n",
    "\n",
    "## 해당업종의 업종비율 / 업종비율 최대값"
   ]
  },
  {
   "cell_type": "code",
   "execution_count": null,
   "metadata": {},
   "outputs": [],
   "source": [
    "업종비율지수 = DataFrame(index = reindex, columns = recolumn)\n",
    "\n",
    "for r in recolumn :\n",
    "    업종비율지수[r] = DataFrame(round(업종비율[r] / 업종비율최대값[r], 4))"
   ]
  },
  {
   "cell_type": "code",
   "execution_count": null,
   "metadata": {},
   "outputs": [],
   "source": [
    "업종비율지수"
   ]
  },
  {
   "cell_type": "code",
   "execution_count": null,
   "metadata": {},
   "outputs": [],
   "source": [
    "업종비율지수.to_csv(DATA_PATH + '업종비율지수_경기지역전체.csv')"
   ]
  },
  {
   "cell_type": "code",
   "execution_count": null,
   "metadata": {},
   "outputs": [],
   "source": [
    "업종비율지수.plot(kind = 'bar', figsize = (15, 10))"
   ]
  },
  {
   "cell_type": "code",
   "execution_count": null,
   "metadata": {},
   "outputs": [],
   "source": [
    "업종비율지수.plot(kind = 'barh', figsize = (15, 10))"
   ]
  },
  {
   "cell_type": "code",
   "execution_count": null,
   "metadata": {},
   "outputs": [],
   "source": [
    "업종비율지수.T.plot(kind = 'bar', figsize = (15, 10))"
   ]
  },
  {
   "cell_type": "code",
   "execution_count": null,
   "metadata": {},
   "outputs": [],
   "source": [
    "업종비율지수.T.plot(kind = 'barh', figsize = (15, 10))"
   ]
  },
  {
   "cell_type": "markdown",
   "metadata": {},
   "source": [
    "# 광명, 구리, 의정부, 과천 업종비율지수\n",
    "\n",
    "### ('노원구', '서울특별시')와 가장 유사한 지역 ==> ('광명시', '경기도')\n",
    "###   ('중구', '서울특별시')와 가장 유사한 지역 ==> ('구리시', '경기도')\n",
    "### ('수성구', '대구광역시')와 가장 유사한 지역 ==> ('의정부시', '경기도')\n",
    "###   ('중구', '대구광역시')와 가장 유사한 지역 ==> ('과천시', '경기도')"
   ]
  },
  {
   "cell_type": "code",
   "execution_count": null,
   "metadata": {},
   "outputs": [],
   "source": [
    "업종비율지수_클러스터링4개지역 = 업종비율지수[['광명', '구리', '의정부', '과천']]\n",
    "업종비율지수_클러스터링4개지역"
   ]
  },
  {
   "cell_type": "code",
   "execution_count": null,
   "metadata": {},
   "outputs": [],
   "source": [
    "업종비율지수_클러스터링4개지역.to_csv(DATA_PATH + '업종비율지수_클러스터링4개지역.csv')"
   ]
  },
  {
   "cell_type": "code",
   "execution_count": null,
   "metadata": {},
   "outputs": [],
   "source": [
    "업종비율지수_클러스터링4개지역.plot(kind = 'bar', figsize = (15, 10))"
   ]
  },
  {
   "cell_type": "code",
   "execution_count": null,
   "metadata": {},
   "outputs": [],
   "source": [
    "업종비율지수_클러스터링4개지역.plot(kind = 'barh', figsize = (15, 10))"
   ]
  },
  {
   "cell_type": "code",
   "execution_count": null,
   "metadata": {},
   "outputs": [],
   "source": [
    "업종비율지수_클러스터링4개지역.T.plot(kind = 'bar', figsize = (15, 10))"
   ]
  },
  {
   "cell_type": "code",
   "execution_count": null,
   "metadata": {},
   "outputs": [],
   "source": [
    "업종비율지수_클러스터링4개지역.T.plot(kind = 'barh', figsize = (15, 10))"
   ]
  }
 ],
 "metadata": {
  "kernelspec": {
   "display_name": "Python 3",
   "language": "python",
   "name": "python3"
  },
  "language_info": {
   "codemirror_mode": {
    "name": "ipython",
    "version": 3
   },
   "file_extension": ".py",
   "mimetype": "text/x-python",
   "name": "python",
   "nbconvert_exporter": "python",
   "pygments_lexer": "ipython3",
   "version": "3.7.6"
  }
 },
 "nbformat": 4,
 "nbformat_minor": 4
}
